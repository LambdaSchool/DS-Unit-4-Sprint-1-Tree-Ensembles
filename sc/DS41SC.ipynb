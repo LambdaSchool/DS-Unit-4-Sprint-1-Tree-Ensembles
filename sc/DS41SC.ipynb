{
  "nbformat": 4,
  "nbformat_minor": 0,
  "metadata": {
    "colab": {
      "name": "DS41SC.ipynb",
      "version": "0.3.2",
      "provenance": [],
      "collapsed_sections": [],
      "include_colab_link": true
    },
    "kernelspec": {
      "display_name": "Python 3",
      "language": "python",
      "name": "python3"
    }
  },
  "cells": [
    {
      "cell_type": "markdown",
      "metadata": {
        "id": "view-in-github",
        "colab_type": "text"
      },
      "source": [
        "<a href=\"https://colab.research.google.com/github/zarrinan/DS-Unit-4-Sprint-1-Tree-Ensembles/blob/master/sc/DS41SC.ipynb\" target=\"_parent\"><img src=\"https://colab.research.google.com/assets/colab-badge.svg\" alt=\"Open In Colab\"/></a>"
      ]
    },
    {
      "metadata": {
        "id": "IyBwxz6sTz_T",
        "colab_type": "text"
      },
      "cell_type": "markdown",
      "source": [
        "# Data Science Unit 4 Sprint Challenge 1 — Tree Ensembles"
      ]
    },
    {
      "metadata": {
        "id": "7Hrc5FtRTz_V",
        "colab_type": "text"
      },
      "cell_type": "markdown",
      "source": [
        "### Chicago Food Inspections\n",
        "\n",
        "For this Sprint Challenge, you'll use a dataset with information from inspections of restaurants and other food establishments in Chicago from January 1, 2010 to the present. \n",
        "\n",
        "[See this PDF](https://data.cityofchicago.org/api/assets/BAD5301B-681A-4202-9D25-51B2CAE672FF) for descriptions of the data elements included in this dataset.\n",
        "\n",
        "According to [Chicago Department of Public Health — Food Protection Services](https://www.chicago.gov/city/en/depts/cdph/provdrs/healthy_restaurants/svcs/food-protection-services.html), \"Chicago is home to 16,000 food establishments like restaurants, grocery stores, bakeries, wholesalers, lunchrooms, mobile food vendors and more. Our business is food safety and sanitation with one goal, to prevent the spread of food-borne disease. We do this by inspecting food businesses, responding to complaints and food recalls.\" "
      ]
    },
    {
      "metadata": {
        "id": "sGRT3g0ZTz_X",
        "colab_type": "text"
      },
      "cell_type": "markdown",
      "source": [
        "#### Your challenge: Predict whether inspections failed\n",
        "\n",
        "The target is the `Fail` column.\n",
        "\n",
        "- When the food establishment failed the inspection, the target is `1`.\n",
        "- When the establishment passed, the target is `0`."
      ]
    },
    {
      "metadata": {
        "id": "fUEqYbdHctDB",
        "colab_type": "code",
        "colab": {}
      },
      "cell_type": "code",
      "source": [
        "!pip install category_encoders"
      ],
      "execution_count": 0,
      "outputs": []
    },
    {
      "metadata": {
        "id": "9Se-HhUMct3D",
        "colab_type": "code",
        "colab": {}
      },
      "cell_type": "code",
      "source": [
        "import pandas as pd\n",
        "import numpy as np\n",
        "import category_encoders as ce\n",
        "import re"
      ],
      "execution_count": 0,
      "outputs": []
    },
    {
      "metadata": {
        "id": "WGWu8EXaTz_Y",
        "colab_type": "text"
      },
      "cell_type": "markdown",
      "source": [
        "#### Run this cell to load the data:"
      ]
    },
    {
      "metadata": {
        "id": "oWVX3LQHTz_Z",
        "colab_type": "code",
        "colab": {}
      },
      "cell_type": "code",
      "source": [
        "import pandas as pd\n",
        "\n",
        "train_url = 'https://drive.google.com/uc?export=download&id=13_tP9JpLcZHSPVpWcua4t2rY44K_s4H5'\n",
        "test_url  = 'https://drive.google.com/uc?export=download&id=1GkDHjsiGrzOXoF_xcYjdzBTSjOIi3g5a'\n",
        "\n",
        "train = pd.read_csv(train_url, index_col=0)\n",
        "test  = pd.read_csv(test_url, index_col=0)\n",
        "\n",
        "assert train.shape == (51916, 16)\n",
        "assert test.shape  == (17306, 16)"
      ],
      "execution_count": 0,
      "outputs": []
    },
    {
      "metadata": {
        "id": "fLeTcsyzTz_g",
        "colab_type": "text"
      },
      "cell_type": "markdown",
      "source": [
        "### Part 1: Preprocessing\n",
        "\n",
        "You may choose which features you want to use, and whether/how you will preprocess them. You may use any tools and techniques for categorical encoding. (Pandas, category_encoders, sklearn.preprocessing, or any other library.)\n",
        "\n",
        "_To earn a score of 3 for this part, engineer new features, and use any alternative categorical encoding instead of One-Hot or Ordinal/Label encoding._\n",
        "\n",
        "### Part 2: Modeling\n",
        "\n",
        "Fit a Random Forest or Gradient Boosting model with the train set. (You may use scikit-learn, xgboost, or any other library.) Use cross-validation to estimate an ROC AUC validation score.\n",
        "\n",
        "Use your model to predict probabilities for the test set. Get an ROC AUC test score >= 0.60.\n",
        "\n",
        "_To earn a score of 3 for this part, get an ROC AUC test score >= 0.70._\n",
        "\n",
        "\n",
        "### Part 3: Visualization\n",
        "\n",
        "Make one visualization for model interpretation. (You may use any libraries.) Choose one of these types:\n",
        "- Feature Importances\n",
        "- Permutation Importances\n",
        "- Partial Dependence Plot\n",
        "\n",
        "_To earn a score of 3 for this part, make at least two of these visualization types._"
      ]
    },
    {
      "metadata": {
        "id": "Uf8PB36_VcF9",
        "colab_type": "text"
      },
      "cell_type": "markdown",
      "source": [
        "### Part 1: Preprocessing\n",
        "\n",
        "You may choose which features you want to use, and whether/how you will preprocess them. You may use any tools and techniques for categorical encoding. (Pandas, category_encoders, sklearn.preprocessing, or any other library.)\n",
        "\n",
        "_To earn a score of 3 for this part, engineer new features, and use any alternative categorical encoding instead of One-Hot or Ordinal/Label encoding._"
      ]
    },
    {
      "metadata": {
        "id": "I6wo3XRRqmw6",
        "colab_type": "code",
        "outputId": "bdc39f32-b28b-480a-e61e-0e94bc6df333",
        "colab": {
          "base_uri": "https://localhost:8080/",
          "height": 422
        }
      },
      "cell_type": "code",
      "source": [
        "train.head()"
      ],
      "execution_count": 0,
      "outputs": [
        {
          "output_type": "execute_result",
          "data": {
            "text/html": [
              "<div>\n",
              "<style scoped>\n",
              "    .dataframe tbody tr th:only-of-type {\n",
              "        vertical-align: middle;\n",
              "    }\n",
              "\n",
              "    .dataframe tbody tr th {\n",
              "        vertical-align: top;\n",
              "    }\n",
              "\n",
              "    .dataframe thead th {\n",
              "        text-align: right;\n",
              "    }\n",
              "</style>\n",
              "<table border=\"1\" class=\"dataframe\">\n",
              "  <thead>\n",
              "    <tr style=\"text-align: right;\">\n",
              "      <th></th>\n",
              "      <th>DBA Name</th>\n",
              "      <th>AKA Name</th>\n",
              "      <th>License #</th>\n",
              "      <th>Facility Type</th>\n",
              "      <th>Risk</th>\n",
              "      <th>Address</th>\n",
              "      <th>City</th>\n",
              "      <th>State</th>\n",
              "      <th>Zip</th>\n",
              "      <th>Inspection Date</th>\n",
              "      <th>Inspection Type</th>\n",
              "      <th>Violations</th>\n",
              "      <th>Latitude</th>\n",
              "      <th>Longitude</th>\n",
              "      <th>Location</th>\n",
              "      <th>Fail</th>\n",
              "    </tr>\n",
              "    <tr>\n",
              "      <th>Inspection ID</th>\n",
              "      <th></th>\n",
              "      <th></th>\n",
              "      <th></th>\n",
              "      <th></th>\n",
              "      <th></th>\n",
              "      <th></th>\n",
              "      <th></th>\n",
              "      <th></th>\n",
              "      <th></th>\n",
              "      <th></th>\n",
              "      <th></th>\n",
              "      <th></th>\n",
              "      <th></th>\n",
              "      <th></th>\n",
              "      <th></th>\n",
              "      <th></th>\n",
              "    </tr>\n",
              "  </thead>\n",
              "  <tbody>\n",
              "    <tr>\n",
              "      <th>2088270</th>\n",
              "      <td>TOM YUM RICE &amp; NOODLE, INC.</td>\n",
              "      <td>TOM YUM CAFE</td>\n",
              "      <td>2354911.0</td>\n",
              "      <td>Restaurant</td>\n",
              "      <td>Risk 1 (High)</td>\n",
              "      <td>608 W BARRY</td>\n",
              "      <td>CHICAGO</td>\n",
              "      <td>IL</td>\n",
              "      <td>60657.0</td>\n",
              "      <td>2017-09-15T00:00:00</td>\n",
              "      <td>Canvass</td>\n",
              "      <td>3. POTENTIALLY HAZARDOUS FOOD MEETS TEMPERATUR...</td>\n",
              "      <td>41.938007</td>\n",
              "      <td>-87.644755</td>\n",
              "      <td>{'longitude': '-87.6447545707008', 'latitude':...</td>\n",
              "      <td>1</td>\n",
              "    </tr>\n",
              "    <tr>\n",
              "      <th>555268</th>\n",
              "      <td>FILLING STATION  &amp; CONVENIENCE  STORE</td>\n",
              "      <td>FILLING STATION  &amp; CONVENIENCE  STORE</td>\n",
              "      <td>1044901.0</td>\n",
              "      <td>Grocery Store</td>\n",
              "      <td>Risk 3 (Low)</td>\n",
              "      <td>6646-6658 S WESTERN AVE</td>\n",
              "      <td>CHICAGO</td>\n",
              "      <td>IL</td>\n",
              "      <td>60636.0</td>\n",
              "      <td>2011-10-20T00:00:00</td>\n",
              "      <td>Complaint Re-Inspection</td>\n",
              "      <td>32. FOOD AND NON-FOOD CONTACT SURFACES PROPERL...</td>\n",
              "      <td>41.772402</td>\n",
              "      <td>-87.683603</td>\n",
              "      <td>{'longitude': '-87.68360273081268', 'latitude'...</td>\n",
              "      <td>0</td>\n",
              "    </tr>\n",
              "    <tr>\n",
              "      <th>1751394</th>\n",
              "      <td>A P DELI</td>\n",
              "      <td>A P DELI</td>\n",
              "      <td>47405.0</td>\n",
              "      <td>Restaurant</td>\n",
              "      <td>Risk 1 (High)</td>\n",
              "      <td>2025 E 75TH ST</td>\n",
              "      <td>CHICAGO</td>\n",
              "      <td>IL</td>\n",
              "      <td>60649.0</td>\n",
              "      <td>2016-04-05T00:00:00</td>\n",
              "      <td>Canvass Re-Inspection</td>\n",
              "      <td>35. WALLS, CEILINGS, ATTACHED EQUIPMENT CONSTR...</td>\n",
              "      <td>41.758779</td>\n",
              "      <td>-87.575054</td>\n",
              "      <td>{'longitude': '-87.57505446746121', 'latitude'...</td>\n",
              "      <td>0</td>\n",
              "    </tr>\n",
              "    <tr>\n",
              "      <th>1763905</th>\n",
              "      <td>FRANK'S CHICAGO SHRIMP HOUSE</td>\n",
              "      <td>FRANK'S CHICAGO SHRIMP HOUSE</td>\n",
              "      <td>6414.0</td>\n",
              "      <td>Restaurant</td>\n",
              "      <td>Risk 2 (Medium)</td>\n",
              "      <td>4459 S ARCHER AVE</td>\n",
              "      <td>CHICAGO</td>\n",
              "      <td>IL</td>\n",
              "      <td>60632.0</td>\n",
              "      <td>2016-04-29T00:00:00</td>\n",
              "      <td>Canvass</td>\n",
              "      <td>38. VENTILATION: ROOMS AND EQUIPMENT VENTED AS...</td>\n",
              "      <td>41.812181</td>\n",
              "      <td>-87.707125</td>\n",
              "      <td>{'longitude': '-87.70712481334274', 'latitude'...</td>\n",
              "      <td>0</td>\n",
              "    </tr>\n",
              "    <tr>\n",
              "      <th>453326</th>\n",
              "      <td>MORRILL</td>\n",
              "      <td>MORRILL</td>\n",
              "      <td>24571.0</td>\n",
              "      <td>School</td>\n",
              "      <td>Risk 1 (High)</td>\n",
              "      <td>6011 S Rockwell (2600W) AVE</td>\n",
              "      <td>CHICAGO</td>\n",
              "      <td>IL</td>\n",
              "      <td>60629.0</td>\n",
              "      <td>2011-01-10T00:00:00</td>\n",
              "      <td>Canvass</td>\n",
              "      <td>34. FLOORS: CONSTRUCTED PER CODE, CLEANED, GOO...</td>\n",
              "      <td>NaN</td>\n",
              "      <td>NaN</td>\n",
              "      <td>NaN</td>\n",
              "      <td>0</td>\n",
              "    </tr>\n",
              "  </tbody>\n",
              "</table>\n",
              "</div>"
            ],
            "text/plain": [
              "                                            DBA Name  \\\n",
              "Inspection ID                                          \n",
              "2088270                  TOM YUM RICE & NOODLE, INC.   \n",
              "555268         FILLING STATION  & CONVENIENCE  STORE   \n",
              "1751394                                     A P DELI   \n",
              "1763905                 FRANK'S CHICAGO SHRIMP HOUSE   \n",
              "453326                                       MORRILL   \n",
              "\n",
              "                                            AKA Name  License #  \\\n",
              "Inspection ID                                                     \n",
              "2088270                                 TOM YUM CAFE  2354911.0   \n",
              "555268         FILLING STATION  & CONVENIENCE  STORE  1044901.0   \n",
              "1751394                                     A P DELI    47405.0   \n",
              "1763905                 FRANK'S CHICAGO SHRIMP HOUSE     6414.0   \n",
              "453326                                       MORRILL    24571.0   \n",
              "\n",
              "               Facility Type             Risk                       Address  \\\n",
              "Inspection ID                                                                 \n",
              "2088270           Restaurant    Risk 1 (High)                  608 W BARRY    \n",
              "555268         Grocery Store     Risk 3 (Low)      6646-6658 S WESTERN AVE    \n",
              "1751394           Restaurant    Risk 1 (High)               2025 E 75TH ST    \n",
              "1763905           Restaurant  Risk 2 (Medium)            4459 S ARCHER AVE    \n",
              "453326                School    Risk 1 (High)  6011 S Rockwell (2600W) AVE    \n",
              "\n",
              "                  City State      Zip      Inspection Date  \\\n",
              "Inspection ID                                                \n",
              "2088270        CHICAGO    IL  60657.0  2017-09-15T00:00:00   \n",
              "555268         CHICAGO    IL  60636.0  2011-10-20T00:00:00   \n",
              "1751394        CHICAGO    IL  60649.0  2016-04-05T00:00:00   \n",
              "1763905        CHICAGO    IL  60632.0  2016-04-29T00:00:00   \n",
              "453326         CHICAGO    IL  60629.0  2011-01-10T00:00:00   \n",
              "\n",
              "                       Inspection Type  \\\n",
              "Inspection ID                            \n",
              "2088270                        Canvass   \n",
              "555268         Complaint Re-Inspection   \n",
              "1751394          Canvass Re-Inspection   \n",
              "1763905                        Canvass   \n",
              "453326                         Canvass   \n",
              "\n",
              "                                                      Violations   Latitude  \\\n",
              "Inspection ID                                                                 \n",
              "2088270        3. POTENTIALLY HAZARDOUS FOOD MEETS TEMPERATUR...  41.938007   \n",
              "555268         32. FOOD AND NON-FOOD CONTACT SURFACES PROPERL...  41.772402   \n",
              "1751394        35. WALLS, CEILINGS, ATTACHED EQUIPMENT CONSTR...  41.758779   \n",
              "1763905        38. VENTILATION: ROOMS AND EQUIPMENT VENTED AS...  41.812181   \n",
              "453326         34. FLOORS: CONSTRUCTED PER CODE, CLEANED, GOO...        NaN   \n",
              "\n",
              "               Longitude                                           Location  \\\n",
              "Inspection ID                                                                 \n",
              "2088270       -87.644755  {'longitude': '-87.6447545707008', 'latitude':...   \n",
              "555268        -87.683603  {'longitude': '-87.68360273081268', 'latitude'...   \n",
              "1751394       -87.575054  {'longitude': '-87.57505446746121', 'latitude'...   \n",
              "1763905       -87.707125  {'longitude': '-87.70712481334274', 'latitude'...   \n",
              "453326               NaN                                                NaN   \n",
              "\n",
              "               Fail  \n",
              "Inspection ID        \n",
              "2088270           1  \n",
              "555268            0  \n",
              "1751394           0  \n",
              "1763905           0  \n",
              "453326            0  "
            ]
          },
          "metadata": {
            "tags": []
          },
          "execution_count": 171
        }
      ]
    },
    {
      "metadata": {
        "id": "Z6CfCwBgXxmR",
        "colab_type": "code",
        "outputId": "5afaa5a8-b779-4d88-a481-09d1effc7763",
        "colab": {
          "base_uri": "https://localhost:8080/",
          "height": 306
        }
      },
      "cell_type": "code",
      "source": [
        "train.isna().sum()"
      ],
      "execution_count": 0,
      "outputs": [
        {
          "output_type": "execute_result",
          "data": {
            "text/plain": [
              "DBA Name              0\n",
              "AKA Name            623\n",
              "License #             5\n",
              "Facility Type       224\n",
              "Risk                 12\n",
              "Address               0\n",
              "City                 53\n",
              "State                10\n",
              "Zip                  26\n",
              "Inspection Date       0\n",
              "Inspection Type       1\n",
              "Violations         9655\n",
              "Latitude            198\n",
              "Longitude           198\n",
              "Location            198\n",
              "Fail                  0\n",
              "dtype: int64"
            ]
          },
          "metadata": {
            "tags": []
          },
          "execution_count": 172
        }
      ]
    },
    {
      "metadata": {
        "id": "fmvD5J0Mi2gK",
        "colab_type": "code",
        "colab": {}
      },
      "cell_type": "code",
      "source": [
        "#Feature engineering needs to be done for the following features:\n",
        "\n",
        "to_bin = ['Latitude', 'Longitude']\n",
        "to_extract_int = ['Violations']\n",
        "to_date = ['Inspection Date']\n",
        "to_fill_unknown = ['Risk', 'Facility Type', 'Inspection Type']\n",
        "to_drop = ['AKA Name', 'DBA Name', 'License #','Address', 'City', 'State','Location','Latitude', 'Longitude']"
      ],
      "execution_count": 0,
      "outputs": []
    },
    {
      "metadata": {
        "id": "87B_OBKMThyu",
        "colab_type": "code",
        "outputId": "7807282f-93c7-43ce-a6e2-371bd40f7e20",
        "colab": {
          "base_uri": "https://localhost:8080/",
          "height": 35
        }
      },
      "cell_type": "code",
      "source": [
        "#Separate label and features for train and test data:\n",
        "\n",
        "def separate_features_label(df, target):\n",
        "  return df[df.columns[df.columns != target]], df[df.columns[df.columns == target]]\n",
        "  \n",
        "X_train, Y_train = separate_features_label(train, 'Fail')\n",
        "X_test, Y_test = separate_features_label(test, 'Fail')\n",
        "\n",
        "#check the resulting dataframes' shapes\n",
        "X_train.shape, Y_train.shape, X_test.shape, Y_test.shape"
      ],
      "execution_count": 211,
      "outputs": [
        {
          "output_type": "execute_result",
          "data": {
            "text/plain": [
              "((51916, 15), (51916, 1), (17306, 15), (17306, 1))"
            ]
          },
          "metadata": {
            "tags": []
          },
          "execution_count": 211
        }
      ]
    },
    {
      "metadata": {
        "id": "-oeluamGmfYm",
        "colab_type": "code",
        "outputId": "58cbb138-068d-4373-f893-471bdb477404",
        "colab": {
          "base_uri": "https://localhost:8080/",
          "height": 35
        }
      },
      "cell_type": "code",
      "source": [
        "#Unified data wrangling functio for training and testing data\n",
        "def wrangle(df):\n",
        "  X = df.copy()\n",
        "  \n",
        "  #bin latitude and longitude values\n",
        "  step = 0.5\n",
        "  to_bin = lambda x: np.floor(x / step) * step\n",
        "  X[\"latbin\"] = X['Latitude'].map(to_bin)\n",
        "  X[\"lonbin\"] = X['Longitude'].map(to_bin) \n",
        "  \n",
        "  \n",
        "  #transform date column\n",
        "  X['Inspection Date'] = pd.to_datetime(X['Inspection Date'], infer_datetime_format=True)\n",
        "  X['inspection_day'] = X['Inspection Date'].dt.day\n",
        "  X['inspection_month'] = X['Inspection Date'].dt.month\n",
        "  X['inspection_year'] = X['Inspection Date'].dt.year\n",
        "  X = X.drop('Inspection Date', axis=1)\n",
        "  \n",
        "  #fill na's in categorical features with 'Unknown'\n",
        "  for col in to_fill_unknown:\n",
        "    X[col] = X[col].str.lower()\n",
        "    X[col] = X[col].fillna('Unknown')\n",
        " \n",
        "  # get the number of a violation\n",
        "  #X['violation_num'] = [int(x.group()) for x in re.finditer(r'\\d+', X['Violations'])]\n",
        "  X['violation_num'] = X['Violations'].str.findall('^(\\d+)\\.\\s')\n",
        "  X['violation_num'] = X['violation_num'].fillna('0')\n",
        "  X['violation_num'] = [''.join(map(str, num)) for num in X['violation_num']]\n",
        "  \n",
        "  \n",
        "  #fill na's in numeric features with 0\n",
        "  X['Zip'] = X['Zip'].fillna(0)\n",
        "  X['latbin'] = X['latbin'].fillna(0)\n",
        "  X['lonbin'] = X['lonbin'].fillna(0)\n",
        "  \n",
        "  #drop columns\n",
        "  X.drop(to_drop, axis=1, inplace=True)\n",
        "  X.drop('Violations', axis=1, inplace=True)\n",
        "  \n",
        "  return X\n",
        "\n",
        "X_train = wrangle(X_train)\n",
        "X_test  = wrangle(X_test)\n",
        "X_train.shape, X_test.shape"
      ],
      "execution_count": 212,
      "outputs": [
        {
          "output_type": "execute_result",
          "data": {
            "text/plain": [
              "((51916, 10), (17306, 10))"
            ]
          },
          "metadata": {
            "tags": []
          },
          "execution_count": 212
        }
      ]
    },
    {
      "metadata": {
        "id": "utWQbtwm7BqQ",
        "colab_type": "code",
        "outputId": "bf07e581-a7c1-49be-a3a6-eea639472ff7",
        "colab": {
          "base_uri": "https://localhost:8080/",
          "height": 349
        }
      },
      "cell_type": "code",
      "source": [
        "X_train.head()"
      ],
      "execution_count": 213,
      "outputs": [
        {
          "output_type": "execute_result",
          "data": {
            "text/html": [
              "<div>\n",
              "<style scoped>\n",
              "    .dataframe tbody tr th:only-of-type {\n",
              "        vertical-align: middle;\n",
              "    }\n",
              "\n",
              "    .dataframe tbody tr th {\n",
              "        vertical-align: top;\n",
              "    }\n",
              "\n",
              "    .dataframe thead th {\n",
              "        text-align: right;\n",
              "    }\n",
              "</style>\n",
              "<table border=\"1\" class=\"dataframe\">\n",
              "  <thead>\n",
              "    <tr style=\"text-align: right;\">\n",
              "      <th></th>\n",
              "      <th>Facility Type</th>\n",
              "      <th>Risk</th>\n",
              "      <th>Zip</th>\n",
              "      <th>Inspection Type</th>\n",
              "      <th>latbin</th>\n",
              "      <th>lonbin</th>\n",
              "      <th>inspection_day</th>\n",
              "      <th>inspection_month</th>\n",
              "      <th>inspection_year</th>\n",
              "      <th>violation_num</th>\n",
              "    </tr>\n",
              "    <tr>\n",
              "      <th>Inspection ID</th>\n",
              "      <th></th>\n",
              "      <th></th>\n",
              "      <th></th>\n",
              "      <th></th>\n",
              "      <th></th>\n",
              "      <th></th>\n",
              "      <th></th>\n",
              "      <th></th>\n",
              "      <th></th>\n",
              "      <th></th>\n",
              "    </tr>\n",
              "  </thead>\n",
              "  <tbody>\n",
              "    <tr>\n",
              "      <th>2088270</th>\n",
              "      <td>restaurant</td>\n",
              "      <td>risk 1 (high)</td>\n",
              "      <td>60657.0</td>\n",
              "      <td>canvass</td>\n",
              "      <td>41.5</td>\n",
              "      <td>-88.0</td>\n",
              "      <td>15</td>\n",
              "      <td>9</td>\n",
              "      <td>2017</td>\n",
              "      <td>3</td>\n",
              "    </tr>\n",
              "    <tr>\n",
              "      <th>555268</th>\n",
              "      <td>grocery store</td>\n",
              "      <td>risk 3 (low)</td>\n",
              "      <td>60636.0</td>\n",
              "      <td>complaint re-inspection</td>\n",
              "      <td>41.5</td>\n",
              "      <td>-88.0</td>\n",
              "      <td>20</td>\n",
              "      <td>10</td>\n",
              "      <td>2011</td>\n",
              "      <td>32</td>\n",
              "    </tr>\n",
              "    <tr>\n",
              "      <th>1751394</th>\n",
              "      <td>restaurant</td>\n",
              "      <td>risk 1 (high)</td>\n",
              "      <td>60649.0</td>\n",
              "      <td>canvass re-inspection</td>\n",
              "      <td>41.5</td>\n",
              "      <td>-88.0</td>\n",
              "      <td>5</td>\n",
              "      <td>4</td>\n",
              "      <td>2016</td>\n",
              "      <td>35</td>\n",
              "    </tr>\n",
              "    <tr>\n",
              "      <th>1763905</th>\n",
              "      <td>restaurant</td>\n",
              "      <td>risk 2 (medium)</td>\n",
              "      <td>60632.0</td>\n",
              "      <td>canvass</td>\n",
              "      <td>41.5</td>\n",
              "      <td>-88.0</td>\n",
              "      <td>29</td>\n",
              "      <td>4</td>\n",
              "      <td>2016</td>\n",
              "      <td>38</td>\n",
              "    </tr>\n",
              "    <tr>\n",
              "      <th>453326</th>\n",
              "      <td>school</td>\n",
              "      <td>risk 1 (high)</td>\n",
              "      <td>60629.0</td>\n",
              "      <td>canvass</td>\n",
              "      <td>0.0</td>\n",
              "      <td>0.0</td>\n",
              "      <td>10</td>\n",
              "      <td>1</td>\n",
              "      <td>2011</td>\n",
              "      <td>34</td>\n",
              "    </tr>\n",
              "  </tbody>\n",
              "</table>\n",
              "</div>"
            ],
            "text/plain": [
              "               Facility Type             Risk      Zip  \\\n",
              "Inspection ID                                            \n",
              "2088270           restaurant    risk 1 (high)  60657.0   \n",
              "555268         grocery store     risk 3 (low)  60636.0   \n",
              "1751394           restaurant    risk 1 (high)  60649.0   \n",
              "1763905           restaurant  risk 2 (medium)  60632.0   \n",
              "453326                school    risk 1 (high)  60629.0   \n",
              "\n",
              "                       Inspection Type  latbin  lonbin  inspection_day  \\\n",
              "Inspection ID                                                            \n",
              "2088270                        canvass    41.5   -88.0              15   \n",
              "555268         complaint re-inspection    41.5   -88.0              20   \n",
              "1751394          canvass re-inspection    41.5   -88.0               5   \n",
              "1763905                        canvass    41.5   -88.0              29   \n",
              "453326                         canvass     0.0     0.0              10   \n",
              "\n",
              "               inspection_month  inspection_year violation_num  \n",
              "Inspection ID                                                   \n",
              "2088270                       9             2017             3  \n",
              "555268                       10             2011            32  \n",
              "1751394                       4             2016            35  \n",
              "1763905                       4             2016            38  \n",
              "453326                        1             2011            34  "
            ]
          },
          "metadata": {
            "tags": []
          },
          "execution_count": 213
        }
      ]
    },
    {
      "metadata": {
        "id": "hwPkHhz6YxQ_",
        "colab_type": "text"
      },
      "cell_type": "markdown",
      "source": [
        "### Part 2: Modeling\n",
        "\n",
        "Fit a Random Forest or Gradient Boosting model with the train set. (You may use scikit-learn, xgboost, or any other library.) Use cross-validation to estimate an ROC AUC validation score.\n",
        "\n",
        "Use your model to predict probabilities for the test set. Get an ROC AUC test score >= 0.60.\n",
        "\n",
        "_To earn a score of 3 for this part, get an ROC AUC test score >= 0.70._\n"
      ]
    },
    {
      "metadata": {
        "id": "-NktftDekZhq",
        "colab_type": "code",
        "outputId": "477c03bd-1ee9-4d79-b7e6-6e59cf28b7a3",
        "colab": {
          "base_uri": "https://localhost:8080/",
          "height": 35
        }
      },
      "cell_type": "code",
      "source": [
        "from xgboost import XGBClassifier\n",
        "from sklearn.model_selection import cross_val_score\n",
        "\n",
        "encoder = ce.BinaryEncoder(cols=['Facility Type',\t\n",
        "                                 'Risk',\n",
        "                                 'Inspection Type',\n",
        "                                 'violation_num'])\n",
        "\n",
        "X_train_transformed = encoder.fit_transform(X_train)\n",
        "X_test_transformed = encoder.transform(X_test)\n",
        "\n",
        "model = XGBClassifier()\n",
        "cross_val_score(model, \n",
        "                X_train_transformed, \n",
        "                Y_train, \n",
        "                scoring='roc_auc', \n",
        "                cv=5, \n",
        "                n_jobs=-1)"
      ],
      "execution_count": 214,
      "outputs": [
        {
          "output_type": "execute_result",
          "data": {
            "text/plain": [
              "array([0.99069918, 0.98920194, 0.98604653, 0.98859565, 0.9890015 ])"
            ]
          },
          "metadata": {
            "tags": []
          },
          "execution_count": 214
        }
      ]
    },
    {
      "metadata": {
        "id": "WpTYBgSKHuvt",
        "colab_type": "code",
        "outputId": "4cd11408-8396-462e-e3e5-007d8a976ecd",
        "colab": {
          "base_uri": "https://localhost:8080/",
          "height": 35
        }
      },
      "cell_type": "code",
      "source": [
        "# predicting on the test data\n",
        "model.fit(X_train_transformed, Y_train)\n",
        "Y_test_proba = model.predict_proba(X_test_transformed)\n",
        "\n",
        "# scoring the test data results\n",
        "#well, I knew there was a leakage in the dataset, and I believe it's the \n",
        "#'Violations' feature\n",
        "roc_auc_score(Y_test, Y_test_proba[:,1])"
      ],
      "execution_count": 215,
      "outputs": [
        {
          "output_type": "execute_result",
          "data": {
            "text/plain": [
              "0.9872944758003596"
            ]
          },
          "metadata": {
            "tags": []
          },
          "execution_count": 215
        }
      ]
    },
    {
      "metadata": {
        "id": "uSZV-TrGY_I7",
        "colab_type": "text"
      },
      "cell_type": "markdown",
      "source": [
        "### Part 3: Visualization\n",
        "\n",
        "Make one visualization for model interpretation. (You may use any libraries.) Choose one of these types:\n",
        "- Feature Importances\n",
        "- Permutation Importances\n",
        "- Partial Dependence Plot\n",
        "\n",
        "_To earn a score of 3 for this part, make at least two of these visualization types._"
      ]
    },
    {
      "metadata": {
        "id": "uvvIH8SXG4Rt",
        "colab_type": "code",
        "colab": {}
      },
      "cell_type": "code",
      "source": [
        "!pip install pdpbox"
      ],
      "execution_count": 0,
      "outputs": []
    },
    {
      "metadata": {
        "id": "tM_IOQ8xN554",
        "colab_type": "code",
        "outputId": "b0a24b1d-706b-46df-e5d3-c4a150e8ab94",
        "colab": {
          "base_uri": "https://localhost:8080/",
          "height": 585
        }
      },
      "cell_type": "code",
      "source": [
        "#Partial Dependence Plot\n",
        "from pdpbox.pdp import pdp_isolate, pdp_plot\n",
        "import matplotlib as plt\n",
        "feature='violation_num_3'\n",
        "pdp_isolated = pdp_isolate(model=model, \n",
        "                           dataset=X_train_transformed, \n",
        "                           model_features=X_train_transformed.columns, \n",
        "                           feature=feature)\n",
        "\n",
        "pdp_plot(pdp_isolated, feature);"
      ],
      "execution_count": 184,
      "outputs": [
        {
          "output_type": "display_data",
          "data": {
            "image/png": "[encoded data removed]",
            "text/plain": [
              "<Figure size 1080x684 with 2 Axes>"
            ]
          },
          "metadata": {
            "tags": []
          }
        }
      ]
    },
    {
      "metadata": {
        "id": "nwwMoUbRZJBa",
        "colab_type": "code",
        "colab": {}
      },
      "cell_type": "code",
      "source": [
        "!pip install eli5"
      ],
      "execution_count": 0,
      "outputs": []
    },
    {
      "metadata": {
        "id": "17u_NO6vopTn",
        "colab_type": "code",
        "colab": {
          "base_uri": "https://localhost:8080/",
          "height": 347
        },
        "outputId": "d06a62a0-b37e-4e69-8d28-a299eb6f93f3"
      },
      "cell_type": "code",
      "source": [
        "#Feature Importances Plot\n",
        "\n",
        "from sklearn.pipeline import make_pipeline\n",
        "from sklearn.ensemble import GradientBoostingClassifier\n",
        "\n",
        "pipe = make_pipeline(\n",
        "    ce.BinaryEncoder(), \n",
        "    GradientBoostingClassifier()\n",
        ")\n",
        "\n",
        "def show_feature_importances(\n",
        "    pipe, X, y, estimator_name='gradientboostingclassifier', \n",
        "    n=20, figsize=(8, 8)):\n",
        "    \n",
        "    # pipe must not change dimensions of X dataframe\n",
        "    pipe.fit(X, y)\n",
        "    \n",
        "    importances = pd.Series(\n",
        "        pipe.named_steps[estimator_name].feature_importances_, \n",
        "        X.columns)\n",
        "\n",
        "    top_n = importances.sort_values(ascending=False)[:n]\n",
        "    \n",
        "    top_n.sort_values().plot.barh(color='grey')\n",
        "\n",
        "    \n",
        "show_feature_importances(pipe, X_train_transformed, Y_train)"
      ],
      "execution_count": 183,
      "outputs": [
        {
          "output_type": "display_data",
          "data": {
            "image/png": "[encoded data removed]",
            "text/plain": [
              "<Figure size 576x396 with 1 Axes>"
            ]
          },
          "metadata": {
            "tags": []
          }
        }
      ]
    }
  ]
}
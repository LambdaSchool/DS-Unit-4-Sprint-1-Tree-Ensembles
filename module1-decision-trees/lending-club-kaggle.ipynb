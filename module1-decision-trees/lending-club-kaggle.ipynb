{
 "cells": [
  {
   "cell_type": "code",
   "execution_count": null,
   "metadata": {},
   "outputs": [],
   "source": [
    "import numpy as np\n",
    "from sklearn.tree import DecisionTreeRegressor\n"
   ]
  },
  {
   "cell_type": "code",
   "execution_count": 9,
   "metadata": {},
   "outputs": [
    {
     "name": "stderr",
     "output_type": "stream",
     "text": [
      "--2019-03-18 12:41:57--  http://ds1-trees-ensemble.zip/\n",
      "Resolving ds1-trees-ensemble.zip (ds1-trees-ensemble.zip)... 198.105.244.114, 198.105.254.114\n",
      "Connecting to ds1-trees-ensemble.zip (ds1-trees-ensemble.zip)|198.105.244.114|:80... connected.\n",
      "HTTP request sent, awaiting response... 200 OK\n",
      "Length: unspecified [text/html]\n",
      "Saving to: 'index.html.1'\n",
      "\n",
      "     0K                                                        1.44M=0s\n",
      "\n",
      "2019-03-18 12:41:58 (1.44 MB/s) - 'index.html.1' saved [291]\n",
      "\n"
     ]
    }
   ],
   "source": [
    "!wget ds1-trees-ensemble.zip"
   ]
  },
  {
   "cell_type": "code",
   "execution_count": null,
   "metadata": {},
   "outputs": [],
   "source": [
    "# Create csv for submission to kaggle\n",
    "\n",
    "sample_submission = pd.read_csv('sample_submission.csv')\n",
    "submission = sample_submission.copy()\n",
    "submission['charged_off'] = estimator.predict_proba(X_test)[:, 1]\n",
    "submission.to_csv('submission-001.csv', index=False)"
   ]
  }
 ],
 "metadata": {
  "kernelspec": {
   "display_name": "Python 3",
   "language": "python",
   "name": "python3"
  },
  "language_info": {
   "codemirror_mode": {
    "name": "ipython",
    "version": 3
   },
   "file_extension": ".py",
   "mimetype": "text/x-python",
   "name": "python",
   "nbconvert_exporter": "python",
   "pygments_lexer": "ipython3",
   "version": "3.6.8"
  }
 },
 "nbformat": 4,
 "nbformat_minor": 2
}

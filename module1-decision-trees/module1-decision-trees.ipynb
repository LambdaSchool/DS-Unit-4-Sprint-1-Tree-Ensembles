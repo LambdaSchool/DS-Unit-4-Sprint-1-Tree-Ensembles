{
 "cells": [
  {
   "cell_type": "code",
   "execution_count": 3,
   "metadata": {
    "ExecuteTime": {
     "end_time": "2019-03-18T18:07:49.287409Z",
     "start_time": "2019-03-18T18:07:49.278587Z"
    }
   },
   "outputs": [],
   "source": [
    "import kaggle"
   ]
  },
  {
   "cell_type": "code",
   "execution_count": 4,
   "metadata": {
    "ExecuteTime": {
     "end_time": "2019-03-18T18:09:13.022017Z",
     "start_time": "2019-03-18T18:09:06.454625Z"
    }
   },
   "outputs": [
    {
     "name": "stdout",
     "output_type": "stream",
     "text": [
      "Downloading train_features.csv.zip to /home/mark/lambda/DS-Unit-4-Sprint-1-Tree-Ensembles/module1-decision-trees\n",
      "100%|██████████████████████████████████████| 4.67M/4.67M [00:01<00:00, 3.09MB/s]\n",
      "\n",
      "Downloading train_labels.csv to /home/mark/lambda/DS-Unit-4-Sprint-1-Tree-Ensembles/module1-decision-trees\n",
      "  0%|                                                | 0.00/295k [00:00<?, ?B/s]\n",
      "100%|████████████████████████████████████████| 295k/295k [00:00<00:00, 3.80MB/s]\n",
      "Downloading test_features.csv.zip to /home/mark/lambda/DS-Unit-4-Sprint-1-Tree-Ensembles/module1-decision-trees\n",
      " 86%|████████████████████████████████▌     | 1.00M/1.17M [00:00<00:00, 2.53MB/s]\n",
      "100%|██████████████████████████████████████| 1.17M/1.17M [00:00<00:00, 2.93MB/s]\n",
      "Downloading sample_submission.csv to /home/mark/lambda/DS-Unit-4-Sprint-1-Tree-Ensembles/module1-decision-trees\n",
      "  0%|                                               | 0.00/92.2k [00:00<?, ?B/s]\n",
      "100%|██████████████████████████████████████| 92.2k/92.2k [00:00<00:00, 5.62MB/s]\n",
      "Downloading LCDataDictionary.xlsx to /home/mark/lambda/DS-Unit-4-Sprint-1-Tree-Ensembles/module1-decision-trees\n",
      "  0%|                                               | 0.00/23.0k [00:00<?, ?B/s]\n",
      "100%|██████████████████████████████████████| 23.0k/23.0k [00:00<00:00, 21.2MB/s]\n"
     ]
    }
   ],
   "source": [
    "!kaggle competitions download -c ds1-tree-ensembles"
   ]
  },
  {
   "cell_type": "code",
   "execution_count": 5,
   "metadata": {
    "ExecuteTime": {
     "end_time": "2019-03-18T18:17:42.095766Z",
     "start_time": "2019-03-18T18:17:41.979076Z"
    }
   },
   "outputs": [
    {
     "name": "stdout",
     "output_type": "stream",
     "text": [
      "/home/mark/lambda/DS-Unit-4-Sprint-1-Tree-Ensembles/module1-decision-trees\r\n"
     ]
    }
   ],
   "source": [
    "!pwd"
   ]
  },
  {
   "attachments": {
    "image.png": {
     "image/png": "[encoded data removed]"
    }
   },
   "cell_type": "markdown",
   "metadata": {},
   "source": [
    "\"age\";\"job\";\"marital\";\"education\";\"default\";\"housing\";\"loan\";\"contact\";\"month\";\"day_of_week\";\"duration\";\"campaign\";\"pdays\";\"previous\";\"poutcome\";\"emp.var.rate\";\"cons.price.idx\";\"cons.conf.idx\";\"euribor3m\";\"nr.employed\";\"y\n",
    "![image.png](attachment:image.png)\n"
   ]
  },
  {
   "cell_type": "code",
   "execution_count": 130,
   "metadata": {
    "ExecuteTime": {
     "end_time": "2019-03-18T22:37:13.151116Z",
     "start_time": "2019-03-18T22:37:13.139863Z"
    }
   },
   "outputs": [],
   "source": [
    "import pandas as pd\n",
    "pd.set_option('display.max_rows', 500)\n",
    "pd.set_option('display.max_columns', 500)\n",
    "from datetime import datetime"
   ]
  },
  {
   "cell_type": "code",
   "execution_count": 131,
   "metadata": {
    "ExecuteTime": {
     "end_time": "2019-03-18T22:37:13.555380Z",
     "start_time": "2019-03-18T22:37:13.538304Z"
    }
   },
   "outputs": [],
   "source": [
    "dd = pd.read_excel('LCDataDictionary.xlsx')"
   ]
  },
  {
   "cell_type": "code",
   "execution_count": 18,
   "metadata": {
    "ExecuteTime": {
     "end_time": "2019-03-18T19:13:21.130366Z",
     "start_time": "2019-03-18T19:13:21.122522Z"
    }
   },
   "outputs": [
    {
     "data": {
      "text/plain": [
       "0                                  acc_now_delinq\n",
       "1                            acc_open_past_24mths\n",
       "2                                      addr_state\n",
       "3                                        all_util\n",
       "4                                      annual_inc\n",
       "5                                annual_inc_joint\n",
       "6                                application_type\n",
       "7                                     avg_cur_bal\n",
       "8                                  bc_open_to_buy\n",
       "9                                         bc_util\n",
       "10                       chargeoff_within_12_mths\n",
       "11                        collection_recovery_fee\n",
       "12                     collections_12_mths_ex_med\n",
       "13                                    delinq_2yrs\n",
       "14                                    delinq_amnt\n",
       "15                                           desc\n",
       "16                                            dti\n",
       "17                                      dti_joint\n",
       "18                               earliest_cr_line\n",
       "19                                     emp_length\n",
       "20                                      emp_title\n",
       "21                                fico_range_high\n",
       "22                                 fico_range_low\n",
       "23                                    funded_amnt\n",
       "24                                funded_amnt_inv\n",
       "25                                          grade\n",
       "26                                 home_ownership\n",
       "27                                             id\n",
       "28                                        il_util\n",
       "29                            initial_list_status\n",
       "30                                         inq_fi\n",
       "31                                   inq_last_12m\n",
       "32                                 inq_last_6mths\n",
       "33                                    installment\n",
       "34                                       int_rate\n",
       "35                                        issue_d\n",
       "36                             last_credit_pull_d\n",
       "37                           last_fico_range_high\n",
       "38                            last_fico_range_low\n",
       "39                                last_pymnt_amnt\n",
       "40                                   last_pymnt_d\n",
       "41                                      loan_amnt\n",
       "42                                    loan_status\n",
       "43                                     max_bal_bc\n",
       "44                                      member_id\n",
       "45                             mo_sin_old_il_acct\n",
       "46                           mo_sin_old_rev_tl_op\n",
       "47                          mo_sin_rcnt_rev_tl_op\n",
       "48                                 mo_sin_rcnt_tl\n",
       "49                                       mort_acc\n",
       "50                         mths_since_last_delinq\n",
       "51                    mths_since_last_major_derog\n",
       "52                         mths_since_last_record\n",
       "53                             mths_since_rcnt_il\n",
       "54                           mths_since_recent_bc\n",
       "55                       mths_since_recent_bc_dlq\n",
       "56                          mths_since_recent_inq\n",
       "57                 mths_since_recent_revol_delinq\n",
       "58                                   next_pymnt_d\n",
       "59                          num_accts_ever_120_pd\n",
       "60                                 num_actv_bc_tl\n",
       "61                                num_actv_rev_tl\n",
       "62                                    num_bc_sats\n",
       "63                                      num_bc_tl\n",
       "64                                      num_il_tl\n",
       "65                                  num_op_rev_tl\n",
       "66                                  num_rev_accts\n",
       "67                            num_rev_tl_bal_gt_0\n",
       "68                                       num_sats\n",
       "69                               num_tl_120dpd_2m\n",
       "70                                   num_tl_30dpd\n",
       "71                             num_tl_90g_dpd_24m\n",
       "72                             num_tl_op_past_12m\n",
       "73                                       open_acc\n",
       "74                                    open_acc_6m\n",
       "75                                    open_il_12m\n",
       "76                                    open_il_24m\n",
       "77                                    open_act_il\n",
       "78                                    open_rv_12m\n",
       "79                                    open_rv_24m\n",
       "80                                      out_prncp\n",
       "81                                  out_prncp_inv\n",
       "82                                 pct_tl_nvr_dlq\n",
       "83                               percent_bc_gt_75\n",
       "84                                    policy_code\n",
       "85                                        pub_rec\n",
       "86                           pub_rec_bankruptcies\n",
       "87                                        purpose\n",
       "88                                     pymnt_plan\n",
       "89                                     recoveries\n",
       "90                                      revol_bal\n",
       "91                                     revol_util\n",
       "92                                      sub_grade\n",
       "93                                      tax_liens\n",
       "94                                           term\n",
       "95                                          title\n",
       "96                                   tot_coll_amt\n",
       "97                                    tot_cur_bal\n",
       "98                                tot_hi_cred_lim\n",
       "99                                      total_acc\n",
       "100                             total_bal_ex_mort\n",
       "101                                  total_bal_il\n",
       "102                                total_bc_limit\n",
       "103                                   total_cu_tl\n",
       "104                    total_il_high_credit_limit\n",
       "105                                   total_pymnt\n",
       "106                               total_pymnt_inv\n",
       "107                                 total_rec_int\n",
       "108                            total_rec_late_fee\n",
       "109                               total_rec_prncp\n",
       "110                            total_rev_hi_lim  \n",
       "111                                           url\n",
       "112                           verification_status\n",
       "113                         verified_status_joint\n",
       "114                                      zip_code\n",
       "115                              revol_bal_joint \n",
       "116                       sec_app_fico_range_low \n",
       "117                      sec_app_fico_range_high \n",
       "118                     sec_app_earliest_cr_line \n",
       "119                       sec_app_inq_last_6mths \n",
       "120                             sec_app_mort_acc \n",
       "121                             sec_app_open_acc \n",
       "122                           sec_app_revol_util \n",
       "123                           sec_app_open_act_il\n",
       "124                        sec_app_num_rev_accts \n",
       "125             sec_app_chargeoff_within_12_mths \n",
       "126           sec_app_collections_12_mths_ex_med \n",
       "127          sec_app_mths_since_last_major_derog \n",
       "128                                 hardship_flag\n",
       "129                                 hardship_type\n",
       "130                               hardship_reason\n",
       "131                               hardship_status\n",
       "132                                 deferral_term\n",
       "133                               hardship_amount\n",
       "134                           hardship_start_date\n",
       "135                             hardship_end_date\n",
       "136                       payment_plan_start_date\n",
       "137                               hardship_length\n",
       "138                                  hardship_dpd\n",
       "139                          hardship_loan_status\n",
       "140    orig_projected_additional_accrued_interest\n",
       "141                hardship_payoff_balance_amount\n",
       "142                  hardship_last_payment_amount\n",
       "143                           disbursement_method\n",
       "144                          debt_settlement_flag\n",
       "145                     debt_settlement_flag_date\n",
       "146                             settlement_status\n",
       "147                               settlement_date\n",
       "148                             settlement_amount\n",
       "149                         settlement_percentage\n",
       "150                               settlement_term\n",
       "151                                           NaN\n",
       "152                                           NaN\n",
       "Name: LoanStatNew, dtype: object"
      ]
     },
     "execution_count": 18,
     "metadata": {},
     "output_type": "execute_result"
    }
   ],
   "source": [
    "dd.LoanStatNew"
   ]
  },
  {
   "cell_type": "code",
   "execution_count": 42,
   "metadata": {
    "ExecuteTime": {
     "end_time": "2019-03-18T21:21:44.370639Z",
     "start_time": "2019-03-18T21:21:44.011015Z"
    }
   },
   "outputs": [],
   "source": [
    "df = pd.read_csv('train_features.csv')"
   ]
  },
  {
   "cell_type": "code",
   "execution_count": 86,
   "metadata": {
    "ExecuteTime": {
     "end_time": "2019-03-18T21:41:04.043660Z",
     "start_time": "2019-03-18T21:41:03.971718Z"
    }
   },
   "outputs": [
    {
     "data": {
      "text/html": [
       "<div>\n",
       "<style scoped>\n",
       "    .dataframe tbody tr th:only-of-type {\n",
       "        vertical-align: middle;\n",
       "    }\n",
       "\n",
       "    .dataframe tbody tr th {\n",
       "        vertical-align: top;\n",
       "    }\n",
       "\n",
       "    .dataframe thead th {\n",
       "        text-align: right;\n",
       "    }\n",
       "</style>\n",
       "<table border=\"1\" class=\"dataframe\">\n",
       "  <thead>\n",
       "    <tr style=\"text-align: right;\">\n",
       "      <th></th>\n",
       "      <th>id</th>\n",
       "      <th>member_id</th>\n",
       "      <th>loan_amnt</th>\n",
       "      <th>funded_amnt</th>\n",
       "      <th>term</th>\n",
       "      <th>installment</th>\n",
       "      <th>grade</th>\n",
       "      <th>sub_grade</th>\n",
       "      <th>emp_title</th>\n",
       "      <th>emp_length</th>\n",
       "      <th>home_ownership</th>\n",
       "      <th>annual_inc</th>\n",
       "      <th>url</th>\n",
       "      <th>desc</th>\n",
       "      <th>purpose</th>\n",
       "      <th>title</th>\n",
       "      <th>zip_code</th>\n",
       "      <th>addr_state</th>\n",
       "      <th>dti</th>\n",
       "      <th>delinq_2yrs</th>\n",
       "      <th>earliest_cr_line</th>\n",
       "      <th>inq_last_6mths</th>\n",
       "      <th>mths_since_last_delinq</th>\n",
       "      <th>mths_since_last_record</th>\n",
       "      <th>open_acc</th>\n",
       "      <th>pub_rec</th>\n",
       "      <th>revol_bal</th>\n",
       "      <th>revol_util</th>\n",
       "      <th>total_acc</th>\n",
       "      <th>initial_list_status</th>\n",
       "      <th>collections_12_mths_ex_med</th>\n",
       "      <th>mths_since_last_major_derog</th>\n",
       "      <th>application_type</th>\n",
       "      <th>annual_inc_joint</th>\n",
       "      <th>dti_joint</th>\n",
       "      <th>acc_now_delinq</th>\n",
       "      <th>tot_coll_amt</th>\n",
       "      <th>tot_cur_bal</th>\n",
       "      <th>open_acc_6m</th>\n",
       "      <th>open_act_il</th>\n",
       "      <th>open_il_12m</th>\n",
       "      <th>open_il_24m</th>\n",
       "      <th>mths_since_rcnt_il</th>\n",
       "      <th>total_bal_il</th>\n",
       "      <th>il_util</th>\n",
       "      <th>open_rv_12m</th>\n",
       "      <th>open_rv_24m</th>\n",
       "      <th>max_bal_bc</th>\n",
       "      <th>all_util</th>\n",
       "      <th>total_rev_hi_lim</th>\n",
       "      <th>inq_fi</th>\n",
       "      <th>total_cu_tl</th>\n",
       "      <th>inq_last_12m</th>\n",
       "      <th>acc_open_past_24mths</th>\n",
       "      <th>avg_cur_bal</th>\n",
       "      <th>bc_open_to_buy</th>\n",
       "      <th>bc_util</th>\n",
       "      <th>chargeoff_within_12_mths</th>\n",
       "      <th>delinq_amnt</th>\n",
       "      <th>mo_sin_old_il_acct</th>\n",
       "      <th>mo_sin_old_rev_tl_op</th>\n",
       "      <th>mo_sin_rcnt_rev_tl_op</th>\n",
       "      <th>mo_sin_rcnt_tl</th>\n",
       "      <th>mort_acc</th>\n",
       "      <th>mths_since_recent_bc</th>\n",
       "      <th>mths_since_recent_bc_dlq</th>\n",
       "      <th>mths_since_recent_inq</th>\n",
       "      <th>mths_since_recent_revol_delinq</th>\n",
       "      <th>num_accts_ever_120_pd</th>\n",
       "      <th>num_actv_bc_tl</th>\n",
       "      <th>num_actv_rev_tl</th>\n",
       "      <th>num_bc_sats</th>\n",
       "      <th>num_bc_tl</th>\n",
       "      <th>num_il_tl</th>\n",
       "      <th>num_op_rev_tl</th>\n",
       "      <th>num_rev_accts</th>\n",
       "      <th>num_rev_tl_bal_gt_0</th>\n",
       "      <th>num_sats</th>\n",
       "      <th>num_tl_120dpd_2m</th>\n",
       "      <th>num_tl_30dpd</th>\n",
       "      <th>num_tl_90g_dpd_24m</th>\n",
       "      <th>num_tl_op_past_12m</th>\n",
       "      <th>pct_tl_nvr_dlq</th>\n",
       "      <th>percent_bc_gt_75</th>\n",
       "      <th>pub_rec_bankruptcies</th>\n",
       "      <th>tax_liens</th>\n",
       "      <th>tot_hi_cred_lim</th>\n",
       "      <th>total_bal_ex_mort</th>\n",
       "      <th>total_bc_limit</th>\n",
       "      <th>total_il_high_credit_limit</th>\n",
       "      <th>revol_bal_joint</th>\n",
       "      <th>sec_app_earliest_cr_line</th>\n",
       "      <th>sec_app_inq_last_6mths</th>\n",
       "      <th>sec_app_mort_acc</th>\n",
       "      <th>sec_app_open_acc</th>\n",
       "      <th>sec_app_revol_util</th>\n",
       "      <th>sec_app_open_act_il</th>\n",
       "      <th>sec_app_num_rev_accts</th>\n",
       "      <th>sec_app_chargeoff_within_12_mths</th>\n",
       "      <th>sec_app_collections_12_mths_ex_med</th>\n",
       "      <th>sec_app_mths_since_last_major_derog</th>\n",
       "      <th>disbursement_method</th>\n",
       "      <th>int_rates</th>\n",
       "    </tr>\n",
       "  </thead>\n",
       "  <tbody>\n",
       "    <tr>\n",
       "      <th>0</th>\n",
       "      <td>43373</td>\n",
       "      <td>NaN</td>\n",
       "      <td>12000</td>\n",
       "      <td>12000</td>\n",
       "      <td>36 months</td>\n",
       "      <td>422.01</td>\n",
       "      <td>C</td>\n",
       "      <td>C5</td>\n",
       "      <td>Driver</td>\n",
       "      <td>4 years</td>\n",
       "      <td>MORTGAGE</td>\n",
       "      <td>81000.0</td>\n",
       "      <td>NaN</td>\n",
       "      <td>NaN</td>\n",
       "      <td>debt_consolidation</td>\n",
       "      <td>Debt consolidation</td>\n",
       "      <td>280xx</td>\n",
       "      <td>NC</td>\n",
       "      <td>12.76</td>\n",
       "      <td>0</td>\n",
       "      <td>Dec-2005</td>\n",
       "      <td>1</td>\n",
       "      <td>48.0</td>\n",
       "      <td>NaN</td>\n",
       "      <td>7</td>\n",
       "      <td>0</td>\n",
       "      <td>4912</td>\n",
       "      <td>23.5%</td>\n",
       "      <td>15</td>\n",
       "      <td>w</td>\n",
       "      <td>0</td>\n",
       "      <td>48.0</td>\n",
       "      <td>Individual</td>\n",
       "      <td>NaN</td>\n",
       "      <td>NaN</td>\n",
       "      <td>0</td>\n",
       "      <td>0</td>\n",
       "      <td>174783</td>\n",
       "      <td>1</td>\n",
       "      <td>2</td>\n",
       "      <td>0</td>\n",
       "      <td>4</td>\n",
       "      <td>13.0</td>\n",
       "      <td>33668</td>\n",
       "      <td>82.0</td>\n",
       "      <td>2</td>\n",
       "      <td>5</td>\n",
       "      <td>2962</td>\n",
       "      <td>63.0</td>\n",
       "      <td>20900</td>\n",
       "      <td>1</td>\n",
       "      <td>1</td>\n",
       "      <td>2</td>\n",
       "      <td>9</td>\n",
       "      <td>24969.0</td>\n",
       "      <td>588.0</td>\n",
       "      <td>89.3</td>\n",
       "      <td>0</td>\n",
       "      <td>0</td>\n",
       "      <td>145.0</td>\n",
       "      <td>23</td>\n",
       "      <td>1</td>\n",
       "      <td>1</td>\n",
       "      <td>1</td>\n",
       "      <td>8.0</td>\n",
       "      <td>NaN</td>\n",
       "      <td>1.0</td>\n",
       "      <td>NaN</td>\n",
       "      <td>2</td>\n",
       "      <td>2</td>\n",
       "      <td>2</td>\n",
       "      <td>2</td>\n",
       "      <td>2</td>\n",
       "      <td>9</td>\n",
       "      <td>4</td>\n",
       "      <td>5</td>\n",
       "      <td>2</td>\n",
       "      <td>7</td>\n",
       "      <td>0.0</td>\n",
       "      <td>0</td>\n",
       "      <td>0</td>\n",
       "      <td>2</td>\n",
       "      <td>92.9</td>\n",
       "      <td>100.0</td>\n",
       "      <td>0</td>\n",
       "      <td>0</td>\n",
       "      <td>206618</td>\n",
       "      <td>38580</td>\n",
       "      <td>5500</td>\n",
       "      <td>40863</td>\n",
       "      <td>NaN</td>\n",
       "      <td>NaN</td>\n",
       "      <td>NaN</td>\n",
       "      <td>NaN</td>\n",
       "      <td>NaN</td>\n",
       "      <td>NaN</td>\n",
       "      <td>NaN</td>\n",
       "      <td>NaN</td>\n",
       "      <td>NaN</td>\n",
       "      <td>NaN</td>\n",
       "      <td>NaN</td>\n",
       "      <td>Cash</td>\n",
       "      <td>16.02</td>\n",
       "    </tr>\n",
       "    <tr>\n",
       "      <th>1</th>\n",
       "      <td>24414</td>\n",
       "      <td>NaN</td>\n",
       "      <td>6300</td>\n",
       "      <td>6300</td>\n",
       "      <td>36 months</td>\n",
       "      <td>215.54</td>\n",
       "      <td>C</td>\n",
       "      <td>C3</td>\n",
       "      <td>GMP Lead</td>\n",
       "      <td>4 years</td>\n",
       "      <td>RENT</td>\n",
       "      <td>39000.0</td>\n",
       "      <td>NaN</td>\n",
       "      <td>NaN</td>\n",
       "      <td>debt_consolidation</td>\n",
       "      <td>Debt consolidation</td>\n",
       "      <td>920xx</td>\n",
       "      <td>CA</td>\n",
       "      <td>21.42</td>\n",
       "      <td>0</td>\n",
       "      <td>Mar-2012</td>\n",
       "      <td>1</td>\n",
       "      <td>NaN</td>\n",
       "      <td>NaN</td>\n",
       "      <td>10</td>\n",
       "      <td>0</td>\n",
       "      <td>11876</td>\n",
       "      <td>59.4%</td>\n",
       "      <td>12</td>\n",
       "      <td>w</td>\n",
       "      <td>0</td>\n",
       "      <td>NaN</td>\n",
       "      <td>Individual</td>\n",
       "      <td>NaN</td>\n",
       "      <td>NaN</td>\n",
       "      <td>0</td>\n",
       "      <td>0</td>\n",
       "      <td>31046</td>\n",
       "      <td>0</td>\n",
       "      <td>1</td>\n",
       "      <td>0</td>\n",
       "      <td>2</td>\n",
       "      <td>14.0</td>\n",
       "      <td>19170</td>\n",
       "      <td>83.0</td>\n",
       "      <td>3</td>\n",
       "      <td>8</td>\n",
       "      <td>5153</td>\n",
       "      <td>72.0</td>\n",
       "      <td>20000</td>\n",
       "      <td>1</td>\n",
       "      <td>0</td>\n",
       "      <td>1</td>\n",
       "      <td>10</td>\n",
       "      <td>3105.0</td>\n",
       "      <td>6877.0</td>\n",
       "      <td>59.3</td>\n",
       "      <td>0</td>\n",
       "      <td>0</td>\n",
       "      <td>17.0</td>\n",
       "      <td>72</td>\n",
       "      <td>8</td>\n",
       "      <td>8</td>\n",
       "      <td>0</td>\n",
       "      <td>8.0</td>\n",
       "      <td>NaN</td>\n",
       "      <td>6.0</td>\n",
       "      <td>NaN</td>\n",
       "      <td>0</td>\n",
       "      <td>6</td>\n",
       "      <td>7</td>\n",
       "      <td>7</td>\n",
       "      <td>8</td>\n",
       "      <td>2</td>\n",
       "      <td>9</td>\n",
       "      <td>10</td>\n",
       "      <td>7</td>\n",
       "      <td>10</td>\n",
       "      <td>0.0</td>\n",
       "      <td>0</td>\n",
       "      <td>0</td>\n",
       "      <td>3</td>\n",
       "      <td>100.0</td>\n",
       "      <td>42.9</td>\n",
       "      <td>0</td>\n",
       "      <td>0</td>\n",
       "      <td>43140</td>\n",
       "      <td>31046</td>\n",
       "      <td>16900</td>\n",
       "      <td>23140</td>\n",
       "      <td>NaN</td>\n",
       "      <td>NaN</td>\n",
       "      <td>NaN</td>\n",
       "      <td>NaN</td>\n",
       "      <td>NaN</td>\n",
       "      <td>NaN</td>\n",
       "      <td>NaN</td>\n",
       "      <td>NaN</td>\n",
       "      <td>NaN</td>\n",
       "      <td>NaN</td>\n",
       "      <td>NaN</td>\n",
       "      <td>Cash</td>\n",
       "      <td>14.07</td>\n",
       "    </tr>\n",
       "    <tr>\n",
       "      <th>2</th>\n",
       "      <td>46723</td>\n",
       "      <td>NaN</td>\n",
       "      <td>4500</td>\n",
       "      <td>4500</td>\n",
       "      <td>36 months</td>\n",
       "      <td>139.38</td>\n",
       "      <td>A</td>\n",
       "      <td>A3</td>\n",
       "      <td>Accounts</td>\n",
       "      <td>3 years</td>\n",
       "      <td>RENT</td>\n",
       "      <td>78000.0</td>\n",
       "      <td>NaN</td>\n",
       "      <td>NaN</td>\n",
       "      <td>debt_consolidation</td>\n",
       "      <td>Debt consolidation</td>\n",
       "      <td>906xx</td>\n",
       "      <td>CA</td>\n",
       "      <td>2.17</td>\n",
       "      <td>0</td>\n",
       "      <td>May-2000</td>\n",
       "      <td>2</td>\n",
       "      <td>NaN</td>\n",
       "      <td>NaN</td>\n",
       "      <td>13</td>\n",
       "      <td>0</td>\n",
       "      <td>1715</td>\n",
       "      <td>5.2%</td>\n",
       "      <td>19</td>\n",
       "      <td>w</td>\n",
       "      <td>0</td>\n",
       "      <td>NaN</td>\n",
       "      <td>Individual</td>\n",
       "      <td>NaN</td>\n",
       "      <td>NaN</td>\n",
       "      <td>0</td>\n",
       "      <td>0</td>\n",
       "      <td>35329</td>\n",
       "      <td>0</td>\n",
       "      <td>8</td>\n",
       "      <td>1</td>\n",
       "      <td>2</td>\n",
       "      <td>10.0</td>\n",
       "      <td>33614</td>\n",
       "      <td>106.0</td>\n",
       "      <td>1</td>\n",
       "      <td>1</td>\n",
       "      <td>1196</td>\n",
       "      <td>54.0</td>\n",
       "      <td>33300</td>\n",
       "      <td>4</td>\n",
       "      <td>0</td>\n",
       "      <td>3</td>\n",
       "      <td>3</td>\n",
       "      <td>2718.0</td>\n",
       "      <td>21585.0</td>\n",
       "      <td>7.4</td>\n",
       "      <td>0</td>\n",
       "      <td>0</td>\n",
       "      <td>166.0</td>\n",
       "      <td>218</td>\n",
       "      <td>10</td>\n",
       "      <td>10</td>\n",
       "      <td>0</td>\n",
       "      <td>31.0</td>\n",
       "      <td>NaN</td>\n",
       "      <td>1.0</td>\n",
       "      <td>NaN</td>\n",
       "      <td>0</td>\n",
       "      <td>3</td>\n",
       "      <td>3</td>\n",
       "      <td>3</td>\n",
       "      <td>4</td>\n",
       "      <td>13</td>\n",
       "      <td>5</td>\n",
       "      <td>6</td>\n",
       "      <td>3</td>\n",
       "      <td>13</td>\n",
       "      <td>0.0</td>\n",
       "      <td>0</td>\n",
       "      <td>0</td>\n",
       "      <td>2</td>\n",
       "      <td>100.0</td>\n",
       "      <td>0.0</td>\n",
       "      <td>0</td>\n",
       "      <td>0</td>\n",
       "      <td>65092</td>\n",
       "      <td>35329</td>\n",
       "      <td>23300</td>\n",
       "      <td>31792</td>\n",
       "      <td>NaN</td>\n",
       "      <td>NaN</td>\n",
       "      <td>NaN</td>\n",
       "      <td>NaN</td>\n",
       "      <td>NaN</td>\n",
       "      <td>NaN</td>\n",
       "      <td>NaN</td>\n",
       "      <td>NaN</td>\n",
       "      <td>NaN</td>\n",
       "      <td>NaN</td>\n",
       "      <td>NaN</td>\n",
       "      <td>Cash</td>\n",
       "      <td>7.21</td>\n",
       "    </tr>\n",
       "    <tr>\n",
       "      <th>3</th>\n",
       "      <td>24878</td>\n",
       "      <td>NaN</td>\n",
       "      <td>12000</td>\n",
       "      <td>12000</td>\n",
       "      <td>36 months</td>\n",
       "      <td>384.06</td>\n",
       "      <td>B</td>\n",
       "      <td>B1</td>\n",
       "      <td>Client Processing Associate</td>\n",
       "      <td>10+ years</td>\n",
       "      <td>MORTGAGE</td>\n",
       "      <td>62000.0</td>\n",
       "      <td>NaN</td>\n",
       "      <td>NaN</td>\n",
       "      <td>debt_consolidation</td>\n",
       "      <td>Debt consolidation</td>\n",
       "      <td>441xx</td>\n",
       "      <td>OH</td>\n",
       "      <td>13.76</td>\n",
       "      <td>0</td>\n",
       "      <td>Feb-2003</td>\n",
       "      <td>0</td>\n",
       "      <td>NaN</td>\n",
       "      <td>NaN</td>\n",
       "      <td>22</td>\n",
       "      <td>0</td>\n",
       "      <td>9404</td>\n",
       "      <td>16.3%</td>\n",
       "      <td>33</td>\n",
       "      <td>w</td>\n",
       "      <td>0</td>\n",
       "      <td>NaN</td>\n",
       "      <td>Individual</td>\n",
       "      <td>NaN</td>\n",
       "      <td>NaN</td>\n",
       "      <td>0</td>\n",
       "      <td>0</td>\n",
       "      <td>75160</td>\n",
       "      <td>4</td>\n",
       "      <td>1</td>\n",
       "      <td>0</td>\n",
       "      <td>2</td>\n",
       "      <td>13.0</td>\n",
       "      <td>17123</td>\n",
       "      <td>67.0</td>\n",
       "      <td>6</td>\n",
       "      <td>9</td>\n",
       "      <td>6898</td>\n",
       "      <td>32.0</td>\n",
       "      <td>57600</td>\n",
       "      <td>3</td>\n",
       "      <td>1</td>\n",
       "      <td>2</td>\n",
       "      <td>12</td>\n",
       "      <td>3579.0</td>\n",
       "      <td>33602.0</td>\n",
       "      <td>17.0</td>\n",
       "      <td>0</td>\n",
       "      <td>0</td>\n",
       "      <td>162.0</td>\n",
       "      <td>179</td>\n",
       "      <td>1</td>\n",
       "      <td>1</td>\n",
       "      <td>1</td>\n",
       "      <td>1.0</td>\n",
       "      <td>NaN</td>\n",
       "      <td>5.0</td>\n",
       "      <td>NaN</td>\n",
       "      <td>0</td>\n",
       "      <td>1</td>\n",
       "      <td>3</td>\n",
       "      <td>9</td>\n",
       "      <td>13</td>\n",
       "      <td>7</td>\n",
       "      <td>20</td>\n",
       "      <td>25</td>\n",
       "      <td>3</td>\n",
       "      <td>22</td>\n",
       "      <td>0.0</td>\n",
       "      <td>0</td>\n",
       "      <td>0</td>\n",
       "      <td>7</td>\n",
       "      <td>100.0</td>\n",
       "      <td>0.0</td>\n",
       "      <td>0</td>\n",
       "      <td>0</td>\n",
       "      <td>133065</td>\n",
       "      <td>26527</td>\n",
       "      <td>40500</td>\n",
       "      <td>25465</td>\n",
       "      <td>NaN</td>\n",
       "      <td>NaN</td>\n",
       "      <td>NaN</td>\n",
       "      <td>NaN</td>\n",
       "      <td>NaN</td>\n",
       "      <td>NaN</td>\n",
       "      <td>NaN</td>\n",
       "      <td>NaN</td>\n",
       "      <td>NaN</td>\n",
       "      <td>NaN</td>\n",
       "      <td>NaN</td>\n",
       "      <td>Cash</td>\n",
       "      <td>9.44</td>\n",
       "    </tr>\n",
       "    <tr>\n",
       "      <th>4</th>\n",
       "      <td>39038</td>\n",
       "      <td>NaN</td>\n",
       "      <td>12000</td>\n",
       "      <td>12000</td>\n",
       "      <td>36 months</td>\n",
       "      <td>460.47</td>\n",
       "      <td>D</td>\n",
       "      <td>D5</td>\n",
       "      <td>Construction Operator</td>\n",
       "      <td>10+ years</td>\n",
       "      <td>MORTGAGE</td>\n",
       "      <td>70000.0</td>\n",
       "      <td>NaN</td>\n",
       "      <td>NaN</td>\n",
       "      <td>debt_consolidation</td>\n",
       "      <td>Debt consolidation</td>\n",
       "      <td>751xx</td>\n",
       "      <td>TX</td>\n",
       "      <td>14.04</td>\n",
       "      <td>4</td>\n",
       "      <td>Nov-2001</td>\n",
       "      <td>2</td>\n",
       "      <td>13.0</td>\n",
       "      <td>NaN</td>\n",
       "      <td>18</td>\n",
       "      <td>0</td>\n",
       "      <td>17895</td>\n",
       "      <td>24.2%</td>\n",
       "      <td>45</td>\n",
       "      <td>w</td>\n",
       "      <td>0</td>\n",
       "      <td>13.0</td>\n",
       "      <td>Individual</td>\n",
       "      <td>NaN</td>\n",
       "      <td>NaN</td>\n",
       "      <td>0</td>\n",
       "      <td>7218</td>\n",
       "      <td>113702</td>\n",
       "      <td>9</td>\n",
       "      <td>2</td>\n",
       "      <td>2</td>\n",
       "      <td>4</td>\n",
       "      <td>6.0</td>\n",
       "      <td>16711</td>\n",
       "      <td>68.0</td>\n",
       "      <td>9</td>\n",
       "      <td>10</td>\n",
       "      <td>5373</td>\n",
       "      <td>35.0</td>\n",
       "      <td>73900</td>\n",
       "      <td>3</td>\n",
       "      <td>6</td>\n",
       "      <td>3</td>\n",
       "      <td>14</td>\n",
       "      <td>6317.0</td>\n",
       "      <td>32863.0</td>\n",
       "      <td>24.1</td>\n",
       "      <td>0</td>\n",
       "      <td>0</td>\n",
       "      <td>159.0</td>\n",
       "      <td>201</td>\n",
       "      <td>0</td>\n",
       "      <td>0</td>\n",
       "      <td>1</td>\n",
       "      <td>0.0</td>\n",
       "      <td>62.0</td>\n",
       "      <td>3.0</td>\n",
       "      <td>62.0</td>\n",
       "      <td>6</td>\n",
       "      <td>9</td>\n",
       "      <td>11</td>\n",
       "      <td>11</td>\n",
       "      <td>14</td>\n",
       "      <td>22</td>\n",
       "      <td>15</td>\n",
       "      <td>20</td>\n",
       "      <td>11</td>\n",
       "      <td>18</td>\n",
       "      <td>0.0</td>\n",
       "      <td>0</td>\n",
       "      <td>2</td>\n",
       "      <td>11</td>\n",
       "      <td>82.2</td>\n",
       "      <td>9.1</td>\n",
       "      <td>0</td>\n",
       "      <td>0</td>\n",
       "      <td>192842</td>\n",
       "      <td>34606</td>\n",
       "      <td>43300</td>\n",
       "      <td>24499</td>\n",
       "      <td>NaN</td>\n",
       "      <td>NaN</td>\n",
       "      <td>NaN</td>\n",
       "      <td>NaN</td>\n",
       "      <td>NaN</td>\n",
       "      <td>NaN</td>\n",
       "      <td>NaN</td>\n",
       "      <td>NaN</td>\n",
       "      <td>NaN</td>\n",
       "      <td>NaN</td>\n",
       "      <td>NaN</td>\n",
       "      <td>Cash</td>\n",
       "      <td>22.35</td>\n",
       "    </tr>\n",
       "  </tbody>\n",
       "</table>\n",
       "</div>"
      ],
      "text/plain": [
       "      id  member_id  loan_amnt  funded_amnt        term  installment grade  \\\n",
       "0  43373        NaN      12000        12000   36 months       422.01     C   \n",
       "1  24414        NaN       6300         6300   36 months       215.54     C   \n",
       "2  46723        NaN       4500         4500   36 months       139.38     A   \n",
       "3  24878        NaN      12000        12000   36 months       384.06     B   \n",
       "4  39038        NaN      12000        12000   36 months       460.47     D   \n",
       "\n",
       "  sub_grade                    emp_title emp_length home_ownership  \\\n",
       "0        C5                       Driver    4 years       MORTGAGE   \n",
       "1        C3                     GMP Lead    4 years           RENT   \n",
       "2        A3                    Accounts     3 years           RENT   \n",
       "3        B1  Client Processing Associate  10+ years       MORTGAGE   \n",
       "4        D5       Construction Operator   10+ years       MORTGAGE   \n",
       "\n",
       "   annual_inc  url  desc             purpose               title zip_code  \\\n",
       "0     81000.0  NaN   NaN  debt_consolidation  Debt consolidation    280xx   \n",
       "1     39000.0  NaN   NaN  debt_consolidation  Debt consolidation    920xx   \n",
       "2     78000.0  NaN   NaN  debt_consolidation  Debt consolidation    906xx   \n",
       "3     62000.0  NaN   NaN  debt_consolidation  Debt consolidation    441xx   \n",
       "4     70000.0  NaN   NaN  debt_consolidation  Debt consolidation    751xx   \n",
       "\n",
       "  addr_state    dti  delinq_2yrs earliest_cr_line  inq_last_6mths  \\\n",
       "0         NC  12.76            0         Dec-2005               1   \n",
       "1         CA  21.42            0         Mar-2012               1   \n",
       "2         CA   2.17            0         May-2000               2   \n",
       "3         OH  13.76            0         Feb-2003               0   \n",
       "4         TX  14.04            4         Nov-2001               2   \n",
       "\n",
       "   mths_since_last_delinq  mths_since_last_record  open_acc  pub_rec  \\\n",
       "0                    48.0                     NaN         7        0   \n",
       "1                     NaN                     NaN        10        0   \n",
       "2                     NaN                     NaN        13        0   \n",
       "3                     NaN                     NaN        22        0   \n",
       "4                    13.0                     NaN        18        0   \n",
       "\n",
       "   revol_bal revol_util  total_acc initial_list_status  \\\n",
       "0       4912      23.5%         15                   w   \n",
       "1      11876      59.4%         12                   w   \n",
       "2       1715       5.2%         19                   w   \n",
       "3       9404      16.3%         33                   w   \n",
       "4      17895      24.2%         45                   w   \n",
       "\n",
       "   collections_12_mths_ex_med  mths_since_last_major_derog application_type  \\\n",
       "0                           0                         48.0       Individual   \n",
       "1                           0                          NaN       Individual   \n",
       "2                           0                          NaN       Individual   \n",
       "3                           0                          NaN       Individual   \n",
       "4                           0                         13.0       Individual   \n",
       "\n",
       "   annual_inc_joint  dti_joint  acc_now_delinq  tot_coll_amt  tot_cur_bal  \\\n",
       "0               NaN        NaN               0             0       174783   \n",
       "1               NaN        NaN               0             0        31046   \n",
       "2               NaN        NaN               0             0        35329   \n",
       "3               NaN        NaN               0             0        75160   \n",
       "4               NaN        NaN               0          7218       113702   \n",
       "\n",
       "   open_acc_6m  open_act_il  open_il_12m  open_il_24m  mths_since_rcnt_il  \\\n",
       "0            1            2            0            4                13.0   \n",
       "1            0            1            0            2                14.0   \n",
       "2            0            8            1            2                10.0   \n",
       "3            4            1            0            2                13.0   \n",
       "4            9            2            2            4                 6.0   \n",
       "\n",
       "   total_bal_il  il_util  open_rv_12m  open_rv_24m  max_bal_bc  all_util  \\\n",
       "0         33668     82.0            2            5        2962      63.0   \n",
       "1         19170     83.0            3            8        5153      72.0   \n",
       "2         33614    106.0            1            1        1196      54.0   \n",
       "3         17123     67.0            6            9        6898      32.0   \n",
       "4         16711     68.0            9           10        5373      35.0   \n",
       "\n",
       "   total_rev_hi_lim  inq_fi  total_cu_tl  inq_last_12m  acc_open_past_24mths  \\\n",
       "0             20900       1            1             2                     9   \n",
       "1             20000       1            0             1                    10   \n",
       "2             33300       4            0             3                     3   \n",
       "3             57600       3            1             2                    12   \n",
       "4             73900       3            6             3                    14   \n",
       "\n",
       "   avg_cur_bal  bc_open_to_buy  bc_util  chargeoff_within_12_mths  \\\n",
       "0      24969.0           588.0     89.3                         0   \n",
       "1       3105.0          6877.0     59.3                         0   \n",
       "2       2718.0         21585.0      7.4                         0   \n",
       "3       3579.0         33602.0     17.0                         0   \n",
       "4       6317.0         32863.0     24.1                         0   \n",
       "\n",
       "   delinq_amnt  mo_sin_old_il_acct  mo_sin_old_rev_tl_op  \\\n",
       "0            0               145.0                    23   \n",
       "1            0                17.0                    72   \n",
       "2            0               166.0                   218   \n",
       "3            0               162.0                   179   \n",
       "4            0               159.0                   201   \n",
       "\n",
       "   mo_sin_rcnt_rev_tl_op  mo_sin_rcnt_tl  mort_acc  mths_since_recent_bc  \\\n",
       "0                      1               1         1                   8.0   \n",
       "1                      8               8         0                   8.0   \n",
       "2                     10              10         0                  31.0   \n",
       "3                      1               1         1                   1.0   \n",
       "4                      0               0         1                   0.0   \n",
       "\n",
       "   mths_since_recent_bc_dlq  mths_since_recent_inq  \\\n",
       "0                       NaN                    1.0   \n",
       "1                       NaN                    6.0   \n",
       "2                       NaN                    1.0   \n",
       "3                       NaN                    5.0   \n",
       "4                      62.0                    3.0   \n",
       "\n",
       "   mths_since_recent_revol_delinq  num_accts_ever_120_pd  num_actv_bc_tl  \\\n",
       "0                             NaN                      2               2   \n",
       "1                             NaN                      0               6   \n",
       "2                             NaN                      0               3   \n",
       "3                             NaN                      0               1   \n",
       "4                            62.0                      6               9   \n",
       "\n",
       "   num_actv_rev_tl  num_bc_sats  num_bc_tl  num_il_tl  num_op_rev_tl  \\\n",
       "0                2            2          2          9              4   \n",
       "1                7            7          8          2              9   \n",
       "2                3            3          4         13              5   \n",
       "3                3            9         13          7             20   \n",
       "4               11           11         14         22             15   \n",
       "\n",
       "   num_rev_accts  num_rev_tl_bal_gt_0  num_sats  num_tl_120dpd_2m  \\\n",
       "0              5                    2         7               0.0   \n",
       "1             10                    7        10               0.0   \n",
       "2              6                    3        13               0.0   \n",
       "3             25                    3        22               0.0   \n",
       "4             20                   11        18               0.0   \n",
       "\n",
       "   num_tl_30dpd  num_tl_90g_dpd_24m  num_tl_op_past_12m  pct_tl_nvr_dlq  \\\n",
       "0             0                   0                   2            92.9   \n",
       "1             0                   0                   3           100.0   \n",
       "2             0                   0                   2           100.0   \n",
       "3             0                   0                   7           100.0   \n",
       "4             0                   2                  11            82.2   \n",
       "\n",
       "   percent_bc_gt_75  pub_rec_bankruptcies  tax_liens  tot_hi_cred_lim  \\\n",
       "0             100.0                     0          0           206618   \n",
       "1              42.9                     0          0            43140   \n",
       "2               0.0                     0          0            65092   \n",
       "3               0.0                     0          0           133065   \n",
       "4               9.1                     0          0           192842   \n",
       "\n",
       "   total_bal_ex_mort  total_bc_limit  total_il_high_credit_limit  \\\n",
       "0              38580            5500                       40863   \n",
       "1              31046           16900                       23140   \n",
       "2              35329           23300                       31792   \n",
       "3              26527           40500                       25465   \n",
       "4              34606           43300                       24499   \n",
       "\n",
       "   revol_bal_joint sec_app_earliest_cr_line  sec_app_inq_last_6mths  \\\n",
       "0              NaN                      NaN                     NaN   \n",
       "1              NaN                      NaN                     NaN   \n",
       "2              NaN                      NaN                     NaN   \n",
       "3              NaN                      NaN                     NaN   \n",
       "4              NaN                      NaN                     NaN   \n",
       "\n",
       "   sec_app_mort_acc  sec_app_open_acc  sec_app_revol_util  \\\n",
       "0               NaN               NaN                 NaN   \n",
       "1               NaN               NaN                 NaN   \n",
       "2               NaN               NaN                 NaN   \n",
       "3               NaN               NaN                 NaN   \n",
       "4               NaN               NaN                 NaN   \n",
       "\n",
       "   sec_app_open_act_il  sec_app_num_rev_accts  \\\n",
       "0                  NaN                    NaN   \n",
       "1                  NaN                    NaN   \n",
       "2                  NaN                    NaN   \n",
       "3                  NaN                    NaN   \n",
       "4                  NaN                    NaN   \n",
       "\n",
       "   sec_app_chargeoff_within_12_mths  sec_app_collections_12_mths_ex_med  \\\n",
       "0                               NaN                                 NaN   \n",
       "1                               NaN                                 NaN   \n",
       "2                               NaN                                 NaN   \n",
       "3                               NaN                                 NaN   \n",
       "4                               NaN                                 NaN   \n",
       "\n",
       "   sec_app_mths_since_last_major_derog disbursement_method  int_rates  \n",
       "0                                  NaN                Cash      16.02  \n",
       "1                                  NaN                Cash      14.07  \n",
       "2                                  NaN                Cash       7.21  \n",
       "3                                  NaN                Cash       9.44  \n",
       "4                                  NaN                Cash      22.35  "
      ]
     },
     "execution_count": 86,
     "metadata": {},
     "output_type": "execute_result"
    }
   ],
   "source": [
    "df.head()"
   ]
  },
  {
   "cell_type": "code",
   "execution_count": null,
   "metadata": {},
   "outputs": [],
   "source": [
    "df.sec_app_earliest_cr_line.notnan()"
   ]
  },
  {
   "cell_type": "code",
   "execution_count": 139,
   "metadata": {
    "ExecuteTime": {
     "end_time": "2019-03-18T23:25:29.492545Z",
     "start_time": "2019-03-18T23:25:29.465739Z"
    }
   },
   "outputs": [],
   "source": [
    "rev_util_mean = df.revol_util.dropna().apply(lambda f: float(f[:-1])).mean()"
   ]
  },
  {
   "cell_type": "code",
   "execution_count": null,
   "metadata": {},
   "outputs": [],
   "source": []
  },
  {
   "cell_type": "code",
   "execution_count": null,
   "metadata": {},
   "outputs": [],
   "source": []
  },
  {
   "cell_type": "code",
   "execution_count": 140,
   "metadata": {
    "ExecuteTime": {
     "end_time": "2019-03-18T23:25:29.873312Z",
     "start_time": "2019-03-18T23:25:29.841407Z"
    }
   },
   "outputs": [],
   "source": [
    "df.revol_util = df.revol_util.apply(lambda f: rev_util_mean if isinstance(f, float) else float(f[:-1]))"
   ]
  },
  {
   "cell_type": "code",
   "execution_count": 133,
   "metadata": {
    "ExecuteTime": {
     "end_time": "2019-03-18T22:47:44.440163Z",
     "start_time": "2019-03-18T22:47:44.135092Z"
    }
   },
   "outputs": [],
   "source": [
    "df.earliest_cr_line = df.earliest_cr_line.apply(lambda d: datetime.strptime(d,'%b-%Y'))"
   ]
  },
  {
   "cell_type": "code",
   "execution_count": 88,
   "metadata": {
    "ExecuteTime": {
     "end_time": "2019-03-18T21:47:09.907957Z",
     "start_time": "2019-03-18T21:47:09.874612Z"
    }
   },
   "outputs": [
    {
     "data": {
      "text/plain": [
       "10"
      ]
     },
     "execution_count": 88,
     "metadata": {},
     "output_type": "execute_result"
    }
   ],
   "source": [
    "max(df.term.str.len())\n",
    "// ' 36 months'\n"
   ]
  },
  {
   "cell_type": "code",
   "execution_count": 97,
   "metadata": {
    "ExecuteTime": {
     "end_time": "2019-03-18T21:51:15.614858Z",
     "start_time": "2019-03-18T21:51:15.580839Z"
    }
   },
   "outputs": [],
   "source": [
    "df.term = df.term.apply(lambda t: int(t[1:3]))"
   ]
  },
  {
   "cell_type": "code",
   "execution_count": 98,
   "metadata": {
    "ExecuteTime": {
     "end_time": "2019-03-18T21:51:26.520326Z",
     "start_time": "2019-03-18T21:51:26.512809Z"
    }
   },
   "outputs": [
    {
     "data": {
      "text/plain": [
       "0    36\n",
       "1    36\n",
       "2    36\n",
       "3    36\n",
       "4    36\n",
       "Name: term, dtype: int64"
      ]
     },
     "execution_count": 98,
     "metadata": {},
     "output_type": "execute_result"
    }
   ],
   "source": [
    "df.term.head()"
   ]
  },
  {
   "cell_type": "code",
   "execution_count": 100,
   "metadata": {
    "ExecuteTime": {
     "end_time": "2019-03-18T21:54:20.948835Z",
     "start_time": "2019-03-18T21:54:20.910039Z"
    }
   },
   "outputs": [],
   "source": [
    "df.grade = df[['grade', 'sub_grade']].apply(lambda o: o[0] + '-' + o[1])"
   ]
  },
  {
   "cell_type": "code",
   "execution_count": null,
   "metadata": {},
   "outputs": [],
   "source": []
  },
  {
   "cell_type": "code",
   "execution_count": 56,
   "metadata": {
    "ExecuteTime": {
     "end_time": "2019-03-18T21:24:35.501015Z",
     "start_time": "2019-03-18T21:24:35.492332Z"
    }
   },
   "outputs": [],
   "source": [
    "dfl = df.columns.tolist()"
   ]
  },
  {
   "cell_type": "code",
   "execution_count": 66,
   "metadata": {
    "ExecuteTime": {
     "end_time": "2019-03-18T21:28:16.369430Z",
     "start_time": "2019-03-18T21:28:16.361095Z"
    }
   },
   "outputs": [
    {
     "data": {
      "text/plain": [
       "id                                       int64\n",
       "member_id                              float64\n",
       "loan_amnt                                int64\n",
       "funded_amnt                              int64\n",
       "term                                    object\n",
       "int_rate                                object\n",
       "installment                            float64\n",
       "grade                                   object\n",
       "sub_grade                               object\n",
       "emp_title                               object\n",
       "emp_length                              object\n",
       "home_ownership                          object\n",
       "annual_inc                             float64\n",
       "url                                    float64\n",
       "desc                                   float64\n",
       "purpose                                 object\n",
       "title                                   object\n",
       "zip_code                                object\n",
       "addr_state                              object\n",
       "dti                                    float64\n",
       "delinq_2yrs                              int64\n",
       "earliest_cr_line                        object\n",
       "inq_last_6mths                           int64\n",
       "mths_since_last_delinq                 float64\n",
       "mths_since_last_record                 float64\n",
       "open_acc                                 int64\n",
       "pub_rec                                  int64\n",
       "revol_bal                                int64\n",
       "revol_util                              object\n",
       "total_acc                                int64\n",
       "initial_list_status                     object\n",
       "collections_12_mths_ex_med               int64\n",
       "mths_since_last_major_derog            float64\n",
       "application_type                        object\n",
       "annual_inc_joint                       float64\n",
       "dti_joint                              float64\n",
       "acc_now_delinq                           int64\n",
       "tot_coll_amt                             int64\n",
       "tot_cur_bal                              int64\n",
       "open_acc_6m                              int64\n",
       "open_act_il                              int64\n",
       "open_il_12m                              int64\n",
       "open_il_24m                              int64\n",
       "mths_since_rcnt_il                     float64\n",
       "total_bal_il                             int64\n",
       "il_util                                float64\n",
       "open_rv_12m                              int64\n",
       "open_rv_24m                              int64\n",
       "max_bal_bc                               int64\n",
       "all_util                               float64\n",
       "total_rev_hi_lim                         int64\n",
       "inq_fi                                   int64\n",
       "total_cu_tl                              int64\n",
       "inq_last_12m                             int64\n",
       "acc_open_past_24mths                     int64\n",
       "avg_cur_bal                            float64\n",
       "bc_open_to_buy                         float64\n",
       "bc_util                                float64\n",
       "chargeoff_within_12_mths                 int64\n",
       "delinq_amnt                              int64\n",
       "mo_sin_old_il_acct                     float64\n",
       "mo_sin_old_rev_tl_op                     int64\n",
       "mo_sin_rcnt_rev_tl_op                    int64\n",
       "mo_sin_rcnt_tl                           int64\n",
       "mort_acc                                 int64\n",
       "mths_since_recent_bc                   float64\n",
       "mths_since_recent_bc_dlq               float64\n",
       "mths_since_recent_inq                  float64\n",
       "mths_since_recent_revol_delinq         float64\n",
       "num_accts_ever_120_pd                    int64\n",
       "num_actv_bc_tl                           int64\n",
       "num_actv_rev_tl                          int64\n",
       "num_bc_sats                              int64\n",
       "num_bc_tl                                int64\n",
       "num_il_tl                                int64\n",
       "num_op_rev_tl                            int64\n",
       "num_rev_accts                            int64\n",
       "num_rev_tl_bal_gt_0                      int64\n",
       "num_sats                                 int64\n",
       "num_tl_120dpd_2m                       float64\n",
       "num_tl_30dpd                             int64\n",
       "num_tl_90g_dpd_24m                       int64\n",
       "num_tl_op_past_12m                       int64\n",
       "pct_tl_nvr_dlq                         float64\n",
       "percent_bc_gt_75                       float64\n",
       "pub_rec_bankruptcies                     int64\n",
       "tax_liens                                int64\n",
       "tot_hi_cred_lim                          int64\n",
       "total_bal_ex_mort                        int64\n",
       "total_bc_limit                           int64\n",
       "total_il_high_credit_limit               int64\n",
       "revol_bal_joint                        float64\n",
       "sec_app_earliest_cr_line                object\n",
       "sec_app_inq_last_6mths                 float64\n",
       "sec_app_mort_acc                       float64\n",
       "sec_app_open_acc                       float64\n",
       "sec_app_revol_util                     float64\n",
       "sec_app_open_act_il                    float64\n",
       "sec_app_num_rev_accts                  float64\n",
       "sec_app_chargeoff_within_12_mths       float64\n",
       "sec_app_collections_12_mths_ex_med     float64\n",
       "sec_app_mths_since_last_major_derog    float64\n",
       "disbursement_method                     object\n",
       "dtype: object"
      ]
     },
     "execution_count": 66,
     "metadata": {},
     "output_type": "execute_result"
    }
   ],
   "source": [
    "df.dtypes"
   ]
  },
  {
   "cell_type": "code",
   "execution_count": 105,
   "metadata": {
    "ExecuteTime": {
     "end_time": "2019-03-18T22:17:33.807792Z",
     "start_time": "2019-03-18T22:17:33.774794Z"
    }
   },
   "outputs": [
    {
     "data": {
      "text/plain": [
       "9.0"
      ]
     },
     "execution_count": 105,
     "metadata": {},
     "output_type": "execute_result"
    }
   ],
   "source": [
    "max(df.emp_length.str.len())"
   ]
  },
  {
   "cell_type": "code",
   "execution_count": 111,
   "metadata": {
    "ExecuteTime": {
     "end_time": "2019-03-18T22:20:12.404396Z",
     "start_time": "2019-03-18T22:20:12.396580Z"
    }
   },
   "outputs": [
    {
     "name": "stdout",
     "output_type": "stream",
     "text": [
      "|4 years|10+ years|\n"
     ]
    }
   ],
   "source": [
    "print(f\"|{df.emp_length.iloc[0]}|{df.emp_length.iloc[4]}|\")"
   ]
  },
  {
   "cell_type": "code",
   "execution_count": 127,
   "metadata": {
    "ExecuteTime": {
     "end_time": "2019-03-18T22:33:13.510033Z",
     "start_time": "2019-03-18T22:33:13.499185Z"
    }
   },
   "outputs": [],
   "source": [
    "def el(e):\n",
    "    if isinstance(e, float) or e[0] == '<':\n",
    "        return 0\n",
    "    return int(e[0:(2 if e[1] == '0' else 1)])"
   ]
  },
  {
   "cell_type": "code",
   "execution_count": 128,
   "metadata": {
    "ExecuteTime": {
     "end_time": "2019-03-18T22:33:15.592599Z",
     "start_time": "2019-03-18T22:33:15.569873Z"
    }
   },
   "outputs": [],
   "source": [
    "df.emp_length = df.emp_length.apply(lambda e: el(e))"
   ]
  },
  {
   "cell_type": "code",
   "execution_count": 44,
   "metadata": {
    "ExecuteTime": {
     "end_time": "2019-03-18T21:21:50.137732Z",
     "start_time": "2019-03-18T21:21:50.112138Z"
    }
   },
   "outputs": [],
   "source": [
    "df_train_y =  pd.read_csv('train_labels.csv')"
   ]
  },
  {
   "cell_type": "code",
   "execution_count": 45,
   "metadata": {
    "ExecuteTime": {
     "end_time": "2019-03-18T21:21:50.722808Z",
     "start_time": "2019-03-18T21:21:50.708658Z"
    }
   },
   "outputs": [
    {
     "data": {
      "text/plain": [
       "id             int64\n",
       "charged_off    int64\n",
       "dtype: object"
      ]
     },
     "execution_count": 45,
     "metadata": {},
     "output_type": "execute_result"
    }
   ],
   "source": [
    "df_train_y.dtypes"
   ]
  },
  {
   "cell_type": "code",
   "execution_count": 46,
   "metadata": {
    "ExecuteTime": {
     "end_time": "2019-03-18T21:22:02.317592Z",
     "start_time": "2019-03-18T21:22:02.315550Z"
    }
   },
   "outputs": [],
   "source": [
    "# df['y'] = df_train_y.charged_off"
   ]
  },
  {
   "cell_type": "code",
   "execution_count": 77,
   "metadata": {
    "ExecuteTime": {
     "end_time": "2019-03-18T21:38:00.953058Z",
     "start_time": "2019-03-18T21:38:00.945658Z"
    }
   },
   "outputs": [],
   "source": [
    "import matplotlib.pyplot as plt\n",
    "import seaborn as sns\n",
    "%matplotlib inline\n",
    "from sklearn.tree import DecisionTreeClassifier\n",
    "from sklearn.impute import SimpleImputer\n",
    "imputer = SimpleImputer()\n",
    "import numpy as np"
   ]
  },
  {
   "cell_type": "code",
   "execution_count": 39,
   "metadata": {
    "ExecuteTime": {
     "end_time": "2019-03-18T21:19:58.932244Z",
     "start_time": "2019-03-18T21:19:58.928410Z"
    }
   },
   "outputs": [],
   "source": [
    "# sns.set(style='ticks', color_codes=True)\n",
    "# independant_columns = df.columns.drop('y')\n",
    "# sns.pairplot(data=df,\n",
    "#                   y_vars=['y'],\n",
    "#                   x_vars=independant_columns)\n",
    "# plt.show()"
   ]
  },
  {
   "cell_type": "code",
   "execution_count": 74,
   "metadata": {
    "ExecuteTime": {
     "end_time": "2019-03-18T21:34:47.961818Z",
     "start_time": "2019-03-18T21:34:47.932503Z"
    }
   },
   "outputs": [],
   "source": [
    "df['int_rates'] = df.int_rate.apply(lambda r: float(r[:-1]))"
   ]
  },
  {
   "cell_type": "code",
   "execution_count": 76,
   "metadata": {
    "ExecuteTime": {
     "end_time": "2019-03-18T21:35:25.180212Z",
     "start_time": "2019-03-18T21:35:25.173125Z"
    }
   },
   "outputs": [
    {
     "data": {
      "text/plain": [
       "0    16.02\n",
       "1    14.07\n",
       "2     7.21\n",
       "3     9.44\n",
       "4    22.35\n",
       "Name: int_rates, dtype: float64"
      ]
     },
     "execution_count": 76,
     "metadata": {},
     "output_type": "execute_result"
    }
   ],
   "source": [
    "df.int_rates.head()"
   ]
  },
  {
   "cell_type": "code",
   "execution_count": 103,
   "metadata": {
    "ExecuteTime": {
     "end_time": "2019-03-18T21:57:00.223808Z",
     "start_time": "2019-03-18T21:57:00.200266Z"
    }
   },
   "outputs": [],
   "source": [
    "df.drop(['sub_grade'], axis=1, inplace=True)\n",
    "// 'int-rate'"
   ]
  },
  {
   "cell_type": "code",
   "execution_count": 141,
   "metadata": {
    "ExecuteTime": {
     "end_time": "2019-03-18T23:25:49.225046Z",
     "start_time": "2019-03-18T23:25:49.194683Z"
    }
   },
   "outputs": [
    {
     "data": {
      "text/plain": [
       "Index(['grade', 'emp_title', 'home_ownership', 'purpose', 'title', 'zip_code',\n",
       "       'addr_state', 'earliest_cr_line', 'initial_list_status',\n",
       "       'application_type', 'sec_app_earliest_cr_line', 'disbursement_method'],\n",
       "      dtype='object')"
      ]
     },
     "execution_count": 141,
     "metadata": {},
     "output_type": "execute_result"
    }
   ],
   "source": [
    " df.select_dtypes(exclude=[np.number]).columns"
   ]
  },
  {
   "cell_type": "code",
   "execution_count": null,
   "metadata": {},
   "outputs": [],
   "source": []
  },
  {
   "cell_type": "code",
   "execution_count": null,
   "metadata": {},
   "outputs": [],
   "source": []
  },
  {
   "cell_type": "code",
   "execution_count": 85,
   "metadata": {
    "ExecuteTime": {
     "end_time": "2019-03-18T21:40:30.398625Z",
     "start_time": "2019-03-18T21:40:30.387928Z"
    }
   },
   "outputs": [
    {
     "data": {
      "text/plain": [
       "0    280xx\n",
       "1    920xx\n",
       "2    906xx\n",
       "3    441xx\n",
       "4    751xx\n",
       "Name: zip_code, dtype: object"
      ]
     },
     "execution_count": 85,
     "metadata": {},
     "output_type": "execute_result"
    }
   ],
   "source": [
    "df.zip_code.head()"
   ]
  },
  {
   "cell_type": "code",
   "execution_count": 75,
   "metadata": {
    "ExecuteTime": {
     "end_time": "2019-03-18T21:34:58.600548Z",
     "start_time": "2019-03-18T21:34:58.570326Z"
    }
   },
   "outputs": [],
   "source": [
    "X = imputer.fit_transform(df[['int_rates']])"
   ]
  },
  {
   "cell_type": "code",
   "execution_count": 32,
   "metadata": {
    "ExecuteTime": {
     "end_time": "2019-03-18T21:15:17.436092Z",
     "start_time": "2019-03-18T21:15:17.361077Z"
    }
   },
   "outputs": [],
   "source": [
    "from sklearn.tree import DecisionTreeClassifier"
   ]
  },
  {
   "cell_type": "code",
   "execution_count": null,
   "metadata": {},
   "outputs": [],
   "source": [
    "def classify_loans(max_depth):\n",
    "    tree = DecisionTreeClassifier(max_depth=max_depth)\n",
    "    tree.fit(df, d.train_y.chargedoff)\n",
    "    plot_decision_regions(titanic_X, titanic_y, tree, legend=False)\n",
    "    plt.axis((0,75,0,175))\n",
    "    plt.show()"
   ]
  }
 ],
 "metadata": {
  "kernelspec": {
   "display_name": "Python 3",
   "language": "python",
   "name": "python3"
  },
  "language_info": {
   "codemirror_mode": {
    "name": "ipython",
    "version": 3
   },
   "file_extension": ".py",
   "mimetype": "text/x-python",
   "name": "python",
   "nbconvert_exporter": "python",
   "pygments_lexer": "ipython3",
   "version": "3.6.6"
  },
  "latex_envs": {
   "LaTeX_envs_menu_present": true,
   "autoclose": false,
   "autocomplete": true,
   "bibliofile": "biblio.bib",
   "cite_by": "apalike",
   "current_citInitial": 1,
   "eqLabelWithNumbers": true,
   "eqNumInitial": 1,
   "hotkeys": {
    "equation": "Ctrl-E",
    "itemize": "Ctrl-I"
   },
   "labels_anchors": false,
   "latex_user_defs": false,
   "report_style_numbering": false,
   "user_envs_cfg": false
  }
 },
 "nbformat": 4,
 "nbformat_minor": 2
}

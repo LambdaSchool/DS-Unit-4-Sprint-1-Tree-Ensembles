{
 "cells": [
  {
   "cell_type": "markdown",
   "metadata": {
    "colab_type": "text",
    "id": "A0-sUApS7MIs"
   },
   "source": [
    "_Lambda School Data Science — Tree Ensembles_ \n",
    "\n",
    "# Decision Trees\n",
    "\n",
    "### Pre-read / pre-watch\n",
    "- A Visual Introduction to Machine Learning, [Part 1: A Decision Tree](http://www.r2d3.us/visual-intro-to-machine-learning-part-1/),  and [Part 2: Bias and Variance](http://www.r2d3.us/visual-intro-to-machine-learning-part-2/)\n",
    "- [Let’s Write a Decision Tree Classifier from Scratch](https://www.youtube.com/watch?v=LDRbO9a6XPU) — _Don’t worry about understanding the code, just get introduced to the concepts. This 10 minute video has excellent diagrams and explanations._\n",
    "- [How a Russian mathematician constructed a decision tree - by hand - to solve a medical problem](http://fastml.com/how-a-russian-mathematician-constructed-a-decision-tree-by-hand-to-solve-a-medical-problem/)\n",
    "- [How decision trees work](https://brohrer.github.io/how_decision_trees_work.html)\n",
    "- [Decision Trees: Advantages & Disadvantages](https://christophm.github.io/interpretable-ml-book/tree.html#advantages-2)\n"
   ]
  },
  {
   "cell_type": "markdown",
   "metadata": {
    "colab_type": "text",
    "id": "cRr2wuYV8DmA"
   },
   "source": [
    "### Categorical encoding for trees\n",
    "\n",
    "#### Good reads\n",
    "- [Categorical Features and Encoding in Decision Trees](https://medium.com/data-design/visiting-categorical-features-and-encoding-in-decision-trees-53400fa65931)\n",
    "- [Beyond One-Hot: An Exploration of Categorical Variables](http://www.willmcginnis.com/2015/11/29/beyond-one-hot-an-exploration-of-categorical-variables/)\n",
    "- [Mean (likelihood) encodings: a comprehensive study](https://www.kaggle.com/vprokopev/mean-likelihood-encodings-a-comprehensive-study)\n",
    "- [Are categorical variables getting lost in your random forests?](https://roamanalytics.com/2016/10/28/are-categorical-variables-getting-lost-in-your-random-forests/)\n",
    "\n",
    "#### Some options\n",
    "- [category_encoders.target_encoder.OrdinalEncoder](http://contrib.scikit-learn.org/categorical-encoding/ordinal.html)\n",
    "- [category_encoders.target_encoder.TargetEncoder](http://contrib.scikit-learn.org/categorical-encoding/targetencoder.html)\n",
    "- [sklearn.preprocessing.LabelEncoder](https://scikit-learn.org/stable/modules/generated/sklearn.preprocessing.LabelEncoder.html) + [sklearn.compose.ColumnTransformer](https://scikit-learn.org/stable/modules/generated/sklearn.compose.ColumnTransformer.html#sklearn.compose.ColumnTransformer)\n",
    "- [sklearn.preprocessing.LabelEncoder](https://scikit-learn.org/stable/modules/generated/sklearn.preprocessing.LabelEncoder.html) + [sklearn-pandas](https://github.com/scikit-learn-contrib/sklearn-pandas)\n",
    "- [kaggler.preprocessing.data.OneHotEncoder(min_obs=...)](https://pythonhosted.org/Kaggler/kaggler.preprocessing.html#kaggler.preprocessing.data.OneHotEncoder)\n",
    "- [Create your own scikit-learn compatible transformers!](https://github.com/PacktPublishing/Hands-On-Machine-Learning-with-Python-and-Scikit-Learn/blob/master/code/Feature%20Engineering.ipynb)"
   ]
  },
  {
   "cell_type": "markdown",
   "metadata": {
    "colab_type": "text",
    "id": "xQ_JHVbmzLeT"
   },
   "source": [
    "### Libraries\n",
    "\n",
    "This notebook optionally uses the [dtreeviz](https://explained.ai/decision-tree-viz/) library for decision tree visualizations.\n",
    "\n",
    "It is easy to install on Google Colab: `!pip install dtreeviz`\n",
    "\n",
    "But the [installation instructions](https://github.com/parrt/dtreeviz#install) are harder on Mac or Windows. \n",
    "\n",
    "So you have several options with this notebook:\n",
    "1. Run on Google Colab\n",
    "2. Install dtreeviz on your system\n",
    "3. Skip the cells with dtreeviz"
   ]
  },
  {
   "cell_type": "code",
   "execution_count": 0,
   "metadata": {
    "colab": {},
    "colab_type": "code",
    "id": "gB1mD5QH0Xz9"
   },
   "outputs": [],
   "source": [
    "!pip install dtreeviz"
   ]
  },
  {
   "cell_type": "markdown",
   "metadata": {
    "colab_type": "text",
    "id": "HUMXG9hW0za9"
   },
   "source": [
    "This notebook also uses the [category_encoders](https://github.com/scikit-learn-contrib/categorical-encoding) library.\n",
    "\n",
    "To install on Google Colab: `!pip install category_encoders`\n",
    "\n",
    "To install with Anaconda: `!conda install -c conda-forge category_encoders`\n"
   ]
  },
  {
   "cell_type": "code",
   "execution_count": 0,
   "metadata": {
    "colab": {},
    "colab_type": "code",
    "id": "zn6-U2BS0y7T"
   },
   "outputs": [],
   "source": [
    "!pip install category_encoders"
   ]
  },
  {
   "cell_type": "markdown",
   "metadata": {
    "colab_type": "text",
    "id": "kWm7mMlH9sl2"
   },
   "source": [
    "## Play Tennis"
   ]
  },
  {
   "cell_type": "markdown",
   "metadata": {
    "colab_type": "text",
    "id": "2f5-S87kg6gJ"
   },
   "source": [
    "We'll reproduce the \"Play Tennis\" example from Ross Quinlan's 1986 paper, [Induction of Decison Trees](https://link.springer.com/content/pdf/10.1007%2FBF00116251.pdf).\n",
    "\n",
    "[According to Wikipedia](https://en.wikipedia.org/wiki/Ross_Quinlan), \"John Ross Quinlan is a computer science researcher in data mining and decision theory. He has contributed extensively to the development of decision tree algorithms, including inventing the canonical C4.5 and ID3 algorithms.\""
   ]
  },
  {
   "cell_type": "markdown",
   "metadata": {
    "colab_type": "text",
    "id": "Qfv6Zwdoje7_"
   },
   "source": [
    "***\"Table 1 shows a small training set\"***"
   ]
  },
  {
   "cell_type": "code",
<<<<<<< HEAD
   "execution_count": 1,
=======
   "execution_count": 0,
>>>>>>> 88aeb1566450dd5b8472405364b6b0384d786fa4
   "metadata": {
    "colab": {},
    "colab_type": "code",
    "id": "oUE-G0pgg58u"
   },
<<<<<<< HEAD
   "outputs": [
    {
     "data": {
      "text/html": [
       "<div>\n",
       "<style scoped>\n",
       "    .dataframe tbody tr th:only-of-type {\n",
       "        vertical-align: middle;\n",
       "    }\n",
       "\n",
       "    .dataframe tbody tr th {\n",
       "        vertical-align: top;\n",
       "    }\n",
       "\n",
       "    .dataframe thead th {\n",
       "        text-align: right;\n",
       "    }\n",
       "</style>\n",
       "<table border=\"1\" class=\"dataframe\">\n",
       "  <thead>\n",
       "    <tr style=\"text-align: right;\">\n",
       "      <th></th>\n",
       "      <th>Outlook</th>\n",
       "      <th>Temperature</th>\n",
       "      <th>Humidity</th>\n",
       "      <th>Windy</th>\n",
       "      <th>Class</th>\n",
       "    </tr>\n",
       "    <tr>\n",
       "      <th>No.</th>\n",
       "      <th></th>\n",
       "      <th></th>\n",
       "      <th></th>\n",
       "      <th></th>\n",
       "      <th></th>\n",
       "    </tr>\n",
       "  </thead>\n",
       "  <tbody>\n",
       "    <tr>\n",
       "      <th>1</th>\n",
       "      <td>sunny</td>\n",
       "      <td>hot</td>\n",
       "      <td>high</td>\n",
       "      <td>false</td>\n",
       "      <td>N</td>\n",
       "    </tr>\n",
       "    <tr>\n",
       "      <th>2</th>\n",
       "      <td>sunny</td>\n",
       "      <td>hot</td>\n",
       "      <td>high</td>\n",
       "      <td>true</td>\n",
       "      <td>N</td>\n",
       "    </tr>\n",
       "    <tr>\n",
       "      <th>3</th>\n",
       "      <td>overcast</td>\n",
       "      <td>hot</td>\n",
       "      <td>high</td>\n",
       "      <td>false</td>\n",
       "      <td>P</td>\n",
       "    </tr>\n",
       "    <tr>\n",
       "      <th>4</th>\n",
       "      <td>rain</td>\n",
       "      <td>mild</td>\n",
       "      <td>high</td>\n",
       "      <td>false</td>\n",
       "      <td>P</td>\n",
       "    </tr>\n",
       "    <tr>\n",
       "      <th>5</th>\n",
       "      <td>rain</td>\n",
       "      <td>cool</td>\n",
       "      <td>normal</td>\n",
       "      <td>false</td>\n",
       "      <td>P</td>\n",
       "    </tr>\n",
       "    <tr>\n",
       "      <th>6</th>\n",
       "      <td>rain</td>\n",
       "      <td>cool</td>\n",
       "      <td>normal</td>\n",
       "      <td>true</td>\n",
       "      <td>N</td>\n",
       "    </tr>\n",
       "    <tr>\n",
       "      <th>7</th>\n",
       "      <td>overcast</td>\n",
       "      <td>cool</td>\n",
       "      <td>normal</td>\n",
       "      <td>true</td>\n",
       "      <td>P</td>\n",
       "    </tr>\n",
       "    <tr>\n",
       "      <th>8</th>\n",
       "      <td>sunny</td>\n",
       "      <td>mild</td>\n",
       "      <td>high</td>\n",
       "      <td>false</td>\n",
       "      <td>N</td>\n",
       "    </tr>\n",
       "    <tr>\n",
       "      <th>9</th>\n",
       "      <td>sunny</td>\n",
       "      <td>cool</td>\n",
       "      <td>normal</td>\n",
       "      <td>false</td>\n",
       "      <td>P</td>\n",
       "    </tr>\n",
       "    <tr>\n",
       "      <th>10</th>\n",
       "      <td>rain</td>\n",
       "      <td>mild</td>\n",
       "      <td>normal</td>\n",
       "      <td>false</td>\n",
       "      <td>P</td>\n",
       "    </tr>\n",
       "    <tr>\n",
       "      <th>11</th>\n",
       "      <td>sunny</td>\n",
       "      <td>mild</td>\n",
       "      <td>normal</td>\n",
       "      <td>true</td>\n",
       "      <td>P</td>\n",
       "    </tr>\n",
       "    <tr>\n",
       "      <th>12</th>\n",
       "      <td>overcast</td>\n",
       "      <td>mild</td>\n",
       "      <td>high</td>\n",
       "      <td>true</td>\n",
       "      <td>P</td>\n",
       "    </tr>\n",
       "    <tr>\n",
       "      <th>13</th>\n",
       "      <td>overcast</td>\n",
       "      <td>hot</td>\n",
       "      <td>normal</td>\n",
       "      <td>false</td>\n",
       "      <td>P</td>\n",
       "    </tr>\n",
       "    <tr>\n",
       "      <th>14</th>\n",
       "      <td>rain</td>\n",
       "      <td>mild</td>\n",
       "      <td>high</td>\n",
       "      <td>true</td>\n",
       "      <td>N</td>\n",
       "    </tr>\n",
       "  </tbody>\n",
       "</table>\n",
       "</div>"
      ],
      "text/plain": [
       "      Outlook Temperature Humidity  Windy Class\n",
       "No.                                            \n",
       "1       sunny         hot     high  false     N\n",
       "2       sunny         hot     high   true     N\n",
       "3    overcast         hot     high  false     P\n",
       "4        rain        mild     high  false     P\n",
       "5        rain        cool   normal  false     P\n",
       "6        rain        cool   normal   true     N\n",
       "7    overcast        cool   normal   true     P\n",
       "8       sunny        mild     high  false     N\n",
       "9       sunny        cool   normal  false     P\n",
       "10       rain        mild   normal  false     P\n",
       "11      sunny        mild   normal   true     P\n",
       "12   overcast        mild     high   true     P\n",
       "13   overcast         hot   normal  false     P\n",
       "14       rain        mild     high   true     N"
      ]
     },
     "execution_count": 1,
     "metadata": {},
     "output_type": "execute_result"
    }
   ],
=======
   "outputs": [],
>>>>>>> 88aeb1566450dd5b8472405364b6b0384d786fa4
   "source": [
    "import pandas as pd\n",
    "\n",
    "columns = 'No. Outlook Temperature Humidity Windy Class'.split()\n",
    "\n",
    "raw = \"\"\"1 sunny hot high false N\n",
    "2 sunny hot high true N\n",
    "3 overcast hot high false P\n",
    "4 rain mild high false P\n",
    "5 rain cool normal false P\n",
    "6 rain cool normal true N\n",
    "7 overcast cool normal true P\n",
    "8 sunny mild high false N\n",
    "9 sunny cool normal false P\n",
    "10 rain mild normal false P\n",
    "11 sunny mild normal true P\n",
    "12 overcast mild high true P\n",
    "13 overcast hot normal false P\n",
    "14 rain mild high true N\"\"\"\n",
    "\n",
    "data = [row.split() for row in raw.split('\\n')]\n",
    "\n",
    "tennis = pd.DataFrame(data, columns=columns).set_index('No.')\n",
    "\n",
    "tennis"
   ]
  },
  {
   "cell_type": "markdown",
   "metadata": {
    "colab_type": "text",
    "id": "BvFu9kvJj9kk"
   },
   "source": [
    "***\"A decision tree that correctly classifies each object in the training set is given in Figure 2.\"***\n",
    "\n",
    "<img src=\"https://i.imgur.com/RD7d0u0.png\" height=\"300\">"
   ]
  },
  {
   "cell_type": "markdown",
   "metadata": {
    "colab_type": "text",
    "id": "dT0ghLwd-Xzp"
   },
   "source": [
    "### Explore the data\n",
    "(and compare to Figure 2 above)"
   ]
  },
  {
   "cell_type": "markdown",
   "metadata": {
    "colab_type": "text",
    "id": "kHkkeALqjNiS"
   },
   "source": [
    "In this dataset, the tennis player decided to play on 9 days, and decided not to on 5 days."
   ]
  },
  {
   "cell_type": "code",
<<<<<<< HEAD
   "execution_count": 2,
=======
   "execution_count": 0,
>>>>>>> 88aeb1566450dd5b8472405364b6b0384d786fa4
   "metadata": {
    "colab": {},
    "colab_type": "code",
    "id": "qeLDinBihMDQ"
   },
<<<<<<< HEAD
   "outputs": [
    {
     "data": {
      "text/plain": [
       "1    9\n",
       "0    5\n",
       "Name: Class, dtype: int64"
      ]
     },
     "execution_count": 2,
     "metadata": {},
     "output_type": "execute_result"
    }
   ],
=======
   "outputs": [],
>>>>>>> 88aeb1566450dd5b8472405364b6b0384d786fa4
   "source": [
    "tennis['Class'] = (tennis['Class'] == 'P').astype(int)\n",
    "tennis['Class'].value_counts()"
   ]
  },
  {
   "cell_type": "markdown",
   "metadata": {
    "colab_type": "text",
    "id": "Ype2-apnlaG2"
   },
   "source": [
    "The tennis player played on 4 overcast days, 3 rainy days, and 2 sunny days."
   ]
  },
  {
   "cell_type": "code",
<<<<<<< HEAD
   "execution_count": 3,
=======
   "execution_count": 0,
>>>>>>> 88aeb1566450dd5b8472405364b6b0384d786fa4
   "metadata": {
    "colab": {},
    "colab_type": "code",
    "id": "LfBMB0Soh58T"
   },
<<<<<<< HEAD
   "outputs": [
    {
     "data": {
      "text/plain": [
       "Outlook\n",
       "overcast    4\n",
       "rain        3\n",
       "sunny       2\n",
       "Name: Class, dtype: int64"
      ]
     },
     "execution_count": 3,
     "metadata": {},
     "output_type": "execute_result"
    }
   ],
=======
   "outputs": [],
>>>>>>> 88aeb1566450dd5b8472405364b6b0384d786fa4
   "source": [
    "tennis.groupby('Outlook')['Class'].sum()"
   ]
  },
  {
   "cell_type": "markdown",
   "metadata": {
    "colab_type": "text",
    "id": "jx3-MFvalrQC"
   },
   "source": [
    "On sunny days, the tennis player's decision depends on the humidity. (The Outlook and Humidity features interact.)"
   ]
  },
  {
   "cell_type": "code",
<<<<<<< HEAD
   "execution_count": 4,
=======
   "execution_count": 0,
>>>>>>> 88aeb1566450dd5b8472405364b6b0384d786fa4
   "metadata": {
    "colab": {},
    "colab_type": "code",
    "id": "FmVN7hwEiHE5"
   },
<<<<<<< HEAD
   "outputs": [
    {
     "data": {
      "text/plain": [
       "Humidity\n",
       "high      0\n",
       "normal    2\n",
       "Name: Class, dtype: int64"
      ]
     },
     "execution_count": 4,
     "metadata": {},
     "output_type": "execute_result"
    }
   ],
=======
   "outputs": [],
>>>>>>> 88aeb1566450dd5b8472405364b6b0384d786fa4
   "source": [
    "tennis[tennis['Outlook']=='sunny'].groupby('Humidity')['Class'].sum()"
   ]
  },
  {
   "cell_type": "markdown",
   "metadata": {
    "colab_type": "text",
    "id": "y0it0HsFl47M"
   },
   "source": [
    "On rainy days, the tennis player's decision depends on the wind. (The Outlook and Windy features interact.)"
   ]
  },
  {
   "cell_type": "code",
<<<<<<< HEAD
   "execution_count": 5,
=======
   "execution_count": 0,
>>>>>>> 88aeb1566450dd5b8472405364b6b0384d786fa4
   "metadata": {
    "colab": {},
    "colab_type": "code",
    "id": "CeOd7rGeivJp"
   },
<<<<<<< HEAD
   "outputs": [
    {
     "data": {
      "text/plain": [
       "Windy\n",
       "false    3\n",
       "true     0\n",
       "Name: Class, dtype: int64"
      ]
     },
     "execution_count": 5,
     "metadata": {},
     "output_type": "execute_result"
    }
   ],
=======
   "outputs": [],
>>>>>>> 88aeb1566450dd5b8472405364b6b0384d786fa4
   "source": [
    "tennis[tennis['Outlook']=='rain'].groupby('Windy')['Class'].sum()"
   ]
  },
  {
   "cell_type": "markdown",
   "metadata": {
    "colab_type": "text",
    "id": "UvOkHk8o-h_r"
   },
   "source": [
    "### Train a Decision Tree\n",
    "The tree has 100% accuracy"
   ]
  },
  {
   "cell_type": "code",
<<<<<<< HEAD
   "execution_count": 6,
=======
   "execution_count": 0,
>>>>>>> 88aeb1566450dd5b8472405364b6b0384d786fa4
   "metadata": {
    "colab": {},
    "colab_type": "code",
    "id": "VCyn34nEi0nz"
   },
<<<<<<< HEAD
   "outputs": [
    {
     "data": {
      "text/plain": [
       "1.0"
      ]
     },
     "execution_count": 6,
     "metadata": {},
     "output_type": "execute_result"
    }
   ],
=======
   "outputs": [],
>>>>>>> 88aeb1566450dd5b8472405364b6b0384d786fa4
   "source": [
    "from sklearn.tree import DecisionTreeClassifier\n",
    "\n",
    "X = pd.get_dummies(tennis.drop(columns='Class'))\n",
    "y = tennis['Class']\n",
    "\n",
    "dt = DecisionTreeClassifier()\n",
    "dt.fit(X, y)\n",
    "dt.score(X, y)"
   ]
  },
  {
   "cell_type": "markdown",
   "metadata": {
    "colab_type": "text",
    "id": "EwF0phe6-oR8"
   },
   "source": [
    "### Visualize the tree\n",
    "With dtreeviz:"
   ]
  },
  {
   "cell_type": "code",
<<<<<<< HEAD
   "execution_count": 7,
=======
   "execution_count": 0,
>>>>>>> 88aeb1566450dd5b8472405364b6b0384d786fa4
   "metadata": {
    "colab": {},
    "colab_type": "code",
    "id": "86CGfYRFxRid"
   },
<<<<<<< HEAD
   "outputs": [
    {
     "ename": "ModuleNotFoundError",
     "evalue": "No module named 'dtreeviz'",
     "output_type": "error",
     "traceback": [
      "\u001b[0;31m---------------------------------------------------------------------------\u001b[0m",
      "\u001b[0;31mModuleNotFoundError\u001b[0m                       Traceback (most recent call last)",
      "\u001b[0;32m<ipython-input-7-d38294558c62>\u001b[0m in \u001b[0;36m<module>\u001b[0;34m\u001b[0m\n\u001b[0;32m----> 1\u001b[0;31m \u001b[0;32mfrom\u001b[0m \u001b[0mdtreeviz\u001b[0m\u001b[0;34m.\u001b[0m\u001b[0mtrees\u001b[0m \u001b[0;32mimport\u001b[0m \u001b[0mdtreeviz\u001b[0m\u001b[0;34m\u001b[0m\u001b[0;34m\u001b[0m\u001b[0m\n\u001b[0m\u001b[1;32m      2\u001b[0m \u001b[0;34m\u001b[0m\u001b[0m\n\u001b[1;32m      3\u001b[0m dtreeviz(dt, X, y, \n\u001b[1;32m      4\u001b[0m          \u001b[0mtarget_name\u001b[0m\u001b[0;34m=\u001b[0m\u001b[0;34m'Play Tennis'\u001b[0m\u001b[0;34m,\u001b[0m\u001b[0;34m\u001b[0m\u001b[0;34m\u001b[0m\u001b[0m\n\u001b[1;32m      5\u001b[0m          \u001b[0mfeature_names\u001b[0m\u001b[0;34m=\u001b[0m\u001b[0mX\u001b[0m\u001b[0;34m.\u001b[0m\u001b[0mcolumns\u001b[0m\u001b[0;34m,\u001b[0m\u001b[0;34m\u001b[0m\u001b[0;34m\u001b[0m\u001b[0m\n",
      "\u001b[0;31mModuleNotFoundError\u001b[0m: No module named 'dtreeviz'"
     ]
    }
   ],
=======
   "outputs": [],
>>>>>>> 88aeb1566450dd5b8472405364b6b0384d786fa4
   "source": [
    "from dtreeviz.trees import dtreeviz\n",
    "\n",
    "dtreeviz(dt, X, y, \n",
    "         target_name='Play Tennis',\n",
    "         feature_names=X.columns, \n",
    "         class_names=['No', 'Yes'])"
   ]
  },
  {
   "cell_type": "markdown",
   "metadata": {
    "colab_type": "text",
    "id": "N4vTK0G2-rkZ"
   },
   "source": [
    "With scikit-learn:"
   ]
  },
  {
   "cell_type": "code",
<<<<<<< HEAD
   "execution_count": 9,
=======
   "execution_count": 0,
>>>>>>> 88aeb1566450dd5b8472405364b6b0384d786fa4
   "metadata": {
    "colab": {},
    "colab_type": "code",
    "id": "pzJSj7zbnVaP"
   },
<<<<<<< HEAD
   "outputs": [
    {
     "data": {
      "image/svg+xml": [
       "<?xml version=\"1.0\" encoding=\"UTF-8\" standalone=\"no\"?>\n",
       "<!DOCTYPE svg PUBLIC \"-//W3C//DTD SVG 1.1//EN\"\n",
       " \"http://www.w3.org/Graphics/SVG/1.1/DTD/svg11.dtd\">\n",
       "<!-- Generated by graphviz version 2.40.1 (20161225.0304)\n",
       " -->\n",
       "<!-- Title: Tree Pages: 1 -->\n",
       "<svg width=\"608pt\" height=\"477pt\"\n",
       " viewBox=\"0.00 0.00 607.50 477.00\" xmlns=\"http://www.w3.org/2000/svg\" xmlns:xlink=\"http://www.w3.org/1999/xlink\">\n",
       "<g id=\"graph0\" class=\"graph\" transform=\"scale(1 1) rotate(0) translate(4 473)\">\n",
       "<title>Tree</title>\n",
       "<polygon fill=\"#ffffff\" stroke=\"transparent\" points=\"-4,4 -4,-473 603.5,-473 603.5,4 -4,4\"/>\n",
       "<!-- 0 -->\n",
       "<g id=\"node1\" class=\"node\">\n",
       "<title>0</title>\n",
       "<path fill=\"#399de5\" fill-opacity=\"0.443137\" stroke=\"#000000\" d=\"M427,-469C427,-469 282,-469 282,-469 276,-469 270,-463 270,-457 270,-457 270,-413 270,-413 270,-407 276,-401 282,-401 282,-401 427,-401 427,-401 433,-401 439,-407 439,-413 439,-413 439,-457 439,-457 439,-463 433,-469 427,-469\"/>\n",
       "<text text-anchor=\"middle\" x=\"354.5\" y=\"-453.8\" font-family=\"Helvetica,sans-Serif\" font-size=\"14.00\" fill=\"#000000\">Outlook_overcast &lt;= 0.5</text>\n",
       "<text text-anchor=\"middle\" x=\"354.5\" y=\"-438.8\" font-family=\"Helvetica,sans-Serif\" font-size=\"14.00\" fill=\"#000000\">samples = 14</text>\n",
       "<text text-anchor=\"middle\" x=\"354.5\" y=\"-423.8\" font-family=\"Helvetica,sans-Serif\" font-size=\"14.00\" fill=\"#000000\">value = [5, 9]</text>\n",
       "<text text-anchor=\"middle\" x=\"354.5\" y=\"-408.8\" font-family=\"Helvetica,sans-Serif\" font-size=\"14.00\" fill=\"#000000\">class = Play Tennis</text>\n",
       "</g>\n",
       "<!-- 1 -->\n",
       "<g id=\"node2\" class=\"node\">\n",
       "<title>1</title>\n",
       "<path fill=\"transparent\" stroke=\"#000000\" d=\"M340,-365C340,-365 199,-365 199,-365 193,-365 187,-359 187,-353 187,-353 187,-309 187,-309 187,-303 193,-297 199,-297 199,-297 340,-297 340,-297 346,-297 352,-303 352,-309 352,-309 352,-353 352,-353 352,-359 346,-365 340,-365\"/>\n",
       "<text text-anchor=\"middle\" x=\"269.5\" y=\"-349.8\" font-family=\"Helvetica,sans-Serif\" font-size=\"14.00\" fill=\"#000000\">Humidity_normal &lt;= 0.5</text>\n",
       "<text text-anchor=\"middle\" x=\"269.5\" y=\"-334.8\" font-family=\"Helvetica,sans-Serif\" font-size=\"14.00\" fill=\"#000000\">samples = 10</text>\n",
       "<text text-anchor=\"middle\" x=\"269.5\" y=\"-319.8\" font-family=\"Helvetica,sans-Serif\" font-size=\"14.00\" fill=\"#000000\">value = [5, 5]</text>\n",
       "<text text-anchor=\"middle\" x=\"269.5\" y=\"-304.8\" font-family=\"Helvetica,sans-Serif\" font-size=\"14.00\" fill=\"#000000\">class = No</text>\n",
       "</g>\n",
       "<!-- 0&#45;&gt;1 -->\n",
       "<g id=\"edge1\" class=\"edge\">\n",
       "<title>0&#45;&gt;1</title>\n",
       "<path fill=\"none\" stroke=\"#000000\" d=\"M326.6678,-400.9465C319.403,-392.0578 311.4864,-382.3716 303.924,-373.1188\"/>\n",
       "<polygon fill=\"#000000\" stroke=\"#000000\" points=\"306.4331,-370.658 297.3947,-365.13 301.013,-375.0878 306.4331,-370.658\"/>\n",
       "<text text-anchor=\"middle\" x=\"294.8941\" y=\"-386.3046\" font-family=\"Helvetica,sans-Serif\" font-size=\"14.00\" fill=\"#000000\">True</text>\n",
       "</g>\n",
       "<!-- 12 -->\n",
       "<g id=\"node13\" class=\"node\">\n",
       "<title>12</title>\n",
       "<path fill=\"#399de5\" stroke=\"#000000\" d=\"M496.5,-357.5C496.5,-357.5 382.5,-357.5 382.5,-357.5 376.5,-357.5 370.5,-351.5 370.5,-345.5 370.5,-345.5 370.5,-316.5 370.5,-316.5 370.5,-310.5 376.5,-304.5 382.5,-304.5 382.5,-304.5 496.5,-304.5 496.5,-304.5 502.5,-304.5 508.5,-310.5 508.5,-316.5 508.5,-316.5 508.5,-345.5 508.5,-345.5 508.5,-351.5 502.5,-357.5 496.5,-357.5\"/>\n",
       "<text text-anchor=\"middle\" x=\"439.5\" y=\"-342.3\" font-family=\"Helvetica,sans-Serif\" font-size=\"14.00\" fill=\"#000000\">samples = 4</text>\n",
       "<text text-anchor=\"middle\" x=\"439.5\" y=\"-327.3\" font-family=\"Helvetica,sans-Serif\" font-size=\"14.00\" fill=\"#000000\">value = [0, 4]</text>\n",
       "<text text-anchor=\"middle\" x=\"439.5\" y=\"-312.3\" font-family=\"Helvetica,sans-Serif\" font-size=\"14.00\" fill=\"#000000\">class = Play Tennis</text>\n",
       "</g>\n",
       "<!-- 0&#45;&gt;12 -->\n",
       "<g id=\"edge12\" class=\"edge\">\n",
       "<title>0&#45;&gt;12</title>\n",
       "<path fill=\"none\" stroke=\"#000000\" d=\"M382.3322,-400.9465C391.6048,-389.6012 401.9392,-376.9567 411.2437,-365.5724\"/>\n",
       "<polygon fill=\"#000000\" stroke=\"#000000\" points=\"414.1885,-367.5 417.8069,-357.5422 408.7685,-363.0701 414.1885,-367.5\"/>\n",
       "<text text-anchor=\"middle\" x=\"420.3075\" y=\"-378.7168\" font-family=\"Helvetica,sans-Serif\" font-size=\"14.00\" fill=\"#000000\">False</text>\n",
       "</g>\n",
       "<!-- 2 -->\n",
       "<g id=\"node3\" class=\"node\">\n",
       "<title>2</title>\n",
       "<path fill=\"#e58139\" fill-opacity=\"0.749020\" stroke=\"#000000\" d=\"M241,-261C241,-261 126,-261 126,-261 120,-261 114,-255 114,-249 114,-249 114,-205 114,-205 114,-199 120,-193 126,-193 126,-193 241,-193 241,-193 247,-193 253,-199 253,-205 253,-205 253,-249 253,-249 253,-255 247,-261 241,-261\"/>\n",
       "<text text-anchor=\"middle\" x=\"183.5\" y=\"-245.8\" font-family=\"Helvetica,sans-Serif\" font-size=\"14.00\" fill=\"#000000\">Outlook_rain &lt;= 0.5</text>\n",
       "<text text-anchor=\"middle\" x=\"183.5\" y=\"-230.8\" font-family=\"Helvetica,sans-Serif\" font-size=\"14.00\" fill=\"#000000\">samples = 5</text>\n",
       "<text text-anchor=\"middle\" x=\"183.5\" y=\"-215.8\" font-family=\"Helvetica,sans-Serif\" font-size=\"14.00\" fill=\"#000000\">value = [4, 1]</text>\n",
       "<text text-anchor=\"middle\" x=\"183.5\" y=\"-200.8\" font-family=\"Helvetica,sans-Serif\" font-size=\"14.00\" fill=\"#000000\">class = No</text>\n",
       "</g>\n",
       "<!-- 1&#45;&gt;2 -->\n",
       "<g id=\"edge2\" class=\"edge\">\n",
       "<title>1&#45;&gt;2</title>\n",
       "<path fill=\"none\" stroke=\"#000000\" d=\"M241.3404,-296.9465C233.9158,-287.968 225.8185,-278.1758 218.0972,-268.8385\"/>\n",
       "<polygon fill=\"#000000\" stroke=\"#000000\" points=\"220.7928,-266.606 211.7229,-261.13 215.3983,-271.0669 220.7928,-266.606\"/>\n",
       "</g>\n",
       "<!-- 7 -->\n",
       "<g id=\"node8\" class=\"node\">\n",
       "<title>7</title>\n",
       "<path fill=\"#399de5\" fill-opacity=\"0.749020\" stroke=\"#000000\" d=\"M413.5,-261C413.5,-261 299.5,-261 299.5,-261 293.5,-261 287.5,-255 287.5,-249 287.5,-249 287.5,-205 287.5,-205 287.5,-199 293.5,-193 299.5,-193 299.5,-193 413.5,-193 413.5,-193 419.5,-193 425.5,-199 425.5,-205 425.5,-205 425.5,-249 425.5,-249 425.5,-255 419.5,-261 413.5,-261\"/>\n",
       "<text text-anchor=\"middle\" x=\"356.5\" y=\"-245.8\" font-family=\"Helvetica,sans-Serif\" font-size=\"14.00\" fill=\"#000000\">Windy_false &lt;= 0.5</text>\n",
       "<text text-anchor=\"middle\" x=\"356.5\" y=\"-230.8\" font-family=\"Helvetica,sans-Serif\" font-size=\"14.00\" fill=\"#000000\">samples = 5</text>\n",
       "<text text-anchor=\"middle\" x=\"356.5\" y=\"-215.8\" font-family=\"Helvetica,sans-Serif\" font-size=\"14.00\" fill=\"#000000\">value = [1, 4]</text>\n",
       "<text text-anchor=\"middle\" x=\"356.5\" y=\"-200.8\" font-family=\"Helvetica,sans-Serif\" font-size=\"14.00\" fill=\"#000000\">class = Play Tennis</text>\n",
       "</g>\n",
       "<!-- 1&#45;&gt;7 -->\n",
       "<g id=\"edge7\" class=\"edge\">\n",
       "<title>1&#45;&gt;7</title>\n",
       "<path fill=\"none\" stroke=\"#000000\" d=\"M297.9871,-296.9465C305.4979,-287.968 313.6895,-278.1758 321.5005,-268.8385\"/>\n",
       "<polygon fill=\"#000000\" stroke=\"#000000\" points=\"324.2171,-271.0459 327.9489,-261.13 318.848,-266.5544 324.2171,-271.0459\"/>\n",
       "</g>\n",
       "<!-- 3 -->\n",
       "<g id=\"node4\" class=\"node\">\n",
       "<title>3</title>\n",
       "<path fill=\"#e58139\" stroke=\"#000000\" d=\"M85,-149.5C85,-149.5 12,-149.5 12,-149.5 6,-149.5 0,-143.5 0,-137.5 0,-137.5 0,-108.5 0,-108.5 0,-102.5 6,-96.5 12,-96.5 12,-96.5 85,-96.5 85,-96.5 91,-96.5 97,-102.5 97,-108.5 97,-108.5 97,-137.5 97,-137.5 97,-143.5 91,-149.5 85,-149.5\"/>\n",
       "<text text-anchor=\"middle\" x=\"48.5\" y=\"-134.3\" font-family=\"Helvetica,sans-Serif\" font-size=\"14.00\" fill=\"#000000\">samples = 3</text>\n",
       "<text text-anchor=\"middle\" x=\"48.5\" y=\"-119.3\" font-family=\"Helvetica,sans-Serif\" font-size=\"14.00\" fill=\"#000000\">value = [3, 0]</text>\n",
       "<text text-anchor=\"middle\" x=\"48.5\" y=\"-104.3\" font-family=\"Helvetica,sans-Serif\" font-size=\"14.00\" fill=\"#000000\">class = No</text>\n",
       "</g>\n",
       "<!-- 2&#45;&gt;3 -->\n",
       "<g id=\"edge3\" class=\"edge\">\n",
       "<title>2&#45;&gt;3</title>\n",
       "<path fill=\"none\" stroke=\"#000000\" d=\"M139.296,-192.9465C123.8539,-181.0504 106.5578,-167.726 91.2375,-155.9237\"/>\n",
       "<polygon fill=\"#000000\" stroke=\"#000000\" points=\"93.0117,-152.8723 82.9538,-149.5422 88.7397,-158.4176 93.0117,-152.8723\"/>\n",
       "</g>\n",
       "<!-- 4 -->\n",
       "<g id=\"node5\" class=\"node\">\n",
       "<title>4</title>\n",
       "<path fill=\"transparent\" stroke=\"#000000\" d=\"M239.5,-157C239.5,-157 127.5,-157 127.5,-157 121.5,-157 115.5,-151 115.5,-145 115.5,-145 115.5,-101 115.5,-101 115.5,-95 121.5,-89 127.5,-89 127.5,-89 239.5,-89 239.5,-89 245.5,-89 251.5,-95 251.5,-101 251.5,-101 251.5,-145 251.5,-145 251.5,-151 245.5,-157 239.5,-157\"/>\n",
       "<text text-anchor=\"middle\" x=\"183.5\" y=\"-141.8\" font-family=\"Helvetica,sans-Serif\" font-size=\"14.00\" fill=\"#000000\">Windy_false &lt;= 0.5</text>\n",
       "<text text-anchor=\"middle\" x=\"183.5\" y=\"-126.8\" font-family=\"Helvetica,sans-Serif\" font-size=\"14.00\" fill=\"#000000\">samples = 2</text>\n",
       "<text text-anchor=\"middle\" x=\"183.5\" y=\"-111.8\" font-family=\"Helvetica,sans-Serif\" font-size=\"14.00\" fill=\"#000000\">value = [1, 1]</text>\n",
       "<text text-anchor=\"middle\" x=\"183.5\" y=\"-96.8\" font-family=\"Helvetica,sans-Serif\" font-size=\"14.00\" fill=\"#000000\">class = No</text>\n",
       "</g>\n",
       "<!-- 2&#45;&gt;4 -->\n",
       "<g id=\"edge4\" class=\"edge\">\n",
       "<title>2&#45;&gt;4</title>\n",
       "<path fill=\"none\" stroke=\"#000000\" d=\"M183.5,-192.9465C183.5,-184.776 183.5,-175.9318 183.5,-167.3697\"/>\n",
       "<polygon fill=\"#000000\" stroke=\"#000000\" points=\"187.0001,-167.13 183.5,-157.13 180.0001,-167.13 187.0001,-167.13\"/>\n",
       "</g>\n",
       "<!-- 5 -->\n",
       "<g id=\"node6\" class=\"node\">\n",
       "<title>5</title>\n",
       "<path fill=\"#e58139\" stroke=\"#000000\" d=\"M93,-53C93,-53 20,-53 20,-53 14,-53 8,-47 8,-41 8,-41 8,-12 8,-12 8,-6 14,0 20,0 20,0 93,0 93,0 99,0 105,-6 105,-12 105,-12 105,-41 105,-41 105,-47 99,-53 93,-53\"/>\n",
       "<text text-anchor=\"middle\" x=\"56.5\" y=\"-37.8\" font-family=\"Helvetica,sans-Serif\" font-size=\"14.00\" fill=\"#000000\">samples = 1</text>\n",
       "<text text-anchor=\"middle\" x=\"56.5\" y=\"-22.8\" font-family=\"Helvetica,sans-Serif\" font-size=\"14.00\" fill=\"#000000\">value = [1, 0]</text>\n",
       "<text text-anchor=\"middle\" x=\"56.5\" y=\"-7.8\" font-family=\"Helvetica,sans-Serif\" font-size=\"14.00\" fill=\"#000000\">class = No</text>\n",
       "</g>\n",
       "<!-- 4&#45;&gt;5 -->\n",
       "<g id=\"edge5\" class=\"edge\">\n",
       "<title>4&#45;&gt;5</title>\n",
       "<path fill=\"none\" stroke=\"#000000\" d=\"M138.7246,-88.9777C126.0708,-79.3629 112.3277,-68.9203 99.7647,-59.3743\"/>\n",
       "<polygon fill=\"#000000\" stroke=\"#000000\" points=\"101.7824,-56.5118 91.7027,-53.2485 97.5474,-62.0853 101.7824,-56.5118\"/>\n",
       "</g>\n",
       "<!-- 6 -->\n",
       "<g id=\"node7\" class=\"node\">\n",
       "<title>6</title>\n",
       "<path fill=\"#399de5\" stroke=\"#000000\" d=\"M249.5,-53C249.5,-53 135.5,-53 135.5,-53 129.5,-53 123.5,-47 123.5,-41 123.5,-41 123.5,-12 123.5,-12 123.5,-6 129.5,0 135.5,0 135.5,0 249.5,0 249.5,0 255.5,0 261.5,-6 261.5,-12 261.5,-12 261.5,-41 261.5,-41 261.5,-47 255.5,-53 249.5,-53\"/>\n",
       "<text text-anchor=\"middle\" x=\"192.5\" y=\"-37.8\" font-family=\"Helvetica,sans-Serif\" font-size=\"14.00\" fill=\"#000000\">samples = 1</text>\n",
       "<text text-anchor=\"middle\" x=\"192.5\" y=\"-22.8\" font-family=\"Helvetica,sans-Serif\" font-size=\"14.00\" fill=\"#000000\">value = [0, 1]</text>\n",
       "<text text-anchor=\"middle\" x=\"192.5\" y=\"-7.8\" font-family=\"Helvetica,sans-Serif\" font-size=\"14.00\" fill=\"#000000\">class = Play Tennis</text>\n",
       "</g>\n",
       "<!-- 4&#45;&gt;6 -->\n",
       "<g id=\"edge6\" class=\"edge\">\n",
       "<title>4&#45;&gt;6</title>\n",
       "<path fill=\"none\" stroke=\"#000000\" d=\"M186.6731,-88.9777C187.4502,-80.6449 188.2854,-71.6903 189.0738,-63.2364\"/>\n",
       "<polygon fill=\"#000000\" stroke=\"#000000\" points=\"192.5615,-63.5303 190.0053,-53.2485 185.5917,-62.8802 192.5615,-63.5303\"/>\n",
       "</g>\n",
       "<!-- 8 -->\n",
       "<g id=\"node9\" class=\"node\">\n",
       "<title>8</title>\n",
       "<path fill=\"transparent\" stroke=\"#000000\" d=\"M431.5,-157C431.5,-157 281.5,-157 281.5,-157 275.5,-157 269.5,-151 269.5,-145 269.5,-145 269.5,-101 269.5,-101 269.5,-95 275.5,-89 281.5,-89 281.5,-89 431.5,-89 431.5,-89 437.5,-89 443.5,-95 443.5,-101 443.5,-101 443.5,-145 443.5,-145 443.5,-151 437.5,-157 431.5,-157\"/>\n",
       "<text text-anchor=\"middle\" x=\"356.5\" y=\"-141.8\" font-family=\"Helvetica,sans-Serif\" font-size=\"14.00\" fill=\"#000000\">Temperature_mild &lt;= 0.5</text>\n",
       "<text text-anchor=\"middle\" x=\"356.5\" y=\"-126.8\" font-family=\"Helvetica,sans-Serif\" font-size=\"14.00\" fill=\"#000000\">samples = 2</text>\n",
       "<text text-anchor=\"middle\" x=\"356.5\" y=\"-111.8\" font-family=\"Helvetica,sans-Serif\" font-size=\"14.00\" fill=\"#000000\">value = [1, 1]</text>\n",
       "<text text-anchor=\"middle\" x=\"356.5\" y=\"-96.8\" font-family=\"Helvetica,sans-Serif\" font-size=\"14.00\" fill=\"#000000\">class = No</text>\n",
       "</g>\n",
       "<!-- 7&#45;&gt;8 -->\n",
       "<g id=\"edge8\" class=\"edge\">\n",
       "<title>7&#45;&gt;8</title>\n",
       "<path fill=\"none\" stroke=\"#000000\" d=\"M356.5,-192.9465C356.5,-184.776 356.5,-175.9318 356.5,-167.3697\"/>\n",
       "<polygon fill=\"#000000\" stroke=\"#000000\" points=\"360.0001,-167.13 356.5,-157.13 353.0001,-167.13 360.0001,-167.13\"/>\n",
       "</g>\n",
       "<!-- 11 -->\n",
       "<g id=\"node12\" class=\"node\">\n",
       "<title>11</title>\n",
       "<path fill=\"#399de5\" stroke=\"#000000\" d=\"M587.5,-149.5C587.5,-149.5 473.5,-149.5 473.5,-149.5 467.5,-149.5 461.5,-143.5 461.5,-137.5 461.5,-137.5 461.5,-108.5 461.5,-108.5 461.5,-102.5 467.5,-96.5 473.5,-96.5 473.5,-96.5 587.5,-96.5 587.5,-96.5 593.5,-96.5 599.5,-102.5 599.5,-108.5 599.5,-108.5 599.5,-137.5 599.5,-137.5 599.5,-143.5 593.5,-149.5 587.5,-149.5\"/>\n",
       "<text text-anchor=\"middle\" x=\"530.5\" y=\"-134.3\" font-family=\"Helvetica,sans-Serif\" font-size=\"14.00\" fill=\"#000000\">samples = 3</text>\n",
       "<text text-anchor=\"middle\" x=\"530.5\" y=\"-119.3\" font-family=\"Helvetica,sans-Serif\" font-size=\"14.00\" fill=\"#000000\">value = [0, 3]</text>\n",
       "<text text-anchor=\"middle\" x=\"530.5\" y=\"-104.3\" font-family=\"Helvetica,sans-Serif\" font-size=\"14.00\" fill=\"#000000\">class = Play Tennis</text>\n",
       "</g>\n",
       "<!-- 7&#45;&gt;11 -->\n",
       "<g id=\"edge11\" class=\"edge\">\n",
       "<title>7&#45;&gt;11</title>\n",
       "<path fill=\"none\" stroke=\"#000000\" d=\"M413.4741,-192.9465C434.0222,-180.6649 457.1173,-166.8609 477.3277,-154.7811\"/>\n",
       "<polygon fill=\"#000000\" stroke=\"#000000\" points=\"479.305,-157.6769 486.0929,-149.5422 475.7136,-151.6684 479.305,-157.6769\"/>\n",
       "</g>\n",
       "<!-- 9 -->\n",
       "<g id=\"node10\" class=\"node\">\n",
       "<title>9</title>\n",
       "<path fill=\"#e58139\" stroke=\"#000000\" d=\"M383,-53C383,-53 310,-53 310,-53 304,-53 298,-47 298,-41 298,-41 298,-12 298,-12 298,-6 304,0 310,0 310,0 383,0 383,0 389,0 395,-6 395,-12 395,-12 395,-41 395,-41 395,-47 389,-53 383,-53\"/>\n",
       "<text text-anchor=\"middle\" x=\"346.5\" y=\"-37.8\" font-family=\"Helvetica,sans-Serif\" font-size=\"14.00\" fill=\"#000000\">samples = 1</text>\n",
       "<text text-anchor=\"middle\" x=\"346.5\" y=\"-22.8\" font-family=\"Helvetica,sans-Serif\" font-size=\"14.00\" fill=\"#000000\">value = [1, 0]</text>\n",
       "<text text-anchor=\"middle\" x=\"346.5\" y=\"-7.8\" font-family=\"Helvetica,sans-Serif\" font-size=\"14.00\" fill=\"#000000\">class = No</text>\n",
       "</g>\n",
       "<!-- 8&#45;&gt;9 -->\n",
       "<g id=\"edge9\" class=\"edge\">\n",
       "<title>8&#45;&gt;9</title>\n",
       "<path fill=\"none\" stroke=\"#000000\" d=\"M352.9744,-88.9777C352.1109,-80.6449 351.1829,-71.6903 350.3069,-63.2364\"/>\n",
       "<polygon fill=\"#000000\" stroke=\"#000000\" points=\"353.7841,-62.8344 349.2719,-53.2485 346.8213,-63.556 353.7841,-62.8344\"/>\n",
       "</g>\n",
       "<!-- 10 -->\n",
       "<g id=\"node11\" class=\"node\">\n",
       "<title>10</title>\n",
       "<path fill=\"#399de5\" stroke=\"#000000\" d=\"M539.5,-53C539.5,-53 425.5,-53 425.5,-53 419.5,-53 413.5,-47 413.5,-41 413.5,-41 413.5,-12 413.5,-12 413.5,-6 419.5,0 425.5,0 425.5,0 539.5,0 539.5,0 545.5,0 551.5,-6 551.5,-12 551.5,-12 551.5,-41 551.5,-41 551.5,-47 545.5,-53 539.5,-53\"/>\n",
       "<text text-anchor=\"middle\" x=\"482.5\" y=\"-37.8\" font-family=\"Helvetica,sans-Serif\" font-size=\"14.00\" fill=\"#000000\">samples = 1</text>\n",
       "<text text-anchor=\"middle\" x=\"482.5\" y=\"-22.8\" font-family=\"Helvetica,sans-Serif\" font-size=\"14.00\" fill=\"#000000\">value = [0, 1]</text>\n",
       "<text text-anchor=\"middle\" x=\"482.5\" y=\"-7.8\" font-family=\"Helvetica,sans-Serif\" font-size=\"14.00\" fill=\"#000000\">class = Play Tennis</text>\n",
       "</g>\n",
       "<!-- 8&#45;&gt;10 -->\n",
       "<g id=\"edge10\" class=\"edge\">\n",
       "<title>8&#45;&gt;10</title>\n",
       "<path fill=\"none\" stroke=\"#000000\" d=\"M400.9229,-88.9777C413.477,-79.3629 427.1119,-68.9203 439.576,-59.3743\"/>\n",
       "<polygon fill=\"#000000\" stroke=\"#000000\" points=\"441.7635,-62.1076 447.5745,-53.2485 437.5073,-56.5502 441.7635,-62.1076\"/>\n",
       "</g>\n",
       "</g>\n",
       "</svg>\n"
      ],
      "text/plain": [
       "<graphviz.files.Source at 0x1a16ea4080>"
      ]
     },
     "execution_count": 9,
     "metadata": {},
     "output_type": "execute_result"
    }
   ],
=======
   "outputs": [],
>>>>>>> 88aeb1566450dd5b8472405364b6b0384d786fa4
   "source": [
    "import graphviz\n",
    "from sklearn.tree import export_graphviz\n",
    "\n",
    "dot_data = export_graphviz(dt, out_file=None, \n",
    "                           feature_names=X.columns, \n",
    "                           class_names=['No', 'Play Tennis'],   \n",
    "                           filled=True, impurity=False, rounded=True)\n",
    "graphviz.Source(dot_data)"
   ]
  },
  {
   "cell_type": "markdown",
   "metadata": {
    "colab_type": "text",
    "id": "9uNPrbfS-vzL"
   },
   "source": [
    "### Compare to Logistic Regression\n",
    "Logistic Regression has lower accuracy here:"
   ]
  },
  {
   "cell_type": "code",
<<<<<<< HEAD
   "execution_count": 10,
=======
   "execution_count": 0,
>>>>>>> 88aeb1566450dd5b8472405364b6b0384d786fa4
   "metadata": {
    "colab": {},
    "colab_type": "code",
    "id": "67JrwiOn1S5B"
   },
<<<<<<< HEAD
   "outputs": [
    {
     "data": {
      "text/plain": [
       "0.8571428571428571"
      ]
     },
     "execution_count": 10,
     "metadata": {},
     "output_type": "execute_result"
    }
   ],
=======
   "outputs": [],
>>>>>>> 88aeb1566450dd5b8472405364b6b0384d786fa4
   "source": [
    "from sklearn.linear_model import LogisticRegression\n",
    "\n",
    "lr = LogisticRegression(solver='lbfgs')\n",
    "lr.fit(X, y)\n",
    "lr.score(X, y)"
   ]
  },
  {
   "cell_type": "markdown",
   "metadata": {
    "colab_type": "text",
    "id": "9jsHqsVZ-3NB"
   },
   "source": [
    "The Logistic Regression model has these coefficients:"
   ]
  },
  {
   "cell_type": "code",
<<<<<<< HEAD
   "execution_count": 11,
=======
   "execution_count": 0,
>>>>>>> 88aeb1566450dd5b8472405364b6b0384d786fa4
   "metadata": {
    "colab": {},
    "colab_type": "code",
    "id": "bab2XOFU1cT-"
   },
   "outputs": [],
   "source": [
    "pd.Series(lr.coef_[0], X.columns).sort_values().plot.barh(color='grey');"
   ]
  },
  {
   "cell_type": "markdown",
   "metadata": {
    "colab_type": "text",
    "id": "SMkfr8Ic_Q9z"
   },
   "source": [
    "### What if we use \"Ordinal\" encoding instead of One-Hot?\n",
    "\n",
    "The \"ordinal\" encoding is applied arbitrarily here.\n",
    "\n",
    "The decision tree still has 100% accuracy."
   ]
  },
  {
   "cell_type": "code",
<<<<<<< HEAD
   "execution_count": 12,
=======
   "execution_count": 0,
>>>>>>> 88aeb1566450dd5b8472405364b6b0384d786fa4
   "metadata": {
    "colab": {},
    "colab_type": "code",
    "id": "Uk9qetb-pnq-"
   },
<<<<<<< HEAD
   "outputs": [
    {
     "data": {
      "text/plain": [
       "1.0"
      ]
     },
     "execution_count": 12,
     "metadata": {},
     "output_type": "execute_result"
    }
   ],
=======
   "outputs": [],
>>>>>>> 88aeb1566450dd5b8472405364b6b0384d786fa4
   "source": [
    "import category_encoders as ce\n",
    "\n",
    "encoder = ce.OrdinalEncoder()\n",
    "X = encoder.fit_transform(tennis.drop(columns='Class'))\n",
    "y = tennis['Class']\n",
    "\n",
    "dt = DecisionTreeClassifier()\n",
    "dt.fit(X, y)\n",
    "dt.score(X, y)"
   ]
  },
  {
   "cell_type": "markdown",
   "metadata": {
    "colab_type": "text",
    "id": "BX4TPGMz_f98"
   },
   "source": [
    "A tree's [feature importances](https://explained.ai/rf-importance/index.html#3) are non-negative. They have magnitude but no direction. \n",
    "\n",
    "\"Outlook\" is the most important feature in this model."
   ]
  },
  {
   "cell_type": "code",
<<<<<<< HEAD
   "execution_count": 13,
=======
   "execution_count": 0,
>>>>>>> 88aeb1566450dd5b8472405364b6b0384d786fa4
   "metadata": {
    "colab": {},
    "colab_type": "code",
    "id": "XYKDrONX3LeE"
   },
<<<<<<< HEAD
   "outputs": [
    {
     "data": {
      "image/png": "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\n",
      "text/plain": [
       "<Figure size 432x288 with 1 Axes>"
      ]
     },
     "metadata": {
      "needs_background": "light"
     },
     "output_type": "display_data"
    }
   ],
=======
   "outputs": [],
>>>>>>> 88aeb1566450dd5b8472405364b6b0384d786fa4
   "source": [
    "pd.Series(dt.feature_importances_, X.columns).sort_values().plot.barh(color='grey');"
   ]
  },
  {
   "cell_type": "markdown",
   "metadata": {
    "colab_type": "text",
    "id": "1gHapIbXAuyq"
   },
   "source": [
    "With the arbitrary \"ordinal\" encoding, the Logistic Regression accuracy decreases to 64% (compared to 86% with One-Hot Encoding)."
   ]
  },
  {
   "cell_type": "code",
<<<<<<< HEAD
   "execution_count": 14,
=======
   "execution_count": 0,
>>>>>>> 88aeb1566450dd5b8472405364b6b0384d786fa4
   "metadata": {
    "colab": {},
    "colab_type": "code",
    "id": "5yaEpKT_pw-U"
   },
<<<<<<< HEAD
   "outputs": [
    {
     "data": {
      "text/plain": [
       "0.6428571428571429"
      ]
     },
     "execution_count": 14,
     "metadata": {},
     "output_type": "execute_result"
    }
   ],
=======
   "outputs": [],
>>>>>>> 88aeb1566450dd5b8472405364b6b0384d786fa4
   "source": [
    "lr = LogisticRegression(solver='lbfgs')\n",
    "lr.fit(X, y)\n",
    "lr.score(X, y)"
   ]
  },
  {
   "cell_type": "markdown",
   "metadata": {
    "colab_type": "text",
    "id": "u2xzV_JIA6HS"
   },
   "source": [
    "Why? Because now the relatioship between some features and target are not monotonic. \n",
    "\n",
    "We can look this, one feature at a time."
   ]
  },
  {
   "cell_type": "code",
<<<<<<< HEAD
   "execution_count": 15,
=======
   "execution_count": 0,
>>>>>>> 88aeb1566450dd5b8472405364b6b0384d786fa4
   "metadata": {
    "colab": {},
    "colab_type": "code",
    "id": "KJ6nAkKH2PjO"
   },
<<<<<<< HEAD
   "outputs": [
    {
     "data": {
      "text/plain": [
       "Outlook\n",
       "1    2\n",
       "2    4\n",
       "3    3\n",
       "Name: Class, dtype: int64"
      ]
     },
     "execution_count": 15,
     "metadata": {},
     "output_type": "execute_result"
    }
   ],
=======
   "outputs": [],
>>>>>>> 88aeb1566450dd5b8472405364b6b0384d786fa4
   "source": [
    "Xy = pd.concat([X, y], axis='columns')\n",
    "Xy.groupby('Outlook')['Class'].sum()"
   ]
  },
  {
   "cell_type": "code",
<<<<<<< HEAD
   "execution_count": 16,
=======
   "execution_count": 0,
>>>>>>> 88aeb1566450dd5b8472405364b6b0384d786fa4
   "metadata": {
    "colab": {},
    "colab_type": "code",
    "id": "YoM760bA2jfS"
   },
<<<<<<< HEAD
   "outputs": [
    {
     "data": {
      "text/plain": [
       "Temperature\n",
       "1    2\n",
       "2    4\n",
       "3    3\n",
       "Name: Class, dtype: int64"
      ]
     },
     "execution_count": 16,
     "metadata": {},
     "output_type": "execute_result"
    }
   ],
=======
   "outputs": [],
>>>>>>> 88aeb1566450dd5b8472405364b6b0384d786fa4
   "source": [
    "Xy.groupby('Temperature')['Class'].sum()"
   ]
  },
  {
   "cell_type": "code",
<<<<<<< HEAD
   "execution_count": 17,
=======
   "execution_count": 0,
>>>>>>> 88aeb1566450dd5b8472405364b6b0384d786fa4
   "metadata": {
    "colab": {},
    "colab_type": "code",
    "id": "L-LuZt1q2oHU"
   },
<<<<<<< HEAD
   "outputs": [
    {
     "data": {
      "text/plain": [
       "Humidity\n",
       "1    3\n",
       "2    6\n",
       "Name: Class, dtype: int64"
      ]
     },
     "execution_count": 17,
     "metadata": {},
     "output_type": "execute_result"
    }
   ],
=======
   "outputs": [],
>>>>>>> 88aeb1566450dd5b8472405364b6b0384d786fa4
   "source": [
    "Xy.groupby('Humidity')['Class'].sum()"
   ]
  },
  {
   "cell_type": "code",
<<<<<<< HEAD
   "execution_count": 18,
=======
   "execution_count": 0,
>>>>>>> 88aeb1566450dd5b8472405364b6b0384d786fa4
   "metadata": {
    "colab": {},
    "colab_type": "code",
    "id": "Tmlt8FOc2suk"
   },
<<<<<<< HEAD
   "outputs": [
    {
     "data": {
      "text/plain": [
       "Windy\n",
       "1    6\n",
       "2    3\n",
       "Name: Class, dtype: int64"
      ]
     },
     "execution_count": 18,
     "metadata": {},
     "output_type": "execute_result"
    }
   ],
=======
   "outputs": [],
>>>>>>> 88aeb1566450dd5b8472405364b6b0384d786fa4
   "source": [
    "Xy.groupby('Windy')['Class'].sum()"
   ]
  },
  {
   "cell_type": "markdown",
   "metadata": {
    "colab_type": "text",
    "id": "pg-8a9zJBNC4"
   },
   "source": [
    "The \"Humidity\" and \"Windy\" features have monotnic relationships with the target. The other two features do not. This is shown in the model's coefficients.\n",
    "\n",
    "We know that the \"Outlook\" feature is important in this dataset, but Logistic Regression cannot model it with an arbitrary \"ordinal\" encoding."
   ]
  },
  {
   "cell_type": "code",
<<<<<<< HEAD
   "execution_count": 19,
=======
   "execution_count": 0,
>>>>>>> 88aeb1566450dd5b8472405364b6b0384d786fa4
   "metadata": {
    "colab": {},
    "colab_type": "code",
    "id": "bFKdxth92w8_"
   },
<<<<<<< HEAD
   "outputs": [
    {
     "data": {
      "image/png": "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\n",
      "text/plain": [
       "<Figure size 432x288 with 1 Axes>"
      ]
     },
     "metadata": {
      "needs_background": "light"
     },
     "output_type": "display_data"
    }
   ],
=======
   "outputs": [],
>>>>>>> 88aeb1566450dd5b8472405364b6b0384d786fa4
   "source": [
    "pd.Series(lr.coef_[0], X.columns).sort_values().plot.barh(color='grey');"
   ]
  },
  {
   "cell_type": "markdown",
   "metadata": {
    "colab_type": "text",
    "id": "6xcjCw5LDeYk"
   },
   "source": [
    "See the links at the top of this notebook to learn more about categorical encoding for trees."
   ]
  },
  {
   "cell_type": "markdown",
   "metadata": {
    "colab_type": "text",
    "id": "opIsHEofDobK"
   },
   "source": [
    "## Shallow trees are good for fast, first baselines, and to look for \"leakage\""
   ]
  },
  {
   "cell_type": "markdown",
   "metadata": {
    "colab_type": "text",
    "id": "EmhDEvqsC2Ln"
   },
   "source": [
    "[Xavier Amatriain recommends,](https://www.quora.com/What-are-some-best-practices-for-training-machine-learning-models/answer/Xavier-Amatriain)\n",
    "\n",
    "\"Make sure your training features do not contain data from the “future” (aka time traveling). While this might be easy and obvious in some cases, it can get tricky. ... If your test metric becomes really good all of the sudden, ask yourself what you might be doing wrong. Chances are you are time travelling or overfitting in some way.\""
   ]
  },
  {
   "cell_type": "markdown",
   "metadata": {
    "colab_type": "text",
    "id": "7SFZ8N07EAeZ"
   },
   "source": [
    "We can test this with the [UCI repository's Bank Marketing dataset](https://archive.ics.uci.edu/ml/datasets/Bank+Marketing). It has a feature which leaks information from the future and should be dropped:\n",
    "\n",
    "\"11 - duration: last contact duration, in seconds (numeric). Important note: this attribute highly affects the output target (e.g., if duration=0 then y='no'). Yet, the duration is not known before a call is performed. Also, after the end of the call y is obviously known. Thus, this input ... should be discarded if the intention is to have a realistic predictive model.\"\n",
    "\n",
    "So let's download the data ..."
   ]
  },
  {
   "cell_type": "code",
<<<<<<< HEAD
   "execution_count": 20,
=======
   "execution_count": 0,
>>>>>>> 88aeb1566450dd5b8472405364b6b0384d786fa4
   "metadata": {
    "colab": {},
    "colab_type": "code",
    "id": "VOI04zrQ4o27"
   },
<<<<<<< HEAD
   "outputs": [
    {
     "name": "stdout",
     "output_type": "stream",
     "text": [
      "/bin/sh: wget: command not found\n",
      "unzip:  cannot find or open bank-additional.zip, bank-additional.zip.zip or bank-additional.zip.ZIP.\n",
      "[Errno 2] No such file or directory: 'bank-additional'\n",
      "/Users/zach/repos/DS-Unit-4-Sprint-1-Tree-Ensembles/module1-decision-trees\n"
     ]
    }
   ],
=======
   "outputs": [],
>>>>>>> 88aeb1566450dd5b8472405364b6b0384d786fa4
   "source": [
    "!wget https://archive.ics.uci.edu/ml/machine-learning-databases/00222/bank-additional.zip\n",
    "!unzip bank-additional.zip\n",
    "%cd bank-additional"
   ]
  },
  {
   "cell_type": "markdown",
   "metadata": {
    "colab_type": "text",
    "id": "UcRFbDQlEtkH"
   },
   "source": [
    "... and train a shallow tree baseline, without dropping the `duration` feature."
   ]
  },
  {
   "cell_type": "code",
<<<<<<< HEAD
   "execution_count": 22,
=======
   "execution_count": 0,
>>>>>>> 88aeb1566450dd5b8472405364b6b0384d786fa4
   "metadata": {
    "colab": {},
    "colab_type": "code",
    "id": "_aUpZCdK3sDK"
   },
<<<<<<< HEAD
   "outputs": [
    {
     "data": {
      "text/plain": [
       "array([0.85309963, 0.86704028, 0.85589586, 0.85229795, 0.86402673])"
      ]
     },
     "execution_count": 22,
     "metadata": {},
     "output_type": "execute_result"
    }
   ],
=======
   "outputs": [],
>>>>>>> 88aeb1566450dd5b8472405364b6b0384d786fa4
   "source": [
    "import category_encoders as ce\n",
    "import pandas as pd\n",
    "from sklearn.model_selection import cross_val_score\n",
    "from sklearn.model_selection import train_test_split\n",
    "from sklearn.pipeline import make_pipeline\n",
    "from sklearn.tree import DecisionTreeClassifier\n",
    "\n",
    "df = pd.read_csv('bank-additional-full.csv', sep=';')\n",
    "X = df.drop(columns='y')\n",
    "y = df['y'] == 'yes'\n",
    "\n",
    "X_train, X_test, y_train, y_test = train_test_split(\n",
    "    X, y, test_size=0.2, random_state=42, stratify=y)\n",
    "\n",
    "pipe = make_pipeline(\n",
    "    ce.OneHotEncoder(use_cat_names=True), \n",
    "    DecisionTreeClassifier(max_depth=2)\n",
    ")\n",
    "\n",
    "cross_val_score(pipe, X_train, y_train, cv=5, scoring='roc_auc', n_jobs=-1)"
   ]
  },
  {
   "cell_type": "markdown",
   "metadata": {
    "colab_type": "text",
    "id": "Rx1QAeKcE0KK"
   },
   "source": [
    "This baseline has a ROC AUC score above 0.85, and it uses the `duration` feature, as well as `nr.employed`, a \"social and economic context attribute\" for \"number of employees - quarterly indicator.\""
   ]
  },
  {
   "cell_type": "code",
<<<<<<< HEAD
   "execution_count": 23,
=======
   "execution_count": 0,
>>>>>>> 88aeb1566450dd5b8472405364b6b0384d786fa4
   "metadata": {
    "colab": {},
    "colab_type": "code",
    "id": "O0k5m1t-4FC_"
   },
<<<<<<< HEAD
   "outputs": [
    {
     "data": {
      "text/plain": [
       "Index(['duration', 'nr.employed'], dtype='object')"
      ]
     },
     "execution_count": 23,
     "metadata": {},
     "output_type": "execute_result"
    }
   ],
=======
   "outputs": [],
>>>>>>> 88aeb1566450dd5b8472405364b6b0384d786fa4
   "source": [
    "pipe.fit(X_train, y_train)\n",
    "tree = pipe.named_steps['decisiontreeclassifier']\n",
    "encoder = pipe.named_steps['onehotencoder']\n",
    "feature_names = encoder.transform(X_train).columns\n",
    "feature_names[tree.feature_importances_ > 0]"
   ]
  },
  {
   "cell_type": "markdown",
   "metadata": {
    "colab_type": "text",
    "id": "f8mftWTIFQFK"
   },
   "source": [
    "We can visualize the tree:"
   ]
  },
  {
   "cell_type": "code",
<<<<<<< HEAD
   "execution_count": 25,
=======
   "execution_count": 0,
>>>>>>> 88aeb1566450dd5b8472405364b6b0384d786fa4
   "metadata": {
    "colab": {},
    "colab_type": "code",
    "id": "eiTVyfZ54Ue7"
   },
   "outputs": [],
   "source": [
<<<<<<< HEAD
    "# from dtreeviz.trees import dtreeviz\n",
    "\n",
    "class_names = ['No', 'Yes']\n",
    "# dtreeviz(tree, encoder.transform(X_train), y_train, \n",
    "#          target_name='Subscribed',\n",
    "#          feature_names=list(feature_names), \n",
    "#          class_names=class_names)"
=======
    "from dtreeviz.trees import dtreeviz\n",
    "\n",
    "class_names = ['No', 'Yes']\n",
    "dtreeviz(tree, encoder.transform(X_train), y_train, \n",
    "         target_name='Subscribed',\n",
    "         feature_names=list(feature_names), \n",
    "         class_names=class_names)"
>>>>>>> 88aeb1566450dd5b8472405364b6b0384d786fa4
   ]
  },
  {
   "cell_type": "code",
<<<<<<< HEAD
   "execution_count": 26,
=======
   "execution_count": 0,
>>>>>>> 88aeb1566450dd5b8472405364b6b0384d786fa4
   "metadata": {
    "colab": {},
    "colab_type": "code",
    "id": "ipE3XsY74M41"
   },
<<<<<<< HEAD
   "outputs": [
    {
     "data": {
      "image/svg+xml": [
       "<?xml version=\"1.0\" encoding=\"UTF-8\" standalone=\"no\"?>\n",
       "<!DOCTYPE svg PUBLIC \"-//W3C//DTD SVG 1.1//EN\"\n",
       " \"http://www.w3.org/Graphics/SVG/1.1/DTD/svg11.dtd\">\n",
       "<!-- Generated by graphviz version 2.40.1 (20161225.0304)\n",
       " -->\n",
       "<!-- Title: Tree Pages: 1 -->\n",
       "<svg width=\"612pt\" height=\"269pt\"\n",
       " viewBox=\"0.00 0.00 612.00 269.00\" xmlns=\"http://www.w3.org/2000/svg\" xmlns:xlink=\"http://www.w3.org/1999/xlink\">\n",
       "<g id=\"graph0\" class=\"graph\" transform=\"scale(1 1) rotate(0) translate(4 265)\">\n",
       "<title>Tree</title>\n",
       "<polygon fill=\"#ffffff\" stroke=\"transparent\" points=\"-4,4 -4,-265 608,-265 608,4 -4,4\"/>\n",
       "<!-- 0 -->\n",
       "<g id=\"node1\" class=\"node\">\n",
       "<title>0</title>\n",
       "<polygon fill=\"#e58139\" fill-opacity=\"0.874510\" stroke=\"#000000\" points=\"372,-261 217,-261 217,-193 372,-193 372,-261\"/>\n",
       "<text text-anchor=\"middle\" x=\"294.5\" y=\"-245.8\" font-family=\"Times,serif\" font-size=\"14.00\" fill=\"#000000\">nr.employed &lt;= 5087.65</text>\n",
       "<text text-anchor=\"middle\" x=\"294.5\" y=\"-230.8\" font-family=\"Times,serif\" font-size=\"14.00\" fill=\"#000000\">samples = 100.0%</text>\n",
       "<text text-anchor=\"middle\" x=\"294.5\" y=\"-215.8\" font-family=\"Times,serif\" font-size=\"14.00\" fill=\"#000000\">value = [0.887, 0.113]</text>\n",
       "<text text-anchor=\"middle\" x=\"294.5\" y=\"-200.8\" font-family=\"Times,serif\" font-size=\"14.00\" fill=\"#000000\">class = No</text>\n",
       "</g>\n",
       "<!-- 1 -->\n",
       "<g id=\"node2\" class=\"node\">\n",
       "<title>1</title>\n",
       "<polygon fill=\"#e58139\" fill-opacity=\"0.211765\" stroke=\"#000000\" points=\"286,-157 145,-157 145,-89 286,-89 286,-157\"/>\n",
       "<text text-anchor=\"middle\" x=\"215.5\" y=\"-141.8\" font-family=\"Times,serif\" font-size=\"14.00\" fill=\"#000000\">duration &lt;= 172.5</text>\n",
       "<text text-anchor=\"middle\" x=\"215.5\" y=\"-126.8\" font-family=\"Times,serif\" font-size=\"14.00\" fill=\"#000000\">samples = 12.1%</text>\n",
       "<text text-anchor=\"middle\" x=\"215.5\" y=\"-111.8\" font-family=\"Times,serif\" font-size=\"14.00\" fill=\"#000000\">value = [0.559, 0.441]</text>\n",
       "<text text-anchor=\"middle\" x=\"215.5\" y=\"-96.8\" font-family=\"Times,serif\" font-size=\"14.00\" fill=\"#000000\">class = No</text>\n",
       "</g>\n",
       "<!-- 0&#45;&gt;1 -->\n",
       "<g id=\"edge1\" class=\"edge\">\n",
       "<title>0&#45;&gt;1</title>\n",
       "<path fill=\"none\" stroke=\"#000000\" d=\"M268.6324,-192.9465C261.8804,-184.0578 254.5226,-174.3716 247.4941,-165.1188\"/>\n",
       "<polygon fill=\"#000000\" stroke=\"#000000\" points=\"250.2617,-162.976 241.4257,-157.13 244.6875,-167.2102 250.2617,-162.976\"/>\n",
       "<text text-anchor=\"middle\" x=\"238.0418\" y=\"-178.1999\" font-family=\"Times,serif\" font-size=\"14.00\" fill=\"#000000\">True</text>\n",
       "</g>\n",
       "<!-- 4 -->\n",
       "<g id=\"node5\" class=\"node\">\n",
       "<title>4</title>\n",
       "<polygon fill=\"#e58139\" fill-opacity=\"0.929412\" stroke=\"#000000\" points=\"445,-157 304,-157 304,-89 445,-89 445,-157\"/>\n",
       "<text text-anchor=\"middle\" x=\"374.5\" y=\"-141.8\" font-family=\"Times,serif\" font-size=\"14.00\" fill=\"#000000\">duration &lt;= 525.5</text>\n",
       "<text text-anchor=\"middle\" x=\"374.5\" y=\"-126.8\" font-family=\"Times,serif\" font-size=\"14.00\" fill=\"#000000\">samples = 87.9%</text>\n",
       "<text text-anchor=\"middle\" x=\"374.5\" y=\"-111.8\" font-family=\"Times,serif\" font-size=\"14.00\" fill=\"#000000\">value = [0.933, 0.067]</text>\n",
       "<text text-anchor=\"middle\" x=\"374.5\" y=\"-96.8\" font-family=\"Times,serif\" font-size=\"14.00\" fill=\"#000000\">class = No</text>\n",
       "</g>\n",
       "<!-- 0&#45;&gt;4 -->\n",
       "<g id=\"edge4\" class=\"edge\">\n",
       "<title>0&#45;&gt;4</title>\n",
       "<path fill=\"none\" stroke=\"#000000\" d=\"M320.695,-192.9465C327.5325,-184.0578 334.9834,-174.3716 342.101,-165.1188\"/>\n",
       "<polygon fill=\"#000000\" stroke=\"#000000\" points=\"344.9232,-167.1903 348.2462,-157.13 339.3748,-162.9223 344.9232,-167.1903\"/>\n",
       "<text text-anchor=\"middle\" x=\"351.4796\" y=\"-178.22\" font-family=\"Times,serif\" font-size=\"14.00\" fill=\"#000000\">False</text>\n",
       "</g>\n",
       "<!-- 2 -->\n",
       "<g id=\"node3\" class=\"node\">\n",
       "<title>2</title>\n",
       "<polygon fill=\"#e58139\" fill-opacity=\"0.796078\" stroke=\"#000000\" points=\"127,-53 0,-53 0,0 127,0 127,-53\"/>\n",
       "<text text-anchor=\"middle\" x=\"63.5\" y=\"-37.8\" font-family=\"Times,serif\" font-size=\"14.00\" fill=\"#000000\">samples = 4.6%</text>\n",
       "<text text-anchor=\"middle\" x=\"63.5\" y=\"-22.8\" font-family=\"Times,serif\" font-size=\"14.00\" fill=\"#000000\">value = [0.83, 0.17]</text>\n",
       "<text text-anchor=\"middle\" x=\"63.5\" y=\"-7.8\" font-family=\"Times,serif\" font-size=\"14.00\" fill=\"#000000\">class = No</text>\n",
       "</g>\n",
       "<!-- 1&#45;&gt;2 -->\n",
       "<g id=\"edge2\" class=\"edge\">\n",
       "<title>1&#45;&gt;2</title>\n",
       "<path fill=\"none\" stroke=\"#000000\" d=\"M161.9105,-88.9777C146.4774,-79.1798 129.6904,-68.5222 114.4237,-58.8298\"/>\n",
       "<polygon fill=\"#000000\" stroke=\"#000000\" points=\"115.9506,-55.6535 105.6323,-53.2485 112.1987,-61.5631 115.9506,-55.6535\"/>\n",
       "</g>\n",
       "<!-- 3 -->\n",
       "<g id=\"node4\" class=\"node\">\n",
       "<title>3</title>\n",
       "<polygon fill=\"#399de5\" fill-opacity=\"0.349020\" stroke=\"#000000\" points=\"286,-53 145,-53 145,0 286,0 286,-53\"/>\n",
       "<text text-anchor=\"middle\" x=\"215.5\" y=\"-37.8\" font-family=\"Times,serif\" font-size=\"14.00\" fill=\"#000000\">samples = 7.5%</text>\n",
       "<text text-anchor=\"middle\" x=\"215.5\" y=\"-22.8\" font-family=\"Times,serif\" font-size=\"14.00\" fill=\"#000000\">value = [0.394, 0.606]</text>\n",
       "<text text-anchor=\"middle\" x=\"215.5\" y=\"-7.8\" font-family=\"Times,serif\" font-size=\"14.00\" fill=\"#000000\">class = Yes</text>\n",
       "</g>\n",
       "<!-- 1&#45;&gt;3 -->\n",
       "<g id=\"edge3\" class=\"edge\">\n",
       "<title>1&#45;&gt;3</title>\n",
       "<path fill=\"none\" stroke=\"#000000\" d=\"M215.5,-88.9777C215.5,-80.7364 215.5,-71.887 215.5,-63.5153\"/>\n",
       "<polygon fill=\"#000000\" stroke=\"#000000\" points=\"219.0001,-63.2484 215.5,-53.2485 212.0001,-63.2485 219.0001,-63.2484\"/>\n",
       "</g>\n",
       "<!-- 5 -->\n",
       "<g id=\"node6\" class=\"node\">\n",
       "<title>5</title>\n",
       "<polygon fill=\"#e58139\" fill-opacity=\"0.972549\" stroke=\"#000000\" points=\"445,-53 304,-53 304,0 445,0 445,-53\"/>\n",
       "<text text-anchor=\"middle\" x=\"374.5\" y=\"-37.8\" font-family=\"Times,serif\" font-size=\"14.00\" fill=\"#000000\">samples = 78.4%</text>\n",
       "<text text-anchor=\"middle\" x=\"374.5\" y=\"-22.8\" font-family=\"Times,serif\" font-size=\"14.00\" fill=\"#000000\">value = [0.974, 0.026]</text>\n",
       "<text text-anchor=\"middle\" x=\"374.5\" y=\"-7.8\" font-family=\"Times,serif\" font-size=\"14.00\" fill=\"#000000\">class = No</text>\n",
       "</g>\n",
       "<!-- 4&#45;&gt;5 -->\n",
       "<g id=\"edge5\" class=\"edge\">\n",
       "<title>4&#45;&gt;5</title>\n",
       "<path fill=\"none\" stroke=\"#000000\" d=\"M374.5,-88.9777C374.5,-80.7364 374.5,-71.887 374.5,-63.5153\"/>\n",
       "<polygon fill=\"#000000\" stroke=\"#000000\" points=\"378.0001,-63.2484 374.5,-53.2485 371.0001,-63.2485 378.0001,-63.2484\"/>\n",
       "</g>\n",
       "<!-- 6 -->\n",
       "<g id=\"node7\" class=\"node\">\n",
       "<title>6</title>\n",
       "<polygon fill=\"#e58139\" fill-opacity=\"0.301961\" stroke=\"#000000\" points=\"604,-53 463,-53 463,0 604,0 604,-53\"/>\n",
       "<text text-anchor=\"middle\" x=\"533.5\" y=\"-37.8\" font-family=\"Times,serif\" font-size=\"14.00\" fill=\"#000000\">samples = 9.5%</text>\n",
       "<text text-anchor=\"middle\" x=\"533.5\" y=\"-22.8\" font-family=\"Times,serif\" font-size=\"14.00\" fill=\"#000000\">value = [0.588, 0.412]</text>\n",
       "<text text-anchor=\"middle\" x=\"533.5\" y=\"-7.8\" font-family=\"Times,serif\" font-size=\"14.00\" fill=\"#000000\">class = No</text>\n",
       "</g>\n",
       "<!-- 4&#45;&gt;6 -->\n",
       "<g id=\"edge6\" class=\"edge\">\n",
       "<title>4&#45;&gt;6</title>\n",
       "<path fill=\"none\" stroke=\"#000000\" d=\"M430.5575,-88.9777C446.9276,-79.0424 464.754,-68.2232 480.9018,-58.4228\"/>\n",
       "<polygon fill=\"#000000\" stroke=\"#000000\" points=\"482.9474,-61.2755 489.6802,-53.095 479.3155,-55.2914 482.9474,-61.2755\"/>\n",
       "</g>\n",
       "</g>\n",
       "</svg>\n"
      ],
      "text/plain": [
       "<graphviz.files.Source at 0x1a183c8a20>"
      ]
     },
     "execution_count": 26,
     "metadata": {},
     "output_type": "execute_result"
    }
   ],
=======
   "outputs": [],
>>>>>>> 88aeb1566450dd5b8472405364b6b0384d786fa4
   "source": [
    "import graphviz\n",
    "from sklearn.tree import export_graphviz\n",
    "\n",
    "dot_data = export_graphviz(tree, out_file=None, \n",
    "                           feature_names=feature_names, class_names=class_names, \n",
    "                           filled=True, impurity=False, proportion=True)\n",
    "\n",
    "graphviz.Source(dot_data)"
   ]
  },
  {
   "cell_type": "markdown",
   "metadata": {
    "colab_type": "text",
    "id": "QcSQKvuLGzFj"
   },
   "source": [
    "### When the `duration` feature is dropped, \n",
    "then the ROC AUC score drops from ~0.85 to ~0.75"
   ]
  },
  {
   "cell_type": "code",
<<<<<<< HEAD
   "execution_count": 27,
=======
   "execution_count": 0,
>>>>>>> 88aeb1566450dd5b8472405364b6b0384d786fa4
   "metadata": {
    "colab": {},
    "colab_type": "code",
    "id": "_pNEgSeE6E3t"
   },
<<<<<<< HEAD
   "outputs": [
    {
     "data": {
      "text/plain": [
       "array([0.75192356, 0.73669375, 0.7473569 , 0.73692904, 0.74700667])"
      ]
     },
     "execution_count": 27,
     "metadata": {},
     "output_type": "execute_result"
    }
   ],
=======
   "outputs": [],
>>>>>>> 88aeb1566450dd5b8472405364b6b0384d786fa4
   "source": [
    "X_train = X_train.drop(columns='duration')\n",
    "cross_val_score(pipe, X_train, y_train, cv=5, scoring='roc_auc')"
   ]
  },
  {
   "cell_type": "markdown",
   "metadata": {
    "colab_type": "text",
    "id": "96nxtRRHHOYe"
   },
   "source": [
    "### ROC AUC\n",
    "\n",
    "[Wikipedia explains,](https://en.wikipedia.org/wiki/Receiver_operating_characteristic) \"A receiver operating characteristic curve, or ROC curve, is a graphical plot that illustrates the diagnostic ability of a binary classifier system as its discrimination threshold is varied. The ROC curve is created by plotting the true positive rate (TPR) against the false positive rate (FPR) at various threshold settings.\"\n",
    "\n",
    "ROC AUC is the area under the ROC curve. [It can be interpreted](https://stats.stackexchange.com/questions/132777/what-does-auc-stand-for-and-what-is-it) as \"the expectation that a uniformly drawn random positive is ranked before a uniformly drawn random negative.\" \n",
    "\n",
    "ROC AUC measures how well a classifier ranks predicted probabilities. It ranges from 0 to 1. A naive majority class baseline will have an ROC AUC score of 0.5. "
   ]
  },
  {
   "cell_type": "code",
<<<<<<< HEAD
   "execution_count": 28,
=======
   "execution_count": 0,
>>>>>>> 88aeb1566450dd5b8472405364b6b0384d786fa4
   "metadata": {
    "colab": {},
    "colab_type": "code",
    "id": "I6UAMxPjFkq3"
   },
<<<<<<< HEAD
   "outputs": [
    {
     "name": "stdout",
     "output_type": "stream",
     "text": [
      "Area under the Receiver Operating Characteristic curve: 0.7404622305997627\n"
     ]
    },
    {
     "data": {
      "image/png": "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\n",
      "text/plain": [
       "<Figure size 432x288 with 1 Axes>"
      ]
     },
     "metadata": {
      "needs_background": "light"
     },
     "output_type": "display_data"
    }
   ],
=======
   "outputs": [],
>>>>>>> 88aeb1566450dd5b8472405364b6b0384d786fa4
   "source": [
    "import matplotlib.pyplot as plt\n",
    "from sklearn.metrics import roc_auc_score, roc_curve\n",
    "from sklearn.model_selection import cross_val_predict\n",
    "\n",
    "y_pred_proba = cross_val_predict(pipe, X_train, y_train, cv=5, n_jobs=-1, \n",
    "                                 method='predict_proba')[:, 1]\n",
    "\n",
    "fpr, tpr, thresholds = roc_curve(y_train, y_pred_proba)\n",
    "plt.plot(fpr, tpr)\n",
    "plt.title('ROC curve')\n",
    "plt.xlabel('False Positive Rate')\n",
    "plt.ylabel('True Positive Rate')\n",
    "print('Area under the Receiver Operating Characteristic curve:', \n",
    "      roc_auc_score(y_train, y_pred_proba))"
   ]
  },
  {
   "cell_type": "code",
<<<<<<< HEAD
   "execution_count": 29,
=======
   "execution_count": 0,
>>>>>>> 88aeb1566450dd5b8472405364b6b0384d786fa4
   "metadata": {
    "colab": {},
    "colab_type": "code",
    "id": "HXFjtW39GJHZ"
   },
<<<<<<< HEAD
   "outputs": [
    {
     "data": {
      "text/html": [
       "<div>\n",
       "<style scoped>\n",
       "    .dataframe tbody tr th:only-of-type {\n",
       "        vertical-align: middle;\n",
       "    }\n",
       "\n",
       "    .dataframe tbody tr th {\n",
       "        vertical-align: top;\n",
       "    }\n",
       "\n",
       "    .dataframe thead th {\n",
       "        text-align: right;\n",
       "    }\n",
       "</style>\n",
       "<table border=\"1\" class=\"dataframe\">\n",
       "  <thead>\n",
       "    <tr style=\"text-align: right;\">\n",
       "      <th></th>\n",
       "      <th>False Positive Rate</th>\n",
       "      <th>True Positive Rate</th>\n",
       "      <th>Threshold</th>\n",
       "    </tr>\n",
       "  </thead>\n",
       "  <tbody>\n",
       "    <tr>\n",
       "      <th>0</th>\n",
       "      <td>0.000000</td>\n",
       "      <td>0.000000</td>\n",
       "      <td>1.714088</td>\n",
       "    </tr>\n",
       "    <tr>\n",
       "      <th>1</th>\n",
       "      <td>0.001847</td>\n",
       "      <td>0.034752</td>\n",
       "      <td>0.714088</td>\n",
       "    </tr>\n",
       "    <tr>\n",
       "      <th>2</th>\n",
       "      <td>0.004344</td>\n",
       "      <td>0.068966</td>\n",
       "      <td>0.709202</td>\n",
       "    </tr>\n",
       "    <tr>\n",
       "      <th>3</th>\n",
       "      <td>0.006225</td>\n",
       "      <td>0.107220</td>\n",
       "      <td>0.693569</td>\n",
       "    </tr>\n",
       "    <tr>\n",
       "      <th>4</th>\n",
       "      <td>0.008174</td>\n",
       "      <td>0.143588</td>\n",
       "      <td>0.692588</td>\n",
       "    </tr>\n",
       "    <tr>\n",
       "      <th>5</th>\n",
       "      <td>0.010295</td>\n",
       "      <td>0.184537</td>\n",
       "      <td>0.690387</td>\n",
       "    </tr>\n",
       "    <tr>\n",
       "      <th>6</th>\n",
       "      <td>0.024454</td>\n",
       "      <td>0.240571</td>\n",
       "      <td>0.361076</td>\n",
       "    </tr>\n",
       "    <tr>\n",
       "      <th>7</th>\n",
       "      <td>0.038306</td>\n",
       "      <td>0.297683</td>\n",
       "      <td>0.356931</td>\n",
       "    </tr>\n",
       "    <tr>\n",
       "      <th>8</th>\n",
       "      <td>0.050619</td>\n",
       "      <td>0.358836</td>\n",
       "      <td>0.354826</td>\n",
       "    </tr>\n",
       "    <tr>\n",
       "      <th>9</th>\n",
       "      <td>0.062624</td>\n",
       "      <td>0.411099</td>\n",
       "      <td>0.353764</td>\n",
       "    </tr>\n",
       "    <tr>\n",
       "      <th>10</th>\n",
       "      <td>0.076339</td>\n",
       "      <td>0.473869</td>\n",
       "      <td>0.350555</td>\n",
       "    </tr>\n",
       "    <tr>\n",
       "      <th>11</th>\n",
       "      <td>0.088036</td>\n",
       "      <td>0.495420</td>\n",
       "      <td>0.212000</td>\n",
       "    </tr>\n",
       "    <tr>\n",
       "      <th>12</th>\n",
       "      <td>0.100144</td>\n",
       "      <td>0.520205</td>\n",
       "      <td>0.207995</td>\n",
       "    </tr>\n",
       "    <tr>\n",
       "      <th>13</th>\n",
       "      <td>0.110986</td>\n",
       "      <td>0.542834</td>\n",
       "      <td>0.207228</td>\n",
       "    </tr>\n",
       "    <tr>\n",
       "      <th>14</th>\n",
       "      <td>0.122956</td>\n",
       "      <td>0.568427</td>\n",
       "      <td>0.206138</td>\n",
       "    </tr>\n",
       "    <tr>\n",
       "      <th>15</th>\n",
       "      <td>0.135201</td>\n",
       "      <td>0.595366</td>\n",
       "      <td>0.204784</td>\n",
       "    </tr>\n",
       "    <tr>\n",
       "      <th>16</th>\n",
       "      <td>0.309084</td>\n",
       "      <td>0.674030</td>\n",
       "      <td>0.056513</td>\n",
       "    </tr>\n",
       "    <tr>\n",
       "      <th>17</th>\n",
       "      <td>0.480778</td>\n",
       "      <td>0.752155</td>\n",
       "      <td>0.056432</td>\n",
       "    </tr>\n",
       "    <tr>\n",
       "      <th>18</th>\n",
       "      <td>0.652473</td>\n",
       "      <td>0.830819</td>\n",
       "      <td>0.056345</td>\n",
       "    </tr>\n",
       "    <tr>\n",
       "      <th>19</th>\n",
       "      <td>0.825809</td>\n",
       "      <td>0.914601</td>\n",
       "      <td>0.055633</td>\n",
       "    </tr>\n",
       "    <tr>\n",
       "      <th>20</th>\n",
       "      <td>1.000000</td>\n",
       "      <td>1.000000</td>\n",
       "      <td>0.055433</td>\n",
       "    </tr>\n",
       "  </tbody>\n",
       "</table>\n",
       "</div>"
      ],
      "text/plain": [
       "    False Positive Rate  True Positive Rate  Threshold\n",
       "0              0.000000            0.000000   1.714088\n",
       "1              0.001847            0.034752   0.714088\n",
       "2              0.004344            0.068966   0.709202\n",
       "3              0.006225            0.107220   0.693569\n",
       "4              0.008174            0.143588   0.692588\n",
       "5              0.010295            0.184537   0.690387\n",
       "6              0.024454            0.240571   0.361076\n",
       "7              0.038306            0.297683   0.356931\n",
       "8              0.050619            0.358836   0.354826\n",
       "9              0.062624            0.411099   0.353764\n",
       "10             0.076339            0.473869   0.350555\n",
       "11             0.088036            0.495420   0.212000\n",
       "12             0.100144            0.520205   0.207995\n",
       "13             0.110986            0.542834   0.207228\n",
       "14             0.122956            0.568427   0.206138\n",
       "15             0.135201            0.595366   0.204784\n",
       "16             0.309084            0.674030   0.056513\n",
       "17             0.480778            0.752155   0.056432\n",
       "18             0.652473            0.830819   0.056345\n",
       "19             0.825809            0.914601   0.055633\n",
       "20             1.000000            1.000000   0.055433"
      ]
     },
     "execution_count": 29,
     "metadata": {},
     "output_type": "execute_result"
    }
   ],
=======
   "outputs": [],
>>>>>>> 88aeb1566450dd5b8472405364b6b0384d786fa4
   "source": [
    "pd.DataFrame({'False Positive Rate': fpr, \n",
    "              'True Positive Rate': tpr, \n",
    "              'Threshold': thresholds})"
   ]
<<<<<<< HEAD
  },
  {
   "cell_type": "code",
   "execution_count": null,
   "metadata": {},
   "outputs": [],
   "source": []
=======
>>>>>>> 88aeb1566450dd5b8472405364b6b0384d786fa4
  }
 ],
 "metadata": {
  "colab": {
   "collapsed_sections": [],
   "name": "LS_DS_411A_Decision_Trees.ipynb",
   "provenance": [],
   "version": "0.3.2"
  },
  "kernelspec": {
   "display_name": "Python 3",
   "language": "python",
   "name": "python3"
  },
  "language_info": {
   "codemirror_mode": {
    "name": "ipython",
    "version": 3
   },
   "file_extension": ".py",
   "mimetype": "text/x-python",
   "name": "python",
   "nbconvert_exporter": "python",
   "pygments_lexer": "ipython3",
<<<<<<< HEAD
   "version": "3.6.8"
=======
   "version": "3.6.7"
>>>>>>> 88aeb1566450dd5b8472405364b6b0384d786fa4
  }
 },
 "nbformat": 4,
 "nbformat_minor": 1
}

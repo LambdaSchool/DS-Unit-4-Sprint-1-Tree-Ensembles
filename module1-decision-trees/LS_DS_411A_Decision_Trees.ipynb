{
 "cells": [
  {
   "cell_type": "markdown",
   "metadata": {
    "colab_type": "text",
    "id": "A0-sUApS7MIs"
   },
   "source": [
    "_Lambda School Data Science — Tree Ensembles_ \n",
    "\n",
    "# Decision Trees\n",
    "\n",
    "### Pre-read / pre-watch\n",
    "- A Visual Introduction to Machine Learning, [Part 1: A Decision Tree](http://www.r2d3.us/visual-intro-to-machine-learning-part-1/),  and [Part 2: Bias and Variance](http://www.r2d3.us/visual-intro-to-machine-learning-part-2/)\n",
    "- [Let’s Write a Decision Tree Classifier from Scratch](https://www.youtube.com/watch?v=LDRbO9a6XPU) — _Don’t worry about understanding the code, just get introduced to the concepts. This 10 minute video has excellent diagrams and explanations._\n",
    "- [How a Russian mathematician constructed a decision tree - by hand - to solve a medical problem](http://fastml.com/how-a-russian-mathematician-constructed-a-decision-tree-by-hand-to-solve-a-medical-problem/)\n",
    "- [How decision trees work](https://brohrer.github.io/how_decision_trees_work.html)\n",
    "- [Decision Trees: Advantages & Disadvantages](https://christophm.github.io/interpretable-ml-book/tree.html#advantages-2)\n"
   ]
  },
  {
   "cell_type": "markdown",
   "metadata": {
    "colab_type": "text",
    "id": "cRr2wuYV8DmA"
   },
   "source": [
    "### Categorical encoding for trees\n",
    "\n",
    "#### Good reads\n",
    "- [Categorical Features and Encoding in Decision Trees](https://medium.com/data-design/visiting-categorical-features-and-encoding-in-decision-trees-53400fa65931)\n",
    "- [Beyond One-Hot: An Exploration of Categorical Variables](http://www.willmcginnis.com/2015/11/29/beyond-one-hot-an-exploration-of-categorical-variables/)\n",
    "- [Mean (likelihood) encodings: a comprehensive study](https://www.kaggle.com/vprokopev/mean-likelihood-encodings-a-comprehensive-study)\n",
    "- [Are categorical variables getting lost in your random forests?](https://roamanalytics.com/2016/10/28/are-categorical-variables-getting-lost-in-your-random-forests/)\n",
    "\n",
    "#### Some options\n",
    "- [category_encoders.target_encoder.OrdinalEncoder](http://contrib.scikit-learn.org/categorical-encoding/ordinal.html)\n",
    "- [category_encoders.target_encoder.TargetEncoder](http://contrib.scikit-learn.org/categorical-encoding/targetencoder.html)\n",
    "- [sklearn.preprocessing.LabelEncoder](https://scikit-learn.org/stable/modules/generated/sklearn.preprocessing.LabelEncoder.html) + [sklearn.compose.ColumnTransformer](https://scikit-learn.org/stable/modules/generated/sklearn.compose.ColumnTransformer.html#sklearn.compose.ColumnTransformer)\n",
    "- [sklearn.preprocessing.LabelEncoder](https://scikit-learn.org/stable/modules/generated/sklearn.preprocessing.LabelEncoder.html) + [sklearn-pandas](https://github.com/scikit-learn-contrib/sklearn-pandas)\n",
    "- [kaggler.preprocessing.data.OneHotEncoder(min_obs=...)](https://pythonhosted.org/Kaggler/kaggler.preprocessing.html#kaggler.preprocessing.data.OneHotEncoder)\n",
    "- [Create your own scikit-learn compatible transformers!](https://github.com/PacktPublishing/Hands-On-Machine-Learning-with-Python-and-Scikit-Learn/blob/master/code/Feature%20Engineering.ipynb)"
   ]
  },
  {
   "cell_type": "markdown",
   "metadata": {
    "colab_type": "text",
    "id": "xQ_JHVbmzLeT"
   },
   "source": [
    "### Libraries\n",
    "\n",
    "This notebook optionally uses the [dtreeviz](https://explained.ai/decision-tree-viz/) library for decision tree visualizations.\n",
    "\n",
    "It is easy to install on Google Colab: `!pip install dtreeviz`\n",
    "\n",
    "But the [installation instructions](https://github.com/parrt/dtreeviz#install) are harder on Mac or Windows. \n",
    "\n",
    "So you have several options with this notebook:\n",
    "1. Run on Google Colab\n",
    "2. Install dtreeviz on your system\n",
    "3. Skip the cells with dtreeviz"
   ]
  },
  {
   "cell_type": "code",
   "execution_count": 1,
   "metadata": {
    "colab": {},
    "colab_type": "code",
    "id": "gB1mD5QH0Xz9"
   },
   "outputs": [],
   "source": [
    "#!pip install dtreeviz"
   ]
  },
  {
   "cell_type": "code",
   "execution_count": 2,
   "metadata": {},
   "outputs": [],
   "source": [
    "import dtreeviz\n",
    "import category_encoders"
   ]
  },
  {
   "cell_type": "markdown",
   "metadata": {
    "colab_type": "text",
    "id": "HUMXG9hW0za9"
   },
   "source": [
    "This notebook also uses the [category_encoders](https://github.com/scikit-learn-contrib/categorical-encoding) library.\n",
    "\n",
    "To install on Google Colab: `!pip install category_encoders`\n",
    "\n",
    "To install with Anaconda: `!conda install -c conda-forge category_encoders`\n"
   ]
  },
  {
   "cell_type": "code",
   "execution_count": 3,
   "metadata": {
    "colab": {},
    "colab_type": "code",
    "id": "zn6-U2BS0y7T"
   },
   "outputs": [],
   "source": [
    "#!pip install category_encoders"
   ]
  },
  {
   "cell_type": "markdown",
   "metadata": {
    "colab_type": "text",
    "id": "kWm7mMlH9sl2"
   },
   "source": [
    "## Play Tennis"
   ]
  },
  {
   "cell_type": "markdown",
   "metadata": {
    "colab_type": "text",
    "id": "2f5-S87kg6gJ"
   },
   "source": [
    "We'll reproduce the \"Play Tennis\" example from Ross Quinlan's 1986 paper, [Induction of Decison Trees](https://link.springer.com/content/pdf/10.1007%2FBF00116251.pdf).\n",
    "\n",
    "[According to Wikipedia](https://en.wikipedia.org/wiki/Ross_Quinlan), \"John Ross Quinlan is a computer science researcher in data mining and decision theory. He has contributed extensively to the development of decision tree algorithms, including inventing the canonical C4.5 and ID3 algorithms.\""
   ]
  },
  {
   "cell_type": "markdown",
   "metadata": {
    "colab_type": "text",
    "id": "Qfv6Zwdoje7_"
   },
   "source": [
    "***\"Table 1 shows a small training set\"***"
   ]
  },
  {
   "cell_type": "code",
   "execution_count": 4,
   "metadata": {
    "colab": {},
    "colab_type": "code",
    "id": "oUE-G0pgg58u"
   },
   "outputs": [
    {
     "data": {
      "text/html": [
       "<div>\n",
       "<style scoped>\n",
       "    .dataframe tbody tr th:only-of-type {\n",
       "        vertical-align: middle;\n",
       "    }\n",
       "\n",
       "    .dataframe tbody tr th {\n",
       "        vertical-align: top;\n",
       "    }\n",
       "\n",
       "    .dataframe thead th {\n",
       "        text-align: right;\n",
       "    }\n",
       "</style>\n",
       "<table border=\"1\" class=\"dataframe\">\n",
       "  <thead>\n",
       "    <tr style=\"text-align: right;\">\n",
       "      <th></th>\n",
       "      <th>Outlook</th>\n",
       "      <th>Temperature</th>\n",
       "      <th>Humidity</th>\n",
       "      <th>Windy</th>\n",
       "      <th>Class</th>\n",
       "    </tr>\n",
       "    <tr>\n",
       "      <th>No.</th>\n",
       "      <th></th>\n",
       "      <th></th>\n",
       "      <th></th>\n",
       "      <th></th>\n",
       "      <th></th>\n",
       "    </tr>\n",
       "  </thead>\n",
       "  <tbody>\n",
       "    <tr>\n",
       "      <th>1</th>\n",
       "      <td>sunny</td>\n",
       "      <td>hot</td>\n",
       "      <td>high</td>\n",
       "      <td>false</td>\n",
       "      <td>N</td>\n",
       "    </tr>\n",
       "    <tr>\n",
       "      <th>2</th>\n",
       "      <td>sunny</td>\n",
       "      <td>hot</td>\n",
       "      <td>high</td>\n",
       "      <td>true</td>\n",
       "      <td>N</td>\n",
       "    </tr>\n",
       "    <tr>\n",
       "      <th>3</th>\n",
       "      <td>overcast</td>\n",
       "      <td>hot</td>\n",
       "      <td>high</td>\n",
       "      <td>false</td>\n",
       "      <td>P</td>\n",
       "    </tr>\n",
       "    <tr>\n",
       "      <th>4</th>\n",
       "      <td>rain</td>\n",
       "      <td>mild</td>\n",
       "      <td>high</td>\n",
       "      <td>false</td>\n",
       "      <td>P</td>\n",
       "    </tr>\n",
       "    <tr>\n",
       "      <th>5</th>\n",
       "      <td>rain</td>\n",
       "      <td>cool</td>\n",
       "      <td>normal</td>\n",
       "      <td>false</td>\n",
       "      <td>P</td>\n",
       "    </tr>\n",
       "    <tr>\n",
       "      <th>6</th>\n",
       "      <td>rain</td>\n",
       "      <td>cool</td>\n",
       "      <td>normal</td>\n",
       "      <td>true</td>\n",
       "      <td>N</td>\n",
       "    </tr>\n",
       "    <tr>\n",
       "      <th>7</th>\n",
       "      <td>overcast</td>\n",
       "      <td>cool</td>\n",
       "      <td>normal</td>\n",
       "      <td>true</td>\n",
       "      <td>P</td>\n",
       "    </tr>\n",
       "    <tr>\n",
       "      <th>8</th>\n",
       "      <td>sunny</td>\n",
       "      <td>mild</td>\n",
       "      <td>high</td>\n",
       "      <td>false</td>\n",
       "      <td>N</td>\n",
       "    </tr>\n",
       "    <tr>\n",
       "      <th>9</th>\n",
       "      <td>sunny</td>\n",
       "      <td>cool</td>\n",
       "      <td>normal</td>\n",
       "      <td>false</td>\n",
       "      <td>P</td>\n",
       "    </tr>\n",
       "    <tr>\n",
       "      <th>10</th>\n",
       "      <td>rain</td>\n",
       "      <td>mild</td>\n",
       "      <td>normal</td>\n",
       "      <td>false</td>\n",
       "      <td>P</td>\n",
       "    </tr>\n",
       "    <tr>\n",
       "      <th>11</th>\n",
       "      <td>sunny</td>\n",
       "      <td>mild</td>\n",
       "      <td>normal</td>\n",
       "      <td>true</td>\n",
       "      <td>P</td>\n",
       "    </tr>\n",
       "    <tr>\n",
       "      <th>12</th>\n",
       "      <td>overcast</td>\n",
       "      <td>mild</td>\n",
       "      <td>high</td>\n",
       "      <td>true</td>\n",
       "      <td>P</td>\n",
       "    </tr>\n",
       "    <tr>\n",
       "      <th>13</th>\n",
       "      <td>overcast</td>\n",
       "      <td>hot</td>\n",
       "      <td>normal</td>\n",
       "      <td>false</td>\n",
       "      <td>P</td>\n",
       "    </tr>\n",
       "    <tr>\n",
       "      <th>14</th>\n",
       "      <td>rain</td>\n",
       "      <td>mild</td>\n",
       "      <td>high</td>\n",
       "      <td>true</td>\n",
       "      <td>N</td>\n",
       "    </tr>\n",
       "  </tbody>\n",
       "</table>\n",
       "</div>"
      ],
      "text/plain": [
       "      Outlook Temperature Humidity  Windy Class\n",
       "No.                                            \n",
       "1       sunny         hot     high  false     N\n",
       "2       sunny         hot     high   true     N\n",
       "3    overcast         hot     high  false     P\n",
       "4        rain        mild     high  false     P\n",
       "5        rain        cool   normal  false     P\n",
       "6        rain        cool   normal   true     N\n",
       "7    overcast        cool   normal   true     P\n",
       "8       sunny        mild     high  false     N\n",
       "9       sunny        cool   normal  false     P\n",
       "10       rain        mild   normal  false     P\n",
       "11      sunny        mild   normal   true     P\n",
       "12   overcast        mild     high   true     P\n",
       "13   overcast         hot   normal  false     P\n",
       "14       rain        mild     high   true     N"
      ]
     },
     "execution_count": 4,
     "metadata": {},
     "output_type": "execute_result"
    }
   ],
   "source": [
    "import pandas as pd\n",
    "\n",
    "columns = 'No. Outlook Temperature Humidity Windy Class'.split()\n",
    "\n",
    "raw = \"\"\"1 sunny hot high false N\n",
    "2 sunny hot high true N\n",
    "3 overcast hot high false P\n",
    "4 rain mild high false P\n",
    "5 rain cool normal false P\n",
    "6 rain cool normal true N\n",
    "7 overcast cool normal true P\n",
    "8 sunny mild high false N\n",
    "9 sunny cool normal false P\n",
    "10 rain mild normal false P\n",
    "11 sunny mild normal true P\n",
    "12 overcast mild high true P\n",
    "13 overcast hot normal false P\n",
    "14 rain mild high true N\"\"\"\n",
    "\n",
    "data = [row.split() for row in raw.split('\\n')]\n",
    "\n",
    "tennis = pd.DataFrame(data, columns=columns).set_index('No.')\n",
    "\n",
    "tennis"
   ]
  },
  {
   "cell_type": "markdown",
   "metadata": {
    "colab_type": "text",
    "id": "BvFu9kvJj9kk"
   },
   "source": [
    "***\"A decision tree that correctly classifies each object in the training set is given in Figure 2.\"***\n",
    "\n",
    "<img src=\"https://i.imgur.com/RD7d0u0.png\" height=\"300\">"
   ]
  },
  {
   "cell_type": "markdown",
   "metadata": {
    "colab_type": "text",
    "id": "dT0ghLwd-Xzp"
   },
   "source": [
    "### Explore the data\n",
    "(and compare to Figure 2 above)"
   ]
  },
  {
   "cell_type": "markdown",
   "metadata": {
    "colab_type": "text",
    "id": "kHkkeALqjNiS"
   },
   "source": [
    "In this dataset, the tennis player decided to play on 9 days, and decided not to on 5 days."
   ]
  },
  {
   "cell_type": "code",
   "execution_count": 5,
   "metadata": {
    "colab": {},
    "colab_type": "code",
    "id": "qeLDinBihMDQ"
   },
   "outputs": [
    {
     "data": {
      "text/plain": [
       "1    9\n",
       "0    5\n",
       "Name: Class, dtype: int64"
      ]
     },
     "execution_count": 5,
     "metadata": {},
     "output_type": "execute_result"
    }
   ],
   "source": [
    "tennis['Class'] = (tennis['Class'] == 'P').astype(int)\n",
    "tennis['Class'].value_counts()"
   ]
  },
  {
   "cell_type": "markdown",
   "metadata": {
    "colab_type": "text",
    "id": "Ype2-apnlaG2"
   },
   "source": [
    "The tennis player played on 4 overcast days, 3 rainy days, and 2 sunny days."
   ]
  },
  {
   "cell_type": "code",
   "execution_count": 6,
   "metadata": {
    "colab": {},
    "colab_type": "code",
    "id": "LfBMB0Soh58T"
   },
   "outputs": [
    {
     "data": {
      "text/plain": [
       "Outlook\n",
       "overcast    4\n",
       "rain        3\n",
       "sunny       2\n",
       "Name: Class, dtype: int32"
      ]
     },
     "execution_count": 6,
     "metadata": {},
     "output_type": "execute_result"
    }
   ],
   "source": [
    "tennis.groupby('Outlook')['Class'].sum()"
   ]
  },
  {
   "cell_type": "markdown",
   "metadata": {
    "colab_type": "text",
    "id": "jx3-MFvalrQC"
   },
   "source": [
    "On sunny days, the tennis player's decision depends on the humidity. (The Outlook and Humidity features interact.)"
   ]
  },
  {
   "cell_type": "code",
   "execution_count": 7,
   "metadata": {
    "colab": {},
    "colab_type": "code",
    "id": "FmVN7hwEiHE5"
   },
   "outputs": [
    {
     "data": {
      "text/plain": [
       "Humidity\n",
       "high      0\n",
       "normal    2\n",
       "Name: Class, dtype: int32"
      ]
     },
     "execution_count": 7,
     "metadata": {},
     "output_type": "execute_result"
    }
   ],
   "source": [
    "tennis[tennis['Outlook']=='sunny'].groupby('Humidity')['Class'].sum()"
   ]
  },
  {
   "cell_type": "markdown",
   "metadata": {
    "colab_type": "text",
    "id": "y0it0HsFl47M"
   },
   "source": [
    "On rainy days, the tennis player's decision depends on the wind. (The Outlook and Windy features interact.)"
   ]
  },
  {
   "cell_type": "code",
   "execution_count": 8,
   "metadata": {
    "colab": {},
    "colab_type": "code",
    "id": "CeOd7rGeivJp"
   },
   "outputs": [
    {
     "data": {
      "text/plain": [
       "Windy\n",
       "false    3\n",
       "true     0\n",
       "Name: Class, dtype: int32"
      ]
     },
     "execution_count": 8,
     "metadata": {},
     "output_type": "execute_result"
    }
   ],
   "source": [
    "tennis[tennis['Outlook']=='rain'].groupby('Windy')['Class'].sum()"
   ]
  },
  {
   "cell_type": "markdown",
   "metadata": {
    "colab_type": "text",
    "id": "UvOkHk8o-h_r"
   },
   "source": [
    "### Train a Decision Tree\n",
    "The tree has 100% accuracy"
   ]
  },
  {
   "cell_type": "code",
   "execution_count": 9,
   "metadata": {
    "colab": {},
    "colab_type": "code",
    "id": "VCyn34nEi0nz"
   },
   "outputs": [
    {
     "data": {
      "text/plain": [
       "1.0"
      ]
     },
     "execution_count": 9,
     "metadata": {},
     "output_type": "execute_result"
    }
   ],
   "source": [
    "from sklearn.tree import DecisionTreeClassifier\n",
    "\n",
    "# using get_dummies for one-hot-encoding - though \"get_dummies\" not preferred\n",
    "X = pd.get_dummies(tennis.drop(columns='Class')) \n",
    "y = tennis['Class']\n",
    "\n",
    "dt = DecisionTreeClassifier()\n",
    "dt.fit(X, y)\n",
    "dt.score(X, y)\n",
    "\n",
    "# Decision trees can calculate feature interaction - something not so well done by Log Regression\n",
    "# result 1.0 means 100% accuracy"
   ]
  },
  {
   "cell_type": "markdown",
   "metadata": {
    "colab_type": "text",
    "id": "EwF0phe6-oR8"
   },
   "source": [
    "### Visualize the tree\n",
    "With dtreeviz:"
   ]
  },
  {
   "cell_type": "code",
   "execution_count": null,
   "metadata": {
    "colab": {},
    "colab_type": "code",
    "id": "86CGfYRFxRid"
   },
   "outputs": [],
   "source": [
    "from dtreeviz.trees import dtreeviz\n",
    "\n",
    "dtreeviz(dt, X, y, \n",
    "         target_name='Play Tennis',\n",
    "         feature_names=X.columns, \n",
    "         class_names=['No', 'Yes'])"
   ]
  },
  {
   "cell_type": "markdown",
   "metadata": {
    "colab_type": "text",
    "id": "N4vTK0G2-rkZ"
   },
   "source": [
    "With scikit-learn:"
   ]
  },
  {
   "cell_type": "code",
   "execution_count": null,
   "metadata": {
    "colab": {},
    "colab_type": "code",
    "id": "pzJSj7zbnVaP"
   },
   "outputs": [],
   "source": [
    "import graphviz\n",
    "from sklearn.tree import export_graphviz\n",
    "\n",
    "dot_data = export_graphviz(dt, out_file=None, \n",
    "                           feature_names=X.columns, \n",
    "                           class_names=['No', 'Play Tennis'],   \n",
    "                           filled=True, impurity=False, rounded=True)\n",
    "graphviz.Source(dot_data)"
   ]
  },
  {
   "cell_type": "markdown",
   "metadata": {
    "colab_type": "text",
    "id": "9uNPrbfS-vzL"
   },
   "source": [
    "### Compare to Logistic Regression\n",
    "Logistic Regression has lower accuracy here:"
   ]
  },
  {
   "cell_type": "code",
   "execution_count": 12,
   "metadata": {
    "colab": {},
    "colab_type": "code",
    "id": "67JrwiOn1S5B"
   },
   "outputs": [
    {
     "data": {
      "text/plain": [
       "0.8571428571428571"
      ]
     },
     "execution_count": 12,
     "metadata": {},
     "output_type": "execute_result"
    }
   ],
   "source": [
    "from sklearn.linear_model import LogisticRegression\n",
    "# able to pick up some relationship but not so much as Decision Trees\n",
    "lr = LogisticRegression(solver='lbfgs')\n",
    "lr.fit(X, y)\n",
    "lr.score(X, y)"
   ]
  },
  {
   "cell_type": "markdown",
   "metadata": {
    "colab_type": "text",
    "id": "9jsHqsVZ-3NB"
   },
   "source": [
    "The Logistic Regression model has these coefficients:"
   ]
  },
  {
   "cell_type": "code",
   "execution_count": 13,
   "metadata": {
    "colab": {},
    "colab_type": "code",
    "id": "bab2XOFU1cT-"
   },
   "outputs": [
    {
     "data": {
      "image/png": "[encoded data removed]",
      "text/plain": [
       "<Figure size 432x288 with 1 Axes>"
      ]
     },
     "metadata": {
      "needs_background": "light"
     },
     "output_type": "display_data"
    }
   ],
   "source": [
    "pd.Series(lr.coef_[0], X.columns).sort_values().plot.barh(color='grey');"
   ]
  },
  {
   "cell_type": "markdown",
   "metadata": {
    "colab_type": "text",
    "id": "SMkfr8Ic_Q9z"
   },
   "source": [
    "### What if we use \"Ordinal\" encoding instead of One-Hot?\n",
    "\n",
    "The \"ordinal\" encoding is applied arbitrarily here.\n",
    "\n",
    "The decision tree still has 100% accuracy."
   ]
  },
  {
   "cell_type": "code",
   "execution_count": 14,
   "metadata": {
    "colab": {},
    "colab_type": "code",
    "id": "Uk9qetb-pnq-"
   },
   "outputs": [
    {
     "data": {
      "text/plain": [
       "1.0"
      ]
     },
     "execution_count": 14,
     "metadata": {},
     "output_type": "execute_result"
    }
   ],
   "source": [
    "import category_encoders as ce # ordinal encoding applied arbitrarally\n",
    "# sklearn label encoder can be used instead\n",
    "# wen its nomi\n",
    "encoder = ce.OrdinalEncoder()\n",
    "X = encoder.fit_transform(tennis.drop(columns='Class'))\n",
    "y = tennis['Class']\n",
    "\n",
    "dt = DecisionTreeClassifier()\n",
    "dt.fit(X, y)\n",
    "dt.score(X, y)"
   ]
  },
  {
   "cell_type": "markdown",
   "metadata": {
    "colab_type": "text",
    "id": "BX4TPGMz_f98"
   },
   "source": [
    "A tree's [feature importances](https://explained.ai/rf-importance/index.html#3) are non-negative. They have magnitude but no direction. \n",
    "\n",
    "\"Outlook\" is the most important feature in this model."
   ]
  },
  {
   "cell_type": "code",
   "execution_count": 15,
   "metadata": {
    "colab": {},
    "colab_type": "code",
    "id": "XYKDrONX3LeE"
   },
   "outputs": [
    {
     "data": {
      "image/png": "[encoded data removed]",
      "text/plain": [
       "<Figure size 432x288 with 1 Axes>"
      ]
     },
     "metadata": {
      "needs_background": "light"
     },
     "output_type": "display_data"
    }
   ],
   "source": [
    "\n",
    "pd.Series(dt.feature_importances_, X.columns).sort_values().plot.barh(color='grey');"
   ]
  },
  {
   "cell_type": "markdown",
   "metadata": {
    "colab_type": "text",
    "id": "1gHapIbXAuyq"
   },
   "source": [
    "With the arbitrary \"ordinal\" encoding, the Logistic Regression accuracy decreases to 64% (compared to 86% with One-Hot Encoding)."
   ]
  },
  {
   "cell_type": "code",
   "execution_count": 16,
   "metadata": {
    "colab": {},
    "colab_type": "code",
    "id": "5yaEpKT_pw-U"
   },
   "outputs": [
    {
     "data": {
      "text/plain": [
       "0.6428571428571429"
      ]
     },
     "execution_count": 16,
     "metadata": {},
     "output_type": "execute_result"
    }
   ],
   "source": [
    "lr = LogisticRegression(solver='lbfgs')\n",
    "lr.fit(X, y)\n",
    "lr.score(X, y)"
   ]
  },
  {
   "cell_type": "markdown",
   "metadata": {
    "colab_type": "text",
    "id": "u2xzV_JIA6HS"
   },
   "source": [
    "Why? Because now the relatioship between some features and target are not monotonic. \n",
    "\n",
    "We can look this, one feature at a time."
   ]
  },
  {
   "cell_type": "code",
   "execution_count": 18,
   "metadata": {
    "colab": {},
    "colab_type": "code",
    "id": "KJ6nAkKH2PjO"
   },
   "outputs": [
    {
     "data": {
      "text/plain": [
       "Outlook\n",
       "1    2\n",
       "2    4\n",
       "3    3\n",
       "Name: Class, dtype: int32"
      ]
     },
     "execution_count": 18,
     "metadata": {},
     "output_type": "execute_result"
    }
   ],
   "source": [
    "# Log Regression does not work well with a feature that goes up and then down with respect to the target\n",
    "# see outlook goes from 2 to 4 then 3\n",
    "Xy = pd.concat([X, y], axis='columns')\n",
    "Xy.groupby('Outlook')['Class'].sum()"
   ]
  },
  {
   "cell_type": "code",
   "execution_count": 19,
   "metadata": {
    "colab": {},
    "colab_type": "code",
    "id": "YoM760bA2jfS"
   },
   "outputs": [
    {
     "data": {
      "text/plain": [
       "Temperature\n",
       "1    2\n",
       "2    4\n",
       "3    3\n",
       "Name: Class, dtype: int32"
      ]
     },
     "execution_count": 19,
     "metadata": {},
     "output_type": "execute_result"
    }
   ],
   "source": [
    "# same here as above\n",
    "Xy.groupby('Temperature')['Class'].sum()"
   ]
  },
  {
   "cell_type": "code",
   "execution_count": 20,
   "metadata": {
    "colab": {},
    "colab_type": "code",
    "id": "L-LuZt1q2oHU"
   },
   "outputs": [
    {
     "data": {
      "text/plain": [
       "Humidity\n",
       "1    3\n",
       "2    6\n",
       "Name: Class, dtype: int32"
      ]
     },
     "execution_count": 20,
     "metadata": {},
     "output_type": "execute_result"
    }
   ],
   "source": [
    "Xy.groupby('Humidity')['Class'].sum()"
   ]
  },
  {
   "cell_type": "code",
   "execution_count": 21,
   "metadata": {
    "colab": {},
    "colab_type": "code",
    "id": "Tmlt8FOc2suk"
   },
   "outputs": [
    {
     "data": {
      "text/plain": [
       "Windy\n",
       "1    6\n",
       "2    3\n",
       "Name: Class, dtype: int32"
      ]
     },
     "execution_count": 21,
     "metadata": {},
     "output_type": "execute_result"
    }
   ],
   "source": [
    "Xy.groupby('Windy')['Class'].sum()"
   ]
  },
  {
   "cell_type": "markdown",
   "metadata": {
    "colab_type": "text",
    "id": "pg-8a9zJBNC4"
   },
   "source": [
    "The \"Humidity\" and \"Windy\" features have monotnic relationships with the target. The other two features do not. This is shown in the model's coefficients.\n",
    "\n",
    "We know that the \"Outlook\" feature is important in this dataset, but Logistic Regression cannot model it with an arbitrary \"ordinal\" encoding."
   ]
  },
  {
   "cell_type": "code",
   "execution_count": 22,
   "metadata": {
    "colab": {},
    "colab_type": "code",
    "id": "bFKdxth92w8_"
   },
   "outputs": [
    {
     "data": {
      "image/png": "[encoded data removed]",
      "text/plain": [
       "<Figure size 432x288 with 1 Axes>"
      ]
     },
     "metadata": {
      "needs_background": "light"
     },
     "output_type": "display_data"
    }
   ],
   "source": [
    "pd.Series(lr.coef_[0], X.columns).sort_values().plot.barh(color='grey');"
   ]
  },
  {
   "cell_type": "markdown",
   "metadata": {
    "colab_type": "text",
    "id": "6xcjCw5LDeYk"
   },
   "source": [
    "See the links at the top of this notebook to learn more about categorical encoding for trees."
   ]
  },
  {
   "cell_type": "markdown",
   "metadata": {
    "colab_type": "text",
    "id": "opIsHEofDobK"
   },
   "source": [
    "## Shallow trees are good for fast, first baselines, and to look for \"leakage\""
   ]
  },
  {
   "cell_type": "markdown",
   "metadata": {
    "colab_type": "text",
    "id": "EmhDEvqsC2Ln"
   },
   "source": [
    "[Xavier Amatriain recommends,](https://www.quora.com/What-are-some-best-practices-for-training-machine-learning-models/answer/Xavier-Amatriain)\n",
    "\n",
    "\"Make sure your training features do not contain data from the “future” (aka time traveling). While this might be easy and obvious in some cases, it can get tricky. ... If your test metric becomes really good all of the sudden, ask yourself what you might be doing wrong. Chances are you are time travelling or overfitting in some way.\""
   ]
  },
  {
   "cell_type": "markdown",
   "metadata": {
    "colab_type": "text",
    "id": "7SFZ8N07EAeZ"
   },
   "source": [
    "We can test this with the [UCI repository's Bank Marketing dataset](https://archive.ics.uci.edu/ml/datasets/Bank+Marketing). It has a feature which leaks information from the future and should be dropped:\n",
    "\n",
    "\"11 - duration: last contact duration, in seconds (numeric). Important note: this attribute highly affects the output target (e.g., if duration=0 then y='no'). Yet, the duration is not known before a call is performed. Also, after the end of the call y is obviously known. Thus, this input ... should be discarded if the intention is to have a realistic predictive model.\"\n",
    "\n",
    "So let's download the data ..."
   ]
  },
  {
   "cell_type": "code",
   "execution_count": 0,
   "metadata": {
    "colab": {},
    "colab_type": "code",
    "id": "VOI04zrQ4o27"
   },
   "outputs": [],
   "source": [
    "#!wget https://archive.ics.uci.edu/ml/machine-learning-databases/00222/bank-additional.zip\n",
    "#!unzip bank-additional.zip\n",
    "#%cd bank-additional"
   ]
  },
  {
   "cell_type": "markdown",
   "metadata": {
    "colab_type": "text",
    "id": "UcRFbDQlEtkH"
   },
   "source": [
    "... and train a shallow tree baseline, without dropping the `duration` feature."
   ]
  },
  {
   "cell_type": "code",
   "execution_count": 23,
   "metadata": {
    "colab": {},
    "colab_type": "code",
    "id": "_aUpZCdK3sDK"
   },
   "outputs": [
    {
     "data": {
      "text/plain": [
       "array([0.85309963, 0.86704028, 0.85589586, 0.85229795, 0.86402673])"
      ]
     },
     "execution_count": 23,
     "metadata": {},
     "output_type": "execute_result"
    }
   ],
   "source": [
    "import category_encoders as ce\n",
    "import pandas as pd\n",
    "from sklearn.model_selection import cross_val_score\n",
    "from sklearn.model_selection import train_test_split\n",
    "from sklearn.pipeline import make_pipeline\n",
    "from sklearn.tree import DecisionTreeClassifier\n",
    "\n",
    "df = pd.read_csv('bank-additional-full.csv', sep=';')\n",
    "X = df.drop(columns='y')\n",
    "y = df['y'] == 'yes'\n",
    "\n",
    "X_train, X_test, y_train, y_test = train_test_split(\n",
    "    X, y, test_size=0.2, random_state=42, stratify=y)\n",
    "\n",
    "pipe = make_pipeline(\n",
    "    ce.OneHotEncoder(use_cat_names=True), \n",
    "    DecisionTreeClassifier(max_depth=2)\n",
    ")\n",
    "\n",
    "cross_val_score(pipe, X_train, y_train, cv=5, scoring='roc_auc', n_jobs=-1)"
   ]
  },
  {
   "cell_type": "markdown",
   "metadata": {
    "colab_type": "text",
    "id": "Rx1QAeKcE0KK"
   },
   "source": [
    "This baseline has a ROC AUC score above 0.85, and it uses the `duration` feature, as well as `nr.employed`, a \"social and economic context attribute\" for \"number of employees - quarterly indicator.\""
   ]
  },
  {
   "cell_type": "code",
   "execution_count": 24,
   "metadata": {
    "colab": {},
    "colab_type": "code",
    "id": "O0k5m1t-4FC_"
   },
   "outputs": [
    {
     "data": {
      "text/plain": [
       "Index(['duration', 'nr.employed'], dtype='object')"
      ]
     },
     "execution_count": 24,
     "metadata": {},
     "output_type": "execute_result"
    }
   ],
   "source": [
    "pipe.fit(X_train, y_train)\n",
    "tree = pipe.named_steps['decisiontreeclassifier']\n",
    "encoder = pipe.named_steps['onehotencoder']\n",
    "feature_names = encoder.transform(X_train).columns\n",
    "feature_names[tree.feature_importances_ > 0]"
   ]
  },
  {
   "cell_type": "markdown",
   "metadata": {
    "colab_type": "text",
    "id": "f8mftWTIFQFK"
   },
   "source": [
    "We can visualize the tree:"
   ]
  },
  {
   "cell_type": "code",
   "execution_count": null,
   "metadata": {
    "colab": {},
    "colab_type": "code",
    "id": "eiTVyfZ54Ue7"
   },
   "outputs": [],
   "source": [
    "from dtreeviz.trees import dtreeviz\n",
    "\n",
    "class_names = ['No', 'Yes']\n",
    "dtreeviz(tree, encoder.transform(X_train), y_train, \n",
    "         target_name='Subscribed',\n",
    "         feature_names=list(feature_names), \n",
    "         class_names=class_names)"
   ]
  },
  {
   "cell_type": "code",
   "execution_count": 0,
   "metadata": {
    "colab": {},
    "colab_type": "code",
    "id": "ipE3XsY74M41"
   },
   "outputs": [],
   "source": [
    "import graphviz\n",
    "from sklearn.tree import export_graphviz\n",
    "\n",
    "dot_data = export_graphviz(tree, out_file=None, \n",
    "                           feature_names=feature_names, class_names=class_names, \n",
    "                           filled=True, impurity=False, proportion=True)\n",
    "\n",
    "graphviz.Source(dot_data)"
   ]
  },
  {
   "cell_type": "markdown",
   "metadata": {
    "colab_type": "text",
    "id": "QcSQKvuLGzFj"
   },
   "source": [
    "### When the `duration` feature is dropped, \n",
    "then the ROC AUC score drops from ~0.85 to ~0.75"
   ]
  },
  {
   "cell_type": "code",
   "execution_count": 0,
   "metadata": {
    "colab": {},
    "colab_type": "code",
    "id": "_pNEgSeE6E3t"
   },
   "outputs": [],
   "source": [
    "X_train = X_train.drop(columns='duration')\n",
    "cross_val_score(pipe, X_train, y_train, cv=5, scoring='roc_auc')"
   ]
  },
  {
   "cell_type": "markdown",
   "metadata": {
    "colab_type": "text",
    "id": "96nxtRRHHOYe"
   },
   "source": [
    "### ROC AUC\n",
    "\n",
    "[Wikipedia explains,](https://en.wikipedia.org/wiki/Receiver_operating_characteristic) \"A receiver operating characteristic curve, or ROC curve, is a graphical plot that illustrates the diagnostic ability of a binary classifier system as its discrimination threshold is varied. The ROC curve is created by plotting the true positive rate (TPR) against the false positive rate (FPR) at various threshold settings.\"\n",
    "\n",
    "ROC AUC is the area under the ROC curve. [It can be interpreted](https://stats.stackexchange.com/questions/132777/what-does-auc-stand-for-and-what-is-it) as \"the expectation that a uniformly drawn random positive is ranked before a uniformly drawn random negative.\" \n",
    "\n",
    "ROC AUC measures how well a classifier ranks predicted probabilities. It ranges from 0 to 1. A naive majority class baseline will have an ROC AUC score of 0.5. "
   ]
  },
  {
   "cell_type": "code",
   "execution_count": 0,
   "metadata": {
    "colab": {},
    "colab_type": "code",
    "id": "I6UAMxPjFkq3"
   },
   "outputs": [],
   "source": [
    "import matplotlib.pyplot as plt\n",
    "from sklearn.metrics import roc_auc_score, roc_curve\n",
    "from sklearn.model_selection import cross_val_predict\n",
    "\n",
    "y_pred_proba = cross_val_predict(pipe, X_train, y_train, cv=5, n_jobs=-1, \n",
    "                                 method='predict_proba')[:, 1]\n",
    "\n",
    "fpr, tpr, thresholds = roc_curve(y_train, y_pred_proba)\n",
    "plt.plot(fpr, tpr)\n",
    "plt.title('ROC curve')\n",
    "plt.xlabel('False Positive Rate')\n",
    "plt.ylabel('True Positive Rate')\n",
    "print('Area under the Receiver Operating Characteristic curve:', \n",
    "      roc_auc_score(y_train, y_pred_proba))"
   ]
  },
  {
   "cell_type": "code",
   "execution_count": 0,
   "metadata": {
    "colab": {},
    "colab_type": "code",
    "id": "HXFjtW39GJHZ"
   },
   "outputs": [],
   "source": [
    "pd.DataFrame({'False Positive Rate': fpr, \n",
    "              'True Positive Rate': tpr, \n",
    "              'Threshold': thresholds})"
   ]
  }
 ],
 "metadata": {
  "colab": {
   "collapsed_sections": [],
   "name": "LS_DS_411A_Decision_Trees.ipynb",
   "provenance": [],
   "version": "0.3.2"
  },
  "kernelspec": {
   "display_name": "Python 3",
   "language": "python",
   "name": "python3"
  },
  "language_info": {
   "codemirror_mode": {
    "name": "ipython",
    "version": 3
   },
   "file_extension": ".py",
   "mimetype": "text/x-python",
   "name": "python",
   "nbconvert_exporter": "python",
   "pygments_lexer": "ipython3",
   "version": "3.6.8"
  }
 },
 "nbformat": 4,
 "nbformat_minor": 1
}

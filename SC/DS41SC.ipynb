{
 "cells": [
  {
   "cell_type": "markdown",
   "metadata": {},
   "source": []
  },
  {
   "cell_type": "markdown",
   "metadata": {},
   "source": [
    "# Data Science Unit 4 Sprint Challenge 1 — Tree Ensembles"
   ]
  },
  {
   "cell_type": "markdown",
   "metadata": {},
   "source": [
    "### Chicago Food Inspections\n",
    "\n",
    "For this Sprint Challenge, you'll use a dataset with information from inspections of restaurants and other food establishments in Chicago from January 1, 2010 to the present. \n",
    "\n",
    "[See this PDF](https://data.cityofchicago.org/api/assets/BAD5301B-681A-4202-9D25-51B2CAE672FF) for descriptions of the data elements included in this dataset.\n",
    "\n",
    "According to [Chicago Department of Public Health — Food Protection Services](https://www.chicago.gov/city/en/depts/cdph/provdrs/healthy_restaurants/svcs/food-protection-services.html), \"Chicago is home to 16,000 food establishments like restaurants, grocery stores, bakeries, wholesalers, lunchrooms, mobile food vendors and more. Our business is food safety and sanitation with one goal, to prevent the spread of food-borne disease. We do this by inspecting food businesses, responding to complaints and food recalls.\" "
   ]
  },
  {
   "cell_type": "markdown",
   "metadata": {},
   "source": [
    "#### Your challenge: Predict whether inspections failed\n",
    "\n",
    "The target is the `Fail` column.\n",
    "\n",
    "- When the food establishment failed the inspection, the target is `1`.\n",
    "- When the establishment passed, the target is `0`."
   ]
  },
  {
   "cell_type": "markdown",
   "metadata": {},
   "source": [
    "#### Run this cell to load the data:"
   ]
  },
  {
   "cell_type": "code",
   "execution_count": 58,
   "metadata": {},
   "outputs": [],
   "source": [
    "import pandas as pd\n",
    "import numpy as np\n",
    "import category_encoders as ce\n",
    "import xgboost as xgb\n",
    "import matplotlib.pyplot as plt\n",
    "from sklearn.metrics import roc_auc_score\n",
    "from collections import defaultdict\n",
    "plt.style.use('dark_background')\n",
    "\n",
    "train_url = 'https://drive.google.com/uc?export=download&id=13_tP9JpLcZHSPVpWcua4t2rY44K_s4H5'\n",
    "test_url  = 'https://drive.google.com/uc?export=download&id=1GkDHjsiGrzOXoF_xcYjdzBTSjOIi3g5a'\n",
    "\n",
    "train = pd.read_csv(train_url).sample(2**13)\n",
    "test  = pd.read_csv(test_url).sample(2**12)\n",
    "\n",
    "X_train_0 = train.drop(['Fail'], axis=1)\n",
    "X_test_0 = test.drop(['Fail'], axis=1)\n",
    "y_train = train.Fail\n",
    "y_test = test.Fail\n",
    "\n",
    "#assert train.shape == (51916, 17)\n",
    "#assert test.shape  == (17306, 17)"
   ]
  },
  {
   "cell_type": "markdown",
   "metadata": {},
   "source": [
    "### Part 1: Preprocessing\n",
    "\n",
    "You may choose which features you want to use, and whether/how you will preprocess them. You may use any tools and techniques for categorical encoding. (Pandas, category_encoders, sklearn.preprocessing, or any other library.)\n",
    "\n",
    "_To earn a score of 3 for this part, engineer new features, and use any alternative categorical encoding instead of One-Hot or Ordinal/Label encoding._\n",
    "\n",
    "### Part 2: Modeling\n",
    "\n",
    "Fit a Random Forest or Gradient Boosting model with the train set. (You may use scikit-learn, xgboost, or any other library.) Use cross-validation to estimate an ROC AUC validation score.\n",
    "\n",
    "Use your model to predict probabilities for the test set. Get an ROC AUC test score >= 0.60.\n",
    "\n",
    "_To earn a score of 3 for this part, get an ROC AUC test score >= 0.70._\n",
    "\n",
    "\n",
    "### Part 3: Visualization\n",
    "\n",
    "Make one visualization for model interpretation. (You may use any libraries.) Choose one of these types:\n",
    "- Feature Importances\n",
    "- Permutation Importances\n",
    "- Partial Dependence Plot\n",
    "\n",
    "_To earn a score of 3 for this part, make at least two of these visualization types._"
   ]
  },
  {
   "cell_type": "code",
   "execution_count": 59,
   "metadata": {},
   "outputs": [
    {
     "data": {
      "text/html": [
       "<div>\n",
       "<style scoped>\n",
       "    .dataframe tbody tr th:only-of-type {\n",
       "        vertical-align: middle;\n",
       "    }\n",
       "\n",
       "    .dataframe tbody tr th {\n",
       "        vertical-align: top;\n",
       "    }\n",
       "\n",
       "    .dataframe thead th {\n",
       "        text-align: right;\n",
       "    }\n",
       "</style>\n",
       "<table border=\"1\" class=\"dataframe\">\n",
       "  <thead>\n",
       "    <tr style=\"text-align: right;\">\n",
       "      <th></th>\n",
       "      <th>Inspection ID</th>\n",
       "      <th>DBA Name</th>\n",
       "      <th>AKA Name</th>\n",
       "      <th>License #</th>\n",
       "      <th>Facility Type</th>\n",
       "      <th>Risk</th>\n",
       "      <th>Address</th>\n",
       "      <th>City</th>\n",
       "      <th>State</th>\n",
       "      <th>Zip</th>\n",
       "      <th>Inspection Date</th>\n",
       "      <th>Inspection Type</th>\n",
       "      <th>Violations</th>\n",
       "      <th>Latitude</th>\n",
       "      <th>Longitude</th>\n",
       "      <th>Location</th>\n",
       "      <th>Fail</th>\n",
       "    </tr>\n",
       "  </thead>\n",
       "  <tbody>\n",
       "    <tr>\n",
       "      <th>5437</th>\n",
       "      <td>1490838</td>\n",
       "      <td>MARAVILLAS RESTAURANT</td>\n",
       "      <td>MARAVILLAS RESTAURANT</td>\n",
       "      <td>1948652.0</td>\n",
       "      <td>Restaurant</td>\n",
       "      <td>Risk 1 (High)</td>\n",
       "      <td>5506 S LAKE PARK AVE</td>\n",
       "      <td>CHICAGO</td>\n",
       "      <td>IL</td>\n",
       "      <td>60637.0</td>\n",
       "      <td>2014-07-22T00:00:00</td>\n",
       "      <td>Complaint</td>\n",
       "      <td>34. FLOORS: CONSTRUCTED PER CODE, CLEANED, GOO...</td>\n",
       "      <td>41.794934</td>\n",
       "      <td>-87.587736</td>\n",
       "      <td>{'longitude': '-87.58773625841167', 'latitude'...</td>\n",
       "      <td>0</td>\n",
       "    </tr>\n",
       "    <tr>\n",
       "      <th>32634</th>\n",
       "      <td>1970817</td>\n",
       "      <td>CULLINAN'S STADIUM CLUB</td>\n",
       "      <td>CULLINAN'S STADIUM CLUB</td>\n",
       "      <td>34135.0</td>\n",
       "      <td>Restaurant</td>\n",
       "      <td>Risk 2 (Medium)</td>\n",
       "      <td>11610 S WESTERN AVE</td>\n",
       "      <td>CHICAGO</td>\n",
       "      <td>IL</td>\n",
       "      <td>60643.0</td>\n",
       "      <td>2016-11-03T00:00:00</td>\n",
       "      <td>Canvass</td>\n",
       "      <td>2. FACILITIES TO MAINTAIN PROPER TEMPERATURE -...</td>\n",
       "      <td>41.682344</td>\n",
       "      <td>-87.681008</td>\n",
       "      <td>{'longitude': '-87.68100795347009', 'latitude'...</td>\n",
       "      <td>1</td>\n",
       "    </tr>\n",
       "    <tr>\n",
       "      <th>30130</th>\n",
       "      <td>1361210</td>\n",
       "      <td>West Town Deli</td>\n",
       "      <td>Rosie's West Town Deli</td>\n",
       "      <td>2269688.0</td>\n",
       "      <td>Restaurant</td>\n",
       "      <td>Risk 1 (High)</td>\n",
       "      <td>1021 N Western AVE</td>\n",
       "      <td>CHICAGO</td>\n",
       "      <td>IL</td>\n",
       "      <td>60622.0</td>\n",
       "      <td>2013-07-10T00:00:00</td>\n",
       "      <td>License Re-Inspection</td>\n",
       "      <td>11. ADEQUATE NUMBER, CONVENIENT, ACCESSIBLE, D...</td>\n",
       "      <td>41.900112</td>\n",
       "      <td>-87.686810</td>\n",
       "      <td>{'longitude': '-87.68680973097231', 'latitude'...</td>\n",
       "      <td>1</td>\n",
       "    </tr>\n",
       "    <tr>\n",
       "      <th>38267</th>\n",
       "      <td>1537925</td>\n",
       "      <td>SNAP KITCHEN</td>\n",
       "      <td>SNAP KITCHEN</td>\n",
       "      <td>2386172.0</td>\n",
       "      <td>Restaurant</td>\n",
       "      <td>Risk 3 (Low)</td>\n",
       "      <td>621 W DIVERSEY PKWY</td>\n",
       "      <td>CHICAGO</td>\n",
       "      <td>IL</td>\n",
       "      <td>60614.0</td>\n",
       "      <td>2015-05-12T00:00:00</td>\n",
       "      <td>License</td>\n",
       "      <td>NaN</td>\n",
       "      <td>41.932699</td>\n",
       "      <td>-87.644491</td>\n",
       "      <td>{'longitude': '-87.64449072110678', 'latitude'...</td>\n",
       "      <td>0</td>\n",
       "    </tr>\n",
       "    <tr>\n",
       "      <th>12151</th>\n",
       "      <td>1170447</td>\n",
       "      <td>HOME OF LIFE COMM. DEV. DAYCAR</td>\n",
       "      <td>HOME OF LIFE COMM. DEV. DAYCAR</td>\n",
       "      <td>54257.0</td>\n",
       "      <td>Daycare (2 - 6 Years)</td>\n",
       "      <td>Risk 1 (High)</td>\n",
       "      <td>4647 W WASHINGTON BLVD</td>\n",
       "      <td>CHICAGO</td>\n",
       "      <td>IL</td>\n",
       "      <td>60644.0</td>\n",
       "      <td>2012-08-30T00:00:00</td>\n",
       "      <td>Canvass Re-Inspection</td>\n",
       "      <td>34. FLOORS: CONSTRUCTED PER CODE, CLEANED, GOO...</td>\n",
       "      <td>41.881745</td>\n",
       "      <td>-87.742033</td>\n",
       "      <td>{'longitude': '-87.74203272034268', 'latitude'...</td>\n",
       "      <td>0</td>\n",
       "    </tr>\n",
       "  </tbody>\n",
       "</table>\n",
       "</div>"
      ],
      "text/plain": [
       "       Inspection ID                        DBA Name  \\\n",
       "5437         1490838           MARAVILLAS RESTAURANT   \n",
       "32634        1970817         CULLINAN'S STADIUM CLUB   \n",
       "30130        1361210                  West Town Deli   \n",
       "38267        1537925                    SNAP KITCHEN   \n",
       "12151        1170447  HOME OF LIFE COMM. DEV. DAYCAR   \n",
       "\n",
       "                             AKA Name  License #          Facility Type  \\\n",
       "5437            MARAVILLAS RESTAURANT  1948652.0             Restaurant   \n",
       "32634         CULLINAN'S STADIUM CLUB    34135.0             Restaurant   \n",
       "30130          Rosie's West Town Deli  2269688.0             Restaurant   \n",
       "38267                    SNAP KITCHEN  2386172.0             Restaurant   \n",
       "12151  HOME OF LIFE COMM. DEV. DAYCAR    54257.0  Daycare (2 - 6 Years)   \n",
       "\n",
       "                  Risk                  Address     City State      Zip  \\\n",
       "5437     Risk 1 (High)    5506 S LAKE PARK AVE   CHICAGO    IL  60637.0   \n",
       "32634  Risk 2 (Medium)     11610 S WESTERN AVE   CHICAGO    IL  60643.0   \n",
       "30130    Risk 1 (High)      1021 N Western AVE   CHICAGO    IL  60622.0   \n",
       "38267     Risk 3 (Low)     621 W DIVERSEY PKWY   CHICAGO    IL  60614.0   \n",
       "12151    Risk 1 (High)  4647 W WASHINGTON BLVD   CHICAGO    IL  60644.0   \n",
       "\n",
       "           Inspection Date        Inspection Type  \\\n",
       "5437   2014-07-22T00:00:00              Complaint   \n",
       "32634  2016-11-03T00:00:00                Canvass   \n",
       "30130  2013-07-10T00:00:00  License Re-Inspection   \n",
       "38267  2015-05-12T00:00:00                License   \n",
       "12151  2012-08-30T00:00:00  Canvass Re-Inspection   \n",
       "\n",
       "                                              Violations   Latitude  \\\n",
       "5437   34. FLOORS: CONSTRUCTED PER CODE, CLEANED, GOO...  41.794934   \n",
       "32634  2. FACILITIES TO MAINTAIN PROPER TEMPERATURE -...  41.682344   \n",
       "30130  11. ADEQUATE NUMBER, CONVENIENT, ACCESSIBLE, D...  41.900112   \n",
       "38267                                                NaN  41.932699   \n",
       "12151  34. FLOORS: CONSTRUCTED PER CODE, CLEANED, GOO...  41.881745   \n",
       "\n",
       "       Longitude                                           Location  Fail  \n",
       "5437  -87.587736  {'longitude': '-87.58773625841167', 'latitude'...     0  \n",
       "32634 -87.681008  {'longitude': '-87.68100795347009', 'latitude'...     1  \n",
       "30130 -87.686810  {'longitude': '-87.68680973097231', 'latitude'...     1  \n",
       "38267 -87.644491  {'longitude': '-87.64449072110678', 'latitude'...     0  \n",
       "12151 -87.742033  {'longitude': '-87.74203272034268', 'latitude'...     0  "
      ]
     },
     "execution_count": 59,
     "metadata": {},
     "output_type": "execute_result"
    }
   ],
   "source": [
    "train.head()"
   ]
  },
  {
   "cell_type": "code",
   "execution_count": 60,
   "metadata": {},
   "outputs": [
    {
     "data": {
      "text/plain": [
       "Inspection ID        int64\n",
       "DBA Name            object\n",
       "AKA Name            object\n",
       "License #          float64\n",
       "Facility Type       object\n",
       "Risk                object\n",
       "Address             object\n",
       "City                object\n",
       "State               object\n",
       "Zip                float64\n",
       "Inspection Date     object\n",
       "Inspection Type     object\n",
       "Violations          object\n",
       "Latitude           float64\n",
       "Longitude          float64\n",
       "Location            object\n",
       "Fail                 int64\n",
       "dtype: object"
      ]
     },
     "execution_count": 60,
     "metadata": {},
     "output_type": "execute_result"
    }
   ],
   "source": [
    "train.dtypes"
   ]
  },
  {
   "cell_type": "code",
   "execution_count": 61,
   "metadata": {},
   "outputs": [
    {
     "data": {
      "text/html": [
       "<div>\n",
       "<style scoped>\n",
       "    .dataframe tbody tr th:only-of-type {\n",
       "        vertical-align: middle;\n",
       "    }\n",
       "\n",
       "    .dataframe tbody tr th {\n",
       "        vertical-align: top;\n",
       "    }\n",
       "\n",
       "    .dataframe thead th {\n",
       "        text-align: right;\n",
       "    }\n",
       "</style>\n",
       "<table border=\"1\" class=\"dataframe\">\n",
       "  <thead>\n",
       "    <tr style=\"text-align: right;\">\n",
       "      <th></th>\n",
       "      <th>Inspection ID</th>\n",
       "      <th>License #</th>\n",
       "      <th>Zip</th>\n",
       "      <th>Latitude</th>\n",
       "      <th>Longitude</th>\n",
       "      <th>Fail</th>\n",
       "    </tr>\n",
       "  </thead>\n",
       "  <tbody>\n",
       "    <tr>\n",
       "      <th>count</th>\n",
       "      <td>8.192000e+03</td>\n",
       "      <td>8.192000e+03</td>\n",
       "      <td>8184.000000</td>\n",
       "      <td>8159.000000</td>\n",
       "      <td>8159.000000</td>\n",
       "      <td>8192.000000</td>\n",
       "    </tr>\n",
       "    <tr>\n",
       "      <th>mean</th>\n",
       "      <td>1.322768e+06</td>\n",
       "      <td>1.533577e+06</td>\n",
       "      <td>60629.224829</td>\n",
       "      <td>41.878899</td>\n",
       "      <td>-87.677516</td>\n",
       "      <td>0.255981</td>\n",
       "    </tr>\n",
       "    <tr>\n",
       "      <th>std</th>\n",
       "      <td>6.234862e+05</td>\n",
       "      <td>9.041898e+05</td>\n",
       "      <td>21.088538</td>\n",
       "      <td>0.081391</td>\n",
       "      <td>0.060780</td>\n",
       "      <td>0.436438</td>\n",
       "    </tr>\n",
       "    <tr>\n",
       "      <th>min</th>\n",
       "      <td>4.821300e+04</td>\n",
       "      <td>0.000000e+00</td>\n",
       "      <td>60153.000000</td>\n",
       "      <td>41.646371</td>\n",
       "      <td>-87.914428</td>\n",
       "      <td>0.000000</td>\n",
       "    </tr>\n",
       "    <tr>\n",
       "      <th>25%</th>\n",
       "      <td>6.706635e+05</td>\n",
       "      <td>1.118822e+06</td>\n",
       "      <td>60614.000000</td>\n",
       "      <td>41.823420</td>\n",
       "      <td>-87.708643</td>\n",
       "      <td>0.000000</td>\n",
       "    </tr>\n",
       "    <tr>\n",
       "      <th>50%</th>\n",
       "      <td>1.418399e+06</td>\n",
       "      <td>1.937266e+06</td>\n",
       "      <td>60625.000000</td>\n",
       "      <td>41.888742</td>\n",
       "      <td>-87.666166</td>\n",
       "      <td>0.000000</td>\n",
       "    </tr>\n",
       "    <tr>\n",
       "      <th>75%</th>\n",
       "      <td>1.938056e+06</td>\n",
       "      <td>2.207025e+06</td>\n",
       "      <td>60643.000000</td>\n",
       "      <td>41.938980</td>\n",
       "      <td>-87.634423</td>\n",
       "      <td>1.000000</td>\n",
       "    </tr>\n",
       "    <tr>\n",
       "      <th>max</th>\n",
       "      <td>2.279526e+06</td>\n",
       "      <td>3.760532e+06</td>\n",
       "      <td>60827.000000</td>\n",
       "      <td>42.021064</td>\n",
       "      <td>-87.525872</td>\n",
       "      <td>1.000000</td>\n",
       "    </tr>\n",
       "  </tbody>\n",
       "</table>\n",
       "</div>"
      ],
      "text/plain": [
       "       Inspection ID     License #           Zip     Latitude    Longitude  \\\n",
       "count   8.192000e+03  8.192000e+03   8184.000000  8159.000000  8159.000000   \n",
       "mean    1.322768e+06  1.533577e+06  60629.224829    41.878899   -87.677516   \n",
       "std     6.234862e+05  9.041898e+05     21.088538     0.081391     0.060780   \n",
       "min     4.821300e+04  0.000000e+00  60153.000000    41.646371   -87.914428   \n",
       "25%     6.706635e+05  1.118822e+06  60614.000000    41.823420   -87.708643   \n",
       "50%     1.418399e+06  1.937266e+06  60625.000000    41.888742   -87.666166   \n",
       "75%     1.938056e+06  2.207025e+06  60643.000000    41.938980   -87.634423   \n",
       "max     2.279526e+06  3.760532e+06  60827.000000    42.021064   -87.525872   \n",
       "\n",
       "              Fail  \n",
       "count  8192.000000  \n",
       "mean      0.255981  \n",
       "std       0.436438  \n",
       "min       0.000000  \n",
       "25%       0.000000  \n",
       "50%       0.000000  \n",
       "75%       1.000000  \n",
       "max       1.000000  "
      ]
     },
     "execution_count": 61,
     "metadata": {},
     "output_type": "execute_result"
    }
   ],
   "source": [
    "train.describe()"
   ]
  },
  {
   "cell_type": "code",
   "execution_count": 62,
   "metadata": {},
   "outputs": [
    {
     "data": {
      "text/plain": [
       "Inspection ID         0\n",
       "DBA Name              0\n",
       "AKA Name             83\n",
       "License #             0\n",
       "Facility Type        39\n",
       "Risk                  2\n",
       "Address               0\n",
       "City                  9\n",
       "State                 0\n",
       "Zip                   8\n",
       "Inspection Date       0\n",
       "Inspection Type       0\n",
       "Violations         1519\n",
       "Latitude             33\n",
       "Longitude            33\n",
       "Location             33\n",
       "dtype: int64"
      ]
     },
     "execution_count": 62,
     "metadata": {},
     "output_type": "execute_result"
    }
   ],
   "source": [
    "X_train_0.isna().sum()"
   ]
  },
  {
   "cell_type": "code",
   "execution_count": 63,
   "metadata": {},
   "outputs": [],
   "source": [
    "todrop1 = ['Inspection ID', 'AKA Name', 'License #', 'Location']\n",
    "\n",
    "def wrangle(dat): \n",
    "    import datetime as dt\n",
    "    assigns = {\n",
    "        **{'Violations': dat.Violations.fillna('NO_VIOLATIONS'), \n",
    "          'Facility Type': dat['Facility Type'].fillna('NOT_APPLICABLE'), \n",
    "          'Inspection Date': pd.to_datetime(dat['Inspection Date'], \n",
    "                                            infer_datetime_format=True\n",
    "                                           ).apply(dt.datetime.toordinal)}, \n",
    "        **{l: dat[l].fillna(dat[l].mean()) for l in ['Latitude', 'Longitude']}\n",
    "    }\n",
    "    \n",
    "    return dat.assign(**assigns).drop(todrop1, axis=1)\n",
    "\n",
    "X_train_ = wrangle(X_train_0)\n",
    "X_test_ = wrangle(X_test_0)"
   ]
  },
  {
   "cell_type": "code",
   "execution_count": 64,
   "metadata": {},
   "outputs": [
    {
     "data": {
      "text/plain": [
       "DBA Name           0\n",
       "Facility Type      0\n",
       "Risk               2\n",
       "Address            0\n",
       "City               9\n",
       "State              0\n",
       "Zip                8\n",
       "Inspection Date    0\n",
       "Inspection Type    0\n",
       "Violations         0\n",
       "Latitude           0\n",
       "Longitude          0\n",
       "dtype: int64"
      ]
     },
     "execution_count": 64,
     "metadata": {},
     "output_type": "execute_result"
    }
   ],
   "source": [
    "X_train_.isna().sum()"
   ]
  },
  {
   "cell_type": "code",
   "execution_count": 65,
   "metadata": {},
   "outputs": [
    {
     "name": "stdout",
     "output_type": "stream",
     "text": [
      "The target is unbalanced target by a factor of 2.9065331425846446 favoring `0`. \n",
      "\n",
      "\n",
      "We have 8 categoricals and 4 numerics. \n",
      "\n",
      "\tFeature DBA Name has cardinality 5899. \n",
      "\tFeature Facility Type has cardinality 132. \n",
      "\tFeature Risk has cardinality 3. \n",
      "\tFeature Address has cardinality 5747. \n",
      "\tFeature City has cardinality 12. \n",
      "\tFeature State has cardinality 1. \n",
      "\tFeature Inspection Type has cardinality 24. \n",
      "\tFeature Violations has cardinality 6670. \n"
     ]
    }
   ],
   "source": [
    "print(f'The target is unbalanced target by a factor of {y_train.value_counts()[0] / y_train.value_counts()[1]} favoring `0`. \\n\\n')\n",
    "\n",
    "cats = X_train_.select_dtypes(include='object').columns\n",
    "nums = X_train_.select_dtypes(exclude='object').columns\n",
    "\n",
    "print(f\"We have {len(cats)} categoricals and {len(nums)} numerics. \\n\")\n",
    "\n",
    "cards = {n: X_train_[n].value_counts().shape[0] for n in cats}\n",
    "\n",
    "def report_cards(c): \n",
    "    l = [f\"\\tFeature {k} has cardinality {v}. \" for k,v in c.items()]\n",
    "    return '\\n'.join(l)\n",
    "\n",
    "print(report_cards(cards))"
   ]
  },
  {
   "cell_type": "code",
   "execution_count": 66,
   "metadata": {},
   "outputs": [
    {
     "data": {
      "text/plain": [
       "(['Facility Type', 'Risk', 'City', 'State', 'Inspection Type'],\n",
       " ['DBA Name', 'Address', 'Violations'])"
      ]
     },
     "execution_count": 66,
     "metadata": {},
     "output_type": "execute_result"
    }
   ],
   "source": [
    "## We're going to encode \"high\" and \"low\" cardinality featuers differently, depending on some meaning of \"high\"/\"low\"\n",
    "\n",
    "thresh=2**12\n",
    "low = [k for k in cards.keys() if cards[k]<=thresh]\n",
    "high = [k for k in cards.keys() if cards[k]>thresh]\n",
    "\n",
    "assert len(low) + len(high) == len(cards.keys())\n",
    "\n",
    "# send lows to binary encoder and send highs to target encoder. \n",
    "low, high"
   ]
  },
  {
   "cell_type": "code",
   "execution_count": 67,
   "metadata": {},
   "outputs": [],
   "source": [
    "def encode(train_dat, test_dat, low=low, high=high, targ=y_train, n=4): \n",
    "    '''\n",
    "    base2 encode low cardinality, target encode high cardinailty\n",
    "    \n",
    "    Having given up on Target encoding because of `IndexingError: \n",
    "        Unalignable boolean Series provided as indexer`, \n",
    "    we shall basen encode even the high cardinality ones.   \n",
    "    \n",
    "    \n",
    "    DO NOT RUN THIS. It crashes the computer. \n",
    "        #plt.plot(x=list(range(1,10)), y=[encode(X_train[cats], n=k) for k in range(1,10)])\n",
    "    '''\n",
    "    assert [x=='object' for x in train_dat.dtypes]\n",
    "    assert [x=='object' for x in test_dat.dtypes]\n",
    "    assert all([x==y for x,y in zip(X_train_[high].index, y_train.index)])\n",
    "    \n",
    "    bl = ce.basen.BaseNEncoder(base=n, return_df=True)\n",
    "    #th = ce.TargetEncoder()\n",
    "    \n",
    "    bl.fit(train_dat[low+high])\n",
    "    #bl_df = bl.fit_transform(train_dat[low+high])\n",
    "    #th_df = th.fit_transform(dat[high], targ, return_df=True)\n",
    "    \n",
    "    td = bl.transform(train_dat[low+high])\n",
    "    print(f\"Now is {td.shape[1]} really too many columns?\")\n",
    "    return {'train': td, 'test': bl.transform(test_dat[low+high])}\n"
   ]
  },
  {
   "cell_type": "code",
   "execution_count": 68,
   "metadata": {},
   "outputs": [],
   "source": [
    "# cats_dfs = encode(X_train_[cats], X_test_[cats])\n",
    "# X_train = pd.concat([X_train_[nums], cats_dfs['train']], axis=1, sort=False)\n",
    "# X_test = pd.concat([X_test_[nums], cats_dfs['test']], axis=1, sort=False)\n",
    "\n",
    "# X_train.head()"
   ]
  },
  {
   "cell_type": "code",
   "execution_count": 69,
   "metadata": {},
   "outputs": [],
   "source": [
    "# dtrain = xgb.DMatrix(X_train.values, y_train.values)\n",
    "# dtest = xgb.DMatrix(X_test.values) \n",
    "\n",
    "# # specify parameters via map\n",
    "# param = {'booster': 'dart',\n",
    "#          'max_depth': 5, 'learning_rate': 0.1,\n",
    "#          'objective': 'binary:logistic', \n",
    "#          'silent': True,\n",
    "#          'sample_type': 'uniform',\n",
    "#          'normalize_type': 'tree',\n",
    "#          'rate_drop': 0.1,\n",
    "#          'skip_drop': 0.5}\n",
    "\n",
    "# num_round = 50\n",
    "# bst = xgb.train(param, dtrain, num_round)\n",
    "# # make prediction\n",
    "# # ntree_limit must not be 0\n",
    "# preds = bst.predict(dtest, ntree_limit=num_round)\n",
    "\n",
    "# preds_df = pd.DataFrame({'id': X_test.index, 'failure': preds})\n",
    "# #preds_df.head()\n",
    "\n",
    "# roc_auc_score(y_test, preds_df['failure'])"
   ]
  },
  {
   "cell_type": "code",
   "execution_count": 70,
   "metadata": {},
   "outputs": [
    {
     "name": "stdout",
     "output_type": "stream",
     "text": [
      "Now is 66 really too many columns?\n",
      "Now is 46 really too many columns?\n",
      "Now is 39 really too many columns?\n",
      "Now is 35 really too many columns?\n",
      "Now is 31 really too many columns?\n",
      "Now is 31 really too many columns?\n",
      "Now is 31 really too many columns?\n"
     ]
    },
    {
     "data": {
      "text/plain": [
       "{2: 0.6769402691816485,\n",
       " 3: 0.6701333628057767,\n",
       " 4: 0.6510890988800472,\n",
       " 5: 0.6732322674133019,\n",
       " 6: 0.6288522939385008,\n",
       " 7: 0.6514636445132135,\n",
       " 8: 0.6465352993909028}"
      ]
     },
     "execution_count": 70,
     "metadata": {},
     "output_type": "execute_result"
    }
   ],
   "source": [
    "def make_dmats(train=X_train_, test=X_test_, n=3): \n",
    "    cats_dfs = encode(train[cats], test[cats], n=n)\n",
    "    X_train = pd.concat([train[nums], cats_dfs['train']], axis=1, sort=False)\n",
    "    X_test = pd.concat([test[nums], cats_dfs['test']], axis=1, sort=False)\n",
    "    \n",
    "    dtrain = xgb.DMatrix(X_train.values, y_train.values)\n",
    "    dtest = xgb.DMatrix(X_test.values) \n",
    "\n",
    "    return dtrain, dtest\n",
    "\n",
    "def dart_score(dtrain, dtest, max_depth=5): \n",
    "    '''run a dart model and return roc_auc score '''\n",
    "    \n",
    "    # specify parameters via map\n",
    "    param = {'booster': 'dart',\n",
    "             'max_depth': max_depth, \n",
    "             'learning_rate': 0.1,\n",
    "             'objective': 'binary:logistic', \n",
    "             'silent': True,\n",
    "             'sample_type': 'uniform',\n",
    "             'normalize_type': 'tree',\n",
    "             'rate_drop': 0.1,\n",
    "             'skip_drop': 0.5}\n",
    "\n",
    "    num_round = 50\n",
    "    bst = xgb.train(param, dtrain, num_round)\n",
    "    # make prediction\n",
    "    # ntree_limit must not be 0\n",
    "    preds = bst.predict(dtest, ntree_limit=num_round)\n",
    "\n",
    "    preds_df = pd.DataFrame({'id': X_test_.index, 'failure': preds})\n",
    "\n",
    "    return roc_auc_score(y_test, preds_df['failure'])\n",
    "\n",
    "def vanilla_boost_score(dtrain, dtest, max_depth=2, eta=0.8):\n",
    "    # specify parameters via map\n",
    "    param = {'max_depth': max_depth, \n",
    "             'eta': eta, \n",
    "             'silent':1, \n",
    "             'objective':'binary:logistic' }\n",
    "    num_round = 2\n",
    "    bst = xgb.train(param, dtrain, num_round)\n",
    "    # make prediction\n",
    "    preds = bst.predict(dtest)\n",
    "    preds_df = pd.DataFrame({'id': X_test_.index, 'failure': preds})\n",
    "    return roc_auc_score(y_test, preds_df['failure'])\n",
    "\n",
    "dart_choices_n_coder_rocauc = {}\n",
    "vani_choices_n_coder_rocauc = {}\n",
    "for k in [2,3,4,5,6,7,8]:\n",
    "    dmats = make_dmats(n=k)\n",
    "    dart_choices_n_coder_rocauc[k] = dart_score(dmats[0], dmats[1])\n",
    "    #vani_choices_n_coder_rocauc[k] = vanilla_boost_score(dmats[0], dmats[1])\n",
    "\n",
    "dart_choices_n_coder_rocauc#, vani_choices_n_coder_rocauc"
   ]
  },
  {
   "cell_type": "code",
   "execution_count": 71,
   "metadata": {},
   "outputs": [],
   "source": [
    "# The dart at n=2 is the best, it appears. "
   ]
  },
  {
   "cell_type": "markdown",
   "metadata": {},
   "source": [
    "\n",
    "### Part 3: Visualization\n",
    "\n",
    "Make one visualization for model interpretation. (You may use any libraries.) Choose one of these types:\n",
    "- Feature Importances\n",
    "- Permutation Importances\n",
    "- Partial Dependence Plot\n",
    "\n",
    "_To earn a score of 3 for this part, make at least two of these visualization types._"
   ]
  },
  {
   "cell_type": "code",
   "execution_count": 72,
   "metadata": {},
   "outputs": [],
   "source": [
    "# from eli5.xgboost import explain_prediction_xgboost\n",
    "# from eli5 import show_weights\n",
    "\n",
    "# from xgboost import XGBClassifier\n",
    "# from sklearn.feature_extraction import DictVectorizer\n",
    "# from sklearn.pipeline import make_pipeline\n",
    "# from sklearn.model_selection import cross_val_score\n",
    "\n",
    "# clf = XGBClassifier()\n",
    "# vec = DictVectorizer()\n",
    "# pipeline = make_pipeline(vec, clf)\n",
    "\n",
    "# def evaluate(_clf):\n",
    "#     scores = cross_val_score(_clf, all_xs, all_ys, scoring='accuracy', cv=10)\n",
    "#     print('Accuracy: {:.3f} ± {:.3f}'.format(np.mean(scores), 2 * np.std(scores)))\n",
    "#     _clf.fit(train_xs, train_ys)  # so that parts of the original pipeline are fitted\n",
    "\n",
    "# evaluate(pipeline)\n",
    "\n",
    "\n",
    "# def dart(dtrain, dtest, max_depth=5): \n",
    "#     '''run a dart model and return bst object '''\n",
    "    \n",
    "#     # specify parameters via map\n",
    "#     param = {'booster': 'dart',\n",
    "#              'max_depth': max_depth, \n",
    "#              'learning_rate': 0.1,\n",
    "#              'objective': 'binary:logistic', \n",
    "#              'silent': True,\n",
    "#              'sample_type': 'uniform',\n",
    "#              'normalize_type': 'tree',\n",
    "#              'rate_drop': 0.1,\n",
    "#              'skip_drop': 0.5}\n",
    "\n",
    "#     num_round = 50\n",
    "#     bst = xgb.train(param, dtrain, num_round)\n",
    "# #     # make prediction\n",
    "# #     # ntree_limit must not be 0\n",
    "# #     preds = bst.predict(dtest, ntree_limit=num_round)\n",
    "\n",
    "# #     preds_df = pd.DataFrame({'id': X_test_.index, 'failure': preds})\n",
    "\n",
    "#     return bst # roc_auc_score(y_test, preds_df['failure'])\n",
    "\n"
   ]
  },
  {
   "cell_type": "code",
   "execution_count": 73,
   "metadata": {},
   "outputs": [],
   "source": [
    "# dmats = make_dmats(n=2)\n",
    "# #explain_prediction_xgboost(dart(dmats[0], dmats[1]), doc=)\n",
    "\n",
    "# pipeline=make_pipeline(vec, dart(dmats[0], dmats[1]))\n",
    "\n",
    "# evaluate(pipeline)"
   ]
  },
  {
   "cell_type": "code",
   "execution_count": 74,
   "metadata": {},
   "outputs": [],
   "source": [
    "#help(explain_prediction_xgboost)"
   ]
  },
  {
   "cell_type": "code",
   "execution_count": 75,
   "metadata": {},
   "outputs": [
    {
     "name": "stdout",
     "output_type": "stream",
     "text": [
      "Now is 66 really too many columns?\n"
     ]
    },
    {
     "data": {
      "image/png": "[encoded data removed]",
      "text/plain": [
       "<Figure size 1440x720 with 1 Axes>"
      ]
     },
     "metadata": {},
     "output_type": "display_data"
    }
   ],
   "source": [
    "try_ns = [2,7, 5]\n",
    "\n",
    "def show_importances(n=2):\n",
    "\n",
    "    cats_dfs = encode(X_train_[cats], X_test_[cats], n=n)\n",
    "\n",
    "    mod = xgb.XGBClassifier()\n",
    "\n",
    "    mod.fit(cats_dfs['train'], y_train)\n",
    "\n",
    "    importances = mod.feature_importances_\n",
    "    names = cats_dfs['train'].columns\n",
    "    y_pos = np.arange(len(names))\n",
    "    \n",
    "    fig, ax = plt.subplots(figsize=(20,10))\n",
    "\n",
    "    ax.barh(y_pos, importances, align='center')\n",
    "    #ax.set_xticks(min(importances), max(importances))\n",
    "    ax.set_yticks(y_pos)\n",
    "    ax.set_yticklabels(names)\n",
    "    ax.set_xlabel('Importance')\n",
    "    ax.set_title('Feature importances')\n",
    "    \n",
    "\n",
    "    plt.show;\n",
    "    pass\n",
    "\n",
    "show_importances()"
   ]
  },
  {
   "cell_type": "code",
   "execution_count": 76,
   "metadata": {},
   "outputs": [
    {
     "name": "stdout",
     "output_type": "stream",
     "text": [
      "Now is 31 really too many columns?\n"
     ]
    },
    {
     "data": {
      "image/png": "[encoded data removed]",
      "text/plain": [
       "<Figure size 1440x720 with 1 Axes>"
      ]
     },
     "metadata": {},
     "output_type": "display_data"
    }
   ],
   "source": [
    "show_importances(n=7)"
   ]
  },
  {
   "cell_type": "code",
   "execution_count": null,
   "metadata": {},
   "outputs": [],
   "source": [
    "show_importances(n=5)"
   ]
  },
  {
   "cell_type": "markdown",
   "metadata": {},
   "source": [
    "# TLDR: \n",
    "Inspection type is the most important feature! \n",
    "\n",
    "\n",
    "## Now lets run all this again, this time without _sampling down_ to smaller data, and compare. "
   ]
  },
  {
   "cell_type": "code",
   "execution_count": 77,
   "metadata": {},
   "outputs": [
    {
     "name": "stdout",
     "output_type": "stream",
     "text": [
      "Now is 66 really too many columns?\n"
     ]
    },
    {
     "ename": "XGBoostError",
     "evalue": "b'[13:55:50] src/objective/regression_obj.cu:66: Check failed: preds.Size() == info.labels_.Size() (8192 vs. 51916) labels are not correctly providedpreds.size=8192, label.size=51916\\n\\nStack trace returned 10 entries:\\n[bt] (0) /home/quinn/anaconda3/lib/libxgboost.so(dmlc::StackTrace[abi:cxx11]()+0x55) [0x7f0d173e73b5]\\n[bt] (1) /home/quinn/anaconda3/lib/libxgboost.so(dmlc::LogMessageFatal::~LogMessageFatal()+0x3b) [0x7f0d173e7bab]\\n[bt] (2) /home/quinn/anaconda3/lib/libxgboost.so(xgboost::obj::RegLossObj<xgboost::obj::LogisticClassification>::GetGradient(xgboost::HostDeviceVector<float> const&, xgboost::MetaInfo const&, int, xgboost::HostDeviceVector<xgboost::detail::GradientPairInternal<float> >*)+0x211) [0x7f0d1749b891]\\n[bt] (3) /home/quinn/anaconda3/lib/libxgboost.so(xgboost::LearnerImpl::UpdateOneIter(int, xgboost::DMatrix*)+0x1dc) [0x7f0d173f35bc]\\n[bt] (4) /home/quinn/anaconda3/lib/libxgboost.so(XGBoosterUpdateOneIter+0x48) [0x7f0d17571ac8]\\n[bt] (5) /home/quinn/anaconda3/lib/python3.6/lib-dynload/../../libffi.so.6(ffi_call_unix64+0x4c) [0x7f0d48809630]\\n[bt] (6) /home/quinn/anaconda3/lib/python3.6/lib-dynload/../../libffi.so.6(ffi_call+0x22d) [0x7f0d48808fed]\\n[bt] (7) /home/quinn/anaconda3/lib/python3.6/lib-dynload/_ctypes.cpython-36m-x86_64-linux-gnu.so(_ctypes_callproc+0x2ce) [0x7f0d47ab000e]\\n[bt] (8) /home/quinn/anaconda3/lib/python3.6/lib-dynload/_ctypes.cpython-36m-x86_64-linux-gnu.so(+0x13a45) [0x7f0d47ab0a45]\\n[bt] (9) /home/quinn/anaconda3/bin/python(_PyObject_FastCallDict+0x8b) [0x56466e48fd2b]\\n\\n'",
     "output_type": "error",
     "traceback": [
      "\u001b[0;31m---------------------------------------------------------------------------\u001b[0m",
      "\u001b[0;31mXGBoostError\u001b[0m                              Traceback (most recent call last)",
      "\u001b[0;32m<ipython-input-77-28aacec8faf8>\u001b[0m in \u001b[0;36m<module>\u001b[0;34m\u001b[0m\n\u001b[1;32m     18\u001b[0m \u001b[0;32mfor\u001b[0m \u001b[0mk\u001b[0m \u001b[0;32min\u001b[0m \u001b[0;34m[\u001b[0m\u001b[0;36m2\u001b[0m\u001b[0;34m,\u001b[0m\u001b[0;36m3\u001b[0m\u001b[0;34m,\u001b[0m\u001b[0;36m4\u001b[0m\u001b[0;34m,\u001b[0m\u001b[0;36m5\u001b[0m\u001b[0;34m,\u001b[0m\u001b[0;36m6\u001b[0m\u001b[0;34m,\u001b[0m\u001b[0;36m7\u001b[0m\u001b[0;34m,\u001b[0m\u001b[0;36m8\u001b[0m\u001b[0;34m]\u001b[0m\u001b[0;34m:\u001b[0m\u001b[0;34m\u001b[0m\u001b[0m\n\u001b[1;32m     19\u001b[0m     \u001b[0mdmats\u001b[0m \u001b[0;34m=\u001b[0m \u001b[0mmake_dmats\u001b[0m\u001b[0;34m(\u001b[0m\u001b[0mn\u001b[0m\u001b[0;34m=\u001b[0m\u001b[0mk\u001b[0m\u001b[0;34m)\u001b[0m\u001b[0;34m\u001b[0m\u001b[0m\n\u001b[0;32m---> 20\u001b[0;31m     \u001b[0mdart_choices_n_coder_rocauc\u001b[0m\u001b[0;34m[\u001b[0m\u001b[0mk\u001b[0m\u001b[0;34m]\u001b[0m \u001b[0;34m=\u001b[0m \u001b[0mdart_score\u001b[0m\u001b[0;34m(\u001b[0m\u001b[0mdmats\u001b[0m\u001b[0;34m[\u001b[0m\u001b[0;36m0\u001b[0m\u001b[0;34m]\u001b[0m\u001b[0;34m,\u001b[0m \u001b[0mdmats\u001b[0m\u001b[0;34m[\u001b[0m\u001b[0;36m1\u001b[0m\u001b[0;34m]\u001b[0m\u001b[0;34m)\u001b[0m\u001b[0;34m\u001b[0m\u001b[0m\n\u001b[0m\u001b[1;32m     21\u001b[0m     \u001b[0;31m#vani_choices_n_coder_rocauc[k] = vanilla_boost_score(dmats[0], dmats[1])\u001b[0m\u001b[0;34m\u001b[0m\u001b[0;34m\u001b[0m\u001b[0m\n\u001b[1;32m     22\u001b[0m \u001b[0;34m\u001b[0m\u001b[0m\n",
      "\u001b[0;32m<ipython-input-70-1f1a84a3ab1c>\u001b[0m in \u001b[0;36mdart_score\u001b[0;34m(dtrain, dtest, max_depth)\u001b[0m\n\u001b[1;32m     24\u001b[0m \u001b[0;34m\u001b[0m\u001b[0m\n\u001b[1;32m     25\u001b[0m     \u001b[0mnum_round\u001b[0m \u001b[0;34m=\u001b[0m \u001b[0;36m50\u001b[0m\u001b[0;34m\u001b[0m\u001b[0m\n\u001b[0;32m---> 26\u001b[0;31m     \u001b[0mbst\u001b[0m \u001b[0;34m=\u001b[0m \u001b[0mxgb\u001b[0m\u001b[0;34m.\u001b[0m\u001b[0mtrain\u001b[0m\u001b[0;34m(\u001b[0m\u001b[0mparam\u001b[0m\u001b[0;34m,\u001b[0m \u001b[0mdtrain\u001b[0m\u001b[0;34m,\u001b[0m \u001b[0mnum_round\u001b[0m\u001b[0;34m)\u001b[0m\u001b[0;34m\u001b[0m\u001b[0m\n\u001b[0m\u001b[1;32m     27\u001b[0m     \u001b[0;31m# make prediction\u001b[0m\u001b[0;34m\u001b[0m\u001b[0;34m\u001b[0m\u001b[0m\n\u001b[1;32m     28\u001b[0m     \u001b[0;31m# ntree_limit must not be 0\u001b[0m\u001b[0;34m\u001b[0m\u001b[0;34m\u001b[0m\u001b[0m\n",
      "\u001b[0;32m~/anaconda3/lib/python3.6/site-packages/xgboost/training.py\u001b[0m in \u001b[0;36mtrain\u001b[0;34m(params, dtrain, num_boost_round, evals, obj, feval, maximize, early_stopping_rounds, evals_result, verbose_eval, xgb_model, callbacks, learning_rates)\u001b[0m\n\u001b[1;32m    214\u001b[0m                            \u001b[0mevals\u001b[0m\u001b[0;34m=\u001b[0m\u001b[0mevals\u001b[0m\u001b[0;34m,\u001b[0m\u001b[0;34m\u001b[0m\u001b[0m\n\u001b[1;32m    215\u001b[0m                            \u001b[0mobj\u001b[0m\u001b[0;34m=\u001b[0m\u001b[0mobj\u001b[0m\u001b[0;34m,\u001b[0m \u001b[0mfeval\u001b[0m\u001b[0;34m=\u001b[0m\u001b[0mfeval\u001b[0m\u001b[0;34m,\u001b[0m\u001b[0;34m\u001b[0m\u001b[0m\n\u001b[0;32m--> 216\u001b[0;31m                            xgb_model=xgb_model, callbacks=callbacks)\n\u001b[0m\u001b[1;32m    217\u001b[0m \u001b[0;34m\u001b[0m\u001b[0m\n\u001b[1;32m    218\u001b[0m \u001b[0;34m\u001b[0m\u001b[0m\n",
      "\u001b[0;32m~/anaconda3/lib/python3.6/site-packages/xgboost/training.py\u001b[0m in \u001b[0;36m_train_internal\u001b[0;34m(params, dtrain, num_boost_round, evals, obj, feval, xgb_model, callbacks)\u001b[0m\n\u001b[1;32m     72\u001b[0m         \u001b[0;31m# Skip the first update if it is a recovery step.\u001b[0m\u001b[0;34m\u001b[0m\u001b[0;34m\u001b[0m\u001b[0m\n\u001b[1;32m     73\u001b[0m         \u001b[0;32mif\u001b[0m \u001b[0mversion\u001b[0m \u001b[0;34m%\u001b[0m \u001b[0;36m2\u001b[0m \u001b[0;34m==\u001b[0m \u001b[0;36m0\u001b[0m\u001b[0;34m:\u001b[0m\u001b[0;34m\u001b[0m\u001b[0m\n\u001b[0;32m---> 74\u001b[0;31m             \u001b[0mbst\u001b[0m\u001b[0;34m.\u001b[0m\u001b[0mupdate\u001b[0m\u001b[0;34m(\u001b[0m\u001b[0mdtrain\u001b[0m\u001b[0;34m,\u001b[0m \u001b[0mi\u001b[0m\u001b[0;34m,\u001b[0m \u001b[0mobj\u001b[0m\u001b[0;34m)\u001b[0m\u001b[0;34m\u001b[0m\u001b[0m\n\u001b[0m\u001b[1;32m     75\u001b[0m             \u001b[0mbst\u001b[0m\u001b[0;34m.\u001b[0m\u001b[0msave_rabit_checkpoint\u001b[0m\u001b[0;34m(\u001b[0m\u001b[0;34m)\u001b[0m\u001b[0;34m\u001b[0m\u001b[0m\n\u001b[1;32m     76\u001b[0m             \u001b[0mversion\u001b[0m \u001b[0;34m+=\u001b[0m \u001b[0;36m1\u001b[0m\u001b[0;34m\u001b[0m\u001b[0m\n",
      "\u001b[0;32m~/anaconda3/lib/python3.6/site-packages/xgboost/core.py\u001b[0m in \u001b[0;36mupdate\u001b[0;34m(self, dtrain, iteration, fobj)\u001b[0m\n\u001b[1;32m   1043\u001b[0m         \u001b[0;32mif\u001b[0m \u001b[0mfobj\u001b[0m \u001b[0;32mis\u001b[0m \u001b[0;32mNone\u001b[0m\u001b[0;34m:\u001b[0m\u001b[0;34m\u001b[0m\u001b[0m\n\u001b[1;32m   1044\u001b[0m             _check_call(_LIB.XGBoosterUpdateOneIter(self.handle, ctypes.c_int(iteration),\n\u001b[0;32m-> 1045\u001b[0;31m                                                     dtrain.handle))\n\u001b[0m\u001b[1;32m   1046\u001b[0m         \u001b[0;32melse\u001b[0m\u001b[0;34m:\u001b[0m\u001b[0;34m\u001b[0m\u001b[0m\n\u001b[1;32m   1047\u001b[0m             \u001b[0mpred\u001b[0m \u001b[0;34m=\u001b[0m \u001b[0mself\u001b[0m\u001b[0;34m.\u001b[0m\u001b[0mpredict\u001b[0m\u001b[0;34m(\u001b[0m\u001b[0mdtrain\u001b[0m\u001b[0;34m)\u001b[0m\u001b[0;34m\u001b[0m\u001b[0m\n",
      "\u001b[0;32m~/anaconda3/lib/python3.6/site-packages/xgboost/core.py\u001b[0m in \u001b[0;36m_check_call\u001b[0;34m(ret)\u001b[0m\n\u001b[1;32m    163\u001b[0m     \"\"\"\n\u001b[1;32m    164\u001b[0m     \u001b[0;32mif\u001b[0m \u001b[0mret\u001b[0m \u001b[0;34m!=\u001b[0m \u001b[0;36m0\u001b[0m\u001b[0;34m:\u001b[0m\u001b[0;34m\u001b[0m\u001b[0m\n\u001b[0;32m--> 165\u001b[0;31m         \u001b[0;32mraise\u001b[0m \u001b[0mXGBoostError\u001b[0m\u001b[0;34m(\u001b[0m\u001b[0m_LIB\u001b[0m\u001b[0;34m.\u001b[0m\u001b[0mXGBGetLastError\u001b[0m\u001b[0;34m(\u001b[0m\u001b[0;34m)\u001b[0m\u001b[0;34m)\u001b[0m\u001b[0;34m\u001b[0m\u001b[0m\n\u001b[0m\u001b[1;32m    166\u001b[0m \u001b[0;34m\u001b[0m\u001b[0m\n\u001b[1;32m    167\u001b[0m \u001b[0;34m\u001b[0m\u001b[0m\n",
      "\u001b[0;31mXGBoostError\u001b[0m: b'[13:55:50] src/objective/regression_obj.cu:66: Check failed: preds.Size() == info.labels_.Size() (8192 vs. 51916) labels are not correctly providedpreds.size=8192, label.size=51916\\n\\nStack trace returned 10 entries:\\n[bt] (0) /home/quinn/anaconda3/lib/libxgboost.so(dmlc::StackTrace[abi:cxx11]()+0x55) [0x7f0d173e73b5]\\n[bt] (1) /home/quinn/anaconda3/lib/libxgboost.so(dmlc::LogMessageFatal::~LogMessageFatal()+0x3b) [0x7f0d173e7bab]\\n[bt] (2) /home/quinn/anaconda3/lib/libxgboost.so(xgboost::obj::RegLossObj<xgboost::obj::LogisticClassification>::GetGradient(xgboost::HostDeviceVector<float> const&, xgboost::MetaInfo const&, int, xgboost::HostDeviceVector<xgboost::detail::GradientPairInternal<float> >*)+0x211) [0x7f0d1749b891]\\n[bt] (3) /home/quinn/anaconda3/lib/libxgboost.so(xgboost::LearnerImpl::UpdateOneIter(int, xgboost::DMatrix*)+0x1dc) [0x7f0d173f35bc]\\n[bt] (4) /home/quinn/anaconda3/lib/libxgboost.so(XGBoosterUpdateOneIter+0x48) [0x7f0d17571ac8]\\n[bt] (5) /home/quinn/anaconda3/lib/python3.6/lib-dynload/../../libffi.so.6(ffi_call_unix64+0x4c) [0x7f0d48809630]\\n[bt] (6) /home/quinn/anaconda3/lib/python3.6/lib-dynload/../../libffi.so.6(ffi_call+0x22d) [0x7f0d48808fed]\\n[bt] (7) /home/quinn/anaconda3/lib/python3.6/lib-dynload/_ctypes.cpython-36m-x86_64-linux-gnu.so(_ctypes_callproc+0x2ce) [0x7f0d47ab000e]\\n[bt] (8) /home/quinn/anaconda3/lib/python3.6/lib-dynload/_ctypes.cpython-36m-x86_64-linux-gnu.so(+0x13a45) [0x7f0d47ab0a45]\\n[bt] (9) /home/quinn/anaconda3/bin/python(_PyObject_FastCallDict+0x8b) [0x56466e48fd2b]\\n\\n'"
     ]
    }
   ],
   "source": [
    "train = pd.read_csv(train_url)#.sample(2**13)\n",
    "test  = pd.read_csv(test_url)#.sample(2**12)\n",
    "\n",
    "X_train_0 = train.drop(['Fail'], axis=1)\n",
    "X_test_0 = test.drop(['Fail'], axis=1)\n",
    "y_train = train.Fail\n",
    "y_test = test.Fail\n",
    "\n",
    "assert train.shape == (51916, 17)\n",
    "assert test.shape  == (17306, 17)\n",
    "\n",
    "X_train_ = wrangle(X_train_0)\n",
    "X_test_ = wrangle(X_test_0)\n",
    "\n",
    "\n",
    "dart_choices_n_coder_rocauc = {}\n",
    "vani_choices_n_coder_rocauc = {}\n",
    "for k in [2,3,4,5,6,7,8]:\n",
    "    dmats = make_dmats(n=k)\n",
    "    dart_choices_n_coder_rocauc[k] = dart_score(dmats[0], dmats[1])\n",
    "    #vani_choices_n_coder_rocauc[k] = vanilla_boost_score(dmats[0], dmats[1])\n",
    "\n",
    "print(dart_choices_n_coder_rocauc)#, vani_choices_n_coder_rocauc"
   ]
  },
  {
   "cell_type": "code",
   "execution_count": null,
   "metadata": {},
   "outputs": [],
   "source": [
    "show_importances(2)"
   ]
  },
  {
   "cell_type": "code",
   "execution_count": null,
   "metadata": {},
   "outputs": [],
   "source": [
    "show_importances(7)"
   ]
  },
  {
   "cell_type": "code",
   "execution_count": null,
   "metadata": {},
   "outputs": [],
   "source": []
  },
  {
   "cell_type": "code",
   "execution_count": null,
   "metadata": {},
   "outputs": [],
   "source": []
  },
  {
   "cell_type": "code",
   "execution_count": null,
   "metadata": {},
   "outputs": [],
   "source": []
  }
 ],
 "metadata": {
  "kernelspec": {
   "display_name": "Python 3",
   "language": "python",
   "name": "python3"
  },
  "language_info": {
   "codemirror_mode": {
    "name": "ipython",
    "version": 3
   },
   "file_extension": ".py",
   "mimetype": "text/x-python",
   "name": "python",
   "nbconvert_exporter": "python",
   "pygments_lexer": "ipython3",
   "version": "3.6.6"
  }
 },
 "nbformat": 4,
 "nbformat_minor": 2
}

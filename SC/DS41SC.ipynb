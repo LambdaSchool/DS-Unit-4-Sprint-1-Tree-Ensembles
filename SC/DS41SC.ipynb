{
 "cells": [
  {
   "cell_type": "markdown",
   "metadata": {},
   "source": [
    "# Data Science Unit 4 Sprint Challenge 1 — Tree Ensembles"
   ]
  },
  {
   "cell_type": "markdown",
   "metadata": {},
   "source": [
    "### Chicago Food Inspections\n",
    "\n",
    "For this Sprint Challenge, you'll use a dataset with information from inspections of restaurants and other food establishments in Chicago from January 1, 2010 to the present. \n",
    "\n",
    "[See this PDF](https://data.cityofchicago.org/api/assets/BAD5301B-681A-4202-9D25-51B2CAE672FF) for descriptions of the data elements included in this dataset.\n",
    "\n",
    "According to [Chicago Department of Public Health — Food Protection Services](https://www.chicago.gov/city/en/depts/cdph/provdrs/healthy_restaurants/svcs/food-protection-services.html), \"Chicago is home to 16,000 food establishments like restaurants, grocery stores, bakeries, wholesalers, lunchrooms, mobile food vendors and more. Our business is food safety and sanitation with one goal, to prevent the spread of food-borne disease. We do this by inspecting food businesses, responding to complaints and food recalls.\" "
   ]
  },
  {
   "cell_type": "markdown",
   "metadata": {},
   "source": [
    "#### Your challenge: Predict whether inspections failed\n",
    "\n",
    "The target is the `Fail` column.\n",
    "\n",
    "- When the food establishment failed the inspection, the target is `1`.\n",
    "- When the establishment passed, the target is `0`."
   ]
  },
  {
   "cell_type": "markdown",
   "metadata": {},
   "source": [
    "#### Run this cell to load the data:"
   ]
  },
  {
   "cell_type": "code",
   "execution_count": 30,
   "metadata": {},
   "outputs": [],
   "source": [
    "import pandas as pd\n",
    "import numpy as np\n",
    "import category_encoders as ce\n",
    "import xgboost as xgb\n",
    "import matplotlib.pyplot as plt\n",
    "from sklearn.metrics import roc_auc_score\n",
    "from collections import defaultdict\n",
    "plt.style.use('dark_background')\n",
    "\n",
    "train_url = 'https://drive.google.com/uc?export=download&id=13_tP9JpLcZHSPVpWcua4t2rY44K_s4H5'\n",
    "test_url  = 'https://drive.google.com/uc?export=download&id=1GkDHjsiGrzOXoF_xcYjdzBTSjOIi3g5a'\n",
    "\n",
    "train = pd.read_csv(train_url).sample(2**13)\n",
    "test  = pd.read_csv(test_url).sample(2**12)\n",
    "\n",
    "X_train_0 = train.drop(['Fail'], axis=1)\n",
    "X_test_0 = test.drop(['Fail'], axis=1)\n",
    "y_train = train.Fail\n",
    "y_test = test.Fail\n",
    "\n",
    "#assert train.shape == (51916, 17)\n",
    "#assert test.shape  == (17306, 17)"
   ]
  },
  {
   "cell_type": "markdown",
   "metadata": {},
   "source": [
    "### Part 1: Preprocessing\n",
    "\n",
    "You may choose which features you want to use, and whether/how you will preprocess them. You may use any tools and techniques for categorical encoding. (Pandas, category_encoders, sklearn.preprocessing, or any other library.)\n",
    "\n",
    "_To earn a score of 3 for this part, engineer new features, and use any alternative categorical encoding instead of One-Hot or Ordinal/Label encoding._\n",
    "\n",
    "### Part 2: Modeling\n",
    "\n",
    "Fit a Random Forest or Gradient Boosting model with the train set. (You may use scikit-learn, xgboost, or any other library.) Use cross-validation to estimate an ROC AUC validation score.\n",
    "\n",
    "Use your model to predict probabilities for the test set. Get an ROC AUC test score >= 0.60.\n",
    "\n",
    "_To earn a score of 3 for this part, get an ROC AUC test score >= 0.70._\n",
    "\n",
    "\n",
    "### Part 3: Visualization\n",
    "\n",
    "Make one visualization for model interpretation. (You may use any libraries.) Choose one of these types:\n",
    "- Feature Importances\n",
    "- Permutation Importances\n",
    "- Partial Dependence Plot\n",
    "\n",
    "_To earn a score of 3 for this part, make at least two of these visualization types._"
   ]
  },
  {
   "cell_type": "code",
   "execution_count": 31,
   "metadata": {},
   "outputs": [
    {
     "data": {
      "text/html": [
       "<div>\n",
       "<style scoped>\n",
       "    .dataframe tbody tr th:only-of-type {\n",
       "        vertical-align: middle;\n",
       "    }\n",
       "\n",
       "    .dataframe tbody tr th {\n",
       "        vertical-align: top;\n",
       "    }\n",
       "\n",
       "    .dataframe thead th {\n",
       "        text-align: right;\n",
       "    }\n",
       "</style>\n",
       "<table border=\"1\" class=\"dataframe\">\n",
       "  <thead>\n",
       "    <tr style=\"text-align: right;\">\n",
       "      <th></th>\n",
       "      <th>Inspection ID</th>\n",
       "      <th>DBA Name</th>\n",
       "      <th>AKA Name</th>\n",
       "      <th>License #</th>\n",
       "      <th>Facility Type</th>\n",
       "      <th>Risk</th>\n",
       "      <th>Address</th>\n",
       "      <th>City</th>\n",
       "      <th>State</th>\n",
       "      <th>Zip</th>\n",
       "      <th>Inspection Date</th>\n",
       "      <th>Inspection Type</th>\n",
       "      <th>Violations</th>\n",
       "      <th>Latitude</th>\n",
       "      <th>Longitude</th>\n",
       "      <th>Location</th>\n",
       "      <th>Fail</th>\n",
       "    </tr>\n",
       "  </thead>\n",
       "  <tbody>\n",
       "    <tr>\n",
       "      <th>28530</th>\n",
       "      <td>2078473</td>\n",
       "      <td>DECOLORES RESTAURANT</td>\n",
       "      <td>DECOLORES RESTAURANT</td>\n",
       "      <td>2542897.0</td>\n",
       "      <td>Restaurant</td>\n",
       "      <td>Risk 1 (High)</td>\n",
       "      <td>1626 S HALSTED ST</td>\n",
       "      <td>CHICAGO</td>\n",
       "      <td>IL</td>\n",
       "      <td>60608.0</td>\n",
       "      <td>2017-08-15T00:00:00</td>\n",
       "      <td>License</td>\n",
       "      <td>NaN</td>\n",
       "      <td>41.859183</td>\n",
       "      <td>-87.646830</td>\n",
       "      <td>{'longitude': '-87.64682982484355', 'latitude'...</td>\n",
       "      <td>0</td>\n",
       "    </tr>\n",
       "    <tr>\n",
       "      <th>34898</th>\n",
       "      <td>1575529</td>\n",
       "      <td>HAPPY FISH &amp; CHICKEN</td>\n",
       "      <td>HAPPY FISH &amp; CHICKEN</td>\n",
       "      <td>2137607.0</td>\n",
       "      <td>Restaurant</td>\n",
       "      <td>Risk 1 (High)</td>\n",
       "      <td>5-7 S CICERO AVE</td>\n",
       "      <td>CHICAGO</td>\n",
       "      <td>IL</td>\n",
       "      <td>60644.0</td>\n",
       "      <td>2015-09-14T00:00:00</td>\n",
       "      <td>Canvass</td>\n",
       "      <td>11. ADEQUATE NUMBER, CONVENIENT, ACCESSIBLE, D...</td>\n",
       "      <td>41.880312</td>\n",
       "      <td>-87.745124</td>\n",
       "      <td>{'longitude': '-87.74512375356417', 'latitude'...</td>\n",
       "      <td>1</td>\n",
       "    </tr>\n",
       "    <tr>\n",
       "      <th>3603</th>\n",
       "      <td>277479</td>\n",
       "      <td>FOUR MOON TAVERN</td>\n",
       "      <td>FOUR MOON TAVERN</td>\n",
       "      <td>51644.0</td>\n",
       "      <td>Restaurant</td>\n",
       "      <td>Risk 1 (High)</td>\n",
       "      <td>1847 W ROSCOE ST</td>\n",
       "      <td>CHICAGO</td>\n",
       "      <td>IL</td>\n",
       "      <td>60657.0</td>\n",
       "      <td>2010-07-16T00:00:00</td>\n",
       "      <td>Canvass Re-Inspection</td>\n",
       "      <td>34. FLOORS: CONSTRUCTED PER CODE, CLEANED, GOO...</td>\n",
       "      <td>41.943141</td>\n",
       "      <td>-87.675707</td>\n",
       "      <td>{'longitude': '-87.67570739466916', 'latitude'...</td>\n",
       "      <td>0</td>\n",
       "    </tr>\n",
       "    <tr>\n",
       "      <th>20187</th>\n",
       "      <td>1424401</td>\n",
       "      <td>PLUSH PUP</td>\n",
       "      <td>PLUSH PUP</td>\n",
       "      <td>1647850.0</td>\n",
       "      <td>Restaurant</td>\n",
       "      <td>Risk 1 (High)</td>\n",
       "      <td>5344 N CUMBERLAND AVE</td>\n",
       "      <td>CHICAGO</td>\n",
       "      <td>IL</td>\n",
       "      <td>60656.0</td>\n",
       "      <td>2014-07-31T00:00:00</td>\n",
       "      <td>Canvass</td>\n",
       "      <td>16. FOOD PROTECTED DURING STORAGE, PREPARATION...</td>\n",
       "      <td>41.976851</td>\n",
       "      <td>-87.836760</td>\n",
       "      <td>{'longitude': '-87.83676047190316', 'latitude'...</td>\n",
       "      <td>1</td>\n",
       "    </tr>\n",
       "    <tr>\n",
       "      <th>37813</th>\n",
       "      <td>277935</td>\n",
       "      <td>Mama Mia Chicago Pizza</td>\n",
       "      <td>Mama Mia Chicago Pizza</td>\n",
       "      <td>2009418.0</td>\n",
       "      <td>Restaurant</td>\n",
       "      <td>Risk 1 (High)</td>\n",
       "      <td>3131 N CENTRAL AVE</td>\n",
       "      <td>CHICAGO</td>\n",
       "      <td>IL</td>\n",
       "      <td>60634.0</td>\n",
       "      <td>2010-08-03T00:00:00</td>\n",
       "      <td>Short Form Complaint</td>\n",
       "      <td>NaN</td>\n",
       "      <td>41.937695</td>\n",
       "      <td>-87.766319</td>\n",
       "      <td>{'longitude': '-87.76631878609123', 'latitude'...</td>\n",
       "      <td>1</td>\n",
       "    </tr>\n",
       "  </tbody>\n",
       "</table>\n",
       "</div>"
      ],
      "text/plain": [
       "       Inspection ID                DBA Name                AKA Name  \\\n",
       "28530        2078473    DECOLORES RESTAURANT    DECOLORES RESTAURANT   \n",
       "34898        1575529    HAPPY FISH & CHICKEN    HAPPY FISH & CHICKEN   \n",
       "3603          277479        FOUR MOON TAVERN        FOUR MOON TAVERN   \n",
       "20187        1424401               PLUSH PUP               PLUSH PUP   \n",
       "37813         277935  Mama Mia Chicago Pizza  Mama Mia Chicago Pizza   \n",
       "\n",
       "       License # Facility Type           Risk                 Address  \\\n",
       "28530  2542897.0    Restaurant  Risk 1 (High)      1626 S HALSTED ST    \n",
       "34898  2137607.0    Restaurant  Risk 1 (High)       5-7 S CICERO AVE    \n",
       "3603     51644.0    Restaurant  Risk 1 (High)       1847 W ROSCOE ST    \n",
       "20187  1647850.0    Restaurant  Risk 1 (High)  5344 N CUMBERLAND AVE    \n",
       "37813  2009418.0    Restaurant  Risk 1 (High)     3131 N CENTRAL AVE    \n",
       "\n",
       "          City State      Zip      Inspection Date        Inspection Type  \\\n",
       "28530  CHICAGO    IL  60608.0  2017-08-15T00:00:00                License   \n",
       "34898  CHICAGO    IL  60644.0  2015-09-14T00:00:00                Canvass   \n",
       "3603   CHICAGO    IL  60657.0  2010-07-16T00:00:00  Canvass Re-Inspection   \n",
       "20187  CHICAGO    IL  60656.0  2014-07-31T00:00:00                Canvass   \n",
       "37813  CHICAGO    IL  60634.0  2010-08-03T00:00:00   Short Form Complaint   \n",
       "\n",
       "                                              Violations   Latitude  \\\n",
       "28530                                                NaN  41.859183   \n",
       "34898  11. ADEQUATE NUMBER, CONVENIENT, ACCESSIBLE, D...  41.880312   \n",
       "3603   34. FLOORS: CONSTRUCTED PER CODE, CLEANED, GOO...  41.943141   \n",
       "20187  16. FOOD PROTECTED DURING STORAGE, PREPARATION...  41.976851   \n",
       "37813                                                NaN  41.937695   \n",
       "\n",
       "       Longitude                                           Location  Fail  \n",
       "28530 -87.646830  {'longitude': '-87.64682982484355', 'latitude'...     0  \n",
       "34898 -87.745124  {'longitude': '-87.74512375356417', 'latitude'...     1  \n",
       "3603  -87.675707  {'longitude': '-87.67570739466916', 'latitude'...     0  \n",
       "20187 -87.836760  {'longitude': '-87.83676047190316', 'latitude'...     1  \n",
       "37813 -87.766319  {'longitude': '-87.76631878609123', 'latitude'...     1  "
      ]
     },
     "execution_count": 31,
     "metadata": {},
     "output_type": "execute_result"
    }
   ],
   "source": [
    "train.head()"
   ]
  },
  {
   "cell_type": "code",
   "execution_count": 32,
   "metadata": {},
   "outputs": [
    {
     "data": {
      "text/plain": [
       "Inspection ID        int64\n",
       "DBA Name            object\n",
       "AKA Name            object\n",
       "License #          float64\n",
       "Facility Type       object\n",
       "Risk                object\n",
       "Address             object\n",
       "City                object\n",
       "State               object\n",
       "Zip                float64\n",
       "Inspection Date     object\n",
       "Inspection Type     object\n",
       "Violations          object\n",
       "Latitude           float64\n",
       "Longitude          float64\n",
       "Location            object\n",
       "Fail                 int64\n",
       "dtype: object"
      ]
     },
     "execution_count": 32,
     "metadata": {},
     "output_type": "execute_result"
    }
   ],
   "source": [
    "train.dtypes"
   ]
  },
  {
   "cell_type": "code",
   "execution_count": 33,
   "metadata": {},
   "outputs": [
    {
     "data": {
      "text/html": [
       "<div>\n",
       "<style scoped>\n",
       "    .dataframe tbody tr th:only-of-type {\n",
       "        vertical-align: middle;\n",
       "    }\n",
       "\n",
       "    .dataframe tbody tr th {\n",
       "        vertical-align: top;\n",
       "    }\n",
       "\n",
       "    .dataframe thead th {\n",
       "        text-align: right;\n",
       "    }\n",
       "</style>\n",
       "<table border=\"1\" class=\"dataframe\">\n",
       "  <thead>\n",
       "    <tr style=\"text-align: right;\">\n",
       "      <th></th>\n",
       "      <th>Inspection ID</th>\n",
       "      <th>License #</th>\n",
       "      <th>Zip</th>\n",
       "      <th>Latitude</th>\n",
       "      <th>Longitude</th>\n",
       "      <th>Fail</th>\n",
       "    </tr>\n",
       "  </thead>\n",
       "  <tbody>\n",
       "    <tr>\n",
       "      <th>count</th>\n",
       "      <td>8.192000e+03</td>\n",
       "      <td>8.192000e+03</td>\n",
       "      <td>8189.000000</td>\n",
       "      <td>8158.000000</td>\n",
       "      <td>8158.000000</td>\n",
       "      <td>8192.000000</td>\n",
       "    </tr>\n",
       "    <tr>\n",
       "      <th>mean</th>\n",
       "      <td>1.329727e+06</td>\n",
       "      <td>1.543271e+06</td>\n",
       "      <td>60629.137135</td>\n",
       "      <td>41.880504</td>\n",
       "      <td>-87.677104</td>\n",
       "      <td>0.255859</td>\n",
       "    </tr>\n",
       "    <tr>\n",
       "      <th>std</th>\n",
       "      <td>6.186019e+05</td>\n",
       "      <td>9.085727e+05</td>\n",
       "      <td>21.097429</td>\n",
       "      <td>0.080876</td>\n",
       "      <td>0.060136</td>\n",
       "      <td>0.436370</td>\n",
       "    </tr>\n",
       "    <tr>\n",
       "      <th>min</th>\n",
       "      <td>4.822000e+04</td>\n",
       "      <td>0.000000e+00</td>\n",
       "      <td>60153.000000</td>\n",
       "      <td>41.649558</td>\n",
       "      <td>-87.914428</td>\n",
       "      <td>0.000000</td>\n",
       "    </tr>\n",
       "    <tr>\n",
       "      <th>25%</th>\n",
       "      <td>6.796932e+05</td>\n",
       "      <td>1.095793e+06</td>\n",
       "      <td>60614.000000</td>\n",
       "      <td>41.831172</td>\n",
       "      <td>-87.708498</td>\n",
       "      <td>0.000000</td>\n",
       "    </tr>\n",
       "    <tr>\n",
       "      <th>50%</th>\n",
       "      <td>1.424408e+06</td>\n",
       "      <td>1.963807e+06</td>\n",
       "      <td>60625.000000</td>\n",
       "      <td>41.890829</td>\n",
       "      <td>-87.667064</td>\n",
       "      <td>0.000000</td>\n",
       "    </tr>\n",
       "    <tr>\n",
       "      <th>75%</th>\n",
       "      <td>1.946848e+06</td>\n",
       "      <td>2.215542e+06</td>\n",
       "      <td>60643.000000</td>\n",
       "      <td>41.939783</td>\n",
       "      <td>-87.634281</td>\n",
       "      <td>1.000000</td>\n",
       "    </tr>\n",
       "    <tr>\n",
       "      <th>max</th>\n",
       "      <td>2.279423e+06</td>\n",
       "      <td>3.808691e+06</td>\n",
       "      <td>60827.000000</td>\n",
       "      <td>42.021064</td>\n",
       "      <td>-87.525094</td>\n",
       "      <td>1.000000</td>\n",
       "    </tr>\n",
       "  </tbody>\n",
       "</table>\n",
       "</div>"
      ],
      "text/plain": [
       "       Inspection ID     License #           Zip     Latitude    Longitude  \\\n",
       "count   8.192000e+03  8.192000e+03   8189.000000  8158.000000  8158.000000   \n",
       "mean    1.329727e+06  1.543271e+06  60629.137135    41.880504   -87.677104   \n",
       "std     6.186019e+05  9.085727e+05     21.097429     0.080876     0.060136   \n",
       "min     4.822000e+04  0.000000e+00  60153.000000    41.649558   -87.914428   \n",
       "25%     6.796932e+05  1.095793e+06  60614.000000    41.831172   -87.708498   \n",
       "50%     1.424408e+06  1.963807e+06  60625.000000    41.890829   -87.667064   \n",
       "75%     1.946848e+06  2.215542e+06  60643.000000    41.939783   -87.634281   \n",
       "max     2.279423e+06  3.808691e+06  60827.000000    42.021064   -87.525094   \n",
       "\n",
       "              Fail  \n",
       "count  8192.000000  \n",
       "mean      0.255859  \n",
       "std       0.436370  \n",
       "min       0.000000  \n",
       "25%       0.000000  \n",
       "50%       0.000000  \n",
       "75%       1.000000  \n",
       "max       1.000000  "
      ]
     },
     "execution_count": 33,
     "metadata": {},
     "output_type": "execute_result"
    }
   ],
   "source": [
    "train.describe()"
   ]
  },
  {
   "cell_type": "code",
   "execution_count": 34,
   "metadata": {},
   "outputs": [
    {
     "data": {
      "text/plain": [
       "Inspection ID         0\n",
       "DBA Name              0\n",
       "AKA Name             93\n",
       "License #             0\n",
       "Facility Type        27\n",
       "Risk                  3\n",
       "Address               0\n",
       "City                  5\n",
       "State                 0\n",
       "Zip                   3\n",
       "Inspection Date       0\n",
       "Inspection Type       0\n",
       "Violations         1561\n",
       "Latitude             34\n",
       "Longitude            34\n",
       "Location             34\n",
       "dtype: int64"
      ]
     },
     "execution_count": 34,
     "metadata": {},
     "output_type": "execute_result"
    }
   ],
   "source": [
    "X_train_0.isna().sum()"
   ]
  },
  {
   "cell_type": "code",
   "execution_count": 35,
   "metadata": {},
   "outputs": [],
   "source": [
    "todrop1 = ['Inspection ID', 'AKA Name', 'License #', 'Location']\n",
    "\n",
    "def wrangle(dat): \n",
    "    import datetime as dt\n",
    "    assigns = {\n",
    "        **{'Violations': dat.Violations.fillna('NO_VIOLATIONS'), \n",
    "          'Facility Type': dat['Facility Type'].fillna('NOT_APPLICABLE'), \n",
    "          'Inspection Date': pd.to_datetime(dat['Inspection Date'], \n",
    "                                            infer_datetime_format=True\n",
    "                                           ).apply(dt.datetime.toordinal)}, \n",
    "        **{l: dat[l].fillna(dat[l].mean()) for l in ['Latitude', 'Longitude']}\n",
    "    }\n",
    "    \n",
    "    return dat.assign(**assigns).drop(todrop1, axis=1)\n",
    "\n",
    "X_train_ = wrangle(X_train_0)\n",
    "X_test_ = wrangle(X_test_0)"
   ]
  },
  {
   "cell_type": "code",
   "execution_count": 36,
   "metadata": {},
   "outputs": [
    {
     "data": {
      "text/plain": [
       "DBA Name           0\n",
       "Facility Type      0\n",
       "Risk               3\n",
       "Address            0\n",
       "City               5\n",
       "State              0\n",
       "Zip                3\n",
       "Inspection Date    0\n",
       "Inspection Type    0\n",
       "Violations         0\n",
       "Latitude           0\n",
       "Longitude          0\n",
       "dtype: int64"
      ]
     },
     "execution_count": 36,
     "metadata": {},
     "output_type": "execute_result"
    }
   ],
   "source": [
    "X_train_.isna().sum()"
   ]
  },
  {
   "cell_type": "code",
   "execution_count": 37,
   "metadata": {},
   "outputs": [
    {
     "name": "stdout",
     "output_type": "stream",
     "text": [
      "The target is unbalanced target by a factor of 2.9083969465648853 favoring `0`. \n",
      "\n",
      "\n",
      "We have 8 categoricals and 4 numerics. \n",
      "\n",
      "\tFeature DBA Name has cardinality 5943. \n",
      "\tFeature Facility Type has cardinality 139. \n",
      "\tFeature Risk has cardinality 3. \n",
      "\tFeature Address has cardinality 5743. \n",
      "\tFeature City has cardinality 10. \n",
      "\tFeature State has cardinality 1. \n",
      "\tFeature Inspection Type has cardinality 28. \n",
      "\tFeature Violations has cardinality 6630. \n"
     ]
    }
   ],
   "source": [
    "print(f'The target is unbalanced target by a factor of {y_train.value_counts()[0] / y_train.value_counts()[1]} favoring `0`. \\n\\n')\n",
    "\n",
    "cats = X_train_.select_dtypes(include='object').columns\n",
    "nums = X_train_.select_dtypes(exclude='object').columns\n",
    "\n",
    "print(f\"We have {len(cats)} categoricals and {len(nums)} numerics. \\n\")\n",
    "\n",
    "cards = {n: X_train_[n].value_counts().shape[0] for n in cats}\n",
    "\n",
    "def report_cards(c): \n",
    "    l = [f\"\\tFeature {k} has cardinality {v}. \" for k,v in c.items()]\n",
    "    return '\\n'.join(l)\n",
    "\n",
    "print(report_cards(cards))"
   ]
  },
  {
   "cell_type": "code",
   "execution_count": 38,
   "metadata": {},
   "outputs": [
    {
     "data": {
      "text/plain": [
       "(['Facility Type', 'Risk', 'City', 'State', 'Inspection Type'],\n",
       " ['DBA Name', 'Address', 'Violations'])"
      ]
     },
     "execution_count": 38,
     "metadata": {},
     "output_type": "execute_result"
    }
   ],
   "source": [
    "## We're going to encode \"high\" and \"low\" cardinality featuers differently, depending on some meaning of \"high\"/\"low\"\n",
    "\n",
    "thresh=2**12\n",
    "low = [k for k in cards.keys() if cards[k]<=thresh]\n",
    "high = [k for k in cards.keys() if cards[k]>thresh]\n",
    "\n",
    "assert len(low) + len(high) == len(cards.keys())\n",
    "\n",
    "# send lows to binary encoder and send highs to target encoder. \n",
    "low, high"
   ]
  },
  {
   "cell_type": "code",
   "execution_count": 39,
   "metadata": {},
   "outputs": [],
   "source": [
    "def encode(train_dat, test_dat, low=low, high=high, targ=y_train, n=4): \n",
    "    '''\n",
    "    base2 encode low cardinality, target encode high cardinailty\n",
    "    \n",
    "    Having given up on Target encoding because of `IndexingError: \n",
    "        Unalignable boolean Series provided as indexer`, \n",
    "    we shall basen encode even the high cardinality ones.   \n",
    "    \n",
    "    \n",
    "    DO NOT RUN THIS. It crashes the computer. \n",
    "        #plt.plot(x=list(range(1,10)), y=[encode(X_train[cats], n=k) for k in range(1,10)])\n",
    "    '''\n",
    "    assert [x=='object' for x in train_dat.dtypes]\n",
    "    assert [x=='object' for x in test_dat.dtypes]\n",
    "    assert all([x==y for x,y in zip(X_train_[high].index, y_train.index)])\n",
    "    \n",
    "    bl = ce.basen.BaseNEncoder(base=n, return_df=True)\n",
    "    #th = ce.TargetEncoder()\n",
    "    \n",
    "    bl.fit(train_dat[low+high])\n",
    "    #bl_df = bl.fit_transform(train_dat[low+high])\n",
    "    #th_df = th.fit_transform(dat[high], targ, return_df=True)\n",
    "    \n",
    "    td = bl.transform(train_dat[low+high])\n",
    "    print(f\"Now is {td.shape[1]} really too many columns?\")\n",
    "    return {'train': td, 'test': bl.transform(test_dat[low+high])}\n"
   ]
  },
  {
   "cell_type": "code",
   "execution_count": 40,
   "metadata": {},
   "outputs": [],
   "source": [
    "# cats_dfs = encode(X_train_[cats], X_test_[cats])\n",
    "# X_train = pd.concat([X_train_[nums], cats_dfs['train']], axis=1, sort=False)\n",
    "# X_test = pd.concat([X_test_[nums], cats_dfs['test']], axis=1, sort=False)\n",
    "\n",
    "# X_train.head()"
   ]
  },
  {
   "cell_type": "code",
   "execution_count": 41,
   "metadata": {},
   "outputs": [],
   "source": [
    "# dtrain = xgb.DMatrix(X_train.values, y_train.values)\n",
    "# dtest = xgb.DMatrix(X_test.values) \n",
    "\n",
    "# # specify parameters via map\n",
    "# param = {'booster': 'dart',\n",
    "#          'max_depth': 5, 'learning_rate': 0.1,\n",
    "#          'objective': 'binary:logistic', \n",
    "#          'silent': True,\n",
    "#          'sample_type': 'uniform',\n",
    "#          'normalize_type': 'tree',\n",
    "#          'rate_drop': 0.1,\n",
    "#          'skip_drop': 0.5}\n",
    "\n",
    "# num_round = 50\n",
    "# bst = xgb.train(param, dtrain, num_round)\n",
    "# # make prediction\n",
    "# # ntree_limit must not be 0\n",
    "# preds = bst.predict(dtest, ntree_limit=num_round)\n",
    "\n",
    "# preds_df = pd.DataFrame({'id': X_test.index, 'failure': preds})\n",
    "# #preds_df.head()\n",
    "\n",
    "# roc_auc_score(y_test, preds_df['failure'])"
   ]
  },
  {
   "cell_type": "code",
   "execution_count": 50,
   "metadata": {},
   "outputs": [
    {
     "name": "stdout",
     "output_type": "stream",
     "text": [
      "Now is 66 really too many columns?\n",
      "Now is 47 really too many columns?\n",
      "Now is 39 really too many columns?\n",
      "Now is 36 really too many columns?\n",
      "Now is 31 really too many columns?\n",
      "Now is 31 really too many columns?\n",
      "Now is 31 really too many columns?\n"
     ]
    },
    {
     "data": {
      "text/plain": [
       "{2: 0.677407998783455,\n",
       " 3: 0.44091909975669097,\n",
       " 4: 0.6376748783454989,\n",
       " 5: 0.4360270681265207,\n",
       " 6: 0.661760796836983,\n",
       " 7: 0.6771511557177615,\n",
       " 8: 0.6537320559610705}"
      ]
     },
     "execution_count": 50,
     "metadata": {},
     "output_type": "execute_result"
    }
   ],
   "source": [
    "def make_dmats(train=X_train_, test=X_test_, n=3): \n",
    "    cats_dfs = encode(train[cats], test[cats], n=n)\n",
    "    X_train = pd.concat([train[nums], cats_dfs['train']], axis=1, sort=False)\n",
    "    X_test = pd.concat([test[nums], cats_dfs['test']], axis=1, sort=False)\n",
    "    \n",
    "    dtrain = xgb.DMatrix(X_train.values, y_train.values)\n",
    "    dtest = xgb.DMatrix(X_test.values) \n",
    "\n",
    "    return dtrain, dtest\n",
    "\n",
    "def dart_score(dtrain, dtest, max_depth=5): \n",
    "    '''run a dart model and return roc_auc score '''\n",
    "    \n",
    "    # specify parameters via map\n",
    "    param = {'booster': 'dart',\n",
    "             'max_depth': max_depth, \n",
    "             'learning_rate': 0.1,\n",
    "             'objective': 'binary:logistic', \n",
    "             'silent': True,\n",
    "             'sample_type': 'uniform',\n",
    "             'normalize_type': 'tree',\n",
    "             'rate_drop': 0.1,\n",
    "             'skip_drop': 0.5}\n",
    "\n",
    "    num_round = 50\n",
    "    bst = xgb.train(param, dtrain, num_round)\n",
    "    # make prediction\n",
    "    # ntree_limit must not be 0\n",
    "    preds = bst.predict(dtest, ntree_limit=num_round)\n",
    "\n",
    "    preds_df = pd.DataFrame({'id': X_test_.index, 'failure': preds})\n",
    "\n",
    "    return roc_auc_score(y_test, preds_df['failure'])\n",
    "\n",
    "def vanilla_boost_score(dtrain, dtest, max_depth=2, eta=0.8):\n",
    "    # specify parameters via map\n",
    "    param = {'max_depth': max_depth, \n",
    "             'eta': eta, \n",
    "             'silent':1, \n",
    "             'objective':'binary:logistic' }\n",
    "    num_round = 2\n",
    "    bst = xgb.train(param, dtrain, num_round)\n",
    "    # make prediction\n",
    "    preds = bst.predict(dtest)\n",
    "    preds_df = pd.DataFrame({'id': X_test_.index, 'failure': preds})\n",
    "    return roc_auc_score(y_test, preds_df['failure'])\n",
    "\n",
    "dart_choices_n_coder_rocauc = {}\n",
    "vani_choices_n_coder_rocauc = {}\n",
    "for k in [2,3,4,5,6,7,8]:\n",
    "    dmats = make_dmats(n=k)\n",
    "    dart_choices_n_coder_rocauc[k] = dart_score(dmats[0], dmats[1])\n",
    "    #vani_choices_n_coder_rocauc[k] = vanilla_boost_score(dmats[0], dmats[1])\n",
    "\n",
    "dart_choices_n_coder_rocauc#, vani_choices_n_coder_rocauc"
   ]
  },
  {
   "cell_type": "code",
   "execution_count": 43,
   "metadata": {},
   "outputs": [],
   "source": [
    "# The dart at n=2 is the best, it appears. "
   ]
  },
  {
   "cell_type": "markdown",
   "metadata": {},
   "source": [
    "\n",
    "### Part 3: Visualization\n",
    "\n",
    "Make one visualization for model interpretation. (You may use any libraries.) Choose one of these types:\n",
    "- Feature Importances\n",
    "- Permutation Importances\n",
    "- Partial Dependence Plot\n",
    "\n",
    "_To earn a score of 3 for this part, make at least two of these visualization types._"
   ]
  },
  {
   "cell_type": "code",
   "execution_count": 44,
   "metadata": {},
   "outputs": [],
   "source": [
    "from eli5.xgboost import explain_prediction_xgboost\n",
    "from eli5 import show_weights\n",
    "\n",
    "from xgboost import XGBClassifier\n",
    "from sklearn.feature_extraction import DictVectorizer\n",
    "from sklearn.pipeline import make_pipeline\n",
    "from sklearn.model_selection import cross_val_score\n",
    "\n",
    "# clf = XGBClassifier()\n",
    "# vec = DictVectorizer()\n",
    "# pipeline = make_pipeline(vec, clf)\n",
    "\n",
    "# def evaluate(_clf):\n",
    "#     scores = cross_val_score(_clf, all_xs, all_ys, scoring='accuracy', cv=10)\n",
    "#     print('Accuracy: {:.3f} ± {:.3f}'.format(np.mean(scores), 2 * np.std(scores)))\n",
    "#     _clf.fit(train_xs, train_ys)  # so that parts of the original pipeline are fitted\n",
    "\n",
    "# evaluate(pipeline)\n",
    "\n",
    "\n",
    "# def dart(dtrain, dtest, max_depth=5): \n",
    "#     '''run a dart model and return bst object '''\n",
    "    \n",
    "#     # specify parameters via map\n",
    "#     param = {'booster': 'dart',\n",
    "#              'max_depth': max_depth, \n",
    "#              'learning_rate': 0.1,\n",
    "#              'objective': 'binary:logistic', \n",
    "#              'silent': True,\n",
    "#              'sample_type': 'uniform',\n",
    "#              'normalize_type': 'tree',\n",
    "#              'rate_drop': 0.1,\n",
    "#              'skip_drop': 0.5}\n",
    "\n",
    "#     num_round = 50\n",
    "#     bst = xgb.train(param, dtrain, num_round)\n",
    "# #     # make prediction\n",
    "# #     # ntree_limit must not be 0\n",
    "# #     preds = bst.predict(dtest, ntree_limit=num_round)\n",
    "\n",
    "# #     preds_df = pd.DataFrame({'id': X_test_.index, 'failure': preds})\n",
    "\n",
    "#     return bst # roc_auc_score(y_test, preds_df['failure'])\n",
    "\n"
   ]
  },
  {
   "cell_type": "code",
   "execution_count": 45,
   "metadata": {},
   "outputs": [],
   "source": [
    "# dmats = make_dmats(n=2)\n",
    "# #explain_prediction_xgboost(dart(dmats[0], dmats[1]), doc=)\n",
    "\n",
    "# pipeline=make_pipeline(vec, dart(dmats[0], dmats[1]))\n",
    "\n",
    "# evaluate(pipeline)"
   ]
  },
  {
   "cell_type": "code",
   "execution_count": 46,
   "metadata": {},
   "outputs": [],
   "source": [
    "#help(explain_prediction_xgboost)"
   ]
  },
  {
   "cell_type": "code",
   "execution_count": 48,
   "metadata": {},
   "outputs": [
    {
     "name": "stdout",
     "output_type": "stream",
     "text": [
      "Now is 66 really too many columns?\n"
     ]
    },
    {
     "data": {
      "text/plain": [
       "(66,)"
      ]
     },
     "execution_count": 48,
     "metadata": {},
     "output_type": "execute_result"
    }
   ],
   "source": [
    "try_ns = [2,7]\n",
    "\n",
    "cats_dfs = encode(train[cats], test[cats], n=2)\n",
    "\n",
    "mod = xgb.XGBClassifier()\n",
    "\n",
    "mod.fit(cats_dfs['train'], y_train)\n",
    "\n",
    "mod.feature_importances_"
   ]
  },
  {
   "cell_type": "code",
   "execution_count": null,
   "metadata": {},
   "outputs": [],
   "source": []
  },
  {
   "cell_type": "code",
   "execution_count": null,
   "metadata": {},
   "outputs": [],
   "source": []
  },
  {
   "cell_type": "code",
   "execution_count": null,
   "metadata": {},
   "outputs": [],
   "source": []
  },
  {
   "cell_type": "code",
   "execution_count": null,
   "metadata": {},
   "outputs": [],
   "source": []
  },
  {
   "cell_type": "code",
   "execution_count": null,
   "metadata": {},
   "outputs": [],
   "source": []
  },
  {
   "cell_type": "code",
   "execution_count": null,
   "metadata": {},
   "outputs": [],
   "source": []
  }
 ],
 "metadata": {
  "kernelspec": {
   "display_name": "Python 3",
   "language": "python",
   "name": "python3"
  },
  "language_info": {
   "codemirror_mode": {
    "name": "ipython",
    "version": 3
   },
   "file_extension": ".py",
   "mimetype": "text/x-python",
   "name": "python",
   "nbconvert_exporter": "python",
   "pygments_lexer": "ipython3",
   "version": "3.6.6"
  }
 },
 "nbformat": 4,
 "nbformat_minor": 2
}

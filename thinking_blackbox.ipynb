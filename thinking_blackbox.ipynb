{
  "nbformat": 4,
  "nbformat_minor": 0,
  "metadata": {
    "colab": {
      "name": "Untitled12.ipynb",
      "version": "0.3.2",
      "provenance": [],
      "include_colab_link": true
    },
    "kernelspec": {
      "name": "python3",
      "display_name": "Python 3"
    }
  },
  "cells": [
    {
      "cell_type": "markdown",
      "metadata": {
        "id": "view-in-github",
        "colab_type": "text"
      },
      "source": [
        "<a href=\"https://colab.research.google.com/github/cocoisland/DS-Unit-4-Sprint-1-Tree-Ensembles/blob/master/thinking_blackbox.ipynb\" target=\"_parent\"><img src=\"https://colab.research.google.com/assets/colab-badge.svg\" alt=\"Open In Colab\"/></a>"
      ]
    },
    {
      "metadata": {
        "id": "bPVTHMo3SngB",
        "colab_type": "code",
        "colab": {
          "base_uri": "https://localhost:8080/",
          "height": 277
        },
        "outputId": "744357b4-f3b4-4565-91ae-98ea4f1698c5"
      },
      "cell_type": "code",
      "source": [
        "!pip install category_encoders"
      ],
      "execution_count": 1,
      "outputs": [
        {
          "output_type": "stream",
          "text": [
            "Collecting category_encoders\n",
            "\u001b[?25l  Downloading https://files.pythonhosted.org/packages/f7/d3/82a4b85a87ece114f6d0139d643580c726efa45fa4db3b81aed38c0156c5/category_encoders-1.3.0-py2.py3-none-any.whl (61kB)\n",
            "\r\u001b[K    16% |█████▍                          | 10kB 15.3MB/s eta 0:00:01\r\u001b[K    33% |██████████▊                     | 20kB 3.1MB/s eta 0:00:01\r\u001b[K    50% |████████████████                | 30kB 4.5MB/s eta 0:00:01\r\u001b[K    66% |█████████████████████▍          | 40kB 3.0MB/s eta 0:00:01\r\u001b[K    83% |██████████████████████████▊     | 51kB 3.7MB/s eta 0:00:01\r\u001b[K    100% |████████████████████████████████| 61kB 3.9MB/s \n",
            "\u001b[?25hRequirement already satisfied: scipy>=0.17.0 in /usr/local/lib/python3.6/dist-packages (from category_encoders) (1.1.0)\n",
            "Requirement already satisfied: statsmodels>=0.6.1 in /usr/local/lib/python3.6/dist-packages (from category_encoders) (0.8.0)\n",
            "Requirement already satisfied: numpy>=1.11.1 in /usr/local/lib/python3.6/dist-packages (from category_encoders) (1.14.6)\n",
            "Requirement already satisfied: scikit-learn>=0.17.1 in /usr/local/lib/python3.6/dist-packages (from category_encoders) (0.20.3)\n",
            "Requirement already satisfied: patsy>=0.4.1 in /usr/local/lib/python3.6/dist-packages (from category_encoders) (0.5.1)\n",
            "Requirement already satisfied: pandas>=0.20.1 in /usr/local/lib/python3.6/dist-packages (from category_encoders) (0.22.0)\n",
            "Requirement already satisfied: six in /usr/local/lib/python3.6/dist-packages (from patsy>=0.4.1->category_encoders) (1.11.0)\n",
            "Requirement already satisfied: python-dateutil>=2 in /usr/local/lib/python3.6/dist-packages (from pandas>=0.20.1->category_encoders) (2.5.3)\n",
            "Requirement already satisfied: pytz>=2011k in /usr/local/lib/python3.6/dist-packages (from pandas>=0.20.1->category_encoders) (2018.9)\n",
            "Installing collected packages: category-encoders\n",
            "Successfully installed category-encoders-1.3.0\n"
          ],
          "name": "stdout"
        }
      ]
    },
    {
      "metadata": {
        "id": "lGoHljZcSaa7",
        "colab_type": "code",
        "colab": {}
      },
      "cell_type": "code",
      "source": [
        "import category_encoders as ce\n",
        "import pandas as pd\n",
        "from sklearn.ensemble import GradientBoostingClassifier\n",
        "from sklearn.model_selection import cross_val_score\n",
        "from sklearn.pipeline import make_pipeline\n",
        "\n",
        "# Load data from https://www.kaggle.com/c/ds1-tree-ensembles/data\n",
        "train_url=\"https://raw.githubusercontent.com/cocoisland/DS-Unit-4-Sprint-1-Tree-Ensembles/master/data/train_features.csv\"\n",
        "label_url=\"https://raw.githubusercontent.com/cocoisland/DS-Unit-4-Sprint-1-Tree-Ensembles/master/data/train_labels.csv\"\n",
        "test_url=\"https://raw.githubusercontent.com/cocoisland/DS-Unit-4-Sprint-1-Tree-Ensembles/master/data/test_features.csv\"\n",
        "submission_url=\"https://raw.githubusercontent.com/cocoisland/DS-Unit-4-Sprint-1-Tree-Ensembles/master/data/sample_submission.csv\"\n",
        "LCDataDictionary_url=\"https://raw.githubusercontent.com/cocoisland/DS-Unit-4-Sprint-1-Tree-Ensembles/master/data/LCDataDictionary.xlsx\"\n",
        "\n",
        "X_train = pd.read_csv(train_url)\n",
        "y_train = pd.read_csv(label_url)['charged_off']\n",
        "X_test = pd.read_csv(test_url)\n",
        "df_submission = pd.read_csv(submission_url)\n",
        "X_Dict = pd.read_excel(LCDataDictionary_url)\n",
        "\n",
        "def wrangle(X):\n",
        "    X = X.copy()\n",
        "    \n",
        "    # Drop some columns\n",
        "    X = X.drop(columns='id')  # id is random\n",
        "    X = X.drop(columns=['member_id', 'url', 'desc'])  # All null\n",
        "    X = X.drop(columns='title')  # Duplicative of purpose\n",
        "    X = X.drop(columns='grade')  # Duplicative of sub_grade\n",
        "    \n",
        "    # Transform sub_grade from \"A1\" - \"G5\" to 1.1 - 7.5\n",
        "    def wrangle_sub_grade(x):\n",
        "        first_digit = ord(x[0]) - 64\n",
        "        second_digit = int(x[1])\n",
        "        return first_digit + second_digit/10\n",
        "    \n",
        "    X['sub_grade'] = X['sub_grade'].apply(wrangle_sub_grade)\n",
        "\n",
        "    # Convert percentages from strings to floats\n",
        "    X['int_rate'] = X['int_rate'].str.strip('%').astype(float)\n",
        "    X['revol_util'] = X['revol_util'].str.strip('%').astype(float)\n",
        "        \n",
        "    # Transform earliest_cr_line to an integer: how many days it's been open\n",
        "    X['earliest_cr_line'] = pd.to_datetime(X['earliest_cr_line'], infer_datetime_format=True)\n",
        "    X['earliest_cr_line'] = pd.Timestamp.today() - X['earliest_cr_line']\n",
        "    X['earliest_cr_line'] = X['earliest_cr_line'].dt.days\n",
        "    \n",
        "    # Create features for three employee titles: teacher, manager, owner\n",
        "    X['emp_title'] = X['emp_title'].str.lower()\n",
        "    X['emp_title_teacher'] = X['emp_title'].str.contains('teacher', na=False)\n",
        "    X['emp_title_manager'] = X['emp_title'].str.contains('manager', na=False)\n",
        "    X['emp_title_owner']   = X['emp_title'].str.contains('owner', na=False)\n",
        "    \n",
        "    # Drop categoricals with high cardinality\n",
        "    X = X.drop(columns=['emp_title', 'zip_code'])\n",
        "    \n",
        "    # Transform features with many nulls to binary flags\n",
        "    many_nulls = ['sec_app_mths_since_last_major_derog',\n",
        "                  'sec_app_revol_util',\n",
        "                  'sec_app_earliest_cr_line',\n",
        "                  'sec_app_mort_acc',\n",
        "                  'dti_joint',\n",
        "                  'sec_app_collections_12_mths_ex_med',\n",
        "                  'sec_app_chargeoff_within_12_mths',\n",
        "                  'sec_app_num_rev_accts',\n",
        "                  'sec_app_open_act_il',\n",
        "                  'sec_app_open_acc',\n",
        "                  'revol_bal_joint',\n",
        "                  'annual_inc_joint',\n",
        "                  'sec_app_inq_last_6mths',\n",
        "                  'mths_since_last_record',\n",
        "                  'mths_since_recent_bc_dlq',\n",
        "                  'mths_since_last_major_derog',\n",
        "                  'mths_since_recent_revol_delinq',\n",
        "                  'mths_since_last_delinq',\n",
        "                  'il_util',\n",
        "                  'emp_length',\n",
        "                  'mths_since_recent_inq',\n",
        "                  'mo_sin_old_il_acct',\n",
        "                  'mths_since_rcnt_il',\n",
        "                  'num_tl_120dpd_2m',\n",
        "                  'bc_util',\n",
        "                  'percent_bc_gt_75',\n",
        "                  'bc_open_to_buy',\n",
        "                  'mths_since_recent_bc']\n",
        "\n",
        "    for col in many_nulls:\n",
        "        X[col] = X[col].isnull()\n",
        "    \n",
        "    # For features with few nulls, do mean imputation\n",
        "    for col in X:\n",
        "        if X[col].isnull().sum() > 0:\n",
        "            X[col] = X[col].fillna(X[col].mean())\n",
        "    \n",
        "    # Return the wrangled dataframe\n",
        "    return X\n",
        "\n",
        "\n",
        "# Wrangle train and test in the same way\n",
        "X_train = wrangle(X_train)\n",
        "X_test  = wrangle(X_test)"
      ],
      "execution_count": 0,
      "outputs": []
    },
    {
      "metadata": {
        "id": "HblwtQW0UPgA",
        "colab_type": "code",
        "colab": {}
      },
      "cell_type": "code",
      "source": [
        "X = X_train\n",
        "y = y_train"
      ],
      "execution_count": 0,
      "outputs": []
    },
    {
      "metadata": {
        "id": "drrf_vENTTeQ",
        "colab_type": "code",
        "colab": {
          "base_uri": "https://localhost:8080/",
          "height": 446
        },
        "outputId": "7e8701e6-d7fc-4d46-ab2f-f1aa6e15ec89"
      },
      "cell_type": "code",
      "source": [
        "#How do Linear or Regression model think\n",
        "from sklearn.linear_model import LogisticRegression\n",
        "from sklearn.ensemble import GradientBoostingClassifier,RandomForestClassifier\n",
        "import matplotlib.pyplot as plt\n",
        "\n",
        "encoder = ce.OrdinalEncoder()\n",
        "X = encoder.fit_transform(X_train)\n",
        "\n",
        "lr = LogisticRegression(solver='lbfgs')\n",
        "lr.fit(X,y)\n",
        "lr_pred = lr.predict(X_val)\n",
        "\n",
        "rf = RandomForestClassifier()\n",
        "rf.fit(X_train, y_train)\n",
        "rf_pred_proba = rf.predict_proba(X_val)[:,1]\n",
        "\n",
        "gb = GradientBoostingClassifier()\n",
        "gb.fit(X_train, y_train)\n",
        "gb_pred_proba = gb.predict_proba(X_val)[:,1]\n",
        "\n",
        "print('LogisticRegression Accuracy:', accuracy(y_val, lr_pred))\n",
        "print('RandomForest ROC AUC:', roc_auc_score(y_val, rf_pred_proba))\n",
        "print('GradientBoosting ROC AUC:', roc_auc_score(y_val, gb_pred_proba))\n",
        "\n"
      ],
      "execution_count": 27,
      "outputs": [
        {
          "output_type": "stream",
          "text": [
            "/usr/local/lib/python3.6/dist-packages/sklearn/linear_model/logistic.py:758: ConvergenceWarning: lbfgs failed to converge. Increase the number of iterations.\n",
            "  \"of iterations.\", ConvergenceWarning)\n"
          ],
          "name": "stderr"
        },
        {
          "output_type": "execute_result",
          "data": {
            "text/plain": [
              "<matplotlib.axes._subplots.AxesSubplot at 0x7fef510ab828>"
            ]
          },
          "metadata": {
            "tags": []
          },
          "execution_count": 27
        },
        {
          "output_type": "display_data",
          "data": {
            "image/png": "[encoded data removed]",
            "text/plain": [
              "<Figure size 576x432 with 1 Axes>"
            ]
          },
          "metadata": {
            "tags": []
          }
        }
      ]
    },
    {
      "metadata": {
        "id": "0I3djU7dzbjR",
        "colab_type": "code",
        "colab": {}
      },
      "cell_type": "code",
      "source": [
        "feature_importances = pd.Series(lr.coef_[0], X.columns)\n",
        "top_10 = feature_importances.sort_values(ascending=False)[:10]\n",
        "plt.figure(figsize=(8, 6))\n",
        "top_10.sort_values().plot.barh(color='grey')"
      ],
      "execution_count": 0,
      "outputs": []
    },
    {
      "metadata": {
        "id": "LZr_bCArhju8",
        "colab_type": "code",
        "colab": {
          "base_uri": "https://localhost:8080/",
          "height": 391
        },
        "outputId": "34875055-1694-41bf-b2ef-4f6a15026510"
      },
      "cell_type": "code",
      "source": [
        "feature_importances = pd.Series(lr.coef_[0], X.columns)\n",
        "lower_10 = feature_importances.sort_values()[:10]\n",
        "plt.figure(figsize=(8, 6))\n",
        "lower_10.sort_values().plot.barh(color='grey')\n"
      ],
      "execution_count": 26,
      "outputs": [
        {
          "output_type": "execute_result",
          "data": {
            "text/plain": [
              "<matplotlib.axes._subplots.AxesSubplot at 0x7fef4bcedda0>"
            ]
          },
          "metadata": {
            "tags": []
          },
          "execution_count": 26
        },
        {
          "output_type": "display_data",
          "data": {
            "image/png": "[encoded data removed]",
            "text/plain": [
              "<Figure size 576x432 with 1 Axes>"
            ]
          },
          "metadata": {
            "tags": []
          }
        }
      ]
    },
    {
      "metadata": {
        "id": "dtRbG3AHj2A0",
        "colab_type": "code",
        "colab": {
          "base_uri": "https://localhost:8080/",
          "height": 446
        },
        "outputId": "5b61460f-d392-4e6e-a6cf-636d5dd3852e"
      },
      "cell_type": "code",
      "source": [
        "from sklearn.ensemble import RandomForestClassifier\n",
        "\n",
        "encoder = ce.OrdinalEncoder()\n",
        "X = encoder.fit_transform(X_train)\n",
        "\n",
        "rf = RandomForestClassifier()\n",
        "rf.fit(X, y)\n",
        "\n",
        "importances = pd.Series(rf.feature_importances_, X.columns)\n",
        "top_n = importances.sort_values(ascending=False)[:10]\n",
        "plt.figure(figsize=(8, 6))\n",
        "top_n.sort_values().plot.barh(color='grey')"
      ],
      "execution_count": 32,
      "outputs": [
        {
          "output_type": "stream",
          "text": [
            "/usr/local/lib/python3.6/dist-packages/sklearn/ensemble/forest.py:246: FutureWarning: The default value of n_estimators will change from 10 in version 0.20 to 100 in 0.22.\n",
            "  \"10 in version 0.20 to 100 in 0.22.\", FutureWarning)\n"
          ],
          "name": "stderr"
        },
        {
          "output_type": "execute_result",
          "data": {
            "text/plain": [
              "<matplotlib.axes._subplots.AxesSubplot at 0x7fef4eef7048>"
            ]
          },
          "metadata": {
            "tags": []
          },
          "execution_count": 32
        },
        {
          "output_type": "display_data",
          "data": {
            "image/png": "[encoded data removed]",
            "text/plain": [
              "<Figure size 576x432 with 1 Axes>"
            ]
          },
          "metadata": {
            "tags": []
          }
        }
      ]
    },
    {
      "metadata": {
        "id": "3k7vK5H8xrXh",
        "colab_type": "code",
        "outputId": "90ad4495-221e-4150-bb5f-5c34c6a49f6b",
        "colab": {
          "base_uri": "https://localhost:8080/",
          "height": 391
        }
      },
      "cell_type": "code",
      "source": [
        "import matplotlib.pyplot as plt\n",
        "from sklearn.ensemble import GradientBoostingClassifier\n",
        "\n",
        "encoder = ce.OrdinalEncoder()\n",
        "X = encoder.fit_transform(X_train)\n",
        "\n",
        "gb = GradientBoostingClassifier()\n",
        "gb.fit(X, y)\n",
        "\n",
        "importances = pd.Series(gb.feature_importances_, X.columns)\n",
        "top_n = importances.sort_values(ascending=False)[:10]\n",
        "plt.figure(figsize=(8, 6))\n",
        "top_n.sort_values().plot.barh(color='grey')"
      ],
      "execution_count": 30,
      "outputs": [
        {
          "output_type": "execute_result",
          "data": {
            "text/plain": [
              "<matplotlib.axes._subplots.AxesSubplot at 0x7fef4bccce80>"
            ]
          },
          "metadata": {
            "tags": []
          },
          "execution_count": 30
        },
        {
          "output_type": "display_data",
          "data": {
            "image/png": "[encoded data removed]",
            "text/plain": [
              "<Figure size 576x432 with 1 Axes>"
            ]
          },
          "metadata": {
            "tags": []
          }
        }
      ]
    }
  ]
}
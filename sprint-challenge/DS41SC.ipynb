{
 "cells": [
  {
   "cell_type": "markdown",
   "metadata": {},
   "source": [
    "# Data Science Unit 4 Sprint Challenge 1 — Tree Ensembles"
   ]
  },
  {
   "cell_type": "markdown",
   "metadata": {},
   "source": [
    "### Chicago Food Inspections\n",
    "\n",
    "For this Sprint Challenge, you'll use a dataset with information from inspections of restaurants and other food establishments in Chicago from January 1, 2010 to the present. \n",
    "\n",
    "[See this PDF](https://data.cityofchicago.org/api/assets/BAD5301B-681A-4202-9D25-51B2CAE672FF) for descriptions of the data elements included in this dataset.\n",
    "\n",
    "According to [Chicago Department of Public Health — Food Protection Services](https://www.chicago.gov/city/en/depts/cdph/provdrs/healthy_restaurants/svcs/food-protection-services.html), \"Chicago is home to 16,000 food establishments like restaurants, grocery stores, bakeries, wholesalers, lunchrooms, mobile food vendors and more. Our business is food safety and sanitation with one goal, to prevent the spread of food-borne disease. We do this by inspecting food businesses, responding to complaints and food recalls.\" "
   ]
  },
  {
   "cell_type": "markdown",
   "metadata": {},
   "source": [
    "#### Your challenge: Predict whether inspections failed\n",
    "\n",
    "The target is the `Fail` column.\n",
    "\n",
    "- When the food establishment failed the inspection, the target is `1`.\n",
    "- When the establishment passed, the target is `0`."
   ]
  },
  {
   "cell_type": "markdown",
   "metadata": {},
   "source": [
    "#### Run this cell to load the data:"
   ]
  },
  {
   "cell_type": "code",
   "execution_count": 1,
   "metadata": {},
   "outputs": [],
   "source": [
    "import pandas as pd\n",
    "\n",
    "train_url = 'https://drive.google.com/uc?export=download&id=13_tP9JpLcZHSPVpWcua4t2rY44K_s4H5'\n",
    "test_url  = 'https://drive.google.com/uc?export=download&id=1GkDHjsiGrzOXoF_xcYjdzBTSjOIi3g5a'\n",
    "\n",
    "train = pd.read_csv(train_url)\n",
    "test  = pd.read_csv(test_url)\n",
    "\n",
    "assert train.shape == (51916, 17)\n",
    "assert test.shape  == (17306, 17)"
   ]
  },
  {
   "cell_type": "markdown",
   "metadata": {},
   "source": [
    "### Part 1: Preprocessing\n",
    "\n",
    "You may choose which features you want to use, and whether/how you will preprocess them. You may use any tools and techniques for categorical encoding. (Pandas, category_encoders, sklearn.preprocessing, or any other library.)\n",
    "\n",
    "_To earn a score of 3 for this part, engineer new features, and use any alternative categorical encoding instead of One-Hot or Ordinal/Label encoding._\n",
    "\n",
    "### Part 2: Modeling\n",
    "\n",
    "Fit a Random Forest or Gradient Boosting model with the train set. (You may use scikit-learn, xgboost, or any other library.) Use cross-validation to estimate an ROC AUC validation score.\n",
    "\n",
    "Use your model to predict probabilities for the test set. Get an ROC AUC test score >= 0.60.\n",
    "\n",
    "_To earn a score of 3 for this part, get an ROC AUC test score >= 0.70._\n",
    "\n",
    "\n",
    "### Part 3: Visualization\n",
    "\n",
    "Make one visualization for model interpretation. (You may use any libraries.) Choose one of these types:\n",
    "- Feature Importances\n",
    "- Permutation Importances\n",
    "- Partial Dependence Plot\n",
    "\n",
    "_To earn a score of 3 for this part, make at least two of these visualization types._"
   ]
  },
  {
   "cell_type": "code",
   "execution_count": 2,
   "metadata": {},
   "outputs": [
    {
     "data": {
      "text/html": [
       "<div>\n",
       "<style scoped>\n",
       "    .dataframe tbody tr th:only-of-type {\n",
       "        vertical-align: middle;\n",
       "    }\n",
       "\n",
       "    .dataframe tbody tr th {\n",
       "        vertical-align: top;\n",
       "    }\n",
       "\n",
       "    .dataframe thead th {\n",
       "        text-align: right;\n",
       "    }\n",
       "</style>\n",
       "<table border=\"1\" class=\"dataframe\">\n",
       "  <thead>\n",
       "    <tr style=\"text-align: right;\">\n",
       "      <th></th>\n",
       "      <th>Inspection ID</th>\n",
       "      <th>DBA Name</th>\n",
       "      <th>AKA Name</th>\n",
       "      <th>License #</th>\n",
       "      <th>Facility Type</th>\n",
       "      <th>Risk</th>\n",
       "      <th>Address</th>\n",
       "      <th>City</th>\n",
       "      <th>State</th>\n",
       "      <th>Zip</th>\n",
       "      <th>Inspection Date</th>\n",
       "      <th>Inspection Type</th>\n",
       "      <th>Violations</th>\n",
       "      <th>Latitude</th>\n",
       "      <th>Longitude</th>\n",
       "      <th>Location</th>\n",
       "      <th>Fail</th>\n",
       "    </tr>\n",
       "  </thead>\n",
       "  <tbody>\n",
       "    <tr>\n",
       "      <th>0</th>\n",
       "      <td>2088270</td>\n",
       "      <td>TOM YUM RICE &amp; NOODLE, INC.</td>\n",
       "      <td>TOM YUM CAFE</td>\n",
       "      <td>2354911.0</td>\n",
       "      <td>Restaurant</td>\n",
       "      <td>Risk 1 (High)</td>\n",
       "      <td>608 W BARRY</td>\n",
       "      <td>CHICAGO</td>\n",
       "      <td>IL</td>\n",
       "      <td>60657.0</td>\n",
       "      <td>2017-09-15T00:00:00</td>\n",
       "      <td>Canvass</td>\n",
       "      <td>3. POTENTIALLY HAZARDOUS FOOD MEETS TEMPERATUR...</td>\n",
       "      <td>41.938007</td>\n",
       "      <td>-87.644755</td>\n",
       "      <td>{'longitude': '-87.6447545707008', 'latitude':...</td>\n",
       "      <td>1</td>\n",
       "    </tr>\n",
       "    <tr>\n",
       "      <th>1</th>\n",
       "      <td>555268</td>\n",
       "      <td>FILLING STATION  &amp; CONVENIENCE  STORE</td>\n",
       "      <td>FILLING STATION  &amp; CONVENIENCE  STORE</td>\n",
       "      <td>1044901.0</td>\n",
       "      <td>Grocery Store</td>\n",
       "      <td>Risk 3 (Low)</td>\n",
       "      <td>6646-6658 S WESTERN AVE</td>\n",
       "      <td>CHICAGO</td>\n",
       "      <td>IL</td>\n",
       "      <td>60636.0</td>\n",
       "      <td>2011-10-20T00:00:00</td>\n",
       "      <td>Complaint Re-Inspection</td>\n",
       "      <td>32. FOOD AND NON-FOOD CONTACT SURFACES PROPERL...</td>\n",
       "      <td>41.772402</td>\n",
       "      <td>-87.683603</td>\n",
       "      <td>{'longitude': '-87.68360273081268', 'latitude'...</td>\n",
       "      <td>0</td>\n",
       "    </tr>\n",
       "    <tr>\n",
       "      <th>2</th>\n",
       "      <td>1751394</td>\n",
       "      <td>A P DELI</td>\n",
       "      <td>A P DELI</td>\n",
       "      <td>47405.0</td>\n",
       "      <td>Restaurant</td>\n",
       "      <td>Risk 1 (High)</td>\n",
       "      <td>2025 E 75TH ST</td>\n",
       "      <td>CHICAGO</td>\n",
       "      <td>IL</td>\n",
       "      <td>60649.0</td>\n",
       "      <td>2016-04-05T00:00:00</td>\n",
       "      <td>Canvass Re-Inspection</td>\n",
       "      <td>35. WALLS, CEILINGS, ATTACHED EQUIPMENT CONSTR...</td>\n",
       "      <td>41.758779</td>\n",
       "      <td>-87.575054</td>\n",
       "      <td>{'longitude': '-87.57505446746121', 'latitude'...</td>\n",
       "      <td>0</td>\n",
       "    </tr>\n",
       "    <tr>\n",
       "      <th>3</th>\n",
       "      <td>1763905</td>\n",
       "      <td>FRANK'S CHICAGO SHRIMP HOUSE</td>\n",
       "      <td>FRANK'S CHICAGO SHRIMP HOUSE</td>\n",
       "      <td>6414.0</td>\n",
       "      <td>Restaurant</td>\n",
       "      <td>Risk 2 (Medium)</td>\n",
       "      <td>4459 S ARCHER AVE</td>\n",
       "      <td>CHICAGO</td>\n",
       "      <td>IL</td>\n",
       "      <td>60632.0</td>\n",
       "      <td>2016-04-29T00:00:00</td>\n",
       "      <td>Canvass</td>\n",
       "      <td>38. VENTILATION: ROOMS AND EQUIPMENT VENTED AS...</td>\n",
       "      <td>41.812181</td>\n",
       "      <td>-87.707125</td>\n",
       "      <td>{'longitude': '-87.70712481334274', 'latitude'...</td>\n",
       "      <td>0</td>\n",
       "    </tr>\n",
       "    <tr>\n",
       "      <th>4</th>\n",
       "      <td>453326</td>\n",
       "      <td>MORRILL</td>\n",
       "      <td>MORRILL</td>\n",
       "      <td>24571.0</td>\n",
       "      <td>School</td>\n",
       "      <td>Risk 1 (High)</td>\n",
       "      <td>6011 S Rockwell (2600W) AVE</td>\n",
       "      <td>CHICAGO</td>\n",
       "      <td>IL</td>\n",
       "      <td>60629.0</td>\n",
       "      <td>2011-01-10T00:00:00</td>\n",
       "      <td>Canvass</td>\n",
       "      <td>34. FLOORS: CONSTRUCTED PER CODE, CLEANED, GOO...</td>\n",
       "      <td>NaN</td>\n",
       "      <td>NaN</td>\n",
       "      <td>NaN</td>\n",
       "      <td>0</td>\n",
       "    </tr>\n",
       "  </tbody>\n",
       "</table>\n",
       "</div>"
      ],
      "text/plain": [
       "   Inspection ID                               DBA Name  \\\n",
       "0        2088270            TOM YUM RICE & NOODLE, INC.   \n",
       "1         555268  FILLING STATION  & CONVENIENCE  STORE   \n",
       "2        1751394                               A P DELI   \n",
       "3        1763905           FRANK'S CHICAGO SHRIMP HOUSE   \n",
       "4         453326                                MORRILL   \n",
       "\n",
       "                                AKA Name  License #  Facility Type  \\\n",
       "0                           TOM YUM CAFE  2354911.0     Restaurant   \n",
       "1  FILLING STATION  & CONVENIENCE  STORE  1044901.0  Grocery Store   \n",
       "2                               A P DELI    47405.0     Restaurant   \n",
       "3           FRANK'S CHICAGO SHRIMP HOUSE     6414.0     Restaurant   \n",
       "4                                MORRILL    24571.0         School   \n",
       "\n",
       "              Risk                       Address     City State      Zip  \\\n",
       "0    Risk 1 (High)                  608 W BARRY   CHICAGO    IL  60657.0   \n",
       "1     Risk 3 (Low)      6646-6658 S WESTERN AVE   CHICAGO    IL  60636.0   \n",
       "2    Risk 1 (High)               2025 E 75TH ST   CHICAGO    IL  60649.0   \n",
       "3  Risk 2 (Medium)            4459 S ARCHER AVE   CHICAGO    IL  60632.0   \n",
       "4    Risk 1 (High)  6011 S Rockwell (2600W) AVE   CHICAGO    IL  60629.0   \n",
       "\n",
       "       Inspection Date          Inspection Type  \\\n",
       "0  2017-09-15T00:00:00                  Canvass   \n",
       "1  2011-10-20T00:00:00  Complaint Re-Inspection   \n",
       "2  2016-04-05T00:00:00    Canvass Re-Inspection   \n",
       "3  2016-04-29T00:00:00                  Canvass   \n",
       "4  2011-01-10T00:00:00                  Canvass   \n",
       "\n",
       "                                          Violations   Latitude  Longitude  \\\n",
       "0  3. POTENTIALLY HAZARDOUS FOOD MEETS TEMPERATUR...  41.938007 -87.644755   \n",
       "1  32. FOOD AND NON-FOOD CONTACT SURFACES PROPERL...  41.772402 -87.683603   \n",
       "2  35. WALLS, CEILINGS, ATTACHED EQUIPMENT CONSTR...  41.758779 -87.575054   \n",
       "3  38. VENTILATION: ROOMS AND EQUIPMENT VENTED AS...  41.812181 -87.707125   \n",
       "4  34. FLOORS: CONSTRUCTED PER CODE, CLEANED, GOO...        NaN        NaN   \n",
       "\n",
       "                                            Location  Fail  \n",
       "0  {'longitude': '-87.6447545707008', 'latitude':...     1  \n",
       "1  {'longitude': '-87.68360273081268', 'latitude'...     0  \n",
       "2  {'longitude': '-87.57505446746121', 'latitude'...     0  \n",
       "3  {'longitude': '-87.70712481334274', 'latitude'...     0  \n",
       "4                                                NaN     0  "
      ]
     },
     "execution_count": 2,
     "metadata": {},
     "output_type": "execute_result"
    }
   ],
   "source": [
    "train.head()"
   ]
  },
  {
   "cell_type": "code",
   "execution_count": 3,
   "metadata": {},
   "outputs": [],
   "source": [
    "import random\n",
    "import datetime\n",
    "\n",
    "maps = {}\n",
    "\n",
    "train = train.drop(columns=[\"Inspection ID\", \"DBA Name\", \"AKA Name\", \"License #\", \"Address\", \"Location\", \"Violations\"])\n",
    "cols = [\"Facility Type\", \"Risk\", \"City\", \"State\", \"Zip\", \"Inspection Type\"]\n",
    "for c in cols:\n",
    "    maps[c] = {}\n",
    "    for v in train[c].astype('category').cat.categories:\n",
    "        maps[c][v] = random.uniform(0.0, 1.0)\n",
    "    maps[c][None] = -1.0\n",
    "    train[c] = train[c].apply(lambda x: maps[c].get(x, maps[c][None]))\n",
    "train[\"Inspection Date\"] = pd.to_numeric(pd.to_datetime(train[\"Inspection Date\"]))\n",
    "lat_min = train[\"Latitude\"].min() - 1.0\n",
    "long_min = train[\"Longitude\"].min() - 1.0\n",
    "train[\"Latitude\"] = train[\"Latitude\"].fillna(lat_min)\n",
    "train[\"Longitude\"] = train[\"Longitude\"].fillna(long_min)\n",
    "\n",
    "test = test.drop(columns=[\"Inspection ID\", \"DBA Name\", \"AKA Name\", \"License #\", \"Address\", \"Location\", \"Violations\"])\n",
    "cols = [\"Facility Type\", \"Risk\", \"City\", \"State\", \"Zip\", \"Inspection Type\"]\n",
    "for c in cols:\n",
    "    test[c] = test[c].apply(lambda x: maps[c].get(x, maps[c][None]))\n",
    "test[\"Inspection Date\"] = pd.to_numeric(pd.to_datetime(test[\"Inspection Date\"]))\n",
    "test[\"Latitude\"] = test[\"Latitude\"].fillna(lat_min)\n",
    "test[\"Longitude\"] = test[\"Longitude\"].fillna(long_min)"
   ]
  },
  {
   "cell_type": "code",
   "execution_count": 4,
   "metadata": {},
   "outputs": [
    {
     "data": {
      "text/html": [
       "<div>\n",
       "<style scoped>\n",
       "    .dataframe tbody tr th:only-of-type {\n",
       "        vertical-align: middle;\n",
       "    }\n",
       "\n",
       "    .dataframe tbody tr th {\n",
       "        vertical-align: top;\n",
       "    }\n",
       "\n",
       "    .dataframe thead th {\n",
       "        text-align: right;\n",
       "    }\n",
       "</style>\n",
       "<table border=\"1\" class=\"dataframe\">\n",
       "  <thead>\n",
       "    <tr style=\"text-align: right;\">\n",
       "      <th></th>\n",
       "      <th>Facility Type</th>\n",
       "      <th>Risk</th>\n",
       "      <th>City</th>\n",
       "      <th>State</th>\n",
       "      <th>Zip</th>\n",
       "      <th>Inspection Date</th>\n",
       "      <th>Inspection Type</th>\n",
       "      <th>Latitude</th>\n",
       "      <th>Longitude</th>\n",
       "      <th>Fail</th>\n",
       "    </tr>\n",
       "  </thead>\n",
       "  <tbody>\n",
       "    <tr>\n",
       "      <th>0</th>\n",
       "      <td>0.701935</td>\n",
       "      <td>0.561850</td>\n",
       "      <td>0.905688</td>\n",
       "      <td>0.656862</td>\n",
       "      <td>0.313564</td>\n",
       "      <td>1505433600000000000</td>\n",
       "      <td>0.555830</td>\n",
       "      <td>41.938007</td>\n",
       "      <td>-87.644755</td>\n",
       "      <td>1</td>\n",
       "    </tr>\n",
       "    <tr>\n",
       "      <th>1</th>\n",
       "      <td>0.114203</td>\n",
       "      <td>0.317772</td>\n",
       "      <td>0.905688</td>\n",
       "      <td>0.656862</td>\n",
       "      <td>0.318829</td>\n",
       "      <td>1319068800000000000</td>\n",
       "      <td>0.620661</td>\n",
       "      <td>41.772402</td>\n",
       "      <td>-87.683603</td>\n",
       "      <td>0</td>\n",
       "    </tr>\n",
       "    <tr>\n",
       "      <th>2</th>\n",
       "      <td>0.701935</td>\n",
       "      <td>0.561850</td>\n",
       "      <td>0.905688</td>\n",
       "      <td>0.656862</td>\n",
       "      <td>0.133440</td>\n",
       "      <td>1459814400000000000</td>\n",
       "      <td>0.885769</td>\n",
       "      <td>41.758779</td>\n",
       "      <td>-87.575054</td>\n",
       "      <td>0</td>\n",
       "    </tr>\n",
       "    <tr>\n",
       "      <th>3</th>\n",
       "      <td>0.701935</td>\n",
       "      <td>0.096585</td>\n",
       "      <td>0.905688</td>\n",
       "      <td>0.656862</td>\n",
       "      <td>0.967941</td>\n",
       "      <td>1461888000000000000</td>\n",
       "      <td>0.555830</td>\n",
       "      <td>41.812181</td>\n",
       "      <td>-87.707125</td>\n",
       "      <td>0</td>\n",
       "    </tr>\n",
       "    <tr>\n",
       "      <th>4</th>\n",
       "      <td>0.762864</td>\n",
       "      <td>0.561850</td>\n",
       "      <td>0.905688</td>\n",
       "      <td>0.656862</td>\n",
       "      <td>0.469302</td>\n",
       "      <td>1294617600000000000</td>\n",
       "      <td>0.555830</td>\n",
       "      <td>40.644670</td>\n",
       "      <td>-88.914428</td>\n",
       "      <td>0</td>\n",
       "    </tr>\n",
       "  </tbody>\n",
       "</table>\n",
       "</div>"
      ],
      "text/plain": [
       "   Facility Type      Risk      City     State       Zip      Inspection Date  \\\n",
       "0       0.701935  0.561850  0.905688  0.656862  0.313564  1505433600000000000   \n",
       "1       0.114203  0.317772  0.905688  0.656862  0.318829  1319068800000000000   \n",
       "2       0.701935  0.561850  0.905688  0.656862  0.133440  1459814400000000000   \n",
       "3       0.701935  0.096585  0.905688  0.656862  0.967941  1461888000000000000   \n",
       "4       0.762864  0.561850  0.905688  0.656862  0.469302  1294617600000000000   \n",
       "\n",
       "   Inspection Type   Latitude  Longitude  Fail  \n",
       "0         0.555830  41.938007 -87.644755     1  \n",
       "1         0.620661  41.772402 -87.683603     0  \n",
       "2         0.885769  41.758779 -87.575054     0  \n",
       "3         0.555830  41.812181 -87.707125     0  \n",
       "4         0.555830  40.644670 -88.914428     0  "
      ]
     },
     "execution_count": 4,
     "metadata": {},
     "output_type": "execute_result"
    }
   ],
   "source": [
    "train.head()"
   ]
  },
  {
   "cell_type": "code",
   "execution_count": 5,
   "metadata": {},
   "outputs": [
    {
     "data": {
      "text/html": [
       "<div>\n",
       "<style scoped>\n",
       "    .dataframe tbody tr th:only-of-type {\n",
       "        vertical-align: middle;\n",
       "    }\n",
       "\n",
       "    .dataframe tbody tr th {\n",
       "        vertical-align: top;\n",
       "    }\n",
       "\n",
       "    .dataframe thead th {\n",
       "        text-align: right;\n",
       "    }\n",
       "</style>\n",
       "<table border=\"1\" class=\"dataframe\">\n",
       "  <thead>\n",
       "    <tr style=\"text-align: right;\">\n",
       "      <th></th>\n",
       "      <th>Facility Type</th>\n",
       "      <th>Risk</th>\n",
       "      <th>City</th>\n",
       "      <th>State</th>\n",
       "      <th>Zip</th>\n",
       "      <th>Inspection Date</th>\n",
       "      <th>Inspection Type</th>\n",
       "      <th>Latitude</th>\n",
       "      <th>Longitude</th>\n",
       "      <th>Fail</th>\n",
       "    </tr>\n",
       "  </thead>\n",
       "  <tbody>\n",
       "    <tr>\n",
       "      <th>0</th>\n",
       "      <td>0.114203</td>\n",
       "      <td>0.096585</td>\n",
       "      <td>0.905688</td>\n",
       "      <td>0.656862</td>\n",
       "      <td>0.748875</td>\n",
       "      <td>1300752000000000000</td>\n",
       "      <td>0.555830</td>\n",
       "      <td>41.874481</td>\n",
       "      <td>-87.629357</td>\n",
       "      <td>0</td>\n",
       "    </tr>\n",
       "    <tr>\n",
       "      <th>1</th>\n",
       "      <td>0.701935</td>\n",
       "      <td>0.561850</td>\n",
       "      <td>0.905688</td>\n",
       "      <td>0.656862</td>\n",
       "      <td>0.522921</td>\n",
       "      <td>1442275200000000000</td>\n",
       "      <td>0.555830</td>\n",
       "      <td>41.844070</td>\n",
       "      <td>-87.729807</td>\n",
       "      <td>0</td>\n",
       "    </tr>\n",
       "    <tr>\n",
       "      <th>2</th>\n",
       "      <td>0.701935</td>\n",
       "      <td>0.561850</td>\n",
       "      <td>0.905688</td>\n",
       "      <td>0.656862</td>\n",
       "      <td>0.202949</td>\n",
       "      <td>1330646400000000000</td>\n",
       "      <td>0.555830</td>\n",
       "      <td>41.925128</td>\n",
       "      <td>-87.662041</td>\n",
       "      <td>0</td>\n",
       "    </tr>\n",
       "    <tr>\n",
       "      <th>3</th>\n",
       "      <td>0.701935</td>\n",
       "      <td>0.561850</td>\n",
       "      <td>0.905688</td>\n",
       "      <td>0.656862</td>\n",
       "      <td>0.615162</td>\n",
       "      <td>1475539200000000000</td>\n",
       "      <td>0.885769</td>\n",
       "      <td>41.869546</td>\n",
       "      <td>-87.655501</td>\n",
       "      <td>1</td>\n",
       "    </tr>\n",
       "    <tr>\n",
       "      <th>4</th>\n",
       "      <td>0.762864</td>\n",
       "      <td>0.096585</td>\n",
       "      <td>0.905688</td>\n",
       "      <td>0.656862</td>\n",
       "      <td>0.859355</td>\n",
       "      <td>1460073600000000000</td>\n",
       "      <td>0.555830</td>\n",
       "      <td>41.743933</td>\n",
       "      <td>-87.599291</td>\n",
       "      <td>1</td>\n",
       "    </tr>\n",
       "  </tbody>\n",
       "</table>\n",
       "</div>"
      ],
      "text/plain": [
       "   Facility Type      Risk      City     State       Zip      Inspection Date  \\\n",
       "0       0.114203  0.096585  0.905688  0.656862  0.748875  1300752000000000000   \n",
       "1       0.701935  0.561850  0.905688  0.656862  0.522921  1442275200000000000   \n",
       "2       0.701935  0.561850  0.905688  0.656862  0.202949  1330646400000000000   \n",
       "3       0.701935  0.561850  0.905688  0.656862  0.615162  1475539200000000000   \n",
       "4       0.762864  0.096585  0.905688  0.656862  0.859355  1460073600000000000   \n",
       "\n",
       "   Inspection Type   Latitude  Longitude  Fail  \n",
       "0         0.555830  41.874481 -87.629357     0  \n",
       "1         0.555830  41.844070 -87.729807     0  \n",
       "2         0.555830  41.925128 -87.662041     0  \n",
       "3         0.885769  41.869546 -87.655501     1  \n",
       "4         0.555830  41.743933 -87.599291     1  "
      ]
     },
     "execution_count": 5,
     "metadata": {},
     "output_type": "execute_result"
    }
   ],
   "source": [
    "test.head()"
   ]
  },
  {
   "cell_type": "code",
   "execution_count": 6,
   "metadata": {},
   "outputs": [],
   "source": [
    "from sklearn.tree import DecisionTreeClassifier\n",
    "from sklearn.metrics import roc_auc_score\n",
    "from sklearn import tree"
   ]
  },
  {
   "cell_type": "code",
   "execution_count": 7,
   "metadata": {},
   "outputs": [
    {
     "name": "stdout",
     "output_type": "stream",
     "text": [
      "0.6030092360985027\n"
     ]
    }
   ],
   "source": [
    "dec_cols = [c for c in train if c != \"Fail\"]\n",
    "model = DecisionTreeClassifier().fit(train[dec_cols], train[\"Fail\"])\n",
    "print(roc_auc_score(test[\"Fail\"], model.predict_proba(test[dec_cols])[:,1]))"
   ]
  },
  {
   "cell_type": "code",
   "execution_count": 8,
   "metadata": {},
   "outputs": [
    {
     "name": "stdout",
     "output_type": "stream",
     "text": [
      "1 0.6089101334103116\n",
      "2 0.6628878819583681\n",
      "3 0.6745003742246105\n",
      "4 0.688097732925975\n",
      "5 0.691317092115856\n",
      "6 0.6955561273783074\n",
      "7 0.7013838691123846\n",
      "8 0.7014059873325296\n",
      "9 0.6973504549256362\n",
      "10 0.6933519422453216\n"
     ]
    }
   ],
   "source": [
    "for i in range(1, 10+1):\n",
    "    model = DecisionTreeClassifier(max_depth=i).fit(train[dec_cols], train[\"Fail\"])\n",
    "    print(i, roc_auc_score(test[\"Fail\"], model.predict_proba(test[dec_cols])[:,1]))"
   ]
  },
  {
   "cell_type": "code",
   "execution_count": 9,
   "metadata": {},
   "outputs": [],
   "source": [
    "from sklearn.ensemble import RandomForestClassifier"
   ]
  },
  {
   "cell_type": "code",
   "execution_count": 10,
   "metadata": {},
   "outputs": [
    {
     "name": "stdout",
     "output_type": "stream",
     "text": [
      "NULL 0.7293136603085492\n",
      "2 0.6885277842724651\n",
      "4 0.7017581372627135\n",
      "6 0.7098777097540916\n",
      "8 0.7180049539588349\n",
      "10 0.72666214723507\n",
      "12 0.734669535068917\n",
      "14 0.7424790606200329\n",
      "16 0.743412519173841\n",
      "18 0.7442243362248117\n",
      "20 0.7410981522142819\n",
      "22 0.7392960310421383\n",
      "24 0.7373920963936416\n",
      "26 0.7342954236618804\n",
      "28 0.7320048381429578\n",
      "30 0.7314672434819826\n"
     ]
    }
   ],
   "source": [
    "model = RandomForestClassifier(n_estimators=100, n_jobs=-1).fit(train[dec_cols], train[\"Fail\"])\n",
    "print(\"NULL\", roc_auc_score(test[\"Fail\"], model.predict_proba(test[dec_cols])[:,1]))\n",
    "for i in range(2, 30+1, 2):\n",
    "    model = RandomForestClassifier(max_depth=i, n_estimators=100, n_jobs=-1).fit(train[dec_cols], train[\"Fail\"])\n",
    "    print(i, roc_auc_score(test[\"Fail\"], model.predict_proba(test[dec_cols])[:,1]))"
   ]
  },
  {
   "cell_type": "code",
   "execution_count": 11,
   "metadata": {},
   "outputs": [],
   "source": [
    "from xgboost import XGBClassifier"
   ]
  },
  {
   "cell_type": "code",
   "execution_count": 12,
   "metadata": {},
   "outputs": [
    {
     "name": "stdout",
     "output_type": "stream",
     "text": [
      "NULL 0.717266013830854\n",
      "2 0.705078099522412\n",
      "4 0.7260213371160715\n",
      "6 0.7382359848638228\n",
      "8 0.7433376742517358\n",
      "10 0.7405447090648565\n",
      "12 0.7425175498062695\n",
      "14 0.7405116623540491\n",
      "16 0.7379924754511703\n",
      "18 0.7374496298899009\n",
      "20 0.7355219050928072\n"
     ]
    }
   ],
   "source": [
    "model = XGBClassifier(n_estimators=100, n_jobs=-1).fit(train[dec_cols], train[\"Fail\"])\n",
    "print(\"NULL\", roc_auc_score(test[\"Fail\"], model.predict_proba(test[dec_cols])[:,1]))\n",
    "for i in range(2, 20+1, 2):\n",
    "    model = XGBClassifier(max_depth=i, n_estimators=100, n_jobs=-1).fit(train[dec_cols], train[\"Fail\"])\n",
    "    print(i, roc_auc_score(test[\"Fail\"], model.predict_proba(test[dec_cols])[:,1]))"
   ]
  },
  {
   "cell_type": "code",
   "execution_count": 13,
   "metadata": {},
   "outputs": [
    {
     "name": "stdout",
     "output_type": "stream",
     "text": [
      "NULL 0.717266013830854\n",
      "2 0.705078099522412\n",
      "4 0.7260213371160715\n",
      "6 0.7382359848638228\n",
      "8 0.7433376742517358\n",
      "10 0.7405447090648565\n",
      "12 0.7425175498062695\n",
      "14 0.7405116623540491\n",
      "16 0.7379924754511703\n",
      "18 0.7374496298899009\n",
      "20 0.7355219050928072\n"
     ]
    }
   ],
   "source": [
    "model = XGBClassifier(booster='dart', n_estimators=100, n_jobs=-1).fit(train[dec_cols], train[\"Fail\"])\n",
    "print(\"NULL\", roc_auc_score(test[\"Fail\"], model.predict_proba(test[dec_cols])[:,1]))\n",
    "for i in range(2, 20+1, 2):\n",
    "    model = XGBClassifier(booster='dart', max_depth=i, n_estimators=100, n_jobs=-1).fit(train[dec_cols], train[\"Fail\"])\n",
    "    print(i, roc_auc_score(test[\"Fail\"], model.predict_proba(test[dec_cols])[:,1]))"
   ]
  },
  {
   "cell_type": "code",
   "execution_count": 14,
   "metadata": {},
   "outputs": [
    {
     "name": "stdout",
     "output_type": "stream",
     "text": [
      "0.7405447090648565\n"
     ]
    }
   ],
   "source": [
    "model = XGBClassifier(booster='dart', max_depth=10, n_estimators=100, n_jobs=-1).fit(train[dec_cols], train[\"Fail\"])\n",
    "print(roc_auc_score(test[\"Fail\"], model.predict_proba(test[dec_cols])[:,1]))"
   ]
  },
  {
   "cell_type": "code",
   "execution_count": 15,
   "metadata": {},
   "outputs": [],
   "source": [
    "import xgboost as xgb"
   ]
  },
  {
   "cell_type": "code",
   "execution_count": 16,
   "metadata": {},
   "outputs": [],
   "source": [
    "def modelfit(alg, dtrain, dtest, predictors, useTrainCV=True, cv_folds=5, early_stopping_rounds=50):\n",
    "    if useTrainCV:\n",
    "        xgb_param = alg.get_xgb_params()\n",
    "        xgtrain = xgb.DMatrix(dtrain[predictors].values, label=dtrain['Fail'].values)\n",
    "        cvresult = xgb.cv(xgb_param, xgtrain, num_boost_round=alg.get_params()['n_estimators'], nfold=cv_folds,\n",
    "            metrics='auc', early_stopping_rounds=early_stopping_rounds)\n",
    "        alg.set_params(n_estimators=cvresult.shape[0])\n",
    "    \n",
    "    #Fit the algorithm on the data\n",
    "    alg.fit(dtrain[predictors], dtrain['Fail'],eval_metric='auc')\n",
    "        \n",
    "    #Predict training set:\n",
    "    dtrain_predprob = alg.predict_proba(dtrain[predictors])[:,1]\n",
    "    dtest_predprob = alg.predict_proba(dtest[predictors])[:,1]\n",
    "        \n",
    "    #Print model report:\n",
    "    print(\"\\nModel Report\")\n",
    "    print(\"AUC Score (Train): {}\".format(roc_auc_score(dtrain['Fail'], dtrain_predprob)))\n",
    "    print(\"AUC Score (Test): {}\".format(roc_auc_score(dtest['Fail'], dtest_predprob)))\n",
    "    \n",
    "    return alg"
   ]
  },
  {
   "cell_type": "code",
   "execution_count": 17,
   "metadata": {},
   "outputs": [
    {
     "name": "stdout",
     "output_type": "stream",
     "text": [
      "\n",
      "Model Report\n",
      "AUC Score (Train): 0.8799684225033522\n",
      "AUC Score (Test): 0.7405447090648565\n"
     ]
    }
   ],
   "source": [
    "train[\"Fail\"] = train[\"Fail\"].astype(bool)\n",
    "test[\"Fail\"] = test[\"Fail\"].astype(bool)\n",
    "\n",
    "xgb1 = XGBClassifier(\n",
    "    booster='dart',\n",
    "    n_estimators=100,\n",
    "    max_depth=10,\n",
    "    objective= 'binary:logistic',\n",
    "    n_jobs=-1,\n",
    "    seed=27\n",
    ")\n",
    "model = modelfit(xgb1, train, test, dec_cols)"
   ]
  },
  {
   "cell_type": "code",
   "execution_count": 18,
   "metadata": {},
   "outputs": [],
   "source": [
    "import matplotlib.pyplot as plt"
   ]
  },
  {
   "cell_type": "code",
   "execution_count": 19,
   "metadata": {},
   "outputs": [
    {
     "data": {
      "image/png": "[encoded data removed]",
      "text/plain": [
       "<Figure size 432x288 with 1 Axes>"
      ]
     },
     "metadata": {
      "needs_background": "light"
     },
     "output_type": "display_data"
    }
   ],
   "source": [
    "importances = sorted([(model.feature_importances_[i], dec_cols[i]) for i in range(len(dec_cols))])\n",
    "\n",
    "plt.barh([i+1 for i in range(len(dec_cols))], [i[0] for i in importances])\n",
    "plt.yticks([i+1 for i in range(len(dec_cols))], [i[1] for i in importances])\n",
    "plt.title(\"Feature Importances\")\n",
    "plt.show()"
   ]
  },
  {
   "cell_type": "code",
   "execution_count": 20,
   "metadata": {},
   "outputs": [],
   "source": [
    "import eli5\n",
    "from eli5.sklearn import PermutationImportance"
   ]
  },
  {
   "cell_type": "code",
   "execution_count": 22,
   "metadata": {},
   "outputs": [
    {
     "name": "stdout",
     "output_type": "stream",
     "text": [
      "\n",
      "Model Report\n",
      "AUC Score (Train): 0.8799684225033522\n",
      "AUC Score (Test): 0.7405447090648565\n"
     ]
    },
    {
     "data": {
      "image/png": "[encoded data removed]",
      "text/plain": [
       "<Figure size 432x288 with 1 Axes>"
      ]
     },
     "metadata": {
      "needs_background": "light"
     },
     "output_type": "display_data"
    }
   ],
   "source": [
    "cols = [\"f{}\".format(i) for i in range(len(dec_cols))]\n",
    "train[cols] = train[dec_cols]\n",
    "test[cols] = test[dec_cols]\n",
    "model = modelfit(xgb1, train, test, cols)\n",
    "perm = PermutationImportance(model, random_state=1).fit(train[cols], train[\"Fail\"])\n",
    "importances = sorted([(r, dec_cols[i]) for i, r in enumerate(perm.feature_importances_)])\n",
    "\n",
    "plt.barh([i+1 for i in range(len(dec_cols))], [i[0] for i in importances])\n",
    "plt.yticks([i+1 for i in range(len(dec_cols))], [i[1] for i in importances])\n",
    "plt.title(\"Permutation Importances\")\n",
    "plt.show()"
   ]
  },
  {
   "cell_type": "code",
   "execution_count": null,
   "metadata": {},
   "outputs": [],
   "source": []
  }
 ],
 "metadata": {
  "kernelspec": {
   "display_name": "Python 3",
   "language": "python",
   "name": "python3"
  },
  "language_info": {
   "codemirror_mode": {
    "name": "ipython",
    "version": 3
   },
   "file_extension": ".py",
   "mimetype": "text/x-python",
   "name": "python",
   "nbconvert_exporter": "python",
   "pygments_lexer": "ipython3",
   "version": "3.7.1"
  }
 },
 "nbformat": 4,
 "nbformat_minor": 2
}

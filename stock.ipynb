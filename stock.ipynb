{
  "nbformat": 4,
  "nbformat_minor": 0,
  "metadata": {
    "colab": {
      "name": "stock.ipynb",
      "version": "0.3.2",
      "provenance": [],
      "include_colab_link": true
    },
    "kernelspec": {
      "name": "python3",
      "display_name": "Python 3"
    }
  },
  "cells": [
    {
      "cell_type": "markdown",
      "metadata": {
        "id": "view-in-github",
        "colab_type": "text"
      },
      "source": [
        "<a href=\"https://colab.research.google.com/github/derek-shing/DS-Unit-4-Sprint-1-Tree-Ensembles/blob/master/stock.ipynb\" target=\"_parent\"><img src=\"https://colab.research.google.com/assets/colab-badge.svg\" alt=\"Open In Colab\"/></a>"
      ]
    },
    {
      "metadata": {
        "id": "mO8JkAyHHsgg",
        "colab_type": "text"
      },
      "cell_type": "markdown",
      "source": [
        "Get stock market info\n",
        "\n",
        "Perform technical anaylsis\n",
        "\n",
        "Get company info\n",
        "\n",
        "get stock news - analsysi opinal\n",
        "\n",
        "\n",
        "classifiy buy, sell , natural\n",
        "\n"
      ]
    },
    {
      "metadata": {
        "id": "B-YsRcXwHoaV",
        "colab_type": "code",
        "colab": {}
      },
      "cell_type": "code",
      "source": [
        "import pandas as pd\n",
        "import requests\n",
        "import json"
      ],
      "execution_count": 0,
      "outputs": []
    },
    {
      "metadata": {
        "id": "gTuF55FWOo5P",
        "colab_type": "code",
        "colab": {}
      },
      "cell_type": "code",
      "source": [
        "url = 'https://www.alphavantage.co/query?function=TIME_SERIES_DAILY&symbol=MSFT&interval=5min&outputsize=full&apikey=NXAA2P2XI1GQSYPG'"
      ],
      "execution_count": 0,
      "outputs": []
    },
    {
      "metadata": {
        "id": "mPitYkkuawVo",
        "colab_type": "code",
        "colab": {}
      },
      "cell_type": "code",
      "source": [
        "#SMA Example\n",
        "\n",
        "sma = 'https://www.alphavantage.co/query?function=SMA&symbol=MSFT&interval=daily&time_period=10&series_type=open&apikey=NXAA2P2XI1GQSYPG'\n",
        "response = requests.get(sma)"
      ],
      "execution_count": 0,
      "outputs": []
    },
    {
      "metadata": {
        "id": "mf65QXl8b-Vh",
        "colab_type": "code",
        "colab": {}
      },
      "cell_type": "code",
      "source": [
        "sma_data =response.json()"
      ],
      "execution_count": 0,
      "outputs": []
    },
    {
      "metadata": {
        "id": "8SNY8BjwcDDw",
        "colab_type": "code",
        "colab": {}
      },
      "cell_type": "code",
      "source": [
        "sma_data = sma_data['Technical Analysis: SMA']"
      ],
      "execution_count": 0,
      "outputs": []
    },
    {
      "metadata": {
        "id": "quEYDDL5ccDl",
        "colab_type": "code",
        "colab": {}
      },
      "cell_type": "code",
      "source": [
        "df_sma = pd.DataFrame.from_dict(sma_data).T"
      ],
      "execution_count": 0,
      "outputs": []
    },
    {
      "metadata": {
        "id": "DNIYp90Jcp0H",
        "colab_type": "code",
        "colab": {
          "base_uri": "https://localhost:8080/",
          "height": 204
        },
        "outputId": "32e904de-05ef-424b-c3ec-25cec55a1ad0"
      },
      "cell_type": "code",
      "source": [
        "df_sma.head()"
      ],
      "execution_count": 53,
      "outputs": [
        {
          "output_type": "execute_result",
          "data": {
            "text/html": [
              "<div>\n",
              "<style scoped>\n",
              "    .dataframe tbody tr th:only-of-type {\n",
              "        vertical-align: middle;\n",
              "    }\n",
              "\n",
              "    .dataframe tbody tr th {\n",
              "        vertical-align: top;\n",
              "    }\n",
              "\n",
              "    .dataframe thead th {\n",
              "        text-align: right;\n",
              "    }\n",
              "</style>\n",
              "<table border=\"1\" class=\"dataframe\">\n",
              "  <thead>\n",
              "    <tr style=\"text-align: right;\">\n",
              "      <th></th>\n",
              "      <th>SMA</th>\n",
              "    </tr>\n",
              "  </thead>\n",
              "  <tbody>\n",
              "    <tr>\n",
              "      <th>2019-04-23 16:00:01</th>\n",
              "      <td>121.2300</td>\n",
              "    </tr>\n",
              "    <tr>\n",
              "      <th>2019-04-22</th>\n",
              "      <td>120.8010</td>\n",
              "    </tr>\n",
              "    <tr>\n",
              "      <th>2019-04-18</th>\n",
              "      <td>120.4780</td>\n",
              "    </tr>\n",
              "    <tr>\n",
              "      <th>2019-04-17</th>\n",
              "      <td>120.2690</td>\n",
              "    </tr>\n",
              "    <tr>\n",
              "      <th>2019-04-16</th>\n",
              "      <td>120.1310</td>\n",
              "    </tr>\n",
              "  </tbody>\n",
              "</table>\n",
              "</div>"
            ],
            "text/plain": [
              "                          SMA\n",
              "2019-04-23 16:00:01  121.2300\n",
              "2019-04-22           120.8010\n",
              "2019-04-18           120.4780\n",
              "2019-04-17           120.2690\n",
              "2019-04-16           120.1310"
            ]
          },
          "metadata": {
            "tags": []
          },
          "execution_count": 53
        }
      ]
    },
    {
      "metadata": {
        "id": "0vLxr_YEdZ6K",
        "colab_type": "code",
        "colab": {}
      },
      "cell_type": "code",
      "source": [
        "# This API returns the moving average convergence / divergence (MACD) values. See also: Investopedia article and mathematical reference.\n",
        "\n",
        "macd = 'https://www.alphavantage.co/query?function=MACD&symbol=MSFT&interval=daily&series_type=open&apikey=NXAA2P2XI1GQSYPG'\n",
        "response = requests.get(macd)\n",
        "df_macd = pd.DataFrame.from_dict(response.json()['Technical Analysis: MACD']).T"
      ],
      "execution_count": 0,
      "outputs": []
    },
    {
      "metadata": {
        "id": "Gc0iCd06eQc2",
        "colab_type": "code",
        "colab": {
          "base_uri": "https://localhost:8080/",
          "height": 204
        },
        "outputId": "d6dc4804-2d1a-4e46-91ed-a12da02e666e"
      },
      "cell_type": "code",
      "source": [
        "df_macd.head()"
      ],
      "execution_count": 62,
      "outputs": [
        {
          "output_type": "execute_result",
          "data": {
            "text/html": [
              "<div>\n",
              "<style scoped>\n",
              "    .dataframe tbody tr th:only-of-type {\n",
              "        vertical-align: middle;\n",
              "    }\n",
              "\n",
              "    .dataframe tbody tr th {\n",
              "        vertical-align: top;\n",
              "    }\n",
              "\n",
              "    .dataframe thead th {\n",
              "        text-align: right;\n",
              "    }\n",
              "</style>\n",
              "<table border=\"1\" class=\"dataframe\">\n",
              "  <thead>\n",
              "    <tr style=\"text-align: right;\">\n",
              "      <th></th>\n",
              "      <th>MACD</th>\n",
              "      <th>MACD_Hist</th>\n",
              "      <th>MACD_Signal</th>\n",
              "    </tr>\n",
              "  </thead>\n",
              "  <tbody>\n",
              "    <tr>\n",
              "      <th>2019-04-23 16:00:01</th>\n",
              "      <td>2.1351</td>\n",
              "      <td>0.0724</td>\n",
              "      <td>2.0627</td>\n",
              "    </tr>\n",
              "    <tr>\n",
              "      <th>2019-04-22</th>\n",
              "      <td>2.0164</td>\n",
              "      <td>-0.0281</td>\n",
              "      <td>2.0446</td>\n",
              "    </tr>\n",
              "    <tr>\n",
              "      <th>2019-04-18</th>\n",
              "      <td>1.9863</td>\n",
              "      <td>-0.0653</td>\n",
              "      <td>2.0516</td>\n",
              "    </tr>\n",
              "    <tr>\n",
              "      <th>2019-04-17</th>\n",
              "      <td>1.9628</td>\n",
              "      <td>-0.1051</td>\n",
              "      <td>2.0679</td>\n",
              "    </tr>\n",
              "    <tr>\n",
              "      <th>2019-04-16</th>\n",
              "      <td>2.0009</td>\n",
              "      <td>-0.0933</td>\n",
              "      <td>2.0942</td>\n",
              "    </tr>\n",
              "  </tbody>\n",
              "</table>\n",
              "</div>"
            ],
            "text/plain": [
              "                       MACD MACD_Hist MACD_Signal\n",
              "2019-04-23 16:00:01  2.1351    0.0724      2.0627\n",
              "2019-04-22           2.0164   -0.0281      2.0446\n",
              "2019-04-18           1.9863   -0.0653      2.0516\n",
              "2019-04-17           1.9628   -0.1051      2.0679\n",
              "2019-04-16           2.0009   -0.0933      2.0942"
            ]
          },
          "metadata": {
            "tags": []
          },
          "execution_count": 62
        }
      ]
    },
    {
      "metadata": {
        "id": "J8MIFBN_PJ0q",
        "colab_type": "code",
        "colab": {}
      },
      "cell_type": "code",
      "source": [
        "r = requests.get(url)"
      ],
      "execution_count": 0,
      "outputs": []
    },
    {
      "metadata": {
        "id": "jIVgt0tuPQw3",
        "colab_type": "code",
        "colab": {}
      },
      "cell_type": "code",
      "source": [
        "dir(r)"
      ],
      "execution_count": 0,
      "outputs": []
    },
    {
      "metadata": {
        "id": "mF38vPZfPSZD",
        "colab_type": "code",
        "colab": {}
      },
      "cell_type": "code",
      "source": [
        "json_data = json.loads(r.text)"
      ],
      "execution_count": 0,
      "outputs": []
    },
    {
      "metadata": {
        "id": "QrSpRHbgUpmT",
        "colab_type": "code",
        "colab": {
          "base_uri": "https://localhost:8080/",
          "height": 34
        },
        "outputId": "fdfaed23-876c-4512-9fac-b502e9bd06c6"
      },
      "cell_type": "code",
      "source": [
        "type(json_data)"
      ],
      "execution_count": 34,
      "outputs": [
        {
          "output_type": "execute_result",
          "data": {
            "text/plain": [
              "dict"
            ]
          },
          "metadata": {
            "tags": []
          },
          "execution_count": 34
        }
      ]
    },
    {
      "metadata": {
        "id": "WxNnKat-W3qd",
        "colab_type": "code",
        "colab": {}
      },
      "cell_type": "code",
      "source": [
        "json_data"
      ],
      "execution_count": 0,
      "outputs": []
    },
    {
      "metadata": {
        "id": "0BZ49FDXXcWJ",
        "colab_type": "code",
        "colab": {}
      },
      "cell_type": "code",
      "source": [
        "market_data = json_data['Time Series (Daily)']"
      ],
      "execution_count": 0,
      "outputs": []
    },
    {
      "metadata": {
        "id": "3I9xatiATuri",
        "colab_type": "code",
        "colab": {}
      },
      "cell_type": "code",
      "source": [
        "df = pd.DataFrame.from_dict(market_data).T"
      ],
      "execution_count": 0,
      "outputs": []
    },
    {
      "metadata": {
        "id": "soKm0-udUPDz",
        "colab_type": "code",
        "colab": {
          "base_uri": "https://localhost:8080/",
          "height": 204
        },
        "outputId": "c537bf5c-6d48-45d2-d9ae-c29779e5a101"
      },
      "cell_type": "code",
      "source": [
        "df.head()"
      ],
      "execution_count": 54,
      "outputs": [
        {
          "output_type": "execute_result",
          "data": {
            "text/html": [
              "<div>\n",
              "<style scoped>\n",
              "    .dataframe tbody tr th:only-of-type {\n",
              "        vertical-align: middle;\n",
              "    }\n",
              "\n",
              "    .dataframe tbody tr th {\n",
              "        vertical-align: top;\n",
              "    }\n",
              "\n",
              "    .dataframe thead th {\n",
              "        text-align: right;\n",
              "    }\n",
              "</style>\n",
              "<table border=\"1\" class=\"dataframe\">\n",
              "  <thead>\n",
              "    <tr style=\"text-align: right;\">\n",
              "      <th></th>\n",
              "      <th>1. open</th>\n",
              "      <th>2. high</th>\n",
              "      <th>3. low</th>\n",
              "      <th>4. close</th>\n",
              "      <th>5. volume</th>\n",
              "    </tr>\n",
              "  </thead>\n",
              "  <tbody>\n",
              "    <tr>\n",
              "      <th>2019-04-23</th>\n",
              "      <td>124.1000</td>\n",
              "      <td>125.5800</td>\n",
              "      <td>123.8400</td>\n",
              "      <td>125.4400</td>\n",
              "      <td>22292833</td>\n",
              "    </tr>\n",
              "    <tr>\n",
              "      <th>2019-04-22</th>\n",
              "      <td>122.6200</td>\n",
              "      <td>124.0000</td>\n",
              "      <td>122.5700</td>\n",
              "      <td>123.7600</td>\n",
              "      <td>15648724</td>\n",
              "    </tr>\n",
              "    <tr>\n",
              "      <th>2019-04-18</th>\n",
              "      <td>122.1900</td>\n",
              "      <td>123.5200</td>\n",
              "      <td>121.3018</td>\n",
              "      <td>123.3700</td>\n",
              "      <td>27990998</td>\n",
              "    </tr>\n",
              "    <tr>\n",
              "      <th>2019-04-17</th>\n",
              "      <td>121.2400</td>\n",
              "      <td>121.8500</td>\n",
              "      <td>120.5400</td>\n",
              "      <td>121.7700</td>\n",
              "      <td>19300938</td>\n",
              "    </tr>\n",
              "    <tr>\n",
              "      <th>2019-04-16</th>\n",
              "      <td>121.6400</td>\n",
              "      <td>121.6500</td>\n",
              "      <td>120.1000</td>\n",
              "      <td>120.7700</td>\n",
              "      <td>14071787</td>\n",
              "    </tr>\n",
              "  </tbody>\n",
              "</table>\n",
              "</div>"
            ],
            "text/plain": [
              "             1. open   2. high    3. low  4. close 5. volume\n",
              "2019-04-23  124.1000  125.5800  123.8400  125.4400  22292833\n",
              "2019-04-22  122.6200  124.0000  122.5700  123.7600  15648724\n",
              "2019-04-18  122.1900  123.5200  121.3018  123.3700  27990998\n",
              "2019-04-17  121.2400  121.8500  120.5400  121.7700  19300938\n",
              "2019-04-16  121.6400  121.6500  120.1000  120.7700  14071787"
            ]
          },
          "metadata": {
            "tags": []
          },
          "execution_count": 54
        }
      ]
    }
  ]
}
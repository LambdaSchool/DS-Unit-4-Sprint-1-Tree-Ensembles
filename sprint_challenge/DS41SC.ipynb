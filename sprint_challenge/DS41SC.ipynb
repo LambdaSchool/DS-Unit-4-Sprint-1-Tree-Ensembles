{
 "cells": [
  {
   "cell_type": "markdown",
   "metadata": {},
   "source": [
    "# Data Science Unit 4 Sprint Challenge 1 — Tree Ensembles"
   ]
  },
  {
   "cell_type": "markdown",
   "metadata": {},
   "source": [
    "### Chicago Food Inspections\n",
    "\n",
    "For this Sprint Challenge, you'll use a dataset with information from inspections of restaurants and other food establishments in Chicago from January 1, 2010 to the present. \n",
    "\n",
    "[See this PDF](https://data.cityofchicago.org/api/assets/BAD5301B-681A-4202-9D25-51B2CAE672FF) for descriptions of the data elements included in this dataset.\n",
    "\n",
    "According to [Chicago Department of Public Health — Food Protection Services](https://www.chicago.gov/city/en/depts/cdph/provdrs/healthy_restaurants/svcs/food-protection-services.html), \"Chicago is home to 16,000 food establishments like restaurants, grocery stores, bakeries, wholesalers, lunchrooms, mobile food vendors and more. Our business is food safety and sanitation with one goal, to prevent the spread of food-borne disease. We do this by inspecting food businesses, responding to complaints and food recalls.\" "
   ]
  },
  {
   "cell_type": "markdown",
   "metadata": {},
   "source": [
    "#### Your challenge: Predict whether inspections failed\n",
    "\n",
    "The target is the `Fail` column.\n",
    "\n",
    "- When the food establishment failed the inspection, the target is `1`.\n",
    "- When the establishment passed, the target is `0`."
   ]
  },
  {
   "cell_type": "markdown",
   "metadata": {},
   "source": [
    "#### Run this cell to load the data:"
   ]
  },
  {
   "cell_type": "code",
   "execution_count": 1,
   "metadata": {},
   "outputs": [],
   "source": [
    "import pandas as pd\n",
    "\n",
    "train_url = 'https://drive.google.com/uc?export=download&id=13_tP9JpLcZHSPVpWcua4t2rY44K_s4H5'\n",
    "test_url  = 'https://drive.google.com/uc?export=download&id=1GkDHjsiGrzOXoF_xcYjdzBTSjOIi3g5a'\n",
    "\n",
    "train = pd.read_csv(train_url)\n",
    "test  = pd.read_csv(test_url)\n",
    "\n",
    "assert train.shape == (51916, 17)\n",
    "assert test.shape  == (17306, 17)"
   ]
  },
  {
   "cell_type": "code",
   "execution_count": 2,
   "metadata": {},
   "outputs": [],
   "source": [
    "import numpy as np\n",
    "import seaborn as sns\n",
    "pd.set_option('display.max_rows', 500)\n",
    "pd.set_option('display.max_columns', 500)\n",
    "pd.set_option('display.width', 1000)"
   ]
  },
  {
   "cell_type": "markdown",
   "metadata": {},
   "source": [
    "### Part 1: Preprocessing\n",
    "\n",
    "You may choose which features you want to use, and whether/how you will preprocess them. You may use any tools and techniques for categorical encoding. (Pandas, category_encoders, sklearn.preprocessing, or any other library.)\n",
    "\n",
    "_To earn a score of 3 for this part, engineer new features, and use any alternative categorical encoding instead of One-Hot or Ordinal/Label encoding._\n",
    "\n",
    "### Part 2: Modeling\n",
    "\n",
    "Fit a Random Forest or Gradient Boosting model with the train set. (You may use scikit-learn, xgboost, or any other library.) Use cross-validation to estimate an ROC AUC validation score.\n",
    "\n",
    "Use your model to predict probabilities for the test set. Get an ROC AUC test score >= 0.60.\n",
    "\n",
    "_To earn a score of 3 for this part, get an ROC AUC test score >= 0.70._\n",
    "\n",
    "\n",
    "### Part 3: Visualization\n",
    "\n",
    "Make one visualization for model interpretation. (You may use any libraries.) Choose one of these types:\n",
    "- Feature Importances\n",
    "- Permutation Importances\n",
    "- Partial Dependence Plot\n",
    "\n",
    "_To earn a score of 3 for this part, make at least two of these visualization types._"
   ]
  },
  {
   "cell_type": "markdown",
   "metadata": {},
   "source": [
    "# Part 1: Preprocessing"
   ]
  },
  {
   "cell_type": "markdown",
   "metadata": {},
   "source": [
    "## Train Dataset\n",
    "**Note**: Will use encoder in pipeline in Part 2"
   ]
  },
  {
   "cell_type": "code",
   "execution_count": 3,
   "metadata": {},
   "outputs": [],
   "source": [
    "train1 = train.iloc[:,:-1].copy()\n",
    "y_train = train.iloc[:,-1].copy()\n",
    "test1 = test.iloc[:,:-1].copy()\n",
    "y_test = test.iloc[-1].copy()"
   ]
  },
  {
   "cell_type": "code",
   "execution_count": 4,
   "metadata": {},
   "outputs": [
    {
     "data": {
      "text/plain": [
       "Index(['Inspection ID', 'DBA Name', 'AKA Name', 'License #', 'Facility Type', 'Risk', 'Address', 'City', 'State', 'Zip', 'Inspection Date', 'Inspection Type', 'Violations', 'Latitude', 'Longitude', 'Location', 'Fail'], dtype='object')"
      ]
     },
     "execution_count": 4,
     "metadata": {},
     "output_type": "execute_result"
    }
   ],
   "source": [
    "train.columns"
   ]
  },
  {
   "cell_type": "code",
   "execution_count": 206,
   "metadata": {},
   "outputs": [
    {
     "data": {
      "text/plain": [
       "Index(['Inspection ID', 'DBA Name', 'AKA Name', 'License #', 'Facility Type', 'Risk', 'Address', 'City', 'State', 'Zip', 'Inspection Date', 'Inspection Type', 'Violations', 'Latitude', 'Longitude', 'Location', 'Fail'], dtype='object')"
      ]
     },
     "execution_count": 206,
     "metadata": {},
     "output_type": "execute_result"
    }
   ],
   "source": [
    "test.columns"
   ]
  },
  {
   "cell_type": "markdown",
   "metadata": {},
   "source": [
    "### Dropping Columns"
   ]
  },
  {
   "cell_type": "code",
   "execution_count": 5,
   "metadata": {},
   "outputs": [],
   "source": [
    "train1 = train1.drop(columns=['Inspection ID', 'License #', 'Address', 'AKA Name',\n",
    "                              'State', 'Zip', 'Location', 'Latitude', 'Longitude'])"
   ]
  },
  {
   "cell_type": "markdown",
   "metadata": {},
   "source": [
    "### New `Major Chain` Feature"
   ]
  },
  {
   "cell_type": "code",
   "execution_count": 6,
   "metadata": {},
   "outputs": [],
   "source": [
    "major_chains = (train['DBA Name'].value_counts() > 20).head(88)"
   ]
  },
  {
   "cell_type": "code",
   "execution_count": 7,
   "metadata": {},
   "outputs": [],
   "source": [
    "train1['Major Chain'] = train['DBA Name'].isin(major_chains)"
   ]
  },
  {
   "cell_type": "markdown",
   "metadata": {},
   "source": [
    "### Editing `Risk` Feature"
   ]
  },
  {
   "cell_type": "code",
   "execution_count": 8,
   "metadata": {},
   "outputs": [
    {
     "data": {
      "text/plain": [
       "array(['Risk 1 (High)', 'Risk 3 (Low)', 'Risk 2 (Medium)', nan],\n",
       "      dtype=object)"
      ]
     },
     "execution_count": 8,
     "metadata": {},
     "output_type": "execute_result"
    }
   ],
   "source": [
    "train1.Risk.unique()"
   ]
  },
  {
   "cell_type": "code",
   "execution_count": 9,
   "metadata": {},
   "outputs": [],
   "source": [
    "train1['High Risk'] = train1['Risk'].str.contains('1', na=False)\n",
    "train1['Medium Risk'] = train1['Risk'].str.contains('2', na=False)\n",
    "train1['Low Risk'] = train1['Risk'].str.contains('3', na=False)"
   ]
  },
  {
   "cell_type": "code",
   "execution_count": 10,
   "metadata": {},
   "outputs": [],
   "source": [
    "train1 = train1.drop(columns=['DBA Name', 'Risk'])"
   ]
  },
  {
   "cell_type": "markdown",
   "metadata": {},
   "source": [
    "### Editing `City`"
   ]
  },
  {
   "cell_type": "code",
   "execution_count": 11,
   "metadata": {},
   "outputs": [],
   "source": [
    "chicago_fix = {'CCHICAGO': 'CHICAGO', 'CHCHICAGO': 'CHICAGO',\n",
    "               'CHICAGOI': 'CHICAGO', 'CHICAGOCHICAGO': 'CHICAGO',\n",
    "               'CHICAGOHICAGO': 'CHICAGO'}\n",
    "train1['City'] = train1['City'].str.upper()\n",
    "train1['City'] = train['City'].map(chicago_fix)"
   ]
  },
  {
   "cell_type": "code",
   "execution_count": 12,
   "metadata": {},
   "outputs": [],
   "source": [
    "train1['In City'] = train1['City'] == 'CHICAGO'\n",
    "train1['Suburb'] = train1['City'] != 'CHICAGO'"
   ]
  },
  {
   "cell_type": "code",
   "execution_count": 13,
   "metadata": {},
   "outputs": [],
   "source": [
    "train1 = train1.drop(columns=['City'])"
   ]
  },
  {
   "cell_type": "markdown",
   "metadata": {},
   "source": [
    "### `Facility Type`"
   ]
  },
  {
   "cell_type": "markdown",
   "metadata": {},
   "source": [
    "- Form groups in 'Facility Type': \n",
    "'daycare|schools|shcool/hospital|nursing|shelter'\n",
    "'restaurant|bakery|desserts|gelato|candy|paleteria|diner|catering|cafeteria|mobile'\n",
    "'grocery|store|kiosk|wholesale|gas|tent|pantry'\n",
    "'butcher|poultry|farm'"
   ]
  },
  {
   "cell_type": "code",
   "execution_count": 14,
   "metadata": {},
   "outputs": [],
   "source": [
    "train1['Facility Type'] = train1['Facility Type'].str.lower()\n",
    "\n",
    "train1['School/Health Facility'] = train1['Facility Type'].str.contains(\n",
    "    'daycare|schools|school|shcool|hospital|nursing|shelter|care', regex=True, na=False)\n",
    "\n",
    "train1['Restaurant/Dessert Service'] = train1['Facility Type'].str.contains(\n",
    "    'restaurant|bakery|desserts|dessert|gelato|candy|paleteria|diner|catering|cafeteria|mobile|salad',\n",
    "    regex=True, na=False)\n",
    "\n",
    "train1['Food Store Facility'] = train1['Facility Type'].str.contains(\n",
    "    'grocery|store|kiosk|wholesale|gas|tent|pantry|drug', regex=True, na=False)\n",
    "\n",
    "train1['Animal Processing Facility'] = train1['Facility Type'].str.contains(\n",
    "    'butcher|poultry|farm', regex=True, na=False)"
   ]
  },
  {
   "cell_type": "code",
   "execution_count": 15,
   "metadata": {},
   "outputs": [],
   "source": [
    "train1 = train1.drop(columns=['Facility Type'])"
   ]
  },
  {
   "cell_type": "markdown",
   "metadata": {},
   "source": [
    "### `Inspection Date`"
   ]
  },
  {
   "cell_type": "code",
   "execution_count": 16,
   "metadata": {},
   "outputs": [],
   "source": [
    "# Transform earliest_cr_line to an integer: how many days it's been open\n",
    "train1['Inspection Date'] = pd.to_datetime(train1['Inspection Date'], infer_datetime_format=True) # `infer_datetime_format=True` makes it go faster\n",
    "train1['Inspection Month'] = train1['Inspection Date'].dt.month # .dt accessor is very useful to get 'days' or 'months'... \n",
    "# if you get the 'months' (which are from 1 to 12) you can categorically or ordinally encode that"
   ]
  },
  {
   "cell_type": "code",
   "execution_count": 17,
   "metadata": {},
   "outputs": [],
   "source": [
    "train1 = train1.drop(columns=['Inspection Date'])"
   ]
  },
  {
   "cell_type": "markdown",
   "metadata": {},
   "source": [
    "### Editing `Violations`"
   ]
  },
  {
   "cell_type": "code",
   "execution_count": 18,
   "metadata": {},
   "outputs": [],
   "source": [
    "train1['Violations'] = train1['Violations'].str.lower()\n",
    "\n",
    "train1['Serious Violations'] = train1['Violations'].str.contains('serious')\n",
    "train1['Serious Violations'] = train1['Serious Violations'].fillna(\n",
    "                                train1['Serious Violations'].mode())"
   ]
  },
  {
   "cell_type": "code",
   "execution_count": 19,
   "metadata": {},
   "outputs": [],
   "source": [
    "train1 = train1.drop(columns=['Violations'])"
   ]
  },
  {
   "cell_type": "code",
   "execution_count": 20,
   "metadata": {},
   "outputs": [],
   "source": [
    "train1['Inspection Type'] = train1['Inspection Type'].str.replace('nan', 'Canvass')"
   ]
  },
  {
   "cell_type": "code",
   "execution_count": 21,
   "metadata": {},
   "outputs": [
    {
     "data": {
      "text/html": [
       "<div>\n",
       "<style scoped>\n",
       "    .dataframe tbody tr th:only-of-type {\n",
       "        vertical-align: middle;\n",
       "    }\n",
       "\n",
       "    .dataframe tbody tr th {\n",
       "        vertical-align: top;\n",
       "    }\n",
       "\n",
       "    .dataframe thead th {\n",
       "        text-align: right;\n",
       "    }\n",
       "</style>\n",
       "<table border=\"1\" class=\"dataframe\">\n",
       "  <thead>\n",
       "    <tr style=\"text-align: right;\">\n",
       "      <th></th>\n",
       "      <th>Inspection Type</th>\n",
       "      <th>Major Chain</th>\n",
       "      <th>High Risk</th>\n",
       "      <th>Medium Risk</th>\n",
       "      <th>Low Risk</th>\n",
       "      <th>In City</th>\n",
       "      <th>Suburb</th>\n",
       "      <th>School/Health Facility</th>\n",
       "      <th>Restaurant/Dessert Service</th>\n",
       "      <th>Food Store Facility</th>\n",
       "      <th>Animal Processing Facility</th>\n",
       "      <th>Inspection Month</th>\n",
       "      <th>Serious Violations</th>\n",
       "    </tr>\n",
       "  </thead>\n",
       "  <tbody>\n",
       "    <tr>\n",
       "      <th>0</th>\n",
       "      <td>Canvass</td>\n",
       "      <td>False</td>\n",
       "      <td>True</td>\n",
       "      <td>False</td>\n",
       "      <td>False</td>\n",
       "      <td>False</td>\n",
       "      <td>True</td>\n",
       "      <td>False</td>\n",
       "      <td>True</td>\n",
       "      <td>False</td>\n",
       "      <td>False</td>\n",
       "      <td>9</td>\n",
       "      <td>True</td>\n",
       "    </tr>\n",
       "    <tr>\n",
       "      <th>1</th>\n",
       "      <td>Complaint Re-Inspection</td>\n",
       "      <td>False</td>\n",
       "      <td>False</td>\n",
       "      <td>False</td>\n",
       "      <td>True</td>\n",
       "      <td>False</td>\n",
       "      <td>True</td>\n",
       "      <td>False</td>\n",
       "      <td>False</td>\n",
       "      <td>True</td>\n",
       "      <td>False</td>\n",
       "      <td>10</td>\n",
       "      <td>False</td>\n",
       "    </tr>\n",
       "    <tr>\n",
       "      <th>2</th>\n",
       "      <td>Canvass Re-Inspection</td>\n",
       "      <td>False</td>\n",
       "      <td>True</td>\n",
       "      <td>False</td>\n",
       "      <td>False</td>\n",
       "      <td>False</td>\n",
       "      <td>True</td>\n",
       "      <td>False</td>\n",
       "      <td>True</td>\n",
       "      <td>False</td>\n",
       "      <td>False</td>\n",
       "      <td>4</td>\n",
       "      <td>False</td>\n",
       "    </tr>\n",
       "    <tr>\n",
       "      <th>3</th>\n",
       "      <td>Canvass</td>\n",
       "      <td>False</td>\n",
       "      <td>False</td>\n",
       "      <td>True</td>\n",
       "      <td>False</td>\n",
       "      <td>False</td>\n",
       "      <td>True</td>\n",
       "      <td>False</td>\n",
       "      <td>True</td>\n",
       "      <td>False</td>\n",
       "      <td>False</td>\n",
       "      <td>4</td>\n",
       "      <td>False</td>\n",
       "    </tr>\n",
       "    <tr>\n",
       "      <th>4</th>\n",
       "      <td>Canvass</td>\n",
       "      <td>False</td>\n",
       "      <td>True</td>\n",
       "      <td>False</td>\n",
       "      <td>False</td>\n",
       "      <td>False</td>\n",
       "      <td>True</td>\n",
       "      <td>True</td>\n",
       "      <td>False</td>\n",
       "      <td>False</td>\n",
       "      <td>False</td>\n",
       "      <td>1</td>\n",
       "      <td>False</td>\n",
       "    </tr>\n",
       "  </tbody>\n",
       "</table>\n",
       "</div>"
      ],
      "text/plain": [
       "           Inspection Type  Major Chain  High Risk  Medium Risk  Low Risk  In City  Suburb  School/Health Facility  Restaurant/Dessert Service  Food Store Facility  Animal Processing Facility  Inspection Month Serious Violations\n",
       "0                  Canvass        False       True        False     False    False    True                   False                        True                False                       False                 9               True\n",
       "1  Complaint Re-Inspection        False      False        False      True    False    True                   False                       False                 True                       False                10              False\n",
       "2    Canvass Re-Inspection        False       True        False     False    False    True                   False                        True                False                       False                 4              False\n",
       "3                  Canvass        False      False         True     False    False    True                   False                        True                False                       False                 4              False\n",
       "4                  Canvass        False       True        False     False    False    True                    True                       False                False                       False                 1              False"
      ]
     },
     "execution_count": 21,
     "metadata": {},
     "output_type": "execute_result"
    }
   ],
   "source": [
    "train1.head()"
   ]
  },
  {
   "cell_type": "code",
   "execution_count": 41,
   "metadata": {},
   "outputs": [],
   "source": [
    "X_train = train1.copy()"
   ]
  },
  {
   "cell_type": "markdown",
   "metadata": {},
   "source": [
    "## Test Dataset\n",
    "**Note**: Will use encoder in pipeline in Part 2"
   ]
  },
  {
   "cell_type": "markdown",
   "metadata": {},
   "source": [
    "### Dropping Columns"
   ]
  },
  {
   "cell_type": "code",
   "execution_count": 22,
   "metadata": {},
   "outputs": [],
   "source": [
    "test1 = test1.drop(columns=['Inspection ID', 'License #', 'Address', 'AKA Name',\n",
    "                              'State', 'Zip', 'Location', 'Latitude', 'Longitude'])"
   ]
  },
  {
   "cell_type": "code",
   "execution_count": 23,
   "metadata": {},
   "outputs": [
    {
     "data": {
      "text/plain": [
       "Index(['DBA Name', 'Facility Type', 'Risk', 'City', 'Inspection Date', 'Inspection Type', 'Violations'], dtype='object')"
      ]
     },
     "execution_count": 23,
     "metadata": {},
     "output_type": "execute_result"
    }
   ],
   "source": [
    "test1.columns"
   ]
  },
  {
   "cell_type": "markdown",
   "metadata": {},
   "source": [
    "### New `Major Chain` Feature"
   ]
  },
  {
   "cell_type": "code",
   "execution_count": 24,
   "metadata": {},
   "outputs": [],
   "source": [
    "major_chains = (test['DBA Name'].value_counts() > 20).head(88)"
   ]
  },
  {
   "cell_type": "code",
   "execution_count": 25,
   "metadata": {},
   "outputs": [],
   "source": [
    "test1['Major Chain'] = test['DBA Name'].isin(major_chains)"
   ]
  },
  {
   "cell_type": "markdown",
   "metadata": {},
   "source": [
    "### Editing `Risk` Feature"
   ]
  },
  {
   "cell_type": "code",
   "execution_count": 26,
   "metadata": {},
   "outputs": [],
   "source": [
    "test1['High Risk'] = test1['Risk'].str.contains('1', na=False)\n",
    "test1['Medium Risk'] = test1['Risk'].str.contains('2', na=False)\n",
    "test1['Low Risk'] = test1['Risk'].str.contains('3', na=False)"
   ]
  },
  {
   "cell_type": "code",
   "execution_count": 27,
   "metadata": {},
   "outputs": [],
   "source": [
    "test1 = test1.drop(columns=['DBA Name', 'Risk'])"
   ]
  },
  {
   "cell_type": "markdown",
   "metadata": {},
   "source": [
    "### Editing `City`"
   ]
  },
  {
   "cell_type": "code",
   "execution_count": 28,
   "metadata": {},
   "outputs": [],
   "source": [
    "chicago_fix = {'CCHICAGO': 'CHICAGO', 'CHCHICAGO': 'CHICAGO',\n",
    "               'CHICAGOI': 'CHICAGO', 'CHICAGOCHICAGO': 'CHICAGO',\n",
    "               'CHICAGOHICAGO': 'CHICAGO'}\n",
    "test1['City'] = test1['City'].str.upper()\n",
    "test1['City'] = test1['City'].map(chicago_fix)"
   ]
  },
  {
   "cell_type": "code",
   "execution_count": 29,
   "metadata": {},
   "outputs": [],
   "source": [
    "test1['In City'] = test1['City'] == 'CHICAGO'\n",
    "test1['Suburb'] = test1['City'] != 'CHICAGO'"
   ]
  },
  {
   "cell_type": "code",
   "execution_count": 30,
   "metadata": {},
   "outputs": [],
   "source": [
    "test1 = test1.drop(columns=['City'])"
   ]
  },
  {
   "cell_type": "markdown",
   "metadata": {},
   "source": [
    "### `Facility Type`"
   ]
  },
  {
   "cell_type": "markdown",
   "metadata": {},
   "source": [
    "- Form groups in 'Facility Type': \n",
    "'daycare|schools|shcool/hospital|nursing|shelter'\n",
    "'restaurant|bakery|desserts|gelato|candy|paleteria|diner|catering|cafeteria|mobile'\n",
    "'grocery|store|kiosk|wholesale|gas|tent|pantry'\n",
    "'butcher|poultry|farm'"
   ]
  },
  {
   "cell_type": "code",
   "execution_count": 31,
   "metadata": {},
   "outputs": [],
   "source": [
    "test1['Facility Type'] = test1['Facility Type'].str.lower()\n",
    "\n",
    "test1['School/Health Facility'] = test1['Facility Type'].str.contains(\n",
    "    'daycare|schools|school|shcool|hospital|nursing|shelter|care', regex=True, na=False)\n",
    "\n",
    "test1['Restaurant/Dessert Service'] = test1['Facility Type'].str.contains(\n",
    "    'restaurant|bakery|desserts|dessert|gelato|candy|paleteria|diner|catering|cafeteria|mobile|salad',\n",
    "    regex=True, na=False)\n",
    "\n",
    "test1['Food Store Facility'] = test1['Facility Type'].str.contains(\n",
    "    'grocery|store|kiosk|wholesale|gas|tent|pantry|drug', regex=True, na=False)\n",
    "\n",
    "test1['Animal Processing Facility'] = test1['Facility Type'].str.contains(\n",
    "    'butcher|poultry|farm', regex=True, na=False)"
   ]
  },
  {
   "cell_type": "code",
   "execution_count": 32,
   "metadata": {},
   "outputs": [],
   "source": [
    "test1 = test1.drop(columns=['Facility Type'])"
   ]
  },
  {
   "cell_type": "markdown",
   "metadata": {},
   "source": [
    "### `Inspection Date`"
   ]
  },
  {
   "cell_type": "code",
   "execution_count": 33,
   "metadata": {},
   "outputs": [],
   "source": [
    "# Transform earliest_cr_line to an integer: how many days it's been open\n",
    "test1['Inspection Date'] = pd.to_datetime(test1['Inspection Date'], infer_datetime_format=True) # `infer_datetime_format=True` makes it go faster\n",
    "test1['Inspection Month'] = test1['Inspection Date'].dt.month # .dt accessor is very useful to get 'days' or 'months'... \n",
    "# if you get the 'months' (which are from 1 to 12) you can categorically or ordinally encode that"
   ]
  },
  {
   "cell_type": "code",
   "execution_count": 34,
   "metadata": {},
   "outputs": [],
   "source": [
    "test1 = test1.drop(columns=['Inspection Date'])"
   ]
  },
  {
   "cell_type": "code",
   "execution_count": 35,
   "metadata": {},
   "outputs": [
    {
     "data": {
      "text/plain": [
       "Index(['Inspection Type', 'Violations', 'Major Chain', 'High Risk', 'Medium Risk', 'Low Risk', 'In City', 'Suburb', 'School/Health Facility', 'Restaurant/Dessert Service', 'Food Store Facility', 'Animal Processing Facility', 'Inspection Month'], dtype='object')"
      ]
     },
     "execution_count": 35,
     "metadata": {},
     "output_type": "execute_result"
    }
   ],
   "source": [
    "test1.columns"
   ]
  },
  {
   "cell_type": "code",
   "execution_count": 36,
   "metadata": {},
   "outputs": [
    {
     "data": {
      "text/plain": [
       "Index(['Inspection Type', 'Violations', 'Major Chain', 'High Risk', 'Medium Risk', 'Low Risk', 'In City', 'Suburb', 'School/Health Facility', 'Restaurant/Dessert Service', 'Food Store Facility', 'Animal Processing Facility', 'Inspection Month'], dtype='object')"
      ]
     },
     "execution_count": 36,
     "metadata": {},
     "output_type": "execute_result"
    }
   ],
   "source": [
    "test1.columns"
   ]
  },
  {
   "cell_type": "markdown",
   "metadata": {},
   "source": [
    "### Editing `Violations`"
   ]
  },
  {
   "cell_type": "code",
   "execution_count": 37,
   "metadata": {},
   "outputs": [],
   "source": [
    "test1['Violations'] = test1['Violations'].str.lower()\n",
    "\n",
    "test1['Serious Violations'] = test1['Violations'].str.contains('serious')\n",
    "test1['Serious Violations'] = test1['Serious Violations'].fillna(\n",
    "                                test1['Serious Violations'].mode())"
   ]
  },
  {
   "cell_type": "code",
   "execution_count": 38,
   "metadata": {},
   "outputs": [],
   "source": [
    "test1 = test1.drop(columns=['Violations'])"
   ]
  },
  {
   "cell_type": "code",
   "execution_count": 39,
   "metadata": {},
   "outputs": [],
   "source": [
    "test1['Inspection Type'] = test1['Inspection Type'].str.replace('nan', 'Canvass')"
   ]
  },
  {
   "cell_type": "code",
   "execution_count": 40,
   "metadata": {},
   "outputs": [
    {
     "data": {
      "text/html": [
       "<div>\n",
       "<style scoped>\n",
       "    .dataframe tbody tr th:only-of-type {\n",
       "        vertical-align: middle;\n",
       "    }\n",
       "\n",
       "    .dataframe tbody tr th {\n",
       "        vertical-align: top;\n",
       "    }\n",
       "\n",
       "    .dataframe thead th {\n",
       "        text-align: right;\n",
       "    }\n",
       "</style>\n",
       "<table border=\"1\" class=\"dataframe\">\n",
       "  <thead>\n",
       "    <tr style=\"text-align: right;\">\n",
       "      <th></th>\n",
       "      <th>Inspection Type</th>\n",
       "      <th>Major Chain</th>\n",
       "      <th>High Risk</th>\n",
       "      <th>Medium Risk</th>\n",
       "      <th>Low Risk</th>\n",
       "      <th>In City</th>\n",
       "      <th>Suburb</th>\n",
       "      <th>School/Health Facility</th>\n",
       "      <th>Restaurant/Dessert Service</th>\n",
       "      <th>Food Store Facility</th>\n",
       "      <th>Animal Processing Facility</th>\n",
       "      <th>Inspection Month</th>\n",
       "      <th>Serious Violations</th>\n",
       "    </tr>\n",
       "  </thead>\n",
       "  <tbody>\n",
       "    <tr>\n",
       "      <th>0</th>\n",
       "      <td>Canvass</td>\n",
       "      <td>False</td>\n",
       "      <td>False</td>\n",
       "      <td>True</td>\n",
       "      <td>False</td>\n",
       "      <td>False</td>\n",
       "      <td>True</td>\n",
       "      <td>False</td>\n",
       "      <td>False</td>\n",
       "      <td>True</td>\n",
       "      <td>False</td>\n",
       "      <td>3</td>\n",
       "      <td>False</td>\n",
       "    </tr>\n",
       "    <tr>\n",
       "      <th>1</th>\n",
       "      <td>Canvass</td>\n",
       "      <td>False</td>\n",
       "      <td>True</td>\n",
       "      <td>False</td>\n",
       "      <td>False</td>\n",
       "      <td>False</td>\n",
       "      <td>True</td>\n",
       "      <td>False</td>\n",
       "      <td>True</td>\n",
       "      <td>False</td>\n",
       "      <td>False</td>\n",
       "      <td>9</td>\n",
       "      <td>False</td>\n",
       "    </tr>\n",
       "    <tr>\n",
       "      <th>2</th>\n",
       "      <td>Canvass</td>\n",
       "      <td>False</td>\n",
       "      <td>True</td>\n",
       "      <td>False</td>\n",
       "      <td>False</td>\n",
       "      <td>False</td>\n",
       "      <td>True</td>\n",
       "      <td>False</td>\n",
       "      <td>True</td>\n",
       "      <td>False</td>\n",
       "      <td>False</td>\n",
       "      <td>3</td>\n",
       "      <td>False</td>\n",
       "    </tr>\n",
       "    <tr>\n",
       "      <th>3</th>\n",
       "      <td>Canvass Re-Inspection</td>\n",
       "      <td>False</td>\n",
       "      <td>True</td>\n",
       "      <td>False</td>\n",
       "      <td>False</td>\n",
       "      <td>False</td>\n",
       "      <td>True</td>\n",
       "      <td>False</td>\n",
       "      <td>True</td>\n",
       "      <td>False</td>\n",
       "      <td>False</td>\n",
       "      <td>10</td>\n",
       "      <td>True</td>\n",
       "    </tr>\n",
       "    <tr>\n",
       "      <th>4</th>\n",
       "      <td>Canvass</td>\n",
       "      <td>False</td>\n",
       "      <td>False</td>\n",
       "      <td>True</td>\n",
       "      <td>False</td>\n",
       "      <td>False</td>\n",
       "      <td>True</td>\n",
       "      <td>True</td>\n",
       "      <td>False</td>\n",
       "      <td>False</td>\n",
       "      <td>False</td>\n",
       "      <td>4</td>\n",
       "      <td>True</td>\n",
       "    </tr>\n",
       "  </tbody>\n",
       "</table>\n",
       "</div>"
      ],
      "text/plain": [
       "         Inspection Type  Major Chain  High Risk  Medium Risk  Low Risk  In City  Suburb  School/Health Facility  Restaurant/Dessert Service  Food Store Facility  Animal Processing Facility  Inspection Month Serious Violations\n",
       "0                Canvass        False      False         True     False    False    True                   False                       False                 True                       False                 3              False\n",
       "1                Canvass        False       True        False     False    False    True                   False                        True                False                       False                 9              False\n",
       "2                Canvass        False       True        False     False    False    True                   False                        True                False                       False                 3              False\n",
       "3  Canvass Re-Inspection        False       True        False     False    False    True                   False                        True                False                       False                10               True\n",
       "4                Canvass        False      False         True     False    False    True                    True                       False                False                       False                 4               True"
      ]
     },
     "execution_count": 40,
     "metadata": {},
     "output_type": "execute_result"
    }
   ],
   "source": [
    "test1.head()"
   ]
  },
  {
   "cell_type": "code",
   "execution_count": 42,
   "metadata": {},
   "outputs": [],
   "source": [
    "X_test = test1.copy()"
   ]
  },
  {
   "cell_type": "markdown",
   "metadata": {},
   "source": [
    "# Part 2"
   ]
  },
  {
   "cell_type": "code",
   "execution_count": 46,
   "metadata": {},
   "outputs": [
    {
     "name": "stdout",
     "output_type": "stream",
     "text": [
      "Fitting 3 folds for each of 1 candidates, totalling 3 fits\n",
      "[CV] gradientboostingclassifier__learning_rate=0.05, gradientboostingclassifier__max_depth=4, gradientboostingclassifier__n_estimators=500 \n"
     ]
    },
    {
     "name": "stderr",
     "output_type": "stream",
     "text": [
      "[Parallel(n_jobs=1)]: Using backend SequentialBackend with 1 concurrent workers.\n"
     ]
    },
    {
     "name": "stdout",
     "output_type": "stream",
     "text": [
      "[CV]  gradientboostingclassifier__learning_rate=0.05, gradientboostingclassifier__max_depth=4, gradientboostingclassifier__n_estimators=500, score=0.9196085975466628, total=  17.7s\n",
      "[CV] gradientboostingclassifier__learning_rate=0.05, gradientboostingclassifier__max_depth=4, gradientboostingclassifier__n_estimators=500 \n"
     ]
    },
    {
     "name": "stderr",
     "output_type": "stream",
     "text": [
      "[Parallel(n_jobs=1)]: Done   1 out of   1 | elapsed:   18.3s remaining:    0.0s\n"
     ]
    },
    {
     "name": "stdout",
     "output_type": "stream",
     "text": [
      "[CV]  gradientboostingclassifier__learning_rate=0.05, gradientboostingclassifier__max_depth=4, gradientboostingclassifier__n_estimators=500, score=0.9162386950974715, total=  18.3s\n",
      "[CV] gradientboostingclassifier__learning_rate=0.05, gradientboostingclassifier__max_depth=4, gradientboostingclassifier__n_estimators=500 \n"
     ]
    },
    {
     "name": "stderr",
     "output_type": "stream",
     "text": [
      "[Parallel(n_jobs=1)]: Done   2 out of   2 | elapsed:   37.2s remaining:    0.0s\n"
     ]
    },
    {
     "name": "stdout",
     "output_type": "stream",
     "text": [
      "[CV]  gradientboostingclassifier__learning_rate=0.05, gradientboostingclassifier__max_depth=4, gradientboostingclassifier__n_estimators=500, score=0.9156427280683802, total=  18.8s\n"
     ]
    },
    {
     "name": "stderr",
     "output_type": "stream",
     "text": [
      "[Parallel(n_jobs=1)]: Done   3 out of   3 | elapsed:   56.6s remaining:    0.0s\n",
      "[Parallel(n_jobs=1)]: Done   3 out of   3 | elapsed:   56.6s finished\n"
     ]
    },
    {
     "data": {
      "text/plain": [
       "GridSearchCV(cv=3, error_score='raise-deprecating',\n",
       "       estimator=Pipeline(memory=None,\n",
       "     steps=[('binaryencoder', BinaryEncoder(cols=None, drop_invariant=False, handle_unknown='impute',\n",
       "       impute_missing=True, return_df=True, verbose=0)), ('gradientboostingclassifier', GradientBoostingClassifier(criterion='friedman_mse', init=None,\n",
       "              learning_rate=0.1, loss='deviance', m...    subsample=1.0, tol=0.0001, validation_fraction=0.1,\n",
       "              verbose=0, warm_start=False))]),\n",
       "       fit_params=None, iid='warn', n_jobs=None,\n",
       "       param_grid={'gradientboostingclassifier__learning_rate': [0.05], 'gradientboostingclassifier__n_estimators': [500], 'gradientboostingclassifier__max_depth': [4]},\n",
       "       pre_dispatch='2*n_jobs', refit=True, return_train_score='warn',\n",
       "       scoring='roc_auc', verbose=10)"
      ]
     },
     "execution_count": 46,
     "metadata": {},
     "output_type": "execute_result"
    }
   ],
   "source": [
    "import category_encoders as ce\n",
    "from sklearn.model_selection import cross_val_score\n",
    "from sklearn.pipeline import make_pipeline\n",
    "from sklearn.model_selection import GridSearchCV\n",
    "from sklearn.ensemble import GradientBoostingClassifier\n",
    "\n",
    "pipe = make_pipeline(\n",
    "    ce.BinaryEncoder(), \n",
    "    GradientBoostingClassifier(learning_rate=0.1, \n",
    "                               n_estimators=100,\n",
    "                               max_depth=3)\n",
    ")\n",
    "\n",
    "param_grid = {\n",
    "    'gradientboostingclassifier__learning_rate': [0.05],\n",
    "    'gradientboostingclassifier__n_estimators': [500],\n",
    "    'gradientboostingclassifier__max_depth': [4]\n",
    "}\n",
    "\n",
    "grid = GridSearchCV(pipe, param_grid=param_grid, cv=3,\n",
    "                         scoring='roc_auc', verbose=10)\n",
    "\n",
    "grid.fit(X_train, y_train)"
   ]
  },
  {
   "cell_type": "code",
   "execution_count": 47,
   "metadata": {},
   "outputs": [
    {
     "name": "stdout",
     "output_type": "stream",
     "text": [
      "CV Score: 0.9171633873377689\n"
     ]
    }
   ],
   "source": [
    "# Best score using 'ROC_AUC'\n",
    "print('CV Score:', grid.best_score_)"
   ]
  },
  {
   "cell_type": "markdown",
   "metadata": {},
   "source": [
    "# Part 3"
   ]
  },
  {
   "cell_type": "markdown",
   "metadata": {},
   "source": [
    "## Partial Dependence Plot"
   ]
  },
  {
   "cell_type": "code",
   "execution_count": 54,
   "metadata": {},
   "outputs": [
    {
     "data": {
      "image/png": "[encoded data removed]",
      "text/plain": [
       "<Figure size 1080x684 with 2 Axes>"
      ]
     },
     "metadata": {
      "needs_background": "light"
     },
     "output_type": "display_data"
    }
   ],
   "source": [
    "from pdpbox.pdp import pdp_isolate, pdp_plot\n",
    "\n",
    "feature='Serious Violations'\n",
    "pdp_isolated = pdp_isolate(model=grid, dataset=X_train, model_features=X_train.columns, \n",
    "                           feature=feature)\n",
    "\n",
    "pdp_plot(pdp_isolated, feature);"
   ]
  },
  {
   "cell_type": "code",
   "execution_count": null,
   "metadata": {},
   "outputs": [],
   "source": []
  }
 ],
 "metadata": {
  "kernelspec": {
   "display_name": "Python 3",
   "language": "python",
   "name": "python3"
  },
  "language_info": {
   "codemirror_mode": {
    "name": "ipython",
    "version": 3
   },
   "file_extension": ".py",
   "mimetype": "text/x-python",
   "name": "python",
   "nbconvert_exporter": "python",
   "pygments_lexer": "ipython3",
   "version": "3.6.8"
  }
 },
 "nbformat": 4,
 "nbformat_minor": 2
}

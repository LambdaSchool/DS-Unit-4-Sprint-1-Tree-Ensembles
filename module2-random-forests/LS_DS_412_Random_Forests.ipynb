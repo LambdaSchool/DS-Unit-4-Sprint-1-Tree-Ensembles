{
 "cells": [
  {
   "cell_type": "markdown",
   "metadata": {},
   "source": [
    "_Lambda School Data Science — Tree Ensembles_ \n",
    "\n",
    "# Random Forests\n",
    "\n",
    "### Pre-read / pre-watch\n",
    "- [Scikit-Learn User Guide, Ensemble Methods](https://scikit-learn.org/stable/modules/ensemble.html)\n",
    "- [Coloring with Random Forests](http://structuringtheunstructured.blogspot.com/2017/11/coloring-with-random-forests.html)\n",
    "- [Beware Default Random Forest Importances](https://explained.ai/rf-importance/index.html)\n",
    "\n",
    "### More\n",
    "- [Machine Learning Explainability: Permutation Importance](https://www.kaggle.com/dansbecker/permutation-importance)\n",
    "- [eli5: Permutation Importance](https://eli5.readthedocs.io/en/latest/blackbox/permutation_importance.html)\n",
    "- [eli5: Explaining XGBoost predictions on the Titanic dataset](https://eli5.readthedocs.io/en/latest/_notebooks/xgboost-titanic.html)\n",
    "- [The Mechanics of Machine Learning: Categorically Speaking](https://mlbook.explained.ai/catvars.html)\n",
    "\n",
    "\n",
    "[Selecting good features – Part III: random forests](https://blog.datadive.net/selecting-good-features-part-iii-random-forests/)\n",
    ">There are a few things to keep in mind when using the impurity based ranking. Firstly, feature selection based on impurity reduction is biased towards preferring variables with more categories. \n",
    ">\n",
    ">Secondly, when the dataset has two (or more) correlated features, then from the point of view of the model, any of these correlated features can be used as the predictor, with no concrete preference of one over the others. But once one of them is used, the importance of others is significantly reduced since effectively the impurity they can remove is already removed by the first feature. As a consequence, they will have a lower reported importance. This is not an issue when we want to use feature selection to reduce overfitting, since it makes sense to remove features that are mostly duplicated by other features. But when interpreting the data, it can lead to the incorrect conclusion that one of the variables is a strong predictor while the others in the same group are unimportant, while actually they are very close in terms of their relationship with the response variable.\n",
    "\n",
    "\n",
    "[An Introduction to Statistical Learning](http://www-bcf.usc.edu/~gareth/ISL/), Chapter 8.2.1, Out-of-Bag Error Estimation\n",
    "\n",
    "> It turns out that **there is a very straightforward way to estimate the test error of a bagged model, without the need to perform cross-validation or the validation set approach.** \n",
    ">\n",
    "> Recall that the key to bagging is that trees are repeatedly fit to bootstrapped subsets of the observations. One can show that on average, each bagged tree makes use of around two-thirds of the observations. The remaining one-third of the **observations not used to fit a given bagged tree are referred to as the out-of bag (OOB) observations.**\n",
    ">\n",
    ">We can predict the response for the ith observation using each of the trees in which that observation was OOB. This will yield around B/3 predictions for the ith observation. In order to obtain a single prediction for the ith observation, we can average these predicted responses (if regression is the goal) or can take a majority vote (if classification is the goal). \n",
    ">\n",
    ">This leads to a single OOB prediction for the ith observation. An OOB prediction can be obtained in this way for each of the n observations, from which the overall OOB MSE (for a regression problem) or classification error (for a classification problem) can be computed. The resulting **OOB error is a valid estimate of the test error for the bagged model, since the response for each observation is predicted using only the trees that were not fit using that observation.** ... \n",
    ">\n",
    ">It can be shown that with B sufficiently large, OOB error is virtually equivalent to leave-one-out cross-validation error. The OOB approach for estimating the test error is particularly **convenient when performing bagging on large data sets for which cross-validation would be computationally onerous.**"
   ]
  },
  {
   "cell_type": "markdown",
   "metadata": {},
   "source": [
    "## Libraries\n",
    "- [eli5](https://github.com/TeamHG-Memex/eli5): `conda install -c conda-forge eli5` / `pip install eli5`\n",
    "- [category_encoders](https://github.com/scikit-learn-contrib/categorical-encoding): `conda install -c conda-forge category_encoders` / `pip install category_encoders`\n",
    "- [mlxtend](https://github.com/rasbt/mlxtend): `pip install mlxtend`\n",
    "- [ipywidgets](https://ipywidgets.readthedocs.io/en/stable/examples/Using%20Interact.html): included with Anaconda, doesn't work on Google Colab"
   ]
  },
  {
   "cell_type": "markdown",
   "metadata": {},
   "source": [
    "## ipywidgets revisited: Decision Tree vs Random Forest"
   ]
  },
  {
   "cell_type": "markdown",
   "metadata": {},
   "source": [
    "### Regressing a wave"
   ]
  },
  {
   "cell_type": "code",
   "execution_count": 1,
   "metadata": {},
   "outputs": [
    {
     "data": {
      "application/vnd.jupyter.widget-view+json": {
       "model_id": "6c49fa6200cd48efa1d72f26ea3f04e6",
       "version_major": 2,
       "version_minor": 0
      },
      "text/plain": [
       "interactive(children=(IntSlider(value=4, description='max_depth', max=8, min=1), Output()), _dom_classes=('wid…"
      ]
     },
     "metadata": {},
     "output_type": "display_data"
    }
   ],
   "source": [
    "%matplotlib inline\n",
    "from ipywidgets import interact\n",
    "import matplotlib.pyplot as plt\n",
    "from sklearn.ensemble import RandomForestRegressor\n",
    "from sklearn.model_selection import train_test_split\n",
    "from sklearn.tree import DecisionTreeRegressor\n",
    "\n",
    "# Example from http://scikit-learn.org/stable/auto_examples/tree/plot_tree_regression.html\n",
    "def make_data():\n",
    "    import numpy as np\n",
    "    rng = np.random.RandomState(1)\n",
    "    X = np.sort(5 * rng.rand(80, 1), axis=0)\n",
    "    y = np.sin(X).ravel()\n",
    "    y[::5] += 2 * (0.5 - rng.rand(16))\n",
    "    return X, y\n",
    "\n",
    "X, y = make_data()\n",
    "\n",
    "X_train, X_test, y_train, y_test = train_test_split(\n",
    "    X, y, test_size=0.25, random_state=42)\n",
    "\n",
    "def regress_wave(max_depth):\n",
    "    dt = DecisionTreeRegressor(max_depth=max_depth)\n",
    "    dt.fit(X_train, y_train)\n",
    "    print('Decision Tree train R^2:', dt.score(X_train, y_train))\n",
    "    print('Decision Tree test R^2:', dt.score(X_test, y_test))\n",
    "    plt.scatter(X_train, y_train)\n",
    "    plt.scatter(X_test, y_test)\n",
    "    plt.step(X, dt.predict(X))\n",
    "    plt.show()\n",
    "    \n",
    "    rf = RandomForestRegressor(max_depth=max_depth, n_estimators=100, n_jobs=-1)\n",
    "    rf.fit(X_train, y_train)\n",
    "    print('Random Forest train R^2:', rf.score(X_train, y_train))\n",
    "    print('Random Forest test R^2:', rf.score(X_test, y_test))\n",
    "    plt.scatter(X_train, y_train)\n",
    "    plt.scatter(X_test, y_test)\n",
    "    plt.step(X, rf.predict(X))\n",
    "    plt.show()\n",
    "    \n",
    "interact(regress_wave, max_depth=(1,8,1));"
   ]
  },
  {
   "cell_type": "markdown",
   "metadata": {},
   "source": [
    "### Titanic survival, by Age & Fare"
   ]
  },
  {
   "cell_type": "code",
   "execution_count": 2,
   "metadata": {},
   "outputs": [
    {
     "data": {
      "application/vnd.jupyter.widget-view+json": {
       "model_id": "a9f151c00802455881342af50907d0f9",
       "version_major": 2,
       "version_minor": 0
      },
      "text/plain": [
       "interactive(children=(IntSlider(value=4, description='max_depth', max=8, min=1), Output()), _dom_classes=('wid…"
      ]
     },
     "metadata": {},
     "output_type": "display_data"
    }
   ],
   "source": [
    "from mlxtend.plotting import plot_decision_regions\n",
    "import seaborn as sns\n",
    "from sklearn.ensemble import RandomForestClassifier\n",
    "from sklearn.impute import SimpleImputer\n",
    "from sklearn.tree import DecisionTreeClassifier\n",
    "\n",
    "titanic = sns.load_dataset('titanic')\n",
    "X = SimpleImputer().fit_transform(titanic[['age', 'fare']])\n",
    "y = titanic['survived'].values\n",
    "\n",
    "def classify_titanic(max_depth):\n",
    "    dt = DecisionTreeClassifier(max_depth=max_depth)\n",
    "    dt.fit(X, y)\n",
    "    plot_decision_regions(X, y, dt)\n",
    "    plt.title('Decision Tree')\n",
    "    plt.axis((0,75,0,175))\n",
    "    plt.show()\n",
    "\n",
    "    rf = RandomForestClassifier(max_depth=max_depth, n_estimators=100, n_jobs=-1)\n",
    "    rf.fit(X, y)\n",
    "    plot_decision_regions(X, y, rf)\n",
    "    plt.title('Random Forest')\n",
    "    plt.axis((0,75,0,175))\n",
    "    plt.show()\n",
    "    \n",
    "interact(classify_titanic, max_depth=(1,8,1));"
   ]
  },
  {
   "cell_type": "markdown",
   "metadata": {},
   "source": [
    "# Lending Club"
   ]
  },
  {
   "cell_type": "markdown",
   "metadata": {},
   "source": [
    "Read csv files downloaded from [Kaggle](https://www.kaggle.com/c/ds1-tree-ensembles/data)"
   ]
  },
  {
   "cell_type": "code",
   "execution_count": 18,
   "metadata": {},
   "outputs": [
    {
     "data": {
      "text/plain": [
       "((37745, 103), (9437, 103), (37745,))"
      ]
     },
     "execution_count": 18,
     "metadata": {},
     "output_type": "execute_result"
    }
   ],
   "source": [
    "import pandas as pd\n",
    "pd.options.display.max_columns = 200\n",
    "pd.options.display.max_rows = 200\n",
    "\n",
    "X_train = pd.read_csv('../ds1-tree-ensembles/train_features.csv')\n",
    "X_test = pd.read_csv('../ds1-tree-ensembles/test_features.csv')\n",
    "y_train = pd.read_csv('../ds1-tree-ensembles/train_labels.csv')['charged_off']\n",
    "sample_submission = pd.read_csv('../ds1-tree-ensembles/sample_submission.csv')\n",
    "\n",
    "X_train.shape, X_test.shape, y_train.shape"
   ]
  },
  {
   "cell_type": "markdown",
   "metadata": {},
   "source": [
    "Wrangle X_train and X_test in the same way"
   ]
  },
  {
   "cell_type": "code",
   "execution_count": 19,
   "metadata": {},
   "outputs": [
    {
     "data": {
      "text/plain": [
       "((37745, 98), (9437, 98))"
      ]
     },
     "execution_count": 19,
     "metadata": {},
     "output_type": "execute_result"
    }
   ],
   "source": [
    "def wrangle(X):\n",
    "    X = X.copy()\n",
    "    \n",
    "    # Drop some columns\n",
    "    X = X.drop(columns='id')  # id is random\n",
    "    X = X.drop(columns=['member_id', 'url', 'desc'])  # All null\n",
    "    X = X.drop(columns='title')  # Duplicative of purpose\n",
    "    X = X.drop(columns='grade')  # Duplicative of sub_grade\n",
    "    \n",
    "    # Transform sub_grade from \"A1\" - \"G5\" to 1.1 - 7.5\n",
    "    def wrangle_sub_grade(x):\n",
    "        first_digit = ord(x[0]) - 64\n",
    "        second_digit = int(x[1])\n",
    "        return first_digit + second_digit/10\n",
    "    \n",
    "    X['sub_grade'] = X['sub_grade'].apply(wrangle_sub_grade)\n",
    "\n",
    "    # Convert percentages from strings to floats\n",
    "    X['int_rate'] = X['int_rate'].str.strip('%').astype(float)\n",
    "    X['revol_util'] = X['revol_util'].str.strip('%').astype(float)\n",
    "        \n",
    "    # Transform earliest_cr_line to an integer: how many days it's been open\n",
    "    X['earliest_cr_line'] = pd.to_datetime(X['earliest_cr_line'], infer_datetime_format=True) # `infer_datetime_format=True` makes it go faster\n",
    "    X['earliest_cr_line'] = pd.Timestamp.today() - X['earliest_cr_line'] # (difference from today to when credit line was opened) how long the credit line have been opened\n",
    "    X['earliest_cr_line'] = X['earliest_cr_line'].dt.days # .dt accessor is very useful to get 'days' or 'months'... \n",
    "    # if you get the 'months' (which are from 1 to 12) you can categorically or ordinally encode that\n",
    "    \n",
    "    # Create features for three employee titles: teacher, manager, owner\n",
    "    # most common job titles\n",
    "    # some titles are repeated with lower or upper case\n",
    "    X['emp_title'] = X['emp_title'].str.lower()\n",
    "    X['emp_title_teacher'] = X['emp_title'].str.contains('teacher', na=False)\n",
    "    X['emp_title_manager'] = X['emp_title'].str.contains('manager', na=False)\n",
    "    X['emp_title_owner']   = X['emp_title'].str.contains('owner', na=False)\n",
    "    \n",
    "    # Drop categoricals with high cardinality\n",
    "    X = X.drop(columns=['emp_title', 'zip_code'])\n",
    "    \n",
    "    # Transform features with many nulls to binary flags\n",
    "    many_nulls = ['sec_app_mths_since_last_major_derog',\n",
    "                  'sec_app_revol_util',\n",
    "                  'sec_app_earliest_cr_line',\n",
    "                  'sec_app_mort_acc',\n",
    "                  'dti_joint',\n",
    "                  'sec_app_collections_12_mths_ex_med',\n",
    "                  'sec_app_chargeoff_within_12_mths',\n",
    "                  'sec_app_num_rev_accts',\n",
    "                  'sec_app_open_act_il',\n",
    "                  'sec_app_open_acc',\n",
    "                  'revol_bal_joint',\n",
    "                  'annual_inc_joint',\n",
    "                  'sec_app_inq_last_6mths',\n",
    "                  'mths_since_last_record',\n",
    "                  'mths_since_recent_bc_dlq',\n",
    "                  'mths_since_last_major_derog',\n",
    "                  'mths_since_recent_revol_delinq',\n",
    "                  'mths_since_last_delinq',\n",
    "                  'il_util',\n",
    "                  'emp_length',\n",
    "                  'mths_since_recent_inq',\n",
    "                  'mo_sin_old_il_acct',\n",
    "                  'mths_since_rcnt_il',\n",
    "                  'num_tl_120dpd_2m',\n",
    "                  'bc_util',\n",
    "                  'percent_bc_gt_75',\n",
    "                  'bc_open_to_buy',\n",
    "                  'mths_since_recent_bc']\n",
    "\n",
    "    for col in many_nulls:\n",
    "        X[col] = X[col].isnull()\n",
    "    \n",
    "    # For features with few nulls, do mean imputation\n",
    "    for col in X:\n",
    "        if X[col].isnull().sum() > 0:\n",
    "            X[col] = X[col].fillna(X[col].mean())\n",
    "    \n",
    "    # Return the wrangled dataframe\n",
    "    return X\n",
    "\n",
    "\n",
    "X_train = wrangle(X_train)\n",
    "X_test  = wrangle(X_test)\n",
    "X_train.shape, X_test.shape"
   ]
  },
  {
   "cell_type": "code",
   "execution_count": 20,
   "metadata": {},
   "outputs": [
    {
     "data": {
      "text/html": [
       "<div>\n",
       "<style scoped>\n",
       "    .dataframe tbody tr th:only-of-type {\n",
       "        vertical-align: middle;\n",
       "    }\n",
       "\n",
       "    .dataframe tbody tr th {\n",
       "        vertical-align: top;\n",
       "    }\n",
       "\n",
       "    .dataframe thead th {\n",
       "        text-align: right;\n",
       "    }\n",
       "</style>\n",
       "<table border=\"1\" class=\"dataframe\">\n",
       "  <thead>\n",
       "    <tr style=\"text-align: right;\">\n",
       "      <th></th>\n",
       "      <th>loan_amnt</th>\n",
       "      <th>funded_amnt</th>\n",
       "      <th>term</th>\n",
       "      <th>int_rate</th>\n",
       "      <th>installment</th>\n",
       "      <th>sub_grade</th>\n",
       "      <th>emp_length</th>\n",
       "      <th>home_ownership</th>\n",
       "      <th>annual_inc</th>\n",
       "      <th>purpose</th>\n",
       "      <th>addr_state</th>\n",
       "      <th>dti</th>\n",
       "      <th>delinq_2yrs</th>\n",
       "      <th>earliest_cr_line</th>\n",
       "      <th>inq_last_6mths</th>\n",
       "      <th>mths_since_last_delinq</th>\n",
       "      <th>mths_since_last_record</th>\n",
       "      <th>open_acc</th>\n",
       "      <th>pub_rec</th>\n",
       "      <th>revol_bal</th>\n",
       "      <th>revol_util</th>\n",
       "      <th>total_acc</th>\n",
       "      <th>initial_list_status</th>\n",
       "      <th>collections_12_mths_ex_med</th>\n",
       "      <th>mths_since_last_major_derog</th>\n",
       "      <th>application_type</th>\n",
       "      <th>annual_inc_joint</th>\n",
       "      <th>dti_joint</th>\n",
       "      <th>acc_now_delinq</th>\n",
       "      <th>tot_coll_amt</th>\n",
       "      <th>tot_cur_bal</th>\n",
       "      <th>open_acc_6m</th>\n",
       "      <th>open_act_il</th>\n",
       "      <th>open_il_12m</th>\n",
       "      <th>open_il_24m</th>\n",
       "      <th>mths_since_rcnt_il</th>\n",
       "      <th>total_bal_il</th>\n",
       "      <th>il_util</th>\n",
       "      <th>open_rv_12m</th>\n",
       "      <th>open_rv_24m</th>\n",
       "      <th>max_bal_bc</th>\n",
       "      <th>all_util</th>\n",
       "      <th>total_rev_hi_lim</th>\n",
       "      <th>inq_fi</th>\n",
       "      <th>total_cu_tl</th>\n",
       "      <th>inq_last_12m</th>\n",
       "      <th>acc_open_past_24mths</th>\n",
       "      <th>avg_cur_bal</th>\n",
       "      <th>bc_open_to_buy</th>\n",
       "      <th>bc_util</th>\n",
       "      <th>chargeoff_within_12_mths</th>\n",
       "      <th>delinq_amnt</th>\n",
       "      <th>mo_sin_old_il_acct</th>\n",
       "      <th>mo_sin_old_rev_tl_op</th>\n",
       "      <th>mo_sin_rcnt_rev_tl_op</th>\n",
       "      <th>mo_sin_rcnt_tl</th>\n",
       "      <th>mort_acc</th>\n",
       "      <th>mths_since_recent_bc</th>\n",
       "      <th>mths_since_recent_bc_dlq</th>\n",
       "      <th>mths_since_recent_inq</th>\n",
       "      <th>mths_since_recent_revol_delinq</th>\n",
       "      <th>num_accts_ever_120_pd</th>\n",
       "      <th>num_actv_bc_tl</th>\n",
       "      <th>num_actv_rev_tl</th>\n",
       "      <th>num_bc_sats</th>\n",
       "      <th>num_bc_tl</th>\n",
       "      <th>num_il_tl</th>\n",
       "      <th>num_op_rev_tl</th>\n",
       "      <th>num_rev_accts</th>\n",
       "      <th>num_rev_tl_bal_gt_0</th>\n",
       "      <th>num_sats</th>\n",
       "      <th>num_tl_120dpd_2m</th>\n",
       "      <th>num_tl_30dpd</th>\n",
       "      <th>num_tl_90g_dpd_24m</th>\n",
       "      <th>num_tl_op_past_12m</th>\n",
       "      <th>pct_tl_nvr_dlq</th>\n",
       "      <th>percent_bc_gt_75</th>\n",
       "      <th>pub_rec_bankruptcies</th>\n",
       "      <th>tax_liens</th>\n",
       "      <th>tot_hi_cred_lim</th>\n",
       "      <th>total_bal_ex_mort</th>\n",
       "      <th>total_bc_limit</th>\n",
       "      <th>total_il_high_credit_limit</th>\n",
       "      <th>revol_bal_joint</th>\n",
       "      <th>sec_app_earliest_cr_line</th>\n",
       "      <th>sec_app_inq_last_6mths</th>\n",
       "      <th>sec_app_mort_acc</th>\n",
       "      <th>sec_app_open_acc</th>\n",
       "      <th>sec_app_revol_util</th>\n",
       "      <th>sec_app_open_act_il</th>\n",
       "      <th>sec_app_num_rev_accts</th>\n",
       "      <th>sec_app_chargeoff_within_12_mths</th>\n",
       "      <th>sec_app_collections_12_mths_ex_med</th>\n",
       "      <th>sec_app_mths_since_last_major_derog</th>\n",
       "      <th>disbursement_method</th>\n",
       "      <th>emp_title_teacher</th>\n",
       "      <th>emp_title_manager</th>\n",
       "      <th>emp_title_owner</th>\n",
       "    </tr>\n",
       "  </thead>\n",
       "  <tbody>\n",
       "    <tr>\n",
       "      <th>0</th>\n",
       "      <td>12000</td>\n",
       "      <td>12000</td>\n",
       "      <td>36 months</td>\n",
       "      <td>16.02</td>\n",
       "      <td>422.01</td>\n",
       "      <td>3.5</td>\n",
       "      <td>False</td>\n",
       "      <td>MORTGAGE</td>\n",
       "      <td>81000.0</td>\n",
       "      <td>debt_consolidation</td>\n",
       "      <td>NC</td>\n",
       "      <td>12.76</td>\n",
       "      <td>0</td>\n",
       "      <td>4856</td>\n",
       "      <td>1</td>\n",
       "      <td>False</td>\n",
       "      <td>True</td>\n",
       "      <td>7</td>\n",
       "      <td>0</td>\n",
       "      <td>4912</td>\n",
       "      <td>23.5</td>\n",
       "      <td>15</td>\n",
       "      <td>w</td>\n",
       "      <td>0</td>\n",
       "      <td>False</td>\n",
       "      <td>Individual</td>\n",
       "      <td>True</td>\n",
       "      <td>True</td>\n",
       "      <td>0</td>\n",
       "      <td>0</td>\n",
       "      <td>174783</td>\n",
       "      <td>1</td>\n",
       "      <td>2</td>\n",
       "      <td>0</td>\n",
       "      <td>4</td>\n",
       "      <td>False</td>\n",
       "      <td>33668</td>\n",
       "      <td>False</td>\n",
       "      <td>2</td>\n",
       "      <td>5</td>\n",
       "      <td>2962</td>\n",
       "      <td>63.0</td>\n",
       "      <td>20900</td>\n",
       "      <td>1</td>\n",
       "      <td>1</td>\n",
       "      <td>2</td>\n",
       "      <td>9</td>\n",
       "      <td>24969.0</td>\n",
       "      <td>False</td>\n",
       "      <td>False</td>\n",
       "      <td>0</td>\n",
       "      <td>0</td>\n",
       "      <td>False</td>\n",
       "      <td>23</td>\n",
       "      <td>1</td>\n",
       "      <td>1</td>\n",
       "      <td>1</td>\n",
       "      <td>False</td>\n",
       "      <td>True</td>\n",
       "      <td>False</td>\n",
       "      <td>True</td>\n",
       "      <td>2</td>\n",
       "      <td>2</td>\n",
       "      <td>2</td>\n",
       "      <td>2</td>\n",
       "      <td>2</td>\n",
       "      <td>9</td>\n",
       "      <td>4</td>\n",
       "      <td>5</td>\n",
       "      <td>2</td>\n",
       "      <td>7</td>\n",
       "      <td>False</td>\n",
       "      <td>0</td>\n",
       "      <td>0</td>\n",
       "      <td>2</td>\n",
       "      <td>92.9</td>\n",
       "      <td>False</td>\n",
       "      <td>0</td>\n",
       "      <td>0</td>\n",
       "      <td>206618</td>\n",
       "      <td>38580</td>\n",
       "      <td>5500</td>\n",
       "      <td>40863</td>\n",
       "      <td>True</td>\n",
       "      <td>True</td>\n",
       "      <td>True</td>\n",
       "      <td>True</td>\n",
       "      <td>True</td>\n",
       "      <td>True</td>\n",
       "      <td>True</td>\n",
       "      <td>True</td>\n",
       "      <td>True</td>\n",
       "      <td>True</td>\n",
       "      <td>True</td>\n",
       "      <td>Cash</td>\n",
       "      <td>False</td>\n",
       "      <td>False</td>\n",
       "      <td>False</td>\n",
       "    </tr>\n",
       "    <tr>\n",
       "      <th>1</th>\n",
       "      <td>6300</td>\n",
       "      <td>6300</td>\n",
       "      <td>36 months</td>\n",
       "      <td>14.07</td>\n",
       "      <td>215.54</td>\n",
       "      <td>3.3</td>\n",
       "      <td>False</td>\n",
       "      <td>RENT</td>\n",
       "      <td>39000.0</td>\n",
       "      <td>debt_consolidation</td>\n",
       "      <td>CA</td>\n",
       "      <td>21.42</td>\n",
       "      <td>0</td>\n",
       "      <td>2574</td>\n",
       "      <td>1</td>\n",
       "      <td>True</td>\n",
       "      <td>True</td>\n",
       "      <td>10</td>\n",
       "      <td>0</td>\n",
       "      <td>11876</td>\n",
       "      <td>59.4</td>\n",
       "      <td>12</td>\n",
       "      <td>w</td>\n",
       "      <td>0</td>\n",
       "      <td>True</td>\n",
       "      <td>Individual</td>\n",
       "      <td>True</td>\n",
       "      <td>True</td>\n",
       "      <td>0</td>\n",
       "      <td>0</td>\n",
       "      <td>31046</td>\n",
       "      <td>0</td>\n",
       "      <td>1</td>\n",
       "      <td>0</td>\n",
       "      <td>2</td>\n",
       "      <td>False</td>\n",
       "      <td>19170</td>\n",
       "      <td>False</td>\n",
       "      <td>3</td>\n",
       "      <td>8</td>\n",
       "      <td>5153</td>\n",
       "      <td>72.0</td>\n",
       "      <td>20000</td>\n",
       "      <td>1</td>\n",
       "      <td>0</td>\n",
       "      <td>1</td>\n",
       "      <td>10</td>\n",
       "      <td>3105.0</td>\n",
       "      <td>False</td>\n",
       "      <td>False</td>\n",
       "      <td>0</td>\n",
       "      <td>0</td>\n",
       "      <td>False</td>\n",
       "      <td>72</td>\n",
       "      <td>8</td>\n",
       "      <td>8</td>\n",
       "      <td>0</td>\n",
       "      <td>False</td>\n",
       "      <td>True</td>\n",
       "      <td>False</td>\n",
       "      <td>True</td>\n",
       "      <td>0</td>\n",
       "      <td>6</td>\n",
       "      <td>7</td>\n",
       "      <td>7</td>\n",
       "      <td>8</td>\n",
       "      <td>2</td>\n",
       "      <td>9</td>\n",
       "      <td>10</td>\n",
       "      <td>7</td>\n",
       "      <td>10</td>\n",
       "      <td>False</td>\n",
       "      <td>0</td>\n",
       "      <td>0</td>\n",
       "      <td>3</td>\n",
       "      <td>100.0</td>\n",
       "      <td>False</td>\n",
       "      <td>0</td>\n",
       "      <td>0</td>\n",
       "      <td>43140</td>\n",
       "      <td>31046</td>\n",
       "      <td>16900</td>\n",
       "      <td>23140</td>\n",
       "      <td>True</td>\n",
       "      <td>True</td>\n",
       "      <td>True</td>\n",
       "      <td>True</td>\n",
       "      <td>True</td>\n",
       "      <td>True</td>\n",
       "      <td>True</td>\n",
       "      <td>True</td>\n",
       "      <td>True</td>\n",
       "      <td>True</td>\n",
       "      <td>True</td>\n",
       "      <td>Cash</td>\n",
       "      <td>False</td>\n",
       "      <td>False</td>\n",
       "      <td>False</td>\n",
       "    </tr>\n",
       "    <tr>\n",
       "      <th>2</th>\n",
       "      <td>4500</td>\n",
       "      <td>4500</td>\n",
       "      <td>36 months</td>\n",
       "      <td>7.21</td>\n",
       "      <td>139.38</td>\n",
       "      <td>1.3</td>\n",
       "      <td>False</td>\n",
       "      <td>RENT</td>\n",
       "      <td>78000.0</td>\n",
       "      <td>debt_consolidation</td>\n",
       "      <td>CA</td>\n",
       "      <td>2.17</td>\n",
       "      <td>0</td>\n",
       "      <td>6896</td>\n",
       "      <td>2</td>\n",
       "      <td>True</td>\n",
       "      <td>True</td>\n",
       "      <td>13</td>\n",
       "      <td>0</td>\n",
       "      <td>1715</td>\n",
       "      <td>5.2</td>\n",
       "      <td>19</td>\n",
       "      <td>w</td>\n",
       "      <td>0</td>\n",
       "      <td>True</td>\n",
       "      <td>Individual</td>\n",
       "      <td>True</td>\n",
       "      <td>True</td>\n",
       "      <td>0</td>\n",
       "      <td>0</td>\n",
       "      <td>35329</td>\n",
       "      <td>0</td>\n",
       "      <td>8</td>\n",
       "      <td>1</td>\n",
       "      <td>2</td>\n",
       "      <td>False</td>\n",
       "      <td>33614</td>\n",
       "      <td>False</td>\n",
       "      <td>1</td>\n",
       "      <td>1</td>\n",
       "      <td>1196</td>\n",
       "      <td>54.0</td>\n",
       "      <td>33300</td>\n",
       "      <td>4</td>\n",
       "      <td>0</td>\n",
       "      <td>3</td>\n",
       "      <td>3</td>\n",
       "      <td>2718.0</td>\n",
       "      <td>False</td>\n",
       "      <td>False</td>\n",
       "      <td>0</td>\n",
       "      <td>0</td>\n",
       "      <td>False</td>\n",
       "      <td>218</td>\n",
       "      <td>10</td>\n",
       "      <td>10</td>\n",
       "      <td>0</td>\n",
       "      <td>False</td>\n",
       "      <td>True</td>\n",
       "      <td>False</td>\n",
       "      <td>True</td>\n",
       "      <td>0</td>\n",
       "      <td>3</td>\n",
       "      <td>3</td>\n",
       "      <td>3</td>\n",
       "      <td>4</td>\n",
       "      <td>13</td>\n",
       "      <td>5</td>\n",
       "      <td>6</td>\n",
       "      <td>3</td>\n",
       "      <td>13</td>\n",
       "      <td>False</td>\n",
       "      <td>0</td>\n",
       "      <td>0</td>\n",
       "      <td>2</td>\n",
       "      <td>100.0</td>\n",
       "      <td>False</td>\n",
       "      <td>0</td>\n",
       "      <td>0</td>\n",
       "      <td>65092</td>\n",
       "      <td>35329</td>\n",
       "      <td>23300</td>\n",
       "      <td>31792</td>\n",
       "      <td>True</td>\n",
       "      <td>True</td>\n",
       "      <td>True</td>\n",
       "      <td>True</td>\n",
       "      <td>True</td>\n",
       "      <td>True</td>\n",
       "      <td>True</td>\n",
       "      <td>True</td>\n",
       "      <td>True</td>\n",
       "      <td>True</td>\n",
       "      <td>True</td>\n",
       "      <td>Cash</td>\n",
       "      <td>False</td>\n",
       "      <td>False</td>\n",
       "      <td>False</td>\n",
       "    </tr>\n",
       "    <tr>\n",
       "      <th>3</th>\n",
       "      <td>12000</td>\n",
       "      <td>12000</td>\n",
       "      <td>36 months</td>\n",
       "      <td>9.44</td>\n",
       "      <td>384.06</td>\n",
       "      <td>2.1</td>\n",
       "      <td>False</td>\n",
       "      <td>MORTGAGE</td>\n",
       "      <td>62000.0</td>\n",
       "      <td>debt_consolidation</td>\n",
       "      <td>OH</td>\n",
       "      <td>13.76</td>\n",
       "      <td>0</td>\n",
       "      <td>5890</td>\n",
       "      <td>0</td>\n",
       "      <td>True</td>\n",
       "      <td>True</td>\n",
       "      <td>22</td>\n",
       "      <td>0</td>\n",
       "      <td>9404</td>\n",
       "      <td>16.3</td>\n",
       "      <td>33</td>\n",
       "      <td>w</td>\n",
       "      <td>0</td>\n",
       "      <td>True</td>\n",
       "      <td>Individual</td>\n",
       "      <td>True</td>\n",
       "      <td>True</td>\n",
       "      <td>0</td>\n",
       "      <td>0</td>\n",
       "      <td>75160</td>\n",
       "      <td>4</td>\n",
       "      <td>1</td>\n",
       "      <td>0</td>\n",
       "      <td>2</td>\n",
       "      <td>False</td>\n",
       "      <td>17123</td>\n",
       "      <td>False</td>\n",
       "      <td>6</td>\n",
       "      <td>9</td>\n",
       "      <td>6898</td>\n",
       "      <td>32.0</td>\n",
       "      <td>57600</td>\n",
       "      <td>3</td>\n",
       "      <td>1</td>\n",
       "      <td>2</td>\n",
       "      <td>12</td>\n",
       "      <td>3579.0</td>\n",
       "      <td>False</td>\n",
       "      <td>False</td>\n",
       "      <td>0</td>\n",
       "      <td>0</td>\n",
       "      <td>False</td>\n",
       "      <td>179</td>\n",
       "      <td>1</td>\n",
       "      <td>1</td>\n",
       "      <td>1</td>\n",
       "      <td>False</td>\n",
       "      <td>True</td>\n",
       "      <td>False</td>\n",
       "      <td>True</td>\n",
       "      <td>0</td>\n",
       "      <td>1</td>\n",
       "      <td>3</td>\n",
       "      <td>9</td>\n",
       "      <td>13</td>\n",
       "      <td>7</td>\n",
       "      <td>20</td>\n",
       "      <td>25</td>\n",
       "      <td>3</td>\n",
       "      <td>22</td>\n",
       "      <td>False</td>\n",
       "      <td>0</td>\n",
       "      <td>0</td>\n",
       "      <td>7</td>\n",
       "      <td>100.0</td>\n",
       "      <td>False</td>\n",
       "      <td>0</td>\n",
       "      <td>0</td>\n",
       "      <td>133065</td>\n",
       "      <td>26527</td>\n",
       "      <td>40500</td>\n",
       "      <td>25465</td>\n",
       "      <td>True</td>\n",
       "      <td>True</td>\n",
       "      <td>True</td>\n",
       "      <td>True</td>\n",
       "      <td>True</td>\n",
       "      <td>True</td>\n",
       "      <td>True</td>\n",
       "      <td>True</td>\n",
       "      <td>True</td>\n",
       "      <td>True</td>\n",
       "      <td>True</td>\n",
       "      <td>Cash</td>\n",
       "      <td>False</td>\n",
       "      <td>False</td>\n",
       "      <td>False</td>\n",
       "    </tr>\n",
       "    <tr>\n",
       "      <th>4</th>\n",
       "      <td>12000</td>\n",
       "      <td>12000</td>\n",
       "      <td>36 months</td>\n",
       "      <td>22.35</td>\n",
       "      <td>460.47</td>\n",
       "      <td>4.5</td>\n",
       "      <td>False</td>\n",
       "      <td>MORTGAGE</td>\n",
       "      <td>70000.0</td>\n",
       "      <td>debt_consolidation</td>\n",
       "      <td>TX</td>\n",
       "      <td>14.04</td>\n",
       "      <td>4</td>\n",
       "      <td>6347</td>\n",
       "      <td>2</td>\n",
       "      <td>False</td>\n",
       "      <td>True</td>\n",
       "      <td>18</td>\n",
       "      <td>0</td>\n",
       "      <td>17895</td>\n",
       "      <td>24.2</td>\n",
       "      <td>45</td>\n",
       "      <td>w</td>\n",
       "      <td>0</td>\n",
       "      <td>False</td>\n",
       "      <td>Individual</td>\n",
       "      <td>True</td>\n",
       "      <td>True</td>\n",
       "      <td>0</td>\n",
       "      <td>7218</td>\n",
       "      <td>113702</td>\n",
       "      <td>9</td>\n",
       "      <td>2</td>\n",
       "      <td>2</td>\n",
       "      <td>4</td>\n",
       "      <td>False</td>\n",
       "      <td>16711</td>\n",
       "      <td>False</td>\n",
       "      <td>9</td>\n",
       "      <td>10</td>\n",
       "      <td>5373</td>\n",
       "      <td>35.0</td>\n",
       "      <td>73900</td>\n",
       "      <td>3</td>\n",
       "      <td>6</td>\n",
       "      <td>3</td>\n",
       "      <td>14</td>\n",
       "      <td>6317.0</td>\n",
       "      <td>False</td>\n",
       "      <td>False</td>\n",
       "      <td>0</td>\n",
       "      <td>0</td>\n",
       "      <td>False</td>\n",
       "      <td>201</td>\n",
       "      <td>0</td>\n",
       "      <td>0</td>\n",
       "      <td>1</td>\n",
       "      <td>False</td>\n",
       "      <td>False</td>\n",
       "      <td>False</td>\n",
       "      <td>False</td>\n",
       "      <td>6</td>\n",
       "      <td>9</td>\n",
       "      <td>11</td>\n",
       "      <td>11</td>\n",
       "      <td>14</td>\n",
       "      <td>22</td>\n",
       "      <td>15</td>\n",
       "      <td>20</td>\n",
       "      <td>11</td>\n",
       "      <td>18</td>\n",
       "      <td>False</td>\n",
       "      <td>0</td>\n",
       "      <td>2</td>\n",
       "      <td>11</td>\n",
       "      <td>82.2</td>\n",
       "      <td>False</td>\n",
       "      <td>0</td>\n",
       "      <td>0</td>\n",
       "      <td>192842</td>\n",
       "      <td>34606</td>\n",
       "      <td>43300</td>\n",
       "      <td>24499</td>\n",
       "      <td>True</td>\n",
       "      <td>True</td>\n",
       "      <td>True</td>\n",
       "      <td>True</td>\n",
       "      <td>True</td>\n",
       "      <td>True</td>\n",
       "      <td>True</td>\n",
       "      <td>True</td>\n",
       "      <td>True</td>\n",
       "      <td>True</td>\n",
       "      <td>True</td>\n",
       "      <td>Cash</td>\n",
       "      <td>False</td>\n",
       "      <td>False</td>\n",
       "      <td>False</td>\n",
       "    </tr>\n",
       "  </tbody>\n",
       "</table>\n",
       "</div>"
      ],
      "text/plain": [
       "   loan_amnt  funded_amnt        term  int_rate  installment  sub_grade  \\\n",
       "0      12000        12000   36 months     16.02       422.01        3.5   \n",
       "1       6300         6300   36 months     14.07       215.54        3.3   \n",
       "2       4500         4500   36 months      7.21       139.38        1.3   \n",
       "3      12000        12000   36 months      9.44       384.06        2.1   \n",
       "4      12000        12000   36 months     22.35       460.47        4.5   \n",
       "\n",
       "   emp_length home_ownership  annual_inc             purpose addr_state  \\\n",
       "0       False       MORTGAGE     81000.0  debt_consolidation         NC   \n",
       "1       False           RENT     39000.0  debt_consolidation         CA   \n",
       "2       False           RENT     78000.0  debt_consolidation         CA   \n",
       "3       False       MORTGAGE     62000.0  debt_consolidation         OH   \n",
       "4       False       MORTGAGE     70000.0  debt_consolidation         TX   \n",
       "\n",
       "     dti  delinq_2yrs  earliest_cr_line  inq_last_6mths  \\\n",
       "0  12.76            0              4856               1   \n",
       "1  21.42            0              2574               1   \n",
       "2   2.17            0              6896               2   \n",
       "3  13.76            0              5890               0   \n",
       "4  14.04            4              6347               2   \n",
       "\n",
       "   mths_since_last_delinq  mths_since_last_record  open_acc  pub_rec  \\\n",
       "0                   False                    True         7        0   \n",
       "1                    True                    True        10        0   \n",
       "2                    True                    True        13        0   \n",
       "3                    True                    True        22        0   \n",
       "4                   False                    True        18        0   \n",
       "\n",
       "   revol_bal  revol_util  total_acc initial_list_status  \\\n",
       "0       4912        23.5         15                   w   \n",
       "1      11876        59.4         12                   w   \n",
       "2       1715         5.2         19                   w   \n",
       "3       9404        16.3         33                   w   \n",
       "4      17895        24.2         45                   w   \n",
       "\n",
       "   collections_12_mths_ex_med  mths_since_last_major_derog application_type  \\\n",
       "0                           0                        False       Individual   \n",
       "1                           0                         True       Individual   \n",
       "2                           0                         True       Individual   \n",
       "3                           0                         True       Individual   \n",
       "4                           0                        False       Individual   \n",
       "\n",
       "   annual_inc_joint  dti_joint  acc_now_delinq  tot_coll_amt  tot_cur_bal  \\\n",
       "0              True       True               0             0       174783   \n",
       "1              True       True               0             0        31046   \n",
       "2              True       True               0             0        35329   \n",
       "3              True       True               0             0        75160   \n",
       "4              True       True               0          7218       113702   \n",
       "\n",
       "   open_acc_6m  open_act_il  open_il_12m  open_il_24m  mths_since_rcnt_il  \\\n",
       "0            1            2            0            4               False   \n",
       "1            0            1            0            2               False   \n",
       "2            0            8            1            2               False   \n",
       "3            4            1            0            2               False   \n",
       "4            9            2            2            4               False   \n",
       "\n",
       "   total_bal_il  il_util  open_rv_12m  open_rv_24m  max_bal_bc  all_util  \\\n",
       "0         33668    False            2            5        2962      63.0   \n",
       "1         19170    False            3            8        5153      72.0   \n",
       "2         33614    False            1            1        1196      54.0   \n",
       "3         17123    False            6            9        6898      32.0   \n",
       "4         16711    False            9           10        5373      35.0   \n",
       "\n",
       "   total_rev_hi_lim  inq_fi  total_cu_tl  inq_last_12m  acc_open_past_24mths  \\\n",
       "0             20900       1            1             2                     9   \n",
       "1             20000       1            0             1                    10   \n",
       "2             33300       4            0             3                     3   \n",
       "3             57600       3            1             2                    12   \n",
       "4             73900       3            6             3                    14   \n",
       "\n",
       "   avg_cur_bal  bc_open_to_buy  bc_util  chargeoff_within_12_mths  \\\n",
       "0      24969.0           False    False                         0   \n",
       "1       3105.0           False    False                         0   \n",
       "2       2718.0           False    False                         0   \n",
       "3       3579.0           False    False                         0   \n",
       "4       6317.0           False    False                         0   \n",
       "\n",
       "   delinq_amnt  mo_sin_old_il_acct  mo_sin_old_rev_tl_op  \\\n",
       "0            0               False                    23   \n",
       "1            0               False                    72   \n",
       "2            0               False                   218   \n",
       "3            0               False                   179   \n",
       "4            0               False                   201   \n",
       "\n",
       "   mo_sin_rcnt_rev_tl_op  mo_sin_rcnt_tl  mort_acc  mths_since_recent_bc  \\\n",
       "0                      1               1         1                 False   \n",
       "1                      8               8         0                 False   \n",
       "2                     10              10         0                 False   \n",
       "3                      1               1         1                 False   \n",
       "4                      0               0         1                 False   \n",
       "\n",
       "   mths_since_recent_bc_dlq  mths_since_recent_inq  \\\n",
       "0                      True                  False   \n",
       "1                      True                  False   \n",
       "2                      True                  False   \n",
       "3                      True                  False   \n",
       "4                     False                  False   \n",
       "\n",
       "   mths_since_recent_revol_delinq  num_accts_ever_120_pd  num_actv_bc_tl  \\\n",
       "0                            True                      2               2   \n",
       "1                            True                      0               6   \n",
       "2                            True                      0               3   \n",
       "3                            True                      0               1   \n",
       "4                           False                      6               9   \n",
       "\n",
       "   num_actv_rev_tl  num_bc_sats  num_bc_tl  num_il_tl  num_op_rev_tl  \\\n",
       "0                2            2          2          9              4   \n",
       "1                7            7          8          2              9   \n",
       "2                3            3          4         13              5   \n",
       "3                3            9         13          7             20   \n",
       "4               11           11         14         22             15   \n",
       "\n",
       "   num_rev_accts  num_rev_tl_bal_gt_0  num_sats  num_tl_120dpd_2m  \\\n",
       "0              5                    2         7             False   \n",
       "1             10                    7        10             False   \n",
       "2              6                    3        13             False   \n",
       "3             25                    3        22             False   \n",
       "4             20                   11        18             False   \n",
       "\n",
       "   num_tl_30dpd  num_tl_90g_dpd_24m  num_tl_op_past_12m  pct_tl_nvr_dlq  \\\n",
       "0             0                   0                   2            92.9   \n",
       "1             0                   0                   3           100.0   \n",
       "2             0                   0                   2           100.0   \n",
       "3             0                   0                   7           100.0   \n",
       "4             0                   2                  11            82.2   \n",
       "\n",
       "   percent_bc_gt_75  pub_rec_bankruptcies  tax_liens  tot_hi_cred_lim  \\\n",
       "0             False                     0          0           206618   \n",
       "1             False                     0          0            43140   \n",
       "2             False                     0          0            65092   \n",
       "3             False                     0          0           133065   \n",
       "4             False                     0          0           192842   \n",
       "\n",
       "   total_bal_ex_mort  total_bc_limit  total_il_high_credit_limit  \\\n",
       "0              38580            5500                       40863   \n",
       "1              31046           16900                       23140   \n",
       "2              35329           23300                       31792   \n",
       "3              26527           40500                       25465   \n",
       "4              34606           43300                       24499   \n",
       "\n",
       "   revol_bal_joint  sec_app_earliest_cr_line  sec_app_inq_last_6mths  \\\n",
       "0             True                      True                    True   \n",
       "1             True                      True                    True   \n",
       "2             True                      True                    True   \n",
       "3             True                      True                    True   \n",
       "4             True                      True                    True   \n",
       "\n",
       "   sec_app_mort_acc  sec_app_open_acc  sec_app_revol_util  \\\n",
       "0              True              True                True   \n",
       "1              True              True                True   \n",
       "2              True              True                True   \n",
       "3              True              True                True   \n",
       "4              True              True                True   \n",
       "\n",
       "   sec_app_open_act_il  sec_app_num_rev_accts  \\\n",
       "0                 True                   True   \n",
       "1                 True                   True   \n",
       "2                 True                   True   \n",
       "3                 True                   True   \n",
       "4                 True                   True   \n",
       "\n",
       "   sec_app_chargeoff_within_12_mths  sec_app_collections_12_mths_ex_med  \\\n",
       "0                              True                                True   \n",
       "1                              True                                True   \n",
       "2                              True                                True   \n",
       "3                              True                                True   \n",
       "4                              True                                True   \n",
       "\n",
       "   sec_app_mths_since_last_major_derog disbursement_method  emp_title_teacher  \\\n",
       "0                                 True                Cash              False   \n",
       "1                                 True                Cash              False   \n",
       "2                                 True                Cash              False   \n",
       "3                                 True                Cash              False   \n",
       "4                                 True                Cash              False   \n",
       "\n",
       "   emp_title_manager  emp_title_owner  \n",
       "0              False            False  \n",
       "1              False            False  \n",
       "2              False            False  \n",
       "3              False            False  \n",
       "4              False            False  "
      ]
     },
     "execution_count": 20,
     "metadata": {},
     "output_type": "execute_result"
    }
   ],
   "source": [
    "X_train.head()"
   ]
  },
  {
   "cell_type": "markdown",
   "metadata": {},
   "source": [
    "Now X_train (and X_test) have no nulls"
   ]
  },
  {
   "cell_type": "code",
   "execution_count": 21,
   "metadata": {},
   "outputs": [
    {
     "data": {
      "text/plain": [
       "True"
      ]
     },
     "execution_count": 21,
     "metadata": {},
     "output_type": "execute_result"
    }
   ],
   "source": [
    "null_counts = X_train.isnull().sum()\n",
    "all(null_counts == 0)"
   ]
  },
  {
   "cell_type": "markdown",
   "metadata": {},
   "source": [
    "And no high cardinality categoricals"
   ]
  },
  {
   "cell_type": "code",
   "execution_count": 22,
   "metadata": {},
   "outputs": [
    {
     "data": {
      "text/plain": [
       "True"
      ]
     },
     "execution_count": 22,
     "metadata": {},
     "output_type": "execute_result"
    }
   ],
   "source": [
    "cardinality = X_train.select_dtypes(exclude='number').nunique()\n",
    "all(cardinality <= 50)"
   ]
  },
  {
   "cell_type": "markdown",
   "metadata": {},
   "source": [
    "## Decision Tree"
   ]
  },
  {
   "cell_type": "code",
   "execution_count": 23,
   "metadata": {},
   "outputs": [
    {
     "data": {
      "text/plain": [
       "array([0.70297128, 0.70044849, 0.69332495, 0.68879982, 0.68917646])"
      ]
     },
     "execution_count": 23,
     "metadata": {},
     "output_type": "execute_result"
    }
   ],
   "source": [
    "import category_encoders as ce\n",
    "from sklearn.model_selection import cross_val_score\n",
    "from sklearn.pipeline import make_pipeline\n",
    "from sklearn.tree import DecisionTreeClassifier\n",
    "\n",
    "pipe = make_pipeline(\n",
    "    ce.OrdinalEncoder(), \n",
    "    DecisionTreeClassifier(max_depth=5, class_weight='balanced')\n",
    ")\n",
    "\n",
    "cross_val_score(pipe, X_train, y_train, cv=5, scoring='roc_auc')"
   ]
  },
  {
   "cell_type": "markdown",
   "metadata": {},
   "source": [
    "## Random Forest\n",
    "Improves ROC AUC compared to Decision Tree"
   ]
  },
  {
   "cell_type": "code",
   "execution_count": 24,
   "metadata": {},
   "outputs": [
    {
     "name": "stderr",
     "output_type": "stream",
     "text": [
      "[Parallel(n_jobs=1)]: Using backend SequentialBackend with 1 concurrent workers.\n"
     ]
    },
    {
     "name": "stdout",
     "output_type": "stream",
     "text": [
      "[CV]  ................................................................\n",
      "[CV] ....................... , score=0.7266742981178068, total=   6.3s\n",
      "[CV]  ................................................................\n"
     ]
    },
    {
     "name": "stderr",
     "output_type": "stream",
     "text": [
      "[Parallel(n_jobs=1)]: Done   1 out of   1 | elapsed:    6.4s remaining:    0.0s\n"
     ]
    },
    {
     "name": "stdout",
     "output_type": "stream",
     "text": [
      "[CV] ....................... , score=0.7275840818005378, total=   3.5s\n",
      "[CV]  ................................................................\n"
     ]
    },
    {
     "name": "stderr",
     "output_type": "stream",
     "text": [
      "[Parallel(n_jobs=1)]: Done   2 out of   2 | elapsed:   10.0s remaining:    0.0s\n"
     ]
    },
    {
     "name": "stdout",
     "output_type": "stream",
     "text": [
      "[CV] ....................... , score=0.7217624371943251, total=   3.5s\n",
      "[CV]  ................................................................\n"
     ]
    },
    {
     "name": "stderr",
     "output_type": "stream",
     "text": [
      "[Parallel(n_jobs=1)]: Done   3 out of   3 | elapsed:   13.6s remaining:    0.0s\n"
     ]
    },
    {
     "name": "stdout",
     "output_type": "stream",
     "text": [
      "[CV] ....................... , score=0.7293195302754879, total=   3.4s\n",
      "[CV]  ................................................................\n"
     ]
    },
    {
     "name": "stderr",
     "output_type": "stream",
     "text": [
      "[Parallel(n_jobs=1)]: Done   4 out of   4 | elapsed:   17.1s remaining:    0.0s\n"
     ]
    },
    {
     "name": "stdout",
     "output_type": "stream",
     "text": [
      "[CV] ....................... , score=0.7366618249190476, total=   3.8s\n"
     ]
    },
    {
     "name": "stderr",
     "output_type": "stream",
     "text": [
      "[Parallel(n_jobs=1)]: Done   5 out of   5 | elapsed:   21.0s remaining:    0.0s\n",
      "[Parallel(n_jobs=1)]: Done   5 out of   5 | elapsed:   21.0s finished\n"
     ]
    },
    {
     "data": {
      "text/plain": [
       "array([0.7266743 , 0.72758408, 0.72176244, 0.72931953, 0.73666182])"
      ]
     },
     "execution_count": 24,
     "metadata": {},
     "output_type": "execute_result"
    }
   ],
   "source": [
    "from sklearn.ensemble import RandomForestClassifier\n",
    "\n",
    "pipe = make_pipeline(\n",
    "    ce.OrdinalEncoder(), \n",
    "    RandomForestClassifier(\n",
    "        n_estimators=100, \n",
    "        class_weight='balanced', \n",
    "        min_samples_leaf=0.005, # not going below half of percentage of the population -- min_samples_leaf = 1 can lead to overfitting\n",
    "        oob_score=True, \n",
    "        n_jobs=-1)\n",
    ")\n",
    "\n",
    "cross_val_score(pipe, X_train, y_train, cv=5, scoring='roc_auc', verbose=10)"
   ]
  },
  {
   "cell_type": "markdown",
   "metadata": {},
   "source": [
    "## Out-of-Bag estimated score"
   ]
  },
  {
   "cell_type": "markdown",
   "metadata": {},
   "source": [
    "Out-of-bag is a faster way to get an estimated score with Random Forest, using the parameter `oob_score=True`"
   ]
  },
  {
   "cell_type": "code",
   "execution_count": 26,
   "metadata": {},
   "outputs": [],
   "source": [
    "from sklearn.metrics import roc_auc_score"
   ]
  },
  {
   "cell_type": "code",
   "execution_count": 27,
   "metadata": {},
   "outputs": [
    {
     "name": "stdout",
     "output_type": "stream",
     "text": [
      "ROC AUC, Out-of-Bag estimate: 0.7267958273944365\n",
      "Wall time: 4.47 s\n"
     ]
    }
   ],
   "source": [
    "%%time\n",
    "pipe.fit(X_train, y_train)\n",
    "y_pred_proba = pipe.named_steps['randomforestclassifier'].oob_decision_function_[:, 1]\n",
    "print('ROC AUC, Out-of-Bag estimate:', roc_auc_score(y_train, y_pred_proba))"
   ]
  },
  {
   "cell_type": "markdown",
   "metadata": {},
   "source": [
    "You can explore hyperparameter values"
   ]
  },
  {
   "cell_type": "code",
   "execution_count": 28,
   "metadata": {},
   "outputs": [
    {
     "name": "stdout",
     "output_type": "stream",
     "text": [
      "Max Depth: 2\n",
      "ROC AUC, OOB: 0.698732981136057\n",
      "Max Depth: 4\n",
      "ROC AUC, OOB: 0.7164431886661544\n",
      "Max Depth: 6\n",
      "ROC AUC, OOB: 0.723005176375296\n",
      "Max Depth: 8\n",
      "ROC AUC, OOB: 0.7260228092345867\n",
      "Max Depth: 10\n",
      "ROC AUC, OOB: 0.7221229231936177\n",
      "Max Depth: None\n",
      "ROC AUC, OOB: 0.7068857730663173\n",
      "Wall time: 40.6 s\n"
     ]
    }
   ],
   "source": [
    "%%time\n",
    "\n",
    "max_depths = list(range(2, 12, 2)) + [None]\n",
    "\n",
    "for max_depth in max_depths:\n",
    "    \n",
    "    pipe = make_pipeline(\n",
    "        ce.OrdinalEncoder(), \n",
    "        RandomForestClassifier(\n",
    "            n_estimators=100, \n",
    "            class_weight='balanced', \n",
    "            max_depth=max_depth, \n",
    "            oob_score=True, \n",
    "            n_jobs=-1\n",
    "        )\n",
    "    )\n",
    "        \n",
    "    pipe.fit(X_train, y_train)\n",
    "    y_pred_proba = pipe.named_steps['randomforestclassifier'].oob_decision_function_[:, 1]\n",
    "    print('Max Depth:', max_depth)\n",
    "    print('ROC AUC, OOB:', roc_auc_score(y_train, y_pred_proba))"
   ]
  },
  {
   "cell_type": "markdown",
   "metadata": {},
   "source": [
    "## Feature Importances"
   ]
  },
  {
   "cell_type": "markdown",
   "metadata": {},
   "source": [
    "We can look at feature importances. [But remember:](https://blog.datadive.net/selecting-good-features-part-iii-random-forests/)\n",
    "\n",
    ">Firstly, feature selection based on impurity reduction is biased towards preferring variables with more categories.\n",
    ">\n",
    ">Secondly, when the dataset has two (or more) correlated features, then from the point of view of the model, any of these correlated features can be used as the predictor, with no concrete preference of one over the others. "
   ]
  },
  {
   "cell_type": "code",
   "execution_count": 29,
   "metadata": {},
   "outputs": [
    {
     "data": {
      "image/png": "[encoded data removed]",
      "text/plain": [
       "<Figure size 576x576 with 1 Axes>"
      ]
     },
     "metadata": {
      "needs_background": "light"
     },
     "output_type": "display_data"
    }
   ],
   "source": [
    "def show_feature_importances(\n",
    "    pipe, X, y, estimator_name='randomforestclassifier', \n",
    "    n=20, figsize=(8, 8)):\n",
    "    \n",
    "    # pipe must not change dimensions of X dataframe\n",
    "    pipe.fit(X, y)\n",
    "    \n",
    "    importances = pd.Series(\n",
    "        pipe.named_steps[estimator_name].feature_importances_, \n",
    "        X.columns)\n",
    "\n",
    "    top_n = importances.sort_values(ascending=False)[:n]\n",
    "    \n",
    "    plt.figure(figsize=figsize)\n",
    "    top_n.sort_values().plot.barh(color='grey')\n",
    "\n",
    "    \n",
    "show_feature_importances(pipe, X_train, y_train)"
   ]
  },
  {
   "cell_type": "markdown",
   "metadata": {},
   "source": [
    "## Drop Column Importance / \"Ablation Study\""
   ]
  },
  {
   "cell_type": "markdown",
   "metadata": {},
   "source": [
    "`sub_grade` and `int_rate` are highly correlated. If we drop one of those features, the model uses the other more, so the score remains similar."
   ]
  },
  {
   "cell_type": "code",
   "execution_count": 30,
   "metadata": {},
   "outputs": [
    {
     "data": {
      "text/plain": [
       "array([0.71901424, 0.72457365, 0.71914738, 0.71559085, 0.72409728])"
      ]
     },
     "execution_count": 30,
     "metadata": {},
     "output_type": "execute_result"
    }
   ],
   "source": [
    "cross_val_score(pipe, X_train.drop(columns='sub_grade'), y_train, cv=5, scoring='roc_auc')"
   ]
  },
  {
   "cell_type": "code",
   "execution_count": 31,
   "metadata": {},
   "outputs": [
    {
     "data": {
      "image/png": "[encoded data removed]",
      "text/plain": [
       "<Figure size 576x576 with 1 Axes>"
      ]
     },
     "metadata": {
      "needs_background": "light"
     },
     "output_type": "display_data"
    }
   ],
   "source": [
    "show_feature_importances(pipe, X_train.drop(columns='sub_grade'), y_train)"
   ]
  },
  {
   "cell_type": "markdown",
   "metadata": {},
   "source": [
    "But if we drop _both_ features, then the score decreases:"
   ]
  },
  {
   "cell_type": "code",
   "execution_count": 32,
   "metadata": {},
   "outputs": [
    {
     "data": {
      "text/plain": [
       "array([0.70524177, 0.70660715, 0.70356483, 0.70940976, 0.70039063])"
      ]
     },
     "execution_count": 32,
     "metadata": {},
     "output_type": "execute_result"
    }
   ],
   "source": [
    "cross_val_score(pipe, X_train.drop(columns=['sub_grade', 'int_rate']), y_train, cv=5, scoring='roc_auc')"
   ]
  },
  {
   "cell_type": "markdown",
   "metadata": {},
   "source": [
    "For more information, see [Beware Default Random Forest Importances](https://explained.ai/rf-importance/index.html)."
   ]
  },
  {
   "cell_type": "markdown",
   "metadata": {},
   "source": [
    "# Permutation Importance"
   ]
  },
  {
   "cell_type": "markdown",
   "metadata": {},
   "source": [
    "Permutation Importance is a compromise between Feature Importance based on impurity reduction (which is the fastest) and Drop Column Importance (which is the \"best.\")\n",
    "\n",
    "[The ELI5 library documentation explains,](https://eli5.readthedocs.io/en/latest/blackbox/permutation_importance.html)\n",
    "\n",
    "> Importance can be measured by looking at how much the score (accuracy, F1, R^2, etc. - any score we’re interested in) decreases when a feature is not available.\n",
    ">\n",
    "> To do that one can remove feature from the dataset, re-train the estimator and check the score. But it requires re-training an estimator for each feature, which can be computationally intensive. ...\n",
    ">\n",
    ">To avoid re-training the estimator we can remove a feature only from the test part of the dataset, and compute score without using this feature. It doesn’t work as-is, because estimators expect feature to be present. So instead of removing a feature we can replace it with random noise - feature column is still there, but it no longer contains useful information. This method works if noise is drawn from the same distribution as original feature values (as otherwise estimator may fail). The simplest way to get such noise is to shuffle values for a feature, i.e. use other examples’ feature values - this is how permutation importance is computed.\n",
    ">\n",
    ">The method is most suitable for computing feature importances when a number of columns (features) is not huge; it can be resource-intensive otherwise.\n",
    "\n",
    "For more documentation on using this library, see:\n",
    "- [eli5.sklearn.PermutationImportance](https://eli5.readthedocs.io/en/latest/autodocs/sklearn.html#eli5.sklearn.permutation_importance.PermutationImportance)\n",
    "- [eli5.show_weights](https://eli5.readthedocs.io/en/latest/autodocs/eli5.html#eli5.show_weights)"
   ]
  },
  {
   "cell_type": "code",
   "execution_count": null,
   "metadata": {},
   "outputs": [],
   "source": [
    "%%time\n",
    "import eli5\n",
    "from eli5.sklearn import PermutationImportance\n",
    "\n",
    "encoder = ce.OrdinalEncoder()\n",
    "X_train_transformed = encoder.fit_transform(X_train)\n",
    "\n",
    "model = RandomForestClassifier(\n",
    "    n_estimators=100, \n",
    "    class_weight='balanced', \n",
    "    min_samples_leaf=0.005, \n",
    "    n_jobs=-1)\n",
    "\n",
    "model.fit(X_train_transformed, y_train)\n",
    "permuter = PermutationImportance(model, scoring='roc_auc', n_iter=1, cv='prefit')\n",
    "permuter.fit(X_train_transformed, y_train)"
   ]
  },
  {
   "cell_type": "code",
   "execution_count": null,
   "metadata": {},
   "outputs": [],
   "source": [
    "eli5.show_weights(permuter, top=None, feature_names=X_train_transformed.columns.tolist())"
   ]
  },
  {
   "cell_type": "markdown",
   "metadata": {},
   "source": [
    "We can use Permutation Importance weights for feature selection. For example, we can remove features with zero weight. The model trains faster and the score does not decrease."
   ]
  },
  {
   "cell_type": "code",
   "execution_count": null,
   "metadata": {},
   "outputs": [],
   "source": [
    "subset = X_train.columns[permuter.feature_importances_ > 0]\n",
    "cross_val_score(pipe, X_train[subset], y_train, cv=5, scoring='roc_auc', verbose=10)"
   ]
  }
 ],
 "metadata": {
  "kernelspec": {
   "display_name": "Python 3",
   "language": "python",
   "name": "python3"
  },
  "language_info": {
   "codemirror_mode": {
    "name": "ipython",
    "version": 3
   },
   "file_extension": ".py",
   "mimetype": "text/x-python",
   "name": "python",
   "nbconvert_exporter": "python",
   "pygments_lexer": "ipython3",
   "version": "3.6.8"
  }
 },
 "nbformat": 4,
 "nbformat_minor": 2
}

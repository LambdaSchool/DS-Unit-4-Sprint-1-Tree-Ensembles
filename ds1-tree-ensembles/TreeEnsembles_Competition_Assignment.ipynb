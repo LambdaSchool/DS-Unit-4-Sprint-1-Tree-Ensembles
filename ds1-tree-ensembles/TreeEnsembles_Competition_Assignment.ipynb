{
 "cells": [
  {
   "cell_type": "markdown",
   "metadata": {},
   "source": [
    "# DS1 Tree Ensembles Assignment/Competition"
   ]
  },
  {
   "cell_type": "code",
   "execution_count": 1,
   "metadata": {},
   "outputs": [],
   "source": [
    "import pandas as pd\n",
    "import numpy as np\n",
    "import seaborn as sns\n",
    "import matplotlib.pyplot as plt\n",
    "%matplotlib inline"
   ]
  },
  {
   "cell_type": "code",
   "execution_count": 2,
   "metadata": {},
   "outputs": [],
   "source": [
    "pd.set_option('display.max_rows', 500)\n",
    "pd.set_option('display.max_columns', 500)\n",
    "pd.set_option('display.width', 1000)"
   ]
  },
  {
   "cell_type": "markdown",
   "metadata": {},
   "source": [
    "## Data Overview"
   ]
  },
  {
   "cell_type": "markdown",
   "metadata": {},
   "source": [
    "### Train Features"
   ]
  },
  {
   "cell_type": "code",
   "execution_count": 3,
   "metadata": {},
   "outputs": [],
   "source": [
    "train = pd.read_csv('train_features.csv')"
   ]
  },
  {
   "cell_type": "code",
   "execution_count": 4,
   "metadata": {
    "scrolled": true
   },
   "outputs": [
    {
     "data": {
      "text/html": [
       "<div>\n",
       "<style scoped>\n",
       "    .dataframe tbody tr th:only-of-type {\n",
       "        vertical-align: middle;\n",
       "    }\n",
       "\n",
       "    .dataframe tbody tr th {\n",
       "        vertical-align: top;\n",
       "    }\n",
       "\n",
       "    .dataframe thead th {\n",
       "        text-align: right;\n",
       "    }\n",
       "</style>\n",
       "<table border=\"1\" class=\"dataframe\">\n",
       "  <thead>\n",
       "    <tr style=\"text-align: right;\">\n",
       "      <th></th>\n",
       "      <th>id</th>\n",
       "      <th>member_id</th>\n",
       "      <th>loan_amnt</th>\n",
       "      <th>funded_amnt</th>\n",
       "      <th>term</th>\n",
       "      <th>int_rate</th>\n",
       "      <th>installment</th>\n",
       "      <th>grade</th>\n",
       "      <th>sub_grade</th>\n",
       "      <th>emp_title</th>\n",
       "      <th>emp_length</th>\n",
       "      <th>home_ownership</th>\n",
       "      <th>annual_inc</th>\n",
       "      <th>url</th>\n",
       "      <th>desc</th>\n",
       "      <th>purpose</th>\n",
       "      <th>title</th>\n",
       "      <th>zip_code</th>\n",
       "      <th>addr_state</th>\n",
       "      <th>dti</th>\n",
       "      <th>delinq_2yrs</th>\n",
       "      <th>earliest_cr_line</th>\n",
       "      <th>inq_last_6mths</th>\n",
       "      <th>mths_since_last_delinq</th>\n",
       "      <th>mths_since_last_record</th>\n",
       "      <th>open_acc</th>\n",
       "      <th>pub_rec</th>\n",
       "      <th>revol_bal</th>\n",
       "      <th>revol_util</th>\n",
       "      <th>total_acc</th>\n",
       "      <th>initial_list_status</th>\n",
       "      <th>collections_12_mths_ex_med</th>\n",
       "      <th>mths_since_last_major_derog</th>\n",
       "      <th>application_type</th>\n",
       "      <th>annual_inc_joint</th>\n",
       "      <th>dti_joint</th>\n",
       "      <th>acc_now_delinq</th>\n",
       "      <th>tot_coll_amt</th>\n",
       "      <th>tot_cur_bal</th>\n",
       "      <th>open_acc_6m</th>\n",
       "      <th>open_act_il</th>\n",
       "      <th>open_il_12m</th>\n",
       "      <th>open_il_24m</th>\n",
       "      <th>mths_since_rcnt_il</th>\n",
       "      <th>total_bal_il</th>\n",
       "      <th>il_util</th>\n",
       "      <th>open_rv_12m</th>\n",
       "      <th>open_rv_24m</th>\n",
       "      <th>max_bal_bc</th>\n",
       "      <th>all_util</th>\n",
       "      <th>total_rev_hi_lim</th>\n",
       "      <th>inq_fi</th>\n",
       "      <th>total_cu_tl</th>\n",
       "      <th>inq_last_12m</th>\n",
       "      <th>acc_open_past_24mths</th>\n",
       "      <th>avg_cur_bal</th>\n",
       "      <th>bc_open_to_buy</th>\n",
       "      <th>bc_util</th>\n",
       "      <th>chargeoff_within_12_mths</th>\n",
       "      <th>delinq_amnt</th>\n",
       "      <th>mo_sin_old_il_acct</th>\n",
       "      <th>mo_sin_old_rev_tl_op</th>\n",
       "      <th>mo_sin_rcnt_rev_tl_op</th>\n",
       "      <th>mo_sin_rcnt_tl</th>\n",
       "      <th>mort_acc</th>\n",
       "      <th>mths_since_recent_bc</th>\n",
       "      <th>mths_since_recent_bc_dlq</th>\n",
       "      <th>mths_since_recent_inq</th>\n",
       "      <th>mths_since_recent_revol_delinq</th>\n",
       "      <th>num_accts_ever_120_pd</th>\n",
       "      <th>num_actv_bc_tl</th>\n",
       "      <th>num_actv_rev_tl</th>\n",
       "      <th>num_bc_sats</th>\n",
       "      <th>num_bc_tl</th>\n",
       "      <th>num_il_tl</th>\n",
       "      <th>num_op_rev_tl</th>\n",
       "      <th>num_rev_accts</th>\n",
       "      <th>num_rev_tl_bal_gt_0</th>\n",
       "      <th>num_sats</th>\n",
       "      <th>num_tl_120dpd_2m</th>\n",
       "      <th>num_tl_30dpd</th>\n",
       "      <th>num_tl_90g_dpd_24m</th>\n",
       "      <th>num_tl_op_past_12m</th>\n",
       "      <th>pct_tl_nvr_dlq</th>\n",
       "      <th>percent_bc_gt_75</th>\n",
       "      <th>pub_rec_bankruptcies</th>\n",
       "      <th>tax_liens</th>\n",
       "      <th>tot_hi_cred_lim</th>\n",
       "      <th>total_bal_ex_mort</th>\n",
       "      <th>total_bc_limit</th>\n",
       "      <th>total_il_high_credit_limit</th>\n",
       "      <th>revol_bal_joint</th>\n",
       "      <th>sec_app_earliest_cr_line</th>\n",
       "      <th>sec_app_inq_last_6mths</th>\n",
       "      <th>sec_app_mort_acc</th>\n",
       "      <th>sec_app_open_acc</th>\n",
       "      <th>sec_app_revol_util</th>\n",
       "      <th>sec_app_open_act_il</th>\n",
       "      <th>sec_app_num_rev_accts</th>\n",
       "      <th>sec_app_chargeoff_within_12_mths</th>\n",
       "      <th>sec_app_collections_12_mths_ex_med</th>\n",
       "      <th>sec_app_mths_since_last_major_derog</th>\n",
       "      <th>disbursement_method</th>\n",
       "    </tr>\n",
       "  </thead>\n",
       "  <tbody>\n",
       "    <tr>\n",
       "      <th>0</th>\n",
       "      <td>43373</td>\n",
       "      <td>NaN</td>\n",
       "      <td>12000</td>\n",
       "      <td>12000</td>\n",
       "      <td>36 months</td>\n",
       "      <td>16.02%</td>\n",
       "      <td>422.01</td>\n",
       "      <td>C</td>\n",
       "      <td>C5</td>\n",
       "      <td>Driver</td>\n",
       "      <td>4 years</td>\n",
       "      <td>MORTGAGE</td>\n",
       "      <td>81000.0</td>\n",
       "      <td>NaN</td>\n",
       "      <td>NaN</td>\n",
       "      <td>debt_consolidation</td>\n",
       "      <td>Debt consolidation</td>\n",
       "      <td>280xx</td>\n",
       "      <td>NC</td>\n",
       "      <td>12.76</td>\n",
       "      <td>0</td>\n",
       "      <td>Dec-2005</td>\n",
       "      <td>1</td>\n",
       "      <td>48.0</td>\n",
       "      <td>NaN</td>\n",
       "      <td>7</td>\n",
       "      <td>0</td>\n",
       "      <td>4912</td>\n",
       "      <td>23.5%</td>\n",
       "      <td>15</td>\n",
       "      <td>w</td>\n",
       "      <td>0</td>\n",
       "      <td>48.0</td>\n",
       "      <td>Individual</td>\n",
       "      <td>NaN</td>\n",
       "      <td>NaN</td>\n",
       "      <td>0</td>\n",
       "      <td>0</td>\n",
       "      <td>174783</td>\n",
       "      <td>1</td>\n",
       "      <td>2</td>\n",
       "      <td>0</td>\n",
       "      <td>4</td>\n",
       "      <td>13.0</td>\n",
       "      <td>33668</td>\n",
       "      <td>82.0</td>\n",
       "      <td>2</td>\n",
       "      <td>5</td>\n",
       "      <td>2962</td>\n",
       "      <td>63.0</td>\n",
       "      <td>20900</td>\n",
       "      <td>1</td>\n",
       "      <td>1</td>\n",
       "      <td>2</td>\n",
       "      <td>9</td>\n",
       "      <td>24969.0</td>\n",
       "      <td>588.0</td>\n",
       "      <td>89.3</td>\n",
       "      <td>0</td>\n",
       "      <td>0</td>\n",
       "      <td>145.0</td>\n",
       "      <td>23</td>\n",
       "      <td>1</td>\n",
       "      <td>1</td>\n",
       "      <td>1</td>\n",
       "      <td>8.0</td>\n",
       "      <td>NaN</td>\n",
       "      <td>1.0</td>\n",
       "      <td>NaN</td>\n",
       "      <td>2</td>\n",
       "      <td>2</td>\n",
       "      <td>2</td>\n",
       "      <td>2</td>\n",
       "      <td>2</td>\n",
       "      <td>9</td>\n",
       "      <td>4</td>\n",
       "      <td>5</td>\n",
       "      <td>2</td>\n",
       "      <td>7</td>\n",
       "      <td>0.0</td>\n",
       "      <td>0</td>\n",
       "      <td>0</td>\n",
       "      <td>2</td>\n",
       "      <td>92.9</td>\n",
       "      <td>100.0</td>\n",
       "      <td>0</td>\n",
       "      <td>0</td>\n",
       "      <td>206618</td>\n",
       "      <td>38580</td>\n",
       "      <td>5500</td>\n",
       "      <td>40863</td>\n",
       "      <td>NaN</td>\n",
       "      <td>NaN</td>\n",
       "      <td>NaN</td>\n",
       "      <td>NaN</td>\n",
       "      <td>NaN</td>\n",
       "      <td>NaN</td>\n",
       "      <td>NaN</td>\n",
       "      <td>NaN</td>\n",
       "      <td>NaN</td>\n",
       "      <td>NaN</td>\n",
       "      <td>NaN</td>\n",
       "      <td>Cash</td>\n",
       "    </tr>\n",
       "    <tr>\n",
       "      <th>1</th>\n",
       "      <td>24414</td>\n",
       "      <td>NaN</td>\n",
       "      <td>6300</td>\n",
       "      <td>6300</td>\n",
       "      <td>36 months</td>\n",
       "      <td>14.07%</td>\n",
       "      <td>215.54</td>\n",
       "      <td>C</td>\n",
       "      <td>C3</td>\n",
       "      <td>GMP Lead</td>\n",
       "      <td>4 years</td>\n",
       "      <td>RENT</td>\n",
       "      <td>39000.0</td>\n",
       "      <td>NaN</td>\n",
       "      <td>NaN</td>\n",
       "      <td>debt_consolidation</td>\n",
       "      <td>Debt consolidation</td>\n",
       "      <td>920xx</td>\n",
       "      <td>CA</td>\n",
       "      <td>21.42</td>\n",
       "      <td>0</td>\n",
       "      <td>Mar-2012</td>\n",
       "      <td>1</td>\n",
       "      <td>NaN</td>\n",
       "      <td>NaN</td>\n",
       "      <td>10</td>\n",
       "      <td>0</td>\n",
       "      <td>11876</td>\n",
       "      <td>59.4%</td>\n",
       "      <td>12</td>\n",
       "      <td>w</td>\n",
       "      <td>0</td>\n",
       "      <td>NaN</td>\n",
       "      <td>Individual</td>\n",
       "      <td>NaN</td>\n",
       "      <td>NaN</td>\n",
       "      <td>0</td>\n",
       "      <td>0</td>\n",
       "      <td>31046</td>\n",
       "      <td>0</td>\n",
       "      <td>1</td>\n",
       "      <td>0</td>\n",
       "      <td>2</td>\n",
       "      <td>14.0</td>\n",
       "      <td>19170</td>\n",
       "      <td>83.0</td>\n",
       "      <td>3</td>\n",
       "      <td>8</td>\n",
       "      <td>5153</td>\n",
       "      <td>72.0</td>\n",
       "      <td>20000</td>\n",
       "      <td>1</td>\n",
       "      <td>0</td>\n",
       "      <td>1</td>\n",
       "      <td>10</td>\n",
       "      <td>3105.0</td>\n",
       "      <td>6877.0</td>\n",
       "      <td>59.3</td>\n",
       "      <td>0</td>\n",
       "      <td>0</td>\n",
       "      <td>17.0</td>\n",
       "      <td>72</td>\n",
       "      <td>8</td>\n",
       "      <td>8</td>\n",
       "      <td>0</td>\n",
       "      <td>8.0</td>\n",
       "      <td>NaN</td>\n",
       "      <td>6.0</td>\n",
       "      <td>NaN</td>\n",
       "      <td>0</td>\n",
       "      <td>6</td>\n",
       "      <td>7</td>\n",
       "      <td>7</td>\n",
       "      <td>8</td>\n",
       "      <td>2</td>\n",
       "      <td>9</td>\n",
       "      <td>10</td>\n",
       "      <td>7</td>\n",
       "      <td>10</td>\n",
       "      <td>0.0</td>\n",
       "      <td>0</td>\n",
       "      <td>0</td>\n",
       "      <td>3</td>\n",
       "      <td>100.0</td>\n",
       "      <td>42.9</td>\n",
       "      <td>0</td>\n",
       "      <td>0</td>\n",
       "      <td>43140</td>\n",
       "      <td>31046</td>\n",
       "      <td>16900</td>\n",
       "      <td>23140</td>\n",
       "      <td>NaN</td>\n",
       "      <td>NaN</td>\n",
       "      <td>NaN</td>\n",
       "      <td>NaN</td>\n",
       "      <td>NaN</td>\n",
       "      <td>NaN</td>\n",
       "      <td>NaN</td>\n",
       "      <td>NaN</td>\n",
       "      <td>NaN</td>\n",
       "      <td>NaN</td>\n",
       "      <td>NaN</td>\n",
       "      <td>Cash</td>\n",
       "    </tr>\n",
       "  </tbody>\n",
       "</table>\n",
       "</div>"
      ],
      "text/plain": [
       "      id  member_id  loan_amnt  funded_amnt        term int_rate  installment grade sub_grade emp_title emp_length home_ownership  annual_inc  url  desc             purpose               title zip_code addr_state    dti  delinq_2yrs earliest_cr_line  inq_last_6mths  mths_since_last_delinq  mths_since_last_record  open_acc  pub_rec  revol_bal revol_util  total_acc initial_list_status  collections_12_mths_ex_med  mths_since_last_major_derog application_type  annual_inc_joint  dti_joint  acc_now_delinq  tot_coll_amt  tot_cur_bal  open_acc_6m  open_act_il  open_il_12m  open_il_24m  mths_since_rcnt_il  total_bal_il  il_util  open_rv_12m  open_rv_24m  max_bal_bc  all_util  total_rev_hi_lim  inq_fi  total_cu_tl  inq_last_12m  acc_open_past_24mths  avg_cur_bal  bc_open_to_buy  bc_util  chargeoff_within_12_mths  delinq_amnt  mo_sin_old_il_acct  mo_sin_old_rev_tl_op  mo_sin_rcnt_rev_tl_op  mo_sin_rcnt_tl  mort_acc  mths_since_recent_bc  mths_since_recent_bc_dlq  mths_since_recent_inq  \\\n",
       "0  43373        NaN      12000        12000   36 months   16.02%       422.01     C        C5    Driver    4 years       MORTGAGE     81000.0  NaN   NaN  debt_consolidation  Debt consolidation    280xx         NC  12.76            0         Dec-2005               1                    48.0                     NaN         7        0       4912      23.5%         15                   w                           0                         48.0       Individual               NaN        NaN               0             0       174783            1            2            0            4                13.0         33668     82.0            2            5        2962      63.0             20900       1            1             2                     9      24969.0           588.0     89.3                         0            0               145.0                    23                      1               1         1                   8.0                       NaN                    1.0   \n",
       "1  24414        NaN       6300         6300   36 months   14.07%       215.54     C        C3  GMP Lead    4 years           RENT     39000.0  NaN   NaN  debt_consolidation  Debt consolidation    920xx         CA  21.42            0         Mar-2012               1                     NaN                     NaN        10        0      11876      59.4%         12                   w                           0                          NaN       Individual               NaN        NaN               0             0        31046            0            1            0            2                14.0         19170     83.0            3            8        5153      72.0             20000       1            0             1                    10       3105.0          6877.0     59.3                         0            0                17.0                    72                      8               8         0                   8.0                       NaN                    6.0   \n",
       "\n",
       "   mths_since_recent_revol_delinq  num_accts_ever_120_pd  num_actv_bc_tl  num_actv_rev_tl  num_bc_sats  num_bc_tl  num_il_tl  num_op_rev_tl  num_rev_accts  num_rev_tl_bal_gt_0  num_sats  num_tl_120dpd_2m  num_tl_30dpd  num_tl_90g_dpd_24m  num_tl_op_past_12m  pct_tl_nvr_dlq  percent_bc_gt_75  pub_rec_bankruptcies  tax_liens  tot_hi_cred_lim  total_bal_ex_mort  total_bc_limit  total_il_high_credit_limit  revol_bal_joint sec_app_earliest_cr_line  sec_app_inq_last_6mths  sec_app_mort_acc  sec_app_open_acc  sec_app_revol_util  sec_app_open_act_il  sec_app_num_rev_accts  sec_app_chargeoff_within_12_mths  sec_app_collections_12_mths_ex_med  sec_app_mths_since_last_major_derog disbursement_method  \n",
       "0                             NaN                      2               2                2            2          2          9              4              5                    2         7               0.0             0                   0                   2            92.9             100.0                     0          0           206618              38580            5500                       40863              NaN                      NaN                     NaN               NaN               NaN                 NaN                  NaN                    NaN                               NaN                                 NaN                                  NaN                Cash  \n",
       "1                             NaN                      0               6                7            7          8          2              9             10                    7        10               0.0             0                   0                   3           100.0              42.9                     0          0            43140              31046           16900                       23140              NaN                      NaN                     NaN               NaN               NaN                 NaN                  NaN                    NaN                               NaN                                 NaN                                  NaN                Cash  "
      ]
     },
     "execution_count": 4,
     "metadata": {},
     "output_type": "execute_result"
    }
   ],
   "source": [
    "train.head(2)"
   ]
  },
  {
   "cell_type": "markdown",
   "metadata": {},
   "source": [
    "### Train Labels"
   ]
  },
  {
   "cell_type": "code",
   "execution_count": 5,
   "metadata": {},
   "outputs": [],
   "source": [
    "train_labels = pd.read_csv('train_labels.csv')"
   ]
  },
  {
   "cell_type": "code",
   "execution_count": 6,
   "metadata": {},
   "outputs": [
    {
     "data": {
      "text/html": [
       "<div>\n",
       "<style scoped>\n",
       "    .dataframe tbody tr th:only-of-type {\n",
       "        vertical-align: middle;\n",
       "    }\n",
       "\n",
       "    .dataframe tbody tr th {\n",
       "        vertical-align: top;\n",
       "    }\n",
       "\n",
       "    .dataframe thead th {\n",
       "        text-align: right;\n",
       "    }\n",
       "</style>\n",
       "<table border=\"1\" class=\"dataframe\">\n",
       "  <thead>\n",
       "    <tr style=\"text-align: right;\">\n",
       "      <th></th>\n",
       "      <th>id</th>\n",
       "      <th>charged_off</th>\n",
       "    </tr>\n",
       "  </thead>\n",
       "  <tbody>\n",
       "    <tr>\n",
       "      <th>0</th>\n",
       "      <td>43373</td>\n",
       "      <td>0</td>\n",
       "    </tr>\n",
       "    <tr>\n",
       "      <th>1</th>\n",
       "      <td>24414</td>\n",
       "      <td>0</td>\n",
       "    </tr>\n",
       "  </tbody>\n",
       "</table>\n",
       "</div>"
      ],
      "text/plain": [
       "      id  charged_off\n",
       "0  43373            0\n",
       "1  24414            0"
      ]
     },
     "execution_count": 6,
     "metadata": {},
     "output_type": "execute_result"
    }
   ],
   "source": [
    "train_labels.head(2)"
   ]
  },
  {
   "cell_type": "code",
   "execution_count": 7,
   "metadata": {},
   "outputs": [
    {
     "data": {
      "text/plain": [
       "0    32191\n",
       "1     5554\n",
       "Name: charged_off, dtype: int64"
      ]
     },
     "execution_count": 7,
     "metadata": {},
     "output_type": "execute_result"
    }
   ],
   "source": [
    "train_labels.charged_off.value_counts()"
   ]
  },
  {
   "cell_type": "code",
   "execution_count": 8,
   "metadata": {},
   "outputs": [
    {
     "data": {
      "text/plain": [
       "(37745, 2)"
      ]
     },
     "execution_count": 8,
     "metadata": {},
     "output_type": "execute_result"
    }
   ],
   "source": [
    "train_labels.shape"
   ]
  },
  {
   "cell_type": "markdown",
   "metadata": {},
   "source": [
    "### Test Features"
   ]
  },
  {
   "cell_type": "code",
   "execution_count": 9,
   "metadata": {},
   "outputs": [],
   "source": [
    "test = pd.read_csv('test_features.csv')"
   ]
  },
  {
   "cell_type": "code",
   "execution_count": 10,
   "metadata": {},
   "outputs": [
    {
     "data": {
      "text/plain": [
       "(9437, 103)"
      ]
     },
     "execution_count": 10,
     "metadata": {},
     "output_type": "execute_result"
    }
   ],
   "source": [
    "test.shape"
   ]
  },
  {
   "cell_type": "markdown",
   "metadata": {},
   "source": [
    "### Sample Submission DF"
   ]
  },
  {
   "cell_type": "code",
   "execution_count": 11,
   "metadata": {},
   "outputs": [],
   "source": [
    "sample_submission = pd.read_csv('sample_submission.csv')"
   ]
  },
  {
   "cell_type": "code",
   "execution_count": 12,
   "metadata": {},
   "outputs": [
    {
     "data": {
      "text/html": [
       "<div>\n",
       "<style scoped>\n",
       "    .dataframe tbody tr th:only-of-type {\n",
       "        vertical-align: middle;\n",
       "    }\n",
       "\n",
       "    .dataframe tbody tr th {\n",
       "        vertical-align: top;\n",
       "    }\n",
       "\n",
       "    .dataframe thead th {\n",
       "        text-align: right;\n",
       "    }\n",
       "</style>\n",
       "<table border=\"1\" class=\"dataframe\">\n",
       "  <thead>\n",
       "    <tr style=\"text-align: right;\">\n",
       "      <th></th>\n",
       "      <th>id</th>\n",
       "      <th>charged_off</th>\n",
       "    </tr>\n",
       "  </thead>\n",
       "  <tbody>\n",
       "    <tr>\n",
       "      <th>9432</th>\n",
       "      <td>45702</td>\n",
       "      <td>0.5</td>\n",
       "    </tr>\n",
       "    <tr>\n",
       "      <th>9433</th>\n",
       "      <td>25727</td>\n",
       "      <td>0.5</td>\n",
       "    </tr>\n",
       "    <tr>\n",
       "      <th>9434</th>\n",
       "      <td>45966</td>\n",
       "      <td>0.5</td>\n",
       "    </tr>\n",
       "    <tr>\n",
       "      <th>9435</th>\n",
       "      <td>30441</td>\n",
       "      <td>0.5</td>\n",
       "    </tr>\n",
       "    <tr>\n",
       "      <th>9436</th>\n",
       "      <td>30058</td>\n",
       "      <td>0.5</td>\n",
       "    </tr>\n",
       "  </tbody>\n",
       "</table>\n",
       "</div>"
      ],
      "text/plain": [
       "         id  charged_off\n",
       "9432  45702          0.5\n",
       "9433  25727          0.5\n",
       "9434  45966          0.5\n",
       "9435  30441          0.5\n",
       "9436  30058          0.5"
      ]
     },
     "execution_count": 12,
     "metadata": {},
     "output_type": "execute_result"
    }
   ],
   "source": [
    "sample_submission.tail()"
   ]
  },
  {
   "cell_type": "code",
   "execution_count": 13,
   "metadata": {},
   "outputs": [
    {
     "data": {
      "text/plain": [
       "(9437, 2)"
      ]
     },
     "execution_count": 13,
     "metadata": {},
     "output_type": "execute_result"
    }
   ],
   "source": [
    "sample_submission.shape"
   ]
  },
  {
   "cell_type": "markdown",
   "metadata": {},
   "source": [
    "## Majority Class Baseline"
   ]
  },
  {
   "cell_type": "code",
   "execution_count": 14,
   "metadata": {},
   "outputs": [],
   "source": [
    "# setting a y_pred array\n",
    "# same length as test set & filled with train_label mode\n",
    "y_pred = np.full(test.shape[0],\n",
    "                train_labels.charged_off.mode()[0])"
   ]
  },
  {
   "cell_type": "code",
   "execution_count": 15,
   "metadata": {},
   "outputs": [
    {
     "data": {
      "text/plain": [
       "9437"
      ]
     },
     "execution_count": 15,
     "metadata": {},
     "output_type": "execute_result"
    }
   ],
   "source": [
    "len(test.id.values)"
   ]
  },
  {
   "cell_type": "code",
   "execution_count": 16,
   "metadata": {},
   "outputs": [],
   "source": [
    "majority_baseline = sample_submission.copy() \n",
    "majority_baseline['charged_off'] = y_pred"
   ]
  },
  {
   "cell_type": "code",
   "execution_count": 17,
   "metadata": {},
   "outputs": [
    {
     "data": {
      "text/html": [
       "<div>\n",
       "<style scoped>\n",
       "    .dataframe tbody tr th:only-of-type {\n",
       "        vertical-align: middle;\n",
       "    }\n",
       "\n",
       "    .dataframe tbody tr th {\n",
       "        vertical-align: top;\n",
       "    }\n",
       "\n",
       "    .dataframe thead th {\n",
       "        text-align: right;\n",
       "    }\n",
       "</style>\n",
       "<table border=\"1\" class=\"dataframe\">\n",
       "  <thead>\n",
       "    <tr style=\"text-align: right;\">\n",
       "      <th></th>\n",
       "      <th>id</th>\n",
       "      <th>charged_off</th>\n",
       "    </tr>\n",
       "  </thead>\n",
       "  <tbody>\n",
       "    <tr>\n",
       "      <th>9432</th>\n",
       "      <td>45702</td>\n",
       "      <td>0</td>\n",
       "    </tr>\n",
       "    <tr>\n",
       "      <th>9433</th>\n",
       "      <td>25727</td>\n",
       "      <td>0</td>\n",
       "    </tr>\n",
       "    <tr>\n",
       "      <th>9434</th>\n",
       "      <td>45966</td>\n",
       "      <td>0</td>\n",
       "    </tr>\n",
       "    <tr>\n",
       "      <th>9435</th>\n",
       "      <td>30441</td>\n",
       "      <td>0</td>\n",
       "    </tr>\n",
       "    <tr>\n",
       "      <th>9436</th>\n",
       "      <td>30058</td>\n",
       "      <td>0</td>\n",
       "    </tr>\n",
       "  </tbody>\n",
       "</table>\n",
       "</div>"
      ],
      "text/plain": [
       "         id  charged_off\n",
       "9432  45702            0\n",
       "9433  25727            0\n",
       "9434  45966            0\n",
       "9435  30441            0\n",
       "9436  30058            0"
      ]
     },
     "execution_count": 17,
     "metadata": {},
     "output_type": "execute_result"
    }
   ],
   "source": [
    "majority_baseline.tail(5)"
   ]
  },
  {
   "cell_type": "code",
   "execution_count": 18,
   "metadata": {},
   "outputs": [
    {
     "data": {
      "text/plain": [
       "(9437, 2)"
      ]
     },
     "execution_count": 18,
     "metadata": {},
     "output_type": "execute_result"
    }
   ],
   "source": [
    "majority_baseline.shape"
   ]
  },
  {
   "cell_type": "code",
   "execution_count": 19,
   "metadata": {},
   "outputs": [],
   "source": [
    "majority_baseline.to_csv('majority_baseline.csv', index=False)"
   ]
  },
  {
   "cell_type": "markdown",
   "metadata": {},
   "source": [
    "## First Round"
   ]
  },
  {
   "cell_type": "markdown",
   "metadata": {},
   "source": [
    "### Cleaning Train DF"
   ]
  },
  {
   "cell_type": "markdown",
   "metadata": {},
   "source": [
    "#### Dropping Unnecesary Columns"
   ]
  },
  {
   "cell_type": "code",
   "execution_count": 20,
   "metadata": {},
   "outputs": [
    {
     "data": {
      "text/plain": [
       "(37745, 103)"
      ]
     },
     "execution_count": 20,
     "metadata": {},
     "output_type": "execute_result"
    }
   ],
   "source": [
    "train.shape"
   ]
  },
  {
   "cell_type": "code",
   "execution_count": 21,
   "metadata": {
    "scrolled": true
   },
   "outputs": [
    {
     "data": {
      "text/plain": [
       "id                                         0\n",
       "member_id                              37745\n",
       "loan_amnt                                  0\n",
       "funded_amnt                                0\n",
       "term                                       0\n",
       "int_rate                                   0\n",
       "installment                                0\n",
       "grade                                      0\n",
       "sub_grade                                  0\n",
       "emp_title                               3565\n",
       "emp_length                              3277\n",
       "home_ownership                             0\n",
       "annual_inc                                 0\n",
       "url                                    37745\n",
       "desc                                   37745\n",
       "purpose                                    0\n",
       "title                                      0\n",
       "zip_code                                   0\n",
       "addr_state                                 0\n",
       "dti                                       92\n",
       "delinq_2yrs                                0\n",
       "earliest_cr_line                           0\n",
       "inq_last_6mths                             0\n",
       "mths_since_last_delinq                 20881\n",
       "mths_since_last_record                 32170\n",
       "open_acc                                   0\n",
       "pub_rec                                    0\n",
       "revol_bal                                  0\n",
       "revol_util                                53\n",
       "total_acc                                  0\n",
       "initial_list_status                        0\n",
       "collections_12_mths_ex_med                 0\n",
       "mths_since_last_major_derog            28640\n",
       "application_type                           0\n",
       "annual_inc_joint                       33007\n",
       "dti_joint                              33007\n",
       "acc_now_delinq                             0\n",
       "tot_coll_amt                               0\n",
       "tot_cur_bal                                0\n",
       "open_acc_6m                                0\n",
       "open_act_il                                0\n",
       "open_il_12m                                0\n",
       "open_il_24m                                0\n",
       "mths_since_rcnt_il                      1234\n",
       "total_bal_il                               0\n",
       "il_util                                 6255\n",
       "open_rv_12m                                0\n",
       "open_rv_24m                                0\n",
       "max_bal_bc                                 0\n",
       "all_util                                  13\n",
       "total_rev_hi_lim                           0\n",
       "inq_fi                                     0\n",
       "total_cu_tl                                0\n",
       "inq_last_12m                               0\n",
       "acc_open_past_24mths                       0\n",
       "avg_cur_bal                                3\n",
       "bc_open_to_buy                           643\n",
       "bc_util                                  667\n",
       "chargeoff_within_12_mths                   0\n",
       "delinq_amnt                                0\n",
       "mo_sin_old_il_acct                      1234\n",
       "mo_sin_old_rev_tl_op                       0\n",
       "mo_sin_rcnt_rev_tl_op                      0\n",
       "mo_sin_rcnt_tl                             0\n",
       "mort_acc                                   0\n",
       "mths_since_recent_bc                     597\n",
       "mths_since_recent_bc_dlq               29995\n",
       "mths_since_recent_inq                   3146\n",
       "mths_since_recent_revol_delinq         26574\n",
       "num_accts_ever_120_pd                      0\n",
       "num_actv_bc_tl                             0\n",
       "num_actv_rev_tl                            0\n",
       "num_bc_sats                                0\n",
       "num_bc_tl                                  0\n",
       "num_il_tl                                  0\n",
       "num_op_rev_tl                              0\n",
       "num_rev_accts                              0\n",
       "num_rev_tl_bal_gt_0                        0\n",
       "num_sats                                   0\n",
       "num_tl_120dpd_2m                        1010\n",
       "num_tl_30dpd                               0\n",
       "num_tl_90g_dpd_24m                         0\n",
       "num_tl_op_past_12m                         0\n",
       "pct_tl_nvr_dlq                             1\n",
       "percent_bc_gt_75                         643\n",
       "pub_rec_bankruptcies                       0\n",
       "tax_liens                                  0\n",
       "tot_hi_cred_lim                            0\n",
       "total_bal_ex_mort                          0\n",
       "total_bc_limit                             0\n",
       "total_il_high_credit_limit                 0\n",
       "revol_bal_joint                        33007\n",
       "sec_app_earliest_cr_line               33007\n",
       "sec_app_inq_last_6mths                 33007\n",
       "sec_app_mort_acc                       33007\n",
       "sec_app_open_acc                       33007\n",
       "sec_app_revol_util                     33106\n",
       "sec_app_open_act_il                    33007\n",
       "sec_app_num_rev_accts                  33007\n",
       "sec_app_chargeoff_within_12_mths       33007\n",
       "sec_app_collections_12_mths_ex_med     33007\n",
       "sec_app_mths_since_last_major_derog    36077\n",
       "disbursement_method                        0\n",
       "dtype: int64"
      ]
     },
     "execution_count": 21,
     "metadata": {},
     "output_type": "execute_result"
    }
   ],
   "source": [
    "train.isna().sum()"
   ]
  },
  {
   "cell_type": "code",
   "execution_count": 69,
   "metadata": {},
   "outputs": [],
   "source": [
    "train1 = train.copy()"
   ]
  },
  {
   "cell_type": "code",
   "execution_count": 70,
   "metadata": {},
   "outputs": [],
   "source": [
    "train1 = train1.drop(columns='id') # id is randomly assigned\n",
    "train1 = train1.drop(columns=['member_id', 'url', 'desc']) # null columns\n",
    "train1 = train1.drop(columns='title') # Duplicative of 'purpose' column\n",
    "train1 = train1.drop(columns='grade') # Duplicative of 'sub_grade' column"
   ]
  },
  {
   "cell_type": "markdown",
   "metadata": {},
   "source": [
    "#### Feature Engineering"
   ]
  },
  {
   "cell_type": "code",
   "execution_count": 71,
   "metadata": {},
   "outputs": [],
   "source": [
    "# Transforming 'sub-grade' from \"A1\" to \"G5\" -->> 1.1 to 7.5\n",
    "# 'sub_grade' is a more granular version of the dropped 'grade' column\n",
    "# We'll wrangle it not using the arbitrary ordinal encoding \n",
    "# because there is a natural order set in this column that we want to present\n",
    "# This will help our model have a better fit\n",
    "def wrangle_sub_grade(x):\n",
    "    first_digit = ord(x[0]) - 64 # first digit is a letter from A to G -> ord('A') == 65, ord('B') == 66, and so on\n",
    "    second_digit = int(x[1]) # second digit turned from string to integer\n",
    "    return first_digit + second_digit / 10\n",
    "\n",
    "train1['sub_grade'] = train1['sub_grade'].apply(wrangle_sub_grade)"
   ]
  },
  {
   "cell_type": "code",
   "execution_count": 72,
   "metadata": {},
   "outputs": [
    {
     "data": {
      "text/plain": [
       "0    3.5\n",
       "1    3.3\n",
       "2    1.3\n",
       "3    2.1\n",
       "4    4.5\n",
       "Name: sub_grade, dtype: float64"
      ]
     },
     "execution_count": 72,
     "metadata": {},
     "output_type": "execute_result"
    }
   ],
   "source": [
    "train1.sub_grade.head()"
   ]
  },
  {
   "cell_type": "code",
   "execution_count": 73,
   "metadata": {},
   "outputs": [],
   "source": [
    "# Convert percentages from strings to floats\n",
    "train1['int_rate'] = train1['int_rate'].str.strip('%').astype(float)\n",
    "train1['revol_util'] = train1['revol_util'].str.strip('%').astype(float)"
   ]
  },
  {
   "cell_type": "code",
   "execution_count": 74,
   "metadata": {},
   "outputs": [],
   "source": [
    "# Transform earliest_cr_line to an integer: how many days it's been open\n",
    "train1['earliest_cr_line'] = pd.to_datetime(train1['earliest_cr_line'], infer_datetime_format=True) # `infer_datetime_format=True` makes it go faster\n",
    "train1['earliest_cr_line'] = pd.Timestamp.today() - train1['earliest_cr_line'] # (difference from today to when credit line was opened) how long the credit line have been opened\n",
    "train1['earliest_cr_line'] = train1['earliest_cr_line'].dt.days # .dt accessor is very useful to get 'days' or 'months'... \n",
    "# if you get the 'months' (which are from 1 to 12) you can categorically or ordinally encode that"
   ]
  },
  {
   "cell_type": "code",
   "execution_count": 75,
   "metadata": {},
   "outputs": [
    {
     "data": {
      "text/plain": [
       "0         4856\n",
       "1         2574\n",
       "2         6896\n",
       "3         5890\n",
       "4         6347\n",
       "5         2787\n",
       "6         3121\n",
       "7         5131\n",
       "8        10426\n",
       "9         5648\n",
       "10        7688\n",
       "11        9088\n",
       "12        4004\n",
       "13        4613\n",
       "14        5343\n",
       "15        6074\n",
       "16        5982\n",
       "17        2025\n",
       "18        6347\n",
       "19       13956\n",
       "20        5282\n",
       "21       12405\n",
       "22        7048\n",
       "23        5282\n",
       "24        4279\n",
       "25       11126\n",
       "26        6682\n",
       "27        2329\n",
       "28       11826\n",
       "29        2148\n",
       "30       11126\n",
       "31        4340\n",
       "32        2787\n",
       "33        8631\n",
       "34        1752\n",
       "35        6926\n",
       "36        7109\n",
       "37        3517\n",
       "38        5831\n",
       "39        6255\n",
       "40        6227\n",
       "41        8265\n",
       "42        5159\n",
       "43       10914\n",
       "44        2025\n",
       "45        6865\n",
       "46        7170\n",
       "47        6835\n",
       "48        5282\n",
       "49       12161\n",
       "50        6531\n",
       "51        2726\n",
       "52        3152\n",
       "53       10944\n",
       "54        9542\n",
       "55        5190\n",
       "56        4582\n",
       "57        4004\n",
       "58       11156\n",
       "59        8387\n",
       "60        4126\n",
       "61        3548\n",
       "62       10123\n",
       "63        5921\n",
       "64        4309\n",
       "65        4217\n",
       "66        7839\n",
       "67        4705\n",
       "68        7413\n",
       "69        6013\n",
       "70        5343\n",
       "71        6043\n",
       "72        5525\n",
       "73        8812\n",
       "74        4248\n",
       "75        3882\n",
       "76       11003\n",
       "77        5282\n",
       "78        7048\n",
       "79        2574\n",
       "80        4552\n",
       "81       10638\n",
       "82        7747\n",
       "83        7900\n",
       "84       11765\n",
       "85        8204\n",
       "86        9453\n",
       "87        4248\n",
       "88        4460\n",
       "89        6408\n",
       "90        4064\n",
       "91        3364\n",
       "92       10031\n",
       "93        2574\n",
       "94        6470\n",
       "95        5100\n",
       "96        1599\n",
       "97        7688\n",
       "98        5009\n",
       "99        5343\n",
       "100       5982\n",
       "101       5131\n",
       "102       6196\n",
       "103       3821\n",
       "104       3548\n",
       "105       9453\n",
       "106       6074\n",
       "107       5496\n",
       "108       7262\n",
       "109       6439\n",
       "110       6986\n",
       "111       5648\n",
       "112       5740\n",
       "113       1934\n",
       "114       5343\n",
       "115       2452\n",
       "116       8812\n",
       "117       3152\n",
       "118       7078\n",
       "119       4248\n",
       "120       7292\n",
       "121       6470\n",
       "122       4917\n",
       "123       4917\n",
       "124       4947\n",
       "125       4248\n",
       "126       4095\n",
       "127      12161\n",
       "128       2329\n",
       "129       5404\n",
       "130       1569\n",
       "131       4674\n",
       "132       4370\n",
       "133       5282\n",
       "134       4794\n",
       "135       8723\n",
       "136       8874\n",
       "137       5770\n",
       "138       4978\n",
       "139       7231\n",
       "140       8204\n",
       "141      11765\n",
       "142       4491\n",
       "143       6835\n",
       "144      13471\n",
       "145       4705\n",
       "146       6592\n",
       "147       5678\n",
       "148       7778\n",
       "149       2603\n",
       "150       8418\n",
       "151       8539\n",
       "152       8357\n",
       "153      13622\n",
       "154       2087\n",
       "155      11369\n",
       "156       3091\n",
       "157       2117\n",
       "158       6227\n",
       "159       4401\n",
       "160       7688\n",
       "161       7688\n",
       "162       7323\n",
       "163       2087\n",
       "164       9879\n",
       "165      14475\n",
       "166       3882\n",
       "167       5862\n",
       "168       4886\n",
       "169       7109\n",
       "170       3609\n",
       "171       5801\n",
       "172       4156\n",
       "173       7657\n",
       "174       5435\n",
       "175       1630\n",
       "176       9422\n",
       "177       4126\n",
       "178       7109\n",
       "179      12222\n",
       "180       7323\n",
       "181       4613\n",
       "182       8418\n",
       "183       1599\n",
       "184       8965\n",
       "185       4582\n",
       "186       6651\n",
       "187       3698\n",
       "188       6773\n",
       "189       7201\n",
       "190       3760\n",
       "191       3152\n",
       "192       8204\n",
       "193       6531\n",
       "194       3152\n",
       "195       8600\n",
       "196       9088\n",
       "197       4429\n",
       "198       7170\n",
       "199       9604\n",
       "200       4613\n",
       "201       2726\n",
       "202       5709\n",
       "203       8539\n",
       "204       4156\n",
       "205       3670\n",
       "206       5921\n",
       "207       5525\n",
       "208       6835\n",
       "209       5435\n",
       "210       3213\n",
       "211       7382\n",
       "212       3943\n",
       "213       2390\n",
       "214       4947\n",
       "215       6408\n",
       "216       5648\n",
       "217       4521\n",
       "218       2818\n",
       "219       6043\n",
       "220       6712\n",
       "221       6166\n",
       "222       5100\n",
       "223       7109\n",
       "224       4644\n",
       "225       6926\n",
       "226       5709\n",
       "227       3456\n",
       "228       4794\n",
       "229       5921\n",
       "230       4886\n",
       "231       7474\n",
       "232       6439\n",
       "233       3456\n",
       "234       2848\n",
       "235       7869\n",
       "236       8418\n",
       "237       9787\n",
       "238       4856\n",
       "239       9422\n",
       "240       8173\n",
       "241       5678\n",
       "242      11734\n",
       "243       5159\n",
       "244       7109\n",
       "245       7170\n",
       "246       4917\n",
       "247       9542\n",
       "248       5374\n",
       "249       5648\n",
       "         ...  \n",
       "37495     7078\n",
       "37496     2574\n",
       "37497     3698\n",
       "37498    10123\n",
       "37499     6439\n",
       "37500    14414\n",
       "37501     7808\n",
       "37502     4401\n",
       "37503     9149\n",
       "37504     2787\n",
       "37505     5343\n",
       "37506     5070\n",
       "37507     5982\n",
       "37508     7170\n",
       "37509     4947\n",
       "37510    10031\n",
       "37511     4674\n",
       "37512     4582\n",
       "37513     3882\n",
       "37514     6378\n",
       "37515     5404\n",
       "37516     6286\n",
       "37517     5221\n",
       "37518     8265\n",
       "37519     7808\n",
       "37520    10914\n",
       "37521     4886\n",
       "37522     8965\n",
       "37523     3882\n",
       "37524    11553\n",
       "37525     2756\n",
       "37526    10730\n",
       "37527     3578\n",
       "37528     5039\n",
       "37529     4187\n",
       "37530     4582\n",
       "37531     3729\n",
       "37532     1691\n",
       "37533     8662\n",
       "37534    12071\n",
       "37535     7504\n",
       "37536     7992\n",
       "37537     7566\n",
       "37538     6378\n",
       "37539     4187\n",
       "37540     3729\n",
       "37541     6773\n",
       "37542     7323\n",
       "37543     2909\n",
       "37544     3305\n",
       "37545     2148\n",
       "37546     6043\n",
       "37547     5100\n",
       "37548    12861\n",
       "37549     8053\n",
       "37550     6651\n",
       "37551     6105\n",
       "37552     8935\n",
       "37553     4401\n",
       "37554     1813\n",
       "37555    10123\n",
       "37556     4917\n",
       "37557     2787\n",
       "37558     5921\n",
       "37559     4613\n",
       "37560     4917\n",
       "37561    13045\n",
       "37562     8784\n",
       "37563     7839\n",
       "37564     8874\n",
       "37565     5496\n",
       "37566     7170\n",
       "37567     6804\n",
       "37568    11887\n",
       "37569     7596\n",
       "37570     4705\n",
       "37571     6500\n",
       "37572     4917\n",
       "37573     5221\n",
       "37574     4491\n",
       "37575     7596\n",
       "37576     8387\n",
       "37577     7474\n",
       "37578     9939\n",
       "37579     5070\n",
       "37580     2482\n",
       "37581     5070\n",
       "37582     1691\n",
       "37583     4187\n",
       "37584     7139\n",
       "37585     3091\n",
       "37586     6317\n",
       "37587     6408\n",
       "37588     1783\n",
       "37589     4735\n",
       "37590    11796\n",
       "37591     4521\n",
       "37592     4552\n",
       "37593     4856\n",
       "37594     3121\n",
       "37595     9118\n",
       "37596     4095\n",
       "37597     6166\n",
       "37598     5343\n",
       "37599     6227\n",
       "37600     7596\n",
       "37601     1844\n",
       "37602     8265\n",
       "37603     7474\n",
       "37604     4217\n",
       "37605     4766\n",
       "37606    12252\n",
       "37607     5312\n",
       "37608     4217\n",
       "37609     4613\n",
       "37610     4735\n",
       "37611     6896\n",
       "37612     5374\n",
       "37613     3851\n",
       "37614    10245\n",
       "37615     4825\n",
       "37616     1964\n",
       "37617     6135\n",
       "37618     4582\n",
       "37619     1630\n",
       "37620     4644\n",
       "37621     8112\n",
       "37622    18127\n",
       "37623     4644\n",
       "37624     4521\n",
       "37625    11645\n",
       "37626    14414\n",
       "37627     4613\n",
       "37628    10638\n",
       "37629     9027\n",
       "37630    13167\n",
       "37631     6378\n",
       "37632     9665\n",
       "37633     4856\n",
       "37634     9177\n",
       "37635     2848\n",
       "37636     7413\n",
       "37637    10730\n",
       "37638     6439\n",
       "37639     6408\n",
       "37640     4460\n",
       "37641     3244\n",
       "37642     7413\n",
       "37643     5770\n",
       "37644     5374\n",
       "37645     4064\n",
       "37646     2726\n",
       "37647     2634\n",
       "37648     9665\n",
       "37649    16058\n",
       "37650     4248\n",
       "37651     5862\n",
       "37652     8539\n",
       "37653     5862\n",
       "37654     4156\n",
       "37655     5039\n",
       "37656     4248\n",
       "37657     4886\n",
       "37658     4460\n",
       "37659     5131\n",
       "37660     5465\n",
       "37661     3913\n",
       "37662     4613\n",
       "37663     7351\n",
       "37664     5435\n",
       "37665     9604\n",
       "37666     6166\n",
       "37667    11796\n",
       "37668     5404\n",
       "37669     6286\n",
       "37670     3183\n",
       "37671     5648\n",
       "37672     9057\n",
       "37673     4794\n",
       "37674     6957\n",
       "37675     4370\n",
       "37676     6255\n",
       "37677     3152\n",
       "37678     6105\n",
       "37679     4187\n",
       "37680     4004\n",
       "37681     5709\n",
       "37682     9177\n",
       "37683     4340\n",
       "37684     5100\n",
       "37685     6408\n",
       "37686     6804\n",
       "37687     6620\n",
       "37688    10730\n",
       "37689     8539\n",
       "37690     2756\n",
       "37691     5587\n",
       "37692     9269\n",
       "37693     4674\n",
       "37694     5678\n",
       "37695     8265\n",
       "37696     4401\n",
       "37697     5525\n",
       "37698     4248\n",
       "37699     5678\n",
       "37700     6804\n",
       "37701     4978\n",
       "37702     2909\n",
       "37703     7139\n",
       "37704     6043\n",
       "37705     4460\n",
       "37706     5952\n",
       "37707    12495\n",
       "37708     8265\n",
       "37709    12770\n",
       "37710     6712\n",
       "37711     4978\n",
       "37712     6043\n",
       "37713     6773\n",
       "37714     5251\n",
       "37715     3395\n",
       "37716     7688\n",
       "37717     3913\n",
       "37718     3333\n",
       "37719     8723\n",
       "37720     5831\n",
       "37721     6439\n",
       "37722     6531\n",
       "37723     5862\n",
       "37724     7566\n",
       "37725     3578\n",
       "37726     5435\n",
       "37727     5648\n",
       "37728     4491\n",
       "37729    16605\n",
       "37730     9514\n",
       "37731     5982\n",
       "37732     5159\n",
       "37733     4917\n",
       "37734     5982\n",
       "37735     5770\n",
       "37736    10700\n",
       "37737     4279\n",
       "37738     4187\n",
       "37739     5221\n",
       "37740     4248\n",
       "37741     5801\n",
       "37742     6317\n",
       "37743     4552\n",
       "37744     7078\n",
       "Name: earliest_cr_line, Length: 37745, dtype: int64"
      ]
     },
     "execution_count": 75,
     "metadata": {},
     "output_type": "execute_result"
    }
   ],
   "source": [
    "train1['earliest_cr_line']"
   ]
  },
  {
   "cell_type": "code",
   "execution_count": 77,
   "metadata": {},
   "outputs": [],
   "source": [
    "# Create features for three employee titles: teacher, manager, owner\n",
    "# most common job titles\n",
    "# some titles are repeated with lower or upper case\n",
    "train1['emp_title'] = train1['emp_title'].str.lower()\n",
    "train1['emp_title_teacher'] = train1['emp_title'].str.contains('teacher', na=False)\n",
    "train1['emp_title_manager'] = train1['emp_title'].str.contains('manager', na=False)\n",
    "train1['emp_title_owner']   = train1['emp_title'].str.contains('owner', na=False)"
   ]
  },
  {
   "cell_type": "code",
   "execution_count": 78,
   "metadata": {},
   "outputs": [],
   "source": [
    "# Dropping categorical features with high cardinality\n",
    "# High cardinality means that the column contains a large percentage of totally unique values. \n",
    "# Low cardinality means that the column contains a lot of \"repeats\" in its data range.\n",
    "train1 = train1.drop(columns=['emp_title', 'zip_code'])"
   ]
  },
  {
   "cell_type": "code",
   "execution_count": 79,
   "metadata": {},
   "outputs": [],
   "source": [
    "# Transform features with many nulls to binary flags\n",
    "many_nulls = ['sec_app_mths_since_last_major_derog',\n",
    "              'sec_app_revol_util',\n",
    "              'sec_app_earliest_cr_line',\n",
    "              'sec_app_mort_acc',\n",
    "              'dti_joint',\n",
    "              'sec_app_collections_12_mths_ex_med',\n",
    "              'sec_app_chargeoff_within_12_mths',\n",
    "              'sec_app_num_rev_accts',\n",
    "              'sec_app_open_act_il',\n",
    "              'sec_app_open_acc',\n",
    "              'revol_bal_joint',\n",
    "              'annual_inc_joint',\n",
    "              'sec_app_inq_last_6mths',\n",
    "              'mths_since_last_record',\n",
    "              'mths_since_recent_bc_dlq',\n",
    "              'mths_since_last_major_derog',\n",
    "              'mths_since_recent_revol_delinq',\n",
    "              'mths_since_last_delinq',\n",
    "              'il_util',\n",
    "              'emp_length',\n",
    "              'mths_since_recent_inq',\n",
    "              'mo_sin_old_il_acct',\n",
    "              'mths_since_rcnt_il',\n",
    "              'num_tl_120dpd_2m',\n",
    "              'bc_util',\n",
    "              'percent_bc_gt_75',\n",
    "              'bc_open_to_buy',\n",
    "              'mths_since_recent_bc']\n",
    "\n",
    "for col in many_nulls:\n",
    "        train1[col] = train1[col].isnull()"
   ]
  },
  {
   "cell_type": "code",
   "execution_count": 85,
   "metadata": {},
   "outputs": [],
   "source": [
    "# For features with few nulls, do mean imputation\n",
    "for col in train1:\n",
    "    if train1[col].isnull().sum() > 0:\n",
    "        train1[col] = train1[col].fillna(train1[col].mean())"
   ]
  },
  {
   "cell_type": "code",
   "execution_count": 86,
   "metadata": {},
   "outputs": [
    {
     "data": {
      "text/html": [
       "<div>\n",
       "<style scoped>\n",
       "    .dataframe tbody tr th:only-of-type {\n",
       "        vertical-align: middle;\n",
       "    }\n",
       "\n",
       "    .dataframe tbody tr th {\n",
       "        vertical-align: top;\n",
       "    }\n",
       "\n",
       "    .dataframe thead th {\n",
       "        text-align: right;\n",
       "    }\n",
       "</style>\n",
       "<table border=\"1\" class=\"dataframe\">\n",
       "  <thead>\n",
       "    <tr style=\"text-align: right;\">\n",
       "      <th></th>\n",
       "      <th>loan_amnt</th>\n",
       "      <th>funded_amnt</th>\n",
       "      <th>term</th>\n",
       "      <th>int_rate</th>\n",
       "      <th>installment</th>\n",
       "      <th>sub_grade</th>\n",
       "      <th>emp_length</th>\n",
       "      <th>home_ownership</th>\n",
       "      <th>annual_inc</th>\n",
       "      <th>purpose</th>\n",
       "      <th>addr_state</th>\n",
       "      <th>dti</th>\n",
       "      <th>delinq_2yrs</th>\n",
       "      <th>earliest_cr_line</th>\n",
       "      <th>inq_last_6mths</th>\n",
       "      <th>mths_since_last_delinq</th>\n",
       "      <th>mths_since_last_record</th>\n",
       "      <th>open_acc</th>\n",
       "      <th>pub_rec</th>\n",
       "      <th>revol_bal</th>\n",
       "      <th>revol_util</th>\n",
       "      <th>total_acc</th>\n",
       "      <th>initial_list_status</th>\n",
       "      <th>collections_12_mths_ex_med</th>\n",
       "      <th>mths_since_last_major_derog</th>\n",
       "      <th>application_type</th>\n",
       "      <th>annual_inc_joint</th>\n",
       "      <th>dti_joint</th>\n",
       "      <th>acc_now_delinq</th>\n",
       "      <th>tot_coll_amt</th>\n",
       "      <th>tot_cur_bal</th>\n",
       "      <th>open_acc_6m</th>\n",
       "      <th>open_act_il</th>\n",
       "      <th>open_il_12m</th>\n",
       "      <th>open_il_24m</th>\n",
       "      <th>mths_since_rcnt_il</th>\n",
       "      <th>total_bal_il</th>\n",
       "      <th>il_util</th>\n",
       "      <th>open_rv_12m</th>\n",
       "      <th>open_rv_24m</th>\n",
       "      <th>max_bal_bc</th>\n",
       "      <th>all_util</th>\n",
       "      <th>total_rev_hi_lim</th>\n",
       "      <th>inq_fi</th>\n",
       "      <th>total_cu_tl</th>\n",
       "      <th>inq_last_12m</th>\n",
       "      <th>acc_open_past_24mths</th>\n",
       "      <th>avg_cur_bal</th>\n",
       "      <th>bc_open_to_buy</th>\n",
       "      <th>bc_util</th>\n",
       "      <th>chargeoff_within_12_mths</th>\n",
       "      <th>delinq_amnt</th>\n",
       "      <th>mo_sin_old_il_acct</th>\n",
       "      <th>mo_sin_old_rev_tl_op</th>\n",
       "      <th>mo_sin_rcnt_rev_tl_op</th>\n",
       "      <th>mo_sin_rcnt_tl</th>\n",
       "      <th>mort_acc</th>\n",
       "      <th>mths_since_recent_bc</th>\n",
       "      <th>mths_since_recent_bc_dlq</th>\n",
       "      <th>mths_since_recent_inq</th>\n",
       "      <th>mths_since_recent_revol_delinq</th>\n",
       "      <th>num_accts_ever_120_pd</th>\n",
       "      <th>num_actv_bc_tl</th>\n",
       "      <th>num_actv_rev_tl</th>\n",
       "      <th>num_bc_sats</th>\n",
       "      <th>num_bc_tl</th>\n",
       "      <th>num_il_tl</th>\n",
       "      <th>num_op_rev_tl</th>\n",
       "      <th>num_rev_accts</th>\n",
       "      <th>num_rev_tl_bal_gt_0</th>\n",
       "      <th>num_sats</th>\n",
       "      <th>num_tl_120dpd_2m</th>\n",
       "      <th>num_tl_30dpd</th>\n",
       "      <th>num_tl_90g_dpd_24m</th>\n",
       "      <th>num_tl_op_past_12m</th>\n",
       "      <th>pct_tl_nvr_dlq</th>\n",
       "      <th>percent_bc_gt_75</th>\n",
       "      <th>pub_rec_bankruptcies</th>\n",
       "      <th>tax_liens</th>\n",
       "      <th>tot_hi_cred_lim</th>\n",
       "      <th>total_bal_ex_mort</th>\n",
       "      <th>total_bc_limit</th>\n",
       "      <th>total_il_high_credit_limit</th>\n",
       "      <th>revol_bal_joint</th>\n",
       "      <th>sec_app_earliest_cr_line</th>\n",
       "      <th>sec_app_inq_last_6mths</th>\n",
       "      <th>sec_app_mort_acc</th>\n",
       "      <th>sec_app_open_acc</th>\n",
       "      <th>sec_app_revol_util</th>\n",
       "      <th>sec_app_open_act_il</th>\n",
       "      <th>sec_app_num_rev_accts</th>\n",
       "      <th>sec_app_chargeoff_within_12_mths</th>\n",
       "      <th>sec_app_collections_12_mths_ex_med</th>\n",
       "      <th>sec_app_mths_since_last_major_derog</th>\n",
       "      <th>disbursement_method</th>\n",
       "      <th>emp_title_teacher</th>\n",
       "      <th>emp_title_manager</th>\n",
       "      <th>emp_title_owner</th>\n",
       "    </tr>\n",
       "  </thead>\n",
       "  <tbody>\n",
       "    <tr>\n",
       "      <th>0</th>\n",
       "      <td>12000</td>\n",
       "      <td>12000</td>\n",
       "      <td>36 months</td>\n",
       "      <td>16.02</td>\n",
       "      <td>422.01</td>\n",
       "      <td>3.5</td>\n",
       "      <td>False</td>\n",
       "      <td>MORTGAGE</td>\n",
       "      <td>81000.0</td>\n",
       "      <td>debt_consolidation</td>\n",
       "      <td>NC</td>\n",
       "      <td>12.76</td>\n",
       "      <td>0</td>\n",
       "      <td>4856</td>\n",
       "      <td>1</td>\n",
       "      <td>False</td>\n",
       "      <td>True</td>\n",
       "      <td>7</td>\n",
       "      <td>0</td>\n",
       "      <td>4912</td>\n",
       "      <td>23.5</td>\n",
       "      <td>15</td>\n",
       "      <td>w</td>\n",
       "      <td>0</td>\n",
       "      <td>False</td>\n",
       "      <td>Individual</td>\n",
       "      <td>True</td>\n",
       "      <td>True</td>\n",
       "      <td>0</td>\n",
       "      <td>0</td>\n",
       "      <td>174783</td>\n",
       "      <td>1</td>\n",
       "      <td>2</td>\n",
       "      <td>0</td>\n",
       "      <td>4</td>\n",
       "      <td>False</td>\n",
       "      <td>33668</td>\n",
       "      <td>False</td>\n",
       "      <td>2</td>\n",
       "      <td>5</td>\n",
       "      <td>2962</td>\n",
       "      <td>63.0</td>\n",
       "      <td>20900</td>\n",
       "      <td>1</td>\n",
       "      <td>1</td>\n",
       "      <td>2</td>\n",
       "      <td>9</td>\n",
       "      <td>24969.0</td>\n",
       "      <td>False</td>\n",
       "      <td>False</td>\n",
       "      <td>0</td>\n",
       "      <td>0</td>\n",
       "      <td>False</td>\n",
       "      <td>23</td>\n",
       "      <td>1</td>\n",
       "      <td>1</td>\n",
       "      <td>1</td>\n",
       "      <td>False</td>\n",
       "      <td>True</td>\n",
       "      <td>False</td>\n",
       "      <td>True</td>\n",
       "      <td>2</td>\n",
       "      <td>2</td>\n",
       "      <td>2</td>\n",
       "      <td>2</td>\n",
       "      <td>2</td>\n",
       "      <td>9</td>\n",
       "      <td>4</td>\n",
       "      <td>5</td>\n",
       "      <td>2</td>\n",
       "      <td>7</td>\n",
       "      <td>False</td>\n",
       "      <td>0</td>\n",
       "      <td>0</td>\n",
       "      <td>2</td>\n",
       "      <td>92.9</td>\n",
       "      <td>False</td>\n",
       "      <td>0</td>\n",
       "      <td>0</td>\n",
       "      <td>206618</td>\n",
       "      <td>38580</td>\n",
       "      <td>5500</td>\n",
       "      <td>40863</td>\n",
       "      <td>True</td>\n",
       "      <td>True</td>\n",
       "      <td>True</td>\n",
       "      <td>True</td>\n",
       "      <td>True</td>\n",
       "      <td>True</td>\n",
       "      <td>True</td>\n",
       "      <td>True</td>\n",
       "      <td>True</td>\n",
       "      <td>True</td>\n",
       "      <td>True</td>\n",
       "      <td>Cash</td>\n",
       "      <td>False</td>\n",
       "      <td>False</td>\n",
       "      <td>False</td>\n",
       "    </tr>\n",
       "    <tr>\n",
       "      <th>1</th>\n",
       "      <td>6300</td>\n",
       "      <td>6300</td>\n",
       "      <td>36 months</td>\n",
       "      <td>14.07</td>\n",
       "      <td>215.54</td>\n",
       "      <td>3.3</td>\n",
       "      <td>False</td>\n",
       "      <td>RENT</td>\n",
       "      <td>39000.0</td>\n",
       "      <td>debt_consolidation</td>\n",
       "      <td>CA</td>\n",
       "      <td>21.42</td>\n",
       "      <td>0</td>\n",
       "      <td>2574</td>\n",
       "      <td>1</td>\n",
       "      <td>True</td>\n",
       "      <td>True</td>\n",
       "      <td>10</td>\n",
       "      <td>0</td>\n",
       "      <td>11876</td>\n",
       "      <td>59.4</td>\n",
       "      <td>12</td>\n",
       "      <td>w</td>\n",
       "      <td>0</td>\n",
       "      <td>True</td>\n",
       "      <td>Individual</td>\n",
       "      <td>True</td>\n",
       "      <td>True</td>\n",
       "      <td>0</td>\n",
       "      <td>0</td>\n",
       "      <td>31046</td>\n",
       "      <td>0</td>\n",
       "      <td>1</td>\n",
       "      <td>0</td>\n",
       "      <td>2</td>\n",
       "      <td>False</td>\n",
       "      <td>19170</td>\n",
       "      <td>False</td>\n",
       "      <td>3</td>\n",
       "      <td>8</td>\n",
       "      <td>5153</td>\n",
       "      <td>72.0</td>\n",
       "      <td>20000</td>\n",
       "      <td>1</td>\n",
       "      <td>0</td>\n",
       "      <td>1</td>\n",
       "      <td>10</td>\n",
       "      <td>3105.0</td>\n",
       "      <td>False</td>\n",
       "      <td>False</td>\n",
       "      <td>0</td>\n",
       "      <td>0</td>\n",
       "      <td>False</td>\n",
       "      <td>72</td>\n",
       "      <td>8</td>\n",
       "      <td>8</td>\n",
       "      <td>0</td>\n",
       "      <td>False</td>\n",
       "      <td>True</td>\n",
       "      <td>False</td>\n",
       "      <td>True</td>\n",
       "      <td>0</td>\n",
       "      <td>6</td>\n",
       "      <td>7</td>\n",
       "      <td>7</td>\n",
       "      <td>8</td>\n",
       "      <td>2</td>\n",
       "      <td>9</td>\n",
       "      <td>10</td>\n",
       "      <td>7</td>\n",
       "      <td>10</td>\n",
       "      <td>False</td>\n",
       "      <td>0</td>\n",
       "      <td>0</td>\n",
       "      <td>3</td>\n",
       "      <td>100.0</td>\n",
       "      <td>False</td>\n",
       "      <td>0</td>\n",
       "      <td>0</td>\n",
       "      <td>43140</td>\n",
       "      <td>31046</td>\n",
       "      <td>16900</td>\n",
       "      <td>23140</td>\n",
       "      <td>True</td>\n",
       "      <td>True</td>\n",
       "      <td>True</td>\n",
       "      <td>True</td>\n",
       "      <td>True</td>\n",
       "      <td>True</td>\n",
       "      <td>True</td>\n",
       "      <td>True</td>\n",
       "      <td>True</td>\n",
       "      <td>True</td>\n",
       "      <td>True</td>\n",
       "      <td>Cash</td>\n",
       "      <td>False</td>\n",
       "      <td>False</td>\n",
       "      <td>False</td>\n",
       "    </tr>\n",
       "  </tbody>\n",
       "</table>\n",
       "</div>"
      ],
      "text/plain": [
       "   loan_amnt  funded_amnt        term  int_rate  installment  sub_grade  emp_length home_ownership  annual_inc             purpose addr_state    dti  delinq_2yrs  earliest_cr_line  inq_last_6mths  mths_since_last_delinq  mths_since_last_record  open_acc  pub_rec  revol_bal  revol_util  total_acc initial_list_status  collections_12_mths_ex_med  mths_since_last_major_derog application_type  annual_inc_joint  dti_joint  acc_now_delinq  tot_coll_amt  tot_cur_bal  open_acc_6m  open_act_il  open_il_12m  open_il_24m  mths_since_rcnt_il  total_bal_il  il_util  open_rv_12m  open_rv_24m  max_bal_bc  all_util  total_rev_hi_lim  inq_fi  total_cu_tl  inq_last_12m  acc_open_past_24mths  avg_cur_bal  bc_open_to_buy  bc_util  chargeoff_within_12_mths  delinq_amnt  mo_sin_old_il_acct  mo_sin_old_rev_tl_op  mo_sin_rcnt_rev_tl_op  mo_sin_rcnt_tl  mort_acc  mths_since_recent_bc  mths_since_recent_bc_dlq  mths_since_recent_inq  mths_since_recent_revol_delinq  num_accts_ever_120_pd  num_actv_bc_tl  \\\n",
       "0      12000        12000   36 months     16.02       422.01        3.5       False       MORTGAGE     81000.0  debt_consolidation         NC  12.76            0              4856               1                   False                    True         7        0       4912        23.5         15                   w                           0                        False       Individual              True       True               0             0       174783            1            2            0            4               False         33668    False            2            5        2962      63.0             20900       1            1             2                     9      24969.0           False    False                         0            0               False                    23                      1               1         1                 False                      True                  False                            True                      2               2   \n",
       "1       6300         6300   36 months     14.07       215.54        3.3       False           RENT     39000.0  debt_consolidation         CA  21.42            0              2574               1                    True                    True        10        0      11876        59.4         12                   w                           0                         True       Individual              True       True               0             0        31046            0            1            0            2               False         19170    False            3            8        5153      72.0             20000       1            0             1                    10       3105.0           False    False                         0            0               False                    72                      8               8         0                 False                      True                  False                            True                      0               6   \n",
       "\n",
       "   num_actv_rev_tl  num_bc_sats  num_bc_tl  num_il_tl  num_op_rev_tl  num_rev_accts  num_rev_tl_bal_gt_0  num_sats  num_tl_120dpd_2m  num_tl_30dpd  num_tl_90g_dpd_24m  num_tl_op_past_12m  pct_tl_nvr_dlq  percent_bc_gt_75  pub_rec_bankruptcies  tax_liens  tot_hi_cred_lim  total_bal_ex_mort  total_bc_limit  total_il_high_credit_limit  revol_bal_joint  sec_app_earliest_cr_line  sec_app_inq_last_6mths  sec_app_mort_acc  sec_app_open_acc  sec_app_revol_util  sec_app_open_act_il  sec_app_num_rev_accts  sec_app_chargeoff_within_12_mths  sec_app_collections_12_mths_ex_med  sec_app_mths_since_last_major_derog disbursement_method  emp_title_teacher  emp_title_manager  emp_title_owner  \n",
       "0                2            2          2          9              4              5                    2         7             False             0                   0                   2            92.9             False                     0          0           206618              38580            5500                       40863             True                      True                    True              True              True                True                 True                   True                              True                                True                                 True                Cash              False              False            False  \n",
       "1                7            7          8          2              9             10                    7        10             False             0                   0                   3           100.0             False                     0          0            43140              31046           16900                       23140             True                      True                    True              True              True                True                 True                   True                              True                                True                                 True                Cash              False              False            False  "
      ]
     },
     "execution_count": 86,
     "metadata": {},
     "output_type": "execute_result"
    }
   ],
   "source": [
    "train1.head(2)"
   ]
  },
  {
   "cell_type": "code",
   "execution_count": 87,
   "metadata": {},
   "outputs": [
    {
     "data": {
      "text/plain": [
       "0"
      ]
     },
     "execution_count": 87,
     "metadata": {},
     "output_type": "execute_result"
    }
   ],
   "source": [
    "train1.isnull().sum().sum()"
   ]
  },
  {
   "cell_type": "code",
   "execution_count": 98,
   "metadata": {},
   "outputs": [
    {
     "data": {
      "text/plain": [
       "(37745, 98)"
      ]
     },
     "execution_count": 98,
     "metadata": {},
     "output_type": "execute_result"
    }
   ],
   "source": [
    "train1.shape"
   ]
  },
  {
   "cell_type": "code",
   "execution_count": null,
   "metadata": {},
   "outputs": [],
   "source": []
  },
  {
   "cell_type": "markdown",
   "metadata": {},
   "source": [
    "### Test DF - Cleaning "
   ]
  },
  {
   "cell_type": "markdown",
   "metadata": {},
   "source": [
    "#### Applying Same Wrangling as Train DF"
   ]
  },
  {
   "cell_type": "code",
   "execution_count": 89,
   "metadata": {},
   "outputs": [
    {
     "data": {
      "text/plain": [
       "(9437, 98)"
      ]
     },
     "execution_count": 89,
     "metadata": {},
     "output_type": "execute_result"
    }
   ],
   "source": [
    "def wrangle(X):\n",
    "    X = X.copy()\n",
    "    \n",
    "    # Drop some columns\n",
    "    X = X.drop(columns='id')  # id is random\n",
    "    X = X.drop(columns=['member_id', 'url', 'desc'])  # All null\n",
    "    X = X.drop(columns='title')  # Duplicative of purpose\n",
    "    X = X.drop(columns='grade')  # Duplicative of sub_grade\n",
    "    \n",
    "    # Transform sub_grade from \"A1\" - \"G5\" to 1.1 - 7.5\n",
    "    def wrangle_sub_grade(x):\n",
    "        first_digit = ord(x[0]) - 64\n",
    "        second_digit = int(x[1])\n",
    "        return first_digit + second_digit/10\n",
    "    \n",
    "    X['sub_grade'] = X['sub_grade'].apply(wrangle_sub_grade)\n",
    "\n",
    "    # Convert percentages from strings to floats\n",
    "    X['int_rate'] = X['int_rate'].str.strip('%').astype(float)\n",
    "    X['revol_util'] = X['revol_util'].str.strip('%').astype(float)\n",
    "        \n",
    "    # Transform earliest_cr_line to an integer: how many days it's been open\n",
    "    X['earliest_cr_line'] = pd.to_datetime(X['earliest_cr_line'], infer_datetime_format=True) # `infer_datetime_format=True` makes it go faster\n",
    "    X['earliest_cr_line'] = pd.Timestamp.today() - X['earliest_cr_line'] # (difference from today to when credit line was opened) how long the credit line have been opened\n",
    "    X['earliest_cr_line'] = X['earliest_cr_line'].dt.days # .dt accessor is very useful to get 'days' or 'months'... \n",
    "    # if you get the 'months' (which are from 1 to 12) you can categorically or ordinally encode that\n",
    "    \n",
    "    # Create features for three employee titles: teacher, manager, owner\n",
    "    # most common job titles\n",
    "    # some titles are repeated with lower or upper case\n",
    "    X['emp_title'] = X['emp_title'].str.lower()\n",
    "    X['emp_title_teacher'] = X['emp_title'].str.contains('teacher', na=False)\n",
    "    X['emp_title_manager'] = X['emp_title'].str.contains('manager', na=False)\n",
    "    X['emp_title_owner']   = X['emp_title'].str.contains('owner', na=False)\n",
    "    \n",
    "    # Drop categoricals with high cardinality\n",
    "    X = X.drop(columns=['emp_title', 'zip_code'])\n",
    "    \n",
    "    # Transform features with many nulls to binary flags\n",
    "    many_nulls = ['sec_app_mths_since_last_major_derog',\n",
    "                  'sec_app_revol_util',\n",
    "                  'sec_app_earliest_cr_line',\n",
    "                  'sec_app_mort_acc',\n",
    "                  'dti_joint',\n",
    "                  'sec_app_collections_12_mths_ex_med',\n",
    "                  'sec_app_chargeoff_within_12_mths',\n",
    "                  'sec_app_num_rev_accts',\n",
    "                  'sec_app_open_act_il',\n",
    "                  'sec_app_open_acc',\n",
    "                  'revol_bal_joint',\n",
    "                  'annual_inc_joint',\n",
    "                  'sec_app_inq_last_6mths',\n",
    "                  'mths_since_last_record',\n",
    "                  'mths_since_recent_bc_dlq',\n",
    "                  'mths_since_last_major_derog',\n",
    "                  'mths_since_recent_revol_delinq',\n",
    "                  'mths_since_last_delinq',\n",
    "                  'il_util',\n",
    "                  'emp_length',\n",
    "                  'mths_since_recent_inq',\n",
    "                  'mo_sin_old_il_acct',\n",
    "                  'mths_since_rcnt_il',\n",
    "                  'num_tl_120dpd_2m',\n",
    "                  'bc_util',\n",
    "                  'percent_bc_gt_75',\n",
    "                  'bc_open_to_buy',\n",
    "                  'mths_since_recent_bc']\n",
    "\n",
    "    for col in many_nulls:\n",
    "        X[col] = X[col].isnull()\n",
    "    \n",
    "    # For features with few nulls, do mean imputation\n",
    "    for col in X:\n",
    "        if X[col].isnull().sum() > 0:\n",
    "            X[col] = X[col].fillna(X[col].mean())\n",
    "    \n",
    "    # Return the wrangled dataframe\n",
    "    return X\n",
    "\n",
    "\n",
    "X_test  = wrangle(test)\n",
    "X_test.shape"
   ]
  },
  {
   "cell_type": "code",
   "execution_count": 91,
   "metadata": {},
   "outputs": [
    {
     "data": {
      "text/html": [
       "<div>\n",
       "<style scoped>\n",
       "    .dataframe tbody tr th:only-of-type {\n",
       "        vertical-align: middle;\n",
       "    }\n",
       "\n",
       "    .dataframe tbody tr th {\n",
       "        vertical-align: top;\n",
       "    }\n",
       "\n",
       "    .dataframe thead th {\n",
       "        text-align: right;\n",
       "    }\n",
       "</style>\n",
       "<table border=\"1\" class=\"dataframe\">\n",
       "  <thead>\n",
       "    <tr style=\"text-align: right;\">\n",
       "      <th></th>\n",
       "      <th>loan_amnt</th>\n",
       "      <th>funded_amnt</th>\n",
       "      <th>term</th>\n",
       "      <th>int_rate</th>\n",
       "      <th>installment</th>\n",
       "      <th>sub_grade</th>\n",
       "      <th>emp_length</th>\n",
       "      <th>home_ownership</th>\n",
       "      <th>annual_inc</th>\n",
       "      <th>purpose</th>\n",
       "      <th>addr_state</th>\n",
       "      <th>dti</th>\n",
       "      <th>delinq_2yrs</th>\n",
       "      <th>earliest_cr_line</th>\n",
       "      <th>inq_last_6mths</th>\n",
       "      <th>mths_since_last_delinq</th>\n",
       "      <th>mths_since_last_record</th>\n",
       "      <th>open_acc</th>\n",
       "      <th>pub_rec</th>\n",
       "      <th>revol_bal</th>\n",
       "      <th>revol_util</th>\n",
       "      <th>total_acc</th>\n",
       "      <th>initial_list_status</th>\n",
       "      <th>collections_12_mths_ex_med</th>\n",
       "      <th>mths_since_last_major_derog</th>\n",
       "      <th>application_type</th>\n",
       "      <th>annual_inc_joint</th>\n",
       "      <th>dti_joint</th>\n",
       "      <th>acc_now_delinq</th>\n",
       "      <th>tot_coll_amt</th>\n",
       "      <th>tot_cur_bal</th>\n",
       "      <th>open_acc_6m</th>\n",
       "      <th>open_act_il</th>\n",
       "      <th>open_il_12m</th>\n",
       "      <th>open_il_24m</th>\n",
       "      <th>mths_since_rcnt_il</th>\n",
       "      <th>total_bal_il</th>\n",
       "      <th>il_util</th>\n",
       "      <th>open_rv_12m</th>\n",
       "      <th>open_rv_24m</th>\n",
       "      <th>max_bal_bc</th>\n",
       "      <th>all_util</th>\n",
       "      <th>total_rev_hi_lim</th>\n",
       "      <th>inq_fi</th>\n",
       "      <th>total_cu_tl</th>\n",
       "      <th>inq_last_12m</th>\n",
       "      <th>acc_open_past_24mths</th>\n",
       "      <th>avg_cur_bal</th>\n",
       "      <th>bc_open_to_buy</th>\n",
       "      <th>bc_util</th>\n",
       "      <th>chargeoff_within_12_mths</th>\n",
       "      <th>delinq_amnt</th>\n",
       "      <th>mo_sin_old_il_acct</th>\n",
       "      <th>mo_sin_old_rev_tl_op</th>\n",
       "      <th>mo_sin_rcnt_rev_tl_op</th>\n",
       "      <th>mo_sin_rcnt_tl</th>\n",
       "      <th>mort_acc</th>\n",
       "      <th>mths_since_recent_bc</th>\n",
       "      <th>mths_since_recent_bc_dlq</th>\n",
       "      <th>mths_since_recent_inq</th>\n",
       "      <th>mths_since_recent_revol_delinq</th>\n",
       "      <th>num_accts_ever_120_pd</th>\n",
       "      <th>num_actv_bc_tl</th>\n",
       "      <th>num_actv_rev_tl</th>\n",
       "      <th>num_bc_sats</th>\n",
       "      <th>num_bc_tl</th>\n",
       "      <th>num_il_tl</th>\n",
       "      <th>num_op_rev_tl</th>\n",
       "      <th>num_rev_accts</th>\n",
       "      <th>num_rev_tl_bal_gt_0</th>\n",
       "      <th>num_sats</th>\n",
       "      <th>num_tl_120dpd_2m</th>\n",
       "      <th>num_tl_30dpd</th>\n",
       "      <th>num_tl_90g_dpd_24m</th>\n",
       "      <th>num_tl_op_past_12m</th>\n",
       "      <th>pct_tl_nvr_dlq</th>\n",
       "      <th>percent_bc_gt_75</th>\n",
       "      <th>pub_rec_bankruptcies</th>\n",
       "      <th>tax_liens</th>\n",
       "      <th>tot_hi_cred_lim</th>\n",
       "      <th>total_bal_ex_mort</th>\n",
       "      <th>total_bc_limit</th>\n",
       "      <th>total_il_high_credit_limit</th>\n",
       "      <th>revol_bal_joint</th>\n",
       "      <th>sec_app_earliest_cr_line</th>\n",
       "      <th>sec_app_inq_last_6mths</th>\n",
       "      <th>sec_app_mort_acc</th>\n",
       "      <th>sec_app_open_acc</th>\n",
       "      <th>sec_app_revol_util</th>\n",
       "      <th>sec_app_open_act_il</th>\n",
       "      <th>sec_app_num_rev_accts</th>\n",
       "      <th>sec_app_chargeoff_within_12_mths</th>\n",
       "      <th>sec_app_collections_12_mths_ex_med</th>\n",
       "      <th>sec_app_mths_since_last_major_derog</th>\n",
       "      <th>disbursement_method</th>\n",
       "      <th>emp_title_teacher</th>\n",
       "      <th>emp_title_manager</th>\n",
       "      <th>emp_title_owner</th>\n",
       "    </tr>\n",
       "  </thead>\n",
       "  <tbody>\n",
       "    <tr>\n",
       "      <th>0</th>\n",
       "      <td>18500</td>\n",
       "      <td>18500</td>\n",
       "      <td>60 months</td>\n",
       "      <td>25.82</td>\n",
       "      <td>551.93</td>\n",
       "      <td>5.4</td>\n",
       "      <td>False</td>\n",
       "      <td>MORTGAGE</td>\n",
       "      <td>87000.0</td>\n",
       "      <td>debt_consolidation</td>\n",
       "      <td>OH</td>\n",
       "      <td>22.07</td>\n",
       "      <td>0</td>\n",
       "      <td>4309</td>\n",
       "      <td>3</td>\n",
       "      <td>True</td>\n",
       "      <td>False</td>\n",
       "      <td>20</td>\n",
       "      <td>1</td>\n",
       "      <td>5504</td>\n",
       "      <td>16.9</td>\n",
       "      <td>37</td>\n",
       "      <td>w</td>\n",
       "      <td>0</td>\n",
       "      <td>True</td>\n",
       "      <td>Individual</td>\n",
       "      <td>True</td>\n",
       "      <td>True</td>\n",
       "      <td>0</td>\n",
       "      <td>200</td>\n",
       "      <td>212122</td>\n",
       "      <td>2</td>\n",
       "      <td>5</td>\n",
       "      <td>4</td>\n",
       "      <td>6</td>\n",
       "      <td>False</td>\n",
       "      <td>105151</td>\n",
       "      <td>False</td>\n",
       "      <td>2</td>\n",
       "      <td>3</td>\n",
       "      <td>2991</td>\n",
       "      <td>66.0</td>\n",
       "      <td>32500</td>\n",
       "      <td>6</td>\n",
       "      <td>3</td>\n",
       "      <td>12</td>\n",
       "      <td>10</td>\n",
       "      <td>10606.0</td>\n",
       "      <td>False</td>\n",
       "      <td>False</td>\n",
       "      <td>0</td>\n",
       "      <td>0</td>\n",
       "      <td>False</td>\n",
       "      <td>55</td>\n",
       "      <td>7</td>\n",
       "      <td>1</td>\n",
       "      <td>2</td>\n",
       "      <td>False</td>\n",
       "      <td>True</td>\n",
       "      <td>False</td>\n",
       "      <td>True</td>\n",
       "      <td>0</td>\n",
       "      <td>4</td>\n",
       "      <td>5</td>\n",
       "      <td>8</td>\n",
       "      <td>9</td>\n",
       "      <td>20</td>\n",
       "      <td>14</td>\n",
       "      <td>15</td>\n",
       "      <td>5</td>\n",
       "      <td>20</td>\n",
       "      <td>False</td>\n",
       "      <td>0</td>\n",
       "      <td>0</td>\n",
       "      <td>6</td>\n",
       "      <td>100.0</td>\n",
       "      <td>False</td>\n",
       "      <td>1</td>\n",
       "      <td>0</td>\n",
       "      <td>250214</td>\n",
       "      <td>110655</td>\n",
       "      <td>22100</td>\n",
       "      <td>113624</td>\n",
       "      <td>True</td>\n",
       "      <td>True</td>\n",
       "      <td>True</td>\n",
       "      <td>True</td>\n",
       "      <td>True</td>\n",
       "      <td>True</td>\n",
       "      <td>True</td>\n",
       "      <td>True</td>\n",
       "      <td>True</td>\n",
       "      <td>True</td>\n",
       "      <td>True</td>\n",
       "      <td>Cash</td>\n",
       "      <td>False</td>\n",
       "      <td>False</td>\n",
       "      <td>False</td>\n",
       "    </tr>\n",
       "    <tr>\n",
       "      <th>1</th>\n",
       "      <td>36000</td>\n",
       "      <td>36000</td>\n",
       "      <td>60 months</td>\n",
       "      <td>12.61</td>\n",
       "      <td>811.95</td>\n",
       "      <td>3.1</td>\n",
       "      <td>False</td>\n",
       "      <td>MORTGAGE</td>\n",
       "      <td>165000.0</td>\n",
       "      <td>other</td>\n",
       "      <td>MI</td>\n",
       "      <td>13.39</td>\n",
       "      <td>0</td>\n",
       "      <td>9665</td>\n",
       "      <td>0</td>\n",
       "      <td>False</td>\n",
       "      <td>True</td>\n",
       "      <td>12</td>\n",
       "      <td>0</td>\n",
       "      <td>21833</td>\n",
       "      <td>42.6</td>\n",
       "      <td>21</td>\n",
       "      <td>w</td>\n",
       "      <td>0</td>\n",
       "      <td>True</td>\n",
       "      <td>Individual</td>\n",
       "      <td>True</td>\n",
       "      <td>True</td>\n",
       "      <td>0</td>\n",
       "      <td>0</td>\n",
       "      <td>42059</td>\n",
       "      <td>2</td>\n",
       "      <td>2</td>\n",
       "      <td>1</td>\n",
       "      <td>2</td>\n",
       "      <td>False</td>\n",
       "      <td>20226</td>\n",
       "      <td>False</td>\n",
       "      <td>1</td>\n",
       "      <td>3</td>\n",
       "      <td>5880</td>\n",
       "      <td>48.0</td>\n",
       "      <td>51200</td>\n",
       "      <td>1</td>\n",
       "      <td>0</td>\n",
       "      <td>1</td>\n",
       "      <td>5</td>\n",
       "      <td>3505.0</td>\n",
       "      <td>False</td>\n",
       "      <td>False</td>\n",
       "      <td>0</td>\n",
       "      <td>0</td>\n",
       "      <td>False</td>\n",
       "      <td>131</td>\n",
       "      <td>4</td>\n",
       "      <td>4</td>\n",
       "      <td>0</td>\n",
       "      <td>False</td>\n",
       "      <td>False</td>\n",
       "      <td>False</td>\n",
       "      <td>False</td>\n",
       "      <td>0</td>\n",
       "      <td>3</td>\n",
       "      <td>7</td>\n",
       "      <td>6</td>\n",
       "      <td>6</td>\n",
       "      <td>6</td>\n",
       "      <td>10</td>\n",
       "      <td>14</td>\n",
       "      <td>7</td>\n",
       "      <td>12</td>\n",
       "      <td>False</td>\n",
       "      <td>0</td>\n",
       "      <td>0</td>\n",
       "      <td>2</td>\n",
       "      <td>85.7</td>\n",
       "      <td>False</td>\n",
       "      <td>0</td>\n",
       "      <td>0</td>\n",
       "      <td>87584</td>\n",
       "      <td>42059</td>\n",
       "      <td>33000</td>\n",
       "      <td>36384</td>\n",
       "      <td>True</td>\n",
       "      <td>True</td>\n",
       "      <td>True</td>\n",
       "      <td>True</td>\n",
       "      <td>True</td>\n",
       "      <td>True</td>\n",
       "      <td>True</td>\n",
       "      <td>True</td>\n",
       "      <td>True</td>\n",
       "      <td>True</td>\n",
       "      <td>True</td>\n",
       "      <td>Cash</td>\n",
       "      <td>False</td>\n",
       "      <td>False</td>\n",
       "      <td>False</td>\n",
       "    </tr>\n",
       "  </tbody>\n",
       "</table>\n",
       "</div>"
      ],
      "text/plain": [
       "   loan_amnt  funded_amnt        term  int_rate  installment  sub_grade  emp_length home_ownership  annual_inc             purpose addr_state    dti  delinq_2yrs  earliest_cr_line  inq_last_6mths  mths_since_last_delinq  mths_since_last_record  open_acc  pub_rec  revol_bal  revol_util  total_acc initial_list_status  collections_12_mths_ex_med  mths_since_last_major_derog application_type  annual_inc_joint  dti_joint  acc_now_delinq  tot_coll_amt  tot_cur_bal  open_acc_6m  open_act_il  open_il_12m  open_il_24m  mths_since_rcnt_il  total_bal_il  il_util  open_rv_12m  open_rv_24m  max_bal_bc  all_util  total_rev_hi_lim  inq_fi  total_cu_tl  inq_last_12m  acc_open_past_24mths  avg_cur_bal  bc_open_to_buy  bc_util  chargeoff_within_12_mths  delinq_amnt  mo_sin_old_il_acct  mo_sin_old_rev_tl_op  mo_sin_rcnt_rev_tl_op  mo_sin_rcnt_tl  mort_acc  mths_since_recent_bc  mths_since_recent_bc_dlq  mths_since_recent_inq  mths_since_recent_revol_delinq  num_accts_ever_120_pd  num_actv_bc_tl  \\\n",
       "0      18500        18500   60 months     25.82       551.93        5.4       False       MORTGAGE     87000.0  debt_consolidation         OH  22.07            0              4309               3                    True                   False        20        1       5504        16.9         37                   w                           0                         True       Individual              True       True               0           200       212122            2            5            4            6               False        105151    False            2            3        2991      66.0             32500       6            3            12                    10      10606.0           False    False                         0            0               False                    55                      7               1         2                 False                      True                  False                            True                      0               4   \n",
       "1      36000        36000   60 months     12.61       811.95        3.1       False       MORTGAGE    165000.0               other         MI  13.39            0              9665               0                   False                    True        12        0      21833        42.6         21                   w                           0                         True       Individual              True       True               0             0        42059            2            2            1            2               False         20226    False            1            3        5880      48.0             51200       1            0             1                     5       3505.0           False    False                         0            0               False                   131                      4               4         0                 False                     False                  False                           False                      0               3   \n",
       "\n",
       "   num_actv_rev_tl  num_bc_sats  num_bc_tl  num_il_tl  num_op_rev_tl  num_rev_accts  num_rev_tl_bal_gt_0  num_sats  num_tl_120dpd_2m  num_tl_30dpd  num_tl_90g_dpd_24m  num_tl_op_past_12m  pct_tl_nvr_dlq  percent_bc_gt_75  pub_rec_bankruptcies  tax_liens  tot_hi_cred_lim  total_bal_ex_mort  total_bc_limit  total_il_high_credit_limit  revol_bal_joint  sec_app_earliest_cr_line  sec_app_inq_last_6mths  sec_app_mort_acc  sec_app_open_acc  sec_app_revol_util  sec_app_open_act_il  sec_app_num_rev_accts  sec_app_chargeoff_within_12_mths  sec_app_collections_12_mths_ex_med  sec_app_mths_since_last_major_derog disbursement_method  emp_title_teacher  emp_title_manager  emp_title_owner  \n",
       "0                5            8          9         20             14             15                    5        20             False             0                   0                   6           100.0             False                     1          0           250214             110655           22100                      113624             True                      True                    True              True              True                True                 True                   True                              True                                True                                 True                Cash              False              False            False  \n",
       "1                7            6          6          6             10             14                    7        12             False             0                   0                   2            85.7             False                     0          0            87584              42059           33000                       36384             True                      True                    True              True              True                True                 True                   True                              True                                True                                 True                Cash              False              False            False  "
      ]
     },
     "execution_count": 91,
     "metadata": {},
     "output_type": "execute_result"
    }
   ],
   "source": [
    "X_test.head(2)"
   ]
  },
  {
   "cell_type": "code",
   "execution_count": 106,
   "metadata": {},
   "outputs": [],
   "source": [
    "# Setting 'train1' equal to X_train & 'train_labels' equal to y_train\n",
    "X_train = train1.copy()\n",
    "y_train = train_labels.copy()\n",
    "y_train = y_train['charged_off']"
   ]
  },
  {
   "cell_type": "code",
   "execution_count": 107,
   "metadata": {},
   "outputs": [
    {
     "data": {
      "text/plain": [
       "((37745, 98), (37745,))"
      ]
     },
     "execution_count": 107,
     "metadata": {},
     "output_type": "execute_result"
    }
   ],
   "source": [
    "X_train.shape, y_train.shape"
   ]
  },
  {
   "cell_type": "markdown",
   "metadata": {},
   "source": [
    "Now X_train (and X_test) have no nulls"
   ]
  },
  {
   "cell_type": "code",
   "execution_count": 108,
   "metadata": {},
   "outputs": [
    {
     "data": {
      "text/plain": [
       "True"
      ]
     },
     "execution_count": 108,
     "metadata": {},
     "output_type": "execute_result"
    }
   ],
   "source": [
    "null_counts = X_train.isnull().sum()\n",
    "all(null_counts == 0)"
   ]
  },
  {
   "cell_type": "markdown",
   "metadata": {},
   "source": [
    "And no high cardinality categoricals (only 50 or less since we have 50 states)"
   ]
  },
  {
   "cell_type": "code",
   "execution_count": 109,
   "metadata": {},
   "outputs": [
    {
     "data": {
      "text/plain": [
       "True"
      ]
     },
     "execution_count": 109,
     "metadata": {},
     "output_type": "execute_result"
    }
   ],
   "source": [
    "cardinality = X_train.select_dtypes(exclude='number').nunique()\n",
    "all(cardinality <= 50)"
   ]
  },
  {
   "cell_type": "markdown",
   "metadata": {},
   "source": [
    "## Round 1"
   ]
  },
  {
   "cell_type": "markdown",
   "metadata": {},
   "source": [
    "### Decision Tree"
   ]
  },
  {
   "cell_type": "code",
   "execution_count": 110,
   "metadata": {},
   "outputs": [],
   "source": [
    "import category_encoders as ce\n",
    "from sklearn.model_selection import cross_val_score\n",
    "from sklearn.pipeline import make_pipeline\n",
    "from sklearn.tree import DecisionTreeClassifier"
   ]
  },
  {
   "cell_type": "code",
   "execution_count": 112,
   "metadata": {},
   "outputs": [
    {
     "data": {
      "text/plain": [
       "array([0.70297128, 0.70047918, 0.69332495, 0.68879982, 0.68917646])"
      ]
     },
     "execution_count": 112,
     "metadata": {},
     "output_type": "execute_result"
    }
   ],
   "source": [
    "# Any leftover categorical features we apply arbitrary ordinal encoding -- \n",
    "# but not good for Logistic Regression!\n",
    "# Also using class_weight='balanced' recomended when using metric/scoring 'roc_auc' \n",
    "# to improve ability to rank\n",
    "pipe = make_pipeline(\n",
    "    ce.OrdinalEncoder(), \n",
    "    DecisionTreeClassifier(max_depth=5, class_weight='balanced')\n",
    ")\n",
    "\n",
    "# when using sklearn's cross validation functions like in this case 'cross_val_score' or\n",
    "# 'grid search cv', you want to use scoring equal to 'roc_auc' - DON'T USE DEFAULT scoring\n",
    "# otherwise will give DECEPTIVE RESULTS!\n",
    "# 'roc_auc' evaluates the rank to sort the predictive probabilities\n",
    "cross_val_score(pipe, X_train, y_train, cv=5, scoring='roc_auc')"
   ]
  },
  {
   "cell_type": "markdown",
   "metadata": {},
   "source": [
    "### Decision Tree\n",
    "Improves ROC AUC compared to Decision Tree"
   ]
  },
  {
   "cell_type": "code",
   "execution_count": 115,
   "metadata": {},
   "outputs": [
    {
     "name": "stderr",
     "output_type": "stream",
     "text": [
      "[Parallel(n_jobs=1)]: Using backend SequentialBackend with 1 concurrent workers.\n"
     ]
    },
    {
     "name": "stdout",
     "output_type": "stream",
     "text": [
      "[CV]  ................................................................\n",
      "[CV] ....................... , score=0.7294513113370663, total=   6.1s\n",
      "[CV]  ................................................................\n"
     ]
    },
    {
     "name": "stderr",
     "output_type": "stream",
     "text": [
      "[Parallel(n_jobs=1)]: Done   1 out of   1 | elapsed:    6.1s remaining:    0.0s\n"
     ]
    },
    {
     "name": "stdout",
     "output_type": "stream",
     "text": [
      "[CV] ....................... , score=0.7287773511740736, total=   3.4s\n",
      "[CV]  ................................................................\n"
     ]
    },
    {
     "name": "stderr",
     "output_type": "stream",
     "text": [
      "[Parallel(n_jobs=1)]: Done   2 out of   2 | elapsed:    9.6s remaining:    0.0s\n"
     ]
    },
    {
     "name": "stdout",
     "output_type": "stream",
     "text": [
      "[CV] ....................... , score=0.7227773103498607, total=   3.3s\n",
      "[CV]  ................................................................\n"
     ]
    },
    {
     "name": "stderr",
     "output_type": "stream",
     "text": [
      "[Parallel(n_jobs=1)]: Done   3 out of   3 | elapsed:   13.0s remaining:    0.0s\n"
     ]
    },
    {
     "name": "stdout",
     "output_type": "stream",
     "text": [
      "[CV] ....................... , score=0.7282878800461593, total=   3.3s\n",
      "[CV]  ................................................................\n"
     ]
    },
    {
     "name": "stderr",
     "output_type": "stream",
     "text": [
      "[Parallel(n_jobs=1)]: Done   4 out of   4 | elapsed:   16.5s remaining:    0.0s\n"
     ]
    },
    {
     "name": "stdout",
     "output_type": "stream",
     "text": [
      "[CV] ........................ , score=0.736107122966396, total=   3.4s\n"
     ]
    },
    {
     "name": "stderr",
     "output_type": "stream",
     "text": [
      "[Parallel(n_jobs=1)]: Done   5 out of   5 | elapsed:   20.0s remaining:    0.0s\n",
      "[Parallel(n_jobs=1)]: Done   5 out of   5 | elapsed:   20.0s finished\n"
     ]
    },
    {
     "data": {
      "text/plain": [
       "array([0.72945131, 0.72877735, 0.72277731, 0.72828788, 0.73610712])"
      ]
     },
     "execution_count": 115,
     "metadata": {},
     "output_type": "execute_result"
    }
   ],
   "source": [
    "from sklearn.ensemble import RandomForestClassifier\n",
    "\n",
    "pipe = make_pipeline(\n",
    "    ce.OrdinalEncoder(),\n",
    "    RandomForestClassifier(\n",
    "        n_estimators=100,\n",
    "    class_weight='balanced',\n",
    "    min_samples_leaf=0.005, # not going below half of percentage of the population -- min_samples_leaf = 1 can lead to overfitting\n",
    "    oob_score=True,\n",
    "    n_jobs=-1 ) # using all cores\n",
    ")\n",
    "        \n",
    "cross_val_score(pipe, X_train, y_train, cv=5, scoring='roc_auc', verbose=10)"
   ]
  },
  {
   "cell_type": "markdown",
   "metadata": {},
   "source": [
    "### Out-of-Bag Estimated Score\n",
    "Out-of-bag is a faster way to get an estimated score with Random Forest, using the parameter `oob_score=True`"
   ]
  },
  {
   "cell_type": "code",
   "execution_count": 119,
   "metadata": {},
   "outputs": [],
   "source": [
    "from sklearn.metrics import roc_auc_score"
   ]
  },
  {
   "cell_type": "code",
   "execution_count": 120,
   "metadata": {},
   "outputs": [
    {
     "name": "stdout",
     "output_type": "stream",
     "text": [
      "ROC ACU, Out-of-Bag estimate: 0.7281257092515867\n",
      "Wall time: 4.14 s\n"
     ]
    }
   ],
   "source": [
    "%%time\n",
    "pipe.fit(X_train, y_train)\n",
    "y_pred_proba = pipe.named_steps['randomforestclassifier'].oob_decision_function_[:,1]\n",
    "print('ROC ACU, Out-of-Bag estimate:', roc_auc_score(y_train, y_pred_proba))"
   ]
  },
  {
   "cell_type": "markdown",
   "metadata": {},
   "source": [
    "You can explore hyperparameter values"
   ]
  },
  {
   "cell_type": "code",
   "execution_count": 121,
   "metadata": {},
   "outputs": [
    {
     "name": "stdout",
     "output_type": "stream",
     "text": [
      "Max Depth: 2\n",
      "ROC AUC, OOB: 0.6970147808016669\n",
      "Max Depth: 4\n",
      "ROC AUC, OOB: 0.7156058208429079\n",
      "Max Depth: 6\n",
      "ROC AUC, OOB: 0.7240588944227797\n",
      "Max Depth: 8\n",
      "ROC AUC, OOB: 0.7235444998253637\n",
      "Max Depth: 10\n",
      "ROC AUC, OOB: 0.7226003803571291\n",
      "Max Depth: None\n",
      "ROC AUC, OOB: 0.707425851597181\n",
      "Wall time: 40.2 s\n"
     ]
    }
   ],
   "source": [
    "%%time\n",
    "\n",
    "max_depths = list(range(2, 12, 2)) + [None]\n",
    "\n",
    "for max_depth in max_depths:\n",
    "    pipe = make_pipeline(\n",
    "        ce.OrdinalEncoder(),\n",
    "        RandomForestClassifier(\n",
    "            n_estimators=100,\n",
    "            class_weight='balanced',\n",
    "            max_depth=max_depth,\n",
    "            oob_score=True,\n",
    "            n_jobs=-1)\n",
    "    )\n",
    "    \n",
    "    pipe.fit(X_train, y_train)\n",
    "    y_pred_proba=pipe.named_steps['randomforestclassifier'].oob_decision_function_[:,1]\n",
    "    print('Max Depth:', max_depth)\n",
    "    print('ROC AUC, OOB:', roc_auc_score(y_train, y_pred_proba))"
   ]
  },
  {
   "cell_type": "markdown",
   "metadata": {},
   "source": [
    "## Feature Importances\n",
    "\n",
    "We can look at feature importances. [But remember:](https://blog.datadive.net/selecting-good-features-part-iii-random-forests/)\n",
    "\n",
    ">Firstly, feature selection based on impurity reduction is biased towards preferring variables with more categories.\n",
    ">\n",
    ">Secondly, when the dataset has two (or more) correlated features, then from the point of view of the model, any of these correlated features can be used as the predictor, with no concrete preference of one over the others."
   ]
  },
  {
   "cell_type": "code",
   "execution_count": 122,
   "metadata": {},
   "outputs": [
    {
     "data": {
      "image/png": "[encoded data removed]",
      "text/plain": [
       "<Figure size 576x576 with 1 Axes>"
      ]
     },
     "metadata": {
      "needs_background": "light"
     },
     "output_type": "display_data"
    }
   ],
   "source": [
    "def show_feature_importances(\n",
    "    pipe, X, y, estimator_name='randomforestclassifier',\n",
    "    n=20, figsize=(8, 8)):\n",
    "    \n",
    "    #pipe must not change dimensions of X dataframe\n",
    "    pipe.fit(X, y)\n",
    "    importances = pd.Series(\n",
    "        pipe.named_steps[estimator_name].feature_importances_,\n",
    "        X.columns)\n",
    "    \n",
    "    top_n = importances.sort_values(ascending=False)[:n]\n",
    "    \n",
    "    plt.figure(figsize=figsize)\n",
    "    top_n.sort_values().plot.barh(color='blue')\n",
    "    \n",
    "show_feature_importances(pipe, X_train, y_train)"
   ]
  },
  {
   "cell_type": "markdown",
   "metadata": {},
   "source": [
    "## Drop Column Importances / \"Ablation Study\"\n",
    "\n",
    "`sub_grade` and `int_rate` are highly correlated. If we drop one of those features, the model uses the other more, so the score remains similar."
   ]
  },
  {
   "cell_type": "code",
   "execution_count": 123,
   "metadata": {},
   "outputs": [
    {
     "data": {
      "text/plain": [
       "array([0.72255274, 0.71953703, 0.71577072, 0.72016316, 0.72078404])"
      ]
     },
     "execution_count": 123,
     "metadata": {},
     "output_type": "execute_result"
    }
   ],
   "source": [
    "cross_val_score(pipe, X_train.drop(columns='sub_grade'),\n",
    "                y_train, cv=5, scoring='roc_auc')"
   ]
  },
  {
   "cell_type": "code",
   "execution_count": 125,
   "metadata": {},
   "outputs": [
    {
     "data": {
      "image/png": "[encoded data removed]",
      "text/plain": [
       "<Figure size 576x576 with 1 Axes>"
      ]
     },
     "metadata": {
      "needs_background": "light"
     },
     "output_type": "display_data"
    }
   ],
   "source": [
    "show_feature_importances(pipe, X_train.drop(columns='sub_grade'), y_train)"
   ]
  },
  {
   "cell_type": "markdown",
   "metadata": {},
   "source": [
    "But if we drop both features, then the score decreases:"
   ]
  },
  {
   "cell_type": "code",
   "execution_count": 126,
   "metadata": {},
   "outputs": [
    {
     "data": {
      "text/plain": [
       "array([0.69971179, 0.69879267, 0.698925  , 0.70852176, 0.70651761])"
      ]
     },
     "execution_count": 126,
     "metadata": {},
     "output_type": "execute_result"
    }
   ],
   "source": [
    "cross_val_score(pipe, X_train.drop(columns=['sub_grade', 'int_rate']),\n",
    "               y_train, cv=5, scoring='roc_auc')"
   ]
  },
  {
   "cell_type": "markdown",
   "metadata": {},
   "source": [
    "For more information, see [Beware Default Random Forest Importances](https://explained.ai/rf-importance/index.html)."
   ]
  },
  {
   "cell_type": "markdown",
   "metadata": {},
   "source": [
    "## Permutation Importance\n",
    "\n",
    "Permutation Importance is a compromise between Feature Importance based on impurity reduction (which is the fastest) and Drop Column Importance (which is the \"best.\")\n",
    "\n",
    "[The ELI5 library documentation explains,](https://eli5.readthedocs.io/en/latest/blackbox/permutation_importance.html)\n",
    "\n",
    "> Importance can be measured by looking at how much the score (accuracy, F1, R^2, etc. - any score we’re interested in) decreases when a feature is not available.\n",
    ">\n",
    "> To do that one can remove feature from the dataset, re-train the estimator and check the score. But it requires re-training an estimator for each feature, which can be computationally intensive. ...\n",
    ">\n",
    ">To avoid re-training the estimator we can remove a feature only from the test part of the dataset, and compute score without using this feature. It doesn’t work as-is, because estimators expect feature to be present. So instead of removing a feature we can replace it with random noise - feature column is still there, but it no longer contains useful information. This method works if noise is drawn from the same distribution as original feature values (as otherwise estimator may fail). The simplest way to get such noise is to shuffle values for a feature, i.e. use other examples’ feature values - this is how permutation importance is computed.\n",
    ">\n",
    ">The method is most suitable for computing feature importances when a number of columns (features) is not huge; it can be resource-intensive otherwise.\n",
    "\n",
    "For more documentation on using this library, see:\n",
    "- [eli5.sklearn.PermutationImportance](https://eli5.readthedocs.io/en/latest/autodocs/sklearn.html#eli5.sklearn.permutation_importance.PermutationImportance)\n",
    "- [eli5.show_weights](https://eli5.readthedocs.io/en/latest/autodocs/eli5.html#eli5.show_weights)"
   ]
  },
  {
   "cell_type": "code",
   "execution_count": 128,
   "metadata": {},
   "outputs": [
    {
     "ename": "ModuleNotFoundError",
     "evalue": "No module named 'eli5'",
     "output_type": "error",
     "traceback": [
      "\u001b[1;31m---------------------------------------------------------------------------\u001b[0m",
      "\u001b[1;31mModuleNotFoundError\u001b[0m                       Traceback (most recent call last)",
      "\u001b[1;32m<timed exec>\u001b[0m in \u001b[0;36m<module>\u001b[1;34m\u001b[0m\n",
      "\u001b[1;31mModuleNotFoundError\u001b[0m: No module named 'eli5'"
     ]
    }
   ],
   "source": [
    "%%time\n",
    "import eli5\n",
    "from eli5.sklearn import PermutationImportance\n",
    "\n",
    "encoder = ce.OrdinalEncoder\n",
    "X_train_trasformed = encoder.fit_transform(X_train)\n",
    "\n",
    "mode = RandomForestClassifier(\n",
    "    n_estimators='balanced',\n",
    "min_samples_leaf=0.005,\n",
    "n_jobs=-1)\n",
    "\n",
    "model.fit(X_train_trasformed, y_train)\n",
    "permuter = PermutationImportance(model, scoring='roc_auc',\n",
    "                                n_iter=1, cv='prefit')\n",
    "permuter.fit(X_train_transformed, y_train)"
   ]
  },
  {
   "cell_type": "markdown",
   "metadata": {},
   "source": [
    "We can use Permutation Importance weights for feature selection. For example, we can remove features with zero weight. The model trains faster and the score does not decrease."
   ]
  },
  {
   "cell_type": "code",
   "execution_count": null,
   "metadata": {},
   "outputs": [],
   "source": [
    "subset = X_train.columns[permuter.feature_importances_ > 0]\n",
    "cross_val_score(pipe, X_train[subset], y_train,\n",
    "                cv=5, scoring='roc_auc', verbose=10)"
   ]
  }
 ],
 "metadata": {
  "kernelspec": {
   "display_name": "Python 3",
   "language": "python",
   "name": "python3"
  },
  "language_info": {
   "codemirror_mode": {
    "name": "ipython",
    "version": 3
   },
   "file_extension": ".py",
   "mimetype": "text/x-python",
   "name": "python",
   "nbconvert_exporter": "python",
   "pygments_lexer": "ipython3",
   "version": "3.6.8"
  }
 },
 "nbformat": 4,
 "nbformat_minor": 2
}

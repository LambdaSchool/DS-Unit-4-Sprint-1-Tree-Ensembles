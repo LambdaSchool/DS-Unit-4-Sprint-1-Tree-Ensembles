{
 "cells": [
  {
   "cell_type": "markdown",
   "metadata": {},
   "source": [
    "# Data Science Unit 4 Sprint Challenge 1 — Tree Ensembles"
   ]
  },
  {
   "cell_type": "markdown",
   "metadata": {},
   "source": [
    "### Chicago Food Inspections\n",
    "\n",
    "For this Sprint Challenge, you'll use a dataset with information from inspections of restaurants and other food establishments in Chicago from January 1, 2010 to the present. \n",
    "\n",
    "[See this PDF](https://data.cityofchicago.org/api/assets/BAD5301B-681A-4202-9D25-51B2CAE672FF) for descriptions of the data elements included in this dataset.\n",
    "\n",
    "According to [Chicago Department of Public Health — Food Protection Services](https://www.chicago.gov/city/en/depts/cdph/provdrs/healthy_restaurants/svcs/food-protection-services.html), \"Chicago is home to 16,000 food establishments like restaurants, grocery stores, bakeries, wholesalers, lunchrooms, mobile food vendors and more. Our business is food safety and sanitation with one goal, to prevent the spread of food-borne disease. We do this by inspecting food businesses, responding to complaints and food recalls.\" "
   ]
  },
  {
   "cell_type": "markdown",
   "metadata": {},
   "source": [
    "#### Your challenge: Predict whether inspections failed\n",
    "\n",
    "The target is the `Fail` column.\n",
    "\n",
    "- When the food establishment failed the inspection, the target is `1`.\n",
    "- When the establishment passed, the target is `0`."
   ]
  },
  {
   "cell_type": "markdown",
   "metadata": {},
   "source": [
    "#### Run this cell to load the data:"
   ]
  },
  {
   "cell_type": "code",
   "execution_count": 6,
   "metadata": {
    "ExecuteTime": {
     "end_time": "2019-03-22T16:02:39.594299Z",
     "start_time": "2019-03-22T16:02:03.812981Z"
    }
   },
   "outputs": [],
   "source": [
    "import pandas as pd\n",
    "\n",
    "train_url = 'https://drive.google.com/uc?export=download&id=13_tP9JpLcZHSPVpWcua4t2rY44K_s4H5'\n",
    "test_url  = 'https://drive.google.com/uc?export=download&id=1GkDHjsiGrzOXoF_xcYjdzBTSjOIi3g5a'\n",
    "\n",
    "train = pd.read_csv(train_url)\n",
    "test  = pd.read_csv(test_url)\n",
    "\n",
    "assert train.shape == (51916, 17)\n",
    "assert test.shape  == (17306, 17)"
   ]
  },
  {
   "cell_type": "markdown",
   "metadata": {},
   "source": [
    "### Part 1: Preprocessing\n",
    "\n",
    "You may choose which features you want to use, and whether/how you will preprocess them. You may use any tools and techniques for categorical encoding. (Pandas, category_encoders, sklearn.preprocessing, or any other library.)\n",
    "\n",
    "_To earn a score of 3 for this part, engineer new features, and use any alternative categorical encoding instead of One-Hot or Ordinal/Label encoding._\n",
    "\n",
    "### Part 2: Modeling\n",
    "\n",
    "Fit a Random Forest or Gradient Boosting model with the train set. (You may use scikit-learn, xgboost, or any other library.) Use cross-validation to estimate an ROC AUC validation score.\n",
    "\n",
    "Use your model to predict probabilities for the test set. Get an ROC AUC test score >= 0.60.\n",
    "\n",
    "_To earn a score of 3 for this part, get an ROC AUC test score >= 0.70._\n",
    "\n",
    "\n",
    "### Part 3: Visualization\n",
    "\n",
    "Make one visualization for model interpretation. (You may use any libraries.) Choose one of these types:\n",
    "- Feature Importances\n",
    "- Permutation Importances\n",
    "- Partial Dependence Plot\n",
    "\n",
    "_To earn a score of 3 for this part, make at least two of these visualization types._"
   ]
  },
  {
   "cell_type": "code",
   "execution_count": 37,
   "metadata": {
    "ExecuteTime": {
     "end_time": "2019-03-22T16:43:13.940445Z",
     "start_time": "2019-03-22T16:43:13.923783Z"
    }
   },
   "outputs": [],
   "source": [
    "import pandas as pd\n",
    "pd.set_option('display.max_rows', 5000)\n",
    "pd.set_option('display.max_columns', 5000)\n",
    "from datetime import datetime\n",
    "import matplotlib.pyplot as plt\n",
    "import seaborn as sns\n",
    "%matplotlib inline\n",
    "from sklearn.tree import DecisionTreeClassifier\n",
    "from sklearn.impute import SimpleImputer\n",
    "imputer = SimpleImputer()\n",
    "import numpy as np\n",
    "import category_encoders as ce\n",
    "from sklearn.pipeline import Pipeline\n",
    "from sklearn.pipeline import make_pipeline\n",
    "from ipywidgets import interact\n",
    "from sklearn.tree import DecisionTreeClassifier\n",
    "from sklearn.linear_model import LogisticRegression\n",
    "from mlxtend.plotting import plot_decision_regions\n",
    "from sklearn.tree import DecisionTreeClassifier\n",
    "from sklearn.linear_model import LogisticRegression\n",
    "from mlxtend.plotting import plot_decision_regions\n",
    "from sklearn.model_selection import cross_val_score, cross_val_predict\n",
    "from sklearn.ensemble import RandomForestClassifier, VotingClassifier\n",
    "from sklearn.ensemble import GradientBoostingClassifier\n",
    "from sklearn.model_selection import GridSearchCV\n",
    "from sklearn.decomposition import PCA\n",
    "from xgboost import XGBClassifier\n",
    "from sklearn.model_selection import train_test_split\n",
    "from sklearn.metrics import roc_auc_score\n",
    "from xgboost import plot_importance"
   ]
  },
  {
   "cell_type": "code",
   "execution_count": 8,
   "metadata": {
    "ExecuteTime": {
     "end_time": "2019-03-22T16:02:46.928632Z",
     "start_time": "2019-03-22T16:02:46.884675Z"
    }
   },
   "outputs": [
    {
     "data": {
      "text/html": [
       "<div>\n",
       "<style scoped>\n",
       "    .dataframe tbody tr th:only-of-type {\n",
       "        vertical-align: middle;\n",
       "    }\n",
       "\n",
       "    .dataframe tbody tr th {\n",
       "        vertical-align: top;\n",
       "    }\n",
       "\n",
       "    .dataframe thead th {\n",
       "        text-align: right;\n",
       "    }\n",
       "</style>\n",
       "<table border=\"1\" class=\"dataframe\">\n",
       "  <thead>\n",
       "    <tr style=\"text-align: right;\">\n",
       "      <th></th>\n",
       "      <th>Inspection ID</th>\n",
       "      <th>DBA Name</th>\n",
       "      <th>AKA Name</th>\n",
       "      <th>License #</th>\n",
       "      <th>Facility Type</th>\n",
       "      <th>Risk</th>\n",
       "      <th>Address</th>\n",
       "      <th>City</th>\n",
       "      <th>State</th>\n",
       "      <th>Zip</th>\n",
       "      <th>Inspection Date</th>\n",
       "      <th>Inspection Type</th>\n",
       "      <th>Violations</th>\n",
       "      <th>Latitude</th>\n",
       "      <th>Longitude</th>\n",
       "      <th>Location</th>\n",
       "      <th>Fail</th>\n",
       "    </tr>\n",
       "  </thead>\n",
       "  <tbody>\n",
       "    <tr>\n",
       "      <th>0</th>\n",
       "      <td>2088270</td>\n",
       "      <td>TOM YUM RICE &amp; NOODLE, INC.</td>\n",
       "      <td>TOM YUM CAFE</td>\n",
       "      <td>2354911.0</td>\n",
       "      <td>Restaurant</td>\n",
       "      <td>Risk 1 (High)</td>\n",
       "      <td>608 W BARRY</td>\n",
       "      <td>CHICAGO</td>\n",
       "      <td>IL</td>\n",
       "      <td>60657.0</td>\n",
       "      <td>2017-09-15T00:00:00</td>\n",
       "      <td>Canvass</td>\n",
       "      <td>3. POTENTIALLY HAZARDOUS FOOD MEETS TEMPERATUR...</td>\n",
       "      <td>41.938007</td>\n",
       "      <td>-87.644755</td>\n",
       "      <td>{'longitude': '-87.6447545707008', 'latitude':...</td>\n",
       "      <td>1</td>\n",
       "    </tr>\n",
       "    <tr>\n",
       "      <th>1</th>\n",
       "      <td>555268</td>\n",
       "      <td>FILLING STATION  &amp; CONVENIENCE  STORE</td>\n",
       "      <td>FILLING STATION  &amp; CONVENIENCE  STORE</td>\n",
       "      <td>1044901.0</td>\n",
       "      <td>Grocery Store</td>\n",
       "      <td>Risk 3 (Low)</td>\n",
       "      <td>6646-6658 S WESTERN AVE</td>\n",
       "      <td>CHICAGO</td>\n",
       "      <td>IL</td>\n",
       "      <td>60636.0</td>\n",
       "      <td>2011-10-20T00:00:00</td>\n",
       "      <td>Complaint Re-Inspection</td>\n",
       "      <td>32. FOOD AND NON-FOOD CONTACT SURFACES PROPERL...</td>\n",
       "      <td>41.772402</td>\n",
       "      <td>-87.683603</td>\n",
       "      <td>{'longitude': '-87.68360273081268', 'latitude'...</td>\n",
       "      <td>0</td>\n",
       "    </tr>\n",
       "    <tr>\n",
       "      <th>2</th>\n",
       "      <td>1751394</td>\n",
       "      <td>A P DELI</td>\n",
       "      <td>A P DELI</td>\n",
       "      <td>47405.0</td>\n",
       "      <td>Restaurant</td>\n",
       "      <td>Risk 1 (High)</td>\n",
       "      <td>2025 E 75TH ST</td>\n",
       "      <td>CHICAGO</td>\n",
       "      <td>IL</td>\n",
       "      <td>60649.0</td>\n",
       "      <td>2016-04-05T00:00:00</td>\n",
       "      <td>Canvass Re-Inspection</td>\n",
       "      <td>35. WALLS, CEILINGS, ATTACHED EQUIPMENT CONSTR...</td>\n",
       "      <td>41.758779</td>\n",
       "      <td>-87.575054</td>\n",
       "      <td>{'longitude': '-87.57505446746121', 'latitude'...</td>\n",
       "      <td>0</td>\n",
       "    </tr>\n",
       "    <tr>\n",
       "      <th>3</th>\n",
       "      <td>1763905</td>\n",
       "      <td>FRANK'S CHICAGO SHRIMP HOUSE</td>\n",
       "      <td>FRANK'S CHICAGO SHRIMP HOUSE</td>\n",
       "      <td>6414.0</td>\n",
       "      <td>Restaurant</td>\n",
       "      <td>Risk 2 (Medium)</td>\n",
       "      <td>4459 S ARCHER AVE</td>\n",
       "      <td>CHICAGO</td>\n",
       "      <td>IL</td>\n",
       "      <td>60632.0</td>\n",
       "      <td>2016-04-29T00:00:00</td>\n",
       "      <td>Canvass</td>\n",
       "      <td>38. VENTILATION: ROOMS AND EQUIPMENT VENTED AS...</td>\n",
       "      <td>41.812181</td>\n",
       "      <td>-87.707125</td>\n",
       "      <td>{'longitude': '-87.70712481334274', 'latitude'...</td>\n",
       "      <td>0</td>\n",
       "    </tr>\n",
       "    <tr>\n",
       "      <th>4</th>\n",
       "      <td>453326</td>\n",
       "      <td>MORRILL</td>\n",
       "      <td>MORRILL</td>\n",
       "      <td>24571.0</td>\n",
       "      <td>School</td>\n",
       "      <td>Risk 1 (High)</td>\n",
       "      <td>6011 S Rockwell (2600W) AVE</td>\n",
       "      <td>CHICAGO</td>\n",
       "      <td>IL</td>\n",
       "      <td>60629.0</td>\n",
       "      <td>2011-01-10T00:00:00</td>\n",
       "      <td>Canvass</td>\n",
       "      <td>34. FLOORS: CONSTRUCTED PER CODE, CLEANED, GOO...</td>\n",
       "      <td>NaN</td>\n",
       "      <td>NaN</td>\n",
       "      <td>NaN</td>\n",
       "      <td>0</td>\n",
       "    </tr>\n",
       "  </tbody>\n",
       "</table>\n",
       "</div>"
      ],
      "text/plain": [
       "   Inspection ID                               DBA Name  \\\n",
       "0        2088270            TOM YUM RICE & NOODLE, INC.   \n",
       "1         555268  FILLING STATION  & CONVENIENCE  STORE   \n",
       "2        1751394                               A P DELI   \n",
       "3        1763905           FRANK'S CHICAGO SHRIMP HOUSE   \n",
       "4         453326                                MORRILL   \n",
       "\n",
       "                                AKA Name  License #  Facility Type  \\\n",
       "0                           TOM YUM CAFE  2354911.0     Restaurant   \n",
       "1  FILLING STATION  & CONVENIENCE  STORE  1044901.0  Grocery Store   \n",
       "2                               A P DELI    47405.0     Restaurant   \n",
       "3           FRANK'S CHICAGO SHRIMP HOUSE     6414.0     Restaurant   \n",
       "4                                MORRILL    24571.0         School   \n",
       "\n",
       "              Risk                       Address     City State      Zip  \\\n",
       "0    Risk 1 (High)                  608 W BARRY   CHICAGO    IL  60657.0   \n",
       "1     Risk 3 (Low)      6646-6658 S WESTERN AVE   CHICAGO    IL  60636.0   \n",
       "2    Risk 1 (High)               2025 E 75TH ST   CHICAGO    IL  60649.0   \n",
       "3  Risk 2 (Medium)            4459 S ARCHER AVE   CHICAGO    IL  60632.0   \n",
       "4    Risk 1 (High)  6011 S Rockwell (2600W) AVE   CHICAGO    IL  60629.0   \n",
       "\n",
       "       Inspection Date          Inspection Type  \\\n",
       "0  2017-09-15T00:00:00                  Canvass   \n",
       "1  2011-10-20T00:00:00  Complaint Re-Inspection   \n",
       "2  2016-04-05T00:00:00    Canvass Re-Inspection   \n",
       "3  2016-04-29T00:00:00                  Canvass   \n",
       "4  2011-01-10T00:00:00                  Canvass   \n",
       "\n",
       "                                          Violations   Latitude  Longitude  \\\n",
       "0  3. POTENTIALLY HAZARDOUS FOOD MEETS TEMPERATUR...  41.938007 -87.644755   \n",
       "1  32. FOOD AND NON-FOOD CONTACT SURFACES PROPERL...  41.772402 -87.683603   \n",
       "2  35. WALLS, CEILINGS, ATTACHED EQUIPMENT CONSTR...  41.758779 -87.575054   \n",
       "3  38. VENTILATION: ROOMS AND EQUIPMENT VENTED AS...  41.812181 -87.707125   \n",
       "4  34. FLOORS: CONSTRUCTED PER CODE, CLEANED, GOO...        NaN        NaN   \n",
       "\n",
       "                                            Location  Fail  \n",
       "0  {'longitude': '-87.6447545707008', 'latitude':...     1  \n",
       "1  {'longitude': '-87.68360273081268', 'latitude'...     0  \n",
       "2  {'longitude': '-87.57505446746121', 'latitude'...     0  \n",
       "3  {'longitude': '-87.70712481334274', 'latitude'...     0  \n",
       "4                                                NaN     0  "
      ]
     },
     "execution_count": 8,
     "metadata": {},
     "output_type": "execute_result"
    }
   ],
   "source": [
    "train.head()"
   ]
  },
  {
   "cell_type": "code",
   "execution_count": 9,
   "metadata": {
    "ExecuteTime": {
     "end_time": "2019-03-22T16:02:47.554338Z",
     "start_time": "2019-03-22T16:02:47.546166Z"
    }
   },
   "outputs": [],
   "source": [
    "    def el(v):\n",
    "        if isinstance(v, float) or v[0] == '<':\n",
    "            return 0\n",
    "        return  int(v[0:(1 if v[1] == '.' else 2)])"
   ]
  },
  {
   "cell_type": "code",
   "execution_count": 10,
   "metadata": {
    "ExecuteTime": {
     "end_time": "2019-03-22T16:02:48.192273Z",
     "start_time": "2019-03-22T16:02:48.080179Z"
    }
   },
   "outputs": [],
   "source": [
    "train['violation'] = train.Violations.apply(el)"
   ]
  },
  {
   "cell_type": "code",
   "execution_count": 11,
   "metadata": {
    "ExecuteTime": {
     "end_time": "2019-03-22T16:02:48.612549Z",
     "start_time": "2019-03-22T16:02:48.580694Z"
    },
    "scrolled": true
   },
   "outputs": [
    {
     "data": {
      "text/html": [
       "<div>\n",
       "<style scoped>\n",
       "    .dataframe tbody tr th:only-of-type {\n",
       "        vertical-align: middle;\n",
       "    }\n",
       "\n",
       "    .dataframe tbody tr th {\n",
       "        vertical-align: top;\n",
       "    }\n",
       "\n",
       "    .dataframe thead th {\n",
       "        text-align: right;\n",
       "    }\n",
       "</style>\n",
       "<table border=\"1\" class=\"dataframe\">\n",
       "  <thead>\n",
       "    <tr style=\"text-align: right;\">\n",
       "      <th></th>\n",
       "      <th>Inspection ID</th>\n",
       "      <th>DBA Name</th>\n",
       "      <th>AKA Name</th>\n",
       "      <th>License #</th>\n",
       "      <th>Facility Type</th>\n",
       "      <th>Risk</th>\n",
       "      <th>Address</th>\n",
       "      <th>City</th>\n",
       "      <th>State</th>\n",
       "      <th>Zip</th>\n",
       "      <th>Inspection Date</th>\n",
       "      <th>Inspection Type</th>\n",
       "      <th>Violations</th>\n",
       "      <th>Latitude</th>\n",
       "      <th>Longitude</th>\n",
       "      <th>Location</th>\n",
       "      <th>Fail</th>\n",
       "      <th>violation</th>\n",
       "    </tr>\n",
       "  </thead>\n",
       "  <tbody>\n",
       "    <tr>\n",
       "      <th>0</th>\n",
       "      <td>2088270</td>\n",
       "      <td>TOM YUM RICE &amp; NOODLE, INC.</td>\n",
       "      <td>TOM YUM CAFE</td>\n",
       "      <td>2354911.0</td>\n",
       "      <td>Restaurant</td>\n",
       "      <td>Risk 1 (High)</td>\n",
       "      <td>608 W BARRY</td>\n",
       "      <td>CHICAGO</td>\n",
       "      <td>IL</td>\n",
       "      <td>60657.0</td>\n",
       "      <td>2017-09-15T00:00:00</td>\n",
       "      <td>Canvass</td>\n",
       "      <td>3. POTENTIALLY HAZARDOUS FOOD MEETS TEMPERATUR...</td>\n",
       "      <td>41.938007</td>\n",
       "      <td>-87.644755</td>\n",
       "      <td>{'longitude': '-87.6447545707008', 'latitude':...</td>\n",
       "      <td>1</td>\n",
       "      <td>3</td>\n",
       "    </tr>\n",
       "    <tr>\n",
       "      <th>1</th>\n",
       "      <td>555268</td>\n",
       "      <td>FILLING STATION  &amp; CONVENIENCE  STORE</td>\n",
       "      <td>FILLING STATION  &amp; CONVENIENCE  STORE</td>\n",
       "      <td>1044901.0</td>\n",
       "      <td>Grocery Store</td>\n",
       "      <td>Risk 3 (Low)</td>\n",
       "      <td>6646-6658 S WESTERN AVE</td>\n",
       "      <td>CHICAGO</td>\n",
       "      <td>IL</td>\n",
       "      <td>60636.0</td>\n",
       "      <td>2011-10-20T00:00:00</td>\n",
       "      <td>Complaint Re-Inspection</td>\n",
       "      <td>32. FOOD AND NON-FOOD CONTACT SURFACES PROPERL...</td>\n",
       "      <td>41.772402</td>\n",
       "      <td>-87.683603</td>\n",
       "      <td>{'longitude': '-87.68360273081268', 'latitude'...</td>\n",
       "      <td>0</td>\n",
       "      <td>32</td>\n",
       "    </tr>\n",
       "    <tr>\n",
       "      <th>2</th>\n",
       "      <td>1751394</td>\n",
       "      <td>A P DELI</td>\n",
       "      <td>A P DELI</td>\n",
       "      <td>47405.0</td>\n",
       "      <td>Restaurant</td>\n",
       "      <td>Risk 1 (High)</td>\n",
       "      <td>2025 E 75TH ST</td>\n",
       "      <td>CHICAGO</td>\n",
       "      <td>IL</td>\n",
       "      <td>60649.0</td>\n",
       "      <td>2016-04-05T00:00:00</td>\n",
       "      <td>Canvass Re-Inspection</td>\n",
       "      <td>35. WALLS, CEILINGS, ATTACHED EQUIPMENT CONSTR...</td>\n",
       "      <td>41.758779</td>\n",
       "      <td>-87.575054</td>\n",
       "      <td>{'longitude': '-87.57505446746121', 'latitude'...</td>\n",
       "      <td>0</td>\n",
       "      <td>35</td>\n",
       "    </tr>\n",
       "    <tr>\n",
       "      <th>3</th>\n",
       "      <td>1763905</td>\n",
       "      <td>FRANK'S CHICAGO SHRIMP HOUSE</td>\n",
       "      <td>FRANK'S CHICAGO SHRIMP HOUSE</td>\n",
       "      <td>6414.0</td>\n",
       "      <td>Restaurant</td>\n",
       "      <td>Risk 2 (Medium)</td>\n",
       "      <td>4459 S ARCHER AVE</td>\n",
       "      <td>CHICAGO</td>\n",
       "      <td>IL</td>\n",
       "      <td>60632.0</td>\n",
       "      <td>2016-04-29T00:00:00</td>\n",
       "      <td>Canvass</td>\n",
       "      <td>38. VENTILATION: ROOMS AND EQUIPMENT VENTED AS...</td>\n",
       "      <td>41.812181</td>\n",
       "      <td>-87.707125</td>\n",
       "      <td>{'longitude': '-87.70712481334274', 'latitude'...</td>\n",
       "      <td>0</td>\n",
       "      <td>38</td>\n",
       "    </tr>\n",
       "    <tr>\n",
       "      <th>4</th>\n",
       "      <td>453326</td>\n",
       "      <td>MORRILL</td>\n",
       "      <td>MORRILL</td>\n",
       "      <td>24571.0</td>\n",
       "      <td>School</td>\n",
       "      <td>Risk 1 (High)</td>\n",
       "      <td>6011 S Rockwell (2600W) AVE</td>\n",
       "      <td>CHICAGO</td>\n",
       "      <td>IL</td>\n",
       "      <td>60629.0</td>\n",
       "      <td>2011-01-10T00:00:00</td>\n",
       "      <td>Canvass</td>\n",
       "      <td>34. FLOORS: CONSTRUCTED PER CODE, CLEANED, GOO...</td>\n",
       "      <td>NaN</td>\n",
       "      <td>NaN</td>\n",
       "      <td>NaN</td>\n",
       "      <td>0</td>\n",
       "      <td>34</td>\n",
       "    </tr>\n",
       "  </tbody>\n",
       "</table>\n",
       "</div>"
      ],
      "text/plain": [
       "   Inspection ID                               DBA Name  \\\n",
       "0        2088270            TOM YUM RICE & NOODLE, INC.   \n",
       "1         555268  FILLING STATION  & CONVENIENCE  STORE   \n",
       "2        1751394                               A P DELI   \n",
       "3        1763905           FRANK'S CHICAGO SHRIMP HOUSE   \n",
       "4         453326                                MORRILL   \n",
       "\n",
       "                                AKA Name  License #  Facility Type  \\\n",
       "0                           TOM YUM CAFE  2354911.0     Restaurant   \n",
       "1  FILLING STATION  & CONVENIENCE  STORE  1044901.0  Grocery Store   \n",
       "2                               A P DELI    47405.0     Restaurant   \n",
       "3           FRANK'S CHICAGO SHRIMP HOUSE     6414.0     Restaurant   \n",
       "4                                MORRILL    24571.0         School   \n",
       "\n",
       "              Risk                       Address     City State      Zip  \\\n",
       "0    Risk 1 (High)                  608 W BARRY   CHICAGO    IL  60657.0   \n",
       "1     Risk 3 (Low)      6646-6658 S WESTERN AVE   CHICAGO    IL  60636.0   \n",
       "2    Risk 1 (High)               2025 E 75TH ST   CHICAGO    IL  60649.0   \n",
       "3  Risk 2 (Medium)            4459 S ARCHER AVE   CHICAGO    IL  60632.0   \n",
       "4    Risk 1 (High)  6011 S Rockwell (2600W) AVE   CHICAGO    IL  60629.0   \n",
       "\n",
       "       Inspection Date          Inspection Type  \\\n",
       "0  2017-09-15T00:00:00                  Canvass   \n",
       "1  2011-10-20T00:00:00  Complaint Re-Inspection   \n",
       "2  2016-04-05T00:00:00    Canvass Re-Inspection   \n",
       "3  2016-04-29T00:00:00                  Canvass   \n",
       "4  2011-01-10T00:00:00                  Canvass   \n",
       "\n",
       "                                          Violations   Latitude  Longitude  \\\n",
       "0  3. POTENTIALLY HAZARDOUS FOOD MEETS TEMPERATUR...  41.938007 -87.644755   \n",
       "1  32. FOOD AND NON-FOOD CONTACT SURFACES PROPERL...  41.772402 -87.683603   \n",
       "2  35. WALLS, CEILINGS, ATTACHED EQUIPMENT CONSTR...  41.758779 -87.575054   \n",
       "3  38. VENTILATION: ROOMS AND EQUIPMENT VENTED AS...  41.812181 -87.707125   \n",
       "4  34. FLOORS: CONSTRUCTED PER CODE, CLEANED, GOO...        NaN        NaN   \n",
       "\n",
       "                                            Location  Fail  violation  \n",
       "0  {'longitude': '-87.6447545707008', 'latitude':...     1          3  \n",
       "1  {'longitude': '-87.68360273081268', 'latitude'...     0         32  \n",
       "2  {'longitude': '-87.57505446746121', 'latitude'...     0         35  \n",
       "3  {'longitude': '-87.70712481334274', 'latitude'...     0         38  \n",
       "4                                                NaN     0         34  "
      ]
     },
     "execution_count": 11,
     "metadata": {},
     "output_type": "execute_result"
    }
   ],
   "source": [
    "train.head()"
   ]
  },
  {
   "cell_type": "code",
   "execution_count": 12,
   "metadata": {
    "ExecuteTime": {
     "end_time": "2019-03-22T16:02:49.034577Z",
     "start_time": "2019-03-22T16:02:49.027171Z"
    }
   },
   "outputs": [
    {
     "data": {
      "text/plain": [
       "array(['Restaurant', 'Grocery Store', 'School', 'Long Term Care',\n",
       "       'Liquor', 'Daycare Above and Under 2 Years',\n",
       "       \"Children's Services Facility\", 'Catering', 'Daycare Night',\n",
       "       'CHURCH', 'GAS STATION/STORE', 'Daycare (2 - 6 Years)',\n",
       "       'Mobile Food Preparer', 'Golden Diner', 'TAVERN', 'ICE CREAM SHOP',\n",
       "       'Banquet Hall', 'coffee shop', 'Bakery',\n",
       "       'SLAUGHTER HOUSE/ GROCERY', 'RESTAURANT/GROCERY STORE',\n",
       "       'Shared Kitchen User (Long Term)', 'Daycare (Under 2 Years)',\n",
       "       'Wholesale', 'Mobile Food Dispenser', nan, 'Daycare Combo 1586',\n",
       "       'Hospital', 'STORE', 'Airport Lounge', 'LIVE POULTRY', 'tavern',\n",
       "       'REPACKAGING PLANT', 'Daycare (2 Years)',\n",
       "       'Mobile Prepared Food Vendor', 'CHURCH KITCHEN',\n",
       "       'GROCERY/GAS STATION', 'GAS STATION STORE', 'BAR',\n",
       "       'Navy Pier Kiosk', 'STADIUM', 'Special Event', 'KIOSK',\n",
       "       'RETAIL STORE', 'CATERING/CAFE', 'GROCERY/RESTAURANT',\n",
       "       'MOVIE THEATRE', 'Shared Kitchen', 'DAYCARE', 'TEA BREWING',\n",
       "       'Long-Term Care', \"1023-CHILDREN'S SERVICES FACILITY\",\n",
       "       'convenience store', 'GAS STATION', 'Private School', 'COMMISSARY',\n",
       "       'COFFEE KIOSK', 'CONVENIENCE STORE', 'meat packing',\n",
       "       'RESTAURANT/BAR', 'MOBILE FOOD TRUCK', 'BANQUET HALL', 'Shelter',\n",
       "       'banquets', 'ICE CREAM PARLOR', 'Long Term Care Facility',\n",
       "       'GROCERY& RESTAURANT', 'Grocery & Restaurant', 'CONVENIENT STORE',\n",
       "       'cafeteria', 'Banquet rooms', 'ROOF TOPS', 'convenience',\n",
       "       'grocery/dollar store', 'gas station',\n",
       "       'GROCERY STORE/COOKING SCHOOL', 'Food Vending Machines',\n",
       "       'Shared Kitchen User (Short Term)', 'GROCERY/TAQUERIA',\n",
       "       'MOBILE FROZEN DESSERTS VENDOR', 'SMOKEHOUSE',\n",
       "       'GROCERY STORE/BAKERY', 'KIDS CAFE', 'HEALTH/ JUICE BAR', 'bar',\n",
       "       'RIVERWALK', 'weight loss program', 'SCHOOL',\n",
       "       'COFFEE VENDING MACHINE', 'WRIGLEY ROOFTOP', 'WAREHOUSE',\n",
       "       'ROOF TOP', 'SPA', 'HOTEL',\n",
       "       'MOBILE FROZEN DESSERTS DISPENSER-NON-MOTOR',\n",
       "       'CHURCH/SPECIAL EVENTS', 'JUICE BAR',\n",
       "       \"1023 CHILDERN'S SERVICE FACILITY\", 'Deli', 'PASTRY school',\n",
       "       'THEATRE', 'GROCERY/BAKERY', 'PRIVATE SCHOOL', 'ROOFTOP',\n",
       "       'DISTRIBUTION CENTER', 'newsstand', 'BANQUET', 'employee kitchen',\n",
       "       'RESTAURANT/GROCERY', 'AFTER SCHOOL PROGRAM', 'Church', 'Candy',\n",
       "       'ROOFTOP PATIO', 'banquet hall', 'Grocery(Sushi prep)',\n",
       "       'ROOM SERVICE', 'Mobile Frozen Desserts Vendor', 'COLLEGE',\n",
       "       'GAS STATION/MINI MART', 'MOBILE FROZEN DESSERT VENDOR',\n",
       "       'CUSTOM POULTRY SLAUGHTER', 'ROOFTOPS', 'NOT-FOR-PROFIT CLUB',\n",
       "       'CANDY/GELATO', 'NURSING HOME', 'HOT DOG STATION',\n",
       "       'GAS STATION/RESTAURANT', 'CHILDRENS SERVICES FACILITY',\n",
       "       'Rest/GYM', \"1023 CHILDERN'S SERVICES FACILITY\", 'BREWPUB',\n",
       "       'RESTAURANT.BANQUET HALLS', 'GROCERY STORE/ RESTAURANT', 'THEATER',\n",
       "       'GROCERY STORE/TAQUERIA', 'FOOD PANTRY/CHURCH', 'CAFETERIA',\n",
       "       'FROZEN DESSERTS DISPENSER-NON-MOTORIZED', 'PUBLIC SHCOOL',\n",
       "       'HERBAL MEDICINE', 'CONVENIENCE', 'GROCERY/DRUG STORE',\n",
       "       'dollar store', 'PRE PACKAGED', 'COLD/FROZEN FOOD STORAGE',\n",
       "       'RESTAURANT/BAKERY', 'NIGHT CLUB', 'CHARITY AID KITCHEN', 'Other',\n",
       "       'GROCERY AND BUTCHER', 'CHURCH (SPECIAL EVENTS)',\n",
       "       'RESTUARANT AND BAR', 'CAFE/STORE',\n",
       "       'A-Not-For-Profit Chef Training Program', 'PALETERIA',\n",
       "       'CITY OF CHICAGO COLLEGE', 'banquets/room service',\n",
       "       'ART GALLERY W/WINE AND BEER', 'CHARTER SCHOOL', 'MASSAGE BAR',\n",
       "       'RESTAURANT/HOSPITAL', \"1023 CHILDREN'S SERVICES FACILITY\",\n",
       "       'Tavern', 'MOBILE DESSERTS VENDOR', 'Theater & Restaurant',\n",
       "       'PACKAGED LIQUOR', 'TOBACCO STORE', 'DOLLAR STORE SELLING GROCERY',\n",
       "       'TAVERN GRILL', 'TEACHING SCHOOL', 'Animal Shelter Cafe Permit',\n",
       "       'CULINARY SCHOOL', '(gas station)', 'MEXICAN CANDY STORE',\n",
       "       'LINITED BUSINESS', 'fish market',\n",
       "       'MOBILE FROZEN DESSERTS DISPENSER-NON-MOTORIZED', 'HOSTEL',\n",
       "       'LIQUOR/COFFEE KIOSK', 'REHAB CENTER', 'Banquet Dining',\n",
       "       'Wrigley Roof Top', 'CLOTHING STORE', 'RESTAURANT/GAS STATION',\n",
       "       'school cafeteria', '1023', 'SUPPORTIVE LIVING', 'REST/GROCERY',\n",
       "       'GOLF COURSE CONNCESSION STAND', 'Coffee shop',\n",
       "       'LOUNGE/BANQUET HALL', 'SENIOR DAY CARE',\n",
       "       'BEFORE AND AFTER SCHOOL PROGRAM', 'ASSISTED LIVING',\n",
       "       'DRUG/GROCERY STORE', 'GROCERY/ RESTAURANT', 'DINING HALL',\n",
       "       'convenience/drug store', 'GROCERY STORE/GAS STATION', 'Cafeteria',\n",
       "       'candy/gelato', 'theater', 'Live Poultry', 'COOKING SCHOOL',\n",
       "       'SOUP KITCHEN', 'snack shop', 'BAR/GRILL', 'REST/ROOFTOP',\n",
       "       'GROCERY/SERVICE GAS STATION', 'CANDY STORE', 'Ice cream',\n",
       "       'hooka lounge', \"O'Hare Kiosk\", 'COFFEE SHOP',\n",
       "       'DRUG STORE/GROCERY', 'LIQUORE STORE/BAR',\n",
       "       'PREPACKAGE MEAL DISTRIBUTOR (1006 Retail)', 'WINE STORE',\n",
       "       'PUSH CARTS', 'Catering and Wholesale', 'Church Kitchen',\n",
       "       'blockbuster video', 'BAKERY/DELI', 'PHARMACY', 'UNUSED STORAGE',\n",
       "       'DRUG/FOOD STORE', 'COMMISSARY FOR SOFT SERVE ICE CREAM TRUCKS',\n",
       "       'PACKAGED HEALTH FOODS', 'FROZEN DESSERT PUSHCARTS',\n",
       "       'GROCERY STORE/DELI', 'SUPPORTIVE LIVING FACILITY',\n",
       "       'LIQUOR CONSUMPTION ON PREMISES.', 'Commissary',\n",
       "       'bakery/restaurant', 'DISTRIBUTOR', 'CHURCH/AFTER SCHOOL PROGRAM',\n",
       "       'EVENT VENU', 'BANQUET HALL/CATERING', 'BREWERY',\n",
       "       'pharmacy/grocery', 'smoothie bar', 'live butcher',\n",
       "       'GROCERY/LIQUOR', 'UNIVERSITY CAFETERIA',\n",
       "       'FROZEN DESSERTS DISPENSER -NON MOTORIZED', 'FITNESS CENTER',\n",
       "       'GOLF COURSE', 'School Cafeteria', 'NOT FOR PROFIT',\n",
       "       'GAS STATION/ GROCERY STORE', 'HERBAL',\n",
       "       'GIFT/CARD SHOP WITH CANDY', 'MUSIC VENUE', 'grocery/butcher',\n",
       "       'Herabalife', 'DAYCARE 2 YRS TO 12 YRS', 'HERBAL REMEDY',\n",
       "       'DRUG STORE/W/ FOOD', 'TENT RSTAURANT', 'Illegal Vendor',\n",
       "       'Food Pantry', 'HERBALIFE', '1005 NURSING HOME',\n",
       "       'HERBAL LIFE SHOP', 'DOLLAR & GROCERY STORE', 'CHURCH/DAY CARE',\n",
       "       'Pool', \"CHILDERN'S SERVICE FACILITY\", 'TEMPORARY KIOSK',\n",
       "       'BANQUET ROOM', 'CELL PHONE STORE', 'URBAN FARM', 'butcher shop',\n",
       "       'REGULATED BUSINESS', 'CHURCH/SPECIAL EVENT', 'MOVIE THEATER',\n",
       "       'grocery', 'NP-KIOSK', 'THEATER/BAR', 'Adult Family Care Center',\n",
       "       'BANQUET FACILITY', 'Banquet', 'HERBALIFE STORE',\n",
       "       'WHOLESALE BAKERY', '1584-DAY CARE ABOVE 2 YEARS',\n",
       "       'Long-Term Care Facility', 'SUMMER FEEDING PREP AREA',\n",
       "       'DAYCARE 1586', 'GAS STATION/STORE GROCERY', \"FARMER'S MARKET\",\n",
       "       'WINE TASTING BAR', 'GROCERY STORE / GAS STATION',\n",
       "       'DELI/GROCERY STORE', 'Poultry Slaughter', 'watermelon house',\n",
       "       'cooking school', 'PRODUCE STAND', 'CHICAGO PARK DISTRICT',\n",
       "       'warehouse', 'HERBALCAL', 'DAYCARE 6 WKS-5YRS', 'CAFE',\n",
       "       'GAS STATION /SUBWAY MINI MART.', 'CHINESE HERBS',\n",
       "       'JUICE AND SALAD BAR', 'COFFEE/TEA', 'ROOFTOP/RESTAURANT',\n",
       "       'coffee', 'Restaurant(protein shake bar)', 'Convenience Store',\n",
       "       'CHARTER SCHOOL CAFETERIA', 'COMMIASARY', 'VFW HALL', 'donut shop',\n",
       "       'Shuffleboard Club with Bar', 'BEVERAGE/SILVERWARE WAREHOUSE',\n",
       "       'Social Club', 'CONVNIENCE STORE', 'GELATO SHOP',\n",
       "       'Nutrition Store', 'GAS STATION/FOOD',\n",
       "       'Assisted Living Senior Care', 'PROTEIN SHAKE BAR',\n",
       "       'UNLICENSED FACILITY', 'Assisted Living', 'religious',\n",
       "       'COFFEE  SHOP', 'MOBILE FROZEN DESSERTS DISPENSER-NON- MOTORIZED',\n",
       "       '(convenience store)', 'RESTAURANT/BAR/THEATER'], dtype=object)"
      ]
     },
     "execution_count": 12,
     "metadata": {},
     "output_type": "execute_result"
    }
   ],
   "source": [
    "train['Facility Type'].unique()"
   ]
  },
  {
   "cell_type": "code",
   "execution_count": 13,
   "metadata": {
    "ExecuteTime": {
     "end_time": "2019-03-22T16:02:49.738628Z",
     "start_time": "2019-03-22T16:02:49.721469Z"
    }
   },
   "outputs": [
    {
     "data": {
      "text/plain": [
       "array(['CHICAGO', nan, 'LAKE BLUFF', 'BEDFORD PARK', 'chicago', 'MAYWOOD',\n",
       "       'CCHICAGO', 'SUMMIT', 'Chicago', 'CHicago', 'SCHAUMBURG',\n",
       "       'CHESTNUT STREET', 'ELK GROVE VILLAGE', 'OOLYMPIA FIELDS',\n",
       "       'CHICAGO HEIGHTS', 'NILES NILES', 'EVANSTON', 'CHCHICAGO',\n",
       "       'OAK PARK', 'CICERO', 'NAPERVILLE', 'EAST HAZEL CREST', 'BERWYN',\n",
       "       'SKOKIE', 'CHARLES A HAYES', 'WORTH', 'HIGHLAND PARK', 'ROSEMONT',\n",
       "       'BOLINGBROOK', 'TINLEY PARK', 'SCHILLER PARK', 'ELMHURST',\n",
       "       'CHICAGOI', 'BRIDGEVIEW', 'BROADVIEW', 'OLYMPIA FIELDS',\n",
       "       'CHICAGOCHICAGO', 'CHICAGOHICAGO', 'STREAMWOOD', 'ALSIP'],\n",
       "      dtype=object)"
      ]
     },
     "execution_count": 13,
     "metadata": {},
     "output_type": "execute_result"
    }
   ],
   "source": [
    "train.City.unique()"
   ]
  },
  {
   "cell_type": "code",
   "execution_count": 14,
   "metadata": {
    "ExecuteTime": {
     "end_time": "2019-03-22T16:02:50.453184Z",
     "start_time": "2019-03-22T16:02:50.447986Z"
    }
   },
   "outputs": [
    {
     "data": {
      "text/plain": [
       "Inspection ID        int64\n",
       "DBA Name            object\n",
       "AKA Name            object\n",
       "License #          float64\n",
       "Facility Type       object\n",
       "Risk                object\n",
       "Address             object\n",
       "City                object\n",
       "State               object\n",
       "Zip                float64\n",
       "Inspection Date     object\n",
       "Inspection Type     object\n",
       "Violations          object\n",
       "Latitude           float64\n",
       "Longitude          float64\n",
       "Location            object\n",
       "Fail                 int64\n",
       "violation            int64\n",
       "dtype: object"
      ]
     },
     "execution_count": 14,
     "metadata": {},
     "output_type": "execute_result"
    }
   ],
   "source": [
    "train.dtypes"
   ]
  },
  {
   "cell_type": "code",
   "execution_count": 15,
   "metadata": {
    "ExecuteTime": {
     "end_time": "2019-03-22T16:02:51.144351Z",
     "start_time": "2019-03-22T16:02:51.137515Z"
    }
   },
   "outputs": [],
   "source": [
    "ftypes = ['Restaurant', 'Grocery', 'Liquor', 'gas station', 'hospital', 'movie', 'mobile',\n",
    "          'cafeteria', 'school' ]"
   ]
  },
  {
   "cell_type": "code",
   "execution_count": 16,
   "metadata": {
    "ExecuteTime": {
     "end_time": "2019-03-22T16:02:52.028305Z",
     "start_time": "2019-03-22T16:02:52.005057Z"
    }
   },
   "outputs": [],
   "source": [
    "def wrangle(X, make_means=False):\n",
    "    X = X.copy()\n",
    "    \n",
    "    def el(v):\n",
    "        if isinstance(v, float) or v[0] == '<':\n",
    "            return 0\n",
    "        return  int(v[0:(1 if v[1] == '.' else 2)]) \n",
    "    \n",
    "    X['violation'] = X.Violations.apply(el)\n",
    "    X = X.drop(columns=['Violations', 'Inspection ID', 'AKA Name', 'License #', 'State'])\n",
    "    \n",
    "    def er(r):\n",
    "        if isinstance(r, float):\n",
    "            return 0\n",
    "        return int(r[5:6 if r[6] == ' ' else 7])\n",
    "    X['risk'] = X.Risk.apply(er)\n",
    "    X = X.drop(columns='Risk')\n",
    "        \n",
    "    def wrangle_list(x, l):\n",
    "        if isinstance(x, float):\n",
    "            return False\n",
    "        x = x.lower()\n",
    "        for s in l:\n",
    "            if x.find(s) >= 0:\n",
    "                return s\n",
    "        return False\n",
    "    \n",
    "    X['ftype'] = X['Facility Type'].apply(lambda x: wrangle_list(x, ftypes))\n",
    "    \n",
    "    def wrangle_chicago(x):\n",
    "        if isinstance(x, float):\n",
    "            return 'chicago'  \n",
    "        x = x.lower()\n",
    "        if 'chicago' in x:\n",
    "            return 'chicago'\n",
    "        return x\n",
    "    \n",
    "    X['city'] = X.City.apply(wrangle_chicago)\n",
    "    X = X.drop(columns=['Facility Type', 'City'])\n",
    "    return X \n",
    "        "
   ]
  },
  {
   "cell_type": "code",
   "execution_count": 17,
   "metadata": {
    "ExecuteTime": {
     "end_time": "2019-03-22T16:02:52.997839Z",
     "start_time": "2019-03-22T16:02:52.733606Z"
    }
   },
   "outputs": [],
   "source": [
    "df = wrangle(train)"
   ]
  },
  {
   "cell_type": "code",
   "execution_count": 18,
   "metadata": {
    "ExecuteTime": {
     "end_time": "2019-03-22T16:02:53.312700Z",
     "start_time": "2019-03-22T16:02:53.296492Z"
    }
   },
   "outputs": [],
   "source": [
    "y = df.Fail\n",
    "df_ = df.drop(columns='Fail')"
   ]
  },
  {
   "cell_type": "code",
   "execution_count": 19,
   "metadata": {
    "ExecuteTime": {
     "end_time": "2019-03-22T16:02:54.299182Z",
     "start_time": "2019-03-22T16:02:54.273397Z"
    }
   },
   "outputs": [],
   "source": [
    "clist = df_.select_dtypes(exclude=[np.number]).columns.tolist()"
   ]
  },
  {
   "cell_type": "code",
   "execution_count": 20,
   "metadata": {
    "ExecuteTime": {
     "end_time": "2019-03-22T16:02:54.948010Z",
     "start_time": "2019-03-22T16:02:54.901304Z"
    }
   },
   "outputs": [],
   "source": [
    "one_hot_columns = []\n",
    "binary_columns = []\n",
    "max_one = 15\n",
    "for c in  clist:\n",
    "    if len(df_[c].unique()) > max_one:\n",
    "        binary_columns.append(c)\n",
    "    else:\n",
    "        one_hot_columns.append(c)"
   ]
  },
  {
   "cell_type": "code",
   "execution_count": 21,
   "metadata": {
    "ExecuteTime": {
     "end_time": "2019-03-22T16:02:55.657163Z",
     "start_time": "2019-03-22T16:02:55.647885Z"
    }
   },
   "outputs": [],
   "source": [
    "pipe = Pipeline(steps = [\n",
    "    ('be', ce.BinaryEncoder(cols=binary_columns)), \n",
    "    ('one', ce.OneHotEncoder(use_cat_names=True,cols=one_hot_columns)),\n",
    "#     ('pca', pca),\n",
    "    ('xgb', XGBClassifier())]\n",
    ")"
   ]
  },
  {
   "cell_type": "code",
   "execution_count": 55,
   "metadata": {
    "ExecuteTime": {
     "end_time": "2019-03-22T17:13:19.768083Z",
     "start_time": "2019-03-22T17:13:19.755417Z"
    }
   },
   "outputs": [],
   "source": [
    "param_grid = {\n",
    "    #     'pca__n_components': [28],\n",
    "    \"xgb__booster\": [\"gbtree\"],\n",
    "    \"xgb__gamma\": [8,9,10],\n",
    "    \"xgb__learning_rate\": [0.1],\n",
    "    \"xgb__n_estimators\": [130],\n",
    "    #     \"gb__min_samples_leaf\": [3],\n",
    "    #     \"gb__min_impurity_decrease\": [1.2],\n",
    "    \"xgb__max_depth\": [3,4]\n",
    "}\n",
    "# Fit on the train set, with grid search cross-validation\n",
    "gs = GridSearchCV(pipe, param_grid=param_grid, cv=2, n_jobs=-1,\n",
    "                  scoring='roc_auc',\n",
    "                  verbose=1)"
   ]
  },
  {
   "cell_type": "code",
   "execution_count": 57,
   "metadata": {
    "ExecuteTime": {
     "end_time": "2019-03-22T17:14:49.050134Z",
     "start_time": "2019-03-22T17:14:09.735124Z"
    }
   },
   "outputs": [
    {
     "name": "stdout",
     "output_type": "stream",
     "text": [
      "Fitting 2 folds for each of 6 candidates, totalling 12 fits\n"
     ]
    },
    {
     "name": "stderr",
     "output_type": "stream",
     "text": [
      "[Parallel(n_jobs=-1)]: Using backend LokyBackend with 8 concurrent workers.\n",
      "[Parallel(n_jobs=-1)]: Done  10 out of  12 | elapsed:   22.4s remaining:    4.5s\n",
      "[Parallel(n_jobs=-1)]: Done  12 out of  12 | elapsed:   24.4s finished\n"
     ]
    }
   ],
   "source": [
    "gsf = gs.fit(df_, y)"
   ]
  },
  {
   "cell_type": "code",
   "execution_count": 86,
   "metadata": {
    "ExecuteTime": {
     "end_time": "2019-03-22T17:41:35.633324Z",
     "start_time": "2019-03-22T17:41:35.629700Z"
    }
   },
   "outputs": [
    {
     "name": "stdout",
     "output_type": "stream",
     "text": [
      "Best Parameter (roc_auc score=0.989):\n",
      "{'xgb__booster': 'gbtree', 'xgb__gamma': 9, 'xgb__learning_rate': 0.1, 'xgb__max_depth': 4, 'xgb__n_estimators': 130}\n"
     ]
    }
   ],
   "source": [
    "print('Best Parameter (roc_auc score=%0.3f):' % gsf.best_score_)\n",
    "print(gsf.best_params_)"
   ]
  },
  {
   "cell_type": "code",
   "execution_count": 104,
   "metadata": {
    "ExecuteTime": {
     "end_time": "2019-03-22T17:46:39.659128Z",
     "start_time": "2019-03-22T17:46:38.523308Z"
    }
   },
   "outputs": [
    {
     "data": {
      "text/plain": [
       "(51916, 51916, 51916)"
      ]
     },
     "execution_count": 104,
     "metadata": {},
     "output_type": "execute_result"
    }
   ],
   "source": [
    "pyt = gsf.predict(df_)\n",
    "len(pyt),len(y),len(dff_)"
   ]
  },
  {
   "cell_type": "code",
   "execution_count": 87,
   "metadata": {
    "ExecuteTime": {
     "end_time": "2019-03-22T17:41:36.688840Z",
     "start_time": "2019-03-22T17:41:36.673918Z"
    }
   },
   "outputs": [],
   "source": [
    "test_y = test['Fail'].values\n",
    "testxy = test.drop(columns='Fail')"
   ]
  },
  {
   "cell_type": "code",
   "execution_count": 88,
   "metadata": {
    "ExecuteTime": {
     "end_time": "2019-03-22T17:41:37.486771Z",
     "start_time": "2019-03-22T17:41:37.369833Z"
    }
   },
   "outputs": [],
   "source": [
    "test_ = wrangle(testxy)"
   ]
  },
  {
   "cell_type": "code",
   "execution_count": 89,
   "metadata": {
    "ExecuteTime": {
     "end_time": "2019-03-22T17:41:38.681333Z",
     "start_time": "2019-03-22T17:41:38.083269Z"
    }
   },
   "outputs": [],
   "source": [
    "py = gsf.predict(test_)"
   ]
  },
  {
   "cell_type": "code",
   "execution_count": 90,
   "metadata": {
    "ExecuteTime": {
     "end_time": "2019-03-22T17:41:41.472608Z",
     "start_time": "2019-03-22T17:41:41.454864Z"
    }
   },
   "outputs": [
    {
     "data": {
      "text/plain": [
       "0.9393951363427173"
      ]
     },
     "execution_count": 90,
     "metadata": {},
     "output_type": "execute_result"
    }
   ],
   "source": [
    "roc_auc_score(test_y,py)"
   ]
  },
  {
   "cell_type": "code",
   "execution_count": 91,
   "metadata": {
    "ExecuteTime": {
     "end_time": "2019-03-22T17:41:42.185154Z",
     "start_time": "2019-03-22T17:41:42.178804Z"
    }
   },
   "outputs": [],
   "source": [
    " xgb =  gsf.best_estimator_.named_steps['xgb']\n",
    "#     gsf.best_estimator_"
   ]
  },
  {
   "cell_type": "code",
   "execution_count": 92,
   "metadata": {
    "ExecuteTime": {
     "end_time": "2019-03-22T17:41:45.631166Z",
     "start_time": "2019-03-22T17:41:45.612833Z"
    }
   },
   "outputs": [
    {
     "data": {
      "text/plain": [
       "array([0.0056101 , 0.00701262, 0.        , 0.        , 0.        ,\n",
       "       0.        , 0.        , 0.        , 0.        , 0.00140252,\n",
       "       0.        , 0.        , 0.00140252, 0.00280505, 0.00280505,\n",
       "       0.00140252, 0.        , 0.        , 0.        , 0.00140252,\n",
       "       0.        , 0.        , 0.00140252, 0.        , 0.        ,\n",
       "       0.        , 0.        , 0.        , 0.        , 0.        ,\n",
       "       0.        , 0.00140252, 0.        , 0.        , 0.        ,\n",
       "       0.00140252, 0.        , 0.        , 0.00140252, 0.        ,\n",
       "       0.00140252, 0.        , 0.        , 0.        , 0.00140252,\n",
       "       0.00280505, 0.        , 0.        , 0.        , 0.        ,\n",
       "       0.00701262, 0.00280505, 0.        , 0.01402525, 0.01542777,\n",
       "       0.11781206, 0.14025246, 0.14446002, 0.05750351, 0.        ,\n",
       "       0.        , 0.00280505, 0.00280505, 0.        , 0.        ,\n",
       "       0.00140252, 0.00140252, 0.00420757, 0.        , 0.        ,\n",
       "       0.        , 0.        , 0.0056101 , 0.        , 0.        ,\n",
       "       0.        , 0.        , 0.        , 0.        , 0.        ,\n",
       "       0.03366059, 0.03646564, 0.03927069, 0.2973352 , 0.04067321],\n",
       "      dtype=float32)"
      ]
     },
     "execution_count": 92,
     "metadata": {},
     "output_type": "execute_result"
    }
   ],
   "source": [
    "xgb.feature_importances_"
   ]
  },
  {
   "cell_type": "code",
   "execution_count": 66,
   "metadata": {
    "ExecuteTime": {
     "end_time": "2019-03-22T17:19:42.237214Z",
     "start_time": "2019-03-22T17:19:42.229286Z"
    }
   },
   "outputs": [],
   "source": [
    "from matplotlib import pyplot as plt"
   ]
  },
  {
   "cell_type": "code",
   "execution_count": 67,
   "metadata": {
    "ExecuteTime": {
     "end_time": "2019-03-22T17:20:05.396648Z",
     "start_time": "2019-03-22T17:20:05.392053Z"
    }
   },
   "outputs": [],
   "source": [
    "%matplotlib inline"
   ]
  },
  {
   "cell_type": "code",
   "execution_count": 80,
   "metadata": {
    "ExecuteTime": {
     "end_time": "2019-03-22T17:35:50.027410Z",
     "start_time": "2019-03-22T17:35:49.546730Z"
    }
   },
   "outputs": [
    {
     "data": {
      "text/plain": [
       "<matplotlib.axes._subplots.AxesSubplot at 0x7f4d04f17ac8>"
      ]
     },
     "execution_count": 80,
     "metadata": {},
     "output_type": "execute_result"
    },
    {
     "data": {
      "image/png": "[encoded data removed]",
      "text/plain": [
       "<Figure size 432x288 with 1 Axes>"
      ]
     },
     "metadata": {
      "needs_background": "light"
     },
     "output_type": "display_data"
    }
   ],
   "source": [
    "plot_importance(xgb)"
   ]
  },
  {
   "cell_type": "code",
   "execution_count": null,
   "metadata": {},
   "outputs": [],
   "source": []
  },
  {
   "cell_type": "code",
   "execution_count": null,
   "metadata": {},
   "outputs": [],
   "source": []
  },
  {
   "cell_type": "code",
   "execution_count": 44,
   "metadata": {
    "ExecuteTime": {
     "end_time": "2019-03-22T17:03:01.284961Z",
     "start_time": "2019-03-22T17:02:59.489457Z"
    }
   },
   "outputs": [],
   "source": [
    "encoders = Pipeline([\n",
    "                ('binary', ce.BinaryEncoder(cols=binary_columns)),\n",
    "                ('onehot', ce.OneHotEncoder(use_cat_names=True,cols=one_hot_columns))\n",
    "#                 ('DecisionTree', DecisionTreeClassifier(max_depth=17, class_weight='balanced'))\n",
    "            ])\n",
    "dff = encoders.fit(df)\n",
    "dff_ = dff.transform(df)"
   ]
  },
  {
   "cell_type": "code",
   "execution_count": 99,
   "metadata": {
    "ExecuteTime": {
     "end_time": "2019-03-22T17:44:33.002591Z",
     "start_time": "2019-03-22T17:44:32.992604Z"
    }
   },
   "outputs": [
    {
     "data": {
      "text/plain": [
       "51916"
      ]
     },
     "execution_count": 99,
     "metadata": {},
     "output_type": "execute_result"
    }
   ],
   "source": [
    "len(dff_)"
   ]
  },
  {
   "cell_type": "code",
   "execution_count": 46,
   "metadata": {
    "ExecuteTime": {
     "end_time": "2019-03-22T17:05:49.542702Z",
     "start_time": "2019-03-22T17:05:49.514660Z"
    }
   },
   "outputs": [
    {
     "ename": "AttributeError",
     "evalue": "'XGBClassifier' object has no attribute 'feature_importances'",
     "output_type": "error",
     "traceback": [
      "\u001b[0;31m---------------------------------------------------------------------------\u001b[0m",
      "\u001b[0;31mAttributeError\u001b[0m                            Traceback (most recent call last)",
      "\u001b[0;32m<ipython-input-46-a76d00e58af7>\u001b[0m in \u001b[0;36m<module>\u001b[0;34m\u001b[0m\n\u001b[0;32m----> 1\u001b[0;31m \u001b[0mgsf\u001b[0m\u001b[0;34m.\u001b[0m\u001b[0mbest_estimator_\u001b[0m\u001b[0;34m.\u001b[0m\u001b[0msteps\u001b[0m\u001b[0;34m[\u001b[0m\u001b[0;34m-\u001b[0m\u001b[0;36m1\u001b[0m\u001b[0;34m]\u001b[0m\u001b[0;34m[\u001b[0m\u001b[0;34m-\u001b[0m\u001b[0;36m1\u001b[0m\u001b[0;34m]\u001b[0m\u001b[0;34m.\u001b[0m\u001b[0mfeature_importances\u001b[0m\u001b[0;34m\u001b[0m\u001b[0m\n\u001b[0m",
      "\u001b[0;31mAttributeError\u001b[0m: 'XGBClassifier' object has no attribute 'feature_importances'"
     ]
    }
   ],
   "source": [
    "gsf.best_estimator_.steps[-1][-1].feature_importances"
   ]
  },
  {
   "cell_type": "code",
   "execution_count": 107,
   "metadata": {
    "ExecuteTime": {
     "end_time": "2019-03-22T17:51:13.495384Z",
     "start_time": "2019-03-22T17:51:13.478708Z"
    }
   },
   "outputs": [],
   "source": [
    "def partial_dependency(bst, X, y, y_pred, feature):\n",
    "    \"\"\"\n",
    "    Calculate the dependency (or partial dependency) of a response variable on a predictor (or multiple predictors)\n",
    "    1. Sample a grid of values of a predictor.\n",
    "    2. For each value, replace every row of that predictor with this value, calculate the average prediction.\n",
    "    \"\"\"\n",
    "\n",
    "    X_temp = X.copy()\n",
    "    \n",
    "    grid = np.linspace(start=np.percentile(X_temp[feature], 0.1),\n",
    "                       stop=np.percentile(X_temp[feature], 99.5),\n",
    "                       num=len(y))\n",
    "    \n",
    "\n",
    "    plt.plot(grid, y_pred, '-', color='red', linewidth=2.5)\n",
    "    plt.plot(X, y, 'o', color='grey', alpha=0.01)\n",
    "    plt.xlim(min(grid), max(grid))\n",
    "    plt.xlabel(feature)\n",
    "    plt.ylabel(y.name)\n",
    "    plt.show()"
   ]
  },
  {
   "cell_type": "code",
   "execution_count": 108,
   "metadata": {
    "ExecuteTime": {
     "end_time": "2019-03-22T17:51:28.696733Z",
     "start_time": "2019-03-22T17:51:15.568579Z"
    }
   },
   "outputs": [
    {
     "data": {
      "image/png": "[encoded data removed]",
      "text/plain": [
       "<Figure size 432x288 with 1 Axes>"
      ]
     },
     "metadata": {
      "needs_background": "light"
     },
     "output_type": "display_data"
    }
   ],
   "source": [
    "partial_dependency(gsf,dff_, y, pyt, 'violation')"
   ]
  },
  {
   "cell_type": "code",
   "execution_count": 114,
   "metadata": {
    "ExecuteTime": {
     "end_time": "2019-03-22T17:55:49.760501Z",
     "start_time": "2019-03-22T17:55:38.236739Z"
    }
   },
   "outputs": [
    {
     "data": {
      "image/png": "[encoded data removed]",
      "text/plain": [
       "<Figure size 432x288 with 1 Axes>"
      ]
     },
     "metadata": {
      "needs_background": "light"
     },
     "output_type": "display_data"
    }
   ],
   "source": [
    "partial_dependency(gsf,dff_, y, pyt, 'Inspection Type_5')"
   ]
  },
  {
   "cell_type": "code",
   "execution_count": 115,
   "metadata": {
    "ExecuteTime": {
     "end_time": "2019-03-22T18:00:07.610744Z",
     "start_time": "2019-03-22T18:00:07.354974Z"
    }
   },
   "outputs": [
    {
     "data": {
      "image/png": "[encoded data removed]",
      "text/plain": [
       "<Figure size 432x288 with 1 Axes>"
      ]
     },
     "metadata": {
      "needs_background": "light"
     },
     "output_type": "display_data"
    }
   ],
   "source": [
    "partial_dependency(gsf,dff_[0:50], y[0:50], pyt[0:50], 'Inspection Type_5')"
   ]
  },
  {
   "cell_type": "code",
   "execution_count": 112,
   "metadata": {
    "ExecuteTime": {
     "end_time": "2019-03-22T17:54:47.057248Z",
     "start_time": "2019-03-22T17:54:47.048757Z"
    }
   },
   "outputs": [],
   "source": [
    "dftt = pd.DataFrame(dff_.columns)"
   ]
  },
  {
   "cell_type": "code",
   "execution_count": 113,
   "metadata": {
    "ExecuteTime": {
     "end_time": "2019-03-22T17:54:53.673815Z",
     "start_time": "2019-03-22T17:54:53.648575Z"
    }
   },
   "outputs": [
    {
     "data": {
      "text/html": [
       "<div>\n",
       "<style scoped>\n",
       "    .dataframe tbody tr th:only-of-type {\n",
       "        vertical-align: middle;\n",
       "    }\n",
       "\n",
       "    .dataframe tbody tr th {\n",
       "        vertical-align: top;\n",
       "    }\n",
       "\n",
       "    .dataframe thead th {\n",
       "        text-align: right;\n",
       "    }\n",
       "</style>\n",
       "<table border=\"1\" class=\"dataframe\">\n",
       "  <thead>\n",
       "    <tr style=\"text-align: right;\">\n",
       "      <th></th>\n",
       "      <th>0</th>\n",
       "    </tr>\n",
       "  </thead>\n",
       "  <tbody>\n",
       "    <tr>\n",
       "      <th>0</th>\n",
       "      <td>ftype_False</td>\n",
       "    </tr>\n",
       "    <tr>\n",
       "      <th>1</th>\n",
       "      <td>ftype_school</td>\n",
       "    </tr>\n",
       "    <tr>\n",
       "      <th>2</th>\n",
       "      <td>ftype_gas station</td>\n",
       "    </tr>\n",
       "    <tr>\n",
       "      <th>3</th>\n",
       "      <td>ftype_mobile</td>\n",
       "    </tr>\n",
       "    <tr>\n",
       "      <th>4</th>\n",
       "      <td>ftype_hospital</td>\n",
       "    </tr>\n",
       "    <tr>\n",
       "      <th>5</th>\n",
       "      <td>ftype_movie</td>\n",
       "    </tr>\n",
       "    <tr>\n",
       "      <th>6</th>\n",
       "      <td>ftype_cafeteria</td>\n",
       "    </tr>\n",
       "    <tr>\n",
       "      <th>7</th>\n",
       "      <td>ftype_-1</td>\n",
       "    </tr>\n",
       "    <tr>\n",
       "      <th>8</th>\n",
       "      <td>DBA Name_0</td>\n",
       "    </tr>\n",
       "    <tr>\n",
       "      <th>9</th>\n",
       "      <td>DBA Name_1</td>\n",
       "    </tr>\n",
       "    <tr>\n",
       "      <th>10</th>\n",
       "      <td>DBA Name_2</td>\n",
       "    </tr>\n",
       "    <tr>\n",
       "      <th>11</th>\n",
       "      <td>DBA Name_3</td>\n",
       "    </tr>\n",
       "    <tr>\n",
       "      <th>12</th>\n",
       "      <td>DBA Name_4</td>\n",
       "    </tr>\n",
       "    <tr>\n",
       "      <th>13</th>\n",
       "      <td>DBA Name_5</td>\n",
       "    </tr>\n",
       "    <tr>\n",
       "      <th>14</th>\n",
       "      <td>DBA Name_6</td>\n",
       "    </tr>\n",
       "    <tr>\n",
       "      <th>15</th>\n",
       "      <td>DBA Name_7</td>\n",
       "    </tr>\n",
       "    <tr>\n",
       "      <th>16</th>\n",
       "      <td>DBA Name_8</td>\n",
       "    </tr>\n",
       "    <tr>\n",
       "      <th>17</th>\n",
       "      <td>DBA Name_9</td>\n",
       "    </tr>\n",
       "    <tr>\n",
       "      <th>18</th>\n",
       "      <td>DBA Name_10</td>\n",
       "    </tr>\n",
       "    <tr>\n",
       "      <th>19</th>\n",
       "      <td>DBA Name_11</td>\n",
       "    </tr>\n",
       "    <tr>\n",
       "      <th>20</th>\n",
       "      <td>DBA Name_12</td>\n",
       "    </tr>\n",
       "    <tr>\n",
       "      <th>21</th>\n",
       "      <td>DBA Name_13</td>\n",
       "    </tr>\n",
       "    <tr>\n",
       "      <th>22</th>\n",
       "      <td>DBA Name_14</td>\n",
       "    </tr>\n",
       "    <tr>\n",
       "      <th>23</th>\n",
       "      <td>DBA Name_15</td>\n",
       "    </tr>\n",
       "    <tr>\n",
       "      <th>24</th>\n",
       "      <td>Address_0</td>\n",
       "    </tr>\n",
       "    <tr>\n",
       "      <th>25</th>\n",
       "      <td>Address_1</td>\n",
       "    </tr>\n",
       "    <tr>\n",
       "      <th>26</th>\n",
       "      <td>Address_2</td>\n",
       "    </tr>\n",
       "    <tr>\n",
       "      <th>27</th>\n",
       "      <td>Address_3</td>\n",
       "    </tr>\n",
       "    <tr>\n",
       "      <th>28</th>\n",
       "      <td>Address_4</td>\n",
       "    </tr>\n",
       "    <tr>\n",
       "      <th>29</th>\n",
       "      <td>Address_5</td>\n",
       "    </tr>\n",
       "    <tr>\n",
       "      <th>30</th>\n",
       "      <td>Address_6</td>\n",
       "    </tr>\n",
       "    <tr>\n",
       "      <th>31</th>\n",
       "      <td>Address_7</td>\n",
       "    </tr>\n",
       "    <tr>\n",
       "      <th>32</th>\n",
       "      <td>Address_8</td>\n",
       "    </tr>\n",
       "    <tr>\n",
       "      <th>33</th>\n",
       "      <td>Address_9</td>\n",
       "    </tr>\n",
       "    <tr>\n",
       "      <th>34</th>\n",
       "      <td>Address_10</td>\n",
       "    </tr>\n",
       "    <tr>\n",
       "      <th>35</th>\n",
       "      <td>Address_11</td>\n",
       "    </tr>\n",
       "    <tr>\n",
       "      <th>36</th>\n",
       "      <td>Address_12</td>\n",
       "    </tr>\n",
       "    <tr>\n",
       "      <th>37</th>\n",
       "      <td>Address_13</td>\n",
       "    </tr>\n",
       "    <tr>\n",
       "      <th>38</th>\n",
       "      <td>Address_14</td>\n",
       "    </tr>\n",
       "    <tr>\n",
       "      <th>39</th>\n",
       "      <td>Inspection Date_0</td>\n",
       "    </tr>\n",
       "    <tr>\n",
       "      <th>40</th>\n",
       "      <td>Inspection Date_1</td>\n",
       "    </tr>\n",
       "    <tr>\n",
       "      <th>41</th>\n",
       "      <td>Inspection Date_2</td>\n",
       "    </tr>\n",
       "    <tr>\n",
       "      <th>42</th>\n",
       "      <td>Inspection Date_3</td>\n",
       "    </tr>\n",
       "    <tr>\n",
       "      <th>43</th>\n",
       "      <td>Inspection Date_4</td>\n",
       "    </tr>\n",
       "    <tr>\n",
       "      <th>44</th>\n",
       "      <td>Inspection Date_5</td>\n",
       "    </tr>\n",
       "    <tr>\n",
       "      <th>45</th>\n",
       "      <td>Inspection Date_6</td>\n",
       "    </tr>\n",
       "    <tr>\n",
       "      <th>46</th>\n",
       "      <td>Inspection Date_7</td>\n",
       "    </tr>\n",
       "    <tr>\n",
       "      <th>47</th>\n",
       "      <td>Inspection Date_8</td>\n",
       "    </tr>\n",
       "    <tr>\n",
       "      <th>48</th>\n",
       "      <td>Inspection Date_9</td>\n",
       "    </tr>\n",
       "    <tr>\n",
       "      <th>49</th>\n",
       "      <td>Inspection Date_10</td>\n",
       "    </tr>\n",
       "    <tr>\n",
       "      <th>50</th>\n",
       "      <td>Inspection Date_11</td>\n",
       "    </tr>\n",
       "    <tr>\n",
       "      <th>51</th>\n",
       "      <td>Inspection Date_12</td>\n",
       "    </tr>\n",
       "    <tr>\n",
       "      <th>52</th>\n",
       "      <td>Inspection Type_0</td>\n",
       "    </tr>\n",
       "    <tr>\n",
       "      <th>53</th>\n",
       "      <td>Inspection Type_1</td>\n",
       "    </tr>\n",
       "    <tr>\n",
       "      <th>54</th>\n",
       "      <td>Inspection Type_2</td>\n",
       "    </tr>\n",
       "    <tr>\n",
       "      <th>55</th>\n",
       "      <td>Inspection Type_3</td>\n",
       "    </tr>\n",
       "    <tr>\n",
       "      <th>56</th>\n",
       "      <td>Inspection Type_4</td>\n",
       "    </tr>\n",
       "    <tr>\n",
       "      <th>57</th>\n",
       "      <td>Inspection Type_5</td>\n",
       "    </tr>\n",
       "    <tr>\n",
       "      <th>58</th>\n",
       "      <td>Inspection Type_6</td>\n",
       "    </tr>\n",
       "    <tr>\n",
       "      <th>59</th>\n",
       "      <td>Location_0</td>\n",
       "    </tr>\n",
       "    <tr>\n",
       "      <th>60</th>\n",
       "      <td>Location_1</td>\n",
       "    </tr>\n",
       "    <tr>\n",
       "      <th>61</th>\n",
       "      <td>Location_2</td>\n",
       "    </tr>\n",
       "    <tr>\n",
       "      <th>62</th>\n",
       "      <td>Location_3</td>\n",
       "    </tr>\n",
       "    <tr>\n",
       "      <th>63</th>\n",
       "      <td>Location_4</td>\n",
       "    </tr>\n",
       "    <tr>\n",
       "      <th>64</th>\n",
       "      <td>Location_5</td>\n",
       "    </tr>\n",
       "    <tr>\n",
       "      <th>65</th>\n",
       "      <td>Location_6</td>\n",
       "    </tr>\n",
       "    <tr>\n",
       "      <th>66</th>\n",
       "      <td>Location_7</td>\n",
       "    </tr>\n",
       "    <tr>\n",
       "      <th>67</th>\n",
       "      <td>Location_8</td>\n",
       "    </tr>\n",
       "    <tr>\n",
       "      <th>68</th>\n",
       "      <td>Location_9</td>\n",
       "    </tr>\n",
       "    <tr>\n",
       "      <th>69</th>\n",
       "      <td>Location_10</td>\n",
       "    </tr>\n",
       "    <tr>\n",
       "      <th>70</th>\n",
       "      <td>Location_11</td>\n",
       "    </tr>\n",
       "    <tr>\n",
       "      <th>71</th>\n",
       "      <td>Location_12</td>\n",
       "    </tr>\n",
       "    <tr>\n",
       "      <th>72</th>\n",
       "      <td>Location_13</td>\n",
       "    </tr>\n",
       "    <tr>\n",
       "      <th>73</th>\n",
       "      <td>Location_14</td>\n",
       "    </tr>\n",
       "    <tr>\n",
       "      <th>74</th>\n",
       "      <td>city_0</td>\n",
       "    </tr>\n",
       "    <tr>\n",
       "      <th>75</th>\n",
       "      <td>city_1</td>\n",
       "    </tr>\n",
       "    <tr>\n",
       "      <th>76</th>\n",
       "      <td>city_2</td>\n",
       "    </tr>\n",
       "    <tr>\n",
       "      <th>77</th>\n",
       "      <td>city_3</td>\n",
       "    </tr>\n",
       "    <tr>\n",
       "      <th>78</th>\n",
       "      <td>city_4</td>\n",
       "    </tr>\n",
       "    <tr>\n",
       "      <th>79</th>\n",
       "      <td>city_5</td>\n",
       "    </tr>\n",
       "    <tr>\n",
       "      <th>80</th>\n",
       "      <td>Zip</td>\n",
       "    </tr>\n",
       "    <tr>\n",
       "      <th>81</th>\n",
       "      <td>Latitude</td>\n",
       "    </tr>\n",
       "    <tr>\n",
       "      <th>82</th>\n",
       "      <td>Longitude</td>\n",
       "    </tr>\n",
       "    <tr>\n",
       "      <th>83</th>\n",
       "      <td>Fail</td>\n",
       "    </tr>\n",
       "    <tr>\n",
       "      <th>84</th>\n",
       "      <td>violation</td>\n",
       "    </tr>\n",
       "    <tr>\n",
       "      <th>85</th>\n",
       "      <td>risk</td>\n",
       "    </tr>\n",
       "  </tbody>\n",
       "</table>\n",
       "</div>"
      ],
      "text/plain": [
       "                     0\n",
       "0          ftype_False\n",
       "1         ftype_school\n",
       "2    ftype_gas station\n",
       "3         ftype_mobile\n",
       "4       ftype_hospital\n",
       "5          ftype_movie\n",
       "6      ftype_cafeteria\n",
       "7             ftype_-1\n",
       "8           DBA Name_0\n",
       "9           DBA Name_1\n",
       "10          DBA Name_2\n",
       "11          DBA Name_3\n",
       "12          DBA Name_4\n",
       "13          DBA Name_5\n",
       "14          DBA Name_6\n",
       "15          DBA Name_7\n",
       "16          DBA Name_8\n",
       "17          DBA Name_9\n",
       "18         DBA Name_10\n",
       "19         DBA Name_11\n",
       "20         DBA Name_12\n",
       "21         DBA Name_13\n",
       "22         DBA Name_14\n",
       "23         DBA Name_15\n",
       "24           Address_0\n",
       "25           Address_1\n",
       "26           Address_2\n",
       "27           Address_3\n",
       "28           Address_4\n",
       "29           Address_5\n",
       "30           Address_6\n",
       "31           Address_7\n",
       "32           Address_8\n",
       "33           Address_9\n",
       "34          Address_10\n",
       "35          Address_11\n",
       "36          Address_12\n",
       "37          Address_13\n",
       "38          Address_14\n",
       "39   Inspection Date_0\n",
       "40   Inspection Date_1\n",
       "41   Inspection Date_2\n",
       "42   Inspection Date_3\n",
       "43   Inspection Date_4\n",
       "44   Inspection Date_5\n",
       "45   Inspection Date_6\n",
       "46   Inspection Date_7\n",
       "47   Inspection Date_8\n",
       "48   Inspection Date_9\n",
       "49  Inspection Date_10\n",
       "50  Inspection Date_11\n",
       "51  Inspection Date_12\n",
       "52   Inspection Type_0\n",
       "53   Inspection Type_1\n",
       "54   Inspection Type_2\n",
       "55   Inspection Type_3\n",
       "56   Inspection Type_4\n",
       "57   Inspection Type_5\n",
       "58   Inspection Type_6\n",
       "59          Location_0\n",
       "60          Location_1\n",
       "61          Location_2\n",
       "62          Location_3\n",
       "63          Location_4\n",
       "64          Location_5\n",
       "65          Location_6\n",
       "66          Location_7\n",
       "67          Location_8\n",
       "68          Location_9\n",
       "69         Location_10\n",
       "70         Location_11\n",
       "71         Location_12\n",
       "72         Location_13\n",
       "73         Location_14\n",
       "74              city_0\n",
       "75              city_1\n",
       "76              city_2\n",
       "77              city_3\n",
       "78              city_4\n",
       "79              city_5\n",
       "80                 Zip\n",
       "81            Latitude\n",
       "82           Longitude\n",
       "83                Fail\n",
       "84           violation\n",
       "85                risk"
      ]
     },
     "execution_count": 113,
     "metadata": {},
     "output_type": "execute_result"
    }
   ],
   "source": [
    "dftt"
   ]
  },
  {
   "cell_type": "code",
   "execution_count": null,
   "metadata": {},
   "outputs": [],
   "source": []
  }
 ],
 "metadata": {
  "kernelspec": {
   "display_name": "Python 3",
   "language": "python",
   "name": "python3"
  },
  "language_info": {
   "codemirror_mode": {
    "name": "ipython",
    "version": 3
   },
   "file_extension": ".py",
   "mimetype": "text/x-python",
   "name": "python",
   "nbconvert_exporter": "python",
   "pygments_lexer": "ipython3",
   "version": "3.6.6"
  },
  "latex_envs": {
   "LaTeX_envs_menu_present": true,
   "autoclose": false,
   "autocomplete": true,
   "bibliofile": "biblio.bib",
   "cite_by": "apalike",
   "current_citInitial": 1,
   "eqLabelWithNumbers": true,
   "eqNumInitial": 1,
   "hotkeys": {
    "equation": "Ctrl-E",
    "itemize": "Ctrl-I"
   },
   "labels_anchors": false,
   "latex_user_defs": false,
   "report_style_numbering": false,
   "user_envs_cfg": false
  }
 },
 "nbformat": 4,
 "nbformat_minor": 2
}

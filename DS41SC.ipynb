{
  "nbformat": 4,
  "nbformat_minor": 0,
  "metadata": {
    "colab": {
      "name": "DS41SC.ipynb",
      "version": "0.3.2",
      "provenance": [],
      "include_colab_link": true
    },
    "language_info": {
      "codemirror_mode": {
        "name": "ipython",
        "version": 3
      },
      "file_extension": ".py",
      "mimetype": "text/x-python",
      "name": "python",
      "nbconvert_exporter": "python",
      "pygments_lexer": "ipython3",
      "version": "3.7.1"
    },
    "kernelspec": {
      "display_name": "Python 3",
      "language": "python",
      "name": "python3"
    }
  },
  "cells": [
    {
      "cell_type": "markdown",
      "metadata": {
        "id": "view-in-github",
        "colab_type": "text"
      },
      "source": [
        "<a href=\"https://colab.research.google.com/github/tesseract314/DS-Unit-4-Sprint-1-Tree-Ensembles/blob/master/DS41SC.ipynb\" target=\"_parent\"><img src=\"https://colab.research.google.com/assets/colab-badge.svg\" alt=\"Open In Colab\"/></a>"
      ]
    },
    {
      "metadata": {
        "id": "9duNZlLzKdiZ",
        "colab_type": "text"
      },
      "cell_type": "markdown",
      "source": [
        "# Data Science Unit 4 Sprint Challenge 1 — Tree Ensembles"
      ]
    },
    {
      "metadata": {
        "id": "yQ402Cu4Kdib",
        "colab_type": "text"
      },
      "cell_type": "markdown",
      "source": [
        "### Chicago Food Inspections\n",
        "\n",
        "For this Sprint Challenge, you'll use a dataset with information from inspections of restaurants and other food establishments in Chicago from January 2010 to March 2019. \n",
        "\n",
        "[See this PDF](https://data.cityofchicago.org/api/assets/BAD5301B-681A-4202-9D25-51B2CAE672FF) for descriptions of the data elements included in this dataset.\n",
        "\n",
        "According to [Chicago Department of Public Health — Food Protection Services](https://www.chicago.gov/city/en/depts/cdph/provdrs/healthy_restaurants/svcs/food-protection-services.html), \"Chicago is home to 16,000 food establishments like restaurants, grocery stores, bakeries, wholesalers, lunchrooms, mobile food vendors and more. Our business is food safety and sanitation with one goal, to prevent the spread of food-borne disease. We do this by inspecting food businesses, responding to complaints and food recalls.\" "
      ]
    },
    {
      "metadata": {
        "id": "UqdlpoMQKdig",
        "colab_type": "text"
      },
      "cell_type": "markdown",
      "source": [
        "#### Your challenge: Predict whether inspections failed\n",
        "\n",
        "The target is the `Fail` column.\n",
        "\n",
        "- When the food establishment failed the inspection, the target is `1`.\n",
        "- When the establishment passed, the target is `0`."
      ]
    },
    {
      "metadata": {
        "id": "CT69lAteKdij",
        "colab_type": "text"
      },
      "cell_type": "markdown",
      "source": [
        "#### Run this cell to load the data:"
      ]
    },
    {
      "metadata": {
        "id": "lQ6fjFVUKdin",
        "colab_type": "code",
        "colab": {}
      },
      "cell_type": "code",
      "source": [
        "import pandas as pd\n",
        "\n",
        "train_url = 'https://drive.google.com/uc?export=download&id=13_tP9JpLcZHSPVpWcua4t2rY44K_s4H5'\n",
        "test_url  = 'https://drive.google.com/uc?export=download&id=1GkDHjsiGrzOXoF_xcYjdzBTSjOIi3g5a'\n",
        "\n",
        "train = pd.read_csv(train_url)\n",
        "test  = pd.read_csv(test_url)\n",
        "\n",
        "assert train.shape == (51916, 17)\n",
        "assert test.shape  == (17306, 17)"
      ],
      "execution_count": 0,
      "outputs": []
    },
    {
      "metadata": {
        "id": "QHyJRpFdKdix",
        "colab_type": "text"
      },
      "cell_type": "markdown",
      "source": [
        "### Part 1: Preprocessing\n",
        "\n",
        "You may choose which features you want to use, and whether/how you will preprocess them. If you use categorical features, you may use any tools and techniques for encoding. (Pandas, category_encoders, sklearn.preprocessing, or any other library.)\n",
        "\n",
        "_To earn a score of 3 for this part, find and explain leakage. The dataset has a feature that will give you an ROC AUC score > 0.90 if you process and use the feature. Find the leakage and explain why the feature shouldn't be used in a real-world model to predict the results of future inspections._\n",
        "\n",
        "### Part 2: Modeling\n",
        "\n",
        "Fit a Random Forest or Gradient Boosting model with the train set. (You may use scikit-learn, xgboost, or any other library.) Use cross-validation to estimate an ROC AUC validation score.\n",
        "\n",
        "Use your model to predict probabilities for the test set. Get an ROC AUC test score >= 0.60.\n",
        "\n",
        "_To earn a score of 3 for this part, get an ROC AUC test score >= 0.70 (without using the feature with leakage)._\n",
        "\n",
        "\n",
        "### Part 3: Visualization\n",
        "\n",
        "Make one visualization for model interpretation. (You may use any libraries.) Choose one of these types:\n",
        "- Feature Importances\n",
        "- Permutation Importances\n",
        "- Partial Dependence Plot\n",
        "- Shapley Values\n",
        "\n",
        "_To earn a score of 3 for this part, make at least two of these visualization types._"
      ]
    },
    {
      "metadata": {
        "id": "5R2rcseJWQI2",
        "colab_type": "code",
        "colab": {
          "base_uri": "https://localhost:8080/",
          "height": 252
        },
        "outputId": "223e6ae3-5fb9-4cbe-a0d6-3b50819ce715"
      },
      "cell_type": "code",
      "source": [
        "!pip install category_encoders"
      ],
      "execution_count": 77,
      "outputs": [
        {
          "output_type": "stream",
          "text": [
            "Collecting category_encoders\n",
            "\u001b[?25l  Downloading https://files.pythonhosted.org/packages/f7/d3/82a4b85a87ece114f6d0139d643580c726efa45fa4db3b81aed38c0156c5/category_encoders-1.3.0-py2.py3-none-any.whl (61kB)\n",
            "\u001b[K    100% |████████████████████████████████| 61kB 4.0MB/s \n",
            "\u001b[?25hRequirement already satisfied: scipy>=0.17.0 in /usr/local/lib/python3.6/dist-packages (from category_encoders) (1.2.1)\n",
            "Requirement already satisfied: statsmodels>=0.6.1 in /usr/local/lib/python3.6/dist-packages (from category_encoders) (0.9.0)\n",
            "Requirement already satisfied: pandas>=0.20.1 in /usr/local/lib/python3.6/dist-packages (from category_encoders) (0.24.2)\n",
            "Requirement already satisfied: numpy>=1.11.1 in /usr/local/lib/python3.6/dist-packages (from category_encoders) (1.16.3)\n",
            "Requirement already satisfied: patsy>=0.4.1 in /usr/local/lib/python3.6/dist-packages (from category_encoders) (0.5.1)\n",
            "Requirement already satisfied: scikit-learn>=0.17.1 in /usr/local/lib/python3.6/dist-packages (from category_encoders) (0.20.3)\n",
            "Requirement already satisfied: python-dateutil>=2.5.0 in /usr/local/lib/python3.6/dist-packages (from pandas>=0.20.1->category_encoders) (2.5.3)\n",
            "Requirement already satisfied: pytz>=2011k in /usr/local/lib/python3.6/dist-packages (from pandas>=0.20.1->category_encoders) (2018.9)\n",
            "Requirement already satisfied: six in /usr/local/lib/python3.6/dist-packages (from patsy>=0.4.1->category_encoders) (1.12.0)\n",
            "Installing collected packages: category-encoders\n",
            "Successfully installed category-encoders-1.3.0\n"
          ],
          "name": "stdout"
        }
      ]
    },
    {
      "metadata": {
        "id": "UJpU9-mxWi_G",
        "colab_type": "code",
        "colab": {
          "base_uri": "https://localhost:8080/",
          "height": 269
        },
        "outputId": "ed928018-6f1b-41de-e877-f32859374bce"
      },
      "cell_type": "code",
      "source": [
        "!pip install eli5"
      ],
      "execution_count": 79,
      "outputs": [
        {
          "output_type": "stream",
          "text": [
            "Collecting eli5\n",
            "\u001b[?25l  Downloading https://files.pythonhosted.org/packages/ee/2b/246db9e1c2d6f38e999daf0c4d5e54f36fbd0b937ffb13a34d32c2139403/eli5-0.8.2-py2.py3-none-any.whl (98kB)\n",
            "\u001b[K    100% |████████████████████████████████| 102kB 4.6MB/s \n",
            "\u001b[?25hRequirement already satisfied: graphviz in /usr/local/lib/python3.6/dist-packages (from eli5) (0.10.1)\n",
            "Requirement already satisfied: numpy>=1.9.0 in /usr/local/lib/python3.6/dist-packages (from eli5) (1.16.3)\n",
            "Requirement already satisfied: typing in /usr/local/lib/python3.6/dist-packages (from eli5) (3.6.6)\n",
            "Requirement already satisfied: tabulate>=0.7.7 in /usr/local/lib/python3.6/dist-packages (from eli5) (0.8.3)\n",
            "Requirement already satisfied: scikit-learn>=0.18 in /usr/local/lib/python3.6/dist-packages (from eli5) (0.20.3)\n",
            "Requirement already satisfied: six in /usr/local/lib/python3.6/dist-packages (from eli5) (1.12.0)\n",
            "Requirement already satisfied: jinja2 in /usr/local/lib/python3.6/dist-packages (from eli5) (2.10.1)\n",
            "Requirement already satisfied: attrs>16.0.0 in /usr/local/lib/python3.6/dist-packages (from eli5) (19.1.0)\n",
            "Requirement already satisfied: scipy in /usr/local/lib/python3.6/dist-packages (from eli5) (1.2.1)\n",
            "Requirement already satisfied: MarkupSafe>=0.23 in /usr/local/lib/python3.6/dist-packages (from jinja2->eli5) (1.1.1)\n",
            "Installing collected packages: eli5\n",
            "Successfully installed eli5-0.8.2\n"
          ],
          "name": "stdout"
        }
      ]
    },
    {
      "metadata": {
        "id": "q5JJCbbmMzDT",
        "colab_type": "code",
        "colab": {}
      },
      "cell_type": "code",
      "source": [
        "# imports\n",
        "import numpy as np\n",
        "from sklearn.ensemble import GradientBoostingClassifier\n",
        "from eli5.sklearn import PermutationImportance\n",
        "import eli5\n",
        "from sklearn.model_selection import cross_val_score\n",
        "from sklearn.metrics import roc_auc_score\n",
        "from sklearn.pipeline import make_pipeline\n",
        "import category_encoders as ce\n",
        "import matplotlib.pyplot as plt"
      ],
      "execution_count": 0,
      "outputs": []
    },
    {
      "metadata": {
        "id": "EwsqYM6YU7PN",
        "colab_type": "text"
      },
      "cell_type": "markdown",
      "source": [
        "### Part 1: Preprocessing"
      ]
    },
    {
      "metadata": {
        "id": "jAu-izo6KziJ",
        "colab_type": "code",
        "colab": {
          "base_uri": "https://localhost:8080/",
          "height": 374
        },
        "outputId": "31221e2c-95ea-4189-ea47-93443020da9f"
      },
      "cell_type": "code",
      "source": [
        "train.head(3)"
      ],
      "execution_count": 64,
      "outputs": [
        {
          "output_type": "execute_result",
          "data": {
            "text/html": [
              "<div>\n",
              "<style scoped>\n",
              "    .dataframe tbody tr th:only-of-type {\n",
              "        vertical-align: middle;\n",
              "    }\n",
              "\n",
              "    .dataframe tbody tr th {\n",
              "        vertical-align: top;\n",
              "    }\n",
              "\n",
              "    .dataframe thead th {\n",
              "        text-align: right;\n",
              "    }\n",
              "</style>\n",
              "<table border=\"1\" class=\"dataframe\">\n",
              "  <thead>\n",
              "    <tr style=\"text-align: right;\">\n",
              "      <th></th>\n",
              "      <th>Inspection ID</th>\n",
              "      <th>DBA Name</th>\n",
              "      <th>AKA Name</th>\n",
              "      <th>License #</th>\n",
              "      <th>Facility Type</th>\n",
              "      <th>Risk</th>\n",
              "      <th>Address</th>\n",
              "      <th>City</th>\n",
              "      <th>State</th>\n",
              "      <th>Zip</th>\n",
              "      <th>Inspection Date</th>\n",
              "      <th>Inspection Type</th>\n",
              "      <th>Violations</th>\n",
              "      <th>Latitude</th>\n",
              "      <th>Longitude</th>\n",
              "      <th>Location</th>\n",
              "      <th>Fail</th>\n",
              "    </tr>\n",
              "  </thead>\n",
              "  <tbody>\n",
              "    <tr>\n",
              "      <th>0</th>\n",
              "      <td>2088270</td>\n",
              "      <td>TOM YUM RICE &amp; NOODLE, INC.</td>\n",
              "      <td>TOM YUM CAFE</td>\n",
              "      <td>2354911.0</td>\n",
              "      <td>Restaurant</td>\n",
              "      <td>Risk 1 (High)</td>\n",
              "      <td>608 W BARRY</td>\n",
              "      <td>CHICAGO</td>\n",
              "      <td>IL</td>\n",
              "      <td>60657.0</td>\n",
              "      <td>2017-09-15T00:00:00</td>\n",
              "      <td>Canvass</td>\n",
              "      <td>3. POTENTIALLY HAZARDOUS FOOD MEETS TEMPERATUR...</td>\n",
              "      <td>41.938007</td>\n",
              "      <td>-87.644755</td>\n",
              "      <td>{'longitude': '-87.6447545707008', 'latitude':...</td>\n",
              "      <td>1</td>\n",
              "    </tr>\n",
              "    <tr>\n",
              "      <th>1</th>\n",
              "      <td>555268</td>\n",
              "      <td>FILLING STATION  &amp; CONVENIENCE  STORE</td>\n",
              "      <td>FILLING STATION  &amp; CONVENIENCE  STORE</td>\n",
              "      <td>1044901.0</td>\n",
              "      <td>Grocery Store</td>\n",
              "      <td>Risk 3 (Low)</td>\n",
              "      <td>6646-6658 S WESTERN AVE</td>\n",
              "      <td>CHICAGO</td>\n",
              "      <td>IL</td>\n",
              "      <td>60636.0</td>\n",
              "      <td>2011-10-20T00:00:00</td>\n",
              "      <td>Complaint Re-Inspection</td>\n",
              "      <td>32. FOOD AND NON-FOOD CONTACT SURFACES PROPERL...</td>\n",
              "      <td>41.772402</td>\n",
              "      <td>-87.683603</td>\n",
              "      <td>{'longitude': '-87.68360273081268', 'latitude'...</td>\n",
              "      <td>0</td>\n",
              "    </tr>\n",
              "    <tr>\n",
              "      <th>2</th>\n",
              "      <td>1751394</td>\n",
              "      <td>A P DELI</td>\n",
              "      <td>A P DELI</td>\n",
              "      <td>47405.0</td>\n",
              "      <td>Restaurant</td>\n",
              "      <td>Risk 1 (High)</td>\n",
              "      <td>2025 E 75TH ST</td>\n",
              "      <td>CHICAGO</td>\n",
              "      <td>IL</td>\n",
              "      <td>60649.0</td>\n",
              "      <td>2016-04-05T00:00:00</td>\n",
              "      <td>Canvass Re-Inspection</td>\n",
              "      <td>35. WALLS, CEILINGS, ATTACHED EQUIPMENT CONSTR...</td>\n",
              "      <td>41.758779</td>\n",
              "      <td>-87.575054</td>\n",
              "      <td>{'longitude': '-87.57505446746121', 'latitude'...</td>\n",
              "      <td>0</td>\n",
              "    </tr>\n",
              "  </tbody>\n",
              "</table>\n",
              "</div>"
            ],
            "text/plain": [
              "   Inspection ID                               DBA Name  \\\n",
              "0        2088270            TOM YUM RICE & NOODLE, INC.   \n",
              "1         555268  FILLING STATION  & CONVENIENCE  STORE   \n",
              "2        1751394                               A P DELI   \n",
              "\n",
              "                                AKA Name  License #  Facility Type  \\\n",
              "0                           TOM YUM CAFE  2354911.0     Restaurant   \n",
              "1  FILLING STATION  & CONVENIENCE  STORE  1044901.0  Grocery Store   \n",
              "2                               A P DELI    47405.0     Restaurant   \n",
              "\n",
              "            Risk                   Address     City State      Zip  \\\n",
              "0  Risk 1 (High)              608 W BARRY   CHICAGO    IL  60657.0   \n",
              "1   Risk 3 (Low)  6646-6658 S WESTERN AVE   CHICAGO    IL  60636.0   \n",
              "2  Risk 1 (High)           2025 E 75TH ST   CHICAGO    IL  60649.0   \n",
              "\n",
              "       Inspection Date          Inspection Type  \\\n",
              "0  2017-09-15T00:00:00                  Canvass   \n",
              "1  2011-10-20T00:00:00  Complaint Re-Inspection   \n",
              "2  2016-04-05T00:00:00    Canvass Re-Inspection   \n",
              "\n",
              "                                          Violations   Latitude  Longitude  \\\n",
              "0  3. POTENTIALLY HAZARDOUS FOOD MEETS TEMPERATUR...  41.938007 -87.644755   \n",
              "1  32. FOOD AND NON-FOOD CONTACT SURFACES PROPERL...  41.772402 -87.683603   \n",
              "2  35. WALLS, CEILINGS, ATTACHED EQUIPMENT CONSTR...  41.758779 -87.575054   \n",
              "\n",
              "                                            Location  Fail  \n",
              "0  {'longitude': '-87.6447545707008', 'latitude':...     1  \n",
              "1  {'longitude': '-87.68360273081268', 'latitude'...     0  \n",
              "2  {'longitude': '-87.57505446746121', 'latitude'...     0  "
            ]
          },
          "metadata": {
            "tags": []
          },
          "execution_count": 64
        }
      ]
    },
    {
      "metadata": {
        "id": "7gAIgwgQLzcV",
        "colab_type": "code",
        "colab": {
          "base_uri": "https://localhost:8080/",
          "height": 34
        },
        "outputId": "a1d497e8-a8fe-47cb-edf3-888fbee6c8c1"
      },
      "cell_type": "code",
      "source": [
        "train.shape"
      ],
      "execution_count": 65,
      "outputs": [
        {
          "output_type": "execute_result",
          "data": {
            "text/plain": [
              "(51916, 17)"
            ]
          },
          "metadata": {
            "tags": []
          },
          "execution_count": 65
        }
      ]
    },
    {
      "metadata": {
        "id": "rdM7me_ELEhH",
        "colab_type": "code",
        "colab": {
          "base_uri": "https://localhost:8080/",
          "height": 218
        },
        "outputId": "ab8662b5-25ab-416d-b08f-aae453b2e445"
      },
      "cell_type": "code",
      "source": [
        "train.nunique()"
      ],
      "execution_count": 71,
      "outputs": [
        {
          "output_type": "execute_result",
          "data": {
            "text/plain": [
              "DBA Name           17049\n",
              "License #          21422\n",
              "Facility Type        330\n",
              "Risk                   4\n",
              "City                  40\n",
              "Zip                   87\n",
              "Inspection Type       52\n",
              "Violations            58\n",
              "Latitude           13411\n",
              "Longitude          13411\n",
              "Fail                   2\n",
              "dtype: int64"
            ]
          },
          "metadata": {
            "tags": []
          },
          "execution_count": 71
        }
      ]
    },
    {
      "metadata": {
        "id": "IsEEDCzXLNfn",
        "colab_type": "code",
        "colab": {
          "base_uri": "https://localhost:8080/",
          "height": 218
        },
        "outputId": "10089f57-a471-404c-f9ea-1bfa99ff16dc"
      },
      "cell_type": "code",
      "source": [
        "train.dtypes"
      ],
      "execution_count": 72,
      "outputs": [
        {
          "output_type": "execute_result",
          "data": {
            "text/plain": [
              "DBA Name            object\n",
              "License #          float64\n",
              "Facility Type       object\n",
              "Risk                object\n",
              "City                object\n",
              "Zip                float64\n",
              "Inspection Type     object\n",
              "Violations         float64\n",
              "Latitude           float64\n",
              "Longitude          float64\n",
              "Fail                 int64\n",
              "dtype: object"
            ]
          },
          "metadata": {
            "tags": []
          },
          "execution_count": 72
        }
      ]
    },
    {
      "metadata": {
        "id": "OOmNHMlJMlQ3",
        "colab_type": "code",
        "colab": {
          "base_uri": "https://localhost:8080/",
          "height": 202
        },
        "outputId": "743ad440-e6a0-4c17-8f2a-83ba55db998b"
      },
      "cell_type": "code",
      "source": [
        "test.isnull().sum()"
      ],
      "execution_count": 87,
      "outputs": [
        {
          "output_type": "execute_result",
          "data": {
            "text/plain": [
              "DBA Name           0\n",
              "License #          0\n",
              "Facility Type      0\n",
              "Risk               0\n",
              "City               0\n",
              "Zip                0\n",
              "Inspection Type    0\n",
              "Latitude           0\n",
              "Longitude          0\n",
              "Fail               0\n",
              "dtype: int64"
            ]
          },
          "metadata": {
            "tags": []
          },
          "execution_count": 87
        }
      ]
    },
    {
      "metadata": {
        "id": "PvLZNvHCPP9L",
        "colab_type": "code",
        "colab": {}
      },
      "cell_type": "code",
      "source": [
        "# wrangle data\n",
        "def wrangle(X):\n",
        "  X = X.copy()\n",
        "  \n",
        "  # Change NaN to 'Unknown' for Facility Type\n",
        "  X['Facility Type'] = X['Facility Type'].fillna('Unknown')\n",
        "  \n",
        "  # Fill NaN License # with -1\n",
        "  X['License #'] = X['License #'].fillna(-1)\n",
        "  \n",
        "  # Fill NaN Risk with 'Unknown'\n",
        "  X['Risk'] = X['Risk'].fillna('Unknown')\n",
        "  \n",
        "  # Fill NaN lat and long with mean\n",
        "  X['Latitude'] = X['Latitude'].fillna(X['Latitude'].mean())\n",
        "  X['Longitude'] = X['Longitude'].fillna(X['Longitude'].mean())\n",
        "  \n",
        "  # Fill NaN Inspection Type with 'Unknown'\n",
        "  X['Inspection Type'] = X['Inspection Type'].fillna('Unknown')\n",
        "  \n",
        "  # Fill NaN City with 'Unknown'\n",
        "  X['City'] = X['City'].fillna('Unknown')\n",
        "  \n",
        "  # Fill NaN Zip with -1\n",
        "  X['Zip'] = X['Zip'].fillna(-1)\n",
        "  \n",
        "  # Drop leaky column\n",
        "  X = X.drop(columns='Violations')\n",
        "  \n",
        "  \n",
        "  # Drop high cardinality and unnecessary columns\n",
        "  X = X.drop(columns=['Inspection ID', 'AKA Name', 'Address', 'State', \n",
        "                      'Inspection Date', 'Location'])\n",
        "  \n",
        "  return X"
      ],
      "execution_count": 0,
      "outputs": []
    },
    {
      "metadata": {
        "id": "xbqlOYzhQPGt",
        "colab_type": "code",
        "colab": {}
      },
      "cell_type": "code",
      "source": [
        "# apply wrangle function\n",
        "train = wrangle(train)\n",
        "test = wrangle(test)"
      ],
      "execution_count": 0,
      "outputs": []
    },
    {
      "metadata": {
        "id": "t7cWwc3zZJcT",
        "colab_type": "code",
        "colab": {}
      },
      "cell_type": "code",
      "source": [
        "# The data leakage was coming from the Violations feature. This column heavily\n",
        "# indicates whether or not the business failed the inspection. Because the goal is to\n",
        "# predict pass/fail, we wouldn't know what the violations are at the time of prediction."
      ],
      "execution_count": 0,
      "outputs": []
    },
    {
      "metadata": {
        "id": "vIVfHcNIVCrc",
        "colab_type": "text"
      },
      "cell_type": "markdown",
      "source": [
        "### Part 2: Modeling"
      ]
    },
    {
      "metadata": {
        "id": "llcjtS3YTonP",
        "colab_type": "code",
        "colab": {
          "base_uri": "https://localhost:8080/",
          "height": 67
        },
        "outputId": "679348f2-4e0e-4d62-9f4b-1a511bdd526a"
      },
      "cell_type": "code",
      "source": [
        "# See majority class\n",
        "train['Fail'].value_counts(normalize=True)"
      ],
      "execution_count": 88,
      "outputs": [
        {
          "output_type": "execute_result",
          "data": {
            "text/plain": [
              "0    0.74139\n",
              "1    0.25861\n",
              "Name: Fail, dtype: float64"
            ]
          },
          "metadata": {
            "tags": []
          },
          "execution_count": 88
        }
      ]
    },
    {
      "metadata": {
        "id": "wbe_xFVnVQgN",
        "colab_type": "code",
        "colab": {}
      },
      "cell_type": "code",
      "source": [
        "# Split into independent and dependent variables\n",
        "X_train = train.drop(columns='Fail')\n",
        "y_train = train['Fail']\n",
        "\n",
        "X_test = test.drop(columns='Fail')\n",
        "y_test = test['Fail']"
      ],
      "execution_count": 0,
      "outputs": []
    },
    {
      "metadata": {
        "id": "dABZM_2fXTll",
        "colab_type": "code",
        "colab": {
          "base_uri": "https://localhost:8080/",
          "height": 34
        },
        "outputId": "f65c0a1f-3cfd-4648-8ab3-d57821a42a99"
      },
      "cell_type": "code",
      "source": [
        "# Make pipeline and see crossval scores\n",
        "\n",
        "pipe = make_pipeline(\n",
        "    ce.OrdinalEncoder(),\n",
        "    GradientBoostingClassifier(n_estimators=400)\n",
        ")\n",
        "\n",
        "cross_val_score(pipe, X_train, y_train, cv=5, scoring='roc_auc')"
      ],
      "execution_count": 90,
      "outputs": [
        {
          "output_type": "execute_result",
          "data": {
            "text/plain": [
              "array([0.6893133 , 0.67773963, 0.68435491, 0.68757829, 0.6871228 ])"
            ]
          },
          "metadata": {
            "tags": []
          },
          "execution_count": 90
        }
      ]
    },
    {
      "metadata": {
        "id": "4ivx4_lFgIHO",
        "colab_type": "code",
        "colab": {}
      },
      "cell_type": "code",
      "source": [
        "# Tune model\n",
        "pipe2 = make_pipeline(\n",
        "    ce.OrdinalEncoder(),\n",
        "    GradientBoostingClassifier(n_estimators=400, max_depth=4)\n",
        ")"
      ],
      "execution_count": 0,
      "outputs": []
    },
    {
      "metadata": {
        "id": "GI5qg-eQYHoU",
        "colab_type": "code",
        "colab": {
          "base_uri": "https://localhost:8080/",
          "height": 34
        },
        "outputId": "645c0c12-64f9-4d7e-8409-5243cc515017"
      },
      "cell_type": "code",
      "source": [
        "# Prediction with test data\n",
        "pipe2.fit(X_train, y_train)\n",
        "y_pred_proba = pipe2.predict_proba(X_test)[:, 1]\n",
        "print('Test ROC AUC:', roc_auc_score(y_test, y_pred_proba))"
      ],
      "execution_count": 101,
      "outputs": [
        {
          "output_type": "stream",
          "text": [
            "Test ROC AUC: 0.7036300091999605\n"
          ],
          "name": "stdout"
        }
      ]
    },
    {
      "metadata": {
        "id": "gr59uaDsbE62",
        "colab_type": "text"
      },
      "cell_type": "markdown",
      "source": [
        "### Part 3: Visualization"
      ]
    },
    {
      "metadata": {
        "id": "xDzJ7P6MakvA",
        "colab_type": "code",
        "colab": {
          "base_uri": "https://localhost:8080/",
          "height": 486
        },
        "outputId": "714f173a-c13a-454a-8325-619181235809"
      },
      "cell_type": "code",
      "source": [
        "# Feature Importances\n",
        "\n",
        "def show_feature_importances(pipe, X, y, estimator_name='gradientboostingclassifier',\n",
        "                             n=X_train.shape[1], figsize=(8, 8)):\n",
        "  # Fit model\n",
        "  pipe.fit(X, y)\n",
        "  \n",
        "  # Variable with feature importance from pipe\n",
        "  importances = pd.Series(pipe.named_steps[estimator_name].feature_importances_, X.columns)\n",
        "  \n",
        "  # Sort importances\n",
        "  sort = importances.sort_values(ascending=False)[:n]\n",
        "  \n",
        "  plt.figure(figsize=figsize)\n",
        "  sort.sort_values().plot.barh(color='grey')\n",
        "  \n",
        "show_feature_importances(pipe, X_train, y_train)"
      ],
      "execution_count": 97,
      "outputs": [
        {
          "output_type": "display_data",
          "data": {
            "image/png": "[encoded data removed]",
            "text/plain": [
              "<Figure size 576x576 with 1 Axes>"
            ]
          },
          "metadata": {
            "tags": []
          }
        }
      ]
    },
    {
      "metadata": {
        "id": "jO_mHPcsc_G-",
        "colab_type": "code",
        "colab": {
          "base_uri": "https://localhost:8080/",
          "height": 185
        },
        "outputId": "f6ee033b-ac02-4389-ad05-fc23dc726e2b"
      },
      "cell_type": "code",
      "source": [
        "# Permutation Importances\n",
        "\n",
        "# Encode\n",
        "encoder = ce.OrdinalEncoder()\n",
        "X_train_transformed = encoder.fit_transform(X_train)\n",
        "\n",
        "# Model\n",
        "model = GradientBoostingClassifier(n_estimators=400)\n",
        "\n",
        "# Fit model\n",
        "model.fit(X_train_transformed, y_train)\n",
        "# Create permuter with model\n",
        "permuter = PermutationImportance(model, scoring='roc_auc', n_iter=1, cv='prefit')\n",
        "# Fit permuter\n",
        "permuter.fit(X_train_transformed, y_train)\n",
        "\n",
        "# Show weights\n",
        "eli5.show_weights(permuter, top=None, feature_names=X_train_transformed.columns.tolist())\n"
      ],
      "execution_count": 99,
      "outputs": [
        {
          "output_type": "execute_result",
          "data": {
            "text/html": [
              "\n",
              "    <style>\n",
              "    table.eli5-weights tr:hover {\n",
              "        filter: brightness(85%);\n",
              "    }\n",
              "</style>\n",
              "\n",
              "\n",
              "\n",
              "    \n",
              "\n",
              "    \n",
              "\n",
              "    \n",
              "\n",
              "    \n",
              "\n",
              "    \n",
              "\n",
              "    \n",
              "\n",
              "\n",
              "    \n",
              "\n",
              "    \n",
              "\n",
              "    \n",
              "\n",
              "    \n",
              "\n",
              "    \n",
              "\n",
              "    \n",
              "\n",
              "\n",
              "    \n",
              "\n",
              "    \n",
              "\n",
              "    \n",
              "\n",
              "    \n",
              "\n",
              "    \n",
              "        <table class=\"eli5-weights eli5-feature-importances\" style=\"border-collapse: collapse; border: none; margin-top: 0em; table-layout: auto;\">\n",
              "    <thead>\n",
              "    <tr style=\"border: none;\">\n",
              "        <th style=\"padding: 0 1em 0 0.5em; text-align: right; border: none;\">Weight</th>\n",
              "        <th style=\"padding: 0 0.5em 0 0.5em; text-align: left; border: none;\">Feature</th>\n",
              "    </tr>\n",
              "    </thead>\n",
              "    <tbody>\n",
              "    \n",
              "        <tr style=\"background-color: hsl(120, 100.00%, 80.00%); border: none;\">\n",
              "            <td style=\"padding: 0 1em 0 0.5em; text-align: right; border: none;\">\n",
              "                0.1709\n",
              "                \n",
              "                    &plusmn; 0.0000\n",
              "                \n",
              "            </td>\n",
              "            <td style=\"padding: 0 0.5em 0 0.5em; text-align: left; border: none;\">\n",
              "                Inspection Type\n",
              "            </td>\n",
              "        </tr>\n",
              "    \n",
              "        <tr style=\"background-color: hsl(120, 100.00%, 93.58%); border: none;\">\n",
              "            <td style=\"padding: 0 1em 0 0.5em; text-align: right; border: none;\">\n",
              "                0.0337\n",
              "                \n",
              "                    &plusmn; 0.0000\n",
              "                \n",
              "            </td>\n",
              "            <td style=\"padding: 0 0.5em 0 0.5em; text-align: left; border: none;\">\n",
              "                Longitude\n",
              "            </td>\n",
              "        </tr>\n",
              "    \n",
              "        <tr style=\"background-color: hsl(120, 100.00%, 93.68%); border: none;\">\n",
              "            <td style=\"padding: 0 1em 0 0.5em; text-align: right; border: none;\">\n",
              "                0.0329\n",
              "                \n",
              "                    &plusmn; 0.0000\n",
              "                \n",
              "            </td>\n",
              "            <td style=\"padding: 0 0.5em 0 0.5em; text-align: left; border: none;\">\n",
              "                Latitude\n",
              "            </td>\n",
              "        </tr>\n",
              "    \n",
              "        <tr style=\"background-color: hsl(120, 100.00%, 94.46%); border: none;\">\n",
              "            <td style=\"padding: 0 1em 0 0.5em; text-align: right; border: none;\">\n",
              "                0.0273\n",
              "                \n",
              "                    &plusmn; 0.0000\n",
              "                \n",
              "            </td>\n",
              "            <td style=\"padding: 0 0.5em 0 0.5em; text-align: left; border: none;\">\n",
              "                License #\n",
              "            </td>\n",
              "        </tr>\n",
              "    \n",
              "        <tr style=\"background-color: hsl(120, 100.00%, 95.88%); border: none;\">\n",
              "            <td style=\"padding: 0 1em 0 0.5em; text-align: right; border: none;\">\n",
              "                0.0179\n",
              "                \n",
              "                    &plusmn; 0.0000\n",
              "                \n",
              "            </td>\n",
              "            <td style=\"padding: 0 0.5em 0 0.5em; text-align: left; border: none;\">\n",
              "                Zip\n",
              "            </td>\n",
              "        </tr>\n",
              "    \n",
              "        <tr style=\"background-color: hsl(120, 100.00%, 96.40%); border: none;\">\n",
              "            <td style=\"padding: 0 1em 0 0.5em; text-align: right; border: none;\">\n",
              "                0.0148\n",
              "                \n",
              "                    &plusmn; 0.0000\n",
              "                \n",
              "            </td>\n",
              "            <td style=\"padding: 0 0.5em 0 0.5em; text-align: left; border: none;\">\n",
              "                Facility Type\n",
              "            </td>\n",
              "        </tr>\n",
              "    \n",
              "        <tr style=\"background-color: hsl(120, 100.00%, 96.43%); border: none;\">\n",
              "            <td style=\"padding: 0 1em 0 0.5em; text-align: right; border: none;\">\n",
              "                0.0146\n",
              "                \n",
              "                    &plusmn; 0.0000\n",
              "                \n",
              "            </td>\n",
              "            <td style=\"padding: 0 0.5em 0 0.5em; text-align: left; border: none;\">\n",
              "                DBA Name\n",
              "            </td>\n",
              "        </tr>\n",
              "    \n",
              "        <tr style=\"background-color: hsl(120, 100.00%, 98.54%); border: none;\">\n",
              "            <td style=\"padding: 0 1em 0 0.5em; text-align: right; border: none;\">\n",
              "                0.0041\n",
              "                \n",
              "                    &plusmn; 0.0000\n",
              "                \n",
              "            </td>\n",
              "            <td style=\"padding: 0 0.5em 0 0.5em; text-align: left; border: none;\">\n",
              "                Risk\n",
              "            </td>\n",
              "        </tr>\n",
              "    \n",
              "        <tr style=\"background-color: hsl(120, 100.00%, 99.53%); border: none;\">\n",
              "            <td style=\"padding: 0 1em 0 0.5em; text-align: right; border: none;\">\n",
              "                0.0008\n",
              "                \n",
              "                    &plusmn; 0.0000\n",
              "                \n",
              "            </td>\n",
              "            <td style=\"padding: 0 0.5em 0 0.5em; text-align: left; border: none;\">\n",
              "                City\n",
              "            </td>\n",
              "        </tr>\n",
              "    \n",
              "    \n",
              "    </tbody>\n",
              "</table>\n",
              "    \n",
              "\n",
              "    \n",
              "\n",
              "\n",
              "    \n",
              "\n",
              "    \n",
              "\n",
              "    \n",
              "\n",
              "    \n",
              "\n",
              "    \n",
              "\n",
              "    \n",
              "\n",
              "\n",
              "\n"
            ],
            "text/plain": [
              "<IPython.core.display.HTML object>"
            ]
          },
          "metadata": {
            "tags": []
          },
          "execution_count": 99
        }
      ]
    },
    {
      "metadata": {
        "id": "sI6RbAIYdA5x",
        "colab_type": "code",
        "colab": {}
      },
      "cell_type": "code",
      "source": [
        ""
      ],
      "execution_count": 0,
      "outputs": []
    }
  ]
}
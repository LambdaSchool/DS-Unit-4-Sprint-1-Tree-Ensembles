{
 "cells": [
  {
   "cell_type": "markdown",
   "metadata": {},
   "source": [
    "# Data Science Unit 4 Sprint Challenge 1 — Tree Ensembles"
   ]
  },
  {
   "cell_type": "markdown",
   "metadata": {},
   "source": [
    "### Chicago Food Inspections\n",
    "\n",
    "For this Sprint Challenge, you'll use a dataset with information from inspections of restaurants and other food establishments in Chicago from January 1, 2010 to the present. \n",
    "\n",
    "[See this PDF](https://data.cityofchicago.org/api/assets/BAD5301B-681A-4202-9D25-51B2CAE672FF) for descriptions of the data elements included in this dataset.\n",
    "\n",
    "According to [Chicago Department of Public Health — Food Protection Services](https://www.chicago.gov/city/en/depts/cdph/provdrs/healthy_restaurants/svcs/food-protection-services.html), \"Chicago is home to 16,000 food establishments like restaurants, grocery stores, bakeries, wholesalers, lunchrooms, mobile food vendors and more. Our business is food safety and sanitation with one goal, to prevent the spread of food-borne disease. We do this by inspecting food businesses, responding to complaints and food recalls.\" "
   ]
  },
  {
   "cell_type": "markdown",
   "metadata": {},
   "source": [
    "#### Your challenge: Predict whether inspections failed\n",
    "\n",
    "The target is the `Fail` column.\n",
    "\n",
    "- When the food establishment failed the inspection, the target is `1`.\n",
    "- When the establishment passed, the target is `0`."
   ]
  },
  {
   "cell_type": "markdown",
   "metadata": {},
   "source": [
    "#### Run this cell to load the data:"
   ]
  },
  {
   "cell_type": "code",
   "execution_count": 1,
   "metadata": {},
   "outputs": [],
   "source": [
    "import category_encoders as ce\n",
    "import matplotlib.pyplot as plt\n",
    "import numpy as np\n",
    "import pandas as pd\n",
    "import seaborn as sns\n",
    "\n",
    "from folium import folium, plugins\n",
    "from sklearn.metrics import roc_auc_score, accuracy_score\n",
    "from sklearn.model_selection import train_test_split\n",
    "from sklearn.preprocessing import OrdinalEncoder\n",
    "from xgboost import plot_importance, XGBClassifier\n",
    "from IPython.display import HTML\n",
    "\n",
    "%matplotlib inline\n",
    "plt.rcParams['figure.figsize'] = 15, 12"
   ]
  },
  {
   "cell_type": "code",
   "execution_count": 3,
   "metadata": {},
   "outputs": [
    {
     "name": "stdout",
     "output_type": "stream",
     "text": [
      "Initial Data: \n",
      "Train data shape: (51916, 17) \n",
      " Test data shape: (17306, 17)\n",
      "\n",
      "\n",
      " Dropped invalid License data : \n",
      " Train data shape: (51916, 5) \n",
      " Test data shape: (17306, 5)\n",
      "\n",
      "\n",
      " Removed failed inspection entries : \n",
      " Train data shape: (51916, 5) \n",
      " Test data shape: (17306, 5)\n",
      "\n",
      "\n",
      " Dropped inspection types that are not representative of normal business operations:            \n",
      " Train data shape: (51916, 5) \n",
      " Test data shape: (17306, 5)\n",
      "\n",
      "\n",
      " Dropped inspection locations for hospitals and schools:            \n",
      " Train data shape: (41168, 5) \n",
      " Test data shape: (13729, 5)\n"
     ]
    },
    {
     "data": {
      "text/html": [
       "<div>\n",
       "<style scoped>\n",
       "    .dataframe tbody tr th:only-of-type {\n",
       "        vertical-align: middle;\n",
       "    }\n",
       "\n",
       "    .dataframe tbody tr th {\n",
       "        vertical-align: top;\n",
       "    }\n",
       "\n",
       "    .dataframe thead th {\n",
       "        text-align: right;\n",
       "    }\n",
       "</style>\n",
       "<table border=\"1\" class=\"dataframe\">\n",
       "  <thead>\n",
       "    <tr style=\"text-align: right;\">\n",
       "      <th></th>\n",
       "      <th>Risk_0</th>\n",
       "      <th>Risk_1</th>\n",
       "      <th>Risk_2</th>\n",
       "      <th>Facility Type_0</th>\n",
       "      <th>Facility Type_1</th>\n",
       "      <th>Inspection Type_0</th>\n",
       "      <th>Inspection Type_1</th>\n",
       "      <th>Inspection Type_2</th>\n",
       "      <th>Inspection Type_3</th>\n",
       "      <th>Inspection Type_4</th>\n",
       "      <th>Inspection Type_5</th>\n",
       "      <th>Inspection Type_6</th>\n",
       "      <th>Violations</th>\n",
       "      <th>Fail</th>\n",
       "    </tr>\n",
       "  </thead>\n",
       "  <tbody>\n",
       "    <tr>\n",
       "      <th>0</th>\n",
       "      <td>0</td>\n",
       "      <td>0</td>\n",
       "      <td>1</td>\n",
       "      <td>0</td>\n",
       "      <td>1</td>\n",
       "      <td>0</td>\n",
       "      <td>0</td>\n",
       "      <td>0</td>\n",
       "      <td>0</td>\n",
       "      <td>0</td>\n",
       "      <td>0</td>\n",
       "      <td>1</td>\n",
       "      <td>3.0</td>\n",
       "      <td>1</td>\n",
       "    </tr>\n",
       "    <tr>\n",
       "      <th>1</th>\n",
       "      <td>0</td>\n",
       "      <td>1</td>\n",
       "      <td>0</td>\n",
       "      <td>1</td>\n",
       "      <td>0</td>\n",
       "      <td>0</td>\n",
       "      <td>0</td>\n",
       "      <td>0</td>\n",
       "      <td>0</td>\n",
       "      <td>0</td>\n",
       "      <td>1</td>\n",
       "      <td>0</td>\n",
       "      <td>32.0</td>\n",
       "      <td>0</td>\n",
       "    </tr>\n",
       "    <tr>\n",
       "      <th>2</th>\n",
       "      <td>0</td>\n",
       "      <td>0</td>\n",
       "      <td>1</td>\n",
       "      <td>0</td>\n",
       "      <td>1</td>\n",
       "      <td>0</td>\n",
       "      <td>0</td>\n",
       "      <td>0</td>\n",
       "      <td>0</td>\n",
       "      <td>0</td>\n",
       "      <td>1</td>\n",
       "      <td>1</td>\n",
       "      <td>35.0</td>\n",
       "      <td>0</td>\n",
       "    </tr>\n",
       "    <tr>\n",
       "      <th>3</th>\n",
       "      <td>0</td>\n",
       "      <td>1</td>\n",
       "      <td>1</td>\n",
       "      <td>0</td>\n",
       "      <td>1</td>\n",
       "      <td>0</td>\n",
       "      <td>0</td>\n",
       "      <td>0</td>\n",
       "      <td>0</td>\n",
       "      <td>0</td>\n",
       "      <td>0</td>\n",
       "      <td>1</td>\n",
       "      <td>38.0</td>\n",
       "      <td>0</td>\n",
       "    </tr>\n",
       "    <tr>\n",
       "      <th>6</th>\n",
       "      <td>0</td>\n",
       "      <td>1</td>\n",
       "      <td>1</td>\n",
       "      <td>0</td>\n",
       "      <td>1</td>\n",
       "      <td>0</td>\n",
       "      <td>0</td>\n",
       "      <td>0</td>\n",
       "      <td>0</td>\n",
       "      <td>0</td>\n",
       "      <td>0</td>\n",
       "      <td>1</td>\n",
       "      <td>30.0</td>\n",
       "      <td>0</td>\n",
       "    </tr>\n",
       "  </tbody>\n",
       "</table>\n",
       "</div>"
      ],
      "text/plain": [
       "   Risk_0  Risk_1  Risk_2  Facility Type_0  Facility Type_1  \\\n",
       "0       0       0       1                0                1   \n",
       "1       0       1       0                1                0   \n",
       "2       0       0       1                0                1   \n",
       "3       0       1       1                0                1   \n",
       "6       0       1       1                0                1   \n",
       "\n",
       "   Inspection Type_0  Inspection Type_1  Inspection Type_2  Inspection Type_3  \\\n",
       "0                  0                  0                  0                  0   \n",
       "1                  0                  0                  0                  0   \n",
       "2                  0                  0                  0                  0   \n",
       "3                  0                  0                  0                  0   \n",
       "6                  0                  0                  0                  0   \n",
       "\n",
       "   Inspection Type_4  Inspection Type_5  Inspection Type_6  Violations  Fail  \n",
       "0                  0                  0                  1         3.0     1  \n",
       "1                  0                  1                  0        32.0     0  \n",
       "2                  0                  1                  1        35.0     0  \n",
       "3                  0                  0                  1        38.0     0  \n",
       "6                  0                  0                  1        30.0     0  "
      ]
     },
     "execution_count": 3,
     "metadata": {},
     "output_type": "execute_result"
    }
   ],
   "source": [
    "# binary encoding of violations\n",
    "def binary_violations(violations_data):\n",
    "    values_row = pd.Series([])\n",
    "    if type(violations_data) == str:\n",
    "        violations_data = violations_data.split(' | ')\n",
    "        for violation in violations_data:\n",
    "            index = \"v\" + violation.split('.')[0]\n",
    "            values_row[index] = 1\n",
    "    return values_row\n",
    "# ===============================================PROCESSING==========================================================\n",
    "# main processing utility\n",
    "def clean_fix_encode():\n",
    "    \n",
    "    train_url = 'food-inspections-train.csv'\n",
    "    test_url  = 'food-inspections-test.csv'\n",
    "\n",
    "    train = pd.read_csv(train_url)\n",
    "    test  = pd.read_csv(test_url)\n",
    "    \n",
    "    print(\"Initial Data: \\nTrain data shape:\", train.shape, '\\n', \"Test data shape:\", test.shape)\n",
    "\n",
    "    assert train.shape == (51916, 17)\n",
    "    assert test.shape  == (17306, 17)\n",
    "    \n",
    "    train = train.drop(columns=[\"License #\", 'DBA Name', 'Inspection Date',  'Location', \"Address\", \"City\", \"State\", \"Zip\",\n",
    "                                \"Inspection ID\", 'AKA Name', 'Latitude', 'Longitude'])\n",
    "    test = test.drop(columns=[\"License #\", 'DBA Name', 'Inspection Date', 'Location', \"Address\", \"City\", \"State\", \"Zip\", \n",
    "                              \"Inspection ID\", 'AKA Name', 'Latitude', 'Longitude'])\n",
    "    \n",
    "    print(\"\\n\\n Dropped invalid License data : \\n Train data shape:\", train.shape, '\\n', \"Test data shape:\", test.shape)\n",
    "    \n",
    "    train = train[~train.isin([\"Out of Business\", \"Business Not Located\", \"No Entry\"])]\n",
    "    test = test[~train.isin([\"Out of Business\", \"Business Not Located\", \"No Entry\"])]\n",
    "    \n",
    "    print(\"\\n\\n Removed failed inspection entries : \\n Train data shape:\", train.shape, '\\n', \"Test data shape:\", test.shape)\n",
    "    \n",
    "    print(\"\\n\\n Dropped inspection types that are not representative of normal business operations: \\\n",
    "           \\n Train data shape:\", train.shape, '\\n', \"Test data shape:\", test.shape)\n",
    "    \n",
    "    train = train[train['Facility Type'].isin([\"Restaurant\", \"Grocery Store\"])]\n",
    "    test = test[test['Facility Type'].isin([\"Restaurant\", \"Grocery Store\"])]\n",
    "    \n",
    "    print(\"\\n\\n Dropped inspection locations for hospitals and schools: \\\n",
    "           \\n Train data shape:\", train.shape, '\\n', \"Test data shape:\", test.shape)  \n",
    "    \n",
    "    # ===============================================ENCODING==========================================================\n",
    "    \n",
    "    train['Violations'] = train['Violations'].str.extract('(\\d+)', expand=False)\n",
    "    test['Violations'] = test['Violations'].str.extract('(\\d+)', expand=False)\n",
    "    \n",
    "    train['Violations'] = train['Violations'].astype(float)\n",
    "    test['Violations'] = test['Violations'].astype(float)\n",
    "    \n",
    "    ce_binary = ce.BinaryEncoder(cols = ['Risk', 'Facility Type', 'Inspection Type'])\n",
    "    train = ce_binary.fit_transform(train)\n",
    "    test = ce_binary.transform(test)\n",
    "    \n",
    "    #enc = OrdinalEncoder()\n",
    "    \n",
    "    #train = train.dropna(subset=['AKA Name'])\n",
    "    #train = enc.fit_transform(train['AKA Name'].values.reshape(-1,1))\n",
    "    #test = enc.fit_transform(test['AKA Name'])\n",
    "    \n",
    "    return train, test\n",
    "    \n",
    "train, test = clean_fix_encode()\n",
    "\n",
    "\n",
    "train.head()"
   ]
  },
  {
   "cell_type": "markdown",
   "metadata": {},
   "source": [
    "# XGBOOST Model \n",
    "Okay, i'm going to be honest, either I accidentally made an incredible model, or im doing something very wrong to get such a high AUC ROC score.\n",
    "Something bugging me is if the license number should be included? I tried to get some domain knowledge, I know I needed to drop the inspection number, because that's sort of seeing into the future. You cannot have an inspection number without the inspection taking place, but the license may or may not have pre-existed. \n",
    "\n",
    "## Edited\n",
    "\n",
    "With the license # i get auc roc of .98\n",
    "\n",
    "Without I get the same, so I guess it really does not matter too much"
   ]
  },
  {
   "cell_type": "code",
   "execution_count": 4,
   "metadata": {},
   "outputs": [
    {
     "name": "stdout",
     "output_type": "stream",
     "text": [
      "1 \t ROC AUC SCORE: 0.9849453018564835\n",
      "2 \t ROC AUC SCORE: 0.987360444993276\n",
      "3 \t ROC AUC SCORE: 0.989125164938012\n",
      "4 \t ROC AUC SCORE: 0.9905843683004667\n"
     ]
    }
   ],
   "source": [
    "X = train.drop(columns=['Fail'])\n",
    "y = train['Fail']\n",
    "\n",
    "X_train, X_test, y_train, y_test = train_test_split(X, y, test_size=0.2, random_state=42, stratify=y)\n",
    "\n",
    "X_train = train.drop(columns='Fail')\n",
    "y_train = train['Fail']\n",
    "\n",
    "X_test = test.drop(columns='Fail')\n",
    "y_test = test['Fail']\n",
    "\n",
    "for i in range(1, 5):\n",
    "    probs = XGBClassifier(max_depth=i, n_jobs=-1).fit(X_train, y_train).predict_proba(X_test)[:,1]\n",
    "    print(i, \"\\t ROC AUC SCORE:\", roc_auc_score(y_test, probs))"
   ]
  },
  {
   "cell_type": "markdown",
   "metadata": {},
   "source": [
    "# I removed latitude and longitude to simplify my model as much as possible\n",
    "So this is not working :D\n"
   ]
  },
  {
   "cell_type": "code",
   "execution_count": 5,
   "metadata": {},
   "outputs": [
    {
     "ename": "KeyError",
     "evalue": "\"None of [Index(['Latitude', 'Longitude'], dtype='object')] are in the [columns]\"",
     "output_type": "error",
     "traceback": [
      "\u001b[1;31m---------------------------------------------------------------------------\u001b[0m",
      "\u001b[1;31mKeyError\u001b[0m                                  Traceback (most recent call last)",
      "\u001b[1;32m<ipython-input-5-5a6715ba0fcb>\u001b[0m in \u001b[0;36m<module>\u001b[1;34m\u001b[0m\n\u001b[0;32m      4\u001b[0m \u001b[1;31m# Convert to (n, 2) nd-array format for heatmap\u001b[0m\u001b[1;33m\u001b[0m\u001b[1;33m\u001b[0m\u001b[1;33m\u001b[0m\u001b[0m\n\u001b[0;32m      5\u001b[0m \u001b[0mtrain_map\u001b[0m \u001b[1;33m=\u001b[0m \u001b[0mtrain\u001b[0m\u001b[1;33m.\u001b[0m\u001b[0mdropna\u001b[0m\u001b[1;33m(\u001b[0m\u001b[1;33m)\u001b[0m\u001b[1;33m\u001b[0m\u001b[1;33m\u001b[0m\u001b[0m\n\u001b[1;32m----> 6\u001b[1;33m \u001b[0minspections_sample\u001b[0m \u001b[1;33m=\u001b[0m \u001b[0mtrain_map\u001b[0m\u001b[1;33m.\u001b[0m\u001b[0msample\u001b[0m\u001b[1;33m(\u001b[0m\u001b[1;36m10000\u001b[0m\u001b[1;33m)\u001b[0m\u001b[1;33m[\u001b[0m\u001b[1;33m[\u001b[0m\u001b[1;34m\"Latitude\"\u001b[0m\u001b[1;33m,\u001b[0m \u001b[1;34m\"Longitude\"\u001b[0m\u001b[1;33m]\u001b[0m\u001b[1;33m]\u001b[0m\u001b[1;33m.\u001b[0m\u001b[0mvalues\u001b[0m\u001b[1;33m\u001b[0m\u001b[1;33m\u001b[0m\u001b[0m\n\u001b[0m\u001b[0;32m      7\u001b[0m \u001b[1;33m\u001b[0m\u001b[0m\n\u001b[0;32m      8\u001b[0m \u001b[1;31m# Plot heatmap\u001b[0m\u001b[1;33m\u001b[0m\u001b[1;33m\u001b[0m\u001b[1;33m\u001b[0m\u001b[0m\n",
      "\u001b[1;32mC:\\ProgramData\\Anaconda3\\envs\\Data_Science_Learning\\lib\\site-packages\\pandas\\core\\frame.py\u001b[0m in \u001b[0;36m__getitem__\u001b[1;34m(self, key)\u001b[0m\n\u001b[0;32m   2932\u001b[0m                 \u001b[0mkey\u001b[0m \u001b[1;33m=\u001b[0m \u001b[0mlist\u001b[0m\u001b[1;33m(\u001b[0m\u001b[0mkey\u001b[0m\u001b[1;33m)\u001b[0m\u001b[1;33m\u001b[0m\u001b[1;33m\u001b[0m\u001b[0m\n\u001b[0;32m   2933\u001b[0m             indexer = self.loc._convert_to_indexer(key, axis=1,\n\u001b[1;32m-> 2934\u001b[1;33m                                                    raise_missing=True)\n\u001b[0m\u001b[0;32m   2935\u001b[0m \u001b[1;33m\u001b[0m\u001b[0m\n\u001b[0;32m   2936\u001b[0m         \u001b[1;31m# take() does not accept boolean indexers\u001b[0m\u001b[1;33m\u001b[0m\u001b[1;33m\u001b[0m\u001b[1;33m\u001b[0m\u001b[0m\n",
      "\u001b[1;32mC:\\ProgramData\\Anaconda3\\envs\\Data_Science_Learning\\lib\\site-packages\\pandas\\core\\indexing.py\u001b[0m in \u001b[0;36m_convert_to_indexer\u001b[1;34m(self, obj, axis, is_setter, raise_missing)\u001b[0m\n\u001b[0;32m   1352\u001b[0m                 kwargs = {'raise_missing': True if is_setter else\n\u001b[0;32m   1353\u001b[0m                           raise_missing}\n\u001b[1;32m-> 1354\u001b[1;33m                 \u001b[1;32mreturn\u001b[0m \u001b[0mself\u001b[0m\u001b[1;33m.\u001b[0m\u001b[0m_get_listlike_indexer\u001b[0m\u001b[1;33m(\u001b[0m\u001b[0mobj\u001b[0m\u001b[1;33m,\u001b[0m \u001b[0maxis\u001b[0m\u001b[1;33m,\u001b[0m \u001b[1;33m**\u001b[0m\u001b[0mkwargs\u001b[0m\u001b[1;33m)\u001b[0m\u001b[1;33m[\u001b[0m\u001b[1;36m1\u001b[0m\u001b[1;33m]\u001b[0m\u001b[1;33m\u001b[0m\u001b[1;33m\u001b[0m\u001b[0m\n\u001b[0m\u001b[0;32m   1355\u001b[0m         \u001b[1;32melse\u001b[0m\u001b[1;33m:\u001b[0m\u001b[1;33m\u001b[0m\u001b[1;33m\u001b[0m\u001b[0m\n\u001b[0;32m   1356\u001b[0m             \u001b[1;32mtry\u001b[0m\u001b[1;33m:\u001b[0m\u001b[1;33m\u001b[0m\u001b[1;33m\u001b[0m\u001b[0m\n",
      "\u001b[1;32mC:\\ProgramData\\Anaconda3\\envs\\Data_Science_Learning\\lib\\site-packages\\pandas\\core\\indexing.py\u001b[0m in \u001b[0;36m_get_listlike_indexer\u001b[1;34m(self, key, axis, raise_missing)\u001b[0m\n\u001b[0;32m   1159\u001b[0m         self._validate_read_indexer(keyarr, indexer,\n\u001b[0;32m   1160\u001b[0m                                     \u001b[0mo\u001b[0m\u001b[1;33m.\u001b[0m\u001b[0m_get_axis_number\u001b[0m\u001b[1;33m(\u001b[0m\u001b[0maxis\u001b[0m\u001b[1;33m)\u001b[0m\u001b[1;33m,\u001b[0m\u001b[1;33m\u001b[0m\u001b[1;33m\u001b[0m\u001b[0m\n\u001b[1;32m-> 1161\u001b[1;33m                                     raise_missing=raise_missing)\n\u001b[0m\u001b[0;32m   1162\u001b[0m         \u001b[1;32mreturn\u001b[0m \u001b[0mkeyarr\u001b[0m\u001b[1;33m,\u001b[0m \u001b[0mindexer\u001b[0m\u001b[1;33m\u001b[0m\u001b[1;33m\u001b[0m\u001b[0m\n\u001b[0;32m   1163\u001b[0m \u001b[1;33m\u001b[0m\u001b[0m\n",
      "\u001b[1;32mC:\\ProgramData\\Anaconda3\\envs\\Data_Science_Learning\\lib\\site-packages\\pandas\\core\\indexing.py\u001b[0m in \u001b[0;36m_validate_read_indexer\u001b[1;34m(self, key, indexer, axis, raise_missing)\u001b[0m\n\u001b[0;32m   1244\u001b[0m                 raise KeyError(\n\u001b[0;32m   1245\u001b[0m                     u\"None of [{key}] are in the [{axis}]\".format(\n\u001b[1;32m-> 1246\u001b[1;33m                         key=key, axis=self.obj._get_axis_name(axis)))\n\u001b[0m\u001b[0;32m   1247\u001b[0m \u001b[1;33m\u001b[0m\u001b[0m\n\u001b[0;32m   1248\u001b[0m             \u001b[1;31m# We (temporarily) allow for some missing keys with .loc, except in\u001b[0m\u001b[1;33m\u001b[0m\u001b[1;33m\u001b[0m\u001b[1;33m\u001b[0m\u001b[0m\n",
      "\u001b[1;31mKeyError\u001b[0m: \"None of [Index(['Latitude', 'Longitude'], dtype='object')] are in the [columns]\""
     ]
    }
   ],
   "source": [
    "# Generate map\n",
    "inspection_map = folium.Map([41.8600, -87.6298], zoom_start=10)\n",
    "\n",
    "# Convert to (n, 2) nd-array format for heatmap\n",
    "train_map = train.dropna()\n",
    "inspections_sample = train_map.sample(10000)[[\"Latitude\", \"Longitude\"]].values\n",
    "\n",
    "# Plot heatmap\n",
    "inspection_map.add_child(plugins.HeatMap(inspections_sample.tolist(), radius=10))"
   ]
  },
  {
   "cell_type": "markdown",
   "metadata": {},
   "source": [
    "# Feature importance "
   ]
  },
  {
   "cell_type": "code",
   "execution_count": 6,
   "metadata": {},
   "outputs": [
    {
     "data": {
      "image/png": "[encoded data removed]",
      "text/plain": [
       "<Figure size 432x288 with 1 Axes>"
      ]
     },
     "metadata": {
      "needs_background": "light"
     },
     "output_type": "display_data"
    }
   ],
   "source": [
    "model = XGBClassifier(max_depth=5, n_jobs=-1).fit(X_train, y_train)\n",
    "importances = model.feature_importances_\n",
    "\n",
    "plot_importance(model)\n",
    "plt.show()"
   ]
  },
  {
   "cell_type": "markdown",
   "metadata": {},
   "source": [
    "### Part 1: Preprocessing\n",
    "\n",
    "You may choose which features you want to use, and whether/how you will preprocess them. You may use any tools and techniques for categorical encoding. (Pandas, category_encoders, sklearn.preprocessing, or any other library.)\n",
    "\n",
    "_To earn a score of 3 for this part, engineer new features, and use any alternative categorical encoding instead of One-Hot or Ordinal/Label encoding._\n",
    "\n",
    "### Part 2: Modeling\n",
    "\n",
    "Fit a Random Forest or Gradient Boosting model with the train set. (You may use scikit-learn, xgboost, or any other library.) Use cross-validation to estimate an ROC AUC validation score.\n",
    "\n",
    "Use your model to predict probabilities for the test set. Get an ROC AUC test score >= 0.60.\n",
    "\n",
    "_To earn a score of 3 for this part, get an ROC AUC test score >= 0.70._\n",
    "\n",
    "\n",
    "### Part 3: Visualization\n",
    "\n",
    "Make one visualization for model interpretation. (You may use any libraries.) Choose one of these types:\n",
    "- Feature Importances\n",
    "- Permutation Importances\n",
    "- Partial Dependence Plot\n",
    "\n",
    "_To earn a score of 3 for this part, make at least two of these visualization types._"
   ]
  }
 ],
 "metadata": {
  "kernelspec": {
   "display_name": "Python 3",
   "language": "python",
   "name": "python3"
  },
  "language_info": {
   "codemirror_mode": {
    "name": "ipython",
    "version": 3
   },
   "file_extension": ".py",
   "mimetype": "text/x-python",
   "name": "python",
   "nbconvert_exporter": "python",
   "pygments_lexer": "ipython3",
   "version": "3.7.2"
  }
 },
 "nbformat": 4,
 "nbformat_minor": 2
}

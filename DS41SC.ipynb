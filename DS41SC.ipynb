{
 "cells": [
  {
   "cell_type": "markdown",
   "metadata": {},
   "source": [
    "# Data Science Unit 4 Sprint Challenge 1 — Tree Ensembles"
   ]
  },
  {
   "cell_type": "markdown",
   "metadata": {},
   "source": [
    "### Chicago Food Inspections\n",
    "\n",
    "For this Sprint Challenge, you'll use a dataset with information from inspections of restaurants and other food establishments in Chicago from January 1, 2010 to the present. \n",
    "\n",
    "[See this PDF](https://data.cityofchicago.org/api/assets/BAD5301B-681A-4202-9D25-51B2CAE672FF) for descriptions of the data elements included in this dataset.\n",
    "\n",
    "According to [Chicago Department of Public Health — Food Protection Services](https://www.chicago.gov/city/en/depts/cdph/provdrs/healthy_restaurants/svcs/food-protection-services.html), \"Chicago is home to 16,000 food establishments like restaurants, grocery stores, bakeries, wholesalers, lunchrooms, mobile food vendors and more. Our business is food safety and sanitation with one goal, to prevent the spread of food-borne disease. We do this by inspecting food businesses, responding to complaints and food recalls.\" "
   ]
  },
  {
   "cell_type": "markdown",
   "metadata": {},
   "source": [
    "#### Your challenge: Predict whether inspections failed\n",
    "\n",
    "The target is the `Fail` column.\n",
    "\n",
    "- When the food establishment failed the inspection, the target is `1`.\n",
    "- When the establishment passed, the target is `0`."
   ]
  },
  {
   "cell_type": "markdown",
   "metadata": {},
   "source": [
    "#### Run this cell to load the data:"
   ]
  },
  {
   "cell_type": "code",
   "execution_count": 1,
   "metadata": {},
   "outputs": [],
   "source": [
    "import pandas as pd\n",
    "\n",
    "train_url = 'https://drive.google.com/uc?export=download&id=13_tP9JpLcZHSPVpWcua4t2rY44K_s4H5'\n",
    "test_url  = 'https://drive.google.com/uc?export=download&id=1GkDHjsiGrzOXoF_xcYjdzBTSjOIi3g5a'\n",
    "\n",
    "train = pd.read_csv(train_url)\n",
    "test  = pd.read_csv(test_url)\n",
    "\n",
    "assert train.shape == (51916, 17)\n",
    "assert test.shape  == (17306, 17)"
   ]
  },
  {
   "cell_type": "markdown",
   "metadata": {},
   "source": [
    "### Notes\n",
    "* AKA not necessary - drop\n",
    "* License number has more unique values than DBA - may be because of franchises. Drop DBA and keep License Number for identification. Keep Nans for License number b/c xgboost can handle it\n",
    "* Drop City - no real variance\n",
    "* Drop State - no variance\n",
    "* Target encode Zip\n",
    "* Inspection Date to datetime\n",
    "* Target encode Inspection Type\n",
    "* Drop Long and Lat"
   ]
  },
  {
   "cell_type": "markdown",
   "metadata": {},
   "source": [
    "### Build Encoding Function"
   ]
  },
  {
   "cell_type": "code",
   "execution_count": 84,
   "metadata": {},
   "outputs": [],
   "source": [
    "import numpy as np\n",
    "# create target encoder function\n",
    "def target_encoder(df,col,target,alpha=100):\n",
    "    gb_obj = df.groupby(col)[target].agg(['mean', 'count'])\n",
    "    target_mean = df[target].mean()\n",
    "    alpha=alpha\n",
    "    gb_obj['encoder'] = ((gb_obj['mean']*gb_obj['count'])+(target_mean*alpha))/(gb_obj['count']+alpha)\n",
    "    \n",
    "    target_encoder = gb_obj['encoder'].to_dict()\n",
    "   # target_encoder['nan'] = np.NaN\n",
    "    target_encoder[999.0] = np.NaN\n",
    "    return target_encoder"
   ]
  },
  {
   "cell_type": "markdown",
   "metadata": {},
   "source": [
    "# Do not mess with encoding dictionaries"
   ]
  },
  {
   "cell_type": "code",
   "execution_count": 100,
   "metadata": {},
   "outputs": [],
   "source": [
    "# create target encoder dictionary (not worried about overfit with\n",
    "# train data, so use all points)\n",
    "new = train.copy()\n",
    "new['Violations'] = new['Violations'].str.extract('(\\d\\d)', expand=True)\n",
    "        \n",
    "zip_enc = target_encoder(new, 'Zip', 'Fail')\n",
    "inspection_enc = target_encoder(new, 'Inspection Type', 'Fail')\n",
    "violations_enc = target_encoder(new, 'Violations', 'Fail')\n",
    "facility_enc = target_encoder(new, 'Facility Type', 'Fail')"
   ]
  },
  {
   "cell_type": "markdown",
   "metadata": {},
   "source": [
    "### wrangling function"
   ]
  },
  {
   "cell_type": "code",
   "execution_count": 146,
   "metadata": {},
   "outputs": [],
   "source": [
    "def wrangle(x):\n",
    "        X = x.copy()\n",
    "        # Drop\n",
    "        X = X.drop(['Inspection ID', 'DBA Name', 'AKA Name', \n",
    "                    'Address','City', 'State', 'Latitude', \n",
    "                    'Longitude', 'Location'], axis=1)\n",
    "        \n",
    "        # Handle Dates\n",
    "        X['Inspection Date'] = pd.to_datetime(X['Inspection Date'])\n",
    "\n",
    "        X['DayOfWeek of Inspection'] = X['Inspection Date'].dt.dayofweek\n",
    "        X['Day of Inspection'] = X['Inspection Date'].dt.day\n",
    "        X['Month of Inspection'] = X['Inspection Date'].dt.month\n",
    "        X['Year of Inspection'] = X['Inspection Date'].dt.year\n",
    "        \n",
    "        # Drop Date b/c xgboost doesn't like it\n",
    "        X = X.drop('Inspection Date', axis=1)\n",
    "        \n",
    "        # Handle Violations to string\n",
    "        X['Violations'] = X['Violations'].str.extract('(\\d\\d)', expand=True)\n",
    "        \n",
    "        # Clean unknown zips\n",
    "        def clean_zips(zip_x):\n",
    "            if zip_x not in train['Zip'].to_list():\n",
    "                zip_x = 999\n",
    "        X['Zip'] = X['Zip'].fillna(999).apply(lambda x: clean_zips(x))    \n",
    "\n",
    "        # Clean unknown inspection types\n",
    "        def clean_inspection(insp_x):\n",
    "            if insp_x not in train['Inspection Type'].to_list():\n",
    "                insp_x = 999\n",
    "        X['Inspection Type'] = X['Inspection Type'].fillna(999).apply(lambda x: clean_inspection(x)) \n",
    "        \n",
    "        # Clean unknown violation types\n",
    "        def clean_violations(viol_x):\n",
    "            if viol_x not in train['Violations'].to_list():\n",
    "                viol_x = 999\n",
    "        X['Violations'] = X['Violations'].fillna(999).apply(lambda x: clean_violations(x)) \n",
    "        \n",
    "        # Clean unknown facility types\n",
    "        def clean_facility(faci_x):\n",
    "            if faci_x not in train['Violations'].to_list():\n",
    "                faci_x = 999\n",
    "        X['Facility Type'] = X['Facility Type'].fillna(999).apply(lambda x: clean_facility(x))\n",
    "        \n",
    "        # Target encode \n",
    "        X['Zip'] = X['Zip'].fillna(999).apply(lambda x: zip_enc[x])\n",
    "        X['Inspection Type'] = X['Inspection Type'].fillna(999).apply(lambda x: inspection_enc[x])\n",
    "        X['Violations'] = X['Violations'].fillna(999).apply(lambda x: violations_enc[x])\n",
    "        X['Facility Type'] = X['Facility Type'].fillna(999).apply(lambda x: facility_enc[x])\n",
    "        \n",
    "        # Fix Risk\n",
    "        risk_dic = {'Risk 1 (High)':1, 'Risk 2 (Medium)': 2,\n",
    "                   'Risk 3 (Low)': 3}\n",
    "        X['Risk'] = X['Risk'].map(risk_dic)\n",
    "        return X\n",
    "\n"
   ]
  },
  {
   "cell_type": "code",
   "execution_count": 141,
   "metadata": {},
   "outputs": [],
   "source": [
    "a = wrangle(train)"
   ]
  },
  {
   "cell_type": "code",
   "execution_count": 119,
   "metadata": {},
   "outputs": [
    {
     "data": {
      "text/plain": [
       "License #                  float64\n",
       "Facility Type              float64\n",
       "Risk                       float64\n",
       "Zip                        float64\n",
       "Inspection Type            float64\n",
       "Violations                 float64\n",
       "Fail                         int64\n",
       "DayOfWeek of Inspection      int64\n",
       "Day of Inspection            int64\n",
       "Month of Inspection          int64\n",
       "Year of Inspection           int64\n",
       "dtype: object"
      ]
     },
     "execution_count": 119,
     "metadata": {},
     "output_type": "execute_result"
    }
   ],
   "source": [
    "a.dtypes"
   ]
  },
  {
   "cell_type": "markdown",
   "metadata": {},
   "source": [
    "# Begin Modeling\n",
    "### Initial training"
   ]
  },
  {
   "cell_type": "code",
   "execution_count": 120,
   "metadata": {},
   "outputs": [],
   "source": [
    "train_wrangled = wrangle(train)\n",
    "X_train = train_wrangled.drop('Fail', axis=1)\n",
    "y_train = train_wrangled['Fail']"
   ]
  },
  {
   "cell_type": "code",
   "execution_count": 121,
   "metadata": {},
   "outputs": [],
   "source": [
    "from sklearn.model_selection import train_test_split\n",
    "\n",
    "X_train, X_val, y_train, y_val = train_test_split(\n",
    "    X_train, y_train, test_size=0.25, random_state=42)\n"
   ]
  },
  {
   "cell_type": "code",
   "execution_count": 136,
   "metadata": {},
   "outputs": [
    {
     "name": "stdout",
     "output_type": "stream",
     "text": [
      "ROC AUC Score 0.9883853798964317\n"
     ]
    }
   ],
   "source": [
    "from sklearn.model_selection import cross_val_score\n",
    "from xgboost import XGBClassifier\n",
    "from sklearn.metrics import roc_auc_score\n",
    "\n",
    "model = XGBClassifier()\n",
    "#cross_val_score(model, X_train, y_train, scoring='roc_auc', cv=5, n_jobs=-1)\n",
    "\n",
    "model.fit(X_train, y_train)\n",
    "\n",
    "preds = model.predict_proba(X_val)[:,1]\n",
    "print ('ROC AUC Score',roc_auc_score(y_val,preds))"
   ]
  },
  {
   "cell_type": "code",
   "execution_count": 135,
   "metadata": {},
   "outputs": [
    {
     "data": {
      "text/plain": [
       "XGBClassifier(base_score=0.5, booster='gbtree', colsample_bylevel=1,\n",
       "       colsample_bytree=1, gamma=0, learning_rate=0.1, max_delta_step=0,\n",
       "       max_depth=3, min_child_weight=1, missing=None, n_estimators=100,\n",
       "       n_jobs=1, nthread=None, objective='binary:logistic', random_state=0,\n",
       "       reg_alpha=0, reg_lambda=1, scale_pos_weight=1, seed=None,\n",
       "       silent=True, subsample=1)"
      ]
     },
     "execution_count": 135,
     "metadata": {},
     "output_type": "execute_result"
    }
   ],
   "source": [
    "# go ahead and fit on all of the data\n",
    "train_wrangled = wrangle(train)\n",
    "X_train = train_wrangled.drop('Fail', axis=1)\n",
    "y_train = train_wrangled['Fail']\n",
    "\n",
    "model.fit(X_train, y_train)"
   ]
  },
  {
   "cell_type": "code",
   "execution_count": 147,
   "metadata": {},
   "outputs": [
    {
     "name": "stdout",
     "output_type": "stream",
     "text": [
      "ROC AUC Score 0.9877590012855704\n"
     ]
    }
   ],
   "source": [
    "test_wrangled = wrangle(test)\n",
    "X_test = train_wrangled.drop('Fail', axis=1)\n",
    "y_test = train_wrangled['Fail']\n",
    "\n",
    "preds = model.predict_proba(X_test)[:,1]\n",
    "print ('ROC AUC Score',roc_auc_score(y_test,preds))"
   ]
  },
  {
   "cell_type": "markdown",
   "metadata": {},
   "source": [
    "# I think that's good\n",
    "### Unless I'm misinterpretting something, which would be embarassing\n",
    "### I checked to see if I'm leaking data and it looks like no"
   ]
  },
  {
   "cell_type": "code",
   "execution_count": 173,
   "metadata": {},
   "outputs": [],
   "source": [
    "%matplotlib inline\n",
    "import matplotlib.pyplot as plt\n",
    "import seaborn as sns "
   ]
  },
  {
   "cell_type": "code",
   "execution_count": 164,
   "metadata": {},
   "outputs": [
    {
     "name": "stdout",
     "output_type": "stream",
     "text": [
      "License #   0.07747489\n",
      "Facility Type   0.090387374\n",
      "Risk   0.012912482\n",
      "Zip   0.05738881\n",
      "Inspection Type   0.22094691\n",
      "Violations   0.31707317\n",
      "DayOfWeek of Inspection   0.008608322\n",
      "Day of Inspection   0.018651363\n",
      "Month of Inspection   0.024390243\n",
      "Year of Inspection   0.17216642\n"
     ]
    }
   ],
   "source": [
    "I = list(model.feature_importances_)\n",
    "J = X_train.columns.to_list()\n",
    "\n",
    "for i,j in zip(I,J):\n",
    "    print(j,' ', i)"
   ]
  },
  {
   "cell_type": "code",
   "execution_count": 180,
   "metadata": {},
   "outputs": [
    {
     "data": {
      "text/plain": [
       "(array([0.  , 0.05, 0.1 , 0.15, 0.2 , 0.25, 0.3 , 0.35]),\n",
       " <a list of 8 Text xticklabel objects>)"
      ]
     },
     "execution_count": 180,
     "metadata": {},
     "output_type": "execute_result"
    },
    {
     "data": {
      "image/png": "[encoded data removed]",
      "text/plain": [
       "<Figure size 432x288 with 1 Axes>"
      ]
     },
     "metadata": {
      "needs_background": "light"
     },
     "output_type": "display_data"
    }
   ],
   "source": [
    "sns.barplot(x=I, y=J)\n",
    "plt.xticks(rotation=30)"
   ]
  },
  {
   "cell_type": "markdown",
   "metadata": {},
   "source": [
    "### Part 1: Preprocessing\n",
    "\n",
    "You may choose which features you want to use, and whether/how you will preprocess them. You may use any tools and techniques for categorical encoding. (Pandas, category_encoders, sklearn.preprocessing, or any other library.)\n",
    "\n",
    "_To earn a score of 3 for this part, engineer new features, and use any alternative categorical encoding instead of One-Hot or Ordinal/Label encoding._\n",
    "\n",
    "### Part 2: Modeling\n",
    "\n",
    "Fit a Random Forest or Gradient Boosting model with the train set. (You may use scikit-learn, xgboost, or any other library.) Use cross-validation to estimate an ROC AUC validation score.\n",
    "\n",
    "Use your model to predict probabilities for the test set. Get an ROC AUC test score >= 0.60.\n",
    "\n",
    "_To earn a score of 3 for this part, get an ROC AUC test score >= 0.70._\n",
    "\n",
    "\n",
    "### Part 3: Visualization\n",
    "\n",
    "Make one visualization for model interpretation. (You may use any libraries.) Choose one of these types:\n",
    "- Feature Importances\n",
    "- Permutation Importances\n",
    "- Partial Dependence Plot\n",
    "\n",
    "_To earn a score of 3 for this part, make at least two of these visualization types._"
   ]
  }
 ],
 "metadata": {
  "kernelspec": {
   "display_name": "Python 3",
   "language": "python",
   "name": "python3"
  },
  "language_info": {
   "codemirror_mode": {
    "name": "ipython",
    "version": 3
   },
   "file_extension": ".py",
   "mimetype": "text/x-python",
   "name": "python",
   "nbconvert_exporter": "python",
   "pygments_lexer": "ipython3",
   "version": "3.6.8"
  }
 },
 "nbformat": 4,
 "nbformat_minor": 2
}

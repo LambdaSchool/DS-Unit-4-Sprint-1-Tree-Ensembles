{
 "cells": [
  {
   "cell_type": "markdown",
   "metadata": {},
   "source": [
    "# Data Science Unit 4 Sprint Challenge 1 — Tree Ensembles"
   ]
  },
  {
   "cell_type": "markdown",
   "metadata": {},
   "source": [
    "### Chicago Food Inspections\n",
    "\n",
    "For this Sprint Challenge, you'll use a dataset with information from inspections of restaurants and other food establishments in Chicago from January 1, 2010 to the present. \n",
    "\n",
    "[See this PDF](https://data.cityofchicago.org/api/assets/BAD5301B-681A-4202-9D25-51B2CAE672FF) for descriptions of the data elements included in this dataset.\n",
    "\n",
    "According to [Chicago Department of Public Health — Food Protection Services](https://www.chicago.gov/city/en/depts/cdph/provdrs/healthy_restaurants/svcs/food-protection-services.html), \"Chicago is home to 16,000 food establishments like restaurants, grocery stores, bakeries, wholesalers, lunchrooms, mobile food vendors and more. Our business is food safety and sanitation with one goal, to prevent the spread of food-borne disease. We do this by inspecting food businesses, responding to complaints and food recalls.\" "
   ]
  },
  {
   "cell_type": "markdown",
   "metadata": {},
   "source": [
    "#### Your challenge: Predict whether inspections failed\n",
    "\n",
    "The target is the `Fail` column.\n",
    "\n",
    "- When the food establishment failed the inspection, the target is `1`.\n",
    "- When the establishment passed, the target is `0`."
   ]
  },
  {
   "cell_type": "markdown",
   "metadata": {},
   "source": [
    "#### Run this cell to load the data:"
   ]
  },
  {
   "cell_type": "code",
   "execution_count": 1,
   "metadata": {
    "ExecuteTime": {
     "end_time": "2019-03-22T20:47:03.678286Z",
     "start_time": "2019-03-22T20:46:21.326958Z"
    }
   },
   "outputs": [],
   "source": [
    "import pandas as pd\n",
    "\n",
    "train_url = 'https://drive.google.com/uc?export=download&id=13_tP9JpLcZHSPVpWcua4t2rY44K_s4H5'\n",
    "test_url  = 'https://drive.google.com/uc?export=download&id=1GkDHjsiGrzOXoF_xcYjdzBTSjOIi3g5a'\n",
    "\n",
    "train = pd.read_csv(train_url)\n",
    "test  = pd.read_csv(test_url)\n",
    "\n",
    "assert train.shape == (51916, 17)\n",
    "assert test.shape  == (17306, 17)"
   ]
  },
  {
   "cell_type": "markdown",
   "metadata": {},
   "source": [
    "### Part 1: Preprocessing\n",
    "\n",
    "You may choose which features you want to use, and whether/how you will preprocess them. You may use any tools and techniques for categorical encoding. (Pandas, category_encoders, sklearn.preprocessing, or any other library.)\n",
    "\n",
    "_To earn a score of 3 for this part, engineer new features, and use any alternative categorical encoding instead of One-Hot or Ordinal/Label encoding._\n",
    "\n",
    "### Part 2: Modeling\n",
    "\n",
    "Fit a Random Forest or Gradient Boosting model with the train set. (You may use scikit-learn, xgboost, or any other library.) Use cross-validation to estimate an ROC AUC validation score.\n",
    "\n",
    "Use your model to predict probabilities for the test set. Get an ROC AUC test score >= 0.60.\n",
    "\n",
    "_To earn a score of 3 for this part, get an ROC AUC test score >= 0.70._\n",
    "\n",
    "\n",
    "### Part 3: Visualization\n",
    "\n",
    "Make one visualization for model interpretation. (You may use any libraries.) Choose one of these types:\n",
    "- Feature Importances\n",
    "- Permutation Importances\n",
    "- Partial Dependence Plot\n",
    "\n",
    "_To earn a score of 3 for this part, make at least two of these visualization types._"
   ]
  },
  {
   "cell_type": "code",
   "execution_count": 2,
   "metadata": {
    "ExecuteTime": {
     "end_time": "2019-03-22T20:47:04.397234Z",
     "start_time": "2019-03-22T20:47:03.680242Z"
    }
   },
   "outputs": [],
   "source": [
    "import pandas as pd\n",
    "pd.set_option('display.max_rows', 5000)\n",
    "pd.set_option('display.max_columns', 5000)\n",
    "from datetime import datetime\n",
    "import matplotlib.pyplot as plt\n",
    "import seaborn as sns\n",
    "%matplotlib inline\n",
    "from sklearn.tree import DecisionTreeClassifier\n",
    "from sklearn.impute import SimpleImputer\n",
    "imputer = SimpleImputer()\n",
    "import numpy as np\n",
    "import category_encoders as ce\n",
    "from sklearn.pipeline import Pipeline\n",
    "from sklearn.pipeline import make_pipeline\n",
    "from ipywidgets import interact\n",
    "from sklearn.tree import DecisionTreeClassifier\n",
    "from sklearn.linear_model import LogisticRegression\n",
    "from mlxtend.plotting import plot_decision_regions\n",
    "from sklearn.tree import DecisionTreeClassifier\n",
    "from sklearn.linear_model import LogisticRegression\n",
    "from mlxtend.plotting import plot_decision_regions\n",
    "from sklearn.model_selection import cross_val_score, cross_val_predict\n",
    "from sklearn.ensemble import RandomForestClassifier, VotingClassifier\n",
    "from sklearn.ensemble import GradientBoostingClassifier\n",
    "from sklearn.model_selection import GridSearchCV\n",
    "from sklearn.decomposition import PCA\n",
    "from xgboost import XGBClassifier\n",
    "from sklearn.model_selection import train_test_split\n",
    "from sklearn.metrics import roc_auc_score\n",
    "from xgboost import plot_importance"
   ]
  },
  {
   "cell_type": "code",
   "execution_count": 3,
   "metadata": {
    "ExecuteTime": {
     "end_time": "2019-03-22T20:47:04.425298Z",
     "start_time": "2019-03-22T20:47:04.399071Z"
    }
   },
   "outputs": [
    {
     "data": {
      "text/html": [
       "<div>\n",
       "<style scoped>\n",
       "    .dataframe tbody tr th:only-of-type {\n",
       "        vertical-align: middle;\n",
       "    }\n",
       "\n",
       "    .dataframe tbody tr th {\n",
       "        vertical-align: top;\n",
       "    }\n",
       "\n",
       "    .dataframe thead th {\n",
       "        text-align: right;\n",
       "    }\n",
       "</style>\n",
       "<table border=\"1\" class=\"dataframe\">\n",
       "  <thead>\n",
       "    <tr style=\"text-align: right;\">\n",
       "      <th></th>\n",
       "      <th>Inspection ID</th>\n",
       "      <th>DBA Name</th>\n",
       "      <th>AKA Name</th>\n",
       "      <th>License #</th>\n",
       "      <th>Facility Type</th>\n",
       "      <th>Risk</th>\n",
       "      <th>Address</th>\n",
       "      <th>City</th>\n",
       "      <th>State</th>\n",
       "      <th>Zip</th>\n",
       "      <th>Inspection Date</th>\n",
       "      <th>Inspection Type</th>\n",
       "      <th>Violations</th>\n",
       "      <th>Latitude</th>\n",
       "      <th>Longitude</th>\n",
       "      <th>Location</th>\n",
       "      <th>Fail</th>\n",
       "    </tr>\n",
       "  </thead>\n",
       "  <tbody>\n",
       "    <tr>\n",
       "      <th>0</th>\n",
       "      <td>2088270</td>\n",
       "      <td>TOM YUM RICE &amp; NOODLE, INC.</td>\n",
       "      <td>TOM YUM CAFE</td>\n",
       "      <td>2354911.0</td>\n",
       "      <td>Restaurant</td>\n",
       "      <td>Risk 1 (High)</td>\n",
       "      <td>608 W BARRY</td>\n",
       "      <td>CHICAGO</td>\n",
       "      <td>IL</td>\n",
       "      <td>60657.0</td>\n",
       "      <td>2017-09-15T00:00:00</td>\n",
       "      <td>Canvass</td>\n",
       "      <td>3. POTENTIALLY HAZARDOUS FOOD MEETS TEMPERATUR...</td>\n",
       "      <td>41.938007</td>\n",
       "      <td>-87.644755</td>\n",
       "      <td>{'longitude': '-87.6447545707008', 'latitude':...</td>\n",
       "      <td>1</td>\n",
       "    </tr>\n",
       "    <tr>\n",
       "      <th>1</th>\n",
       "      <td>555268</td>\n",
       "      <td>FILLING STATION  &amp; CONVENIENCE  STORE</td>\n",
       "      <td>FILLING STATION  &amp; CONVENIENCE  STORE</td>\n",
       "      <td>1044901.0</td>\n",
       "      <td>Grocery Store</td>\n",
       "      <td>Risk 3 (Low)</td>\n",
       "      <td>6646-6658 S WESTERN AVE</td>\n",
       "      <td>CHICAGO</td>\n",
       "      <td>IL</td>\n",
       "      <td>60636.0</td>\n",
       "      <td>2011-10-20T00:00:00</td>\n",
       "      <td>Complaint Re-Inspection</td>\n",
       "      <td>32. FOOD AND NON-FOOD CONTACT SURFACES PROPERL...</td>\n",
       "      <td>41.772402</td>\n",
       "      <td>-87.683603</td>\n",
       "      <td>{'longitude': '-87.68360273081268', 'latitude'...</td>\n",
       "      <td>0</td>\n",
       "    </tr>\n",
       "    <tr>\n",
       "      <th>2</th>\n",
       "      <td>1751394</td>\n",
       "      <td>A P DELI</td>\n",
       "      <td>A P DELI</td>\n",
       "      <td>47405.0</td>\n",
       "      <td>Restaurant</td>\n",
       "      <td>Risk 1 (High)</td>\n",
       "      <td>2025 E 75TH ST</td>\n",
       "      <td>CHICAGO</td>\n",
       "      <td>IL</td>\n",
       "      <td>60649.0</td>\n",
       "      <td>2016-04-05T00:00:00</td>\n",
       "      <td>Canvass Re-Inspection</td>\n",
       "      <td>35. WALLS, CEILINGS, ATTACHED EQUIPMENT CONSTR...</td>\n",
       "      <td>41.758779</td>\n",
       "      <td>-87.575054</td>\n",
       "      <td>{'longitude': '-87.57505446746121', 'latitude'...</td>\n",
       "      <td>0</td>\n",
       "    </tr>\n",
       "    <tr>\n",
       "      <th>3</th>\n",
       "      <td>1763905</td>\n",
       "      <td>FRANK'S CHICAGO SHRIMP HOUSE</td>\n",
       "      <td>FRANK'S CHICAGO SHRIMP HOUSE</td>\n",
       "      <td>6414.0</td>\n",
       "      <td>Restaurant</td>\n",
       "      <td>Risk 2 (Medium)</td>\n",
       "      <td>4459 S ARCHER AVE</td>\n",
       "      <td>CHICAGO</td>\n",
       "      <td>IL</td>\n",
       "      <td>60632.0</td>\n",
       "      <td>2016-04-29T00:00:00</td>\n",
       "      <td>Canvass</td>\n",
       "      <td>38. VENTILATION: ROOMS AND EQUIPMENT VENTED AS...</td>\n",
       "      <td>41.812181</td>\n",
       "      <td>-87.707125</td>\n",
       "      <td>{'longitude': '-87.70712481334274', 'latitude'...</td>\n",
       "      <td>0</td>\n",
       "    </tr>\n",
       "    <tr>\n",
       "      <th>4</th>\n",
       "      <td>453326</td>\n",
       "      <td>MORRILL</td>\n",
       "      <td>MORRILL</td>\n",
       "      <td>24571.0</td>\n",
       "      <td>School</td>\n",
       "      <td>Risk 1 (High)</td>\n",
       "      <td>6011 S Rockwell (2600W) AVE</td>\n",
       "      <td>CHICAGO</td>\n",
       "      <td>IL</td>\n",
       "      <td>60629.0</td>\n",
       "      <td>2011-01-10T00:00:00</td>\n",
       "      <td>Canvass</td>\n",
       "      <td>34. FLOORS: CONSTRUCTED PER CODE, CLEANED, GOO...</td>\n",
       "      <td>NaN</td>\n",
       "      <td>NaN</td>\n",
       "      <td>NaN</td>\n",
       "      <td>0</td>\n",
       "    </tr>\n",
       "  </tbody>\n",
       "</table>\n",
       "</div>"
      ],
      "text/plain": [
       "   Inspection ID                               DBA Name  \\\n",
       "0        2088270            TOM YUM RICE & NOODLE, INC.   \n",
       "1         555268  FILLING STATION  & CONVENIENCE  STORE   \n",
       "2        1751394                               A P DELI   \n",
       "3        1763905           FRANK'S CHICAGO SHRIMP HOUSE   \n",
       "4         453326                                MORRILL   \n",
       "\n",
       "                                AKA Name  License #  Facility Type  \\\n",
       "0                           TOM YUM CAFE  2354911.0     Restaurant   \n",
       "1  FILLING STATION  & CONVENIENCE  STORE  1044901.0  Grocery Store   \n",
       "2                               A P DELI    47405.0     Restaurant   \n",
       "3           FRANK'S CHICAGO SHRIMP HOUSE     6414.0     Restaurant   \n",
       "4                                MORRILL    24571.0         School   \n",
       "\n",
       "              Risk                       Address     City State      Zip  \\\n",
       "0    Risk 1 (High)                  608 W BARRY   CHICAGO    IL  60657.0   \n",
       "1     Risk 3 (Low)      6646-6658 S WESTERN AVE   CHICAGO    IL  60636.0   \n",
       "2    Risk 1 (High)               2025 E 75TH ST   CHICAGO    IL  60649.0   \n",
       "3  Risk 2 (Medium)            4459 S ARCHER AVE   CHICAGO    IL  60632.0   \n",
       "4    Risk 1 (High)  6011 S Rockwell (2600W) AVE   CHICAGO    IL  60629.0   \n",
       "\n",
       "       Inspection Date          Inspection Type  \\\n",
       "0  2017-09-15T00:00:00                  Canvass   \n",
       "1  2011-10-20T00:00:00  Complaint Re-Inspection   \n",
       "2  2016-04-05T00:00:00    Canvass Re-Inspection   \n",
       "3  2016-04-29T00:00:00                  Canvass   \n",
       "4  2011-01-10T00:00:00                  Canvass   \n",
       "\n",
       "                                          Violations   Latitude  Longitude  \\\n",
       "0  3. POTENTIALLY HAZARDOUS FOOD MEETS TEMPERATUR...  41.938007 -87.644755   \n",
       "1  32. FOOD AND NON-FOOD CONTACT SURFACES PROPERL...  41.772402 -87.683603   \n",
       "2  35. WALLS, CEILINGS, ATTACHED EQUIPMENT CONSTR...  41.758779 -87.575054   \n",
       "3  38. VENTILATION: ROOMS AND EQUIPMENT VENTED AS...  41.812181 -87.707125   \n",
       "4  34. FLOORS: CONSTRUCTED PER CODE, CLEANED, GOO...        NaN        NaN   \n",
       "\n",
       "                                            Location  Fail  \n",
       "0  {'longitude': '-87.6447545707008', 'latitude':...     1  \n",
       "1  {'longitude': '-87.68360273081268', 'latitude'...     0  \n",
       "2  {'longitude': '-87.57505446746121', 'latitude'...     0  \n",
       "3  {'longitude': '-87.70712481334274', 'latitude'...     0  \n",
       "4                                                NaN     0  "
      ]
     },
     "execution_count": 3,
     "metadata": {},
     "output_type": "execute_result"
    }
   ],
   "source": [
    "train.head()"
   ]
  },
  {
   "cell_type": "code",
   "execution_count": 4,
   "metadata": {
    "ExecuteTime": {
     "end_time": "2019-03-22T20:47:04.432765Z",
     "start_time": "2019-03-22T20:47:04.428502Z"
    }
   },
   "outputs": [],
   "source": [
    "    def el(v):\n",
    "        if isinstance(v, float) or v[0] == '<':\n",
    "            return 0\n",
    "        return  int(v[0:(1 if v[1] == '.' else 2)])"
   ]
  },
  {
   "cell_type": "code",
   "execution_count": 5,
   "metadata": {
    "ExecuteTime": {
     "end_time": "2019-03-22T20:47:04.499496Z",
     "start_time": "2019-03-22T20:47:04.436105Z"
    }
   },
   "outputs": [],
   "source": [
    "train['violation'] = train.Violations.apply(el)"
   ]
  },
  {
   "cell_type": "code",
   "execution_count": 6,
   "metadata": {
    "ExecuteTime": {
     "end_time": "2019-03-22T20:47:04.522210Z",
     "start_time": "2019-03-22T20:47:04.501437Z"
    },
    "scrolled": true
   },
   "outputs": [
    {
     "data": {
      "text/html": [
       "<div>\n",
       "<style scoped>\n",
       "    .dataframe tbody tr th:only-of-type {\n",
       "        vertical-align: middle;\n",
       "    }\n",
       "\n",
       "    .dataframe tbody tr th {\n",
       "        vertical-align: top;\n",
       "    }\n",
       "\n",
       "    .dataframe thead th {\n",
       "        text-align: right;\n",
       "    }\n",
       "</style>\n",
       "<table border=\"1\" class=\"dataframe\">\n",
       "  <thead>\n",
       "    <tr style=\"text-align: right;\">\n",
       "      <th></th>\n",
       "      <th>Inspection ID</th>\n",
       "      <th>DBA Name</th>\n",
       "      <th>AKA Name</th>\n",
       "      <th>License #</th>\n",
       "      <th>Facility Type</th>\n",
       "      <th>Risk</th>\n",
       "      <th>Address</th>\n",
       "      <th>City</th>\n",
       "      <th>State</th>\n",
       "      <th>Zip</th>\n",
       "      <th>Inspection Date</th>\n",
       "      <th>Inspection Type</th>\n",
       "      <th>Violations</th>\n",
       "      <th>Latitude</th>\n",
       "      <th>Longitude</th>\n",
       "      <th>Location</th>\n",
       "      <th>Fail</th>\n",
       "      <th>violation</th>\n",
       "    </tr>\n",
       "  </thead>\n",
       "  <tbody>\n",
       "    <tr>\n",
       "      <th>0</th>\n",
       "      <td>2088270</td>\n",
       "      <td>TOM YUM RICE &amp; NOODLE, INC.</td>\n",
       "      <td>TOM YUM CAFE</td>\n",
       "      <td>2354911.0</td>\n",
       "      <td>Restaurant</td>\n",
       "      <td>Risk 1 (High)</td>\n",
       "      <td>608 W BARRY</td>\n",
       "      <td>CHICAGO</td>\n",
       "      <td>IL</td>\n",
       "      <td>60657.0</td>\n",
       "      <td>2017-09-15T00:00:00</td>\n",
       "      <td>Canvass</td>\n",
       "      <td>3. POTENTIALLY HAZARDOUS FOOD MEETS TEMPERATUR...</td>\n",
       "      <td>41.938007</td>\n",
       "      <td>-87.644755</td>\n",
       "      <td>{'longitude': '-87.6447545707008', 'latitude':...</td>\n",
       "      <td>1</td>\n",
       "      <td>3</td>\n",
       "    </tr>\n",
       "    <tr>\n",
       "      <th>1</th>\n",
       "      <td>555268</td>\n",
       "      <td>FILLING STATION  &amp; CONVENIENCE  STORE</td>\n",
       "      <td>FILLING STATION  &amp; CONVENIENCE  STORE</td>\n",
       "      <td>1044901.0</td>\n",
       "      <td>Grocery Store</td>\n",
       "      <td>Risk 3 (Low)</td>\n",
       "      <td>6646-6658 S WESTERN AVE</td>\n",
       "      <td>CHICAGO</td>\n",
       "      <td>IL</td>\n",
       "      <td>60636.0</td>\n",
       "      <td>2011-10-20T00:00:00</td>\n",
       "      <td>Complaint Re-Inspection</td>\n",
       "      <td>32. FOOD AND NON-FOOD CONTACT SURFACES PROPERL...</td>\n",
       "      <td>41.772402</td>\n",
       "      <td>-87.683603</td>\n",
       "      <td>{'longitude': '-87.68360273081268', 'latitude'...</td>\n",
       "      <td>0</td>\n",
       "      <td>32</td>\n",
       "    </tr>\n",
       "    <tr>\n",
       "      <th>2</th>\n",
       "      <td>1751394</td>\n",
       "      <td>A P DELI</td>\n",
       "      <td>A P DELI</td>\n",
       "      <td>47405.0</td>\n",
       "      <td>Restaurant</td>\n",
       "      <td>Risk 1 (High)</td>\n",
       "      <td>2025 E 75TH ST</td>\n",
       "      <td>CHICAGO</td>\n",
       "      <td>IL</td>\n",
       "      <td>60649.0</td>\n",
       "      <td>2016-04-05T00:00:00</td>\n",
       "      <td>Canvass Re-Inspection</td>\n",
       "      <td>35. WALLS, CEILINGS, ATTACHED EQUIPMENT CONSTR...</td>\n",
       "      <td>41.758779</td>\n",
       "      <td>-87.575054</td>\n",
       "      <td>{'longitude': '-87.57505446746121', 'latitude'...</td>\n",
       "      <td>0</td>\n",
       "      <td>35</td>\n",
       "    </tr>\n",
       "    <tr>\n",
       "      <th>3</th>\n",
       "      <td>1763905</td>\n",
       "      <td>FRANK'S CHICAGO SHRIMP HOUSE</td>\n",
       "      <td>FRANK'S CHICAGO SHRIMP HOUSE</td>\n",
       "      <td>6414.0</td>\n",
       "      <td>Restaurant</td>\n",
       "      <td>Risk 2 (Medium)</td>\n",
       "      <td>4459 S ARCHER AVE</td>\n",
       "      <td>CHICAGO</td>\n",
       "      <td>IL</td>\n",
       "      <td>60632.0</td>\n",
       "      <td>2016-04-29T00:00:00</td>\n",
       "      <td>Canvass</td>\n",
       "      <td>38. VENTILATION: ROOMS AND EQUIPMENT VENTED AS...</td>\n",
       "      <td>41.812181</td>\n",
       "      <td>-87.707125</td>\n",
       "      <td>{'longitude': '-87.70712481334274', 'latitude'...</td>\n",
       "      <td>0</td>\n",
       "      <td>38</td>\n",
       "    </tr>\n",
       "    <tr>\n",
       "      <th>4</th>\n",
       "      <td>453326</td>\n",
       "      <td>MORRILL</td>\n",
       "      <td>MORRILL</td>\n",
       "      <td>24571.0</td>\n",
       "      <td>School</td>\n",
       "      <td>Risk 1 (High)</td>\n",
       "      <td>6011 S Rockwell (2600W) AVE</td>\n",
       "      <td>CHICAGO</td>\n",
       "      <td>IL</td>\n",
       "      <td>60629.0</td>\n",
       "      <td>2011-01-10T00:00:00</td>\n",
       "      <td>Canvass</td>\n",
       "      <td>34. FLOORS: CONSTRUCTED PER CODE, CLEANED, GOO...</td>\n",
       "      <td>NaN</td>\n",
       "      <td>NaN</td>\n",
       "      <td>NaN</td>\n",
       "      <td>0</td>\n",
       "      <td>34</td>\n",
       "    </tr>\n",
       "  </tbody>\n",
       "</table>\n",
       "</div>"
      ],
      "text/plain": [
       "   Inspection ID                               DBA Name  \\\n",
       "0        2088270            TOM YUM RICE & NOODLE, INC.   \n",
       "1         555268  FILLING STATION  & CONVENIENCE  STORE   \n",
       "2        1751394                               A P DELI   \n",
       "3        1763905           FRANK'S CHICAGO SHRIMP HOUSE   \n",
       "4         453326                                MORRILL   \n",
       "\n",
       "                                AKA Name  License #  Facility Type  \\\n",
       "0                           TOM YUM CAFE  2354911.0     Restaurant   \n",
       "1  FILLING STATION  & CONVENIENCE  STORE  1044901.0  Grocery Store   \n",
       "2                               A P DELI    47405.0     Restaurant   \n",
       "3           FRANK'S CHICAGO SHRIMP HOUSE     6414.0     Restaurant   \n",
       "4                                MORRILL    24571.0         School   \n",
       "\n",
       "              Risk                       Address     City State      Zip  \\\n",
       "0    Risk 1 (High)                  608 W BARRY   CHICAGO    IL  60657.0   \n",
       "1     Risk 3 (Low)      6646-6658 S WESTERN AVE   CHICAGO    IL  60636.0   \n",
       "2    Risk 1 (High)               2025 E 75TH ST   CHICAGO    IL  60649.0   \n",
       "3  Risk 2 (Medium)            4459 S ARCHER AVE   CHICAGO    IL  60632.0   \n",
       "4    Risk 1 (High)  6011 S Rockwell (2600W) AVE   CHICAGO    IL  60629.0   \n",
       "\n",
       "       Inspection Date          Inspection Type  \\\n",
       "0  2017-09-15T00:00:00                  Canvass   \n",
       "1  2011-10-20T00:00:00  Complaint Re-Inspection   \n",
       "2  2016-04-05T00:00:00    Canvass Re-Inspection   \n",
       "3  2016-04-29T00:00:00                  Canvass   \n",
       "4  2011-01-10T00:00:00                  Canvass   \n",
       "\n",
       "                                          Violations   Latitude  Longitude  \\\n",
       "0  3. POTENTIALLY HAZARDOUS FOOD MEETS TEMPERATUR...  41.938007 -87.644755   \n",
       "1  32. FOOD AND NON-FOOD CONTACT SURFACES PROPERL...  41.772402 -87.683603   \n",
       "2  35. WALLS, CEILINGS, ATTACHED EQUIPMENT CONSTR...  41.758779 -87.575054   \n",
       "3  38. VENTILATION: ROOMS AND EQUIPMENT VENTED AS...  41.812181 -87.707125   \n",
       "4  34. FLOORS: CONSTRUCTED PER CODE, CLEANED, GOO...        NaN        NaN   \n",
       "\n",
       "                                            Location  Fail  violation  \n",
       "0  {'longitude': '-87.6447545707008', 'latitude':...     1          3  \n",
       "1  {'longitude': '-87.68360273081268', 'latitude'...     0         32  \n",
       "2  {'longitude': '-87.57505446746121', 'latitude'...     0         35  \n",
       "3  {'longitude': '-87.70712481334274', 'latitude'...     0         38  \n",
       "4                                                NaN     0         34  "
      ]
     },
     "execution_count": 6,
     "metadata": {},
     "output_type": "execute_result"
    }
   ],
   "source": [
    "train.head()"
   ]
  },
  {
   "cell_type": "code",
   "execution_count": 7,
   "metadata": {
    "ExecuteTime": {
     "end_time": "2019-03-22T20:47:04.533317Z",
     "start_time": "2019-03-22T20:47:04.524863Z"
    }
   },
   "outputs": [
    {
     "data": {
      "text/plain": [
       "array(['Restaurant', 'Grocery Store', 'School', 'Long Term Care',\n",
       "       'Liquor', 'Daycare Above and Under 2 Years',\n",
       "       \"Children's Services Facility\", 'Catering', 'Daycare Night',\n",
       "       'CHURCH', 'GAS STATION/STORE', 'Daycare (2 - 6 Years)',\n",
       "       'Mobile Food Preparer', 'Golden Diner', 'TAVERN', 'ICE CREAM SHOP',\n",
       "       'Banquet Hall', 'coffee shop', 'Bakery',\n",
       "       'SLAUGHTER HOUSE/ GROCERY', 'RESTAURANT/GROCERY STORE',\n",
       "       'Shared Kitchen User (Long Term)', 'Daycare (Under 2 Years)',\n",
       "       'Wholesale', 'Mobile Food Dispenser', nan, 'Daycare Combo 1586',\n",
       "       'Hospital', 'STORE', 'Airport Lounge', 'LIVE POULTRY', 'tavern',\n",
       "       'REPACKAGING PLANT', 'Daycare (2 Years)',\n",
       "       'Mobile Prepared Food Vendor', 'CHURCH KITCHEN',\n",
       "       'GROCERY/GAS STATION', 'GAS STATION STORE', 'BAR',\n",
       "       'Navy Pier Kiosk', 'STADIUM', 'Special Event', 'KIOSK',\n",
       "       'RETAIL STORE', 'CATERING/CAFE', 'GROCERY/RESTAURANT',\n",
       "       'MOVIE THEATRE', 'Shared Kitchen', 'DAYCARE', 'TEA BREWING',\n",
       "       'Long-Term Care', \"1023-CHILDREN'S SERVICES FACILITY\",\n",
       "       'convenience store', 'GAS STATION', 'Private School', 'COMMISSARY',\n",
       "       'COFFEE KIOSK', 'CONVENIENCE STORE', 'meat packing',\n",
       "       'RESTAURANT/BAR', 'MOBILE FOOD TRUCK', 'BANQUET HALL', 'Shelter',\n",
       "       'banquets', 'ICE CREAM PARLOR', 'Long Term Care Facility',\n",
       "       'GROCERY& RESTAURANT', 'Grocery & Restaurant', 'CONVENIENT STORE',\n",
       "       'cafeteria', 'Banquet rooms', 'ROOF TOPS', 'convenience',\n",
       "       'grocery/dollar store', 'gas station',\n",
       "       'GROCERY STORE/COOKING SCHOOL', 'Food Vending Machines',\n",
       "       'Shared Kitchen User (Short Term)', 'GROCERY/TAQUERIA',\n",
       "       'MOBILE FROZEN DESSERTS VENDOR', 'SMOKEHOUSE',\n",
       "       'GROCERY STORE/BAKERY', 'KIDS CAFE', 'HEALTH/ JUICE BAR', 'bar',\n",
       "       'RIVERWALK', 'weight loss program', 'SCHOOL',\n",
       "       'COFFEE VENDING MACHINE', 'WRIGLEY ROOFTOP', 'WAREHOUSE',\n",
       "       'ROOF TOP', 'SPA', 'HOTEL',\n",
       "       'MOBILE FROZEN DESSERTS DISPENSER-NON-MOTOR',\n",
       "       'CHURCH/SPECIAL EVENTS', 'JUICE BAR',\n",
       "       \"1023 CHILDERN'S SERVICE FACILITY\", 'Deli', 'PASTRY school',\n",
       "       'THEATRE', 'GROCERY/BAKERY', 'PRIVATE SCHOOL', 'ROOFTOP',\n",
       "       'DISTRIBUTION CENTER', 'newsstand', 'BANQUET', 'employee kitchen',\n",
       "       'RESTAURANT/GROCERY', 'AFTER SCHOOL PROGRAM', 'Church', 'Candy',\n",
       "       'ROOFTOP PATIO', 'banquet hall', 'Grocery(Sushi prep)',\n",
       "       'ROOM SERVICE', 'Mobile Frozen Desserts Vendor', 'COLLEGE',\n",
       "       'GAS STATION/MINI MART', 'MOBILE FROZEN DESSERT VENDOR',\n",
       "       'CUSTOM POULTRY SLAUGHTER', 'ROOFTOPS', 'NOT-FOR-PROFIT CLUB',\n",
       "       'CANDY/GELATO', 'NURSING HOME', 'HOT DOG STATION',\n",
       "       'GAS STATION/RESTAURANT', 'CHILDRENS SERVICES FACILITY',\n",
       "       'Rest/GYM', \"1023 CHILDERN'S SERVICES FACILITY\", 'BREWPUB',\n",
       "       'RESTAURANT.BANQUET HALLS', 'GROCERY STORE/ RESTAURANT', 'THEATER',\n",
       "       'GROCERY STORE/TAQUERIA', 'FOOD PANTRY/CHURCH', 'CAFETERIA',\n",
       "       'FROZEN DESSERTS DISPENSER-NON-MOTORIZED', 'PUBLIC SHCOOL',\n",
       "       'HERBAL MEDICINE', 'CONVENIENCE', 'GROCERY/DRUG STORE',\n",
       "       'dollar store', 'PRE PACKAGED', 'COLD/FROZEN FOOD STORAGE',\n",
       "       'RESTAURANT/BAKERY', 'NIGHT CLUB', 'CHARITY AID KITCHEN', 'Other',\n",
       "       'GROCERY AND BUTCHER', 'CHURCH (SPECIAL EVENTS)',\n",
       "       'RESTUARANT AND BAR', 'CAFE/STORE',\n",
       "       'A-Not-For-Profit Chef Training Program', 'PALETERIA',\n",
       "       'CITY OF CHICAGO COLLEGE', 'banquets/room service',\n",
       "       'ART GALLERY W/WINE AND BEER', 'CHARTER SCHOOL', 'MASSAGE BAR',\n",
       "       'RESTAURANT/HOSPITAL', \"1023 CHILDREN'S SERVICES FACILITY\",\n",
       "       'Tavern', 'MOBILE DESSERTS VENDOR', 'Theater & Restaurant',\n",
       "       'PACKAGED LIQUOR', 'TOBACCO STORE', 'DOLLAR STORE SELLING GROCERY',\n",
       "       'TAVERN GRILL', 'TEACHING SCHOOL', 'Animal Shelter Cafe Permit',\n",
       "       'CULINARY SCHOOL', '(gas station)', 'MEXICAN CANDY STORE',\n",
       "       'LINITED BUSINESS', 'fish market',\n",
       "       'MOBILE FROZEN DESSERTS DISPENSER-NON-MOTORIZED', 'HOSTEL',\n",
       "       'LIQUOR/COFFEE KIOSK', 'REHAB CENTER', 'Banquet Dining',\n",
       "       'Wrigley Roof Top', 'CLOTHING STORE', 'RESTAURANT/GAS STATION',\n",
       "       'school cafeteria', '1023', 'SUPPORTIVE LIVING', 'REST/GROCERY',\n",
       "       'GOLF COURSE CONNCESSION STAND', 'Coffee shop',\n",
       "       'LOUNGE/BANQUET HALL', 'SENIOR DAY CARE',\n",
       "       'BEFORE AND AFTER SCHOOL PROGRAM', 'ASSISTED LIVING',\n",
       "       'DRUG/GROCERY STORE', 'GROCERY/ RESTAURANT', 'DINING HALL',\n",
       "       'convenience/drug store', 'GROCERY STORE/GAS STATION', 'Cafeteria',\n",
       "       'candy/gelato', 'theater', 'Live Poultry', 'COOKING SCHOOL',\n",
       "       'SOUP KITCHEN', 'snack shop', 'BAR/GRILL', 'REST/ROOFTOP',\n",
       "       'GROCERY/SERVICE GAS STATION', 'CANDY STORE', 'Ice cream',\n",
       "       'hooka lounge', \"O'Hare Kiosk\", 'COFFEE SHOP',\n",
       "       'DRUG STORE/GROCERY', 'LIQUORE STORE/BAR',\n",
       "       'PREPACKAGE MEAL DISTRIBUTOR (1006 Retail)', 'WINE STORE',\n",
       "       'PUSH CARTS', 'Catering and Wholesale', 'Church Kitchen',\n",
       "       'blockbuster video', 'BAKERY/DELI', 'PHARMACY', 'UNUSED STORAGE',\n",
       "       'DRUG/FOOD STORE', 'COMMISSARY FOR SOFT SERVE ICE CREAM TRUCKS',\n",
       "       'PACKAGED HEALTH FOODS', 'FROZEN DESSERT PUSHCARTS',\n",
       "       'GROCERY STORE/DELI', 'SUPPORTIVE LIVING FACILITY',\n",
       "       'LIQUOR CONSUMPTION ON PREMISES.', 'Commissary',\n",
       "       'bakery/restaurant', 'DISTRIBUTOR', 'CHURCH/AFTER SCHOOL PROGRAM',\n",
       "       'EVENT VENU', 'BANQUET HALL/CATERING', 'BREWERY',\n",
       "       'pharmacy/grocery', 'smoothie bar', 'live butcher',\n",
       "       'GROCERY/LIQUOR', 'UNIVERSITY CAFETERIA',\n",
       "       'FROZEN DESSERTS DISPENSER -NON MOTORIZED', 'FITNESS CENTER',\n",
       "       'GOLF COURSE', 'School Cafeteria', 'NOT FOR PROFIT',\n",
       "       'GAS STATION/ GROCERY STORE', 'HERBAL',\n",
       "       'GIFT/CARD SHOP WITH CANDY', 'MUSIC VENUE', 'grocery/butcher',\n",
       "       'Herabalife', 'DAYCARE 2 YRS TO 12 YRS', 'HERBAL REMEDY',\n",
       "       'DRUG STORE/W/ FOOD', 'TENT RSTAURANT', 'Illegal Vendor',\n",
       "       'Food Pantry', 'HERBALIFE', '1005 NURSING HOME',\n",
       "       'HERBAL LIFE SHOP', 'DOLLAR & GROCERY STORE', 'CHURCH/DAY CARE',\n",
       "       'Pool', \"CHILDERN'S SERVICE FACILITY\", 'TEMPORARY KIOSK',\n",
       "       'BANQUET ROOM', 'CELL PHONE STORE', 'URBAN FARM', 'butcher shop',\n",
       "       'REGULATED BUSINESS', 'CHURCH/SPECIAL EVENT', 'MOVIE THEATER',\n",
       "       'grocery', 'NP-KIOSK', 'THEATER/BAR', 'Adult Family Care Center',\n",
       "       'BANQUET FACILITY', 'Banquet', 'HERBALIFE STORE',\n",
       "       'WHOLESALE BAKERY', '1584-DAY CARE ABOVE 2 YEARS',\n",
       "       'Long-Term Care Facility', 'SUMMER FEEDING PREP AREA',\n",
       "       'DAYCARE 1586', 'GAS STATION/STORE GROCERY', \"FARMER'S MARKET\",\n",
       "       'WINE TASTING BAR', 'GROCERY STORE / GAS STATION',\n",
       "       'DELI/GROCERY STORE', 'Poultry Slaughter', 'watermelon house',\n",
       "       'cooking school', 'PRODUCE STAND', 'CHICAGO PARK DISTRICT',\n",
       "       'warehouse', 'HERBALCAL', 'DAYCARE 6 WKS-5YRS', 'CAFE',\n",
       "       'GAS STATION /SUBWAY MINI MART.', 'CHINESE HERBS',\n",
       "       'JUICE AND SALAD BAR', 'COFFEE/TEA', 'ROOFTOP/RESTAURANT',\n",
       "       'coffee', 'Restaurant(protein shake bar)', 'Convenience Store',\n",
       "       'CHARTER SCHOOL CAFETERIA', 'COMMIASARY', 'VFW HALL', 'donut shop',\n",
       "       'Shuffleboard Club with Bar', 'BEVERAGE/SILVERWARE WAREHOUSE',\n",
       "       'Social Club', 'CONVNIENCE STORE', 'GELATO SHOP',\n",
       "       'Nutrition Store', 'GAS STATION/FOOD',\n",
       "       'Assisted Living Senior Care', 'PROTEIN SHAKE BAR',\n",
       "       'UNLICENSED FACILITY', 'Assisted Living', 'religious',\n",
       "       'COFFEE  SHOP', 'MOBILE FROZEN DESSERTS DISPENSER-NON- MOTORIZED',\n",
       "       '(convenience store)', 'RESTAURANT/BAR/THEATER'], dtype=object)"
      ]
     },
     "execution_count": 7,
     "metadata": {},
     "output_type": "execute_result"
    }
   ],
   "source": [
    "train['Facility Type'].unique()"
   ]
  },
  {
   "cell_type": "code",
   "execution_count": 8,
   "metadata": {
    "ExecuteTime": {
     "end_time": "2019-03-22T20:47:04.541534Z",
     "start_time": "2019-03-22T20:47:04.535198Z"
    }
   },
   "outputs": [
    {
     "data": {
      "text/plain": [
       "array(['CHICAGO', nan, 'LAKE BLUFF', 'BEDFORD PARK', 'chicago', 'MAYWOOD',\n",
       "       'CCHICAGO', 'SUMMIT', 'Chicago', 'CHicago', 'SCHAUMBURG',\n",
       "       'CHESTNUT STREET', 'ELK GROVE VILLAGE', 'OOLYMPIA FIELDS',\n",
       "       'CHICAGO HEIGHTS', 'NILES NILES', 'EVANSTON', 'CHCHICAGO',\n",
       "       'OAK PARK', 'CICERO', 'NAPERVILLE', 'EAST HAZEL CREST', 'BERWYN',\n",
       "       'SKOKIE', 'CHARLES A HAYES', 'WORTH', 'HIGHLAND PARK', 'ROSEMONT',\n",
       "       'BOLINGBROOK', 'TINLEY PARK', 'SCHILLER PARK', 'ELMHURST',\n",
       "       'CHICAGOI', 'BRIDGEVIEW', 'BROADVIEW', 'OLYMPIA FIELDS',\n",
       "       'CHICAGOCHICAGO', 'CHICAGOHICAGO', 'STREAMWOOD', 'ALSIP'],\n",
       "      dtype=object)"
      ]
     },
     "execution_count": 8,
     "metadata": {},
     "output_type": "execute_result"
    }
   ],
   "source": [
    "train.City.unique()"
   ]
  },
  {
   "cell_type": "code",
   "execution_count": 9,
   "metadata": {
    "ExecuteTime": {
     "end_time": "2019-03-22T20:47:04.548622Z",
     "start_time": "2019-03-22T20:47:04.543543Z"
    }
   },
   "outputs": [
    {
     "data": {
      "text/plain": [
       "Inspection ID        int64\n",
       "DBA Name            object\n",
       "AKA Name            object\n",
       "License #          float64\n",
       "Facility Type       object\n",
       "Risk                object\n",
       "Address             object\n",
       "City                object\n",
       "State               object\n",
       "Zip                float64\n",
       "Inspection Date     object\n",
       "Inspection Type     object\n",
       "Violations          object\n",
       "Latitude           float64\n",
       "Longitude          float64\n",
       "Location            object\n",
       "Fail                 int64\n",
       "violation            int64\n",
       "dtype: object"
      ]
     },
     "execution_count": 9,
     "metadata": {},
     "output_type": "execute_result"
    }
   ],
   "source": [
    "train.dtypes"
   ]
  },
  {
   "cell_type": "code",
   "execution_count": 10,
   "metadata": {
    "ExecuteTime": {
     "end_time": "2019-03-22T20:47:04.553685Z",
     "start_time": "2019-03-22T20:47:04.550383Z"
    }
   },
   "outputs": [],
   "source": [
    "ftypes = ['Restaurant', 'Grocery', 'Liquor', 'gas station', 'hospital', 'movie', 'mobile',\n",
    "          'cafeteria', 'school' ]"
   ]
  },
  {
   "cell_type": "code",
   "execution_count": 11,
   "metadata": {
    "ExecuteTime": {
     "end_time": "2019-03-22T20:47:04.564488Z",
     "start_time": "2019-03-22T20:47:04.555316Z"
    }
   },
   "outputs": [],
   "source": [
    "def wrangle(X, make_means=False):\n",
    "    X = X.copy()\n",
    "    \n",
    "    def el(v):\n",
    "        if isinstance(v, float) or v[0] == '<':\n",
    "            return 0\n",
    "        return  int(v[0:(1 if v[1] == '.' else 2)]) \n",
    "    \n",
    "    X['violation'] = X.Violations.apply(el)\n",
    "    X = X.drop(columns=['Violations', 'Inspection ID', 'AKA Name', 'License #', 'State'])\n",
    "    \n",
    "    def er(r):\n",
    "        if isinstance(r, float):\n",
    "            return 0\n",
    "        return int(r[5:6 if r[6] == ' ' else 7])\n",
    "    X['risk'] = X.Risk.apply(er)\n",
    "    X = X.drop(columns='Risk')\n",
    "        \n",
    "    def wrangle_list(x, l):\n",
    "        if isinstance(x, float):\n",
    "            return False\n",
    "        x = x.lower()\n",
    "        for s in l:\n",
    "            if x.find(s) >= 0:\n",
    "                return s\n",
    "        return False\n",
    "    \n",
    "    X['ftype'] = X['Facility Type'].apply(lambda x: wrangle_list(x, ftypes))\n",
    "    \n",
    "    def wrangle_chicago(x):\n",
    "        if isinstance(x, float):\n",
    "            return 'chicago'  \n",
    "        x = x.lower()\n",
    "        if 'chicago' in x:\n",
    "            return 'chicago'\n",
    "        return x\n",
    "    \n",
    "    X['city'] = X.City.apply(wrangle_chicago)\n",
    "    X = X.drop(columns=['Facility Type', 'City'])\n",
    "    \n",
    "    for col in X.columns:\n",
    "        try:\n",
    "            X[col] = X[col].apply(lambda x: 0 if isinstance(x, float) else x)\n",
    "        except:\n",
    "            print(col)    \n",
    "    \n",
    "    \n",
    "    return X \n",
    "        "
   ]
  },
  {
   "cell_type": "code",
   "execution_count": 12,
   "metadata": {
    "ExecuteTime": {
     "end_time": "2019-03-22T20:47:05.087271Z",
     "start_time": "2019-03-22T20:47:04.566132Z"
    }
   },
   "outputs": [],
   "source": [
    "df = wrangle(train)"
   ]
  },
  {
   "cell_type": "code",
   "execution_count": 13,
   "metadata": {
    "ExecuteTime": {
     "end_time": "2019-03-22T20:47:05.098730Z",
     "start_time": "2019-03-22T20:47:05.089621Z"
    }
   },
   "outputs": [],
   "source": [
    "y = df.Fail\n",
    "df_ = df.drop(columns='Fail')"
   ]
  },
  {
   "cell_type": "code",
   "execution_count": 14,
   "metadata": {
    "ExecuteTime": {
     "end_time": "2019-03-22T20:47:05.113488Z",
     "start_time": "2019-03-22T20:47:05.100861Z"
    }
   },
   "outputs": [],
   "source": [
    "clist = df_.select_dtypes(exclude=[np.number]).columns.tolist()"
   ]
  },
  {
   "cell_type": "code",
   "execution_count": 15,
   "metadata": {
    "ExecuteTime": {
     "end_time": "2019-03-22T20:47:05.147432Z",
     "start_time": "2019-03-22T20:47:05.115330Z"
    }
   },
   "outputs": [],
   "source": [
    "one_hot_columns = []\n",
    "binary_columns = []\n",
    "max_one = 15\n",
    "for c in  clist:\n",
    "    if len(df_[c].unique()) > max_one:\n",
    "        binary_columns.append(c)\n",
    "    else:\n",
    "        one_hot_columns.append(c)"
   ]
  },
  {
   "cell_type": "code",
   "execution_count": 16,
   "metadata": {
    "ExecuteTime": {
     "end_time": "2019-03-22T20:47:05.152686Z",
     "start_time": "2019-03-22T20:47:05.149225Z"
    }
   },
   "outputs": [],
   "source": [
    "pipe = Pipeline(steps = [\n",
    "    ('be', ce.BinaryEncoder(cols=binary_columns)), \n",
    "    ('one', ce.OneHotEncoder(use_cat_names=True,cols=one_hot_columns)),\n",
    "#     ('pca', pca),\n",
    "    ('xgb', XGBClassifier())]\n",
    ")"
   ]
  },
  {
   "cell_type": "code",
   "execution_count": 17,
   "metadata": {
    "ExecuteTime": {
     "end_time": "2019-03-22T20:47:05.158464Z",
     "start_time": "2019-03-22T20:47:05.154752Z"
    }
   },
   "outputs": [],
   "source": [
    "param_grid = {\n",
    "    #     'pca__n_components': [28],\n",
    "    \"xgb__booster\": [\"gbtree\"],\n",
    "    \"xgb__gamma\": [8],\n",
    "    \"xgb__learning_rate\": [0.1],\n",
    "    \"xgb__n_estimators\": [130],\n",
    "    #     \"gb__min_samples_leaf\": [3],\n",
    "    #     \"gb__min_impurity_decrease\": [1.2],\n",
    "    \"xgb__max_depth\": [4]\n",
    "}\n",
    "# Fit on the train set, with grid search cross-validation\n",
    "gs = GridSearchCV(pipe, param_grid=param_grid, cv=2, n_jobs=-1,\n",
    "                  scoring='roc_auc',\n",
    "                  verbose=1)"
   ]
  },
  {
   "cell_type": "code",
   "execution_count": 18,
   "metadata": {
    "ExecuteTime": {
     "end_time": "2019-03-22T20:47:29.683993Z",
     "start_time": "2019-03-22T20:47:05.162220Z"
    }
   },
   "outputs": [
    {
     "name": "stdout",
     "output_type": "stream",
     "text": [
      "Fitting 2 folds for each of 1 candidates, totalling 2 fits\n"
     ]
    },
    {
     "name": "stderr",
     "output_type": "stream",
     "text": [
      "[Parallel(n_jobs=-1)]: Using backend LokyBackend with 8 concurrent workers.\n",
      "[Parallel(n_jobs=-1)]: Done   2 out of   2 | elapsed:   10.1s remaining:    0.0s\n",
      "[Parallel(n_jobs=-1)]: Done   2 out of   2 | elapsed:   10.1s finished\n"
     ]
    }
   ],
   "source": [
    "gsf = gs.fit(df_, y)"
   ]
  },
  {
   "cell_type": "code",
   "execution_count": 19,
   "metadata": {
    "ExecuteTime": {
     "end_time": "2019-03-22T20:47:29.691149Z",
     "start_time": "2019-03-22T20:47:29.686017Z"
    }
   },
   "outputs": [
    {
     "name": "stdout",
     "output_type": "stream",
     "text": [
      "Best Parameter (roc_auc score=0.989):\n",
      "{'xgb__booster': 'gbtree', 'xgb__gamma': 8, 'xgb__learning_rate': 0.1, 'xgb__max_depth': 4, 'xgb__n_estimators': 130}\n"
     ]
    }
   ],
   "source": [
    "print('Best Parameter (roc_auc score=%0.3f):' % gsf.best_score_)\n",
    "print(gsf.best_params_)"
   ]
  },
  {
   "cell_type": "code",
   "execution_count": 23,
   "metadata": {
    "ExecuteTime": {
     "end_time": "2019-03-22T20:48:39.318786Z",
     "start_time": "2019-03-22T20:48:38.135253Z"
    }
   },
   "outputs": [],
   "source": [
    "pyt = gsf.predict(df_)"
   ]
  },
  {
   "cell_type": "code",
   "execution_count": 24,
   "metadata": {
    "ExecuteTime": {
     "end_time": "2019-03-22T20:48:39.461016Z",
     "start_time": "2019-03-22T20:48:39.448815Z"
    }
   },
   "outputs": [],
   "source": [
    "test_y = test['Fail'].values\n",
    "testxy = test.drop(columns='Fail')"
   ]
  },
  {
   "cell_type": "code",
   "execution_count": 25,
   "metadata": {
    "ExecuteTime": {
     "end_time": "2019-03-22T20:48:40.627370Z",
     "start_time": "2019-03-22T20:48:40.431259Z"
    }
   },
   "outputs": [],
   "source": [
    "test_ = wrangle(testxy)"
   ]
  },
  {
   "cell_type": "code",
   "execution_count": 26,
   "metadata": {
    "ExecuteTime": {
     "end_time": "2019-03-22T20:48:41.522762Z",
     "start_time": "2019-03-22T20:48:41.001471Z"
    }
   },
   "outputs": [],
   "source": [
    "py = gsf.predict(test_)"
   ]
  },
  {
   "cell_type": "code",
   "execution_count": 27,
   "metadata": {
    "ExecuteTime": {
     "end_time": "2019-03-22T20:48:41.532154Z",
     "start_time": "2019-03-22T20:48:41.524667Z"
    }
   },
   "outputs": [
    {
     "data": {
      "text/plain": [
       "0.9385064541227622"
      ]
     },
     "execution_count": 27,
     "metadata": {},
     "output_type": "execute_result"
    }
   ],
   "source": [
    "roc_auc_score(test_y,py)"
   ]
  },
  {
   "cell_type": "code",
   "execution_count": 28,
   "metadata": {
    "ExecuteTime": {
     "end_time": "2019-03-22T20:48:42.605442Z",
     "start_time": "2019-03-22T20:48:42.600505Z"
    }
   },
   "outputs": [],
   "source": [
    " xgb =  gsf.best_estimator_.named_steps['xgb']\n",
    "#     gsf.best_estimator_"
   ]
  },
  {
   "cell_type": "code",
   "execution_count": 29,
   "metadata": {
    "ExecuteTime": {
     "end_time": "2019-03-22T20:48:43.416957Z",
     "start_time": "2019-03-22T20:48:43.396558Z"
    }
   },
   "outputs": [
    {
     "data": {
      "text/plain": [
       "array([0.00740741, 0.01037037, 0.        , 0.00148148, 0.        ,\n",
       "       0.        , 0.        , 0.        , 0.        , 0.00148148,\n",
       "       0.00296296, 0.00444444, 0.        , 0.00148148, 0.00296296,\n",
       "       0.00296296, 0.        , 0.00148148, 0.        , 0.00148148,\n",
       "       0.00148148, 0.        , 0.00148148, 0.        , 0.        ,\n",
       "       0.        , 0.        , 0.00148148, 0.        , 0.00148148,\n",
       "       0.        , 0.00296296, 0.        , 0.        , 0.        ,\n",
       "       0.        , 0.        , 0.        , 0.        , 0.        ,\n",
       "       0.00148148, 0.00148148, 0.        , 0.        , 0.        ,\n",
       "       0.00444444, 0.        , 0.        , 0.        , 0.        ,\n",
       "       0.00592593, 0.        , 0.        , 0.01481481, 0.01481481,\n",
       "       0.13333334, 0.16148148, 0.15407407, 0.06666667, 0.        ,\n",
       "       0.        , 0.00444444, 0.        , 0.        , 0.00148148,\n",
       "       0.00444444, 0.        , 0.00444444, 0.        , 0.        ,\n",
       "       0.        , 0.00148148, 0.00592593, 0.        , 0.        ,\n",
       "       0.        , 0.        , 0.        , 0.        , 0.        ,\n",
       "       0.        , 0.        , 0.        , 0.32740742, 0.04444445],\n",
       "      dtype=float32)"
      ]
     },
     "execution_count": 29,
     "metadata": {},
     "output_type": "execute_result"
    }
   ],
   "source": [
    "xgb.feature_importances_"
   ]
  },
  {
   "cell_type": "code",
   "execution_count": 30,
   "metadata": {
    "ExecuteTime": {
     "end_time": "2019-03-22T20:48:44.193563Z",
     "start_time": "2019-03-22T20:48:44.187053Z"
    }
   },
   "outputs": [],
   "source": [
    "from matplotlib import pyplot as plt"
   ]
  },
  {
   "cell_type": "code",
   "execution_count": 31,
   "metadata": {
    "ExecuteTime": {
     "end_time": "2019-03-22T20:48:44.984943Z",
     "start_time": "2019-03-22T20:48:44.979647Z"
    }
   },
   "outputs": [],
   "source": [
    "%matplotlib inline"
   ]
  },
  {
   "cell_type": "code",
   "execution_count": 36,
   "metadata": {
    "ExecuteTime": {
     "end_time": "2019-03-22T20:50:06.495663Z",
     "start_time": "2019-03-22T20:50:06.008807Z"
    }
   },
   "outputs": [
    {
     "data": {
      "text/plain": [
       "<matplotlib.axes._subplots.AxesSubplot at 0x7fa7d3dd69e8>"
      ]
     },
     "execution_count": 36,
     "metadata": {},
     "output_type": "execute_result"
    },
    {
     "data": {
      "image/png": "[encoded data removed]",
      "text/plain": [
       "<Figure size 360x720 with 1 Axes>"
      ]
     },
     "metadata": {
      "needs_background": "light"
     },
     "output_type": "display_data"
    }
   ],
   "source": [
    "fig, ax = plt.subplots(1,1,figsize=(5,10))\n",
    "plot_importance(xgb,ax=ax)"
   ]
  },
  {
   "cell_type": "code",
   "execution_count": 37,
   "metadata": {
    "ExecuteTime": {
     "end_time": "2019-03-22T20:50:14.797197Z",
     "start_time": "2019-03-22T20:50:12.956856Z"
    }
   },
   "outputs": [],
   "source": [
    "encoders = Pipeline([\n",
    "                ('binary', ce.BinaryEncoder(cols=binary_columns)),\n",
    "                ('onehot', ce.OneHotEncoder(use_cat_names=True,cols=one_hot_columns))\n",
    "#                 ('DecisionTree', DecisionTreeClassifier(max_depth=17, class_weight='balanced'))\n",
    "            ])\n",
    "dff = encoders.fit(df)\n",
    "dff_ = dff.transform(df)"
   ]
  },
  {
   "cell_type": "code",
   "execution_count": 38,
   "metadata": {
    "ExecuteTime": {
     "end_time": "2019-03-22T20:50:14.804554Z",
     "start_time": "2019-03-22T20:50:14.799478Z"
    }
   },
   "outputs": [
    {
     "data": {
      "text/plain": [
       "51916"
      ]
     },
     "execution_count": 38,
     "metadata": {},
     "output_type": "execute_result"
    }
   ],
   "source": [
    "len(dff_)"
   ]
  },
  {
   "cell_type": "code",
   "execution_count": 39,
   "metadata": {
    "ExecuteTime": {
     "end_time": "2019-03-22T20:50:15.838514Z",
     "start_time": "2019-03-22T20:50:15.829688Z"
    }
   },
   "outputs": [],
   "source": [
    "boost = gsf.best_estimator_.steps[-1][-1].get_booster()"
   ]
  },
  {
   "cell_type": "code",
   "execution_count": 40,
   "metadata": {
    "ExecuteTime": {
     "end_time": "2019-03-22T20:50:16.954684Z",
     "start_time": "2019-03-22T20:50:16.951158Z"
    }
   },
   "outputs": [],
   "source": [
    "xgbc = gsf.best_estimator_.steps[-1][-1]"
   ]
  },
  {
   "cell_type": "code",
   "execution_count": 41,
   "metadata": {
    "ExecuteTime": {
     "end_time": "2019-03-22T20:50:18.076853Z",
     "start_time": "2019-03-22T20:50:18.071194Z"
    }
   },
   "outputs": [],
   "source": [
    "type(boost)\n",
    "import xgboost as xgb"
   ]
  },
  {
   "cell_type": "code",
   "execution_count": 42,
   "metadata": {
    "ExecuteTime": {
     "end_time": "2019-03-22T20:50:19.453751Z",
     "start_time": "2019-03-22T20:50:19.433833Z"
    }
   },
   "outputs": [],
   "source": [
    "def partial_dependency(bst, X, y, feature):\n",
    "    \"\"\"\n",
    "    Calculate the dependency (or partial dependency) of a response variable on a predictor (or multiple predictors)\n",
    "    1. Sample a grid of values of a predictor.\n",
    "    2. For each value, replace every row of that predictor with this value, calculate the average prediction.\n",
    "    \"\"\"\n",
    "\n",
    "    X_temp = X.copy()\n",
    "    \n",
    "    grid = np.linspace(start=np.percentile(X_temp[feature], 0.1),\n",
    "                       stop=np.percentile(X_temp[feature], 99.5),\n",
    "                       num=50)\n",
    "    \n",
    "    y_pred = np.zeros(len(grid))\n",
    "\n",
    "    for i, value in enumerate(grid):\n",
    "        X_temp[feature] = value\n",
    "        data = xgb.DMatrix(X_temp)\n",
    "        y_pred[i] = np.average(bst.predict(data, ntree_limit=bst.best_ntree_limit))\n",
    "\n",
    "    plt.plot(grid, y_pred, '-', color='red', linewidth=2.5)\n",
    "    plt.plot(X, y, 'o', color='grey', alpha=0.01)\n",
    "    plt.xlim(min(grid), max(grid))\n",
    "    plt.xlabel(feature)\n",
    "    plt.ylabel(y.name)\n",
    "    plt.show()\n",
    "\n"
   ]
  },
  {
   "cell_type": "code",
   "execution_count": 43,
   "metadata": {
    "ExecuteTime": {
     "end_time": "2019-03-22T20:50:41.034725Z",
     "start_time": "2019-03-22T20:50:20.665725Z"
    }
   },
   "outputs": [
    {
     "data": {
      "image/png": "[encoded data removed]",
      "text/plain": [
       "<Figure size 432x288 with 1 Axes>"
      ]
     },
     "metadata": {
      "needs_background": "light"
     },
     "output_type": "display_data"
    }
   ],
   "source": [
    "pdff_= dff_.drop(columns='Fail')\n",
    "partial_dependency(boost, pdff_, y, 'violation')"
   ]
  },
  {
   "cell_type": "code",
   "execution_count": 44,
   "metadata": {
    "ExecuteTime": {
     "end_time": "2019-03-22T20:50:41.816328Z",
     "start_time": "2019-03-22T20:50:41.036796Z"
    }
   },
   "outputs": [
    {
     "data": {
      "image/png": "[encoded data removed]",
      "text/plain": [
       "<Figure size 1080x684 with 2 Axes>"
      ]
     },
     "metadata": {
      "needs_background": "light"
     },
     "output_type": "display_data"
    }
   ],
   "source": [
    "from pdpbox.pdp import pdp_isolate, pdp_plot\n",
    "\n",
    "feature='ftype_school'\n",
    "pdp_isolated = pdp_isolate(model=xgbc, dataset=pdff_, model_features=pdff_.columns, feature=feature)\n",
    "\n",
    "pdp_plot(pdp_isolated, feature);"
   ]
  },
  {
   "cell_type": "code",
   "execution_count": null,
   "metadata": {
    "ExecuteTime": {
     "end_time": "2019-03-22T20:47:30.990523Z",
     "start_time": "2019-03-22T20:46:36.228Z"
    }
   },
   "outputs": [],
   "source": [
    "dftt = pd.DataFrame(dff_.columns)"
   ]
  },
  {
   "cell_type": "code",
   "execution_count": null,
   "metadata": {
    "ExecuteTime": {
     "end_time": "2019-03-22T20:47:30.993184Z",
     "start_time": "2019-03-22T20:46:36.696Z"
    }
   },
   "outputs": [],
   "source": [
    "dftt"
   ]
  },
  {
   "cell_type": "code",
   "execution_count": null,
   "metadata": {},
   "outputs": [],
   "source": []
  }
 ],
 "metadata": {
  "kernelspec": {
   "display_name": "Python 3",
   "language": "python",
   "name": "python3"
  },
  "language_info": {
   "codemirror_mode": {
    "name": "ipython",
    "version": 3
   },
   "file_extension": ".py",
   "mimetype": "text/x-python",
   "name": "python",
   "nbconvert_exporter": "python",
   "pygments_lexer": "ipython3",
   "version": "3.6.6"
  },
  "latex_envs": {
   "LaTeX_envs_menu_present": true,
   "autoclose": false,
   "autocomplete": true,
   "bibliofile": "biblio.bib",
   "cite_by": "apalike",
   "current_citInitial": 1,
   "eqLabelWithNumbers": true,
   "eqNumInitial": 1,
   "hotkeys": {
    "equation": "Ctrl-E",
    "itemize": "Ctrl-I"
   },
   "labels_anchors": false,
   "latex_user_defs": false,
   "report_style_numbering": false,
   "user_envs_cfg": false
  }
 },
 "nbformat": 4,
 "nbformat_minor": 2
}

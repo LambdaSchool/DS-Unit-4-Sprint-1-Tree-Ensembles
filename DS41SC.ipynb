{
 "cells": [
  {
   "cell_type": "markdown",
   "metadata": {},
   "source": [
    "# Data Science Unit 4 Sprint Challenge 1 — Tree Ensembles"
   ]
  },
  {
   "cell_type": "markdown",
   "metadata": {},
   "source": [
    "### Chicago Food Inspections\n",
    "\n",
    "For this Sprint Challenge, you'll use a dataset with information from inspections of restaurants and other food establishments in Chicago from January 1, 2010 to the present. \n",
    "\n",
    "[See this PDF](https://data.cityofchicago.org/api/assets/BAD5301B-681A-4202-9D25-51B2CAE672FF) for descriptions of the data elements included in this dataset.\n",
    "\n",
    "According to [Chicago Department of Public Health — Food Protection Services](https://www.chicago.gov/city/en/depts/cdph/provdrs/healthy_restaurants/svcs/food-protection-services.html), \"Chicago is home to 16,000 food establishments like restaurants, grocery stores, bakeries, wholesalers, lunchrooms, mobile food vendors and more. Our business is food safety and sanitation with one goal, to prevent the spread of food-borne disease. We do this by inspecting food businesses, responding to complaints and food recalls.\" "
   ]
  },
  {
   "cell_type": "markdown",
   "metadata": {},
   "source": [
    "#### Your challenge: Predict whether inspections failed\n",
    "\n",
    "The target is the `Fail` column.\n",
    "\n",
    "- When the food establishment failed the inspection, the target is `1`.\n",
    "- When the establishment passed, the target is `0`."
   ]
  },
  {
   "cell_type": "markdown",
   "metadata": {},
   "source": [
    "### Part 1: Preprocessing\n",
    "\n",
    "You may choose which features you want to use, and whether/how you will preprocess them. You may use any tools and techniques for categorical encoding. (Pandas, category_encoders, sklearn.preprocessing, or any other library.)\n",
    "\n",
    "_To earn a score of 3 for this part, engineer new features, and use any alternative categorical encoding instead of One-Hot or Ordinal/Label encoding._\n",
    "\n",
    "### Part 2: Modeling\n",
    "\n",
    "Fit a Random Forest or Gradient Boosting model with the train set. (You may use scikit-learn, xgboost, or any other library.) Use cross-validation to estimate an ROC AUC validation score.\n",
    "\n",
    "Use your model to predict probabilities for the test set. Get an ROC AUC test score >= 0.60.\n",
    "\n",
    "_To earn a score of 3 for this part, get an ROC AUC test score >= 0.70._\n",
    "\n",
    "\n",
    "### Part 3: Visualization\n",
    "\n",
    "Make one visualization for model interpretation. (You may use any libraries.) Choose one of these types:\n",
    "- Feature Importances\n",
    "- Permutation Importances\n",
    "- Partial Dependence Plot\n",
    "\n",
    "_To earn a score of 3 for this part, make at least two of these visualization types._"
   ]
  },
  {
   "cell_type": "markdown",
   "metadata": {},
   "source": [
    "#### Run this cell to load the data:"
   ]
  },
  {
   "cell_type": "code",
   "execution_count": 2,
   "metadata": {},
   "outputs": [],
   "source": [
    "import pandas as pd\n",
    "\n",
    "train_url = 'https://drive.google.com/uc?export=download&id=13_tP9JpLcZHSPVpWcua4t2rY44K_s4H5'\n",
    "test_url  = 'https://drive.google.com/uc?export=download&id=1GkDHjsiGrzOXoF_xcYjdzBTSjOIi3g5a'\n",
    "\n",
    "train = pd.read_csv(train_url)\n",
    "test  = pd.read_csv(test_url)\n",
    "\n",
    "assert train.shape == (51916, 17)\n",
    "assert test.shape  == (17306, 17)"
   ]
  },
  {
   "cell_type": "markdown",
   "metadata": {},
   "source": [
    "### Merge train and test set"
   ]
  },
  {
   "cell_type": "code",
   "execution_count": 3,
   "metadata": {},
   "outputs": [],
   "source": [
    "df = pd.concat([train,test])"
   ]
  },
  {
   "cell_type": "code",
   "execution_count": 4,
   "metadata": {},
   "outputs": [
    {
     "data": {
      "text/html": [
       "<div>\n",
       "<style scoped>\n",
       "    .dataframe tbody tr th:only-of-type {\n",
       "        vertical-align: middle;\n",
       "    }\n",
       "\n",
       "    .dataframe tbody tr th {\n",
       "        vertical-align: top;\n",
       "    }\n",
       "\n",
       "    .dataframe thead th {\n",
       "        text-align: right;\n",
       "    }\n",
       "</style>\n",
       "<table border=\"1\" class=\"dataframe\">\n",
       "  <thead>\n",
       "    <tr style=\"text-align: right;\">\n",
       "      <th></th>\n",
       "      <th>Inspection ID</th>\n",
       "      <th>DBA Name</th>\n",
       "      <th>AKA Name</th>\n",
       "      <th>License #</th>\n",
       "      <th>Facility Type</th>\n",
       "      <th>Risk</th>\n",
       "      <th>Address</th>\n",
       "      <th>City</th>\n",
       "      <th>State</th>\n",
       "      <th>Zip</th>\n",
       "      <th>Inspection Date</th>\n",
       "      <th>Inspection Type</th>\n",
       "      <th>Violations</th>\n",
       "      <th>Latitude</th>\n",
       "      <th>Longitude</th>\n",
       "      <th>Location</th>\n",
       "      <th>Fail</th>\n",
       "    </tr>\n",
       "  </thead>\n",
       "  <tbody>\n",
       "    <tr>\n",
       "      <th>0</th>\n",
       "      <td>2088270</td>\n",
       "      <td>TOM YUM RICE &amp; NOODLE, INC.</td>\n",
       "      <td>TOM YUM CAFE</td>\n",
       "      <td>2354911.0</td>\n",
       "      <td>Restaurant</td>\n",
       "      <td>Risk 1 (High)</td>\n",
       "      <td>608 W BARRY</td>\n",
       "      <td>CHICAGO</td>\n",
       "      <td>IL</td>\n",
       "      <td>60657.0</td>\n",
       "      <td>2017-09-15T00:00:00</td>\n",
       "      <td>Canvass</td>\n",
       "      <td>3. POTENTIALLY HAZARDOUS FOOD MEETS TEMPERATUR...</td>\n",
       "      <td>41.938007</td>\n",
       "      <td>-87.644755</td>\n",
       "      <td>{'longitude': '-87.6447545707008', 'latitude':...</td>\n",
       "      <td>1</td>\n",
       "    </tr>\n",
       "    <tr>\n",
       "      <th>1</th>\n",
       "      <td>555268</td>\n",
       "      <td>FILLING STATION  &amp; CONVENIENCE  STORE</td>\n",
       "      <td>FILLING STATION  &amp; CONVENIENCE  STORE</td>\n",
       "      <td>1044901.0</td>\n",
       "      <td>Grocery Store</td>\n",
       "      <td>Risk 3 (Low)</td>\n",
       "      <td>6646-6658 S WESTERN AVE</td>\n",
       "      <td>CHICAGO</td>\n",
       "      <td>IL</td>\n",
       "      <td>60636.0</td>\n",
       "      <td>2011-10-20T00:00:00</td>\n",
       "      <td>Complaint Re-Inspection</td>\n",
       "      <td>32. FOOD AND NON-FOOD CONTACT SURFACES PROPERL...</td>\n",
       "      <td>41.772402</td>\n",
       "      <td>-87.683603</td>\n",
       "      <td>{'longitude': '-87.68360273081268', 'latitude'...</td>\n",
       "      <td>0</td>\n",
       "    </tr>\n",
       "    <tr>\n",
       "      <th>2</th>\n",
       "      <td>1751394</td>\n",
       "      <td>A P DELI</td>\n",
       "      <td>A P DELI</td>\n",
       "      <td>47405.0</td>\n",
       "      <td>Restaurant</td>\n",
       "      <td>Risk 1 (High)</td>\n",
       "      <td>2025 E 75TH ST</td>\n",
       "      <td>CHICAGO</td>\n",
       "      <td>IL</td>\n",
       "      <td>60649.0</td>\n",
       "      <td>2016-04-05T00:00:00</td>\n",
       "      <td>Canvass Re-Inspection</td>\n",
       "      <td>35. WALLS, CEILINGS, ATTACHED EQUIPMENT CONSTR...</td>\n",
       "      <td>41.758779</td>\n",
       "      <td>-87.575054</td>\n",
       "      <td>{'longitude': '-87.57505446746121', 'latitude'...</td>\n",
       "      <td>0</td>\n",
       "    </tr>\n",
       "    <tr>\n",
       "      <th>3</th>\n",
       "      <td>1763905</td>\n",
       "      <td>FRANK'S CHICAGO SHRIMP HOUSE</td>\n",
       "      <td>FRANK'S CHICAGO SHRIMP HOUSE</td>\n",
       "      <td>6414.0</td>\n",
       "      <td>Restaurant</td>\n",
       "      <td>Risk 2 (Medium)</td>\n",
       "      <td>4459 S ARCHER AVE</td>\n",
       "      <td>CHICAGO</td>\n",
       "      <td>IL</td>\n",
       "      <td>60632.0</td>\n",
       "      <td>2016-04-29T00:00:00</td>\n",
       "      <td>Canvass</td>\n",
       "      <td>38. VENTILATION: ROOMS AND EQUIPMENT VENTED AS...</td>\n",
       "      <td>41.812181</td>\n",
       "      <td>-87.707125</td>\n",
       "      <td>{'longitude': '-87.70712481334274', 'latitude'...</td>\n",
       "      <td>0</td>\n",
       "    </tr>\n",
       "    <tr>\n",
       "      <th>4</th>\n",
       "      <td>453326</td>\n",
       "      <td>MORRILL</td>\n",
       "      <td>MORRILL</td>\n",
       "      <td>24571.0</td>\n",
       "      <td>School</td>\n",
       "      <td>Risk 1 (High)</td>\n",
       "      <td>6011 S Rockwell (2600W) AVE</td>\n",
       "      <td>CHICAGO</td>\n",
       "      <td>IL</td>\n",
       "      <td>60629.0</td>\n",
       "      <td>2011-01-10T00:00:00</td>\n",
       "      <td>Canvass</td>\n",
       "      <td>34. FLOORS: CONSTRUCTED PER CODE, CLEANED, GOO...</td>\n",
       "      <td>NaN</td>\n",
       "      <td>NaN</td>\n",
       "      <td>NaN</td>\n",
       "      <td>0</td>\n",
       "    </tr>\n",
       "  </tbody>\n",
       "</table>\n",
       "</div>"
      ],
      "text/plain": [
       "   Inspection ID                               DBA Name  \\\n",
       "0        2088270            TOM YUM RICE & NOODLE, INC.   \n",
       "1         555268  FILLING STATION  & CONVENIENCE  STORE   \n",
       "2        1751394                               A P DELI   \n",
       "3        1763905           FRANK'S CHICAGO SHRIMP HOUSE   \n",
       "4         453326                                MORRILL   \n",
       "\n",
       "                                AKA Name  License #  Facility Type  \\\n",
       "0                           TOM YUM CAFE  2354911.0     Restaurant   \n",
       "1  FILLING STATION  & CONVENIENCE  STORE  1044901.0  Grocery Store   \n",
       "2                               A P DELI    47405.0     Restaurant   \n",
       "3           FRANK'S CHICAGO SHRIMP HOUSE     6414.0     Restaurant   \n",
       "4                                MORRILL    24571.0         School   \n",
       "\n",
       "              Risk                       Address     City State      Zip  \\\n",
       "0    Risk 1 (High)                  608 W BARRY   CHICAGO    IL  60657.0   \n",
       "1     Risk 3 (Low)      6646-6658 S WESTERN AVE   CHICAGO    IL  60636.0   \n",
       "2    Risk 1 (High)               2025 E 75TH ST   CHICAGO    IL  60649.0   \n",
       "3  Risk 2 (Medium)            4459 S ARCHER AVE   CHICAGO    IL  60632.0   \n",
       "4    Risk 1 (High)  6011 S Rockwell (2600W) AVE   CHICAGO    IL  60629.0   \n",
       "\n",
       "       Inspection Date          Inspection Type  \\\n",
       "0  2017-09-15T00:00:00                  Canvass   \n",
       "1  2011-10-20T00:00:00  Complaint Re-Inspection   \n",
       "2  2016-04-05T00:00:00    Canvass Re-Inspection   \n",
       "3  2016-04-29T00:00:00                  Canvass   \n",
       "4  2011-01-10T00:00:00                  Canvass   \n",
       "\n",
       "                                          Violations   Latitude  Longitude  \\\n",
       "0  3. POTENTIALLY HAZARDOUS FOOD MEETS TEMPERATUR...  41.938007 -87.644755   \n",
       "1  32. FOOD AND NON-FOOD CONTACT SURFACES PROPERL...  41.772402 -87.683603   \n",
       "2  35. WALLS, CEILINGS, ATTACHED EQUIPMENT CONSTR...  41.758779 -87.575054   \n",
       "3  38. VENTILATION: ROOMS AND EQUIPMENT VENTED AS...  41.812181 -87.707125   \n",
       "4  34. FLOORS: CONSTRUCTED PER CODE, CLEANED, GOO...        NaN        NaN   \n",
       "\n",
       "                                            Location  Fail  \n",
       "0  {'longitude': '-87.6447545707008', 'latitude':...     1  \n",
       "1  {'longitude': '-87.68360273081268', 'latitude'...     0  \n",
       "2  {'longitude': '-87.57505446746121', 'latitude'...     0  \n",
       "3  {'longitude': '-87.70712481334274', 'latitude'...     0  \n",
       "4                                                NaN     0  "
      ]
     },
     "execution_count": 4,
     "metadata": {},
     "output_type": "execute_result"
    }
   ],
   "source": [
    "df.head()"
   ]
  },
  {
   "cell_type": "markdown",
   "metadata": {},
   "source": [
    "## Feature Engineering"
   ]
  },
  {
   "cell_type": "code",
   "execution_count": 5,
   "metadata": {},
   "outputs": [],
   "source": [
    "df = df.drop(columns=['Inspection ID', 'License #', 'Latitude', 'Longitude', 'Location'])"
   ]
  },
  {
   "cell_type": "code",
   "execution_count": 6,
   "metadata": {},
   "outputs": [],
   "source": [
    "df['no_violation'] = df['Violations'].isna()"
   ]
  },
  {
   "cell_type": "code",
   "execution_count": 7,
   "metadata": {},
   "outputs": [],
   "source": [
    "df['Inspection Date'] = pd.to_datetime(df['Inspection Date'], infer_datetime_format=True)\n",
    "df['Inspection Date'] = pd.Timestamp.today() - df['Inspection Date']\n",
    "df['Inspection Date'] = df['Inspection Date'].dt.days"
   ]
  },
  {
   "cell_type": "markdown",
   "metadata": {},
   "source": [
    "### Define X and y"
   ]
  },
  {
   "cell_type": "code",
   "execution_count": 8,
   "metadata": {},
   "outputs": [],
   "source": [
    "y = df['Fail']"
   ]
  },
  {
   "cell_type": "code",
   "execution_count": 9,
   "metadata": {},
   "outputs": [],
   "source": [
    "X = df.drop(columns=['Fail'])"
   ]
  },
  {
   "cell_type": "markdown",
   "metadata": {},
   "source": [
    "### Encode Train and Test together to ensure feature consistency. "
   ]
  },
  {
   "cell_type": "code",
   "execution_count": 10,
   "metadata": {},
   "outputs": [],
   "source": [
    "import category_encoders as ce"
   ]
  },
  {
   "cell_type": "code",
   "execution_count": 11,
   "metadata": {},
   "outputs": [],
   "source": [
    "encoder = ce.BinaryEncoder(handle_unknown='ignore')"
   ]
  },
  {
   "cell_type": "code",
   "execution_count": 12,
   "metadata": {},
   "outputs": [],
   "source": [
    "X = encoder.fit_transform(X)"
   ]
  },
  {
   "cell_type": "markdown",
   "metadata": {},
   "source": [
    "### Train Test Split - I chose this format because native XGBoost is easier to work with if a proper train/test split is done"
   ]
  },
  {
   "cell_type": "code",
   "execution_count": 13,
   "metadata": {},
   "outputs": [],
   "source": [
    "from sklearn.model_selection import train_test_split"
   ]
  },
  {
   "cell_type": "code",
   "execution_count": 14,
   "metadata": {},
   "outputs": [],
   "source": [
    "X_train, X_test, y_train, y_test = train_test_split(X, y, test_size=0.33, random_state=42)"
   ]
  },
  {
   "cell_type": "markdown",
   "metadata": {},
   "source": [
    "### I prefer using XGB standard API rather than it's sklearn wrapper - turn test/train sets into DMatrices"
   ]
  },
  {
   "cell_type": "code",
   "execution_count": 15,
   "metadata": {},
   "outputs": [],
   "source": [
    "import xgboost as xgb"
   ]
  },
  {
   "cell_type": "code",
   "execution_count": 16,
   "metadata": {},
   "outputs": [],
   "source": [
    "dtrain = xgb.DMatrix(X_train, label=y_train)"
   ]
  },
  {
   "cell_type": "code",
   "execution_count": 17,
   "metadata": {},
   "outputs": [],
   "source": [
    "dtest = xgb.DMatrix(X_test, label=y_test)"
   ]
  },
  {
   "cell_type": "markdown",
   "metadata": {},
   "source": [
    "## Note: Parameters are chosen to be fast - I would have been able to optimize for ROC_AUC better with these if I wasn't worried about compute time\n",
    "___"
   ]
  },
  {
   "cell_type": "code",
   "execution_count": 18,
   "metadata": {},
   "outputs": [],
   "source": [
    "params = {\n",
    "        \n",
    "        'monotone_constraints': '(0)', # no constraint\n",
    "        'eta' : 0.3 ,\n",
    "        'min_child_weight': 7,\n",
    "        'max_depth' : 9,\n",
    "        #'gamma' : 0.2,\n",
    "        'max_delta_step' : 0,\n",
    "        'subsample' : 1,\n",
    "        'colsample_bytree' : 0.9,\n",
    "        # 'colsample_bylevel' : 1,\n",
    "        'alpha' : 0,\n",
    "        'scale_pos_weight' : 1,\n",
    "        'eval_metric' : \"auc\",\n",
    "        'silent' : 1,\n",
    "        'n_jobs' : -1,\n",
    "          \n",
    "         }"
   ]
  },
  {
   "cell_type": "markdown",
   "metadata": {},
   "source": [
    "## First Crossval"
   ]
  },
  {
   "cell_type": "code",
   "execution_count": 19,
   "metadata": {},
   "outputs": [],
   "source": [
    "bst_cv = xgb.cv(params, dtrain, num_boost_round=1000, nfold=5, early_stopping_rounds=10, as_pandas=True)"
   ]
  },
  {
   "cell_type": "code",
   "execution_count": 20,
   "metadata": {},
   "outputs": [
    {
     "data": {
      "text/html": [
       "<div>\n",
       "<style scoped>\n",
       "    .dataframe tbody tr th:only-of-type {\n",
       "        vertical-align: middle;\n",
       "    }\n",
       "\n",
       "    .dataframe tbody tr th {\n",
       "        vertical-align: top;\n",
       "    }\n",
       "\n",
       "    .dataframe thead th {\n",
       "        text-align: right;\n",
       "    }\n",
       "</style>\n",
       "<table border=\"1\" class=\"dataframe\">\n",
       "  <thead>\n",
       "    <tr style=\"text-align: right;\">\n",
       "      <th></th>\n",
       "      <th>train-auc-mean</th>\n",
       "      <th>train-auc-std</th>\n",
       "      <th>test-auc-mean</th>\n",
       "      <th>test-auc-std</th>\n",
       "    </tr>\n",
       "  </thead>\n",
       "  <tbody>\n",
       "    <tr>\n",
       "      <th>count</th>\n",
       "      <td>9.000000</td>\n",
       "      <td>9.000000</td>\n",
       "      <td>9.000000</td>\n",
       "      <td>9.000000</td>\n",
       "    </tr>\n",
       "    <tr>\n",
       "      <th>mean</th>\n",
       "      <td>0.807696</td>\n",
       "      <td>0.002650</td>\n",
       "      <td>0.730892</td>\n",
       "      <td>0.004470</td>\n",
       "    </tr>\n",
       "    <tr>\n",
       "      <th>std</th>\n",
       "      <td>0.039724</td>\n",
       "      <td>0.000881</td>\n",
       "      <td>0.019342</td>\n",
       "      <td>0.001105</td>\n",
       "    </tr>\n",
       "    <tr>\n",
       "      <th>min</th>\n",
       "      <td>0.721342</td>\n",
       "      <td>0.002024</td>\n",
       "      <td>0.681242</td>\n",
       "      <td>0.003119</td>\n",
       "    </tr>\n",
       "    <tr>\n",
       "      <th>25%</th>\n",
       "      <td>0.794770</td>\n",
       "      <td>0.002094</td>\n",
       "      <td>0.733803</td>\n",
       "      <td>0.003750</td>\n",
       "    </tr>\n",
       "    <tr>\n",
       "      <th>50%</th>\n",
       "      <td>0.813554</td>\n",
       "      <td>0.002258</td>\n",
       "      <td>0.739375</td>\n",
       "      <td>0.004371</td>\n",
       "    </tr>\n",
       "    <tr>\n",
       "      <th>75%</th>\n",
       "      <td>0.833653</td>\n",
       "      <td>0.002880</td>\n",
       "      <td>0.740299</td>\n",
       "      <td>0.004677</td>\n",
       "    </tr>\n",
       "    <tr>\n",
       "      <th>max</th>\n",
       "      <td>0.851884</td>\n",
       "      <td>0.004740</td>\n",
       "      <td>0.740411</td>\n",
       "      <td>0.006748</td>\n",
       "    </tr>\n",
       "  </tbody>\n",
       "</table>\n",
       "</div>"
      ],
      "text/plain": [
       "       train-auc-mean  train-auc-std  test-auc-mean  test-auc-std\n",
       "count        9.000000       9.000000       9.000000      9.000000\n",
       "mean         0.807696       0.002650       0.730892      0.004470\n",
       "std          0.039724       0.000881       0.019342      0.001105\n",
       "min          0.721342       0.002024       0.681242      0.003119\n",
       "25%          0.794770       0.002094       0.733803      0.003750\n",
       "50%          0.813554       0.002258       0.739375      0.004371\n",
       "75%          0.833653       0.002880       0.740299      0.004677\n",
       "max          0.851884       0.004740       0.740411      0.006748"
      ]
     },
     "execution_count": 20,
     "metadata": {},
     "output_type": "execute_result"
    }
   ],
   "source": [
    "bst_cv.describe()"
   ]
  },
  {
   "cell_type": "markdown",
   "metadata": {},
   "source": [
    "# Chris-search CV\n",
    "____"
   ]
  },
  {
   "cell_type": "markdown",
   "metadata": {},
   "source": [
    "## 1. Max Depth and Min Child Weight"
   ]
  },
  {
   "cell_type": "code",
   "execution_count": 21,
   "metadata": {},
   "outputs": [],
   "source": [
    "#Define our parameters to search\n",
    "gridsearch_params = [\n",
    "    (max_depth, min_child_weight)\n",
    "    for max_depth in range(9,12)\n",
    "    for min_child_weight in range(5,8)\n",
    "]\n"
   ]
  },
  {
   "cell_type": "code",
   "execution_count": 22,
   "metadata": {},
   "outputs": [
    {
     "name": "stdout",
     "output_type": "stream",
     "text": [
      "CV with max_depth=9, min_child_weight=5\n",
      "  AUC 0.7398464 for 7 rounds\n",
      "CV with max_depth=9, min_child_weight=6\n",
      "  AUC 0.7415548 for 9 rounds\n",
      "CV with max_depth=9, min_child_weight=7\n",
      "  AUC 0.7401440000000001 for 5 rounds\n",
      "CV with max_depth=10, min_child_weight=5\n",
      "  AUC 0.7364687999999999 for 5 rounds\n",
      "CV with max_depth=10, min_child_weight=6\n",
      "  AUC 0.7371551999999999 for 5 rounds\n",
      "CV with max_depth=10, min_child_weight=7\n",
      "  AUC 0.7374272000000001 for 6 rounds\n",
      "CV with max_depth=11, min_child_weight=5\n",
      "  AUC 0.7285554 for 6 rounds\n",
      "CV with max_depth=11, min_child_weight=6\n",
      "  AUC 0.7299854 for 5 rounds\n",
      "CV with max_depth=11, min_child_weight=7\n",
      "  AUC 0.7313436 for 4 rounds\n",
      "Best params: 9, 6, AUC: 0.7415548\n"
     ]
    }
   ],
   "source": [
    "# Define initial best params and AUC\n",
    "max_auc = float(0)\n",
    "best_params = []\n",
    "for max_depth, min_child_weight in gridsearch_params:\n",
    "    print(\"CV with max_depth={}, min_child_weight={}\".format(\n",
    "                             max_depth,\n",
    "                             min_child_weight))\n",
    "\n",
    "    # Update our parameters\n",
    "    params['max_depth'] = max_depth\n",
    "    params['min_child_weight'] = min_child_weight\n",
    "\n",
    "    # Run CV\n",
    "    cv_results = xgb.cv(\n",
    "        params, dtrain, num_boost_round=1000, nfold=5, early_stopping_rounds=10, seed = 42,\n",
    "    )\n",
    "\n",
    "    # Update best AUC\n",
    "    mean_auc = cv_results['test-auc-mean'].max()\n",
    "    boost_rounds = cv_results['test-auc-mean'].idxmax()\n",
    "    print(\"  AUC {} for {} rounds\".format(mean_auc, boost_rounds))\n",
    "    if mean_auc > max_auc:\n",
    "        max_auc = mean_auc\n",
    "        best_params = [max_depth,min_child_weight]\n",
    "\n",
    "print(\"Best params: {}, {}, AUC: {}\".format(best_params[0], best_params[1], max_auc))\n"
   ]
  },
  {
   "cell_type": "code",
   "execution_count": 23,
   "metadata": {},
   "outputs": [],
   "source": [
    "params['max_depth'] = 9\n",
    "params['min_child_weight'] = 6"
   ]
  },
  {
   "cell_type": "markdown",
   "metadata": {},
   "source": [
    "## 2. Subsample and Colsample_by_tree"
   ]
  },
  {
   "cell_type": "code",
   "execution_count": 24,
   "metadata": {},
   "outputs": [],
   "source": [
    "gridsearch_params = [\n",
    "    (subsample, colsample)\n",
    "    for subsample in [i/10. for i in range(7,11)]\n",
    "    for colsample in [i/10. for i in range(7,11)]\n",
    "]"
   ]
  },
  {
   "cell_type": "code",
   "execution_count": 25,
   "metadata": {},
   "outputs": [
    {
     "name": "stdout",
     "output_type": "stream",
     "text": [
      "CV with subsample=1.0, colsample=1.0\n",
      "   AUC 0.7409817999999999 for 5 rounds\n",
      "CV with subsample=1.0, colsample=0.9\n",
      "   AUC 0.7415548 for 9 rounds\n",
      "CV with subsample=1.0, colsample=0.8\n",
      "   AUC 0.7391702 for 11 rounds\n",
      "CV with subsample=1.0, colsample=0.7\n",
      "   AUC 0.7346386 for 11 rounds\n",
      "CV with subsample=0.9, colsample=1.0\n",
      "   AUC 0.7399652 for 8 rounds\n",
      "CV with subsample=0.9, colsample=0.9\n",
      "   AUC 0.7382025999999999 for 5 rounds\n",
      "CV with subsample=0.9, colsample=0.8\n",
      "   AUC 0.7372852 for 8 rounds\n",
      "CV with subsample=0.9, colsample=0.7\n",
      "   AUC 0.730727 for 10 rounds\n",
      "CV with subsample=0.8, colsample=1.0\n",
      "   AUC 0.7386272 for 4 rounds\n",
      "CV with subsample=0.8, colsample=0.9\n",
      "   AUC 0.7339619999999999 for 5 rounds\n",
      "CV with subsample=0.8, colsample=0.8\n",
      "   AUC 0.7347430000000001 for 5 rounds\n",
      "CV with subsample=0.8, colsample=0.7\n",
      "   AUC 0.7313097999999999 for 10 rounds\n",
      "CV with subsample=0.7, colsample=1.0\n",
      "   AUC 0.7343713999999999 for 5 rounds\n",
      "CV with subsample=0.7, colsample=0.9\n",
      "   AUC 0.7343204 for 4 rounds\n",
      "CV with subsample=0.7, colsample=0.8\n",
      "   AUC 0.7327948000000001 for 6 rounds\n",
      "CV with subsample=0.7, colsample=0.7\n",
      "   AUC 0.7249546 for 8 rounds\n",
      "Best params: 1.0, 0.9, AUC: 0.7415548\n"
     ]
    }
   ],
   "source": [
    "# Define initial best params and AUC\n",
    "max_auc = float(0)\n",
    "best_params = []\n",
    "\n",
    "for subsample, colsample in reversed (gridsearch_params):\n",
    "    print(\"CV with subsample={}, colsample={}\".format(\n",
    "                             subsample,\n",
    "                             colsample))\n",
    "\n",
    "    # We update our parameters\n",
    "    params['subsample'] = subsample\n",
    "    params['colsample_bytree'] = colsample\n",
    "\n",
    "    # Run CV\n",
    "    cv_results = xgb.cv(\n",
    "        params, dtrain, num_boost_round=2000, nfold=5, early_stopping_rounds=60, seed = 42,\n",
    "    )\n",
    "\n",
    "    # Update best AUC\n",
    "    mean_auc = cv_results['test-auc-mean'].max()\n",
    "    boost_rounds = cv_results['test-auc-mean'].idxmax()\n",
    "    print(\"   AUC {} for {} rounds\".format(mean_auc, boost_rounds))\n",
    "    if mean_auc > max_auc:\n",
    "        max_auc = mean_auc\n",
    "        best_params = [subsample,colsample]\n",
    "\n",
    "print(\"Best params: {}, {}, AUC: {}\".format(best_params[0], best_params[1], max_auc))"
   ]
  },
  {
   "cell_type": "code",
   "execution_count": 26,
   "metadata": {},
   "outputs": [],
   "source": [
    "params['subsample'] = 1\n",
    "params['colsample_bytree'] = 0.9"
   ]
  },
  {
   "cell_type": "markdown",
   "metadata": {},
   "source": [
    "## 3. Learning rate / ETA"
   ]
  },
  {
   "cell_type": "code",
   "execution_count": 27,
   "metadata": {},
   "outputs": [
    {
     "name": "stdout",
     "output_type": "stream",
     "text": [
      "CV with eta=0.3\n",
      "  AUC 0.7415548 for 9 rounds\n",
      "CV with eta=0.2\n",
      "  AUC 0.7468011999999999 for 17 rounds\n",
      "CV with eta=0.1\n",
      "  AUC 0.7556177999999999 for 109 rounds\n",
      "CV with eta=0.05\n",
      "  AUC 0.7590425999999999 for 173 rounds\n",
      "Best params: 0.05,  AUC: 0.7590425999999999\n"
     ]
    }
   ],
   "source": [
    "# Define initial best params and AUC\n",
    "max_auc = float(0)\n",
    "best_params = []\n",
    "\n",
    "for eta in [.3, .2, .1, .05,]:\n",
    "    print(\"CV with eta={}\".format(eta))\n",
    "\n",
    "   \n",
    "    # We update our parameters\n",
    "    params['eta'] = eta\n",
    "\n",
    "    # Run CV\n",
    "    cv_results = xgb.cv(\n",
    "        params, dtrain, num_boost_round=2000, nfold=5, early_stopping_rounds=60, seed = 42,\n",
    "    )\n",
    "\n",
    "    # Update best AUC\n",
    "    mean_auc = cv_results['test-auc-mean'].max()\n",
    "    boost_rounds = cv_results['test-auc-mean'].idxmax()\n",
    "    print(\"  AUC {} for {} rounds\".format(mean_auc, boost_rounds))\n",
    "    if mean_auc > max_auc:\n",
    "        max_auc = mean_auc\n",
    "        best_params = eta\n",
    "\n",
    "print(\"Best params: {},  AUC: {}\".format(best_params, max_auc))\n"
   ]
  },
  {
   "cell_type": "code",
   "execution_count": 28,
   "metadata": {},
   "outputs": [],
   "source": [
    "params['eta'] = 0.05"
   ]
  },
  {
   "cell_type": "markdown",
   "metadata": {},
   "source": [
    "# Evaluating on the test set\n",
    "____"
   ]
  },
  {
   "cell_type": "code",
   "execution_count": 29,
   "metadata": {},
   "outputs": [
    {
     "name": "stdout",
     "output_type": "stream",
     "text": [
      "[0]\tTest-auc:0.67861\n",
      "Will train until Test-auc hasn't improved in 10 rounds.\n",
      "[1]\tTest-auc:0.724318\n",
      "[2]\tTest-auc:0.729185\n",
      "[3]\tTest-auc:0.731296\n",
      "[4]\tTest-auc:0.732827\n",
      "[5]\tTest-auc:0.732359\n",
      "[6]\tTest-auc:0.732833\n",
      "[7]\tTest-auc:0.734447\n",
      "[8]\tTest-auc:0.735029\n",
      "[9]\tTest-auc:0.735267\n",
      "[10]\tTest-auc:0.736005\n",
      "[11]\tTest-auc:0.736207\n",
      "[12]\tTest-auc:0.736915\n",
      "[13]\tTest-auc:0.737678\n",
      "[14]\tTest-auc:0.737783\n",
      "[15]\tTest-auc:0.737772\n",
      "[16]\tTest-auc:0.738213\n",
      "[17]\tTest-auc:0.738455\n",
      "[18]\tTest-auc:0.739282\n",
      "[19]\tTest-auc:0.739521\n",
      "[20]\tTest-auc:0.739777\n",
      "[21]\tTest-auc:0.740348\n",
      "[22]\tTest-auc:0.74055\n",
      "[23]\tTest-auc:0.740773\n",
      "[24]\tTest-auc:0.741044\n",
      "[25]\tTest-auc:0.741769\n",
      "[26]\tTest-auc:0.742116\n",
      "[27]\tTest-auc:0.742612\n",
      "[28]\tTest-auc:0.742399\n",
      "[29]\tTest-auc:0.74286\n",
      "[30]\tTest-auc:0.742916\n",
      "[31]\tTest-auc:0.743165\n",
      "[32]\tTest-auc:0.743102\n",
      "[33]\tTest-auc:0.743267\n",
      "[34]\tTest-auc:0.743435\n",
      "[35]\tTest-auc:0.743482\n",
      "[36]\tTest-auc:0.743691\n",
      "[37]\tTest-auc:0.743626\n",
      "[38]\tTest-auc:0.743576\n",
      "[39]\tTest-auc:0.743526\n",
      "[40]\tTest-auc:0.743716\n",
      "[41]\tTest-auc:0.74386\n",
      "[42]\tTest-auc:0.744002\n",
      "[43]\tTest-auc:0.744198\n",
      "[44]\tTest-auc:0.744343\n",
      "[45]\tTest-auc:0.744567\n",
      "[46]\tTest-auc:0.744592\n",
      "[47]\tTest-auc:0.744363\n",
      "[48]\tTest-auc:0.744704\n",
      "[49]\tTest-auc:0.744857\n",
      "[50]\tTest-auc:0.745244\n",
      "[51]\tTest-auc:0.74533\n",
      "[52]\tTest-auc:0.745517\n",
      "[53]\tTest-auc:0.745612\n",
      "[54]\tTest-auc:0.745727\n",
      "[55]\tTest-auc:0.745816\n",
      "[56]\tTest-auc:0.746129\n",
      "[57]\tTest-auc:0.746152\n",
      "[58]\tTest-auc:0.746021\n",
      "[59]\tTest-auc:0.74627\n",
      "[60]\tTest-auc:0.746472\n",
      "[61]\tTest-auc:0.746796\n",
      "[62]\tTest-auc:0.746699\n",
      "[63]\tTest-auc:0.746812\n",
      "[64]\tTest-auc:0.746832\n",
      "[65]\tTest-auc:0.746865\n",
      "[66]\tTest-auc:0.74689\n",
      "[67]\tTest-auc:0.746821\n",
      "[68]\tTest-auc:0.74674\n",
      "[69]\tTest-auc:0.746829\n",
      "[70]\tTest-auc:0.747069\n",
      "[71]\tTest-auc:0.74733\n",
      "[72]\tTest-auc:0.747372\n",
      "[73]\tTest-auc:0.7475\n",
      "[74]\tTest-auc:0.747485\n",
      "[75]\tTest-auc:0.747397\n",
      "[76]\tTest-auc:0.74798\n",
      "[77]\tTest-auc:0.747926\n",
      "[78]\tTest-auc:0.748017\n",
      "[79]\tTest-auc:0.748342\n",
      "[80]\tTest-auc:0.748419\n",
      "[81]\tTest-auc:0.748386\n",
      "[82]\tTest-auc:0.74844\n",
      "[83]\tTest-auc:0.748505\n",
      "[84]\tTest-auc:0.748722\n",
      "[85]\tTest-auc:0.748689\n",
      "[86]\tTest-auc:0.749016\n",
      "[87]\tTest-auc:0.749004\n",
      "[88]\tTest-auc:0.749021\n",
      "[89]\tTest-auc:0.749021\n",
      "[90]\tTest-auc:0.749107\n",
      "[91]\tTest-auc:0.749156\n",
      "[92]\tTest-auc:0.749154\n",
      "[93]\tTest-auc:0.749033\n",
      "[94]\tTest-auc:0.748901\n",
      "[95]\tTest-auc:0.749431\n",
      "[96]\tTest-auc:0.749588\n",
      "[97]\tTest-auc:0.749766\n",
      "[98]\tTest-auc:0.749775\n",
      "[99]\tTest-auc:0.749797\n",
      "[100]\tTest-auc:0.749924\n",
      "[101]\tTest-auc:0.749938\n",
      "[102]\tTest-auc:0.750387\n",
      "[103]\tTest-auc:0.750519\n",
      "[104]\tTest-auc:0.750444\n",
      "[105]\tTest-auc:0.750731\n",
      "[106]\tTest-auc:0.750813\n",
      "[107]\tTest-auc:0.751034\n",
      "[108]\tTest-auc:0.751087\n",
      "[109]\tTest-auc:0.751152\n",
      "[110]\tTest-auc:0.751168\n",
      "[111]\tTest-auc:0.751455\n",
      "[112]\tTest-auc:0.75141\n",
      "[113]\tTest-auc:0.751468\n",
      "[114]\tTest-auc:0.751512\n",
      "[115]\tTest-auc:0.751743\n",
      "[116]\tTest-auc:0.751783\n",
      "[117]\tTest-auc:0.751912\n",
      "[118]\tTest-auc:0.751884\n",
      "[119]\tTest-auc:0.751921\n",
      "[120]\tTest-auc:0.751959\n",
      "[121]\tTest-auc:0.751916\n",
      "[122]\tTest-auc:0.751949\n",
      "[123]\tTest-auc:0.751916\n",
      "[124]\tTest-auc:0.75193\n",
      "[125]\tTest-auc:0.752138\n",
      "[126]\tTest-auc:0.752281\n",
      "[127]\tTest-auc:0.752357\n",
      "[128]\tTest-auc:0.752401\n",
      "[129]\tTest-auc:0.752485\n",
      "[130]\tTest-auc:0.752513\n",
      "[131]\tTest-auc:0.752395\n",
      "[132]\tTest-auc:0.752372\n",
      "[133]\tTest-auc:0.7526\n",
      "[134]\tTest-auc:0.752594\n",
      "[135]\tTest-auc:0.752662\n",
      "[136]\tTest-auc:0.752765\n",
      "[137]\tTest-auc:0.75274\n",
      "[138]\tTest-auc:0.752809\n",
      "[139]\tTest-auc:0.752855\n",
      "[140]\tTest-auc:0.752819\n",
      "[141]\tTest-auc:0.7528\n",
      "[142]\tTest-auc:0.752697\n",
      "[143]\tTest-auc:0.752751\n",
      "[144]\tTest-auc:0.752722\n",
      "[145]\tTest-auc:0.752705\n",
      "[146]\tTest-auc:0.752785\n",
      "[147]\tTest-auc:0.752784\n",
      "[148]\tTest-auc:0.752748\n",
      "[149]\tTest-auc:0.752773\n",
      "Stopping. Best iteration:\n",
      "[139]\tTest-auc:0.752855\n",
      "\n"
     ]
    }
   ],
   "source": [
    "model = xgb.train(\n",
    "    params,\n",
    "    dtrain,\n",
    "    num_boost_round=1000,\n",
    "    evals=[(dtest, \"Test\")],\n",
    "    early_stopping_rounds=10\n",
    ")"
   ]
  },
  {
   "cell_type": "code",
   "execution_count": 30,
   "metadata": {},
   "outputs": [
    {
     "name": "stdout",
     "output_type": "stream",
     "text": [
      "Best AUC: 0.75 in 140 rounds\n"
     ]
    }
   ],
   "source": [
    "print(\"Best AUC: {:.2f} in {} rounds\".format(model.best_score, model.best_iteration+1))"
   ]
  },
  {
   "cell_type": "markdown",
   "metadata": {},
   "source": [
    "## Saving Best Model"
   ]
  },
  {
   "cell_type": "code",
   "execution_count": 49,
   "metadata": {},
   "outputs": [],
   "source": [
    "model.save_model(\"my_model3.model\")"
   ]
  },
  {
   "cell_type": "markdown",
   "metadata": {},
   "source": [
    "## Load Best Model into sklearn"
   ]
  },
  {
   "cell_type": "code",
   "execution_count": 50,
   "metadata": {},
   "outputs": [],
   "source": [
    "from sklearn.model_selection import cross_val_score\n",
    "from sklearn.pipeline import make_pipeline\n",
    "from sklearn.metrics import roc_auc_score\n",
    "\n",
    "\n",
    "from xgboost.sklearn import XGBClassifier"
   ]
  },
  {
   "cell_type": "code",
   "execution_count": 68,
   "metadata": {},
   "outputs": [],
   "source": [
    "from sklearn import preprocessing\n",
    "le = preprocessing.LabelEncoder()"
   ]
  },
  {
   "cell_type": "code",
   "execution_count": 71,
   "metadata": {},
   "outputs": [],
   "source": [
    "clf = XGBClassifier()\n",
    "booster = xgb.Booster()\n",
    "booster.load_model('my_model3.model')\n",
    "clf._Booster = booster\n",
    "clf._le = le.fit(y_test)"
   ]
  },
  {
   "cell_type": "code",
   "execution_count": 74,
   "metadata": {},
   "outputs": [
    {
     "data": {
      "text/plain": [
       "array([1, 0, 0, ..., 0, 0, 0])"
      ]
     },
     "execution_count": 74,
     "metadata": {},
     "output_type": "execute_result"
    }
   ],
   "source": [
    "clf.predict(X_test)"
   ]
  },
  {
   "cell_type": "markdown",
   "metadata": {},
   "source": [
    "## Use SkLearn API because it has better support for visualizations"
   ]
  },
  {
   "cell_type": "code",
   "execution_count": 72,
   "metadata": {},
   "outputs": [],
   "source": [
    "import matplotlib.pyplot as plt"
   ]
  },
  {
   "cell_type": "code",
   "execution_count": 75,
   "metadata": {},
   "outputs": [
    {
     "data": {
      "image/png": "[encoded data removed]",
      "text/plain": [
       "<Figure size 576x576 with 1 Axes>"
      ]
     },
     "metadata": {
      "needs_background": "light"
     },
     "output_type": "display_data"
    }
   ],
   "source": [
    "def show_feature_importances(gclassifier, X, n=20, figsize=(8, 8)):\n",
    "    \n",
    "    # pipe must not change dimensions of X dataframe\n",
    "    \n",
    "    importances = pd.Series(\n",
    "        gclassifier.feature_importances_, \n",
    "        X.columns)\n",
    "\n",
    "    top_n = importances.sort_values(ascending=False)[:n]\n",
    "    \n",
    "    plt.figure(figsize=figsize)\n",
    "    top_n.sort_values().plot.barh(color='grey')\n",
    "\n",
    "    \n",
    "show_feature_importances(clf,X)"
   ]
  },
  {
   "cell_type": "code",
   "execution_count": 76,
   "metadata": {},
   "outputs": [
    {
     "data": {
      "image/png": "[encoded data removed]",
      "text/plain": [
       "<Figure size 1080x684 with 2 Axes>"
      ]
     },
     "metadata": {
      "needs_background": "light"
     },
     "output_type": "display_data"
    }
   ],
   "source": [
    "from pdpbox.pdp import pdp_isolate, pdp_plot\n",
    "\n",
    "feature='no_violation'\n",
    "pdp_isolated = pdp_isolate(model=clf, dataset=X_train, model_features=X_train.columns, feature=feature)\n",
    "pdp_plot(pdp_isolated, feature);"
   ]
  },
  {
   "cell_type": "code",
   "execution_count": null,
   "metadata": {},
   "outputs": [],
   "source": []
  }
 ],
 "metadata": {
  "kernelspec": {
   "display_name": "Python 3",
   "language": "python",
   "name": "python3"
  },
  "language_info": {
   "codemirror_mode": {
    "name": "ipython",
    "version": 3
   },
   "file_extension": ".py",
   "mimetype": "text/x-python",
   "name": "python",
   "nbconvert_exporter": "python",
   "pygments_lexer": "ipython3",
   "version": "3.7.1"
  }
 },
 "nbformat": 4,
 "nbformat_minor": 2
}

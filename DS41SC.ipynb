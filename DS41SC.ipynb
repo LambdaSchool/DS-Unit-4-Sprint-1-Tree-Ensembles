{
  "nbformat": 4,
  "nbformat_minor": 0,
  "metadata": {
    "colab": {
      "name": "DS41SC.ipynb",
      "version": "0.3.2",
      "provenance": [],
      "collapsed_sections": [],
      "include_colab_link": true
    },
    "language_info": {
      "codemirror_mode": {
        "name": "ipython",
        "version": 3
      },
      "file_extension": ".py",
      "mimetype": "text/x-python",
      "name": "python",
      "nbconvert_exporter": "python",
      "pygments_lexer": "ipython3",
      "version": "3.7.1"
    },
    "kernelspec": {
      "display_name": "Python 3",
      "language": "python",
      "name": "python3"
    }
  },
  "cells": [
    {
      "cell_type": "markdown",
      "metadata": {
        "id": "view-in-github",
        "colab_type": "text"
      },
      "source": [
        "<a href=\"https://colab.research.google.com/github/macscheffer/DS-Unit-4-Sprint-1-Tree-Ensembles/blob/master/DS41SC.ipynb\" target=\"_parent\"><img src=\"https://colab.research.google.com/assets/colab-badge.svg\" alt=\"Open In Colab\"/></a>"
      ]
    },
    {
      "metadata": {
        "id": "V-IrZtghNFre",
        "colab_type": "text"
      },
      "cell_type": "markdown",
      "source": [
        "# Data Science Unit 4 Sprint Challenge 1 — Tree Ensembles"
      ]
    },
    {
      "metadata": {
        "id": "Z_N7I8PLNFrf",
        "colab_type": "text"
      },
      "cell_type": "markdown",
      "source": [
        "### Chicago Food Inspections\n",
        "\n",
        "For this Sprint Challenge, you'll use a dataset with information from inspections of restaurants and other food establishments in Chicago from January 2010 to March 2019. \n",
        "\n",
        "[See this PDF](https://data.cityofchicago.org/api/assets/BAD5301B-681A-4202-9D25-51B2CAE672FF) for descriptions of the data elements included in this dataset.\n",
        "\n",
        "According to [Chicago Department of Public Health — Food Protection Services](https://www.chicago.gov/city/en/depts/cdph/provdrs/healthy_restaurants/svcs/food-protection-services.html), \"Chicago is home to 16,000 food establishments like restaurants, grocery stores, bakeries, wholesalers, lunchrooms, mobile food vendors and more. Our business is food safety and sanitation with one goal, to prevent the spread of food-borne disease. We do this by inspecting food businesses, responding to complaints and food recalls.\" "
      ]
    },
    {
      "metadata": {
        "id": "oKGNyPu9NFrg",
        "colab_type": "text"
      },
      "cell_type": "markdown",
      "source": [
        "#### Your challenge: Predict whether inspections failed\n",
        "\n",
        "The target is the `Fail` column.\n",
        "\n",
        "- When the food establishment failed the inspection, the target is `1`.\n",
        "- When the establishment passed, the target is `0`."
      ]
    },
    {
      "metadata": {
        "id": "OZUxLBNoNFrh",
        "colab_type": "text"
      },
      "cell_type": "markdown",
      "source": [
        "#### Run this cell to load the data:"
      ]
    },
    {
      "metadata": {
        "id": "UvBHX-XpNFri",
        "colab_type": "code",
        "colab": {}
      },
      "cell_type": "code",
      "source": [
        "import pandas as pd\n",
        "\n",
        "train_url = 'https://drive.google.com/uc?export=download&id=13_tP9JpLcZHSPVpWcua4t2rY44K_s4H5'\n",
        "test_url  = 'https://drive.google.com/uc?export=download&id=1GkDHjsiGrzOXoF_xcYjdzBTSjOIi3g5a'\n",
        "\n",
        "train = pd.read_csv(train_url)\n",
        "test  = pd.read_csv(test_url)\n",
        "\n",
        "assert train.shape == (51916, 17)\n",
        "assert test.shape  == (17306, 17)"
      ],
      "execution_count": 0,
      "outputs": []
    },
    {
      "metadata": {
        "id": "gJ0j6ku1NKtn",
        "colab_type": "code",
        "colab": {
          "base_uri": "https://localhost:8080/",
          "height": 34
        },
        "outputId": "46ac4de6-9dfa-4003-9ed5-1c41a76ac66e"
      },
      "cell_type": "code",
      "source": [
        "train.shape, test.shape"
      ],
      "execution_count": 3,
      "outputs": [
        {
          "output_type": "execute_result",
          "data": {
            "text/plain": [
              "((51916, 17), (17306, 17))"
            ]
          },
          "metadata": {
            "tags": []
          },
          "execution_count": 3
        }
      ]
    },
    {
      "metadata": {
        "id": "1g3ICpuiNFrp",
        "colab_type": "text"
      },
      "cell_type": "markdown",
      "source": [
        "### Part 1: Preprocessing\n",
        "\n",
        "You may choose which features you want to use, and whether/how you will preprocess them. If you use categorical features, you may use any tools and techniques for encoding. (Pandas, category_encoders, sklearn.preprocessing, or any other library.)\n",
        "\n",
        "_To earn a score of 3 for this part, find and explain leakage. The dataset has a feature that will give you an ROC AUC score > 0.90 if you process and use the feature. Find the leakage and explain why the feature shouldn't be used in a real-world model to predict the results of future inspections._\n",
        "\n",
        "### Part 2: Modeling\n",
        "\n",
        "Fit a Random Forest or Gradient Boosting model with the train set. (You may use scikit-learn, xgboost, or any other library.) Use cross-validation to estimate an ROC AUC validation score.\n",
        "\n",
        "Use your model to predict probabilities for the test set. Get an ROC AUC test score >= 0.60.\n",
        "\n",
        "_To earn a score of 3 for this part, get an ROC AUC test score >= 0.70 (without using the feature with leakage)._\n",
        "\n",
        "\n",
        "### Part 3: Visualization\n",
        "\n",
        "Make one visualization for model interpretation. (You may use any libraries.) Choose one of these types:\n",
        "- Feature Importances\n",
        "- Permutation Importances\n",
        "- Partial Dependence Plot\n",
        "- Shapley Values\n",
        "\n",
        "_To earn a score of 3 for this part, make at least two of these visualization types._"
      ]
    },
    {
      "metadata": {
        "id": "DwBTPwwnNR7v",
        "colab_type": "code",
        "colab": {}
      },
      "cell_type": "code",
      "source": [
        "from sklearn.ensemble import RandomForestClassifier"
      ],
      "execution_count": 0,
      "outputs": []
    },
    {
      "metadata": {
        "id": "uabd5IuqNV-g",
        "colab_type": "code",
        "colab": {
          "base_uri": "https://localhost:8080/",
          "height": 334
        },
        "outputId": "e161689c-0127-4456-bbef-6befd462318c"
      },
      "cell_type": "code",
      "source": [
        "train.nunique()"
      ],
      "execution_count": 8,
      "outputs": [
        {
          "output_type": "execute_result",
          "data": {
            "text/plain": [
              "Inspection ID      51916\n",
              "DBA Name           17049\n",
              "AKA Name           16350\n",
              "License #          21421\n",
              "Facility Type        329\n",
              "Risk                   3\n",
              "Address            13954\n",
              "City                  39\n",
              "State                  1\n",
              "Zip                   86\n",
              "Inspection Date     2257\n",
              "Inspection Type       51\n",
              "Violations         42164\n",
              "Latitude           13410\n",
              "Longitude          13410\n",
              "Location           13410\n",
              "Fail                   2\n",
              "dtype: int64"
            ]
          },
          "metadata": {
            "tags": []
          },
          "execution_count": 8
        }
      ]
    },
    {
      "metadata": {
        "id": "lmiJ_hg3NvGI",
        "colab_type": "code",
        "colab": {
          "base_uri": "https://localhost:8080/",
          "height": 175
        },
        "outputId": "fd23e30d-c66a-4594-f418-cfc5b2fd4ce4"
      },
      "cell_type": "code",
      "source": [
        "train.Zip.value_counts().head(50).keys()"
      ],
      "execution_count": 18,
      "outputs": [
        {
          "output_type": "execute_result",
          "data": {
            "text/plain": [
              "Float64Index([60647.0, 60614.0, 60657.0, 60622.0, 60611.0, 60618.0, 60608.0,\n",
              "              60607.0, 60625.0, 60639.0, 60623.0, 60616.0, 60640.0, 60632.0,\n",
              "              60609.0, 60659.0, 60613.0, 60619.0, 60617.0, 60654.0, 60620.0,\n",
              "              60629.0, 60634.0, 60610.0, 60641.0, 60601.0, 60628.0, 60612.0,\n",
              "              60606.0, 60626.0, 60605.0, 60651.0, 60660.0, 60643.0, 60666.0,\n",
              "              60638.0, 60661.0, 60630.0, 60644.0, 60637.0, 60636.0, 60615.0,\n",
              "              60649.0, 60642.0, 60624.0, 60603.0, 60653.0, 60652.0, 60621.0,\n",
              "              60646.0],\n",
              "             dtype='float64')"
            ]
          },
          "metadata": {
            "tags": []
          },
          "execution_count": 18
        }
      ]
    },
    {
      "metadata": {
        "id": "JwskT7qYN81K",
        "colab_type": "code",
        "colab": {
          "base_uri": "https://localhost:8080/",
          "height": 1108
        },
        "outputId": "32495e23-d734-4295-dc9a-19d135853173"
      },
      "cell_type": "code",
      "source": [
        "def top50zip(Zip):\n",
        "  \n",
        "  highest = [60647.0, 60614.0, 60657.0, 60622.0, 60611.0, 60618.0, 60608.0,\n",
        "              60607.0, 60625.0, 60639.0, 60623.0, 60616.0, 60640.0, 60632.0,\n",
        "              60609.0, 60659.0, 60613.0, 60619.0, 60617.0, 60654.0, 60620.0,\n",
        "              60629.0, 60634.0, 60610.0, 60641.0, 60601.0, 60628.0, 60612.0,\n",
        "              60606.0, 60626.0, 60605.0, 60651.0, 60660.0, 60643.0, 60666.0,\n",
        "              60638.0, 60661.0, 60630.0, 60644.0, 60637.0, 60636.0, 60615.0,\n",
        "              60649.0, 60642.0, 60624.0, 60603.0, 60653.0, 60652.0, 60621.0,\n",
        "              60646.0]\n",
        "  if Zip in highest:\n",
        "    return str(Zip)\n",
        "  else:\n",
        "    return 'other'\n",
        "  \n",
        "train.Zip.apply(top50zip)"
      ],
      "execution_count": 20,
      "outputs": [
        {
          "output_type": "execute_result",
          "data": {
            "text/plain": [
              "0        60657.0\n",
              "1        60636.0\n",
              "2        60649.0\n",
              "3        60632.0\n",
              "4        60629.0\n",
              "5        60614.0\n",
              "6        60606.0\n",
              "7        60620.0\n",
              "8        60660.0\n",
              "9        60616.0\n",
              "10       60629.0\n",
              "11       60608.0\n",
              "12       60638.0\n",
              "13       60626.0\n",
              "14       60612.0\n",
              "15       60610.0\n",
              "16         other\n",
              "17       60616.0\n",
              "18         other\n",
              "19       60603.0\n",
              "20       60637.0\n",
              "21       60657.0\n",
              "22       60614.0\n",
              "23       60614.0\n",
              "24       60661.0\n",
              "25       60657.0\n",
              "26       60605.0\n",
              "27       60630.0\n",
              "28       60610.0\n",
              "29       60613.0\n",
              "          ...   \n",
              "51886    60651.0\n",
              "51887    60614.0\n",
              "51888    60608.0\n",
              "51889    60626.0\n",
              "51890      other\n",
              "51891    60623.0\n",
              "51892    60610.0\n",
              "51893    60654.0\n",
              "51894    60611.0\n",
              "51895    60639.0\n",
              "51896    60606.0\n",
              "51897    60640.0\n",
              "51898    60610.0\n",
              "51899    60606.0\n",
              "51900    60623.0\n",
              "51901    60612.0\n",
              "51902    60611.0\n",
              "51903    60616.0\n",
              "51904    60609.0\n",
              "51905    60630.0\n",
              "51906    60649.0\n",
              "51907    60625.0\n",
              "51908    60611.0\n",
              "51909    60646.0\n",
              "51910    60617.0\n",
              "51911    60661.0\n",
              "51912    60653.0\n",
              "51913    60616.0\n",
              "51914    60641.0\n",
              "51915    60611.0\n",
              "Name: Zip, Length: 51916, dtype: object"
            ]
          },
          "metadata": {
            "tags": []
          },
          "execution_count": 20
        }
      ]
    },
    {
      "metadata": {
        "id": "JXt8tKmdOPHt",
        "colab_type": "code",
        "colab": {
          "base_uri": "https://localhost:8080/",
          "height": 374
        },
        "outputId": "208ced84-4d1a-4b5e-a57a-695c8cb97442"
      },
      "cell_type": "code",
      "source": [
        "train.head()"
      ],
      "execution_count": 22,
      "outputs": [
        {
          "output_type": "execute_result",
          "data": {
            "text/html": [
              "<div>\n",
              "<style scoped>\n",
              "    .dataframe tbody tr th:only-of-type {\n",
              "        vertical-align: middle;\n",
              "    }\n",
              "\n",
              "    .dataframe tbody tr th {\n",
              "        vertical-align: top;\n",
              "    }\n",
              "\n",
              "    .dataframe thead th {\n",
              "        text-align: right;\n",
              "    }\n",
              "</style>\n",
              "<table border=\"1\" class=\"dataframe\">\n",
              "  <thead>\n",
              "    <tr style=\"text-align: right;\">\n",
              "      <th></th>\n",
              "      <th>Inspection ID</th>\n",
              "      <th>DBA Name</th>\n",
              "      <th>AKA Name</th>\n",
              "      <th>License #</th>\n",
              "      <th>Facility Type</th>\n",
              "      <th>Risk</th>\n",
              "      <th>Address</th>\n",
              "      <th>City</th>\n",
              "      <th>State</th>\n",
              "      <th>Zip</th>\n",
              "      <th>Inspection Date</th>\n",
              "      <th>Inspection Type</th>\n",
              "      <th>Violations</th>\n",
              "      <th>Latitude</th>\n",
              "      <th>Longitude</th>\n",
              "      <th>Location</th>\n",
              "      <th>Fail</th>\n",
              "    </tr>\n",
              "  </thead>\n",
              "  <tbody>\n",
              "    <tr>\n",
              "      <th>0</th>\n",
              "      <td>2088270</td>\n",
              "      <td>TOM YUM RICE &amp; NOODLE, INC.</td>\n",
              "      <td>TOM YUM CAFE</td>\n",
              "      <td>2354911.0</td>\n",
              "      <td>Restaurant</td>\n",
              "      <td>Risk 1 (High)</td>\n",
              "      <td>608 W BARRY</td>\n",
              "      <td>CHICAGO</td>\n",
              "      <td>IL</td>\n",
              "      <td>60657.0</td>\n",
              "      <td>2017-09-15T00:00:00</td>\n",
              "      <td>Canvass</td>\n",
              "      <td>3. POTENTIALLY HAZARDOUS FOOD MEETS TEMPERATUR...</td>\n",
              "      <td>41.938007</td>\n",
              "      <td>-87.644755</td>\n",
              "      <td>{'longitude': '-87.6447545707008', 'latitude':...</td>\n",
              "      <td>1</td>\n",
              "    </tr>\n",
              "    <tr>\n",
              "      <th>1</th>\n",
              "      <td>555268</td>\n",
              "      <td>FILLING STATION  &amp; CONVENIENCE  STORE</td>\n",
              "      <td>FILLING STATION  &amp; CONVENIENCE  STORE</td>\n",
              "      <td>1044901.0</td>\n",
              "      <td>Grocery Store</td>\n",
              "      <td>Risk 3 (Low)</td>\n",
              "      <td>6646-6658 S WESTERN AVE</td>\n",
              "      <td>CHICAGO</td>\n",
              "      <td>IL</td>\n",
              "      <td>60636.0</td>\n",
              "      <td>2011-10-20T00:00:00</td>\n",
              "      <td>Complaint Re-Inspection</td>\n",
              "      <td>32. FOOD AND NON-FOOD CONTACT SURFACES PROPERL...</td>\n",
              "      <td>41.772402</td>\n",
              "      <td>-87.683603</td>\n",
              "      <td>{'longitude': '-87.68360273081268', 'latitude'...</td>\n",
              "      <td>0</td>\n",
              "    </tr>\n",
              "    <tr>\n",
              "      <th>2</th>\n",
              "      <td>1751394</td>\n",
              "      <td>A P DELI</td>\n",
              "      <td>A P DELI</td>\n",
              "      <td>47405.0</td>\n",
              "      <td>Restaurant</td>\n",
              "      <td>Risk 1 (High)</td>\n",
              "      <td>2025 E 75TH ST</td>\n",
              "      <td>CHICAGO</td>\n",
              "      <td>IL</td>\n",
              "      <td>60649.0</td>\n",
              "      <td>2016-04-05T00:00:00</td>\n",
              "      <td>Canvass Re-Inspection</td>\n",
              "      <td>35. WALLS, CEILINGS, ATTACHED EQUIPMENT CONSTR...</td>\n",
              "      <td>41.758779</td>\n",
              "      <td>-87.575054</td>\n",
              "      <td>{'longitude': '-87.57505446746121', 'latitude'...</td>\n",
              "      <td>0</td>\n",
              "    </tr>\n",
              "    <tr>\n",
              "      <th>3</th>\n",
              "      <td>1763905</td>\n",
              "      <td>FRANK'S CHICAGO SHRIMP HOUSE</td>\n",
              "      <td>FRANK'S CHICAGO SHRIMP HOUSE</td>\n",
              "      <td>6414.0</td>\n",
              "      <td>Restaurant</td>\n",
              "      <td>Risk 2 (Medium)</td>\n",
              "      <td>4459 S ARCHER AVE</td>\n",
              "      <td>CHICAGO</td>\n",
              "      <td>IL</td>\n",
              "      <td>60632.0</td>\n",
              "      <td>2016-04-29T00:00:00</td>\n",
              "      <td>Canvass</td>\n",
              "      <td>38. VENTILATION: ROOMS AND EQUIPMENT VENTED AS...</td>\n",
              "      <td>41.812181</td>\n",
              "      <td>-87.707125</td>\n",
              "      <td>{'longitude': '-87.70712481334274', 'latitude'...</td>\n",
              "      <td>0</td>\n",
              "    </tr>\n",
              "    <tr>\n",
              "      <th>4</th>\n",
              "      <td>453326</td>\n",
              "      <td>MORRILL</td>\n",
              "      <td>MORRILL</td>\n",
              "      <td>24571.0</td>\n",
              "      <td>School</td>\n",
              "      <td>Risk 1 (High)</td>\n",
              "      <td>6011 S Rockwell (2600W) AVE</td>\n",
              "      <td>CHICAGO</td>\n",
              "      <td>IL</td>\n",
              "      <td>60629.0</td>\n",
              "      <td>2011-01-10T00:00:00</td>\n",
              "      <td>Canvass</td>\n",
              "      <td>34. FLOORS: CONSTRUCTED PER CODE, CLEANED, GOO...</td>\n",
              "      <td>NaN</td>\n",
              "      <td>NaN</td>\n",
              "      <td>NaN</td>\n",
              "      <td>0</td>\n",
              "    </tr>\n",
              "  </tbody>\n",
              "</table>\n",
              "</div>"
            ],
            "text/plain": [
              "   Inspection ID                               DBA Name  \\\n",
              "0        2088270            TOM YUM RICE & NOODLE, INC.   \n",
              "1         555268  FILLING STATION  & CONVENIENCE  STORE   \n",
              "2        1751394                               A P DELI   \n",
              "3        1763905           FRANK'S CHICAGO SHRIMP HOUSE   \n",
              "4         453326                                MORRILL   \n",
              "\n",
              "                                AKA Name  License #  Facility Type  \\\n",
              "0                           TOM YUM CAFE  2354911.0     Restaurant   \n",
              "1  FILLING STATION  & CONVENIENCE  STORE  1044901.0  Grocery Store   \n",
              "2                               A P DELI    47405.0     Restaurant   \n",
              "3           FRANK'S CHICAGO SHRIMP HOUSE     6414.0     Restaurant   \n",
              "4                                MORRILL    24571.0         School   \n",
              "\n",
              "              Risk                       Address     City State      Zip  \\\n",
              "0    Risk 1 (High)                  608 W BARRY   CHICAGO    IL  60657.0   \n",
              "1     Risk 3 (Low)      6646-6658 S WESTERN AVE   CHICAGO    IL  60636.0   \n",
              "2    Risk 1 (High)               2025 E 75TH ST   CHICAGO    IL  60649.0   \n",
              "3  Risk 2 (Medium)            4459 S ARCHER AVE   CHICAGO    IL  60632.0   \n",
              "4    Risk 1 (High)  6011 S Rockwell (2600W) AVE   CHICAGO    IL  60629.0   \n",
              "\n",
              "       Inspection Date          Inspection Type  \\\n",
              "0  2017-09-15T00:00:00                  Canvass   \n",
              "1  2011-10-20T00:00:00  Complaint Re-Inspection   \n",
              "2  2016-04-05T00:00:00    Canvass Re-Inspection   \n",
              "3  2016-04-29T00:00:00                  Canvass   \n",
              "4  2011-01-10T00:00:00                  Canvass   \n",
              "\n",
              "                                          Violations   Latitude  Longitude  \\\n",
              "0  3. POTENTIALLY HAZARDOUS FOOD MEETS TEMPERATUR...  41.938007 -87.644755   \n",
              "1  32. FOOD AND NON-FOOD CONTACT SURFACES PROPERL...  41.772402 -87.683603   \n",
              "2  35. WALLS, CEILINGS, ATTACHED EQUIPMENT CONSTR...  41.758779 -87.575054   \n",
              "3  38. VENTILATION: ROOMS AND EQUIPMENT VENTED AS...  41.812181 -87.707125   \n",
              "4  34. FLOORS: CONSTRUCTED PER CODE, CLEANED, GOO...        NaN        NaN   \n",
              "\n",
              "                                            Location  Fail  \n",
              "0  {'longitude': '-87.6447545707008', 'latitude':...     1  \n",
              "1  {'longitude': '-87.68360273081268', 'latitude'...     0  \n",
              "2  {'longitude': '-87.57505446746121', 'latitude'...     0  \n",
              "3  {'longitude': '-87.70712481334274', 'latitude'...     0  \n",
              "4                                                NaN     0  "
            ]
          },
          "metadata": {
            "tags": []
          },
          "execution_count": 22
        }
      ]
    },
    {
      "metadata": {
        "id": "1T0VSv-CPo2q",
        "colab_type": "code",
        "colab": {
          "base_uri": "https://localhost:8080/",
          "height": 1108
        },
        "outputId": "503c0a85-1136-4ecb-cfdf-ba9492c4b058"
      },
      "cell_type": "code",
      "source": [
        "train.Violations.fillna(0).astype(str).str[:2].str.strip('.')"
      ],
      "execution_count": 27,
      "outputs": [
        {
          "output_type": "execute_result",
          "data": {
            "text/plain": [
              "0         3\n",
              "1        32\n",
              "2        35\n",
              "3        38\n",
              "4        34\n",
              "5        31\n",
              "6        30\n",
              "7        38\n",
              "8        16\n",
              "9        18\n",
              "10       34\n",
              "11        0\n",
              "12        0\n",
              "13       31\n",
              "14       38\n",
              "15        0\n",
              "16       32\n",
              "17       18\n",
              "18       29\n",
              "19       32\n",
              "20       16\n",
              "21       30\n",
              "22        3\n",
              "23       29\n",
              "24        0\n",
              "25        9\n",
              "26       32\n",
              "27       14\n",
              "28        0\n",
              "29        0\n",
              "         ..\n",
              "51886     0\n",
              "51887    32\n",
              "51888    34\n",
              "51889    37\n",
              "51890    33\n",
              "51891    18\n",
              "51892    34\n",
              "51893    32\n",
              "51894    24\n",
              "51895    38\n",
              "51896    33\n",
              "51897     2\n",
              "51898    35\n",
              "51899    33\n",
              "51900     0\n",
              "51901     0\n",
              "51902    38\n",
              "51903     0\n",
              "51904    34\n",
              "51905    32\n",
              "51906    33\n",
              "51907    33\n",
              "51908     0\n",
              "51909     2\n",
              "51910    33\n",
              "51911     0\n",
              "51912     0\n",
              "51913    33\n",
              "51914     0\n",
              "51915    33\n",
              "Name: Violations, Length: 51916, dtype: object"
            ]
          },
          "metadata": {
            "tags": []
          },
          "execution_count": 27
        }
      ]
    },
    {
      "metadata": {
        "id": "nC_XPXw1PA_j",
        "colab_type": "code",
        "colab": {}
      },
      "cell_type": "code",
      "source": [
        "baseline = ['Facility Type', 'Risk', 'City', 'Inspection Type', 'Violations']\n",
        "\n",
        "def wrangle(df):\n",
        "  \n",
        "  def top50zip(Zip):\n",
        "  \n",
        "    highest = [60647.0, 60614.0, 60657.0, 60622.0, 60611.0, 60618.0, 60608.0,\n",
        "                60607.0, 60625.0, 60639.0, 60623.0, 60616.0, 60640.0, 60632.0,\n",
        "                60609.0, 60659.0, 60613.0, 60619.0, 60617.0, 60654.0, 60620.0,\n",
        "                60629.0, 60634.0, 60610.0, 60641.0, 60601.0, 60628.0, 60612.0,\n",
        "                60606.0, 60626.0, 60605.0, 60651.0, 60660.0, 60643.0, 60666.0,\n",
        "                60638.0, 60661.0, 60630.0, 60644.0, 60637.0, 60636.0, 60615.0,\n",
        "                60649.0, 60642.0, 60624.0, 60603.0, 60653.0, 60652.0, 60621.0,\n",
        "                60646.0]\n",
        "    if Zip in highest:\n",
        "      return str(Zip)\n",
        "    else:\n",
        "      return 'other'\n",
        "  \n",
        "  df['Zip'] = df.Zip.apply(top50zip)\n",
        "  \n",
        "  df['Violations'] = df.Violations.fillna(0).astype(str).str[:2].str.strip('.')\n",
        "  \n",
        "  return df"
      ],
      "execution_count": 0,
      "outputs": []
    },
    {
      "metadata": {
        "id": "fxV6x3sQQU9a",
        "colab_type": "code",
        "colab": {}
      },
      "cell_type": "code",
      "source": [
        "train = wrangle(train)\n",
        "test = wrangle(test)"
      ],
      "execution_count": 0,
      "outputs": []
    },
    {
      "metadata": {
        "id": "dgqk4mGjRwTR",
        "colab_type": "code",
        "colab": {
          "base_uri": "https://localhost:8080/",
          "height": 263
        },
        "outputId": "ce4c29dd-30a0-4d22-b3b3-68c01606468c"
      },
      "cell_type": "code",
      "source": [
        "!pip install category_encoders"
      ],
      "execution_count": 38,
      "outputs": [
        {
          "output_type": "stream",
          "text": [
            "Collecting category_encoders\n",
            "\u001b[?25l  Downloading https://files.pythonhosted.org/packages/f7/d3/82a4b85a87ece114f6d0139d643580c726efa45fa4db3b81aed38c0156c5/category_encoders-1.3.0-py2.py3-none-any.whl (61kB)\n",
            "\u001b[K    100% |████████████████████████████████| 61kB 3.9MB/s \n",
            "\u001b[?25hRequirement already satisfied: numpy>=1.11.1 in /usr/local/lib/python3.6/dist-packages (from category_encoders) (1.16.3)\n",
            "Requirement already satisfied: patsy>=0.4.1 in /usr/local/lib/python3.6/dist-packages (from category_encoders) (0.5.1)\n",
            "Requirement already satisfied: scipy>=0.17.0 in /usr/local/lib/python3.6/dist-packages (from category_encoders) (1.2.1)\n",
            "Requirement already satisfied: statsmodels>=0.6.1 in /usr/local/lib/python3.6/dist-packages (from category_encoders) (0.9.0)\n",
            "Requirement already satisfied: scikit-learn>=0.17.1 in /usr/local/lib/python3.6/dist-packages (from category_encoders) (0.20.3)\n",
            "Requirement already satisfied: pandas>=0.20.1 in /usr/local/lib/python3.6/dist-packages (from category_encoders) (0.24.2)\n",
            "Requirement already satisfied: six in /usr/local/lib/python3.6/dist-packages (from patsy>=0.4.1->category_encoders) (1.12.0)\n",
            "Requirement already satisfied: python-dateutil>=2.5.0 in /usr/local/lib/python3.6/dist-packages (from pandas>=0.20.1->category_encoders) (2.5.3)\n",
            "Requirement already satisfied: pytz>=2011k in /usr/local/lib/python3.6/dist-packages (from pandas>=0.20.1->category_encoders) (2018.9)\n",
            "Installing collected packages: category-encoders\n",
            "Successfully installed category-encoders-1.3.0\n"
          ],
          "name": "stdout"
        }
      ]
    },
    {
      "metadata": {
        "id": "fnA5xi3tQa8J",
        "colab_type": "code",
        "colab": {
          "base_uri": "https://localhost:8080/",
          "height": 122
        },
        "outputId": "57cd4d21-8c7f-47a7-fcb4-c934d336b67d"
      },
      "cell_type": "code",
      "source": [
        "from sklearn.model_selection import train_test_split\n",
        "from sklearn.pipeline import make_pipeline\n",
        "import category_encoders as ce\n",
        "X = train[baseline]\n",
        "y = train.Fail\n",
        "\n",
        "X_train, X_val, y_train, y_val = train_test_split(X, y, test_size=.2, random_state=42)\n",
        "\n",
        "pipe = make_pipeline(\n",
        "    ce.OrdinalEncoder(),\n",
        "    RandomForestClassifier(n_estimators=100))\n",
        "    \n",
        "pipe.fit(X_train, y_train)"
      ],
      "execution_count": 59,
      "outputs": [
        {
          "output_type": "execute_result",
          "data": {
            "text/plain": [
              "Pipeline(memory=None,\n",
              "     steps=[('ordinalencoder', OrdinalEncoder(cols=['Facility Type', 'Risk', 'City', 'Inspection Type', 'Violations'],\n",
              "        drop_invariant=False, handle_unknown='impute', impute_missing=True,\n",
              "        mapping=[{'col': 'Facility Type', 'mapping': [('Restaurant', 1), ('Bakery', 2), ('Daycare Above and Un...obs=None,\n",
              "            oob_score=False, random_state=None, verbose=0,\n",
              "            warm_start=False))])"
            ]
          },
          "metadata": {
            "tags": []
          },
          "execution_count": 59
        }
      ]
    },
    {
      "metadata": {
        "id": "xOVSXA8MRQtV",
        "colab_type": "code",
        "colab": {
          "base_uri": "https://localhost:8080/",
          "height": 34
        },
        "outputId": "b516008e-b147-457f-8fc4-455590404c9b"
      },
      "cell_type": "code",
      "source": [
        "from sklearn.metrics import roc_auc_score\n",
        "roc_auc_score(y_val, pipe.predict_proba(X_val).T[1])"
      ],
      "execution_count": 60,
      "outputs": [
        {
          "output_type": "execute_result",
          "data": {
            "text/plain": [
              "0.9886118751890502"
            ]
          },
          "metadata": {
            "tags": []
          },
          "execution_count": 60
        }
      ]
    },
    {
      "metadata": {
        "id": "xfriPenhSNS6",
        "colab_type": "code",
        "colab": {
          "base_uri": "https://localhost:8080/",
          "height": 34
        },
        "outputId": "4b017a07-5810-491c-dcdd-b19b1524ac68"
      },
      "cell_type": "code",
      "source": [
        "# now without the leakage column\n",
        "\n",
        "X = train[baseline].drop(columns='Violations')\n",
        "y = train.Fail\n",
        "\n",
        "X_train, X_val, y_train, y_val = train_test_split(X, y, test_size=.2, random_state=42)\n",
        "\n",
        "pipe = make_pipeline(\n",
        "    ce.OrdinalEncoder(),\n",
        "    RandomForestClassifier(n_estimators=100))\n",
        "    \n",
        "pipe.fit(X_train, y_train)\n",
        "\n",
        "roc_auc_score(y_val, pipe.predict_proba(X_val).T[1])"
      ],
      "execution_count": 61,
      "outputs": [
        {
          "output_type": "execute_result",
          "data": {
            "text/plain": [
              "0.6738380501361161"
            ]
          },
          "metadata": {
            "tags": []
          },
          "execution_count": 61
        }
      ]
    },
    {
      "metadata": {
        "id": "wbu47qhCTPzy",
        "colab_type": "code",
        "colab": {
          "base_uri": "https://localhost:8080/",
          "height": 34
        },
        "outputId": "e0d52a0d-88ad-4fd5-c772-a08d5b2b3abf"
      },
      "cell_type": "code",
      "source": [
        "pipe.steps[1][1].feature_importances_"
      ],
      "execution_count": 65,
      "outputs": [
        {
          "output_type": "execute_result",
          "data": {
            "text/plain": [
              "array([0.25675469, 0.04056409, 0.02156432, 0.6811169 ])"
            ]
          },
          "metadata": {
            "tags": []
          },
          "execution_count": 65
        }
      ]
    },
    {
      "metadata": {
        "id": "CFRJe3yWSu7-",
        "colab_type": "code",
        "colab": {
          "base_uri": "https://localhost:8080/",
          "height": 34
        },
        "outputId": "195e0f3c-b869-42cb-ef7f-ed1a30b98f41"
      },
      "cell_type": "code",
      "source": [
        "features = ['Facility Type', 'Risk', 'City', 'Inspection Type', 'Zip']\n",
        "\n",
        "X = train[features]\n",
        "y = train.Fail\n",
        "\n",
        "X_train, X_val, y_train, y_val = train_test_split(X, y, test_size=.2, random_state=42)\n",
        "\n",
        "pipe = make_pipeline(\n",
        "    ce.OrdinalEncoder(),\n",
        "    RandomForestClassifier(n_estimators=100))\n",
        "    \n",
        "pipe.fit(X_train, y_train)\n",
        "\n",
        "roc_auc_score(y_val, pipe.predict_proba(X_val).T[1])"
      ],
      "execution_count": 70,
      "outputs": [
        {
          "output_type": "execute_result",
          "data": {
            "text/plain": [
              "0.6747346916591046"
            ]
          },
          "metadata": {
            "tags": []
          },
          "execution_count": 70
        }
      ]
    },
    {
      "metadata": {
        "id": "_RoCtGNMTzvD",
        "colab_type": "code",
        "colab": {}
      },
      "cell_type": "code",
      "source": [
        "features = ['Facility Type', 'Risk', 'City', 'Inspection Type', 'Zip', 'Latitude_NA']\n",
        "\n",
        "def wrangle2(df):\n",
        "  df['Latitude_NA'] = df.Latitude.isna()\n",
        "  return df\n",
        "train = wrangle2(train)\n",
        "test = wrangle2(test)"
      ],
      "execution_count": 0,
      "outputs": []
    },
    {
      "metadata": {
        "id": "wUYijZEeUJ2B",
        "colab_type": "code",
        "colab": {
          "base_uri": "https://localhost:8080/",
          "height": 34
        },
        "outputId": "937458a8-c4a4-4432-c25a-8dfcc913a4a4"
      },
      "cell_type": "code",
      "source": [
        "features = ['Facility Type', 'Risk', 'City', 'Inspection Type', 'Zip', 'Latitude_NA']\n",
        "\n",
        "X = train[features]\n",
        "y = train.Fail\n",
        "\n",
        "X_train, X_val, y_train, y_val = train_test_split(X, y, test_size=.2, random_state=42)\n",
        "\n",
        "pipe = make_pipeline(\n",
        "    ce.OrdinalEncoder(),\n",
        "    RandomForestClassifier(n_estimators=100))\n",
        "    \n",
        "pipe.fit(X_train, y_train)\n",
        "\n",
        "roc_auc_score(y_val, pipe.predict_proba(X_val).T[1])"
      ],
      "execution_count": 81,
      "outputs": [
        {
          "output_type": "execute_result",
          "data": {
            "text/plain": [
              "0.674001625831821"
            ]
          },
          "metadata": {
            "tags": []
          },
          "execution_count": 81
        }
      ]
    },
    {
      "metadata": {
        "id": "42BxoBmkUfIA",
        "colab_type": "code",
        "colab": {}
      },
      "cell_type": "code",
      "source": [
        "def wrangle3(df):\n",
        "  df['Facility Type'] = df['Facility Type'].str.lower()\n",
        "  df['facility_daycare'] = df['Facility Type'].str.contains('daycare')\n",
        "  df['Inspection Type'] = df['Inspection Type'].str.lower()\n",
        "  df['inspection_canvass'] = df['Inspection Type'].str.contains('canvass')\n",
        "  df['inspection_license'] = df['Inspection Type'].str.contains('license')\n",
        "  df['inspection_reinspection'] = df['Inspection Type'].str.contains('re')\n",
        "  df['inspection_complaint'] = df['Inspection Type'].str.contains('complaint')\n",
        "  df['inspection_license'] = df['Inspection Type'].str.contains('license')\n",
        "  df['inspection_oob'] = df['Inspection Type'].str.contains('out of business')\n",
        "  return df\n",
        "\n",
        "train = wrangle3(train)\n",
        "test = wrangle3(test)"
      ],
      "execution_count": 0,
      "outputs": []
    },
    {
      "metadata": {
        "id": "z9agJA9qVHVT",
        "colab_type": "code",
        "colab": {
          "base_uri": "https://localhost:8080/",
          "height": 34
        },
        "outputId": "252d433f-e32a-48f4-c6c3-e16c4fe24699"
      },
      "cell_type": "code",
      "source": [
        "features = ['Facility Type', 'Risk', 'City', 'Inspection Type', 'Zip', 'Latitude_NA', \n",
        "           'facility_daycare', 'inspection_canvass',\n",
        "           'inspection_license', 'inspection_reinspection', 'inspection_complaint',\n",
        "           'inspection_oob']\n",
        "\n",
        "X = train[features]\n",
        "y = train.Fail\n",
        "\n",
        "X_train, X_val, y_train, y_val = train_test_split(X, y, test_size=.2, random_state=42)\n",
        "\n",
        "pipe = make_pipeline(\n",
        "    ce.OrdinalEncoder(drop_invariant=True),\n",
        "    RandomForestClassifier(n_estimators=100))\n",
        "    \n",
        "pipe.fit(X_train, y_train)\n",
        "\n",
        "roc_auc_score(y_val, pipe.predict_proba(X_val).T[1])"
      ],
      "execution_count": 125,
      "outputs": [
        {
          "output_type": "execute_result",
          "data": {
            "text/plain": [
              "0.6698984327737447"
            ]
          },
          "metadata": {
            "tags": []
          },
          "execution_count": 125
        }
      ]
    },
    {
      "metadata": {
        "id": "-mlmtVqYWJqv",
        "colab_type": "code",
        "colab": {}
      },
      "cell_type": "code",
      "source": [
        "??ce.OrdinalEncoder"
      ],
      "execution_count": 0,
      "outputs": []
    },
    {
      "metadata": {
        "id": "Rj0Qrr-zYTu0",
        "colab_type": "code",
        "colab": {
          "base_uri": "https://localhost:8080/",
          "height": 34
        },
        "outputId": "c073978c-feca-4b8e-987e-df552b8b203e"
      },
      "cell_type": "code",
      "source": [
        "train['License #'].corr(train.Fail), train['Inspection ID'].corr(train.Fail)"
      ],
      "execution_count": 116,
      "outputs": [
        {
          "output_type": "execute_result",
          "data": {
            "text/plain": [
              "(0.043234505189731064, 0.00462424477956916)"
            ]
          },
          "metadata": {
            "tags": []
          },
          "execution_count": 116
        }
      ]
    },
    {
      "metadata": {
        "id": "5hsfUeZTZFFM",
        "colab_type": "code",
        "colab": {
          "base_uri": "https://localhost:8080/",
          "height": 34
        },
        "outputId": "0496367b-53d4-4527-eb51-929de33ef0ba"
      },
      "cell_type": "code",
      "source": [
        "test['License #'].mean()"
      ],
      "execution_count": 130,
      "outputs": [
        {
          "output_type": "execute_result",
          "data": {
            "text/plain": [
              "1562543.0137540454"
            ]
          },
          "metadata": {
            "tags": []
          },
          "execution_count": 130
        }
      ]
    },
    {
      "metadata": {
        "id": "qM2H5FMOYZIg",
        "colab_type": "code",
        "colab": {
          "base_uri": "https://localhost:8080/",
          "height": 52
        },
        "outputId": "f283c712-5c25-486d-8eb0-8061a355b731"
      },
      "cell_type": "code",
      "source": [
        "def wrangle4(df):\n",
        "  df['Risk'] = (df.Risk == 'Risk 3 (Low)')\n",
        "  df['License #'] = df['License #'].fillna(1562543)\n",
        "  return df\n",
        "train = wrangle4(train)\n",
        "test = wrangle4(test)"
      ],
      "execution_count": 133,
      "outputs": [
        {
          "output_type": "stream",
          "text": [
            "/usr/local/lib/python3.6/dist-packages/pandas/core/ops.py:1649: FutureWarning: elementwise comparison failed; returning scalar instead, but in the future will perform elementwise comparison\n",
            "  result = method(y)\n"
          ],
          "name": "stderr"
        }
      ]
    },
    {
      "metadata": {
        "id": "UgRTMJm8YxAd",
        "colab_type": "code",
        "colab": {
          "base_uri": "https://localhost:8080/",
          "height": 34
        },
        "outputId": "308a9702-2683-496c-cf48-f96feaee8ebc"
      },
      "cell_type": "code",
      "source": [
        "features = ['Facility Type', 'Risk', 'Inspection Type', 'Zip', 'Latitude_NA', \n",
        "           'facility_daycare', 'inspection_canvass',\n",
        "           'inspection_license', 'inspection_reinspection', 'inspection_complaint',\n",
        "           'inspection_oob']\n",
        "\n",
        "X = train[features]\n",
        "y = train.Fail\n",
        "\n",
        "X_train, X_val, y_train, y_val = train_test_split(X, y, test_size=.2, random_state=42)\n",
        "\n",
        "pipe = make_pipeline(\n",
        "    ce.OrdinalEncoder(drop_invariant=True),\n",
        "    RandomForestClassifier(n_estimators=100))\n",
        "    \n",
        "pipe.fit(X_train, y_train)\n",
        "\n",
        "roc_auc_score(y_val, pipe.predict_proba(X_val).T[1])"
      ],
      "execution_count": 238,
      "outputs": [
        {
          "output_type": "execute_result",
          "data": {
            "text/plain": [
              "0.6705732002419842"
            ]
          },
          "metadata": {
            "tags": []
          },
          "execution_count": 238
        }
      ]
    },
    {
      "metadata": {
        "id": "liEmtTyDao9i",
        "colab_type": "code",
        "colab": {
          "base_uri": "https://localhost:8080/",
          "height": 300
        },
        "outputId": "7bef17f6-dd96-44fe-fa33-041d3b01c323"
      },
      "cell_type": "code",
      "source": [
        "train['License #'].plot.hist()"
      ],
      "execution_count": 144,
      "outputs": [
        {
          "output_type": "execute_result",
          "data": {
            "text/plain": [
              "<matplotlib.axes._subplots.AxesSubplot at 0x7fc8e6011d68>"
            ]
          },
          "metadata": {
            "tags": []
          },
          "execution_count": 144
        },
        {
          "output_type": "display_data",
          "data": {
            "image/png": "[encoded data removed]",
            "text/plain": [
              "<Figure size 432x288 with 1 Axes>"
            ]
          },
          "metadata": {
            "tags": []
          }
        }
      ]
    },
    {
      "metadata": {
        "id": "trGE25aQbCve",
        "colab_type": "code",
        "colab": {
          "base_uri": "https://localhost:8080/",
          "height": 175
        },
        "outputId": "3116e857-97d6-4519-cdc5-a72f40760932"
      },
      "cell_type": "code",
      "source": [
        "train['License #'].describe()"
      ],
      "execution_count": 147,
      "outputs": [
        {
          "output_type": "execute_result",
          "data": {
            "text/plain": [
              "count    5.191600e+04\n",
              "mean     1.549492e+06\n",
              "std      9.017848e+05\n",
              "min      0.000000e+00\n",
              "25%      1.140745e+06\n",
              "50%      1.958590e+06\n",
              "75%      2.215506e+06\n",
              "max      8.700606e+06\n",
              "Name: License #, dtype: float64"
            ]
          },
          "metadata": {
            "tags": []
          },
          "execution_count": 147
        }
      ]
    },
    {
      "metadata": {
        "id": "KTMOm7YNcz9x",
        "colab_type": "code",
        "colab": {
          "base_uri": "https://localhost:8080/",
          "height": 34
        },
        "outputId": "db04366f-90b1-4a53-8841-6435b8957d52"
      },
      "cell_type": "code",
      "source": [
        "train.Fail.mean()"
      ],
      "execution_count": 169,
      "outputs": [
        {
          "output_type": "execute_result",
          "data": {
            "text/plain": [
              "0.25861006240850604"
            ]
          },
          "metadata": {
            "tags": []
          },
          "execution_count": 169
        }
      ]
    },
    {
      "metadata": {
        "id": "nrc3nlrSbm7V",
        "colab_type": "code",
        "colab": {
          "base_uri": "https://localhost:8080/",
          "height": 34
        },
        "outputId": "7d99755a-97f7-4c93-b798-6db3650000ed"
      },
      "cell_type": "code",
      "source": [
        "train[train['License #'] > 3000606.0].Fail.mean()"
      ],
      "execution_count": 170,
      "outputs": [
        {
          "output_type": "execute_result",
          "data": {
            "text/plain": [
              "0.25663716814159293"
            ]
          },
          "metadata": {
            "tags": []
          },
          "execution_count": 170
        }
      ]
    },
    {
      "metadata": {
        "id": "jLEr-hnwcmBd",
        "colab_type": "code",
        "colab": {
          "base_uri": "https://localhost:8080/",
          "height": 210
        },
        "outputId": "7c6d2f4b-2c9d-4367-e107-c7ec13bf36f4"
      },
      "cell_type": "code",
      "source": [
        "#677\n",
        "train['AKA Name'].str.lower().value_counts().head(10)"
      ],
      "execution_count": 263,
      "outputs": [
        {
          "output_type": "execute_result",
          "data": {
            "text/plain": [
              "subway                     880\n",
              "dunkin donuts              406\n",
              "mcdonald's                 273\n",
              "7-eleven                   200\n",
              "chipotle mexican grill     129\n",
              "mcdonalds                  120\n",
              "potbelly sandwich works     94\n",
              "wendy's                     90\n",
              "burger king                 87\n",
              "starbucks coffee            86\n",
              "Name: AKA Name, dtype: int64"
            ]
          },
          "metadata": {
            "tags": []
          },
          "execution_count": 263
        }
      ]
    },
    {
      "metadata": {
        "id": "sx6MSpy2b1Vo",
        "colab_type": "code",
        "colab": {}
      },
      "cell_type": "code",
      "source": [
        "def wrangle5(df):\n",
        "  df['new_restaurant'] = (df['License #'] > 2000606.0)\n",
        "  df['old_restaurant'] = (df['License #'] < 500000.0)\n",
        "  \n",
        "  def clean_facility(facility):\n",
        "    facilities = ['restaurant', 'grocery store', 'school']\n",
        "    if facility in facilities:\n",
        "      return facility\n",
        "    else:\n",
        "      return 'other'\n",
        "  df['facility_basic'] = df['Facility Type'].apply(clean_facility)\n",
        "  \n",
        "    \n",
        "  df['aka_mcdonalds'] = df['AKA Name'].str.lower().str.contains('donald')\n",
        "  df['aka_subway'] = df['AKA Name'].str.lower().str.contains('subway')\n",
        "  df['aka_chipotle'] = df['AKA Name'].str.lower().str.contains('chipotle')\n",
        "  df['aka_dunkin'] = df['AKA Name'].str.lower().str.contains('dunkin')\n",
        "  df['aka_wendy'] = df['AKA Name'].str.lower().str.contains('wendy')\n",
        "  \n",
        "  return df\n",
        "\n",
        "train = wrangle5(train)\n",
        "test = wrangle5(test)"
      ],
      "execution_count": 0,
      "outputs": []
    },
    {
      "metadata": {
        "id": "1q1NIohfkpBs",
        "colab_type": "code",
        "colab": {
          "base_uri": "https://localhost:8080/",
          "height": 34
        },
        "outputId": "91b4d883-e02a-4c20-b041-5270b7376c04"
      },
      "cell_type": "code",
      "source": [
        "features = ['Facility Type', 'Risk', 'Inspection Type', 'Zip', 'Latitude_NA', \n",
        "           'facility_daycare', 'inspection_canvass',\n",
        "           'inspection_license', 'inspection_reinspection', 'inspection_complaint',\n",
        "           'inspection_oob', 'new_restaurant', 'old_restaurant', 'facility_basic',\n",
        "           'aka_mcdonalds', 'aka_subway', 'aka_chipotle', 'aka_dunkin',\n",
        "           'aka_wendy']\n",
        "\n",
        "X = train[features]\n",
        "y = train.Fail\n",
        "\n",
        "X_train, X_val, y_train, y_val = train_test_split(X, y, test_size=.2, random_state=42)\n",
        "\n",
        "pipe = make_pipeline(\n",
        "    ce.OrdinalEncoder(drop_invariant=True),\n",
        "    RandomForestClassifier(n_estimators=100))\n",
        "    \n",
        "pipe.fit(X_train, y_train)\n",
        "\n",
        "roc_auc_score(y_val, pipe.predict_proba(X_val).T[1])"
      ],
      "execution_count": 280,
      "outputs": [
        {
          "output_type": "execute_result",
          "data": {
            "text/plain": [
              "0.672642638384755"
            ]
          },
          "metadata": {
            "tags": []
          },
          "execution_count": 280
        }
      ]
    },
    {
      "metadata": {
        "id": "JTBaDWabk4dA",
        "colab_type": "code",
        "colab": {}
      },
      "cell_type": "code",
      "source": [
        "def wrangle6(df):\n",
        "  df['inspection_year'] = pd.to_datetime(train['Inspection Date']).dt.year\n",
        "  df['inspection_month'] = pd.to_datetime(train['Inspection Date']).dt.month\n",
        "  df['inspection_day_of_wk'] = pd.to_datetime(train['Inspection Date']).dt.dayofweek\n",
        "  df['inspection_2011'] = (df.inspection_year == 2011)\n",
        "  return df\n",
        "\n",
        "train = wrangle6(train)\n",
        "test = wrangle6(test)"
      ],
      "execution_count": 0,
      "outputs": []
    },
    {
      "metadata": {
        "id": "ucItiUZClc__",
        "colab_type": "code",
        "colab": {
          "base_uri": "https://localhost:8080/",
          "height": 34
        },
        "outputId": "6a6467be-d6ce-4500-cca1-94802897acf3"
      },
      "cell_type": "code",
      "source": [
        "features = ['Facility Type', 'Risk', 'Inspection Type', 'Zip', 'Latitude_NA', \n",
        "           'facility_daycare', 'inspection_canvass',\n",
        "           'inspection_license', 'inspection_reinspection', 'inspection_complaint',\n",
        "           'inspection_oob', 'new_restaurant', 'old_restaurant', 'facility_basic',\n",
        "           'aka_mcdonalds', 'aka_subway', 'aka_chipotle', 'aka_dunkin',\n",
        "           'aka_wendy', 'inspection_year', 'inspection_2011']\n",
        "\n",
        "X = train[features]\n",
        "y = train.Fail\n",
        "\n",
        "X_train, X_val, y_train, y_val = train_test_split(X, y, test_size=.2, random_state=42)\n",
        "\n",
        "pipe = make_pipeline(\n",
        "    ce.OrdinalEncoder(drop_invariant=True),\n",
        "    RandomForestClassifier(n_estimators=100))\n",
        "    \n",
        "pipe.fit(X_train, y_train)\n",
        "\n",
        "roc_auc_score(y_val, pipe.predict_proba(X_val).T[1])"
      ],
      "execution_count": 295,
      "outputs": [
        {
          "output_type": "execute_result",
          "data": {
            "text/plain": [
              "0.6783839987900786"
            ]
          },
          "metadata": {
            "tags": []
          },
          "execution_count": 295
        }
      ]
    },
    {
      "metadata": {
        "id": "51EuID2Imryu",
        "colab_type": "code",
        "colab": {
          "base_uri": "https://localhost:8080/",
          "height": 70
        },
        "outputId": "946750c8-fb98-4325-dc05-c67ae898a75a"
      },
      "cell_type": "code",
      "source": [
        "enc = ce.TargetEncoder(cols=['License #'])\n",
        "enc.fit(train, train.Fail)"
      ],
      "execution_count": 316,
      "outputs": [
        {
          "output_type": "execute_result",
          "data": {
            "text/plain": [
              "TargetEncoder(cols=['License #'], drop_invariant=False,\n",
              "       handle_unknown='impute', impute_missing=True, min_samples_leaf=1,\n",
              "       return_df=True, smoothing=1.0, verbose=0)"
            ]
          },
          "metadata": {
            "tags": []
          },
          "execution_count": 316
        }
      ]
    },
    {
      "metadata": {
        "id": "e0Sc22jBm0cY",
        "colab_type": "code",
        "colab": {}
      },
      "cell_type": "code",
      "source": [
        "def licensefix(license):\n",
        "  licenses = [0.0, 1354323.0,   14616.0, 1574001.0, 1974745.0,   55054.0,\n",
        "              1490035.0,   29151.0, 2083833.0, 1142451.0, 2129398.0, 1884255.0,\n",
        "              1991275.0, 1448266.0, 1980017.0,   39623.0, 1302136.0, 1045099.0,\n",
        "                75883.0, 1227055.0, 1194932.0, 2069749.0,   46041.0,   34190.0,\n",
        "                 3866.0,   33706.0,   36468.0,    4190.0,   70217.0, 1594765.0,\n",
        "              1476553.0, 2026715.0,   30743.0, 1517920.0, 1879470.0,   34173.0,\n",
        "                39084.0, 2125165.0,   69637.0,   26281.0, 1273271.0, 1351717.0,\n",
        "                74496.0,    1368.0, 1000572.0, 2074427.0, 2108657.0,   20481.0,\n",
        "              1142125.0,    9154.0, 1980306.0,   25152.0,    1094.0, 1514893.0,\n",
        "                49031.0,    1411.0, 1621425.0, 1144384.0,   23071.0, 1878733.0,\n",
        "                  644.0,    1058.0,   32534.0,   17576.0,   66191.0, 1273946.0,\n",
        "                29507.0,   28113.0,   23081.0, 1975927.0, 2048240.0, 1802129.0,\n",
        "              1678414.0, 1272529.0,   52356.0,    1932.0, 1596210.0]\n",
        "  if license in licenses:\n",
        "    return license\n",
        "  else:\n",
        "    return 0.0\n",
        "\n",
        "train['license_lowcard'] = train['License #'].apply(licensefix)\n",
        "test['license_lowcard'] = test['License #'].apply(licensefix)"
      ],
      "execution_count": 0,
      "outputs": []
    },
    {
      "metadata": {
        "id": "5F_vLFG5t9mZ",
        "colab_type": "code",
        "colab": {
          "base_uri": "https://localhost:8080/",
          "height": 70
        },
        "outputId": "5f96abe7-212e-40ce-cd77-17e82549d1de"
      },
      "cell_type": "code",
      "source": [
        "!pip install xgboost"
      ],
      "execution_count": 375,
      "outputs": [
        {
          "output_type": "stream",
          "text": [
            "Requirement already satisfied: xgboost in /usr/local/lib/python3.6/dist-packages (0.82)\n",
            "Requirement already satisfied: scipy in /usr/local/lib/python3.6/dist-packages (from xgboost) (1.2.1)\n",
            "Requirement already satisfied: numpy in /usr/local/lib/python3.6/dist-packages (from xgboost) (1.16.3)\n"
          ],
          "name": "stdout"
        }
      ]
    },
    {
      "metadata": {
        "id": "lToMegXJwdCa",
        "colab_type": "code",
        "colab": {}
      },
      "cell_type": "code",
      "source": [
        "from xgboost import XGBClassifier"
      ],
      "execution_count": 0,
      "outputs": []
    },
    {
      "metadata": {
        "id": "3L4eh3DUm9_I",
        "colab_type": "code",
        "colab": {}
      },
      "cell_type": "code",
      "source": [
        "enc = ce.TargetEncoder(cols=['license_lowcard'], min_samples_leaf=10)"
      ],
      "execution_count": 0,
      "outputs": []
    },
    {
      "metadata": {
        "id": "irTFiKevxHcI",
        "colab_type": "code",
        "colab": {}
      },
      "cell_type": "code",
      "source": [
        "train2 = pd.read_csv(train_url)\n",
        "test2  = pd.read_csv(test_url)\n",
        "train['all_zip'] = train2.Zip\n",
        "test['all_zip'] = test2.Zip\n",
        "train['allRisk'] = train2.Risk\n",
        "test['allRisk'] = test2.Risk"
      ],
      "execution_count": 0,
      "outputs": []
    },
    {
      "metadata": {
        "id": "ri097H52qhye",
        "colab_type": "code",
        "colab": {
          "base_uri": "https://localhost:8080/",
          "height": 34
        },
        "outputId": "3e9b2f11-748e-4894-fbdc-d609fa123c20"
      },
      "cell_type": "code",
      "source": [
        "features = ['allRisk', 'all_zip', 'Latitude_NA', \n",
        "           'facility_daycare', 'inspection_canvass',\n",
        "           'inspection_license', 'inspection_reinspection', 'inspection_complaint',\n",
        "           'inspection_oob', 'new_restaurant', 'old_restaurant', 'facility_basic',\n",
        "           'aka_mcdonalds', 'aka_subway', 'aka_chipotle', 'aka_dunkin',\n",
        "           'aka_wendy', 'inspection_year', 'inspection_2011']\n",
        "\n",
        "X_train = train[features]\n",
        "y_train = train.Fail\n",
        "X_test = test[features]\n",
        "y_test = test.Fail\n",
        "\n",
        "\n",
        "pipe = make_pipeline(\n",
        "    ce.OrdinalEncoder(drop_invariant=True),\n",
        "    XGBClassifier(n_estimators=300))\n",
        "    \n",
        "pipe.fit(X_train, y_train)\n",
        "\n",
        "roc_auc_score(y_test, pipe.predict_proba(X_test).T[1])"
      ],
      "execution_count": 399,
      "outputs": [
        {
          "output_type": "execute_result",
          "data": {
            "text/plain": [
              "0.6799348992859037"
            ]
          },
          "metadata": {
            "tags": []
          },
          "execution_count": 399
        }
      ]
    },
    {
      "metadata": {
        "id": "dZjczlXSq2jH",
        "colab_type": "code",
        "colab": {
          "base_uri": "https://localhost:8080/",
          "height": 486
        },
        "outputId": "94f7628f-db59-4020-e493-60a3114ba36e"
      },
      "cell_type": "code",
      "source": [
        "import matplotlib.pyplot as plt\n",
        "def show_feature_importances(\n",
        "    pipe, X, y, estimator_name='xgbclassifier', \n",
        "    n=20, figsize=(8, 8)):\n",
        "    \n",
        "    # pipe must not change dimensions of X dataframe\n",
        "    pipe.fit(X, y)\n",
        "    \n",
        "    importances = pd.Series(\n",
        "        pipe.named_steps[estimator_name].feature_importances_, \n",
        "        X.columns)\n",
        "\n",
        "    top_n = importances.sort_values(ascending=False)[:n]\n",
        "    \n",
        "    plt.figure(figsize=figsize)\n",
        "    top_n.sort_values().plot.barh(color='grey')\n",
        "\n",
        "    \n",
        "show_feature_importances(pipe, X_train, y_train)"
      ],
      "execution_count": 398,
      "outputs": [
        {
          "output_type": "display_data",
          "data": {
            "image/png": "[encoded data removed]",
            "text/plain": [
              "<Figure size 576x576 with 1 Axes>"
            ]
          },
          "metadata": {
            "tags": []
          }
        }
      ]
    },
    {
      "metadata": {
        "id": "H722Mx6Pt50C",
        "colab_type": "code",
        "colab": {
          "base_uri": "https://localhost:8080/",
          "height": 34
        },
        "outputId": "3a3dd23e-46b1-48fe-dbd8-033279476d61"
      },
      "cell_type": "code",
      "source": [
        ""
      ],
      "execution_count": 354,
      "outputs": [
        {
          "output_type": "execute_result",
          "data": {
            "text/plain": [
              "array([0, 0, 0, ..., 0, 0, 0])"
            ]
          },
          "metadata": {
            "tags": []
          },
          "execution_count": 354
        }
      ]
    },
    {
      "metadata": {
        "id": "80WtM0ghwfbN",
        "colab_type": "code",
        "colab": {
          "base_uri": "https://localhost:8080/",
          "height": 1108
        },
        "outputId": "6f45a15e-2106-418b-bd6c-06560939b763"
      },
      "cell_type": "code",
      "source": [
        "train['Inspection ID'].value_counts()"
      ],
      "execution_count": 384,
      "outputs": [
        {
          "output_type": "execute_result",
          "data": {
            "text/plain": [
              "659454     1\n",
              "1498062    1\n",
              "1162210    1\n",
              "1418209    1\n",
              "2050914    1\n",
              "1465310    1\n",
              "1471451    1\n",
              "1473498    1\n",
              "2102231    1\n",
              "531414     1\n",
              "537555     1\n",
              "277458     1\n",
              "1360845    1\n",
              "1166252    1\n",
              "1506250    1\n",
              "60360      1\n",
              "2261957    1\n",
              "2051004    1\n",
              "1932218    1\n",
              "1532857    1\n",
              "1383350    1\n",
              "1770421    1\n",
              "1387440    1\n",
              "250799     1\n",
              "363492     1\n",
              "1937491    1\n",
              "1960936    1\n",
              "1166316    1\n",
              "1235987    1\n",
              "1961000    1\n",
              "          ..\n",
              "1459938    1\n",
              "539634     1\n",
              "1418974    1\n",
              "1425117    1\n",
              "233243     1\n",
              "1683231    1\n",
              "2166603    1\n",
              "2252577    1\n",
              "491333     1\n",
              "1537860    1\n",
              "1134403    1\n",
              "2049858    1\n",
              "2104453    1\n",
              "2146109    1\n",
              "1609531    1\n",
              "1214266    1\n",
              "509348     1\n",
              "1480504    1\n",
              "1632054    1\n",
              "1376053    1\n",
              "1767220    1\n",
              "347317     1\n",
              "1981270    1\n",
              "579376     1\n",
              "1976110    1\n",
              "1326893    1\n",
              "1578792    1\n",
              "1453818    1\n",
              "1981826    1\n",
              "1441792    1\n",
              "Name: Inspection ID, Length: 51916, dtype: int64"
            ]
          },
          "metadata": {
            "tags": []
          },
          "execution_count": 384
        }
      ]
    },
    {
      "metadata": {
        "id": "qrn3eOxGxii8",
        "colab_type": "code",
        "colab": {}
      },
      "cell_type": "code",
      "source": [
        ""
      ],
      "execution_count": 0,
      "outputs": []
    }
  ]
}
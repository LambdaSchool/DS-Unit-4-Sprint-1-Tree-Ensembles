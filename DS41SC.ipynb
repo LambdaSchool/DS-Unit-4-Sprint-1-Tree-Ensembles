{
  "nbformat": 4,
  "nbformat_minor": 0,
  "metadata": {
    "colab": {
      "name": "DS41SC.ipynb",
      "version": "0.3.2",
      "provenance": [],
      "collapsed_sections": [
        "ncO6O3UYKuGG",
        "1JAENR14cAkj",
        "WDk9oSIXcF0X",
        "D9ypEv1nrDfO"
      ],
      "include_colab_link": true
    },
    "language_info": {
      "codemirror_mode": {
        "name": "ipython",
        "version": 3
      },
      "file_extension": ".py",
      "mimetype": "text/x-python",
      "name": "python",
      "nbconvert_exporter": "python",
      "pygments_lexer": "ipython3",
      "version": "3.7.1"
    },
    "kernelspec": {
      "display_name": "Python 3",
      "language": "python",
      "name": "python3"
    }
  },
  "cells": [
    {
      "cell_type": "markdown",
      "metadata": {
        "id": "view-in-github",
        "colab_type": "text"
      },
      "source": [
        "<a href=\"https://colab.research.google.com/github/trista-paul/DS-Unit-4-Sprint-1-Tree-Ensembles/blob/master/DS41SC.ipynb\" target=\"_parent\"><img src=\"https://colab.research.google.com/assets/colab-badge.svg\" alt=\"Open In Colab\"/></a>"
      ]
    },
    {
      "metadata": {
        "id": "fqCmZd11KuGB",
        "colab_type": "text"
      },
      "cell_type": "markdown",
      "source": [
        "# Data Science Unit 4 Sprint Challenge 1 — Tree Ensembles"
      ]
    },
    {
      "metadata": {
        "id": "I7pJ3jdNKuGD",
        "colab_type": "text"
      },
      "cell_type": "markdown",
      "source": [
        "### Chicago Food Inspections\n",
        "\n",
        "For this Sprint Challenge, you'll use a dataset with information from inspections of restaurants and other food establishments in Chicago from January 2010 to March 2019. \n",
        "\n",
        "[See this PDF](https://data.cityofchicago.org/api/assets/BAD5301B-681A-4202-9D25-51B2CAE672FF) for descriptions of the data elements included in this dataset.\n",
        "\n",
        "According to [Chicago Department of Public Health — Food Protection Services](https://www.chicago.gov/city/en/depts/cdph/provdrs/healthy_restaurants/svcs/food-protection-services.html), \"Chicago is home to 16,000 food establishments like restaurants, grocery stores, bakeries, wholesalers, lunchrooms, mobile food vendors and more. Our business is food safety and sanitation with one goal, to prevent the spread of food-borne disease. We do this by inspecting food businesses, responding to complaints and food recalls.\" "
      ]
    },
    {
      "metadata": {
        "id": "xJbWPkqtKuGE",
        "colab_type": "text"
      },
      "cell_type": "markdown",
      "source": [
        "#### Your challenge: Predict whether inspections failed\n",
        "\n",
        "The target is the `Fail` column.\n",
        "\n",
        "- When the food establishment failed the inspection, the target is `1`.\n",
        "- When the establishment passed, the target is `0`."
      ]
    },
    {
      "metadata": {
        "id": "ncO6O3UYKuGG",
        "colab_type": "text"
      },
      "cell_type": "markdown",
      "source": [
        "#### Run this cell to load the data:"
      ]
    },
    {
      "metadata": {
        "id": "gjL_7l5LoJu4",
        "colab_type": "code",
        "colab": {}
      },
      "cell_type": "code",
      "source": [
        "!pip install category_encoders\n",
        "!pip install eli5\n",
        "!pip install pdpbox\n",
        "!pip install shap"
      ],
      "execution_count": 0,
      "outputs": []
    },
    {
      "metadata": {
        "id": "IBNBepzcoSC3",
        "colab_type": "code",
        "colab": {
          "base_uri": "https://localhost:8080/",
          "height": 373
        },
        "outputId": "363754f9-4e0b-400b-a890-acee04db6fb4"
      },
      "cell_type": "code",
      "source": [
        "!pip install --upgrade git+https://github.com/scikit-learn-contrib/categorical-encoding"
      ],
      "execution_count": 77,
      "outputs": [
        {
          "output_type": "stream",
          "text": [
            "Collecting git+https://github.com/scikit-learn-contrib/categorical-encoding\n",
            "  Cloning https://github.com/scikit-learn-contrib/categorical-encoding to /tmp/pip-req-build-t17qb1kx\n",
            "Requirement already satisfied, skipping upgrade: numpy>=1.11.3 in /usr/local/lib/python3.6/dist-packages (from category-encoders==2.0.0) (1.16.3)\n",
            "Requirement already satisfied, skipping upgrade: scikit-learn>=0.20.0 in /usr/local/lib/python3.6/dist-packages (from category-encoders==2.0.0) (0.20.3)\n",
            "Requirement already satisfied, skipping upgrade: scipy>=0.19.0 in /usr/local/lib/python3.6/dist-packages (from category-encoders==2.0.0) (1.2.1)\n",
            "Requirement already satisfied, skipping upgrade: statsmodels>=0.6.1 in /usr/local/lib/python3.6/dist-packages (from category-encoders==2.0.0) (0.9.0)\n",
            "Requirement already satisfied, skipping upgrade: pandas>=0.21.1 in /usr/local/lib/python3.6/dist-packages (from category-encoders==2.0.0) (0.24.2)\n",
            "Requirement already satisfied, skipping upgrade: patsy>=0.4.1 in /usr/local/lib/python3.6/dist-packages (from category-encoders==2.0.0) (0.5.1)\n",
            "Requirement already satisfied, skipping upgrade: python-dateutil>=2.5.0 in /usr/local/lib/python3.6/dist-packages (from pandas>=0.21.1->category-encoders==2.0.0) (2.5.3)\n",
            "Requirement already satisfied, skipping upgrade: pytz>=2011k in /usr/local/lib/python3.6/dist-packages (from pandas>=0.21.1->category-encoders==2.0.0) (2018.9)\n",
            "Requirement already satisfied, skipping upgrade: six in /usr/local/lib/python3.6/dist-packages (from patsy>=0.4.1->category-encoders==2.0.0) (1.12.0)\n",
            "Building wheels for collected packages: category-encoders\n",
            "  Building wheel for category-encoders (setup.py) ... \u001b[?25ldone\n",
            "\u001b[?25h  Stored in directory: /tmp/pip-ephem-wheel-cache-sagqf_yg/wheels/94/ac/6d/fe3feae87e68e96dd9d4ab262c1858312af15d4076fd23656f\n",
            "Successfully built category-encoders\n",
            "Installing collected packages: category-encoders\n",
            "  Found existing installation: category-encoders 1.3.0\n",
            "    Uninstalling category-encoders-1.3.0:\n",
            "      Successfully uninstalled category-encoders-1.3.0\n",
            "Successfully installed category-encoders-2.0.0\n"
          ],
          "name": "stdout"
        }
      ]
    },
    {
      "metadata": {
        "id": "X_XaLIHFLyAU",
        "colab_type": "code",
        "colab": {}
      },
      "cell_type": "code",
      "source": [
        "import pandas as pd\n",
        "import numpy as np\n",
        "import datetime\n",
        "from sklearn.metrics import roc_auc_score, roc_curve\n",
        "from sklearn.model_selection import cross_val_score, cross_val_predict\n",
        "import category_encoders as ce\n",
        "import xgboost\n",
        "from sklearn.pipeline import make_pipeline\n",
        "import eli5\n",
        "from pdpbox.pdp import pdp_isolate, pdp_plot\n",
        "import shap\n",
        "from sklearn.pipeline import make_pipeline"
      ],
      "execution_count": 0,
      "outputs": []
    },
    {
      "metadata": {
        "id": "Ax_vNHWOKuGH",
        "colab_type": "code",
        "colab": {}
      },
      "cell_type": "code",
      "source": [
        "train_url = 'https://drive.google.com/uc?export=download&id=13_tP9JpLcZHSPVpWcua4t2rY44K_s4H5'\n",
        "test_url  = 'https://drive.google.com/uc?export=download&id=1GkDHjsiGrzOXoF_xcYjdzBTSjOIi3g5a'\n",
        "\n",
        "train = pd.read_csv(train_url)\n",
        "test  = pd.read_csv(test_url)\n",
        "\n",
        "assert train.shape == (51916, 17)\n",
        "assert test.shape  == (17306, 17)"
      ],
      "execution_count": 0,
      "outputs": []
    },
    {
      "metadata": {
        "id": "Ho_VT5OfKuGM",
        "colab_type": "text"
      },
      "cell_type": "markdown",
      "source": [
        "### Part 1: Preprocessing\n",
        "\n",
        "You may choose which features you want to use, and whether/how you will preprocess them. If you use categorical features, you may use any tools and techniques for encoding. (Pandas, category_encoders, sklearn.preprocessing, or any other library.)\n",
        "\n",
        "_To earn a score of 3 for this part, find and explain leakage. The dataset has a feature that will give you an ROC AUC score > 0.90 if you process and use the feature. Find the leakage and explain why the feature shouldn't be used in a real-world model to predict the results of future inspections._\n",
        "\n",
        "### Part 2: Modeling\n",
        "\n",
        "Fit a Random Forest or Gradient Boosting model with the train set. (You may use scikit-learn, xgboost, or any other library.) Use cross-validation to estimate an ROC AUC validation score.\n",
        "\n",
        "Use your model to predict probabilities for the test set. Get an ROC AUC test score >= 0.60.\n",
        "\n",
        "_To earn a score of 3 for this part, get an ROC AUC test score >= 0.70 (without using the feature with leakage)._\n",
        "\n",
        "\n",
        "### Part 3: Visualization\n",
        "\n",
        "Make one visualization for model interpretation. (You may use any libraries.) Choose one of these types:\n",
        "- Feature Importances\n",
        "- Permutation Importances\n",
        "- Partial Dependence Plot\n",
        "- Shapley Values\n",
        "\n",
        "_To earn a score of 3 for this part, make at least two of these visualization types._"
      ]
    },
    {
      "metadata": {
        "id": "kS78TgLlLc45",
        "colab_type": "text"
      },
      "cell_type": "markdown",
      "source": [
        "# Part 1"
      ]
    },
    {
      "metadata": {
        "id": "1JAENR14cAkj",
        "colab_type": "text"
      },
      "cell_type": "markdown",
      "source": [
        "### Value Counts"
      ]
    },
    {
      "metadata": {
        "id": "DHfisnRVaibl",
        "colab_type": "code",
        "colab": {
          "base_uri": "https://localhost:8080/",
          "height": 890
        },
        "outputId": "fd4cefe9-3c75-46e1-9ff0-deff74693ed3"
      },
      "cell_type": "code",
      "source": [
        "train['Inspection Type'].value_counts()"
      ],
      "execution_count": 18,
      "outputs": [
        {
          "output_type": "execute_result",
          "data": {
            "text/plain": [
              "Canvass                                   24170\n",
              "License                                    7825\n",
              "Canvass Re-Inspection                      6346\n",
              "Complaint                                  4948\n",
              "License Re-Inspection                      3002\n",
              "Complaint Re-Inspection                    2241\n",
              "Short Form Complaint                       2103\n",
              "License-Task Force                          214\n",
              "Suspected Food Poisoning                    207\n",
              "Consultation                                189\n",
              "Tag Removal                                 146\n",
              "Out of Business                             109\n",
              "Task Force Liquor 1475                       92\n",
              "Recent Inspection                            66\n",
              "Suspected Food Poisoning Re-inspection       58\n",
              "Complaint-Fire                               51\n",
              "Short Form Fire-Complaint                    36\n",
              "No Entry                                     21\n",
              "Special Events (Festivals)                   21\n",
              "Package Liquor 1474                          16\n",
              "Complaint-Fire Re-inspection                 14\n",
              "Pre-License Consultation                      6\n",
              "Non-Inspection                                3\n",
              "Not Ready                                     3\n",
              "OUT OF BUSINESS                               2\n",
              "SPECIAL TASK FORCE                            1\n",
              "CHANGED COURT DATE                            1\n",
              "REINSPECTION OF 48 HOUR NOTICE                1\n",
              "CANVASS/SPECIAL EVENT                         1\n",
              "no entry                                      1\n",
              "TASK FORCE LIQUOR (1481)                      1\n",
              "LICENSE WRONG ADDRESS                         1\n",
              "SFP/COMPLAINT                                 1\n",
              "CLOSE-UP/COMPLAINT REINSPECTION               1\n",
              "LICENSE REQUEST                               1\n",
              "LICENSE DAYCARE 1586                          1\n",
              "license                                       1\n",
              "License consultation                          1\n",
              "ADDENDUM                                      1\n",
              "KIDS CAFE                                     1\n",
              "SMOKING COMPLAINT                             1\n",
              "Illegal Operation                             1\n",
              "TASK FORCE LIQUOR 1470                        1\n",
              "RECALL INSPECTION                             1\n",
              "NO ENTRY                                      1\n",
              "TAVERN 1470                                   1\n",
              "POSSIBLE FBI                                  1\n",
              "LICENSE RENEWAL FOR DAYCARE                   1\n",
              "SFP/Complaint                                 1\n",
              "CANVASS SPECIAL EVENTS                        1\n",
              "TWO PEOPLE ATE AND GOT SICK.                  1\n",
              "Name: Inspection Type, dtype: int64"
            ]
          },
          "metadata": {
            "tags": []
          },
          "execution_count": 18
        }
      ]
    },
    {
      "metadata": {
        "id": "RzUVRevZPeCp",
        "colab_type": "code",
        "colab": {
          "base_uri": "https://localhost:8080/",
          "height": 319
        },
        "outputId": "cc1a9556-32a4-4ebb-fc46-2ca888417657"
      },
      "cell_type": "code",
      "source": [
        "train.isnull().sum()"
      ],
      "execution_count": 7,
      "outputs": [
        {
          "output_type": "execute_result",
          "data": {
            "text/plain": [
              "Inspection ID         0\n",
              "DBA Name              0\n",
              "AKA Name            623\n",
              "License #             5\n",
              "Facility Type       224\n",
              "Risk                 12\n",
              "Address               0\n",
              "City                 53\n",
              "State                10\n",
              "Zip                  26\n",
              "Inspection Date       0\n",
              "Inspection Type       1\n",
              "Violations         9655\n",
              "Latitude            198\n",
              "Longitude           198\n",
              "Location            198\n",
              "Fail                  0\n",
              "dtype: int64"
            ]
          },
          "metadata": {
            "tags": []
          },
          "execution_count": 7
        }
      ]
    },
    {
      "metadata": {
        "id": "MGS7yR8RaKrr",
        "colab_type": "code",
        "colab": {
          "base_uri": "https://localhost:8080/",
          "height": 689
        },
        "outputId": "ea0843b7-98af-4b25-960f-0c6bbeaefdf8"
      },
      "cell_type": "code",
      "source": [
        "train['City'].value_counts()"
      ],
      "execution_count": 16,
      "outputs": [
        {
          "output_type": "execute_result",
          "data": {
            "text/plain": [
              "CHICAGO              51659\n",
              "Chicago                 91\n",
              "chicago                 34\n",
              "CCHICAGO                16\n",
              "SCHAUMBURG               6\n",
              "CHicago                  5\n",
              "MAYWOOD                  4\n",
              "ELK GROVE VILLAGE        4\n",
              "CHESTNUT STREET          3\n",
              "CICERO                   3\n",
              "CHICAGOCHICAGO           2\n",
              "OAK PARK                 2\n",
              "NAPERVILLE               2\n",
              "EAST HAZEL CREST         2\n",
              "ELMHURST                 2\n",
              "NILES NILES              2\n",
              "ALSIP                    2\n",
              "SKOKIE                   2\n",
              "ROSEMONT                 2\n",
              "CHARLES A HAYES          1\n",
              "CHICAGOI                 1\n",
              "CHICAGOHICAGO            1\n",
              "EVANSTON                 1\n",
              "CHICAGO HEIGHTS          1\n",
              "CHCHICAGO                1\n",
              "WORTH                    1\n",
              "TINLEY PARK              1\n",
              "STREAMWOOD               1\n",
              "BERWYN                   1\n",
              "OOLYMPIA FIELDS          1\n",
              "HIGHLAND PARK            1\n",
              "SCHILLER PARK            1\n",
              "BRIDGEVIEW               1\n",
              "SUMMIT                   1\n",
              "OLYMPIA FIELDS           1\n",
              "BEDFORD PARK             1\n",
              "LAKE BLUFF               1\n",
              "BROADVIEW                1\n",
              "BOLINGBROOK              1\n",
              "Name: City, dtype: int64"
            ]
          },
          "metadata": {
            "tags": []
          },
          "execution_count": 16
        }
      ]
    },
    {
      "metadata": {
        "id": "Xv8Jg88HPo-A",
        "colab_type": "code",
        "colab": {
          "base_uri": "https://localhost:8080/",
          "height": 1058
        },
        "outputId": "2a853780-21c1-44b5-fceb-75760e443ca8"
      },
      "cell_type": "code",
      "source": [
        "train['Facility Type'].value_counts()"
      ],
      "execution_count": 10,
      "outputs": [
        {
          "output_type": "execute_result",
          "data": {
            "text/plain": [
              "Restaurant                                         34264\n",
              "Grocery Store                                       6904\n",
              "School                                              3876\n",
              "Bakery                                               846\n",
              "Daycare (2 - 6 Years)                                830\n",
              "Children's Services Facility                         802\n",
              "Daycare Above and Under 2 Years                      656\n",
              "Long Term Care                                       394\n",
              "Catering                                             304\n",
              "Mobile Food Dispenser                                280\n",
              "Liquor                                               261\n",
              "Daycare Combo 1586                                   227\n",
              "Wholesale                                            203\n",
              "Golden Diner                                         162\n",
              "Mobile Food Preparer                                 159\n",
              "Hospital                                             141\n",
              "TAVERN                                                88\n",
              "Shared Kitchen User (Long Term)                       69\n",
              "Daycare (Under 2 Years)                               65\n",
              "Special Event                                         62\n",
              "KIOSK                                                 33\n",
              "GAS STATION                                           33\n",
              "BANQUET HALL                                          30\n",
              "Shelter                                               29\n",
              "Shared Kitchen                                        26\n",
              "Mobile Prepared Food Vendor                           25\n",
              "Navy Pier Kiosk                                       19\n",
              "LIVE POULTRY                                          19\n",
              "GROCERY/RESTAURANT                                    17\n",
              "Daycare (2 Years)                                     16\n",
              "                                                   ...  \n",
              "Nutrition Store                                        1\n",
              "SUMMER FEEDING PREP AREA                               1\n",
              "Ice cream                                              1\n",
              "ROOFTOP PATIO                                          1\n",
              "DOLLAR & GROCERY STORE                                 1\n",
              "Food Vending Machines                                  1\n",
              "donut shop                                             1\n",
              "PRODUCE STAND                                          1\n",
              "KIDS CAFE                                              1\n",
              "MOBILE FROZEN DESSERTS DISPENSER-NON- MOTORIZED        1\n",
              "LINITED BUSINESS                                       1\n",
              "RESTAURANT/BAR/THEATER                                 1\n",
              "Catering and Wholesale                                 1\n",
              "PRE PACKAGED                                           1\n",
              "Social Club                                            1\n",
              "REPACKAGING PLANT                                      1\n",
              "CHURCH/DAY CARE                                        1\n",
              "watermelon house                                       1\n",
              "GROCERY/LIQUOR                                         1\n",
              "URBAN FARM                                             1\n",
              "Assisted Living                                        1\n",
              "candy/gelato                                           1\n",
              "BANQUET ROOM                                           1\n",
              "DAYCARE 1586                                           1\n",
              "CHURCH/SPECIAL EVENT                                   1\n",
              "MOBILE FROZEN DESSERTS DISPENSER-NON-MOTOR             1\n",
              "FOOD PANTRY/CHURCH                                     1\n",
              "DAYCARE 2 YRS TO 12 YRS                                1\n",
              "TAVERN GRILL                                           1\n",
              "CELL PHONE STORE                                       1\n",
              "Name: Facility Type, Length: 329, dtype: int64"
            ]
          },
          "metadata": {
            "tags": []
          },
          "execution_count": 10
        }
      ]
    },
    {
      "metadata": {
        "id": "MDZqKD49bezc",
        "colab_type": "code",
        "colab": {
          "base_uri": "https://localhost:8080/",
          "height": 1058
        },
        "outputId": "8dcf6a51-20cf-4bcf-fd67-c710e9f68b01"
      },
      "cell_type": "code",
      "source": [
        "train['Zip'].value_counts()"
      ],
      "execution_count": 19,
      "outputs": [
        {
          "output_type": "execute_result",
          "data": {
            "text/plain": [
              "60647.0    1782\n",
              "60614.0    1756\n",
              "60657.0    1676\n",
              "60622.0    1670\n",
              "60611.0    1663\n",
              "60618.0    1526\n",
              "60608.0    1518\n",
              "60607.0    1450\n",
              "60625.0    1388\n",
              "60639.0    1365\n",
              "60623.0    1356\n",
              "60616.0    1324\n",
              "60640.0    1270\n",
              "60632.0    1211\n",
              "60609.0    1166\n",
              "60659.0    1129\n",
              "60613.0    1087\n",
              "60619.0    1079\n",
              "60617.0    1029\n",
              "60654.0    1011\n",
              "60620.0     990\n",
              "60629.0     982\n",
              "60634.0     967\n",
              "60610.0     964\n",
              "60641.0     961\n",
              "60601.0     928\n",
              "60628.0     923\n",
              "60612.0     898\n",
              "60606.0     858\n",
              "60626.0     839\n",
              "           ... \n",
              "60655.0     205\n",
              "60633.0      79\n",
              "60827.0      36\n",
              "60193.0       6\n",
              "60007.0       4\n",
              "60153.0       4\n",
              "60804.0       3\n",
              "60540.0       2\n",
              "60429.0       2\n",
              "60018.0       2\n",
              "60126.0       2\n",
              "60803.0       2\n",
              "60714.0       2\n",
              "60302.0       2\n",
              "60461.0       2\n",
              "60411.0       1\n",
              "60402.0       1\n",
              "60440.0       1\n",
              "60201.0       1\n",
              "60482.0       1\n",
              "60176.0       1\n",
              "60155.0       1\n",
              "60455.0       1\n",
              "60107.0       1\n",
              "60077.0       1\n",
              "60076.0       1\n",
              "60044.0       1\n",
              "60035.0       1\n",
              "60477.0       1\n",
              "60501.0       1\n",
              "Name: Zip, Length: 86, dtype: int64"
            ]
          },
          "metadata": {
            "tags": []
          },
          "execution_count": 19
        }
      ]
    },
    {
      "metadata": {
        "id": "WDk9oSIXcF0X",
        "colab_type": "text"
      },
      "cell_type": "markdown",
      "source": [
        "### def clean"
      ]
    },
    {
      "metadata": {
        "id": "orLUSikvmARI",
        "colab_type": "code",
        "colab": {}
      },
      "cell_type": "code",
      "source": [
        "def drop(X):\n",
        "  \n",
        "    #drop unpredictive id columns, redundant columns\n",
        "    #and Violation. Violation is the result of an inspection\n",
        "    #and can't be used to evaluate the location bef|ehand\n",
        "    X = X.drop(columns=['DBA Name',\n",
        "                        'AKA Name',\n",
        "                        'License #',\n",
        "                        'Inspection ID',\n",
        "                        'Address',\n",
        "                        'Location',\n",
        "                        'Violations',\n",
        "                        'City',\n",
        "                        'State'\n",
        "                                     ]\n",
        "                                     )\n",
        "    return X\n",
        "    \n",
        "train = drop(train)\n",
        "test = drop(test)"
      ],
      "execution_count": 0,
      "outputs": []
    },
    {
      "metadata": {
        "id": "r4S3hllbmVJ7",
        "colab_type": "code",
        "colab": {}
      },
      "cell_type": "code",
      "source": [
        "def facility(X):\n",
        "  #Facility Type: break into smaller categ|ies\n",
        "    X['Facility Type'] = X['Facility Type'].str.lower()\n",
        "    \n",
        "    X['Nursing'] = X['Facility Type'].str.contains(\"long term\")\n",
        "    X['Hospital'] = X['Facility Type'].str.contains(\"hospital\")\n",
        "    X['Truck'] = X['Facility Type'].str.contains(\"mobile\")\n",
        "    X['Event'] = X['Facility Type'].str.contains(\"cater\")\n",
        "    X['Bakery'] = X['Facility Type'].str.contains(\"bakery\")\n",
        "    X['Store'] = X['Facility Type'].str.contains(\"liquor\")\n",
        "    X['Bar'] =  X['Facility Type'].str.contains(\"tavern\")\n",
        "    X['Daycare'] = X['Facility Type'].str.contains('daycare')\n",
        "    X['School'] = X['Facility Type'] == \"School\"\n",
        "    X['Restaurant'] = X['Facility Type'].str.contains('restaurant')\n",
        "    X['Grocery'] = X['Facility Type'].str.contains('grocery')\n",
        "    \n",
        "    return X\n",
        "\n",
        "train = facility(train)\n",
        "test = facility(test)"
      ],
      "execution_count": 0,
      "outputs": []
    },
    {
      "metadata": {
        "id": "-LX71-bfmu8x",
        "colab_type": "code",
        "colab": {}
      },
      "cell_type": "code",
      "source": [
        "def date(X):\n",
        "  #Inspection Date: make into year and month\n",
        "    X['Inspection Date'] = pd.to_datetime(X['Inspection Date'])\n",
        "    X['Year'] = X['Inspection Date'].dt.year\n",
        "    X['Month'] = X['Inspection Date'].dt.month\n",
        "    X = X.drop(columns=['Inspection Date', 'Facility Type'])\n",
        "    return X\n",
        "\n",
        "train = date(train)\n",
        "test = date(test)"
      ],
      "execution_count": 0,
      "outputs": []
    },
    {
      "metadata": {
        "id": "pX0nC-txm-7B",
        "colab_type": "code",
        "colab": {}
      },
      "cell_type": "code",
      "source": [
        "def latlon(X):\n",
        "  #latitude and longitude: real coordinates\n",
        "    X['Latitude'] = X['Latitude'][X['Latitude'] <= 90]\n",
        "    X['Latitude'] = X['Latitude'][X['Latitude'] >= -90]\n",
        "    X['Latitude'] = X['Latitude'][X['Latitude'] != 0]\n",
        "    X['Longitude'] = X['Latitude'][X['Longitude'] <= 180]\n",
        "    X['Longitude'] = X['Latitude'][X['Longitude'] >= -180]\n",
        "    X['Longitude'] = X['Latitude'][X['Longitude'] != -180]\n",
        "    return X\n",
        "  \n",
        "train = latlon(train)\n",
        "test = latlon(test)"
      ],
      "execution_count": 0,
      "outputs": []
    },
    {
      "metadata": {
        "id": "kO7CSJ75nQZH",
        "colab_type": "code",
        "colab": {}
      },
      "cell_type": "code",
      "source": [
        "train['Inspection Type'] = train['Inspection Type'].str.lower()\n",
        "test['Inspection Type'] = test['Inspection Type'].str.lower()"
      ],
      "execution_count": 0,
      "outputs": []
    },
    {
      "metadata": {
        "id": "09Woco1inc9_",
        "colab_type": "code",
        "colab": {}
      },
      "cell_type": "code",
      "source": [
        "train['Zip'] = train['Zip'].astype(str)\n",
        "test['Zip'] = test['Zip'].astype(str)"
      ],
      "execution_count": 0,
      "outputs": []
    },
    {
      "metadata": {
        "id": "1Hd9EVobnozT",
        "colab_type": "code",
        "colab": {}
      },
      "cell_type": "code",
      "source": [
        "y = train['Fail']\n",
        "train = train.drop(columns=['Fail'])"
      ],
      "execution_count": 0,
      "outputs": []
    },
    {
      "metadata": {
        "id": "0TWHU47Xn-64",
        "colab_type": "code",
        "colab": {}
      },
      "cell_type": "code",
      "source": [
        "encoder = ce.TargetEncoder(handle_unknown = 'ignore')\n",
        "train_transform = encoder.fit_transform(train, y)"
      ],
      "execution_count": 0,
      "outputs": []
    },
    {
      "metadata": {
        "id": "VL5xdgPHo6N3",
        "colab_type": "code",
        "colab": {
          "base_uri": "https://localhost:8080/",
          "height": 232
        },
        "outputId": "094ccc0e-a16a-4002-e8cc-f8297ea57962"
      },
      "cell_type": "code",
      "source": [
        "train_transform.head()"
      ],
      "execution_count": 80,
      "outputs": [
        {
          "output_type": "execute_result",
          "data": {
            "text/html": [
              "<div>\n",
              "<style scoped>\n",
              "    .dataframe tbody tr th:only-of-type {\n",
              "        vertical-align: middle;\n",
              "    }\n",
              "\n",
              "    .dataframe tbody tr th {\n",
              "        vertical-align: top;\n",
              "    }\n",
              "\n",
              "    .dataframe thead th {\n",
              "        text-align: right;\n",
              "    }\n",
              "</style>\n",
              "<table border=\"1\" class=\"dataframe\">\n",
              "  <thead>\n",
              "    <tr style=\"text-align: right;\">\n",
              "      <th></th>\n",
              "      <th>Risk</th>\n",
              "      <th>Zip</th>\n",
              "      <th>Inspection Type</th>\n",
              "      <th>Latitude</th>\n",
              "      <th>Longitude</th>\n",
              "      <th>Nursing</th>\n",
              "      <th>Hospital</th>\n",
              "      <th>Truck</th>\n",
              "      <th>Event</th>\n",
              "      <th>Bakery</th>\n",
              "      <th>Store</th>\n",
              "      <th>Bar</th>\n",
              "      <th>Daycare</th>\n",
              "      <th>School</th>\n",
              "      <th>Restaurant</th>\n",
              "      <th>Grocery</th>\n",
              "      <th>Year</th>\n",
              "      <th>Month</th>\n",
              "    </tr>\n",
              "  </thead>\n",
              "  <tbody>\n",
              "    <tr>\n",
              "      <th>0</th>\n",
              "      <td>0.249689</td>\n",
              "      <td>0.262530</td>\n",
              "      <td>0.259123</td>\n",
              "      <td>41.938007</td>\n",
              "      <td>41.938007</td>\n",
              "      <td>0.257218</td>\n",
              "      <td>0.257357</td>\n",
              "      <td>0.256386</td>\n",
              "      <td>0.257488</td>\n",
              "      <td>0.256713</td>\n",
              "      <td>0.2565</td>\n",
              "      <td>0.256881</td>\n",
              "      <td>0.257939</td>\n",
              "      <td>False</td>\n",
              "      <td>0.250298</td>\n",
              "      <td>0.249675</td>\n",
              "      <td>2017</td>\n",
              "      <td>9</td>\n",
              "    </tr>\n",
              "    <tr>\n",
              "      <th>1</th>\n",
              "      <td>0.337132</td>\n",
              "      <td>0.319572</td>\n",
              "      <td>0.103971</td>\n",
              "      <td>41.772402</td>\n",
              "      <td>41.772402</td>\n",
              "      <td>0.257218</td>\n",
              "      <td>0.257357</td>\n",
              "      <td>0.256386</td>\n",
              "      <td>0.257488</td>\n",
              "      <td>0.256713</td>\n",
              "      <td>0.2565</td>\n",
              "      <td>0.256881</td>\n",
              "      <td>0.257939</td>\n",
              "      <td>False</td>\n",
              "      <td>0.270971</td>\n",
              "      <td>0.305358</td>\n",
              "      <td>2011</td>\n",
              "      <td>10</td>\n",
              "    </tr>\n",
              "    <tr>\n",
              "      <th>2</th>\n",
              "      <td>0.249689</td>\n",
              "      <td>0.253782</td>\n",
              "      <td>0.073117</td>\n",
              "      <td>41.758779</td>\n",
              "      <td>41.758779</td>\n",
              "      <td>0.257218</td>\n",
              "      <td>0.257357</td>\n",
              "      <td>0.256386</td>\n",
              "      <td>0.257488</td>\n",
              "      <td>0.256713</td>\n",
              "      <td>0.2565</td>\n",
              "      <td>0.256881</td>\n",
              "      <td>0.257939</td>\n",
              "      <td>False</td>\n",
              "      <td>0.250298</td>\n",
              "      <td>0.249675</td>\n",
              "      <td>2016</td>\n",
              "      <td>4</td>\n",
              "    </tr>\n",
              "    <tr>\n",
              "      <th>3</th>\n",
              "      <td>0.259866</td>\n",
              "      <td>0.265070</td>\n",
              "      <td>0.259123</td>\n",
              "      <td>41.812181</td>\n",
              "      <td>41.812181</td>\n",
              "      <td>0.257218</td>\n",
              "      <td>0.257357</td>\n",
              "      <td>0.256386</td>\n",
              "      <td>0.257488</td>\n",
              "      <td>0.256713</td>\n",
              "      <td>0.2565</td>\n",
              "      <td>0.256881</td>\n",
              "      <td>0.257939</td>\n",
              "      <td>False</td>\n",
              "      <td>0.250298</td>\n",
              "      <td>0.249675</td>\n",
              "      <td>2016</td>\n",
              "      <td>4</td>\n",
              "    </tr>\n",
              "    <tr>\n",
              "      <th>4</th>\n",
              "      <td>0.249689</td>\n",
              "      <td>0.215886</td>\n",
              "      <td>0.259123</td>\n",
              "      <td>NaN</td>\n",
              "      <td>NaN</td>\n",
              "      <td>0.257218</td>\n",
              "      <td>0.257357</td>\n",
              "      <td>0.256386</td>\n",
              "      <td>0.257488</td>\n",
              "      <td>0.256713</td>\n",
              "      <td>0.2565</td>\n",
              "      <td>0.256881</td>\n",
              "      <td>0.257939</td>\n",
              "      <td>False</td>\n",
              "      <td>0.270971</td>\n",
              "      <td>0.249675</td>\n",
              "      <td>2011</td>\n",
              "      <td>1</td>\n",
              "    </tr>\n",
              "  </tbody>\n",
              "</table>\n",
              "</div>"
            ],
            "text/plain": [
              "       Risk       Zip  Inspection Type   Latitude  Longitude   Nursing  \\\n",
              "0  0.249689  0.262530         0.259123  41.938007  41.938007  0.257218   \n",
              "1  0.337132  0.319572         0.103971  41.772402  41.772402  0.257218   \n",
              "2  0.249689  0.253782         0.073117  41.758779  41.758779  0.257218   \n",
              "3  0.259866  0.265070         0.259123  41.812181  41.812181  0.257218   \n",
              "4  0.249689  0.215886         0.259123        NaN        NaN  0.257218   \n",
              "\n",
              "   Hospital     Truck     Event    Bakery   Store       Bar   Daycare  School  \\\n",
              "0  0.257357  0.256386  0.257488  0.256713  0.2565  0.256881  0.257939   False   \n",
              "1  0.257357  0.256386  0.257488  0.256713  0.2565  0.256881  0.257939   False   \n",
              "2  0.257357  0.256386  0.257488  0.256713  0.2565  0.256881  0.257939   False   \n",
              "3  0.257357  0.256386  0.257488  0.256713  0.2565  0.256881  0.257939   False   \n",
              "4  0.257357  0.256386  0.257488  0.256713  0.2565  0.256881  0.257939   False   \n",
              "\n",
              "   Restaurant   Grocery  Year  Month  \n",
              "0    0.250298  0.249675  2017      9  \n",
              "1    0.270971  0.305358  2011     10  \n",
              "2    0.250298  0.249675  2016      4  \n",
              "3    0.250298  0.249675  2016      4  \n",
              "4    0.270971  0.249675  2011      1  "
            ]
          },
          "metadata": {
            "tags": []
          },
          "execution_count": 80
        }
      ]
    },
    {
      "metadata": {
        "id": "-7qEsg4kdw7B",
        "colab_type": "text"
      },
      "cell_type": "markdown",
      "source": [
        "# Part 2 - over 70%!"
      ]
    },
    {
      "metadata": {
        "id": "o9QodDygcmkJ",
        "colab_type": "code",
        "colab": {
          "base_uri": "https://localhost:8080/",
          "height": 118
        },
        "outputId": "13a199d0-bd12-43d9-ace6-a7823d043c86"
      },
      "cell_type": "code",
      "source": [
        "model = xgboost.XGBClassifier(max_depth = 2,\n",
        "                              learning_rate = 0.1,\n",
        "                              verbosity = 0,\n",
        "                              n_jobs = -1,\n",
        "                              random_state = 0)\n",
        "\n",
        "model.fit(train_transform, y)"
      ],
      "execution_count": 81,
      "outputs": [
        {
          "output_type": "execute_result",
          "data": {
            "text/plain": [
              "XGBClassifier(base_score=0.5, booster='gbtree', colsample_bylevel=1,\n",
              "       colsample_bytree=1, gamma=0, learning_rate=0.1, max_delta_step=0,\n",
              "       max_depth=2, min_child_weight=1, missing=None, n_estimators=100,\n",
              "       n_jobs=-1, nthread=None, objective='binary:logistic',\n",
              "       random_state=0, reg_alpha=0, reg_lambda=1, scale_pos_weight=1,\n",
              "       seed=None, silent=True, subsample=1, verbosity=0)"
            ]
          },
          "metadata": {
            "tags": []
          },
          "execution_count": 81
        }
      ]
    },
    {
      "metadata": {
        "id": "VxXig_tEpxUv",
        "colab_type": "code",
        "colab": {
          "base_uri": "https://localhost:8080/",
          "height": 34
        },
        "outputId": "b2ec1552-f6e6-4ac6-a218-646848246ea5"
      },
      "cell_type": "code",
      "source": [
        "#identical transforms to above to make compatible with cross_val_score\n",
        "pipe = make_pipeline(\n",
        "                     ce.TargetEncoder(),\n",
        "                     xgboost.XGBClassifier(max_depth = 2, #tree depth\n",
        "                                           learning_rate = 0.1, #equiv to eta\n",
        "                                           verbosity = 0,\n",
        "                                           n_jobs = -1, #parallel threads\n",
        "                                           random_state = 0)\n",
        "                     )\n",
        "\n",
        "pipe.fit(train, y)\n",
        "\n",
        "cross_val_score(pipe, train, y, cv=5, scoring='roc_auc', n_jobs=-1)"
      ],
      "execution_count": 87,
      "outputs": [
        {
          "output_type": "execute_result",
          "data": {
            "text/plain": [
              "array([0.70777529, 0.703305  , 0.70697543, 0.71375145, 0.71416228])"
            ]
          },
          "metadata": {
            "tags": []
          },
          "execution_count": 87
        }
      ]
    },
    {
      "metadata": {
        "id": "DQrM05ghrWIh",
        "colab_type": "code",
        "colab": {}
      },
      "cell_type": "code",
      "source": [
        "test_y = test['Fail']\n",
        "test = test.drop(columns=['Fail'])"
      ],
      "execution_count": 0,
      "outputs": []
    },
    {
      "metadata": {
        "id": "mvKQoqu3rTIA",
        "colab_type": "code",
        "colab": {
          "base_uri": "https://localhost:8080/",
          "height": 34
        },
        "outputId": "7491c3ba-5b8b-42e4-c699-3c4327f2d1cf"
      },
      "cell_type": "code",
      "source": [
        "cross_val_score(pipe, test, test_y, cv=5, scoring='roc_auc', n_jobs=-1)"
      ],
      "execution_count": 90,
      "outputs": [
        {
          "output_type": "execute_result",
          "data": {
            "text/plain": [
              "array([0.70984955, 0.69732862, 0.72450502, 0.7120717 , 0.70721424])"
            ]
          },
          "metadata": {
            "tags": []
          },
          "execution_count": 90
        }
      ]
    },
    {
      "metadata": {
        "id": "D9ypEv1nrDfO",
        "colab_type": "text"
      },
      "cell_type": "markdown",
      "source": [
        "# Part 3 - eli5"
      ]
    },
    {
      "metadata": {
        "id": "GZTQmTard2Ph",
        "colab_type": "code",
        "colab": {
          "base_uri": "https://localhost:8080/",
          "height": 336
        },
        "outputId": "318cb344-a4e3-4a2f-f52c-f97d343751ee"
      },
      "cell_type": "code",
      "source": [
        "eli5.explain_weights_xgboost(model, top=None,\n",
        "                             feature_names=train_transform.columns.tolist())"
      ],
      "execution_count": 84,
      "outputs": [
        {
          "output_type": "execute_result",
          "data": {
            "text/html": [
              "\n",
              "    <style>\n",
              "    table.eli5-weights tr:hover {\n",
              "        filter: brightness(85%);\n",
              "    }\n",
              "</style>\n",
              "\n",
              "\n",
              "\n",
              "    \n",
              "\n",
              "    \n",
              "\n",
              "    \n",
              "\n",
              "    \n",
              "\n",
              "    \n",
              "\n",
              "    \n",
              "\n",
              "\n",
              "    \n",
              "\n",
              "    \n",
              "\n",
              "    \n",
              "\n",
              "    \n",
              "\n",
              "    \n",
              "\n",
              "    \n",
              "\n",
              "\n",
              "    \n",
              "\n",
              "    \n",
              "\n",
              "    \n",
              "\n",
              "    \n",
              "\n",
              "    \n",
              "        <table class=\"eli5-weights eli5-feature-importances\" style=\"border-collapse: collapse; border: none; margin-top: 0em; table-layout: auto;\">\n",
              "    <thead>\n",
              "    <tr style=\"border: none;\">\n",
              "        <th style=\"padding: 0 1em 0 0.5em; text-align: right; border: none;\">Weight</th>\n",
              "        <th style=\"padding: 0 0.5em 0 0.5em; text-align: left; border: none;\">Feature</th>\n",
              "    </tr>\n",
              "    </thead>\n",
              "    <tbody>\n",
              "    \n",
              "        <tr style=\"background-color: hsl(120, 100.00%, 80.00%); border: none;\">\n",
              "            <td style=\"padding: 0 1em 0 0.5em; text-align: right; border: none;\">\n",
              "                0.4160\n",
              "                \n",
              "            </td>\n",
              "            <td style=\"padding: 0 0.5em 0 0.5em; text-align: left; border: none;\">\n",
              "                Inspection Type\n",
              "            </td>\n",
              "        </tr>\n",
              "    \n",
              "        <tr style=\"background-color: hsl(120, 100.00%, 90.08%); border: none;\">\n",
              "            <td style=\"padding: 0 1em 0 0.5em; text-align: right; border: none;\">\n",
              "                0.1527\n",
              "                \n",
              "            </td>\n",
              "            <td style=\"padding: 0 0.5em 0 0.5em; text-align: left; border: none;\">\n",
              "                Zip\n",
              "            </td>\n",
              "        </tr>\n",
              "    \n",
              "        <tr style=\"background-color: hsl(120, 100.00%, 93.85%); border: none;\">\n",
              "            <td style=\"padding: 0 1em 0 0.5em; text-align: right; border: none;\">\n",
              "                0.0772\n",
              "                \n",
              "            </td>\n",
              "            <td style=\"padding: 0 0.5em 0 0.5em; text-align: left; border: none;\">\n",
              "                Year\n",
              "            </td>\n",
              "        </tr>\n",
              "    \n",
              "        <tr style=\"background-color: hsl(120, 100.00%, 94.56%); border: none;\">\n",
              "            <td style=\"padding: 0 1em 0 0.5em; text-align: right; border: none;\">\n",
              "                0.0648\n",
              "                \n",
              "            </td>\n",
              "            <td style=\"padding: 0 0.5em 0 0.5em; text-align: left; border: none;\">\n",
              "                Month\n",
              "            </td>\n",
              "        </tr>\n",
              "    \n",
              "        <tr style=\"background-color: hsl(120, 100.00%, 95.39%); border: none;\">\n",
              "            <td style=\"padding: 0 1em 0 0.5em; text-align: right; border: none;\">\n",
              "                0.0511\n",
              "                \n",
              "            </td>\n",
              "            <td style=\"padding: 0 0.5em 0 0.5em; text-align: left; border: none;\">\n",
              "                Bar\n",
              "            </td>\n",
              "        </tr>\n",
              "    \n",
              "        <tr style=\"background-color: hsl(120, 100.00%, 95.58%); border: none;\">\n",
              "            <td style=\"padding: 0 1em 0 0.5em; text-align: right; border: none;\">\n",
              "                0.0482\n",
              "                \n",
              "            </td>\n",
              "            <td style=\"padding: 0 0.5em 0 0.5em; text-align: left; border: none;\">\n",
              "                Daycare\n",
              "            </td>\n",
              "        </tr>\n",
              "    \n",
              "        <tr style=\"background-color: hsl(120, 100.00%, 95.62%); border: none;\">\n",
              "            <td style=\"padding: 0 1em 0 0.5em; text-align: right; border: none;\">\n",
              "                0.0476\n",
              "                \n",
              "            </td>\n",
              "            <td style=\"padding: 0 0.5em 0 0.5em; text-align: left; border: none;\">\n",
              "                Grocery\n",
              "            </td>\n",
              "        </tr>\n",
              "    \n",
              "        <tr style=\"background-color: hsl(120, 100.00%, 95.87%); border: none;\">\n",
              "            <td style=\"padding: 0 1em 0 0.5em; text-align: right; border: none;\">\n",
              "                0.0438\n",
              "                \n",
              "            </td>\n",
              "            <td style=\"padding: 0 0.5em 0 0.5em; text-align: left; border: none;\">\n",
              "                Store\n",
              "            </td>\n",
              "        </tr>\n",
              "    \n",
              "        <tr style=\"background-color: hsl(120, 100.00%, 96.54%); border: none;\">\n",
              "            <td style=\"padding: 0 1em 0 0.5em; text-align: right; border: none;\">\n",
              "                0.0339\n",
              "                \n",
              "            </td>\n",
              "            <td style=\"padding: 0 0.5em 0 0.5em; text-align: left; border: none;\">\n",
              "                Restaurant\n",
              "            </td>\n",
              "        </tr>\n",
              "    \n",
              "        <tr style=\"background-color: hsl(120, 100.00%, 97.11%); border: none;\">\n",
              "            <td style=\"padding: 0 1em 0 0.5em; text-align: right; border: none;\">\n",
              "                0.0262\n",
              "                \n",
              "            </td>\n",
              "            <td style=\"padding: 0 0.5em 0 0.5em; text-align: left; border: none;\">\n",
              "                Latitude\n",
              "            </td>\n",
              "        </tr>\n",
              "    \n",
              "        <tr style=\"background-color: hsl(120, 100.00%, 97.49%); border: none;\">\n",
              "            <td style=\"padding: 0 1em 0 0.5em; text-align: right; border: none;\">\n",
              "                0.0214\n",
              "                \n",
              "            </td>\n",
              "            <td style=\"padding: 0 0.5em 0 0.5em; text-align: left; border: none;\">\n",
              "                Risk\n",
              "            </td>\n",
              "        </tr>\n",
              "    \n",
              "        <tr style=\"background-color: hsl(120, 100.00%, 97.86%); border: none;\">\n",
              "            <td style=\"padding: 0 1em 0 0.5em; text-align: right; border: none;\">\n",
              "                0.0171\n",
              "                \n",
              "            </td>\n",
              "            <td style=\"padding: 0 0.5em 0 0.5em; text-align: left; border: none;\">\n",
              "                Bakery\n",
              "            </td>\n",
              "        </tr>\n",
              "    \n",
              "        <tr style=\"background-color: hsl(0, 100.00%, 100.00%); border: none;\">\n",
              "            <td style=\"padding: 0 1em 0 0.5em; text-align: right; border: none;\">\n",
              "                0\n",
              "                \n",
              "            </td>\n",
              "            <td style=\"padding: 0 0.5em 0 0.5em; text-align: left; border: none;\">\n",
              "                Hospital\n",
              "            </td>\n",
              "        </tr>\n",
              "    \n",
              "        <tr style=\"background-color: hsl(0, 100.00%, 100.00%); border: none;\">\n",
              "            <td style=\"padding: 0 1em 0 0.5em; text-align: right; border: none;\">\n",
              "                0\n",
              "                \n",
              "            </td>\n",
              "            <td style=\"padding: 0 0.5em 0 0.5em; text-align: left; border: none;\">\n",
              "                Nursing\n",
              "            </td>\n",
              "        </tr>\n",
              "    \n",
              "        <tr style=\"background-color: hsl(0, 100.00%, 100.00%); border: none;\">\n",
              "            <td style=\"padding: 0 1em 0 0.5em; text-align: right; border: none;\">\n",
              "                0\n",
              "                \n",
              "            </td>\n",
              "            <td style=\"padding: 0 0.5em 0 0.5em; text-align: left; border: none;\">\n",
              "                Longitude\n",
              "            </td>\n",
              "        </tr>\n",
              "    \n",
              "        <tr style=\"background-color: hsl(0, 100.00%, 100.00%); border: none;\">\n",
              "            <td style=\"padding: 0 1em 0 0.5em; text-align: right; border: none;\">\n",
              "                0\n",
              "                \n",
              "            </td>\n",
              "            <td style=\"padding: 0 0.5em 0 0.5em; text-align: left; border: none;\">\n",
              "                Truck\n",
              "            </td>\n",
              "        </tr>\n",
              "    \n",
              "        <tr style=\"background-color: hsl(0, 100.00%, 100.00%); border: none;\">\n",
              "            <td style=\"padding: 0 1em 0 0.5em; text-align: right; border: none;\">\n",
              "                0\n",
              "                \n",
              "            </td>\n",
              "            <td style=\"padding: 0 0.5em 0 0.5em; text-align: left; border: none;\">\n",
              "                School\n",
              "            </td>\n",
              "        </tr>\n",
              "    \n",
              "        <tr style=\"background-color: hsl(0, 100.00%, 100.00%); border: none;\">\n",
              "            <td style=\"padding: 0 1em 0 0.5em; text-align: right; border: none;\">\n",
              "                0\n",
              "                \n",
              "            </td>\n",
              "            <td style=\"padding: 0 0.5em 0 0.5em; text-align: left; border: none;\">\n",
              "                Event\n",
              "            </td>\n",
              "        </tr>\n",
              "    \n",
              "    \n",
              "    </tbody>\n",
              "</table>\n",
              "    \n",
              "\n",
              "    \n",
              "\n",
              "\n",
              "    \n",
              "\n",
              "    \n",
              "\n",
              "    \n",
              "\n",
              "    \n",
              "\n",
              "    \n",
              "\n",
              "    \n",
              "\n",
              "\n",
              "\n"
            ],
            "text/plain": [
              "Explanation(estimator=\"XGBClassifier(base_score=0.5, booster='gbtree', colsample_bylevel=1,\\n       colsample_bytree=1, gamma=0, learning_rate=0.1, max_delta_step=0,\\n       max_depth=2, min_child_weight=1, missing=None, n_estimators=100,\\n       n_jobs=-1, nthread=None, objective='binary:logistic',\\n       random_state=0, reg_alpha=0, reg_lambda=1, scale_pos_weight=1,\\n       seed=None, silent=True, subsample=1, verbosity=0)\", description='\\nXGBoost feature importances; values are numbers 0 <= x <= 1;\\nall values sum to 1.\\n', error=None, method='feature importances', is_regression=False, targets=None, feature_importances=FeatureImportances(importances=[FeatureWeight(feature='Inspection Type', weight=0.41601324, std=None, value=None), FeatureWeight(feature='Zip', weight=0.15272911, std=None, value=None), FeatureWeight(feature='Year', weight=0.077247515, std=None, value=None), FeatureWeight(feature='Month', weight=0.06484537, std=None, value=None), FeatureWeight(feature='Bar', weight=0.051062297, std=None, value=None), FeatureWeight(feature='Daycare', weight=0.048196174, std=None, value=None), FeatureWeight(feature='Grocery', weight=0.047574542, std=None, value=None), FeatureWeight(feature='Store', weight=0.043763157, std=None, value=None), FeatureWeight(feature='Restaurant', weight=0.033866562, std=None, value=None), FeatureWeight(feature='Latitude', weight=0.026192253, std=None, value=None), FeatureWeight(feature='Risk', weight=0.021436542, std=None, value=None), FeatureWeight(feature='Bakery', weight=0.017073225, std=None, value=None), FeatureWeight(feature='Hospital', weight=0.0, std=None, value=None), FeatureWeight(feature='Nursing', weight=0.0, std=None, value=None), FeatureWeight(feature='Longitude', weight=0.0, std=None, value=None), FeatureWeight(feature='Truck', weight=0.0, std=None, value=None), FeatureWeight(feature='School', weight=0.0, std=None, value=None), FeatureWeight(feature='Event', weight=0.0, std=None, value=None)], remaining=0), decision_tree=None, highlight_spaces=None, transition_features=None)"
            ]
          },
          "metadata": {
            "tags": []
          },
          "execution_count": 84
        }
      ]
    }
  ]
}
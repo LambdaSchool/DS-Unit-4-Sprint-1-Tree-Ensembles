{
  "nbformat": 4,
  "nbformat_minor": 0,
  "metadata": {
    "colab": {
      "name": "DS41SC.ipynb",
      "version": "0.3.2",
      "provenance": []
    },
    "kernelspec": {
      "display_name": "Python 3",
      "language": "python",
      "name": "python3"
    }
  },
  "cells": [
    {
      "metadata": {
        "id": "VWtngu-9XnHF",
        "colab_type": "text"
      },
      "cell_type": "markdown",
      "source": [
        "# Data Science Unit 4 Sprint Challenge 1 — Tree Ensembles"
      ]
    },
    {
      "metadata": {
        "id": "4k6nVetRXnHH",
        "colab_type": "text"
      },
      "cell_type": "markdown",
      "source": [
        "### Chicago Food Inspections\n",
        "\n",
        "For this Sprint Challenge, you'll use a dataset with information from inspections of restaurants and other food establishments in Chicago from January 1, 2010 to the present. \n",
        "\n",
        "[See this PDF](https://data.cityofchicago.org/api/assets/BAD5301B-681A-4202-9D25-51B2CAE672FF) for descriptions of the data elements included in this dataset.\n",
        "\n",
        "According to [Chicago Department of Public Health — Food Protection Services](https://www.chicago.gov/city/en/depts/cdph/provdrs/healthy_restaurants/svcs/food-protection-services.html), \"Chicago is home to 16,000 food establishments like restaurants, grocery stores, bakeries, wholesalers, lunchrooms, mobile food vendors and more. Our business is food safety and sanitation with one goal, to prevent the spread of food-borne disease. We do this by inspecting food businesses, responding to complaints and food recalls.\" "
      ]
    },
    {
      "metadata": {
        "id": "RjRfQS8VXnHI",
        "colab_type": "text"
      },
      "cell_type": "markdown",
      "source": [
        "#### Your challenge: Predict whether inspections failed\n",
        "\n",
        "The target is the `Fail` column.\n",
        "\n",
        "- When the food establishment failed the inspection, the target is `1`.\n",
        "- When the establishment passed, the target is `0`."
      ]
    },
    {
      "metadata": {
        "id": "V38js9MYXnHJ",
        "colab_type": "text"
      },
      "cell_type": "markdown",
      "source": [
        "#### Run this cell to load the data:"
      ]
    },
    {
      "metadata": {
        "id": "SrEGKM4qXnHJ",
        "colab_type": "code",
        "colab": {}
      },
      "cell_type": "code",
      "source": [
        "import pandas as pd\n",
        "\n",
        "train_url = 'https://drive.google.com/uc?export=download&id=13_tP9JpLcZHSPVpWcua4t2rY44K_s4H5'\n",
        "test_url  = 'https://drive.google.com/uc?export=download&id=1GkDHjsiGrzOXoF_xcYjdzBTSjOIi3g5a'\n",
        "\n",
        "train = pd.read_csv(train_url)\n",
        "test  = pd.read_csv(test_url)\n",
        "\n",
        "assert train.shape == (51916, 17)\n",
        "assert test.shape  == (17306, 17)"
      ],
      "execution_count": 0,
      "outputs": []
    },
    {
      "metadata": {
        "id": "i0eowJ9IXnHN",
        "colab_type": "text"
      },
      "cell_type": "markdown",
      "source": [
        "### Part 1: Preprocessing\n",
        "\n",
        "You may choose which features you want to use, and whether/how you will preprocess them. You may use any tools \n",
        "and techniques for categorical encoding. (Pandas, category_encoders, sklearn.preprocessing, or any other library.)\n",
        "\n",
        "_To earn a score of 3 for this part, engineer new features, and use any alternative categorical encoding instead of \n",
        "One-Hot or Ordinal/Label encoding._"
      ]
    },
    {
      "metadata": {
        "id": "KsIfcIL-XnHO",
        "colab_type": "code",
        "colab": {
          "base_uri": "https://localhost:8080/",
          "height": 68
        },
        "outputId": "c771d77d-9acf-4121-8ef6-b577a0093340"
      },
      "cell_type": "code",
      "source": [
        "train['Fail'].value_counts(normalize=True)"
      ],
      "execution_count": 5,
      "outputs": [
        {
          "output_type": "execute_result",
          "data": {
            "text/plain": [
              "0    0.74139\n",
              "1    0.25861\n",
              "Name: Fail, dtype: float64"
            ]
          },
          "metadata": {
            "tags": []
          },
          "execution_count": 5
        }
      ]
    },
    {
      "metadata": {
        "id": "yXW9ocP6XnHS",
        "colab_type": "code",
        "colab": {
          "base_uri": "https://localhost:8080/",
          "height": 306
        },
        "outputId": "55cee8d2-ec90-499e-ecf3-174333149dc0"
      },
      "cell_type": "code",
      "source": [
        "train = train.drop(columns = ['Location', 'AKA Name', 'Inspection ID', 'License #', 'State','City'])\n",
        "train.head()"
      ],
      "execution_count": 6,
      "outputs": [
        {
          "output_type": "execute_result",
          "data": {
            "text/html": [
              "<div>\n",
              "<style scoped>\n",
              "    .dataframe tbody tr th:only-of-type {\n",
              "        vertical-align: middle;\n",
              "    }\n",
              "\n",
              "    .dataframe tbody tr th {\n",
              "        vertical-align: top;\n",
              "    }\n",
              "\n",
              "    .dataframe thead th {\n",
              "        text-align: right;\n",
              "    }\n",
              "</style>\n",
              "<table border=\"1\" class=\"dataframe\">\n",
              "  <thead>\n",
              "    <tr style=\"text-align: right;\">\n",
              "      <th></th>\n",
              "      <th>DBA Name</th>\n",
              "      <th>Facility Type</th>\n",
              "      <th>Risk</th>\n",
              "      <th>Address</th>\n",
              "      <th>Zip</th>\n",
              "      <th>Inspection Date</th>\n",
              "      <th>Inspection Type</th>\n",
              "      <th>Violations</th>\n",
              "      <th>Latitude</th>\n",
              "      <th>Longitude</th>\n",
              "      <th>Fail</th>\n",
              "    </tr>\n",
              "  </thead>\n",
              "  <tbody>\n",
              "    <tr>\n",
              "      <th>0</th>\n",
              "      <td>TOM YUM RICE &amp; NOODLE, INC.</td>\n",
              "      <td>Restaurant</td>\n",
              "      <td>Risk 1 (High)</td>\n",
              "      <td>608 W BARRY</td>\n",
              "      <td>60657.0</td>\n",
              "      <td>2017-09-15T00:00:00</td>\n",
              "      <td>Canvass</td>\n",
              "      <td>3. POTENTIALLY HAZARDOUS FOOD MEETS TEMPERATUR...</td>\n",
              "      <td>41.938007</td>\n",
              "      <td>-87.644755</td>\n",
              "      <td>1</td>\n",
              "    </tr>\n",
              "    <tr>\n",
              "      <th>1</th>\n",
              "      <td>FILLING STATION  &amp; CONVENIENCE  STORE</td>\n",
              "      <td>Grocery Store</td>\n",
              "      <td>Risk 3 (Low)</td>\n",
              "      <td>6646-6658 S WESTERN AVE</td>\n",
              "      <td>60636.0</td>\n",
              "      <td>2011-10-20T00:00:00</td>\n",
              "      <td>Complaint Re-Inspection</td>\n",
              "      <td>32. FOOD AND NON-FOOD CONTACT SURFACES PROPERL...</td>\n",
              "      <td>41.772402</td>\n",
              "      <td>-87.683603</td>\n",
              "      <td>0</td>\n",
              "    </tr>\n",
              "    <tr>\n",
              "      <th>2</th>\n",
              "      <td>A P DELI</td>\n",
              "      <td>Restaurant</td>\n",
              "      <td>Risk 1 (High)</td>\n",
              "      <td>2025 E 75TH ST</td>\n",
              "      <td>60649.0</td>\n",
              "      <td>2016-04-05T00:00:00</td>\n",
              "      <td>Canvass Re-Inspection</td>\n",
              "      <td>35. WALLS, CEILINGS, ATTACHED EQUIPMENT CONSTR...</td>\n",
              "      <td>41.758779</td>\n",
              "      <td>-87.575054</td>\n",
              "      <td>0</td>\n",
              "    </tr>\n",
              "    <tr>\n",
              "      <th>3</th>\n",
              "      <td>FRANK'S CHICAGO SHRIMP HOUSE</td>\n",
              "      <td>Restaurant</td>\n",
              "      <td>Risk 2 (Medium)</td>\n",
              "      <td>4459 S ARCHER AVE</td>\n",
              "      <td>60632.0</td>\n",
              "      <td>2016-04-29T00:00:00</td>\n",
              "      <td>Canvass</td>\n",
              "      <td>38. VENTILATION: ROOMS AND EQUIPMENT VENTED AS...</td>\n",
              "      <td>41.812181</td>\n",
              "      <td>-87.707125</td>\n",
              "      <td>0</td>\n",
              "    </tr>\n",
              "    <tr>\n",
              "      <th>4</th>\n",
              "      <td>MORRILL</td>\n",
              "      <td>School</td>\n",
              "      <td>Risk 1 (High)</td>\n",
              "      <td>6011 S Rockwell (2600W) AVE</td>\n",
              "      <td>60629.0</td>\n",
              "      <td>2011-01-10T00:00:00</td>\n",
              "      <td>Canvass</td>\n",
              "      <td>34. FLOORS: CONSTRUCTED PER CODE, CLEANED, GOO...</td>\n",
              "      <td>NaN</td>\n",
              "      <td>NaN</td>\n",
              "      <td>0</td>\n",
              "    </tr>\n",
              "  </tbody>\n",
              "</table>\n",
              "</div>"
            ],
            "text/plain": [
              "                                DBA Name  Facility Type             Risk  \\\n",
              "0            TOM YUM RICE & NOODLE, INC.     Restaurant    Risk 1 (High)   \n",
              "1  FILLING STATION  & CONVENIENCE  STORE  Grocery Store     Risk 3 (Low)   \n",
              "2                               A P DELI     Restaurant    Risk 1 (High)   \n",
              "3           FRANK'S CHICAGO SHRIMP HOUSE     Restaurant  Risk 2 (Medium)   \n",
              "4                                MORRILL         School    Risk 1 (High)   \n",
              "\n",
              "                        Address      Zip      Inspection Date  \\\n",
              "0                  608 W BARRY   60657.0  2017-09-15T00:00:00   \n",
              "1      6646-6658 S WESTERN AVE   60636.0  2011-10-20T00:00:00   \n",
              "2               2025 E 75TH ST   60649.0  2016-04-05T00:00:00   \n",
              "3            4459 S ARCHER AVE   60632.0  2016-04-29T00:00:00   \n",
              "4  6011 S Rockwell (2600W) AVE   60629.0  2011-01-10T00:00:00   \n",
              "\n",
              "           Inspection Type                                         Violations  \\\n",
              "0                  Canvass  3. POTENTIALLY HAZARDOUS FOOD MEETS TEMPERATUR...   \n",
              "1  Complaint Re-Inspection  32. FOOD AND NON-FOOD CONTACT SURFACES PROPERL...   \n",
              "2    Canvass Re-Inspection  35. WALLS, CEILINGS, ATTACHED EQUIPMENT CONSTR...   \n",
              "3                  Canvass  38. VENTILATION: ROOMS AND EQUIPMENT VENTED AS...   \n",
              "4                  Canvass  34. FLOORS: CONSTRUCTED PER CODE, CLEANED, GOO...   \n",
              "\n",
              "    Latitude  Longitude  Fail  \n",
              "0  41.938007 -87.644755     1  \n",
              "1  41.772402 -87.683603     0  \n",
              "2  41.758779 -87.575054     0  \n",
              "3  41.812181 -87.707125     0  \n",
              "4        NaN        NaN     0  "
            ]
          },
          "metadata": {
            "tags": []
          },
          "execution_count": 6
        }
      ]
    },
    {
      "metadata": {
        "id": "Ty63sUC6XnHV",
        "colab_type": "code",
        "colab": {
          "base_uri": "https://localhost:8080/",
          "height": 323
        },
        "outputId": "96d0fbce-ddb9-46f4-b919-39b09d02facb"
      },
      "cell_type": "code",
      "source": [
        "test = test.drop(columns = ['Location', 'AKA Name', 'Inspection ID', 'License #', 'State', 'City'])\n",
        "test.head()"
      ],
      "execution_count": 7,
      "outputs": [
        {
          "output_type": "execute_result",
          "data": {
            "text/html": [
              "<div>\n",
              "<style scoped>\n",
              "    .dataframe tbody tr th:only-of-type {\n",
              "        vertical-align: middle;\n",
              "    }\n",
              "\n",
              "    .dataframe tbody tr th {\n",
              "        vertical-align: top;\n",
              "    }\n",
              "\n",
              "    .dataframe thead th {\n",
              "        text-align: right;\n",
              "    }\n",
              "</style>\n",
              "<table border=\"1\" class=\"dataframe\">\n",
              "  <thead>\n",
              "    <tr style=\"text-align: right;\">\n",
              "      <th></th>\n",
              "      <th>DBA Name</th>\n",
              "      <th>Facility Type</th>\n",
              "      <th>Risk</th>\n",
              "      <th>Address</th>\n",
              "      <th>Zip</th>\n",
              "      <th>Inspection Date</th>\n",
              "      <th>Inspection Type</th>\n",
              "      <th>Violations</th>\n",
              "      <th>Latitude</th>\n",
              "      <th>Longitude</th>\n",
              "      <th>Fail</th>\n",
              "    </tr>\n",
              "  </thead>\n",
              "  <tbody>\n",
              "    <tr>\n",
              "      <th>0</th>\n",
              "      <td>7 - ELEVEN</td>\n",
              "      <td>Grocery Store</td>\n",
              "      <td>Risk 2 (Medium)</td>\n",
              "      <td>600 S DEARBORN</td>\n",
              "      <td>60605.0</td>\n",
              "      <td>2011-03-22T00:00:00</td>\n",
              "      <td>Canvass</td>\n",
              "      <td>33. FOOD AND NON-FOOD CONTACT EQUIPMENT UTENSI...</td>\n",
              "      <td>41.874481</td>\n",
              "      <td>-87.629357</td>\n",
              "      <td>0</td>\n",
              "    </tr>\n",
              "    <tr>\n",
              "      <th>1</th>\n",
              "      <td>TAQUERIA LOS GALLOS INC</td>\n",
              "      <td>Restaurant</td>\n",
              "      <td>Risk 1 (High)</td>\n",
              "      <td>4209-4211 W 26TH ST</td>\n",
              "      <td>60623.0</td>\n",
              "      <td>2015-09-15T00:00:00</td>\n",
              "      <td>Canvass</td>\n",
              "      <td>30. FOOD IN ORIGINAL CONTAINER, PROPERLY LABEL...</td>\n",
              "      <td>41.844070</td>\n",
              "      <td>-87.729807</td>\n",
              "      <td>0</td>\n",
              "    </tr>\n",
              "    <tr>\n",
              "      <th>2</th>\n",
              "      <td>TROTTER'S TO GO</td>\n",
              "      <td>Restaurant</td>\n",
              "      <td>Risk 1 (High)</td>\n",
              "      <td>1337 W FULLERTON AVE</td>\n",
              "      <td>60614.0</td>\n",
              "      <td>2012-03-02T00:00:00</td>\n",
              "      <td>Canvass</td>\n",
              "      <td>34. FLOORS: CONSTRUCTED PER CODE, CLEANED, GOO...</td>\n",
              "      <td>41.925128</td>\n",
              "      <td>-87.662041</td>\n",
              "      <td>0</td>\n",
              "    </tr>\n",
              "    <tr>\n",
              "      <th>3</th>\n",
              "      <td>BIG G'S PIZZA</td>\n",
              "      <td>Restaurant</td>\n",
              "      <td>Risk 1 (High)</td>\n",
              "      <td>1132 W TAYLOR ST</td>\n",
              "      <td>60607.0</td>\n",
              "      <td>2016-10-04T00:00:00</td>\n",
              "      <td>Canvass Re-Inspection</td>\n",
              "      <td>14. PREVIOUS SERIOUS VIOLATION CORRECTED, 7-42...</td>\n",
              "      <td>41.869546</td>\n",
              "      <td>-87.655501</td>\n",
              "      <td>1</td>\n",
              "    </tr>\n",
              "    <tr>\n",
              "      <th>4</th>\n",
              "      <td>SOUTH CENTRAL COMMUNITY SERVICES ELEMENTARY</td>\n",
              "      <td>School</td>\n",
              "      <td>Risk 2 (Medium)</td>\n",
              "      <td>1021 E 83RD</td>\n",
              "      <td>60619.0</td>\n",
              "      <td>2016-04-08T00:00:00</td>\n",
              "      <td>Canvass</td>\n",
              "      <td>18. NO EVIDENCE OF RODENT OR INSECT OUTER OPEN...</td>\n",
              "      <td>41.743933</td>\n",
              "      <td>-87.599291</td>\n",
              "      <td>1</td>\n",
              "    </tr>\n",
              "  </tbody>\n",
              "</table>\n",
              "</div>"
            ],
            "text/plain": [
              "                                      DBA Name  Facility Type  \\\n",
              "0                                   7 - ELEVEN  Grocery Store   \n",
              "1                      TAQUERIA LOS GALLOS INC     Restaurant   \n",
              "2                              TROTTER'S TO GO     Restaurant   \n",
              "3                                BIG G'S PIZZA     Restaurant   \n",
              "4  SOUTH CENTRAL COMMUNITY SERVICES ELEMENTARY         School   \n",
              "\n",
              "              Risk                Address      Zip      Inspection Date  \\\n",
              "0  Risk 2 (Medium)        600 S DEARBORN   60605.0  2011-03-22T00:00:00   \n",
              "1    Risk 1 (High)   4209-4211 W 26TH ST   60623.0  2015-09-15T00:00:00   \n",
              "2    Risk 1 (High)  1337 W FULLERTON AVE   60614.0  2012-03-02T00:00:00   \n",
              "3    Risk 1 (High)      1132 W TAYLOR ST   60607.0  2016-10-04T00:00:00   \n",
              "4  Risk 2 (Medium)           1021 E 83RD   60619.0  2016-04-08T00:00:00   \n",
              "\n",
              "         Inspection Type                                         Violations  \\\n",
              "0                Canvass  33. FOOD AND NON-FOOD CONTACT EQUIPMENT UTENSI...   \n",
              "1                Canvass  30. FOOD IN ORIGINAL CONTAINER, PROPERLY LABEL...   \n",
              "2                Canvass  34. FLOORS: CONSTRUCTED PER CODE, CLEANED, GOO...   \n",
              "3  Canvass Re-Inspection  14. PREVIOUS SERIOUS VIOLATION CORRECTED, 7-42...   \n",
              "4                Canvass  18. NO EVIDENCE OF RODENT OR INSECT OUTER OPEN...   \n",
              "\n",
              "    Latitude  Longitude  Fail  \n",
              "0  41.874481 -87.629357     0  \n",
              "1  41.844070 -87.729807     0  \n",
              "2  41.925128 -87.662041     0  \n",
              "3  41.869546 -87.655501     1  \n",
              "4  41.743933 -87.599291     1  "
            ]
          },
          "metadata": {
            "tags": []
          },
          "execution_count": 7
        }
      ]
    },
    {
      "metadata": {
        "id": "kYm3sw_7XnHY",
        "colab_type": "code",
        "colab": {
          "base_uri": "https://localhost:8080/",
          "height": 221
        },
        "outputId": "ce3b3b5c-299f-422c-803a-50383f540e80"
      },
      "cell_type": "code",
      "source": [
        "train.isna().sum()"
      ],
      "execution_count": 8,
      "outputs": [
        {
          "output_type": "execute_result",
          "data": {
            "text/plain": [
              "DBA Name              0\n",
              "Facility Type       224\n",
              "Risk                 12\n",
              "Address               0\n",
              "Zip                  26\n",
              "Inspection Date       0\n",
              "Inspection Type       1\n",
              "Violations         9655\n",
              "Latitude            198\n",
              "Longitude           198\n",
              "Fail                  0\n",
              "dtype: int64"
            ]
          },
          "metadata": {
            "tags": []
          },
          "execution_count": 8
        }
      ]
    },
    {
      "metadata": {
        "id": "23KfjhdxXnHa",
        "colab_type": "code",
        "colab": {
          "base_uri": "https://localhost:8080/",
          "height": 221
        },
        "outputId": "cc8f0658-b459-4282-c926-d210ab668ee4"
      },
      "cell_type": "code",
      "source": [
        "test.isna().sum()"
      ],
      "execution_count": 9,
      "outputs": [
        {
          "output_type": "execute_result",
          "data": {
            "text/plain": [
              "DBA Name              0\n",
              "Facility Type        87\n",
              "Risk                  7\n",
              "Address               0\n",
              "Zip                   8\n",
              "Inspection Date       0\n",
              "Inspection Type       0\n",
              "Violations         3280\n",
              "Latitude             61\n",
              "Longitude            61\n",
              "Fail                  0\n",
              "dtype: int64"
            ]
          },
          "metadata": {
            "tags": []
          },
          "execution_count": 9
        }
      ]
    },
    {
      "metadata": {
        "id": "E48fKKKUXnHd",
        "colab_type": "code",
        "colab": {}
      },
      "cell_type": "code",
      "source": [
        "# Clean up NaN values\n",
        "\n",
        "train[['Facility Type']] = train[['Facility Type']].fillna(value='Unknown')\n",
        "train[['Risk']] = train[['Risk']].fillna(value='Unknown')\n",
        "train[['Inspection Type']] = train[['Inspection Type']].fillna(value='Unknown')\n",
        "train[['Violations']] = train[['Violations']].fillna(value='0')\n",
        "\n",
        "test[['Facility Type']] = test[['Facility Type']].fillna(value='Unknown')\n",
        "test[['Risk']] = test[['Risk']].fillna(value='Unknown')\n",
        "test[['Inspection Type']] = test[['Inspection Type']].fillna(value='Unknown')\n",
        "test[['Violations']] = test[['Violations']].fillna(value='0')"
      ],
      "execution_count": 0,
      "outputs": []
    },
    {
      "metadata": {
        "id": "KBc3P3ExXnHf",
        "colab_type": "code",
        "colab": {
          "base_uri": "https://localhost:8080/",
          "height": 221
        },
        "outputId": "c700a2a0-4381-4c2f-cb5d-d7993711be5b"
      },
      "cell_type": "code",
      "source": [
        "train.isna().sum()"
      ],
      "execution_count": 11,
      "outputs": [
        {
          "output_type": "execute_result",
          "data": {
            "text/plain": [
              "DBA Name             0\n",
              "Facility Type        0\n",
              "Risk                 0\n",
              "Address              0\n",
              "Zip                 26\n",
              "Inspection Date      0\n",
              "Inspection Type      0\n",
              "Violations           0\n",
              "Latitude           198\n",
              "Longitude          198\n",
              "Fail                 0\n",
              "dtype: int64"
            ]
          },
          "metadata": {
            "tags": []
          },
          "execution_count": 11
        }
      ]
    },
    {
      "metadata": {
        "id": "CTV7CMKcXnHh",
        "colab_type": "code",
        "colab": {
          "base_uri": "https://localhost:8080/",
          "height": 221
        },
        "outputId": "f71f32bc-b054-4d75-b3fc-0413f2683a17"
      },
      "cell_type": "code",
      "source": [
        "test.isna().sum()"
      ],
      "execution_count": 12,
      "outputs": [
        {
          "output_type": "execute_result",
          "data": {
            "text/plain": [
              "DBA Name            0\n",
              "Facility Type       0\n",
              "Risk                0\n",
              "Address             0\n",
              "Zip                 8\n",
              "Inspection Date     0\n",
              "Inspection Type     0\n",
              "Violations          0\n",
              "Latitude           61\n",
              "Longitude          61\n",
              "Fail                0\n",
              "dtype: int64"
            ]
          },
          "metadata": {
            "tags": []
          },
          "execution_count": 12
        }
      ]
    },
    {
      "metadata": {
        "id": "aswqI4A8XnHj",
        "colab_type": "code",
        "colab": {
          "base_uri": "https://localhost:8080/",
          "height": 424
        },
        "outputId": "03d8e4f4-6274-4fa6-d449-d89a1ce0f0dd"
      },
      "cell_type": "code",
      "source": [
        "train.describe(include='all')\n",
        "# License # drop?\n",
        "# Facility Type - Unknown\n",
        "# Risk - Unknown\n",
        "# City - Unknown\n",
        "# Zip - drop rows?\n",
        "# Lat/Long - drop rows?"
      ],
      "execution_count": 13,
      "outputs": [
        {
          "output_type": "execute_result",
          "data": {
            "text/html": [
              "<div>\n",
              "<style scoped>\n",
              "    .dataframe tbody tr th:only-of-type {\n",
              "        vertical-align: middle;\n",
              "    }\n",
              "\n",
              "    .dataframe tbody tr th {\n",
              "        vertical-align: top;\n",
              "    }\n",
              "\n",
              "    .dataframe thead th {\n",
              "        text-align: right;\n",
              "    }\n",
              "</style>\n",
              "<table border=\"1\" class=\"dataframe\">\n",
              "  <thead>\n",
              "    <tr style=\"text-align: right;\">\n",
              "      <th></th>\n",
              "      <th>DBA Name</th>\n",
              "      <th>Facility Type</th>\n",
              "      <th>Risk</th>\n",
              "      <th>Address</th>\n",
              "      <th>Zip</th>\n",
              "      <th>Inspection Date</th>\n",
              "      <th>Inspection Type</th>\n",
              "      <th>Violations</th>\n",
              "      <th>Latitude</th>\n",
              "      <th>Longitude</th>\n",
              "      <th>Fail</th>\n",
              "    </tr>\n",
              "  </thead>\n",
              "  <tbody>\n",
              "    <tr>\n",
              "      <th>count</th>\n",
              "      <td>51916</td>\n",
              "      <td>51916</td>\n",
              "      <td>51916</td>\n",
              "      <td>51916</td>\n",
              "      <td>51890.000000</td>\n",
              "      <td>51916</td>\n",
              "      <td>51916</td>\n",
              "      <td>51916</td>\n",
              "      <td>51718.000000</td>\n",
              "      <td>51718.000000</td>\n",
              "      <td>51916.000000</td>\n",
              "    </tr>\n",
              "    <tr>\n",
              "      <th>unique</th>\n",
              "      <td>17049</td>\n",
              "      <td>330</td>\n",
              "      <td>4</td>\n",
              "      <td>13954</td>\n",
              "      <td>NaN</td>\n",
              "      <td>2257</td>\n",
              "      <td>52</td>\n",
              "      <td>42165</td>\n",
              "      <td>NaN</td>\n",
              "      <td>NaN</td>\n",
              "      <td>NaN</td>\n",
              "    </tr>\n",
              "    <tr>\n",
              "      <th>top</th>\n",
              "      <td>SUBWAY</td>\n",
              "      <td>Restaurant</td>\n",
              "      <td>Risk 1 (High)</td>\n",
              "      <td>11601 W TOUHY AVE</td>\n",
              "      <td>NaN</td>\n",
              "      <td>2017-03-23T00:00:00</td>\n",
              "      <td>Canvass</td>\n",
              "      <td>0</td>\n",
              "      <td>NaN</td>\n",
              "      <td>NaN</td>\n",
              "      <td>NaN</td>\n",
              "    </tr>\n",
              "    <tr>\n",
              "      <th>freq</th>\n",
              "      <td>654</td>\n",
              "      <td>34264</td>\n",
              "      <td>37731</td>\n",
              "      <td>741</td>\n",
              "      <td>NaN</td>\n",
              "      <td>50</td>\n",
              "      <td>24170</td>\n",
              "      <td>9655</td>\n",
              "      <td>NaN</td>\n",
              "      <td>NaN</td>\n",
              "      <td>NaN</td>\n",
              "    </tr>\n",
              "    <tr>\n",
              "      <th>mean</th>\n",
              "      <td>NaN</td>\n",
              "      <td>NaN</td>\n",
              "      <td>NaN</td>\n",
              "      <td>NaN</td>\n",
              "      <td>60628.834669</td>\n",
              "      <td>NaN</td>\n",
              "      <td>NaN</td>\n",
              "      <td>NaN</td>\n",
              "      <td>41.879568</td>\n",
              "      <td>-87.676663</td>\n",
              "      <td>0.258610</td>\n",
              "    </tr>\n",
              "    <tr>\n",
              "      <th>std</th>\n",
              "      <td>NaN</td>\n",
              "      <td>NaN</td>\n",
              "      <td>NaN</td>\n",
              "      <td>NaN</td>\n",
              "      <td>22.736963</td>\n",
              "      <td>NaN</td>\n",
              "      <td>NaN</td>\n",
              "      <td>NaN</td>\n",
              "      <td>0.081126</td>\n",
              "      <td>0.059509</td>\n",
              "      <td>0.437875</td>\n",
              "    </tr>\n",
              "    <tr>\n",
              "      <th>min</th>\n",
              "      <td>NaN</td>\n",
              "      <td>NaN</td>\n",
              "      <td>NaN</td>\n",
              "      <td>NaN</td>\n",
              "      <td>60007.000000</td>\n",
              "      <td>NaN</td>\n",
              "      <td>NaN</td>\n",
              "      <td>NaN</td>\n",
              "      <td>41.644670</td>\n",
              "      <td>-87.914428</td>\n",
              "      <td>0.000000</td>\n",
              "    </tr>\n",
              "    <tr>\n",
              "      <th>25%</th>\n",
              "      <td>NaN</td>\n",
              "      <td>NaN</td>\n",
              "      <td>NaN</td>\n",
              "      <td>NaN</td>\n",
              "      <td>60614.000000</td>\n",
              "      <td>NaN</td>\n",
              "      <td>NaN</td>\n",
              "      <td>NaN</td>\n",
              "      <td>41.830296</td>\n",
              "      <td>-87.707857</td>\n",
              "      <td>0.000000</td>\n",
              "    </tr>\n",
              "    <tr>\n",
              "      <th>50%</th>\n",
              "      <td>NaN</td>\n",
              "      <td>NaN</td>\n",
              "      <td>NaN</td>\n",
              "      <td>NaN</td>\n",
              "      <td>60625.000000</td>\n",
              "      <td>NaN</td>\n",
              "      <td>NaN</td>\n",
              "      <td>NaN</td>\n",
              "      <td>41.890166</td>\n",
              "      <td>-87.666524</td>\n",
              "      <td>0.000000</td>\n",
              "    </tr>\n",
              "    <tr>\n",
              "      <th>75%</th>\n",
              "      <td>NaN</td>\n",
              "      <td>NaN</td>\n",
              "      <td>NaN</td>\n",
              "      <td>NaN</td>\n",
              "      <td>60643.000000</td>\n",
              "      <td>NaN</td>\n",
              "      <td>NaN</td>\n",
              "      <td>NaN</td>\n",
              "      <td>41.939167</td>\n",
              "      <td>-87.634461</td>\n",
              "      <td>1.000000</td>\n",
              "    </tr>\n",
              "    <tr>\n",
              "      <th>max</th>\n",
              "      <td>NaN</td>\n",
              "      <td>NaN</td>\n",
              "      <td>NaN</td>\n",
              "      <td>NaN</td>\n",
              "      <td>60827.000000</td>\n",
              "      <td>NaN</td>\n",
              "      <td>NaN</td>\n",
              "      <td>NaN</td>\n",
              "      <td>42.021064</td>\n",
              "      <td>-87.525094</td>\n",
              "      <td>1.000000</td>\n",
              "    </tr>\n",
              "  </tbody>\n",
              "</table>\n",
              "</div>"
            ],
            "text/plain": [
              "       DBA Name Facility Type           Risk             Address  \\\n",
              "count     51916         51916          51916               51916   \n",
              "unique    17049           330              4               13954   \n",
              "top      SUBWAY    Restaurant  Risk 1 (High)  11601 W TOUHY AVE    \n",
              "freq        654         34264          37731                 741   \n",
              "mean        NaN           NaN            NaN                 NaN   \n",
              "std         NaN           NaN            NaN                 NaN   \n",
              "min         NaN           NaN            NaN                 NaN   \n",
              "25%         NaN           NaN            NaN                 NaN   \n",
              "50%         NaN           NaN            NaN                 NaN   \n",
              "75%         NaN           NaN            NaN                 NaN   \n",
              "max         NaN           NaN            NaN                 NaN   \n",
              "\n",
              "                 Zip      Inspection Date Inspection Type Violations  \\\n",
              "count   51890.000000                51916           51916      51916   \n",
              "unique           NaN                 2257              52      42165   \n",
              "top              NaN  2017-03-23T00:00:00         Canvass          0   \n",
              "freq             NaN                   50           24170       9655   \n",
              "mean    60628.834669                  NaN             NaN        NaN   \n",
              "std        22.736963                  NaN             NaN        NaN   \n",
              "min     60007.000000                  NaN             NaN        NaN   \n",
              "25%     60614.000000                  NaN             NaN        NaN   \n",
              "50%     60625.000000                  NaN             NaN        NaN   \n",
              "75%     60643.000000                  NaN             NaN        NaN   \n",
              "max     60827.000000                  NaN             NaN        NaN   \n",
              "\n",
              "            Latitude     Longitude          Fail  \n",
              "count   51718.000000  51718.000000  51916.000000  \n",
              "unique           NaN           NaN           NaN  \n",
              "top              NaN           NaN           NaN  \n",
              "freq             NaN           NaN           NaN  \n",
              "mean       41.879568    -87.676663      0.258610  \n",
              "std         0.081126      0.059509      0.437875  \n",
              "min        41.644670    -87.914428      0.000000  \n",
              "25%        41.830296    -87.707857      0.000000  \n",
              "50%        41.890166    -87.666524      0.000000  \n",
              "75%        41.939167    -87.634461      1.000000  \n",
              "max        42.021064    -87.525094      1.000000  "
            ]
          },
          "metadata": {
            "tags": []
          },
          "execution_count": 13
        }
      ]
    },
    {
      "metadata": {
        "id": "SKV4rhZjXnHm",
        "colab_type": "code",
        "colab": {}
      },
      "cell_type": "code",
      "source": [
        "# New feature with count of Violations\n",
        "\n",
        "train['num_violations'] = train['Violations'].str.split('|').apply(lambda x: len(x))\n",
        "test['num_violations'] = test['Violations'].str.split('|').apply(lambda x: len(x))"
      ],
      "execution_count": 0,
      "outputs": []
    },
    {
      "metadata": {
        "id": "78kcJkSZXnHo",
        "colab_type": "code",
        "colab": {
          "base_uri": "https://localhost:8080/",
          "height": 85
        },
        "outputId": "cd4fa358-094b-4228-dec1-0bc4f8dd0aa4"
      },
      "cell_type": "code",
      "source": [
        "X = train.dropna() #Drop rows with NaN for zip & lat/long since there aren't many\n",
        "y = X['Fail']\n",
        "X = X.drop(columns = ['Fail'])\n",
        "X_test = test.dropna() #Drop rows with NaN for zip & lat/long since there aren't many\n",
        "y_test = X_test['Fail']\n",
        "X_test = X_test.drop(columns = ['Fail'])\n",
        "\n",
        "print(X.shape)\n",
        "print(y.shape)\n",
        "print(X_test.shape)\n",
        "print(y_test.shape)"
      ],
      "execution_count": 15,
      "outputs": [
        {
          "output_type": "stream",
          "text": [
            "(51698, 11)\n",
            "(51698,)\n",
            "(17237, 11)\n",
            "(17237,)\n"
          ],
          "name": "stdout"
        }
      ]
    },
    {
      "metadata": {
        "id": "meyNMFVRYC-P",
        "colab_type": "code",
        "colab": {
          "base_uri": "https://localhost:8080/",
          "height": 275
        },
        "outputId": "c61e4089-0853-4262-c9e3-8a788840903b"
      },
      "cell_type": "code",
      "source": [
        "!pip install category_encoders"
      ],
      "execution_count": 17,
      "outputs": [
        {
          "output_type": "stream",
          "text": [
            "Collecting category_encoders\n",
            "\u001b[?25l  Downloading https://files.pythonhosted.org/packages/f7/d3/82a4b85a87ece114f6d0139d643580c726efa45fa4db3b81aed38c0156c5/category_encoders-1.3.0-py2.py3-none-any.whl (61kB)\n",
            "\u001b[K    100% |████████████████████████████████| 61kB 2.2MB/s \n",
            "\u001b[?25hRequirement already satisfied: pandas>=0.20.1 in /usr/local/lib/python3.6/dist-packages (from category_encoders) (0.22.0)\n",
            "Requirement already satisfied: scikit-learn>=0.17.1 in /usr/local/lib/python3.6/dist-packages (from category_encoders) (0.20.3)\n",
            "Requirement already satisfied: scipy>=0.17.0 in /usr/local/lib/python3.6/dist-packages (from category_encoders) (1.1.0)\n",
            "Requirement already satisfied: patsy>=0.4.1 in /usr/local/lib/python3.6/dist-packages (from category_encoders) (0.5.1)\n",
            "Requirement already satisfied: numpy>=1.11.1 in /usr/local/lib/python3.6/dist-packages (from category_encoders) (1.14.6)\n",
            "Requirement already satisfied: statsmodels>=0.6.1 in /usr/local/lib/python3.6/dist-packages (from category_encoders) (0.8.0)\n",
            "Requirement already satisfied: pytz>=2011k in /usr/local/lib/python3.6/dist-packages (from pandas>=0.20.1->category_encoders) (2018.9)\n",
            "Requirement already satisfied: python-dateutil>=2 in /usr/local/lib/python3.6/dist-packages (from pandas>=0.20.1->category_encoders) (2.5.3)\n",
            "Requirement already satisfied: six in /usr/local/lib/python3.6/dist-packages (from patsy>=0.4.1->category_encoders) (1.11.0)\n",
            "Installing collected packages: category-encoders\n",
            "Successfully installed category-encoders-1.3.0\n"
          ],
          "name": "stdout"
        }
      ]
    },
    {
      "metadata": {
        "id": "ocEolxjNXnHr",
        "colab_type": "code",
        "colab": {}
      },
      "cell_type": "code",
      "source": [
        "import category_encoders as ce\n",
        "\n",
        "encoder = ce.OrdinalEncoder()\n",
        "X = encoder.fit_transform(X)\n",
        "X_test = encoder.fit_transform(X_test)"
      ],
      "execution_count": 0,
      "outputs": []
    },
    {
      "metadata": {
        "id": "AXEj3yNsXnHx",
        "colab_type": "code",
        "colab": {
          "base_uri": "https://localhost:8080/",
          "height": 204
        },
        "outputId": "a4b75384-7b93-447f-e778-467e638a2ca8"
      },
      "cell_type": "code",
      "source": [
        "X.head()"
      ],
      "execution_count": 19,
      "outputs": [
        {
          "output_type": "execute_result",
          "data": {
            "text/html": [
              "<div>\n",
              "<style scoped>\n",
              "    .dataframe tbody tr th:only-of-type {\n",
              "        vertical-align: middle;\n",
              "    }\n",
              "\n",
              "    .dataframe tbody tr th {\n",
              "        vertical-align: top;\n",
              "    }\n",
              "\n",
              "    .dataframe thead th {\n",
              "        text-align: right;\n",
              "    }\n",
              "</style>\n",
              "<table border=\"1\" class=\"dataframe\">\n",
              "  <thead>\n",
              "    <tr style=\"text-align: right;\">\n",
              "      <th></th>\n",
              "      <th>DBA Name</th>\n",
              "      <th>Facility Type</th>\n",
              "      <th>Risk</th>\n",
              "      <th>Address</th>\n",
              "      <th>Zip</th>\n",
              "      <th>Inspection Date</th>\n",
              "      <th>Inspection Type</th>\n",
              "      <th>Violations</th>\n",
              "      <th>Latitude</th>\n",
              "      <th>Longitude</th>\n",
              "      <th>num_violations</th>\n",
              "    </tr>\n",
              "  </thead>\n",
              "  <tbody>\n",
              "    <tr>\n",
              "      <th>0</th>\n",
              "      <td>1</td>\n",
              "      <td>1</td>\n",
              "      <td>1</td>\n",
              "      <td>1</td>\n",
              "      <td>60657.0</td>\n",
              "      <td>1</td>\n",
              "      <td>1</td>\n",
              "      <td>1</td>\n",
              "      <td>41.938007</td>\n",
              "      <td>-87.644755</td>\n",
              "      <td>5</td>\n",
              "    </tr>\n",
              "    <tr>\n",
              "      <th>1</th>\n",
              "      <td>2</td>\n",
              "      <td>2</td>\n",
              "      <td>2</td>\n",
              "      <td>2</td>\n",
              "      <td>60636.0</td>\n",
              "      <td>2</td>\n",
              "      <td>2</td>\n",
              "      <td>2</td>\n",
              "      <td>41.772402</td>\n",
              "      <td>-87.683603</td>\n",
              "      <td>7</td>\n",
              "    </tr>\n",
              "    <tr>\n",
              "      <th>2</th>\n",
              "      <td>3</td>\n",
              "      <td>1</td>\n",
              "      <td>1</td>\n",
              "      <td>3</td>\n",
              "      <td>60649.0</td>\n",
              "      <td>3</td>\n",
              "      <td>3</td>\n",
              "      <td>3</td>\n",
              "      <td>41.758779</td>\n",
              "      <td>-87.575054</td>\n",
              "      <td>1</td>\n",
              "    </tr>\n",
              "    <tr>\n",
              "      <th>3</th>\n",
              "      <td>4</td>\n",
              "      <td>1</td>\n",
              "      <td>3</td>\n",
              "      <td>4</td>\n",
              "      <td>60632.0</td>\n",
              "      <td>4</td>\n",
              "      <td>1</td>\n",
              "      <td>4</td>\n",
              "      <td>41.812181</td>\n",
              "      <td>-87.707125</td>\n",
              "      <td>2</td>\n",
              "    </tr>\n",
              "    <tr>\n",
              "      <th>5</th>\n",
              "      <td>5</td>\n",
              "      <td>3</td>\n",
              "      <td>1</td>\n",
              "      <td>5</td>\n",
              "      <td>60614.0</td>\n",
              "      <td>5</td>\n",
              "      <td>1</td>\n",
              "      <td>5</td>\n",
              "      <td>41.932632</td>\n",
              "      <td>-87.647973</td>\n",
              "      <td>7</td>\n",
              "    </tr>\n",
              "  </tbody>\n",
              "</table>\n",
              "</div>"
            ],
            "text/plain": [
              "   DBA Name  Facility Type  Risk  Address      Zip  Inspection Date  \\\n",
              "0         1              1     1        1  60657.0                1   \n",
              "1         2              2     2        2  60636.0                2   \n",
              "2         3              1     1        3  60649.0                3   \n",
              "3         4              1     3        4  60632.0                4   \n",
              "5         5              3     1        5  60614.0                5   \n",
              "\n",
              "   Inspection Type  Violations   Latitude  Longitude  num_violations  \n",
              "0                1           1  41.938007 -87.644755               5  \n",
              "1                2           2  41.772402 -87.683603               7  \n",
              "2                3           3  41.758779 -87.575054               1  \n",
              "3                1           4  41.812181 -87.707125               2  \n",
              "5                1           5  41.932632 -87.647973               7  "
            ]
          },
          "metadata": {
            "tags": []
          },
          "execution_count": 19
        }
      ]
    },
    {
      "metadata": {
        "id": "djHKJtO3XnH0",
        "colab_type": "text"
      },
      "cell_type": "markdown",
      "source": [
        "### Part 2: Modeling\n",
        "\n",
        "Fit a Random Forest or Gradient Boosting model with the train set. (You may use scikit-learn, xgboost, or any other library.) Use cross-validation to estimate an ROC AUC validation score.\n",
        "\n",
        "Use your model to predict probabilities for the test set. Get an ROC AUC test score >= 0.60.\n",
        "\n",
        "_To earn a score of 3 for this part, get an ROC AUC test score >= 0.70._"
      ]
    },
    {
      "metadata": {
        "id": "AzP-P6K1XnH1",
        "colab_type": "code",
        "colab": {
          "base_uri": "https://localhost:8080/",
          "height": 34
        },
        "outputId": "ec62867b-125c-40ac-acb3-550802373cd3"
      },
      "cell_type": "code",
      "source": [
        "from sklearn.ensemble import GradientBoostingClassifier\n",
        "from sklearn.model_selection import cross_val_score\n",
        "from sklearn.metrics import roc_auc_score\n",
        "\n",
        "gb = GradientBoostingClassifier()\n",
        "cross_val_score(gb, X, y, scoring='accuracy', cv=5, n_jobs=-1)"
      ],
      "execution_count": 20,
      "outputs": [
        {
          "output_type": "execute_result",
          "data": {
            "text/plain": [
              "array([0.61261   , 0.82562863, 0.82464455, 0.81622981, 0.76032498])"
            ]
          },
          "metadata": {
            "tags": []
          },
          "execution_count": 20
        }
      ]
    },
    {
      "metadata": {
        "id": "iTwcwTl8XnH4",
        "colab_type": "code",
        "colab": {
          "base_uri": "https://localhost:8080/",
          "height": 221
        },
        "outputId": "a494da98-d35b-4fc8-e17a-3e71315a2001"
      },
      "cell_type": "code",
      "source": [
        "# X = X.drop(columns=['DBA Name'])\n",
        "# X_test = X_test.drop(columns=['DBA Name'])\n",
        "\n",
        "gb.fit(X, y)\n",
        "pd.Series(gb.feature_importances_, X.columns)"
      ],
      "execution_count": 21,
      "outputs": [
        {
          "output_type": "execute_result",
          "data": {
            "text/plain": [
              "DBA Name           0.001432\n",
              "Facility Type      0.021352\n",
              "Risk               0.013094\n",
              "Address            0.001264\n",
              "Zip                0.003172\n",
              "Inspection Date    0.001951\n",
              "Inspection Type    0.148156\n",
              "Violations         0.003156\n",
              "Latitude           0.006148\n",
              "Longitude          0.008198\n",
              "num_violations     0.792076\n",
              "dtype: float64"
            ]
          },
          "metadata": {
            "tags": []
          },
          "execution_count": 21
        }
      ]
    },
    {
      "metadata": {
        "id": "PXV1Fd8EXnH6",
        "colab_type": "code",
        "colab": {
          "base_uri": "https://localhost:8080/",
          "height": 34
        },
        "outputId": "d95f7eaa-119d-4a08-d909-52c7a8fd8aa2"
      },
      "cell_type": "code",
      "source": [
        "gb.fit(X, y)\n",
        "y_pred_proba = gb.predict_proba(X_test)[:,1]\n",
        "print('Validation ROC AUC:', roc_auc_score(y_test, y_pred_proba))"
      ],
      "execution_count": 22,
      "outputs": [
        {
          "output_type": "stream",
          "text": [
            "Validation ROC AUC: 0.8296918198835503\n"
          ],
          "name": "stdout"
        }
      ]
    },
    {
      "metadata": {
        "id": "Adq9lNg6XnH8",
        "colab_type": "code",
        "colab": {
          "base_uri": "https://localhost:8080/",
          "height": 323
        },
        "outputId": "6f685e22-a5b9-44d9-f40a-dd96b52a6ed7"
      },
      "cell_type": "code",
      "source": [
        "from sklearn.ensemble import RandomForestClassifier\n",
        "from sklearn.pipeline import make_pipeline\n",
        "\n",
        "pipe = make_pipeline( \n",
        "    RandomForestClassifier(\n",
        "        n_estimators=100, \n",
        "        class_weight='balanced', \n",
        "        min_samples_leaf=0.002, \n",
        "        oob_score=True, \n",
        "        n_jobs=-1)\n",
        ")\n",
        "\n",
        "cross_val_score(pipe, X, y, cv=5, scoring='roc_auc', verbose=10)"
      ],
      "execution_count": 23,
      "outputs": [
        {
          "output_type": "stream",
          "text": [
            "[Parallel(n_jobs=1)]: Using backend SequentialBackend with 1 concurrent workers.\n"
          ],
          "name": "stderr"
        },
        {
          "output_type": "stream",
          "text": [
            "[CV]  ................................................................\n",
            "[CV] ....................... , score=0.8003087803160457, total=   5.9s\n",
            "[CV]  ................................................................\n"
          ],
          "name": "stdout"
        },
        {
          "output_type": "stream",
          "text": [
            "[Parallel(n_jobs=1)]: Done   1 out of   1 | elapsed:    5.9s remaining:    0.0s\n"
          ],
          "name": "stderr"
        },
        {
          "output_type": "stream",
          "text": [
            "[CV] ....................... , score=0.8369106073745003, total=   6.0s\n",
            "[CV]  ................................................................\n"
          ],
          "name": "stdout"
        },
        {
          "output_type": "stream",
          "text": [
            "[Parallel(n_jobs=1)]: Done   2 out of   2 | elapsed:   12.0s remaining:    0.0s\n"
          ],
          "name": "stderr"
        },
        {
          "output_type": "stream",
          "text": [
            "[CV] ....................... , score=0.8423200596814971, total=   6.1s\n",
            "[CV]  ................................................................\n"
          ],
          "name": "stdout"
        },
        {
          "output_type": "stream",
          "text": [
            "[Parallel(n_jobs=1)]: Done   3 out of   3 | elapsed:   18.0s remaining:    0.0s\n"
          ],
          "name": "stderr"
        },
        {
          "output_type": "stream",
          "text": [
            "[CV] ....................... , score=0.8293723094706827, total=   6.1s\n",
            "[CV]  ................................................................\n"
          ],
          "name": "stdout"
        },
        {
          "output_type": "stream",
          "text": [
            "[Parallel(n_jobs=1)]: Done   4 out of   4 | elapsed:   24.1s remaining:    0.0s\n"
          ],
          "name": "stderr"
        },
        {
          "output_type": "stream",
          "text": [
            "[CV] ....................... , score=0.8379889524079268, total=   5.8s\n"
          ],
          "name": "stdout"
        },
        {
          "output_type": "stream",
          "text": [
            "[Parallel(n_jobs=1)]: Done   5 out of   5 | elapsed:   29.9s remaining:    0.0s\n",
            "[Parallel(n_jobs=1)]: Done   5 out of   5 | elapsed:   29.9s finished\n"
          ],
          "name": "stderr"
        },
        {
          "output_type": "execute_result",
          "data": {
            "text/plain": [
              "array([0.80030878, 0.83691061, 0.84232006, 0.82937231, 0.83798895])"
            ]
          },
          "metadata": {
            "tags": []
          },
          "execution_count": 23
        }
      ]
    },
    {
      "metadata": {
        "id": "tkxzY_DpXnH-",
        "colab_type": "code",
        "colab": {
          "base_uri": "https://localhost:8080/",
          "height": 34
        },
        "outputId": "341254a0-9bd5-478a-86a3-fafe5811239b"
      },
      "cell_type": "code",
      "source": [
        "rf =     RandomForestClassifier(\n",
        "        n_estimators=100, \n",
        "        class_weight='balanced', \n",
        "        min_samples_leaf=0.005, \n",
        "        oob_score=True, \n",
        "        n_jobs=-1)\n",
        "\n",
        "rf.fit(X,y)\n",
        "\n",
        "y_pred_proba = gb.predict_proba(X_test)[:,1]\n",
        "print('Validation ROC AUC:', roc_auc_score(y_test, y_pred_proba))"
      ],
      "execution_count": 24,
      "outputs": [
        {
          "output_type": "stream",
          "text": [
            "Validation ROC AUC: 0.8296918198835503\n"
          ],
          "name": "stdout"
        }
      ]
    },
    {
      "metadata": {
        "id": "bGL-banKXnIA",
        "colab_type": "text"
      },
      "cell_type": "markdown",
      "source": [
        "### Part 3: Visualization\n",
        "\n",
        "Make one visualization for model interpretation. (You may use any libraries.) Choose one of these types:\n",
        "- Feature Importances\n",
        "- Permutation Importances\n",
        "- Partial Dependence Plot\n",
        "\n",
        "_To earn a score of 3 for this part, make at least two of these visualization types._"
      ]
    },
    {
      "metadata": {
        "id": "KqlVFLxsXnIA",
        "colab_type": "code",
        "colab": {
          "base_uri": "https://localhost:8080/",
          "height": 347
        },
        "outputId": "a81ff150-6f32-4e17-aff6-be7db0e23348"
      },
      "cell_type": "code",
      "source": [
        "pd.Series(gb.feature_importances_, X.columns).sort_values().plot.barh(color='grey');"
      ],
      "execution_count": 25,
      "outputs": [
        {
          "output_type": "display_data",
          "data": {
            "image/png": "[encoded data removed]",
            "text/plain": [
              "<Figure size 576x396 with 1 Axes>"
            ]
          },
          "metadata": {
            "tags": []
          }
        }
      ]
    },
    {
      "metadata": {
        "id": "_YK_3WyAXpoh",
        "colab_type": "code",
        "colab": {
          "base_uri": "https://localhost:8080/",
          "height": 292
        },
        "outputId": "0603513c-041a-4adf-e76c-1718e3f3b709"
      },
      "cell_type": "code",
      "source": [
        "!pip install eli5"
      ],
      "execution_count": 2,
      "outputs": [
        {
          "output_type": "stream",
          "text": [
            "Collecting eli5\n",
            "\u001b[?25l  Downloading https://files.pythonhosted.org/packages/8d/c8/04bed18dcce1d927b0dd5fc3425777354b714d2e62d60ae301928b5a5bf8/eli5-0.8.1-py2.py3-none-any.whl (98kB)\n",
            "\u001b[K    100% |████████████████████████████████| 102kB 2.6MB/s \n",
            "\u001b[?25hRequirement already satisfied: six in /usr/local/lib/python3.6/dist-packages (from eli5) (1.11.0)\n",
            "Requirement already satisfied: typing in /usr/local/lib/python3.6/dist-packages (from eli5) (3.6.6)\n",
            "Requirement already satisfied: graphviz in /usr/local/lib/python3.6/dist-packages (from eli5) (0.10.1)\n",
            "Requirement already satisfied: attrs>16.0.0 in /usr/local/lib/python3.6/dist-packages (from eli5) (19.1.0)\n",
            "Requirement already satisfied: jinja2 in /usr/local/lib/python3.6/dist-packages (from eli5) (2.10)\n",
            "Requirement already satisfied: numpy>=1.9.0 in /usr/local/lib/python3.6/dist-packages (from eli5) (1.14.6)\n",
            "Requirement already satisfied: scikit-learn>=0.18 in /usr/local/lib/python3.6/dist-packages (from eli5) (0.20.3)\n",
            "Requirement already satisfied: tabulate>=0.7.7 in /usr/local/lib/python3.6/dist-packages (from eli5) (0.8.3)\n",
            "Requirement already satisfied: scipy in /usr/local/lib/python3.6/dist-packages (from eli5) (1.1.0)\n",
            "Requirement already satisfied: MarkupSafe>=0.23 in /usr/local/lib/python3.6/dist-packages (from jinja2->eli5) (1.1.1)\n",
            "Installing collected packages: eli5\n",
            "Successfully installed eli5-0.8.1\n"
          ],
          "name": "stdout"
        }
      ]
    },
    {
      "metadata": {
        "id": "Ge5BImc9XnIC",
        "colab_type": "code",
        "colab": {
          "base_uri": "https://localhost:8080/",
          "height": 153
        },
        "outputId": "ef14215c-d38b-4556-bc76-66bee6274405"
      },
      "cell_type": "code",
      "source": [
        "import eli5\n",
        "from eli5.sklearn import PermutationImportance\n",
        "\n",
        "gb.fit(X, y)\n",
        "permuter = PermutationImportance(gb, scoring='roc_auc', n_iter=1, cv='prefit')\n",
        "permuter.fit(X, y)"
      ],
      "execution_count": 27,
      "outputs": [
        {
          "output_type": "execute_result",
          "data": {
            "text/plain": [
              "PermutationImportance(cv='prefit',\n",
              "           estimator=GradientBoostingClassifier(criterion='friedman_mse', init=None,\n",
              "              learning_rate=0.1, loss='deviance', max_depth=3,\n",
              "              max_features=None, max_leaf_nodes=None,\n",
              "              min_impurity_decrease=0.0, min_impurity_split=None,\n",
              "              min_samples_leaf=1, min_sampl...      subsample=1.0, tol=0.0001, validation_fraction=0.1,\n",
              "              verbose=0, warm_start=False),\n",
              "           n_iter=1, random_state=None, refit=True, scoring='roc_auc')"
            ]
          },
          "metadata": {
            "tags": []
          },
          "execution_count": 27
        }
      ]
    },
    {
      "metadata": {
        "id": "VeZUO6kzXnIE",
        "colab_type": "code",
        "colab": {
          "base_uri": "https://localhost:8080/",
          "height": 221
        },
        "outputId": "497688d1-c115-444e-fb25-45d6bc9d17f8"
      },
      "cell_type": "code",
      "source": [
        "eli5.show_weights(permuter, top=None, feature_names=X.columns.tolist())"
      ],
      "execution_count": 29,
      "outputs": [
        {
          "output_type": "execute_result",
          "data": {
            "text/html": [
              "\n",
              "    <style>\n",
              "    table.eli5-weights tr:hover {\n",
              "        filter: brightness(85%);\n",
              "    }\n",
              "</style>\n",
              "\n",
              "\n",
              "\n",
              "    \n",
              "\n",
              "    \n",
              "\n",
              "    \n",
              "\n",
              "    \n",
              "\n",
              "    \n",
              "\n",
              "    \n",
              "\n",
              "\n",
              "    \n",
              "\n",
              "    \n",
              "\n",
              "    \n",
              "\n",
              "    \n",
              "\n",
              "    \n",
              "\n",
              "    \n",
              "\n",
              "\n",
              "    \n",
              "\n",
              "    \n",
              "\n",
              "    \n",
              "\n",
              "    \n",
              "\n",
              "    \n",
              "        <table class=\"eli5-weights eli5-feature-importances\" style=\"border-collapse: collapse; border: none; margin-top: 0em; table-layout: auto;\">\n",
              "    <thead>\n",
              "    <tr style=\"border: none;\">\n",
              "        <th style=\"padding: 0 1em 0 0.5em; text-align: right; border: none;\">Weight</th>\n",
              "        <th style=\"padding: 0 0.5em 0 0.5em; text-align: left; border: none;\">Feature</th>\n",
              "    </tr>\n",
              "    </thead>\n",
              "    <tbody>\n",
              "    \n",
              "        <tr style=\"background-color: hsl(120, 100.00%, 80.00%); border: none;\">\n",
              "            <td style=\"padding: 0 1em 0 0.5em; text-align: right; border: none;\">\n",
              "                0.2506\n",
              "                \n",
              "                    &plusmn; 0.0000\n",
              "                \n",
              "            </td>\n",
              "            <td style=\"padding: 0 0.5em 0 0.5em; text-align: left; border: none;\">\n",
              "                num_violations\n",
              "            </td>\n",
              "        </tr>\n",
              "    \n",
              "        <tr style=\"background-color: hsl(120, 100.00%, 91.77%); border: none;\">\n",
              "            <td style=\"padding: 0 1em 0 0.5em; text-align: right; border: none;\">\n",
              "                0.0705\n",
              "                \n",
              "                    &plusmn; 0.0000\n",
              "                \n",
              "            </td>\n",
              "            <td style=\"padding: 0 0.5em 0 0.5em; text-align: left; border: none;\">\n",
              "                Inspection Type\n",
              "            </td>\n",
              "        </tr>\n",
              "    \n",
              "        <tr style=\"background-color: hsl(120, 100.00%, 98.48%); border: none;\">\n",
              "            <td style=\"padding: 0 1em 0 0.5em; text-align: right; border: none;\">\n",
              "                0.0063\n",
              "                \n",
              "                    &plusmn; 0.0000\n",
              "                \n",
              "            </td>\n",
              "            <td style=\"padding: 0 0.5em 0 0.5em; text-align: left; border: none;\">\n",
              "                Facility Type\n",
              "            </td>\n",
              "        </tr>\n",
              "    \n",
              "        <tr style=\"background-color: hsl(120, 100.00%, 99.06%); border: none;\">\n",
              "            <td style=\"padding: 0 1em 0 0.5em; text-align: right; border: none;\">\n",
              "                0.0032\n",
              "                \n",
              "                    &plusmn; 0.0000\n",
              "                \n",
              "            </td>\n",
              "            <td style=\"padding: 0 0.5em 0 0.5em; text-align: left; border: none;\">\n",
              "                Risk\n",
              "            </td>\n",
              "        </tr>\n",
              "    \n",
              "        <tr style=\"background-color: hsl(120, 100.00%, 99.14%); border: none;\">\n",
              "            <td style=\"padding: 0 1em 0 0.5em; text-align: right; border: none;\">\n",
              "                0.0028\n",
              "                \n",
              "                    &plusmn; 0.0000\n",
              "                \n",
              "            </td>\n",
              "            <td style=\"padding: 0 0.5em 0 0.5em; text-align: left; border: none;\">\n",
              "                Longitude\n",
              "            </td>\n",
              "        </tr>\n",
              "    \n",
              "        <tr style=\"background-color: hsl(120, 100.00%, 99.45%); border: none;\">\n",
              "            <td style=\"padding: 0 1em 0 0.5em; text-align: right; border: none;\">\n",
              "                0.0015\n",
              "                \n",
              "                    &plusmn; 0.0000\n",
              "                \n",
              "            </td>\n",
              "            <td style=\"padding: 0 0.5em 0 0.5em; text-align: left; border: none;\">\n",
              "                Violations\n",
              "            </td>\n",
              "        </tr>\n",
              "    \n",
              "        <tr style=\"background-color: hsl(120, 100.00%, 99.50%); border: none;\">\n",
              "            <td style=\"padding: 0 1em 0 0.5em; text-align: right; border: none;\">\n",
              "                0.0013\n",
              "                \n",
              "                    &plusmn; 0.0000\n",
              "                \n",
              "            </td>\n",
              "            <td style=\"padding: 0 0.5em 0 0.5em; text-align: left; border: none;\">\n",
              "                Latitude\n",
              "            </td>\n",
              "        </tr>\n",
              "    \n",
              "        <tr style=\"background-color: hsl(120, 100.00%, 99.53%); border: none;\">\n",
              "            <td style=\"padding: 0 1em 0 0.5em; text-align: right; border: none;\">\n",
              "                0.0012\n",
              "                \n",
              "                    &plusmn; 0.0000\n",
              "                \n",
              "            </td>\n",
              "            <td style=\"padding: 0 0.5em 0 0.5em; text-align: left; border: none;\">\n",
              "                Zip\n",
              "            </td>\n",
              "        </tr>\n",
              "    \n",
              "        <tr style=\"background-color: hsl(120, 100.00%, 99.65%); border: none;\">\n",
              "            <td style=\"padding: 0 1em 0 0.5em; text-align: right; border: none;\">\n",
              "                0.0008\n",
              "                \n",
              "                    &plusmn; 0.0000\n",
              "                \n",
              "            </td>\n",
              "            <td style=\"padding: 0 0.5em 0 0.5em; text-align: left; border: none;\">\n",
              "                DBA Name\n",
              "            </td>\n",
              "        </tr>\n",
              "    \n",
              "        <tr style=\"background-color: hsl(120, 100.00%, 99.70%); border: none;\">\n",
              "            <td style=\"padding: 0 1em 0 0.5em; text-align: right; border: none;\">\n",
              "                0.0006\n",
              "                \n",
              "                    &plusmn; 0.0000\n",
              "                \n",
              "            </td>\n",
              "            <td style=\"padding: 0 0.5em 0 0.5em; text-align: left; border: none;\">\n",
              "                Inspection Date\n",
              "            </td>\n",
              "        </tr>\n",
              "    \n",
              "        <tr style=\"background-color: hsl(120, 100.00%, 99.87%); border: none;\">\n",
              "            <td style=\"padding: 0 1em 0 0.5em; text-align: right; border: none;\">\n",
              "                0.0002\n",
              "                \n",
              "                    &plusmn; 0.0000\n",
              "                \n",
              "            </td>\n",
              "            <td style=\"padding: 0 0.5em 0 0.5em; text-align: left; border: none;\">\n",
              "                Address\n",
              "            </td>\n",
              "        </tr>\n",
              "    \n",
              "    \n",
              "    </tbody>\n",
              "</table>\n",
              "    \n",
              "\n",
              "    \n",
              "\n",
              "\n",
              "    \n",
              "\n",
              "    \n",
              "\n",
              "    \n",
              "\n",
              "    \n",
              "\n",
              "    \n",
              "\n",
              "    \n",
              "\n",
              "\n",
              "\n"
            ],
            "text/plain": [
              "<IPython.core.display.HTML object>"
            ]
          },
          "metadata": {
            "tags": []
          },
          "execution_count": 29
        }
      ]
    },
    {
      "metadata": {
        "id": "I8RoBCcgYvZY",
        "colab_type": "code",
        "colab": {
          "base_uri": "https://localhost:8080/",
          "height": 408
        },
        "outputId": "b162ec43-0220-4a39-de4c-d09b37d949de"
      },
      "cell_type": "code",
      "source": [
        "!pip install pdpbox"
      ],
      "execution_count": 30,
      "outputs": [
        {
          "output_type": "stream",
          "text": [
            "Collecting pdpbox\n",
            "\u001b[?25l  Downloading https://files.pythonhosted.org/packages/87/23/ac7da5ba1c6c03a87c412e7e7b6e91a10d6ecf4474906c3e736f93940d49/PDPbox-0.2.0.tar.gz (57.7MB)\n",
            "\u001b[K    100% |████████████████████████████████| 57.7MB 478kB/s \n",
            "\u001b[?25hRequirement already satisfied: pandas in /usr/local/lib/python3.6/dist-packages (from pdpbox) (0.22.0)\n",
            "Requirement already satisfied: numpy in /usr/local/lib/python3.6/dist-packages (from pdpbox) (1.14.6)\n",
            "Requirement already satisfied: scipy in /usr/local/lib/python3.6/dist-packages (from pdpbox) (1.1.0)\n",
            "Requirement already satisfied: matplotlib>=2.1.2 in /usr/local/lib/python3.6/dist-packages (from pdpbox) (3.0.3)\n",
            "Requirement already satisfied: joblib in /usr/local/lib/python3.6/dist-packages (from pdpbox) (0.12.5)\n",
            "Requirement already satisfied: psutil in /usr/local/lib/python3.6/dist-packages (from pdpbox) (5.4.8)\n",
            "Requirement already satisfied: scikit-learn in /usr/local/lib/python3.6/dist-packages (from pdpbox) (0.20.3)\n",
            "Requirement already satisfied: python-dateutil>=2 in /usr/local/lib/python3.6/dist-packages (from pandas->pdpbox) (2.5.3)\n",
            "Requirement already satisfied: pytz>=2011k in /usr/local/lib/python3.6/dist-packages (from pandas->pdpbox) (2018.9)\n",
            "Requirement already satisfied: pyparsing!=2.0.4,!=2.1.2,!=2.1.6,>=2.0.1 in /usr/local/lib/python3.6/dist-packages (from matplotlib>=2.1.2->pdpbox) (2.3.1)\n",
            "Requirement already satisfied: kiwisolver>=1.0.1 in /usr/local/lib/python3.6/dist-packages (from matplotlib>=2.1.2->pdpbox) (1.0.1)\n",
            "Requirement already satisfied: cycler>=0.10 in /usr/local/lib/python3.6/dist-packages (from matplotlib>=2.1.2->pdpbox) (0.10.0)\n",
            "Requirement already satisfied: six>=1.5 in /usr/local/lib/python3.6/dist-packages (from python-dateutil>=2->pandas->pdpbox) (1.11.0)\n",
            "Requirement already satisfied: setuptools in /usr/local/lib/python3.6/dist-packages (from kiwisolver>=1.0.1->matplotlib>=2.1.2->pdpbox) (40.8.0)\n",
            "Building wheels for collected packages: pdpbox\n",
            "  Building wheel for pdpbox (setup.py) ... \u001b[?25ldone\n",
            "\u001b[?25h  Stored in directory: /root/.cache/pip/wheels/7d/08/51/63fd122b04a2c87d780464eeffb94867c75bd96a64d500a3fe\n",
            "Successfully built pdpbox\n",
            "Installing collected packages: pdpbox\n",
            "Successfully installed pdpbox-0.2.0\n"
          ],
          "name": "stdout"
        }
      ]
    },
    {
      "metadata": {
        "id": "8UBRWdgVY1Kh",
        "colab_type": "code",
        "colab": {
          "base_uri": "https://localhost:8080/",
          "height": 583
        },
        "outputId": "9052e352-407d-4e4c-b399-2ed96daac22f"
      },
      "cell_type": "code",
      "source": [
        "from pdpbox.pdp import pdp_isolate, pdp_plot\n",
        "\n",
        "feature='num_violations'\n",
        "pdp_isolated = pdp_isolate(model=gb, dataset=X, model_features=X.columns, \n",
        "                           feature=feature)\n",
        "\n",
        "pdp_plot(pdp_isolated, feature);"
      ],
      "execution_count": 31,
      "outputs": [
        {
          "output_type": "display_data",
          "data": {
            "image/png": "[encoded data removed]",
            "text/plain": [
              "<Figure size 1080x684 with 2 Axes>"
            ]
          },
          "metadata": {
            "tags": []
          }
        }
      ]
    },
    {
      "metadata": {
        "id": "ya1eTLLEZErt",
        "colab_type": "code",
        "colab": {}
      },
      "cell_type": "code",
      "source": [
        ""
      ],
      "execution_count": 0,
      "outputs": []
    }
  ]
}
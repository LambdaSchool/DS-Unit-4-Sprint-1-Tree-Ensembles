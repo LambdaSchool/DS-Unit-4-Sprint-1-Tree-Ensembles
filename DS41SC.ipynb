{
 "cells": [
  {
   "cell_type": "markdown",
   "metadata": {},
   "source": [
    "# Data Science Unit 4 Sprint Challenge 1 — Tree Ensembles"
   ]
  },
  {
   "cell_type": "markdown",
   "metadata": {},
   "source": [
    "### Chicago Food Inspections\n",
    "\n",
    "For this Sprint Challenge, you'll use a dataset with information from inspections of restaurants and other food establishments in Chicago from January 1, 2010 to the present. \n",
    "\n",
    "[See this PDF](https://data.cityofchicago.org/api/assets/BAD5301B-681A-4202-9D25-51B2CAE672FF) for descriptions of the data elements included in this dataset.\n",
    "\n",
    "According to [Chicago Department of Public Health — Food Protection Services](https://www.chicago.gov/city/en/depts/cdph/provdrs/healthy_restaurants/svcs/food-protection-services.html), \"Chicago is home to 16,000 food establishments like restaurants, grocery stores, bakeries, wholesalers, lunchrooms, mobile food vendors and more. Our business is food safety and sanitation with one goal, to prevent the spread of food-borne disease. We do this by inspecting food businesses, responding to complaints and food recalls.\" "
   ]
  },
  {
   "cell_type": "markdown",
   "metadata": {},
   "source": [
    "#### Your challenge: Predict whether inspections failed\n",
    "\n",
    "The target is the `Fail` column.\n",
    "\n",
    "- When the food establishment failed the inspection, the target is `1`.\n",
    "- When the establishment passed, the target is `0`."
   ]
  },
  {
   "cell_type": "markdown",
   "metadata": {},
   "source": [
    "#### Run this cell to load the data:"
   ]
  },
  {
   "cell_type": "code",
   "execution_count": 1,
   "metadata": {},
   "outputs": [],
   "source": [
    "import pandas as pd\n",
    "\n",
    "train_url = 'https://drive.google.com/uc?export=download&id=13_tP9JpLcZHSPVpWcua4t2rY44K_s4H5'\n",
    "test_url  = 'https://drive.google.com/uc?export=download&id=1GkDHjsiGrzOXoF_xcYjdzBTSjOIi3g5a'\n",
    "\n",
    "train = pd.read_csv(train_url)\n",
    "test  = pd.read_csv(test_url)\n",
    "\n",
    "assert train.shape == (51916, 17)\n",
    "assert test.shape  == (17306, 17)"
   ]
  },
  {
   "cell_type": "code",
   "execution_count": 2,
   "metadata": {},
   "outputs": [
    {
     "data": {
      "text/html": [
       "<div>\n",
       "<style scoped>\n",
       "    .dataframe tbody tr th:only-of-type {\n",
       "        vertical-align: middle;\n",
       "    }\n",
       "\n",
       "    .dataframe tbody tr th {\n",
       "        vertical-align: top;\n",
       "    }\n",
       "\n",
       "    .dataframe thead th {\n",
       "        text-align: right;\n",
       "    }\n",
       "</style>\n",
       "<table border=\"1\" class=\"dataframe\">\n",
       "  <thead>\n",
       "    <tr style=\"text-align: right;\">\n",
       "      <th></th>\n",
       "      <th>Inspection ID</th>\n",
       "      <th>DBA Name</th>\n",
       "      <th>AKA Name</th>\n",
       "      <th>License #</th>\n",
       "      <th>Facility Type</th>\n",
       "      <th>Risk</th>\n",
       "      <th>Address</th>\n",
       "      <th>City</th>\n",
       "      <th>State</th>\n",
       "      <th>Zip</th>\n",
       "      <th>Inspection Date</th>\n",
       "      <th>Inspection Type</th>\n",
       "      <th>Violations</th>\n",
       "      <th>Latitude</th>\n",
       "      <th>Longitude</th>\n",
       "      <th>Location</th>\n",
       "      <th>Fail</th>\n",
       "    </tr>\n",
       "  </thead>\n",
       "  <tbody>\n",
       "    <tr>\n",
       "      <th>0</th>\n",
       "      <td>2088270</td>\n",
       "      <td>TOM YUM RICE &amp; NOODLE, INC.</td>\n",
       "      <td>TOM YUM CAFE</td>\n",
       "      <td>2354911.0</td>\n",
       "      <td>Restaurant</td>\n",
       "      <td>Risk 1 (High)</td>\n",
       "      <td>608 W BARRY</td>\n",
       "      <td>CHICAGO</td>\n",
       "      <td>IL</td>\n",
       "      <td>60657.0</td>\n",
       "      <td>2017-09-15T00:00:00</td>\n",
       "      <td>Canvass</td>\n",
       "      <td>3. POTENTIALLY HAZARDOUS FOOD MEETS TEMPERATUR...</td>\n",
       "      <td>41.938007</td>\n",
       "      <td>-87.644755</td>\n",
       "      <td>{'longitude': '-87.6447545707008', 'latitude':...</td>\n",
       "      <td>1</td>\n",
       "    </tr>\n",
       "    <tr>\n",
       "      <th>1</th>\n",
       "      <td>555268</td>\n",
       "      <td>FILLING STATION  &amp; CONVENIENCE  STORE</td>\n",
       "      <td>FILLING STATION  &amp; CONVENIENCE  STORE</td>\n",
       "      <td>1044901.0</td>\n",
       "      <td>Grocery Store</td>\n",
       "      <td>Risk 3 (Low)</td>\n",
       "      <td>6646-6658 S WESTERN AVE</td>\n",
       "      <td>CHICAGO</td>\n",
       "      <td>IL</td>\n",
       "      <td>60636.0</td>\n",
       "      <td>2011-10-20T00:00:00</td>\n",
       "      <td>Complaint Re-Inspection</td>\n",
       "      <td>32. FOOD AND NON-FOOD CONTACT SURFACES PROPERL...</td>\n",
       "      <td>41.772402</td>\n",
       "      <td>-87.683603</td>\n",
       "      <td>{'longitude': '-87.68360273081268', 'latitude'...</td>\n",
       "      <td>0</td>\n",
       "    </tr>\n",
       "    <tr>\n",
       "      <th>2</th>\n",
       "      <td>1751394</td>\n",
       "      <td>A P DELI</td>\n",
       "      <td>A P DELI</td>\n",
       "      <td>47405.0</td>\n",
       "      <td>Restaurant</td>\n",
       "      <td>Risk 1 (High)</td>\n",
       "      <td>2025 E 75TH ST</td>\n",
       "      <td>CHICAGO</td>\n",
       "      <td>IL</td>\n",
       "      <td>60649.0</td>\n",
       "      <td>2016-04-05T00:00:00</td>\n",
       "      <td>Canvass Re-Inspection</td>\n",
       "      <td>35. WALLS, CEILINGS, ATTACHED EQUIPMENT CONSTR...</td>\n",
       "      <td>41.758779</td>\n",
       "      <td>-87.575054</td>\n",
       "      <td>{'longitude': '-87.57505446746121', 'latitude'...</td>\n",
       "      <td>0</td>\n",
       "    </tr>\n",
       "    <tr>\n",
       "      <th>3</th>\n",
       "      <td>1763905</td>\n",
       "      <td>FRANK'S CHICAGO SHRIMP HOUSE</td>\n",
       "      <td>FRANK'S CHICAGO SHRIMP HOUSE</td>\n",
       "      <td>6414.0</td>\n",
       "      <td>Restaurant</td>\n",
       "      <td>Risk 2 (Medium)</td>\n",
       "      <td>4459 S ARCHER AVE</td>\n",
       "      <td>CHICAGO</td>\n",
       "      <td>IL</td>\n",
       "      <td>60632.0</td>\n",
       "      <td>2016-04-29T00:00:00</td>\n",
       "      <td>Canvass</td>\n",
       "      <td>38. VENTILATION: ROOMS AND EQUIPMENT VENTED AS...</td>\n",
       "      <td>41.812181</td>\n",
       "      <td>-87.707125</td>\n",
       "      <td>{'longitude': '-87.70712481334274', 'latitude'...</td>\n",
       "      <td>0</td>\n",
       "    </tr>\n",
       "    <tr>\n",
       "      <th>4</th>\n",
       "      <td>453326</td>\n",
       "      <td>MORRILL</td>\n",
       "      <td>MORRILL</td>\n",
       "      <td>24571.0</td>\n",
       "      <td>School</td>\n",
       "      <td>Risk 1 (High)</td>\n",
       "      <td>6011 S Rockwell (2600W) AVE</td>\n",
       "      <td>CHICAGO</td>\n",
       "      <td>IL</td>\n",
       "      <td>60629.0</td>\n",
       "      <td>2011-01-10T00:00:00</td>\n",
       "      <td>Canvass</td>\n",
       "      <td>34. FLOORS: CONSTRUCTED PER CODE, CLEANED, GOO...</td>\n",
       "      <td>NaN</td>\n",
       "      <td>NaN</td>\n",
       "      <td>NaN</td>\n",
       "      <td>0</td>\n",
       "    </tr>\n",
       "  </tbody>\n",
       "</table>\n",
       "</div>"
      ],
      "text/plain": [
       "   Inspection ID                               DBA Name  \\\n",
       "0        2088270            TOM YUM RICE & NOODLE, INC.   \n",
       "1         555268  FILLING STATION  & CONVENIENCE  STORE   \n",
       "2        1751394                               A P DELI   \n",
       "3        1763905           FRANK'S CHICAGO SHRIMP HOUSE   \n",
       "4         453326                                MORRILL   \n",
       "\n",
       "                                AKA Name  License #  Facility Type  \\\n",
       "0                           TOM YUM CAFE  2354911.0     Restaurant   \n",
       "1  FILLING STATION  & CONVENIENCE  STORE  1044901.0  Grocery Store   \n",
       "2                               A P DELI    47405.0     Restaurant   \n",
       "3           FRANK'S CHICAGO SHRIMP HOUSE     6414.0     Restaurant   \n",
       "4                                MORRILL    24571.0         School   \n",
       "\n",
       "              Risk                       Address     City State      Zip  \\\n",
       "0    Risk 1 (High)                  608 W BARRY   CHICAGO    IL  60657.0   \n",
       "1     Risk 3 (Low)      6646-6658 S WESTERN AVE   CHICAGO    IL  60636.0   \n",
       "2    Risk 1 (High)               2025 E 75TH ST   CHICAGO    IL  60649.0   \n",
       "3  Risk 2 (Medium)            4459 S ARCHER AVE   CHICAGO    IL  60632.0   \n",
       "4    Risk 1 (High)  6011 S Rockwell (2600W) AVE   CHICAGO    IL  60629.0   \n",
       "\n",
       "       Inspection Date          Inspection Type  \\\n",
       "0  2017-09-15T00:00:00                  Canvass   \n",
       "1  2011-10-20T00:00:00  Complaint Re-Inspection   \n",
       "2  2016-04-05T00:00:00    Canvass Re-Inspection   \n",
       "3  2016-04-29T00:00:00                  Canvass   \n",
       "4  2011-01-10T00:00:00                  Canvass   \n",
       "\n",
       "                                          Violations   Latitude  Longitude  \\\n",
       "0  3. POTENTIALLY HAZARDOUS FOOD MEETS TEMPERATUR...  41.938007 -87.644755   \n",
       "1  32. FOOD AND NON-FOOD CONTACT SURFACES PROPERL...  41.772402 -87.683603   \n",
       "2  35. WALLS, CEILINGS, ATTACHED EQUIPMENT CONSTR...  41.758779 -87.575054   \n",
       "3  38. VENTILATION: ROOMS AND EQUIPMENT VENTED AS...  41.812181 -87.707125   \n",
       "4  34. FLOORS: CONSTRUCTED PER CODE, CLEANED, GOO...        NaN        NaN   \n",
       "\n",
       "                                            Location  Fail  \n",
       "0  {'longitude': '-87.6447545707008', 'latitude':...     1  \n",
       "1  {'longitude': '-87.68360273081268', 'latitude'...     0  \n",
       "2  {'longitude': '-87.57505446746121', 'latitude'...     0  \n",
       "3  {'longitude': '-87.70712481334274', 'latitude'...     0  \n",
       "4                                                NaN     0  "
      ]
     },
     "execution_count": 2,
     "metadata": {},
     "output_type": "execute_result"
    }
   ],
   "source": [
    "train.head()"
   ]
  },
  {
   "cell_type": "markdown",
   "metadata": {},
   "source": [
    "### Preprocessing"
   ]
  },
  {
   "cell_type": "code",
   "execution_count": 3,
   "metadata": {},
   "outputs": [
    {
     "data": {
      "text/plain": [
       "Inspection ID         0\n",
       "DBA Name              0\n",
       "AKA Name            623\n",
       "License #             5\n",
       "Facility Type       224\n",
       "Risk                 12\n",
       "Address               0\n",
       "City                 53\n",
       "State                10\n",
       "Zip                  26\n",
       "Inspection Date       0\n",
       "Inspection Type       1\n",
       "Violations         9655\n",
       "Latitude            198\n",
       "Longitude           198\n",
       "Location            198\n",
       "Fail                  0\n",
       "dtype: int64"
      ]
     },
     "execution_count": 3,
     "metadata": {},
     "output_type": "execute_result"
    }
   ],
   "source": [
    "train.isna().sum()"
   ]
  },
  {
   "cell_type": "code",
   "execution_count": 4,
   "metadata": {},
   "outputs": [
    {
     "data": {
      "text/plain": [
       "count                                                 42261\n",
       "unique                                                42164\n",
       "top       45. FOOD HANDLER REQUIREMENTS MET - Comments: ...\n",
       "freq                                                      3\n",
       "Name: Violations, dtype: object"
      ]
     },
     "execution_count": 4,
     "metadata": {},
     "output_type": "execute_result"
    }
   ],
   "source": [
    "train['Violations'].describe()"
   ]
  },
  {
   "cell_type": "code",
   "execution_count": 5,
   "metadata": {},
   "outputs": [
    {
     "data": {
      "text/plain": [
       "Inspection ID        int64\n",
       "DBA Name            object\n",
       "AKA Name            object\n",
       "License #          float64\n",
       "Facility Type       object\n",
       "Risk                object\n",
       "Address             object\n",
       "City                object\n",
       "State               object\n",
       "Zip                float64\n",
       "Inspection Date     object\n",
       "Inspection Type     object\n",
       "Violations          object\n",
       "Latitude           float64\n",
       "Longitude          float64\n",
       "Location            object\n",
       "Fail                 int64\n",
       "dtype: object"
      ]
     },
     "execution_count": 5,
     "metadata": {},
     "output_type": "execute_result"
    }
   ],
   "source": [
    "train.dtypes"
   ]
  },
  {
   "cell_type": "code",
   "execution_count": 6,
   "metadata": {},
   "outputs": [
    {
     "data": {
      "text/plain": [
       "0    0.74139\n",
       "1    0.25861\n",
       "Name: Fail, dtype: float64"
      ]
     },
     "execution_count": 6,
     "metadata": {},
     "output_type": "execute_result"
    }
   ],
   "source": [
    "train['Fail'].value_counts(normalize=True)"
   ]
  },
  {
   "cell_type": "code",
   "execution_count": 7,
   "metadata": {},
   "outputs": [
    {
     "data": {
      "text/plain": [
       "0    0.885655\n",
       "1    0.114345\n",
       "Name: Fail, dtype: float64"
      ]
     },
     "execution_count": 7,
     "metadata": {},
     "output_type": "execute_result"
    }
   ],
   "source": [
    "train_violations_missing = train[train['Violations'].isnull()]\n",
    "train_violations_missing['Fail'].value_counts(normalize=True)"
   ]
  },
  {
   "cell_type": "code",
   "execution_count": 8,
   "metadata": {},
   "outputs": [
    {
     "data": {
      "text/html": [
       "<div>\n",
       "<style scoped>\n",
       "    .dataframe tbody tr th:only-of-type {\n",
       "        vertical-align: middle;\n",
       "    }\n",
       "\n",
       "    .dataframe tbody tr th {\n",
       "        vertical-align: top;\n",
       "    }\n",
       "\n",
       "    .dataframe thead th {\n",
       "        text-align: right;\n",
       "    }\n",
       "</style>\n",
       "<table border=\"1\" class=\"dataframe\">\n",
       "  <thead>\n",
       "    <tr style=\"text-align: right;\">\n",
       "      <th></th>\n",
       "      <th>Inspection ID</th>\n",
       "      <th>DBA Name</th>\n",
       "      <th>AKA Name</th>\n",
       "      <th>License #</th>\n",
       "      <th>Facility Type</th>\n",
       "      <th>Risk</th>\n",
       "      <th>Address</th>\n",
       "      <th>City</th>\n",
       "      <th>State</th>\n",
       "      <th>Zip</th>\n",
       "      <th>Inspection Date</th>\n",
       "      <th>Inspection Type</th>\n",
       "      <th>Violations</th>\n",
       "      <th>Latitude</th>\n",
       "      <th>Longitude</th>\n",
       "      <th>Location</th>\n",
       "      <th>Fail</th>\n",
       "    </tr>\n",
       "  </thead>\n",
       "  <tbody>\n",
       "    <tr>\n",
       "      <th>11</th>\n",
       "      <td>166332</td>\n",
       "      <td>GRAND TRIPLE CROWN</td>\n",
       "      <td>GRAND TRIPLE CROWN</td>\n",
       "      <td>1878843.0</td>\n",
       "      <td>Restaurant</td>\n",
       "      <td>Risk 1 (High)</td>\n",
       "      <td>3034 S HALSTED ST</td>\n",
       "      <td>CHICAGO</td>\n",
       "      <td>IL</td>\n",
       "      <td>60608.0</td>\n",
       "      <td>2011-04-04T00:00:00</td>\n",
       "      <td>Short Form Complaint</td>\n",
       "      <td>NaN</td>\n",
       "      <td>41.838812</td>\n",
       "      <td>-87.646443</td>\n",
       "      <td>{'longitude': '-87.64644307835215', 'latitude'...</td>\n",
       "      <td>0</td>\n",
       "    </tr>\n",
       "    <tr>\n",
       "      <th>12</th>\n",
       "      <td>1982990</td>\n",
       "      <td>MARK TWAIN ELEMENTARY</td>\n",
       "      <td>MARK TWAIN ELEMENTARY</td>\n",
       "      <td>25661.0</td>\n",
       "      <td>School</td>\n",
       "      <td>Risk 1 (High)</td>\n",
       "      <td>5134 S LOTUS</td>\n",
       "      <td>CHICAGO</td>\n",
       "      <td>IL</td>\n",
       "      <td>60638.0</td>\n",
       "      <td>2017-02-10T00:00:00</td>\n",
       "      <td>Canvass Re-Inspection</td>\n",
       "      <td>NaN</td>\n",
       "      <td>41.799052</td>\n",
       "      <td>-87.758965</td>\n",
       "      <td>{'longitude': '-87.75896524463428', 'latitude'...</td>\n",
       "      <td>0</td>\n",
       "    </tr>\n",
       "    <tr>\n",
       "      <th>15</th>\n",
       "      <td>2071751</td>\n",
       "      <td>VICEROY HOTEL</td>\n",
       "      <td>VICEROY HOTEL</td>\n",
       "      <td>2535449.0</td>\n",
       "      <td>Liquor</td>\n",
       "      <td>Risk 3 (Low)</td>\n",
       "      <td>1118 N STATE ST</td>\n",
       "      <td>CHICAGO</td>\n",
       "      <td>IL</td>\n",
       "      <td>60610.0</td>\n",
       "      <td>2017-08-01T00:00:00</td>\n",
       "      <td>License</td>\n",
       "      <td>NaN</td>\n",
       "      <td>41.902312</td>\n",
       "      <td>-87.628497</td>\n",
       "      <td>{'longitude': '-87.62849738136275', 'latitude'...</td>\n",
       "      <td>0</td>\n",
       "    </tr>\n",
       "    <tr>\n",
       "      <th>24</th>\n",
       "      <td>1631721</td>\n",
       "      <td>VEGAN NOW INC</td>\n",
       "      <td>VEGAN NOW</td>\n",
       "      <td>2447002.0</td>\n",
       "      <td>Restaurant</td>\n",
       "      <td>Risk 2 (Medium)</td>\n",
       "      <td>131 N CLINTON ST</td>\n",
       "      <td>CHICAGO</td>\n",
       "      <td>IL</td>\n",
       "      <td>60661.0</td>\n",
       "      <td>2016-02-16T00:00:00</td>\n",
       "      <td>License</td>\n",
       "      <td>NaN</td>\n",
       "      <td>41.884188</td>\n",
       "      <td>-87.641120</td>\n",
       "      <td>{'longitude': '-87.64111966683218', 'latitude'...</td>\n",
       "      <td>0</td>\n",
       "    </tr>\n",
       "    <tr>\n",
       "      <th>28</th>\n",
       "      <td>2166234</td>\n",
       "      <td>BARWAQO KABOB ONE</td>\n",
       "      <td>BARWAQO KABOB ONE</td>\n",
       "      <td>2589600.0</td>\n",
       "      <td>Restaurant</td>\n",
       "      <td>Risk 1 (High)</td>\n",
       "      <td>939 N ORLEANS ST</td>\n",
       "      <td>CHICAGO</td>\n",
       "      <td>IL</td>\n",
       "      <td>60610.0</td>\n",
       "      <td>2018-04-17T00:00:00</td>\n",
       "      <td>License Re-Inspection</td>\n",
       "      <td>NaN</td>\n",
       "      <td>41.900150</td>\n",
       "      <td>-87.637161</td>\n",
       "      <td>{'longitude': '-87.63716134942399', 'latitude'...</td>\n",
       "      <td>0</td>\n",
       "    </tr>\n",
       "    <tr>\n",
       "      <th>29</th>\n",
       "      <td>519292</td>\n",
       "      <td>CITGO GAS</td>\n",
       "      <td>CITGO GAS</td>\n",
       "      <td>2093475.0</td>\n",
       "      <td>Grocery Store</td>\n",
       "      <td>Risk 2 (Medium)</td>\n",
       "      <td>4064-4070 N CLARK ST</td>\n",
       "      <td>CHICAGO</td>\n",
       "      <td>IL</td>\n",
       "      <td>60613.0</td>\n",
       "      <td>2011-11-01T00:00:00</td>\n",
       "      <td>Complaint</td>\n",
       "      <td>NaN</td>\n",
       "      <td>41.956094</td>\n",
       "      <td>-87.663477</td>\n",
       "      <td>{'longitude': '-87.66347696035288', 'latitude'...</td>\n",
       "      <td>0</td>\n",
       "    </tr>\n",
       "    <tr>\n",
       "      <th>40</th>\n",
       "      <td>1198883</td>\n",
       "      <td>RANGE</td>\n",
       "      <td>RANGE</td>\n",
       "      <td>2261809.0</td>\n",
       "      <td>Restaurant</td>\n",
       "      <td>Risk 1 (High)</td>\n",
       "      <td>1119-1121 W WEBSTER AVE</td>\n",
       "      <td>CHICAGO</td>\n",
       "      <td>IL</td>\n",
       "      <td>60614.0</td>\n",
       "      <td>2013-05-24T00:00:00</td>\n",
       "      <td>License</td>\n",
       "      <td>NaN</td>\n",
       "      <td>41.921577</td>\n",
       "      <td>-87.656727</td>\n",
       "      <td>{'longitude': '-87.65672651542604', 'latitude'...</td>\n",
       "      <td>1</td>\n",
       "    </tr>\n",
       "    <tr>\n",
       "      <th>41</th>\n",
       "      <td>598469</td>\n",
       "      <td>DUNKIN DONUTS</td>\n",
       "      <td>DUNKIN DONUTS</td>\n",
       "      <td>66356.0</td>\n",
       "      <td>Restaurant</td>\n",
       "      <td>Risk 2 (Medium)</td>\n",
       "      <td>2356 W CERMAK RD</td>\n",
       "      <td>CHICAGO</td>\n",
       "      <td>IL</td>\n",
       "      <td>60608.0</td>\n",
       "      <td>2011-11-17T00:00:00</td>\n",
       "      <td>Canvass Re-Inspection</td>\n",
       "      <td>NaN</td>\n",
       "      <td>41.852142</td>\n",
       "      <td>-87.685518</td>\n",
       "      <td>{'longitude': '-87.6855182624321', 'latitude':...</td>\n",
       "      <td>0</td>\n",
       "    </tr>\n",
       "    <tr>\n",
       "      <th>50</th>\n",
       "      <td>521901</td>\n",
       "      <td>COQUITO COCINA PUERTORRIQUENA</td>\n",
       "      <td>COQUITO COCINA  PUERTORRIQUENA</td>\n",
       "      <td>2093842.0</td>\n",
       "      <td>Restaurant</td>\n",
       "      <td>Risk 1 (High)</td>\n",
       "      <td>3824 N KEDZIE AVE</td>\n",
       "      <td>CHICAGO</td>\n",
       "      <td>IL</td>\n",
       "      <td>60618.0</td>\n",
       "      <td>2011-11-29T00:00:00</td>\n",
       "      <td>License</td>\n",
       "      <td>NaN</td>\n",
       "      <td>41.951051</td>\n",
       "      <td>-87.708085</td>\n",
       "      <td>{'longitude': '-87.70808483065089', 'latitude'...</td>\n",
       "      <td>0</td>\n",
       "    </tr>\n",
       "    <tr>\n",
       "      <th>52</th>\n",
       "      <td>1578690</td>\n",
       "      <td>WENDY'S PROPERTIES, LLC</td>\n",
       "      <td>WENDY'S</td>\n",
       "      <td>2405955.0</td>\n",
       "      <td>Restaurant</td>\n",
       "      <td>Risk 1 (High)</td>\n",
       "      <td>3943 N HARLEM AVE</td>\n",
       "      <td>CHICAGO</td>\n",
       "      <td>IL</td>\n",
       "      <td>60634.0</td>\n",
       "      <td>2015-10-08T00:00:00</td>\n",
       "      <td>License Re-Inspection</td>\n",
       "      <td>NaN</td>\n",
       "      <td>41.952042</td>\n",
       "      <td>-87.807095</td>\n",
       "      <td>{'longitude': '-87.80709474254513', 'latitude'...</td>\n",
       "      <td>0</td>\n",
       "    </tr>\n",
       "  </tbody>\n",
       "</table>\n",
       "</div>"
      ],
      "text/plain": [
       "    Inspection ID                       DBA Name  \\\n",
       "11         166332             GRAND TRIPLE CROWN   \n",
       "12        1982990          MARK TWAIN ELEMENTARY   \n",
       "15        2071751                  VICEROY HOTEL   \n",
       "24        1631721                  VEGAN NOW INC   \n",
       "28        2166234              BARWAQO KABOB ONE   \n",
       "29         519292                      CITGO GAS   \n",
       "40        1198883                          RANGE   \n",
       "41         598469                  DUNKIN DONUTS   \n",
       "50         521901  COQUITO COCINA PUERTORRIQUENA   \n",
       "52        1578690        WENDY'S PROPERTIES, LLC   \n",
       "\n",
       "                          AKA Name  License #  Facility Type             Risk  \\\n",
       "11              GRAND TRIPLE CROWN  1878843.0     Restaurant    Risk 1 (High)   \n",
       "12           MARK TWAIN ELEMENTARY    25661.0         School    Risk 1 (High)   \n",
       "15                   VICEROY HOTEL  2535449.0         Liquor     Risk 3 (Low)   \n",
       "24                       VEGAN NOW  2447002.0     Restaurant  Risk 2 (Medium)   \n",
       "28               BARWAQO KABOB ONE  2589600.0     Restaurant    Risk 1 (High)   \n",
       "29                       CITGO GAS  2093475.0  Grocery Store  Risk 2 (Medium)   \n",
       "40                           RANGE  2261809.0     Restaurant    Risk 1 (High)   \n",
       "41                   DUNKIN DONUTS    66356.0     Restaurant  Risk 2 (Medium)   \n",
       "50  COQUITO COCINA  PUERTORRIQUENA  2093842.0     Restaurant    Risk 1 (High)   \n",
       "52                         WENDY'S  2405955.0     Restaurant    Risk 1 (High)   \n",
       "\n",
       "                     Address     City State      Zip      Inspection Date  \\\n",
       "11        3034 S HALSTED ST   CHICAGO    IL  60608.0  2011-04-04T00:00:00   \n",
       "12             5134 S LOTUS   CHICAGO    IL  60638.0  2017-02-10T00:00:00   \n",
       "15          1118 N STATE ST   CHICAGO    IL  60610.0  2017-08-01T00:00:00   \n",
       "24         131 N CLINTON ST   CHICAGO    IL  60661.0  2016-02-16T00:00:00   \n",
       "28         939 N ORLEANS ST   CHICAGO    IL  60610.0  2018-04-17T00:00:00   \n",
       "29     4064-4070 N CLARK ST   CHICAGO    IL  60613.0  2011-11-01T00:00:00   \n",
       "40  1119-1121 W WEBSTER AVE   CHICAGO    IL  60614.0  2013-05-24T00:00:00   \n",
       "41         2356 W CERMAK RD   CHICAGO    IL  60608.0  2011-11-17T00:00:00   \n",
       "50        3824 N KEDZIE AVE   CHICAGO    IL  60618.0  2011-11-29T00:00:00   \n",
       "52        3943 N HARLEM AVE   CHICAGO    IL  60634.0  2015-10-08T00:00:00   \n",
       "\n",
       "          Inspection Type Violations   Latitude  Longitude  \\\n",
       "11   Short Form Complaint        NaN  41.838812 -87.646443   \n",
       "12  Canvass Re-Inspection        NaN  41.799052 -87.758965   \n",
       "15                License        NaN  41.902312 -87.628497   \n",
       "24                License        NaN  41.884188 -87.641120   \n",
       "28  License Re-Inspection        NaN  41.900150 -87.637161   \n",
       "29              Complaint        NaN  41.956094 -87.663477   \n",
       "40                License        NaN  41.921577 -87.656727   \n",
       "41  Canvass Re-Inspection        NaN  41.852142 -87.685518   \n",
       "50                License        NaN  41.951051 -87.708085   \n",
       "52  License Re-Inspection        NaN  41.952042 -87.807095   \n",
       "\n",
       "                                             Location  Fail  \n",
       "11  {'longitude': '-87.64644307835215', 'latitude'...     0  \n",
       "12  {'longitude': '-87.75896524463428', 'latitude'...     0  \n",
       "15  {'longitude': '-87.62849738136275', 'latitude'...     0  \n",
       "24  {'longitude': '-87.64111966683218', 'latitude'...     0  \n",
       "28  {'longitude': '-87.63716134942399', 'latitude'...     0  \n",
       "29  {'longitude': '-87.66347696035288', 'latitude'...     0  \n",
       "40  {'longitude': '-87.65672651542604', 'latitude'...     1  \n",
       "41  {'longitude': '-87.6855182624321', 'latitude':...     0  \n",
       "50  {'longitude': '-87.70808483065089', 'latitude'...     0  \n",
       "52  {'longitude': '-87.80709474254513', 'latitude'...     0  "
      ]
     },
     "execution_count": 8,
     "metadata": {},
     "output_type": "execute_result"
    }
   ],
   "source": [
    "train_violations_missing.head(10)"
   ]
  },
  {
   "cell_type": "code",
   "execution_count": 9,
   "metadata": {},
   "outputs": [
    {
     "data": {
      "text/html": [
       "<div>\n",
       "<style scoped>\n",
       "    .dataframe tbody tr th:only-of-type {\n",
       "        vertical-align: middle;\n",
       "    }\n",
       "\n",
       "    .dataframe tbody tr th {\n",
       "        vertical-align: top;\n",
       "    }\n",
       "\n",
       "    .dataframe thead th {\n",
       "        text-align: right;\n",
       "    }\n",
       "</style>\n",
       "<table border=\"1\" class=\"dataframe\">\n",
       "  <thead>\n",
       "    <tr style=\"text-align: right;\">\n",
       "      <th></th>\n",
       "      <th>Inspection ID</th>\n",
       "      <th>DBA Name</th>\n",
       "      <th>AKA Name</th>\n",
       "      <th>License #</th>\n",
       "      <th>Facility Type</th>\n",
       "      <th>Risk</th>\n",
       "      <th>Address</th>\n",
       "      <th>City</th>\n",
       "      <th>State</th>\n",
       "      <th>Zip</th>\n",
       "      <th>Inspection Date</th>\n",
       "      <th>Inspection Type</th>\n",
       "      <th>Violations</th>\n",
       "      <th>Latitude</th>\n",
       "      <th>Longitude</th>\n",
       "      <th>Location</th>\n",
       "      <th>Fail</th>\n",
       "      <th>training_set</th>\n",
       "    </tr>\n",
       "  </thead>\n",
       "  <tbody>\n",
       "    <tr>\n",
       "      <th>0</th>\n",
       "      <td>2088270</td>\n",
       "      <td>TOM YUM RICE &amp; NOODLE, INC.</td>\n",
       "      <td>TOM YUM CAFE</td>\n",
       "      <td>2354911.0</td>\n",
       "      <td>Restaurant</td>\n",
       "      <td>Risk 1 (High)</td>\n",
       "      <td>608 W BARRY</td>\n",
       "      <td>CHICAGO</td>\n",
       "      <td>IL</td>\n",
       "      <td>60657.0</td>\n",
       "      <td>2017-09-15T00:00:00</td>\n",
       "      <td>Canvass</td>\n",
       "      <td>3. POTENTIALLY HAZARDOUS FOOD MEETS TEMPERATUR...</td>\n",
       "      <td>41.938007</td>\n",
       "      <td>-87.644755</td>\n",
       "      <td>{'longitude': '-87.6447545707008', 'latitude':...</td>\n",
       "      <td>1</td>\n",
       "      <td>True</td>\n",
       "    </tr>\n",
       "    <tr>\n",
       "      <th>1</th>\n",
       "      <td>555268</td>\n",
       "      <td>FILLING STATION  &amp; CONVENIENCE  STORE</td>\n",
       "      <td>FILLING STATION  &amp; CONVENIENCE  STORE</td>\n",
       "      <td>1044901.0</td>\n",
       "      <td>Grocery Store</td>\n",
       "      <td>Risk 3 (Low)</td>\n",
       "      <td>6646-6658 S WESTERN AVE</td>\n",
       "      <td>CHICAGO</td>\n",
       "      <td>IL</td>\n",
       "      <td>60636.0</td>\n",
       "      <td>2011-10-20T00:00:00</td>\n",
       "      <td>Complaint Re-Inspection</td>\n",
       "      <td>32. FOOD AND NON-FOOD CONTACT SURFACES PROPERL...</td>\n",
       "      <td>41.772402</td>\n",
       "      <td>-87.683603</td>\n",
       "      <td>{'longitude': '-87.68360273081268', 'latitude'...</td>\n",
       "      <td>0</td>\n",
       "      <td>True</td>\n",
       "    </tr>\n",
       "    <tr>\n",
       "      <th>2</th>\n",
       "      <td>1751394</td>\n",
       "      <td>A P DELI</td>\n",
       "      <td>A P DELI</td>\n",
       "      <td>47405.0</td>\n",
       "      <td>Restaurant</td>\n",
       "      <td>Risk 1 (High)</td>\n",
       "      <td>2025 E 75TH ST</td>\n",
       "      <td>CHICAGO</td>\n",
       "      <td>IL</td>\n",
       "      <td>60649.0</td>\n",
       "      <td>2016-04-05T00:00:00</td>\n",
       "      <td>Canvass Re-Inspection</td>\n",
       "      <td>35. WALLS, CEILINGS, ATTACHED EQUIPMENT CONSTR...</td>\n",
       "      <td>41.758779</td>\n",
       "      <td>-87.575054</td>\n",
       "      <td>{'longitude': '-87.57505446746121', 'latitude'...</td>\n",
       "      <td>0</td>\n",
       "      <td>True</td>\n",
       "    </tr>\n",
       "    <tr>\n",
       "      <th>3</th>\n",
       "      <td>1763905</td>\n",
       "      <td>FRANK'S CHICAGO SHRIMP HOUSE</td>\n",
       "      <td>FRANK'S CHICAGO SHRIMP HOUSE</td>\n",
       "      <td>6414.0</td>\n",
       "      <td>Restaurant</td>\n",
       "      <td>Risk 2 (Medium)</td>\n",
       "      <td>4459 S ARCHER AVE</td>\n",
       "      <td>CHICAGO</td>\n",
       "      <td>IL</td>\n",
       "      <td>60632.0</td>\n",
       "      <td>2016-04-29T00:00:00</td>\n",
       "      <td>Canvass</td>\n",
       "      <td>38. VENTILATION: ROOMS AND EQUIPMENT VENTED AS...</td>\n",
       "      <td>41.812181</td>\n",
       "      <td>-87.707125</td>\n",
       "      <td>{'longitude': '-87.70712481334274', 'latitude'...</td>\n",
       "      <td>0</td>\n",
       "      <td>True</td>\n",
       "    </tr>\n",
       "    <tr>\n",
       "      <th>4</th>\n",
       "      <td>453326</td>\n",
       "      <td>MORRILL</td>\n",
       "      <td>MORRILL</td>\n",
       "      <td>24571.0</td>\n",
       "      <td>School</td>\n",
       "      <td>Risk 1 (High)</td>\n",
       "      <td>6011 S Rockwell (2600W) AVE</td>\n",
       "      <td>CHICAGO</td>\n",
       "      <td>IL</td>\n",
       "      <td>60629.0</td>\n",
       "      <td>2011-01-10T00:00:00</td>\n",
       "      <td>Canvass</td>\n",
       "      <td>34. FLOORS: CONSTRUCTED PER CODE, CLEANED, GOO...</td>\n",
       "      <td>NaN</td>\n",
       "      <td>NaN</td>\n",
       "      <td>NaN</td>\n",
       "      <td>0</td>\n",
       "      <td>True</td>\n",
       "    </tr>\n",
       "  </tbody>\n",
       "</table>\n",
       "</div>"
      ],
      "text/plain": [
       "   Inspection ID                               DBA Name  \\\n",
       "0        2088270            TOM YUM RICE & NOODLE, INC.   \n",
       "1         555268  FILLING STATION  & CONVENIENCE  STORE   \n",
       "2        1751394                               A P DELI   \n",
       "3        1763905           FRANK'S CHICAGO SHRIMP HOUSE   \n",
       "4         453326                                MORRILL   \n",
       "\n",
       "                                AKA Name  License #  Facility Type  \\\n",
       "0                           TOM YUM CAFE  2354911.0     Restaurant   \n",
       "1  FILLING STATION  & CONVENIENCE  STORE  1044901.0  Grocery Store   \n",
       "2                               A P DELI    47405.0     Restaurant   \n",
       "3           FRANK'S CHICAGO SHRIMP HOUSE     6414.0     Restaurant   \n",
       "4                                MORRILL    24571.0         School   \n",
       "\n",
       "              Risk                       Address     City State      Zip  \\\n",
       "0    Risk 1 (High)                  608 W BARRY   CHICAGO    IL  60657.0   \n",
       "1     Risk 3 (Low)      6646-6658 S WESTERN AVE   CHICAGO    IL  60636.0   \n",
       "2    Risk 1 (High)               2025 E 75TH ST   CHICAGO    IL  60649.0   \n",
       "3  Risk 2 (Medium)            4459 S ARCHER AVE   CHICAGO    IL  60632.0   \n",
       "4    Risk 1 (High)  6011 S Rockwell (2600W) AVE   CHICAGO    IL  60629.0   \n",
       "\n",
       "       Inspection Date          Inspection Type  \\\n",
       "0  2017-09-15T00:00:00                  Canvass   \n",
       "1  2011-10-20T00:00:00  Complaint Re-Inspection   \n",
       "2  2016-04-05T00:00:00    Canvass Re-Inspection   \n",
       "3  2016-04-29T00:00:00                  Canvass   \n",
       "4  2011-01-10T00:00:00                  Canvass   \n",
       "\n",
       "                                          Violations   Latitude  Longitude  \\\n",
       "0  3. POTENTIALLY HAZARDOUS FOOD MEETS TEMPERATUR...  41.938007 -87.644755   \n",
       "1  32. FOOD AND NON-FOOD CONTACT SURFACES PROPERL...  41.772402 -87.683603   \n",
       "2  35. WALLS, CEILINGS, ATTACHED EQUIPMENT CONSTR...  41.758779 -87.575054   \n",
       "3  38. VENTILATION: ROOMS AND EQUIPMENT VENTED AS...  41.812181 -87.707125   \n",
       "4  34. FLOORS: CONSTRUCTED PER CODE, CLEANED, GOO...        NaN        NaN   \n",
       "\n",
       "                                            Location  Fail  training_set  \n",
       "0  {'longitude': '-87.6447545707008', 'latitude':...     1          True  \n",
       "1  {'longitude': '-87.68360273081268', 'latitude'...     0          True  \n",
       "2  {'longitude': '-87.57505446746121', 'latitude'...     0          True  \n",
       "3  {'longitude': '-87.70712481334274', 'latitude'...     0          True  \n",
       "4                                                NaN     0          True  "
      ]
     },
     "execution_count": 9,
     "metadata": {},
     "output_type": "execute_result"
    }
   ],
   "source": [
    "train['training_set'] = True\n",
    "test['training_set'] = False\n",
    "\n",
    "full = pd.concat([train, test])\n",
    "\n",
    "full.head()"
   ]
  },
  {
   "cell_type": "code",
   "execution_count": 10,
   "metadata": {},
   "outputs": [
    {
     "data": {
      "text/plain": [
       "Inspection ID      0\n",
       "DBA Name           0\n",
       "AKA Name           0\n",
       "License #          0\n",
       "Facility Type      0\n",
       "Risk               0\n",
       "Address            0\n",
       "City               0\n",
       "State              0\n",
       "Zip                0\n",
       "Inspection Date    0\n",
       "Inspection Type    0\n",
       "Violations         0\n",
       "Latitude           0\n",
       "Longitude          0\n",
       "Location           0\n",
       "Fail               0\n",
       "training_set       0\n",
       "dtype: int64"
      ]
     },
     "execution_count": 10,
     "metadata": {},
     "output_type": "execute_result"
    }
   ],
   "source": [
    "full = full.dropna()\n",
    "full.isna().sum()"
   ]
  },
  {
   "cell_type": "code",
   "execution_count": 11,
   "metadata": {},
   "outputs": [
    {
     "data": {
      "text/plain": [
       "(55487, 18)"
      ]
     },
     "execution_count": 11,
     "metadata": {},
     "output_type": "execute_result"
    }
   ],
   "source": [
    "full.shape"
   ]
  },
  {
   "cell_type": "code",
   "execution_count": 12,
   "metadata": {},
   "outputs": [],
   "source": [
    "train = full[full['training_set'] == True]\n",
    "train = train.drop('training_set', axis=1)\n",
    "\n",
    "test = full[full['training_set'] == False]\n",
    "test = test.drop('training_set', axis=1)"
   ]
  },
  {
   "cell_type": "code",
   "execution_count": 13,
   "metadata": {},
   "outputs": [
    {
     "data": {
      "text/plain": [
       "((41665, 17), (13822, 17))"
      ]
     },
     "execution_count": 13,
     "metadata": {},
     "output_type": "execute_result"
    }
   ],
   "source": [
    "train.shape, test.shape"
   ]
  },
  {
   "cell_type": "markdown",
   "metadata": {},
   "source": [
    "## Modeling"
   ]
  },
  {
   "cell_type": "code",
   "execution_count": 14,
   "metadata": {},
   "outputs": [],
   "source": [
    "X_train = train.drop('Fail', axis=1)\n",
    "y_train = train['Fail']"
   ]
  },
  {
   "cell_type": "code",
   "execution_count": 15,
   "metadata": {},
   "outputs": [
    {
     "data": {
      "text/plain": [
       "((41665, 16), (41665,))"
      ]
     },
     "execution_count": 15,
     "metadata": {},
     "output_type": "execute_result"
    }
   ],
   "source": [
    "X_train.shape, y_train.shape"
   ]
  },
  {
   "cell_type": "markdown",
   "metadata": {},
   "source": [
    "### ROC AUC for the Training Set"
   ]
  },
  {
   "cell_type": "code",
   "execution_count": 16,
   "metadata": {},
   "outputs": [
    {
     "name": "stderr",
     "output_type": "stream",
     "text": [
      "[Parallel(n_jobs=1)]: Using backend SequentialBackend with 1 concurrent workers.\n"
     ]
    },
    {
     "name": "stdout",
     "output_type": "stream",
     "text": [
      "[CV]  ................................................................\n",
      "[CV] ....................... , score=0.6894738963490508, total=   7.0s\n",
      "[CV]  ................................................................\n"
     ]
    },
    {
     "name": "stderr",
     "output_type": "stream",
     "text": [
      "[Parallel(n_jobs=1)]: Done   1 out of   1 | elapsed:    7.1s remaining:    0.0s\n"
     ]
    },
    {
     "name": "stdout",
     "output_type": "stream",
     "text": [
      "[CV] ....................... , score=0.6886580251873284, total=   4.7s\n",
      "[CV]  ................................................................\n"
     ]
    },
    {
     "name": "stderr",
     "output_type": "stream",
     "text": [
      "[Parallel(n_jobs=1)]: Done   2 out of   2 | elapsed:   11.8s remaining:    0.0s\n"
     ]
    },
    {
     "name": "stdout",
     "output_type": "stream",
     "text": [
      "[CV] ....................... , score=0.7054735468703921, total=   5.2s\n",
      "[CV]  ................................................................\n"
     ]
    },
    {
     "name": "stderr",
     "output_type": "stream",
     "text": [
      "[Parallel(n_jobs=1)]: Done   3 out of   3 | elapsed:   16.9s remaining:    0.0s\n"
     ]
    },
    {
     "name": "stdout",
     "output_type": "stream",
     "text": [
      "[CV] ....................... , score=0.7060301432022278, total=   4.8s\n",
      "[CV]  ................................................................\n"
     ]
    },
    {
     "name": "stderr",
     "output_type": "stream",
     "text": [
      "[Parallel(n_jobs=1)]: Done   4 out of   4 | elapsed:   21.8s remaining:    0.0s\n"
     ]
    },
    {
     "name": "stdout",
     "output_type": "stream",
     "text": [
      "[CV] ....................... , score=0.7033690406960489, total=   4.6s\n"
     ]
    },
    {
     "name": "stderr",
     "output_type": "stream",
     "text": [
      "[Parallel(n_jobs=1)]: Done   5 out of   5 | elapsed:   26.4s remaining:    0.0s\n",
      "[Parallel(n_jobs=1)]: Done   5 out of   5 | elapsed:   26.4s finished\n"
     ]
    },
    {
     "data": {
      "text/plain": [
       "array([0.6894739 , 0.68865803, 0.70547355, 0.70603014, 0.70336904])"
      ]
     },
     "execution_count": 16,
     "metadata": {},
     "output_type": "execute_result"
    }
   ],
   "source": [
    "import category_encoders as ce\n",
    "from sklearn.model_selection import cross_val_score\n",
    "#from sklearn.model_selection import train_test_split\n",
    "from sklearn.pipeline import make_pipeline\n",
    "from sklearn.ensemble import RandomForestClassifier\n",
    "\n",
    "\n",
    "\n",
    "pipe = make_pipeline(\n",
    "    ce.OrdinalEncoder(),\n",
    "    RandomForestClassifier(\n",
    "    n_estimators=100,\n",
    "    class_weight='balanced',\n",
    "    min_samples_leaf=0.005,\n",
    "    oob_score=True,\n",
    "    n_jobs=-1)\n",
    ")\n",
    "\n",
    "cross_val_score(pipe, X_train, y_train, cv=5, scoring='roc_auc', verbose=10)\n",
    "#print(\"Cross-Validated ROC AUC scores: {}\".format(cv_roc_auc_scores))"
   ]
  },
  {
   "cell_type": "code",
   "execution_count": 17,
   "metadata": {},
   "outputs": [
    {
     "data": {
      "text/plain": [
       "Pipeline(memory=None,\n",
       "     steps=[('ordinalencoder', OrdinalEncoder(cols=['DBA Name', 'AKA Name', 'Facility Type', 'Risk', 'Address', 'City', 'State', 'Inspection Date', 'Inspection Type', 'Violations', 'Location'],\n",
       "        drop_invariant=False, handle_unknown='impute', impute_missing=True,\n",
       "        mapping=[{'col': 'DBA Name'...mators=100, n_jobs=-1, oob_score=True, random_state=None,\n",
       "            verbose=0, warm_start=False))])"
      ]
     },
     "execution_count": 17,
     "metadata": {},
     "output_type": "execute_result"
    }
   ],
   "source": [
    "pipe.fit(X_train, y_train)"
   ]
  },
  {
   "cell_type": "code",
   "execution_count": 18,
   "metadata": {},
   "outputs": [
    {
     "data": {
      "text/html": [
       "<div>\n",
       "<style scoped>\n",
       "    .dataframe tbody tr th:only-of-type {\n",
       "        vertical-align: middle;\n",
       "    }\n",
       "\n",
       "    .dataframe tbody tr th {\n",
       "        vertical-align: top;\n",
       "    }\n",
       "\n",
       "    .dataframe thead th {\n",
       "        text-align: right;\n",
       "    }\n",
       "</style>\n",
       "<table border=\"1\" class=\"dataframe\">\n",
       "  <thead>\n",
       "    <tr style=\"text-align: right;\">\n",
       "      <th></th>\n",
       "      <th>Inspection ID</th>\n",
       "      <th>DBA Name</th>\n",
       "      <th>AKA Name</th>\n",
       "      <th>License #</th>\n",
       "      <th>Facility Type</th>\n",
       "      <th>Risk</th>\n",
       "      <th>Address</th>\n",
       "      <th>City</th>\n",
       "      <th>State</th>\n",
       "      <th>Zip</th>\n",
       "      <th>Inspection Date</th>\n",
       "      <th>Inspection Type</th>\n",
       "      <th>Violations</th>\n",
       "      <th>Latitude</th>\n",
       "      <th>Longitude</th>\n",
       "      <th>Location</th>\n",
       "      <th>Fail</th>\n",
       "    </tr>\n",
       "  </thead>\n",
       "  <tbody>\n",
       "    <tr>\n",
       "      <th>0</th>\n",
       "      <td>114835</td>\n",
       "      <td>7 - ELEVEN</td>\n",
       "      <td>7 - ELEVEN</td>\n",
       "      <td>46907.0</td>\n",
       "      <td>Grocery Store</td>\n",
       "      <td>Risk 2 (Medium)</td>\n",
       "      <td>600 S DEARBORN</td>\n",
       "      <td>CHICAGO</td>\n",
       "      <td>IL</td>\n",
       "      <td>60605.0</td>\n",
       "      <td>2011-03-22T00:00:00</td>\n",
       "      <td>Canvass</td>\n",
       "      <td>33. FOOD AND NON-FOOD CONTACT EQUIPMENT UTENSI...</td>\n",
       "      <td>41.874481</td>\n",
       "      <td>-87.629357</td>\n",
       "      <td>{'longitude': '-87.62935653990546', 'latitude'...</td>\n",
       "      <td>0</td>\n",
       "    </tr>\n",
       "    <tr>\n",
       "      <th>1</th>\n",
       "      <td>1575555</td>\n",
       "      <td>TAQUERIA LOS GALLOS INC</td>\n",
       "      <td>TAQUERIA LOS GALLOS</td>\n",
       "      <td>1044860.0</td>\n",
       "      <td>Restaurant</td>\n",
       "      <td>Risk 1 (High)</td>\n",
       "      <td>4209-4211 W 26TH ST</td>\n",
       "      <td>CHICAGO</td>\n",
       "      <td>IL</td>\n",
       "      <td>60623.0</td>\n",
       "      <td>2015-09-15T00:00:00</td>\n",
       "      <td>Canvass</td>\n",
       "      <td>30. FOOD IN ORIGINAL CONTAINER, PROPERLY LABEL...</td>\n",
       "      <td>41.844070</td>\n",
       "      <td>-87.729807</td>\n",
       "      <td>{'longitude': '-87.72980747367433', 'latitude'...</td>\n",
       "      <td>0</td>\n",
       "    </tr>\n",
       "    <tr>\n",
       "      <th>2</th>\n",
       "      <td>671061</td>\n",
       "      <td>TROTTER'S TO GO</td>\n",
       "      <td>TROTTER'S TO GO</td>\n",
       "      <td>1092634.0</td>\n",
       "      <td>Restaurant</td>\n",
       "      <td>Risk 1 (High)</td>\n",
       "      <td>1337 W FULLERTON AVE</td>\n",
       "      <td>CHICAGO</td>\n",
       "      <td>IL</td>\n",
       "      <td>60614.0</td>\n",
       "      <td>2012-03-02T00:00:00</td>\n",
       "      <td>Canvass</td>\n",
       "      <td>34. FLOORS: CONSTRUCTED PER CODE, CLEANED, GOO...</td>\n",
       "      <td>41.925128</td>\n",
       "      <td>-87.662041</td>\n",
       "      <td>{'longitude': '-87.66204067083224', 'latitude'...</td>\n",
       "      <td>0</td>\n",
       "    </tr>\n",
       "    <tr>\n",
       "      <th>3</th>\n",
       "      <td>1965844</td>\n",
       "      <td>BIG G'S PIZZA</td>\n",
       "      <td>BIG G'S PIZZA</td>\n",
       "      <td>2334691.0</td>\n",
       "      <td>Restaurant</td>\n",
       "      <td>Risk 1 (High)</td>\n",
       "      <td>1132 W TAYLOR ST</td>\n",
       "      <td>CHICAGO</td>\n",
       "      <td>IL</td>\n",
       "      <td>60607.0</td>\n",
       "      <td>2016-10-04T00:00:00</td>\n",
       "      <td>Canvass Re-Inspection</td>\n",
       "      <td>14. PREVIOUS SERIOUS VIOLATION CORRECTED, 7-42...</td>\n",
       "      <td>41.869546</td>\n",
       "      <td>-87.655501</td>\n",
       "      <td>{'longitude': '-87.65550098867566', 'latitude'...</td>\n",
       "      <td>1</td>\n",
       "    </tr>\n",
       "    <tr>\n",
       "      <th>4</th>\n",
       "      <td>1751669</td>\n",
       "      <td>SOUTH CENTRAL COMMUNITY SERVICES ELEMENTARY</td>\n",
       "      <td>SOUTH CENTRAL COMMUNITY SERVICES ELEMENTARY</td>\n",
       "      <td>3491970.0</td>\n",
       "      <td>School</td>\n",
       "      <td>Risk 2 (Medium)</td>\n",
       "      <td>1021 E 83RD</td>\n",
       "      <td>CHICAGO</td>\n",
       "      <td>IL</td>\n",
       "      <td>60619.0</td>\n",
       "      <td>2016-04-08T00:00:00</td>\n",
       "      <td>Canvass</td>\n",
       "      <td>18. NO EVIDENCE OF RODENT OR INSECT OUTER OPEN...</td>\n",
       "      <td>41.743933</td>\n",
       "      <td>-87.599291</td>\n",
       "      <td>{'longitude': '-87.59929083361996', 'latitude'...</td>\n",
       "      <td>1</td>\n",
       "    </tr>\n",
       "  </tbody>\n",
       "</table>\n",
       "</div>"
      ],
      "text/plain": [
       "   Inspection ID                                     DBA Name  \\\n",
       "0         114835                                   7 - ELEVEN   \n",
       "1        1575555                      TAQUERIA LOS GALLOS INC   \n",
       "2         671061                              TROTTER'S TO GO   \n",
       "3        1965844                                BIG G'S PIZZA   \n",
       "4        1751669  SOUTH CENTRAL COMMUNITY SERVICES ELEMENTARY   \n",
       "\n",
       "                                      AKA Name  License #  Facility Type  \\\n",
       "0                                   7 - ELEVEN    46907.0  Grocery Store   \n",
       "1                          TAQUERIA LOS GALLOS  1044860.0     Restaurant   \n",
       "2                              TROTTER'S TO GO  1092634.0     Restaurant   \n",
       "3                                BIG G'S PIZZA  2334691.0     Restaurant   \n",
       "4  SOUTH CENTRAL COMMUNITY SERVICES ELEMENTARY  3491970.0         School   \n",
       "\n",
       "              Risk                Address     City State      Zip  \\\n",
       "0  Risk 2 (Medium)        600 S DEARBORN   CHICAGO    IL  60605.0   \n",
       "1    Risk 1 (High)   4209-4211 W 26TH ST   CHICAGO    IL  60623.0   \n",
       "2    Risk 1 (High)  1337 W FULLERTON AVE   CHICAGO    IL  60614.0   \n",
       "3    Risk 1 (High)      1132 W TAYLOR ST   CHICAGO    IL  60607.0   \n",
       "4  Risk 2 (Medium)           1021 E 83RD   CHICAGO    IL  60619.0   \n",
       "\n",
       "       Inspection Date        Inspection Type  \\\n",
       "0  2011-03-22T00:00:00                Canvass   \n",
       "1  2015-09-15T00:00:00                Canvass   \n",
       "2  2012-03-02T00:00:00                Canvass   \n",
       "3  2016-10-04T00:00:00  Canvass Re-Inspection   \n",
       "4  2016-04-08T00:00:00                Canvass   \n",
       "\n",
       "                                          Violations   Latitude  Longitude  \\\n",
       "0  33. FOOD AND NON-FOOD CONTACT EQUIPMENT UTENSI...  41.874481 -87.629357   \n",
       "1  30. FOOD IN ORIGINAL CONTAINER, PROPERLY LABEL...  41.844070 -87.729807   \n",
       "2  34. FLOORS: CONSTRUCTED PER CODE, CLEANED, GOO...  41.925128 -87.662041   \n",
       "3  14. PREVIOUS SERIOUS VIOLATION CORRECTED, 7-42...  41.869546 -87.655501   \n",
       "4  18. NO EVIDENCE OF RODENT OR INSECT OUTER OPEN...  41.743933 -87.599291   \n",
       "\n",
       "                                            Location  Fail  \n",
       "0  {'longitude': '-87.62935653990546', 'latitude'...     0  \n",
       "1  {'longitude': '-87.72980747367433', 'latitude'...     0  \n",
       "2  {'longitude': '-87.66204067083224', 'latitude'...     0  \n",
       "3  {'longitude': '-87.65550098867566', 'latitude'...     1  \n",
       "4  {'longitude': '-87.59929083361996', 'latitude'...     1  "
      ]
     },
     "execution_count": 18,
     "metadata": {},
     "output_type": "execute_result"
    }
   ],
   "source": [
    "test.head()"
   ]
  },
  {
   "cell_type": "markdown",
   "metadata": {},
   "source": [
    "### ROC AUC for the Test set"
   ]
  },
  {
   "cell_type": "code",
   "execution_count": 19,
   "metadata": {},
   "outputs": [
    {
     "data": {
      "text/plain": [
       "((13822, 16), (13822,))"
      ]
     },
     "execution_count": 19,
     "metadata": {},
     "output_type": "execute_result"
    }
   ],
   "source": [
    "X_test = test.drop('Fail', axis=1)\n",
    "y_test = test['Fail']\n",
    "\n",
    "X_test.shape, y_test.shape"
   ]
  },
  {
   "cell_type": "code",
   "execution_count": 20,
   "metadata": {},
   "outputs": [
    {
     "name": "stdout",
     "output_type": "stream",
     "text": [
      "ROC AUC, Out-of-Bag estimate for test set: 0.6930357992514172\n"
     ]
    }
   ],
   "source": [
    "from sklearn.metrics import roc_auc_score, roc_curve\n",
    "\n",
    "pipe.fit(X_test, y_test)\n",
    "y_pred_proba = pipe.named_steps['randomforestclassifier'].oob_decision_function_[:, 1]\n",
    "print('ROC AUC, Out-of-Bag estimate for test set:', roc_auc_score(y_test, y_pred_proba))\n"
   ]
  },
  {
   "cell_type": "code",
   "execution_count": 21,
   "metadata": {},
   "outputs": [
    {
     "data": {
      "text/plain": [
       "0.7622905635431723"
      ]
     },
     "execution_count": 21,
     "metadata": {},
     "output_type": "execute_result"
    }
   ],
   "source": [
    "y_pred = pipe.predict_proba(X_test)[:, 1]\n",
    "roc_auc_score(y_test, y_pred)"
   ]
  },
  {
   "cell_type": "markdown",
   "metadata": {},
   "source": [
    "### Visualization"
   ]
  },
  {
   "cell_type": "code",
   "execution_count": 22,
   "metadata": {},
   "outputs": [],
   "source": [
    "import numpy as np\n",
    "import matplotlib.pyplot as plt\n",
    "%matplotlib inline\n",
    "\n",
    "def plot_feature_importances(model):\n",
    "    n_features = X_train.shape[1]\n",
    "    plt.barh(range(n_features), model.named_steps['randomforestclassifier'].feature_importances_, align='center')\n",
    "    plt.yticks(np.arange(n_features), X_train.columns)\n",
    "    plt.xlabel(\"Feature importance\")\n",
    "    plt.ylabel(\"Feature\")\n",
    "    plt.ylim(-1, n_features)\n",
    "    "
   ]
  },
  {
   "cell_type": "code",
   "execution_count": 23,
   "metadata": {},
   "outputs": [
    {
     "data": {
      "image/png": "[encoded data removed]",
      "text/plain": [
       "<Figure size 1440x720 with 1 Axes>"
      ]
     },
     "metadata": {
      "needs_background": "light"
     },
     "output_type": "display_data"
    }
   ],
   "source": [
    "fig, ax = plt.subplots(figsize=(20, 10))\n",
    "\n",
    "plot_feature_importances(pipe)"
   ]
  },
  {
   "cell_type": "code",
   "execution_count": 24,
   "metadata": {},
   "outputs": [
    {
     "data": {
      "text/plain": [
       "Index(['Inspection ID', 'DBA Name', 'AKA Name', 'License #', 'Facility Type',\n",
       "       'Risk', 'Address', 'City', 'State', 'Zip', 'Inspection Date',\n",
       "       'Inspection Type', 'Violations', 'Latitude', 'Longitude', 'Location',\n",
       "       'Fail'],\n",
       "      dtype='object')"
      ]
     },
     "execution_count": 24,
     "metadata": {},
     "output_type": "execute_result"
    }
   ],
   "source": [
    "train.columns"
   ]
  },
  {
   "cell_type": "code",
   "execution_count": 25,
   "metadata": {},
   "outputs": [
    {
     "data": {
      "text/plain": [
       "Inspection ID        int64\n",
       "DBA Name            object\n",
       "AKA Name            object\n",
       "License #          float64\n",
       "Facility Type       object\n",
       "Risk                object\n",
       "Address             object\n",
       "City                object\n",
       "State               object\n",
       "Zip                float64\n",
       "Inspection Date     object\n",
       "Inspection Type     object\n",
       "Violations          object\n",
       "Latitude           float64\n",
       "Longitude          float64\n",
       "Location            object\n",
       "Fail                 int64\n",
       "dtype: object"
      ]
     },
     "execution_count": 25,
     "metadata": {},
     "output_type": "execute_result"
    }
   ],
   "source": [
    "train.dtypes"
   ]
  },
  {
   "cell_type": "markdown",
   "metadata": {},
   "source": [
    "### Partial Dependence Plot"
   ]
  },
  {
   "cell_type": "code",
   "execution_count": 26,
   "metadata": {},
   "outputs": [
    {
     "data": {
      "text/html": [
       "<div>\n",
       "<style scoped>\n",
       "    .dataframe tbody tr th:only-of-type {\n",
       "        vertical-align: middle;\n",
       "    }\n",
       "\n",
       "    .dataframe tbody tr th {\n",
       "        vertical-align: top;\n",
       "    }\n",
       "\n",
       "    .dataframe thead th {\n",
       "        text-align: right;\n",
       "    }\n",
       "</style>\n",
       "<table border=\"1\" class=\"dataframe\">\n",
       "  <thead>\n",
       "    <tr style=\"text-align: right;\">\n",
       "      <th></th>\n",
       "      <th>Inspection ID</th>\n",
       "      <th>DBA Name</th>\n",
       "      <th>AKA Name</th>\n",
       "      <th>License #</th>\n",
       "      <th>Facility Type</th>\n",
       "      <th>Risk</th>\n",
       "      <th>Address</th>\n",
       "      <th>City</th>\n",
       "      <th>State</th>\n",
       "      <th>Zip</th>\n",
       "      <th>Inspection Date</th>\n",
       "      <th>Inspection Type</th>\n",
       "      <th>Violations</th>\n",
       "      <th>Latitude</th>\n",
       "      <th>Longitude</th>\n",
       "      <th>Location</th>\n",
       "      <th>Fail</th>\n",
       "    </tr>\n",
       "  </thead>\n",
       "  <tbody>\n",
       "    <tr>\n",
       "      <th>0</th>\n",
       "      <td>2088270</td>\n",
       "      <td>1</td>\n",
       "      <td>1</td>\n",
       "      <td>2354911.0</td>\n",
       "      <td>1</td>\n",
       "      <td>1</td>\n",
       "      <td>1</td>\n",
       "      <td>1</td>\n",
       "      <td>1</td>\n",
       "      <td>60657.0</td>\n",
       "      <td>1</td>\n",
       "      <td>1</td>\n",
       "      <td>1</td>\n",
       "      <td>41.938007</td>\n",
       "      <td>-87.644755</td>\n",
       "      <td>1</td>\n",
       "      <td>1</td>\n",
       "    </tr>\n",
       "    <tr>\n",
       "      <th>1</th>\n",
       "      <td>555268</td>\n",
       "      <td>2</td>\n",
       "      <td>2</td>\n",
       "      <td>1044901.0</td>\n",
       "      <td>2</td>\n",
       "      <td>2</td>\n",
       "      <td>2</td>\n",
       "      <td>1</td>\n",
       "      <td>1</td>\n",
       "      <td>60636.0</td>\n",
       "      <td>2</td>\n",
       "      <td>2</td>\n",
       "      <td>2</td>\n",
       "      <td>41.772402</td>\n",
       "      <td>-87.683603</td>\n",
       "      <td>2</td>\n",
       "      <td>0</td>\n",
       "    </tr>\n",
       "    <tr>\n",
       "      <th>2</th>\n",
       "      <td>1751394</td>\n",
       "      <td>3</td>\n",
       "      <td>3</td>\n",
       "      <td>47405.0</td>\n",
       "      <td>1</td>\n",
       "      <td>1</td>\n",
       "      <td>3</td>\n",
       "      <td>1</td>\n",
       "      <td>1</td>\n",
       "      <td>60649.0</td>\n",
       "      <td>3</td>\n",
       "      <td>3</td>\n",
       "      <td>3</td>\n",
       "      <td>41.758779</td>\n",
       "      <td>-87.575054</td>\n",
       "      <td>3</td>\n",
       "      <td>0</td>\n",
       "    </tr>\n",
       "    <tr>\n",
       "      <th>3</th>\n",
       "      <td>1763905</td>\n",
       "      <td>4</td>\n",
       "      <td>4</td>\n",
       "      <td>6414.0</td>\n",
       "      <td>1</td>\n",
       "      <td>3</td>\n",
       "      <td>4</td>\n",
       "      <td>1</td>\n",
       "      <td>1</td>\n",
       "      <td>60632.0</td>\n",
       "      <td>4</td>\n",
       "      <td>1</td>\n",
       "      <td>4</td>\n",
       "      <td>41.812181</td>\n",
       "      <td>-87.707125</td>\n",
       "      <td>4</td>\n",
       "      <td>0</td>\n",
       "    </tr>\n",
       "    <tr>\n",
       "      <th>5</th>\n",
       "      <td>1725221</td>\n",
       "      <td>5</td>\n",
       "      <td>5</td>\n",
       "      <td>2245580.0</td>\n",
       "      <td>3</td>\n",
       "      <td>1</td>\n",
       "      <td>5</td>\n",
       "      <td>1</td>\n",
       "      <td>1</td>\n",
       "      <td>60614.0</td>\n",
       "      <td>5</td>\n",
       "      <td>1</td>\n",
       "      <td>5</td>\n",
       "      <td>41.932632</td>\n",
       "      <td>-87.647973</td>\n",
       "      <td>5</td>\n",
       "      <td>0</td>\n",
       "    </tr>\n",
       "    <tr>\n",
       "      <th>6</th>\n",
       "      <td>1981372</td>\n",
       "      <td>6</td>\n",
       "      <td>6</td>\n",
       "      <td>32318.0</td>\n",
       "      <td>1</td>\n",
       "      <td>3</td>\n",
       "      <td>6</td>\n",
       "      <td>1</td>\n",
       "      <td>1</td>\n",
       "      <td>60606.0</td>\n",
       "      <td>6</td>\n",
       "      <td>1</td>\n",
       "      <td>6</td>\n",
       "      <td>41.878531</td>\n",
       "      <td>-87.639427</td>\n",
       "      <td>6</td>\n",
       "      <td>0</td>\n",
       "    </tr>\n",
       "    <tr>\n",
       "      <th>8</th>\n",
       "      <td>1464616</td>\n",
       "      <td>7</td>\n",
       "      <td>7</td>\n",
       "      <td>1544937.0</td>\n",
       "      <td>1</td>\n",
       "      <td>1</td>\n",
       "      <td>7</td>\n",
       "      <td>1</td>\n",
       "      <td>1</td>\n",
       "      <td>60660.0</td>\n",
       "      <td>7</td>\n",
       "      <td>1</td>\n",
       "      <td>7</td>\n",
       "      <td>41.993973</td>\n",
       "      <td>-87.660242</td>\n",
       "      <td>7</td>\n",
       "      <td>1</td>\n",
       "    </tr>\n",
       "    <tr>\n",
       "      <th>9</th>\n",
       "      <td>583261</td>\n",
       "      <td>8</td>\n",
       "      <td>8</td>\n",
       "      <td>2098003.0</td>\n",
       "      <td>1</td>\n",
       "      <td>1</td>\n",
       "      <td>8</td>\n",
       "      <td>1</td>\n",
       "      <td>1</td>\n",
       "      <td>60616.0</td>\n",
       "      <td>8</td>\n",
       "      <td>4</td>\n",
       "      <td>8</td>\n",
       "      <td>41.855282</td>\n",
       "      <td>-87.631993</td>\n",
       "      <td>8</td>\n",
       "      <td>1</td>\n",
       "    </tr>\n",
       "    <tr>\n",
       "      <th>10</th>\n",
       "      <td>1516695</td>\n",
       "      <td>9</td>\n",
       "      <td>9</td>\n",
       "      <td>36823.0</td>\n",
       "      <td>2</td>\n",
       "      <td>1</td>\n",
       "      <td>9</td>\n",
       "      <td>1</td>\n",
       "      <td>1</td>\n",
       "      <td>60629.0</td>\n",
       "      <td>9</td>\n",
       "      <td>5</td>\n",
       "      <td>9</td>\n",
       "      <td>41.789113</td>\n",
       "      <td>-87.703580</td>\n",
       "      <td>9</td>\n",
       "      <td>0</td>\n",
       "    </tr>\n",
       "    <tr>\n",
       "      <th>13</th>\n",
       "      <td>635040</td>\n",
       "      <td>10</td>\n",
       "      <td>10</td>\n",
       "      <td>2089284.0</td>\n",
       "      <td>1</td>\n",
       "      <td>1</td>\n",
       "      <td>10</td>\n",
       "      <td>1</td>\n",
       "      <td>1</td>\n",
       "      <td>60626.0</td>\n",
       "      <td>10</td>\n",
       "      <td>5</td>\n",
       "      <td>10</td>\n",
       "      <td>42.008692</td>\n",
       "      <td>-87.666350</td>\n",
       "      <td>10</td>\n",
       "      <td>0</td>\n",
       "    </tr>\n",
       "  </tbody>\n",
       "</table>\n",
       "</div>"
      ],
      "text/plain": [
       "    Inspection ID  DBA Name  AKA Name  License #  Facility Type  Risk  \\\n",
       "0         2088270         1         1  2354911.0              1     1   \n",
       "1          555268         2         2  1044901.0              2     2   \n",
       "2         1751394         3         3    47405.0              1     1   \n",
       "3         1763905         4         4     6414.0              1     3   \n",
       "5         1725221         5         5  2245580.0              3     1   \n",
       "6         1981372         6         6    32318.0              1     3   \n",
       "8         1464616         7         7  1544937.0              1     1   \n",
       "9          583261         8         8  2098003.0              1     1   \n",
       "10        1516695         9         9    36823.0              2     1   \n",
       "13         635040        10        10  2089284.0              1     1   \n",
       "\n",
       "    Address  City  State      Zip  Inspection Date  Inspection Type  \\\n",
       "0         1     1      1  60657.0                1                1   \n",
       "1         2     1      1  60636.0                2                2   \n",
       "2         3     1      1  60649.0                3                3   \n",
       "3         4     1      1  60632.0                4                1   \n",
       "5         5     1      1  60614.0                5                1   \n",
       "6         6     1      1  60606.0                6                1   \n",
       "8         7     1      1  60660.0                7                1   \n",
       "9         8     1      1  60616.0                8                4   \n",
       "10        9     1      1  60629.0                9                5   \n",
       "13       10     1      1  60626.0               10                5   \n",
       "\n",
       "    Violations   Latitude  Longitude  Location  Fail  \n",
       "0            1  41.938007 -87.644755         1     1  \n",
       "1            2  41.772402 -87.683603         2     0  \n",
       "2            3  41.758779 -87.575054         3     0  \n",
       "3            4  41.812181 -87.707125         4     0  \n",
       "5            5  41.932632 -87.647973         5     0  \n",
       "6            6  41.878531 -87.639427         6     0  \n",
       "8            7  41.993973 -87.660242         7     1  \n",
       "9            8  41.855282 -87.631993         8     1  \n",
       "10           9  41.789113 -87.703580         9     0  \n",
       "13          10  42.008692 -87.666350        10     0  "
      ]
     },
     "execution_count": 26,
     "metadata": {},
     "output_type": "execute_result"
    }
   ],
   "source": [
    "encoder = ce.OrdinalEncoder(handle_unknown='ignore', cols=['DBA Name', 'AKA Name', 'Facility Type',\n",
    "       'Risk', 'Address', 'City', 'State', 'Inspection Date',\n",
    "       'Inspection Type', 'Violations', 'Location'])\n",
    "train_transformed = encoder.fit_transform(train)\n",
    "train_transformed.head(10)"
   ]
  },
  {
   "cell_type": "code",
   "execution_count": 27,
   "metadata": {},
   "outputs": [
    {
     "data": {
      "text/plain": [
       "Inspection ID      0\n",
       "DBA Name           0\n",
       "AKA Name           0\n",
       "License #          0\n",
       "Facility Type      0\n",
       "Risk               0\n",
       "Address            0\n",
       "City               0\n",
       "State              0\n",
       "Zip                0\n",
       "Inspection Date    0\n",
       "Inspection Type    0\n",
       "Violations         0\n",
       "Latitude           0\n",
       "Longitude          0\n",
       "Location           0\n",
       "Fail               0\n",
       "dtype: int64"
      ]
     },
     "execution_count": 27,
     "metadata": {},
     "output_type": "execute_result"
    }
   ],
   "source": [
    "train_transformed.isna().sum()"
   ]
  },
  {
   "cell_type": "code",
   "execution_count": 29,
   "metadata": {},
   "outputs": [
    {
     "data": {
      "text/plain": [
       "array([0.64645162, 0.69711013, 0.70884841, 0.71001496, 0.70286667])"
      ]
     },
     "execution_count": 29,
     "metadata": {},
     "output_type": "execute_result"
    }
   ],
   "source": [
    "from sklearn.ensemble import GradientBoostingClassifier\n",
    "\n",
    "X = train_transformed.drop('Fail', axis=1)\n",
    "y = train_transformed['Fail']\n",
    "\n",
    "gb = GradientBoostingClassifier()\n",
    "\n",
    "cross_val_score(gb, X, y, scoring='roc_auc', cv=5, n_jobs=-1)"
   ]
  },
  {
   "cell_type": "code",
   "execution_count": 30,
   "metadata": {},
   "outputs": [
    {
     "data": {
      "text/plain": [
       "Inspection ID      0.323480\n",
       "DBA Name           0.003481\n",
       "AKA Name           0.007903\n",
       "License #          0.055757\n",
       "Facility Type      0.026563\n",
       "Risk               0.010357\n",
       "Address            0.004715\n",
       "City               0.000000\n",
       "State              0.000000\n",
       "Zip                0.030315\n",
       "Inspection Date    0.004806\n",
       "Inspection Type    0.458865\n",
       "Violations         0.001927\n",
       "Latitude           0.027659\n",
       "Longitude          0.037918\n",
       "Location           0.006254\n",
       "dtype: float64"
      ]
     },
     "execution_count": 30,
     "metadata": {},
     "output_type": "execute_result"
    }
   ],
   "source": [
    "gb.fit(X, y)\n",
    "pd.Series(gb.feature_importances_, X.columns)"
   ]
  },
  {
   "cell_type": "markdown",
   "metadata": {},
   "source": [
    "#### We isolate for Inspection Type because it has the highest feature importance for the Gradient Boosting model"
   ]
  },
  {
   "cell_type": "code",
   "execution_count": 31,
   "metadata": {},
   "outputs": [
    {
     "data": {
      "image/png": "[encoded data removed]",
      "text/plain": [
       "<Figure size 1080x684 with 2 Axes>"
      ]
     },
     "metadata": {
      "needs_background": "light"
     },
     "output_type": "display_data"
    }
   ],
   "source": [
    "from pdpbox.pdp import pdp_isolate, pdp_plot\n",
    "\n",
    "feature='Inspection Type'\n",
    "pdp_isolated = pdp_isolate(model=gb, dataset=X, model_features=X.columns, feature=feature)\n",
    "pdp_plot(pdp_isolated, feature);\n"
   ]
  },
  {
   "cell_type": "code",
   "execution_count": 32,
   "metadata": {},
   "outputs": [
    {
     "data": {
      "text/html": [
       "<div>\n",
       "<style scoped>\n",
       "    .dataframe tbody tr th:only-of-type {\n",
       "        vertical-align: middle;\n",
       "    }\n",
       "\n",
       "    .dataframe tbody tr th {\n",
       "        vertical-align: top;\n",
       "    }\n",
       "\n",
       "    .dataframe thead th {\n",
       "        text-align: right;\n",
       "    }\n",
       "</style>\n",
       "<table border=\"1\" class=\"dataframe\">\n",
       "  <thead>\n",
       "    <tr style=\"text-align: right;\">\n",
       "      <th></th>\n",
       "      <th>Inspection ID</th>\n",
       "      <th>DBA Name</th>\n",
       "      <th>AKA Name</th>\n",
       "      <th>License #</th>\n",
       "      <th>Facility Type</th>\n",
       "      <th>Risk</th>\n",
       "      <th>Address</th>\n",
       "      <th>City</th>\n",
       "      <th>State</th>\n",
       "      <th>Zip</th>\n",
       "      <th>Inspection Date</th>\n",
       "      <th>Inspection Type</th>\n",
       "      <th>Violations</th>\n",
       "      <th>Latitude</th>\n",
       "      <th>Longitude</th>\n",
       "      <th>Location</th>\n",
       "      <th>Fail</th>\n",
       "    </tr>\n",
       "  </thead>\n",
       "  <tbody>\n",
       "    <tr>\n",
       "      <th>0</th>\n",
       "      <td>2088270</td>\n",
       "      <td>1</td>\n",
       "      <td>1</td>\n",
       "      <td>2354911.0</td>\n",
       "      <td>1</td>\n",
       "      <td>1</td>\n",
       "      <td>1</td>\n",
       "      <td>1</td>\n",
       "      <td>1</td>\n",
       "      <td>60657.0</td>\n",
       "      <td>1</td>\n",
       "      <td>1</td>\n",
       "      <td>1</td>\n",
       "      <td>41.938007</td>\n",
       "      <td>-87.644755</td>\n",
       "      <td>1</td>\n",
       "      <td>1</td>\n",
       "    </tr>\n",
       "    <tr>\n",
       "      <th>1</th>\n",
       "      <td>555268</td>\n",
       "      <td>2</td>\n",
       "      <td>2</td>\n",
       "      <td>1044901.0</td>\n",
       "      <td>2</td>\n",
       "      <td>2</td>\n",
       "      <td>2</td>\n",
       "      <td>1</td>\n",
       "      <td>1</td>\n",
       "      <td>60636.0</td>\n",
       "      <td>2</td>\n",
       "      <td>2</td>\n",
       "      <td>2</td>\n",
       "      <td>41.772402</td>\n",
       "      <td>-87.683603</td>\n",
       "      <td>2</td>\n",
       "      <td>0</td>\n",
       "    </tr>\n",
       "    <tr>\n",
       "      <th>2</th>\n",
       "      <td>1751394</td>\n",
       "      <td>3</td>\n",
       "      <td>3</td>\n",
       "      <td>47405.0</td>\n",
       "      <td>1</td>\n",
       "      <td>1</td>\n",
       "      <td>3</td>\n",
       "      <td>1</td>\n",
       "      <td>1</td>\n",
       "      <td>60649.0</td>\n",
       "      <td>3</td>\n",
       "      <td>3</td>\n",
       "      <td>3</td>\n",
       "      <td>41.758779</td>\n",
       "      <td>-87.575054</td>\n",
       "      <td>3</td>\n",
       "      <td>0</td>\n",
       "    </tr>\n",
       "    <tr>\n",
       "      <th>3</th>\n",
       "      <td>1763905</td>\n",
       "      <td>4</td>\n",
       "      <td>4</td>\n",
       "      <td>6414.0</td>\n",
       "      <td>1</td>\n",
       "      <td>3</td>\n",
       "      <td>4</td>\n",
       "      <td>1</td>\n",
       "      <td>1</td>\n",
       "      <td>60632.0</td>\n",
       "      <td>4</td>\n",
       "      <td>1</td>\n",
       "      <td>4</td>\n",
       "      <td>41.812181</td>\n",
       "      <td>-87.707125</td>\n",
       "      <td>4</td>\n",
       "      <td>0</td>\n",
       "    </tr>\n",
       "    <tr>\n",
       "      <th>5</th>\n",
       "      <td>1725221</td>\n",
       "      <td>5</td>\n",
       "      <td>5</td>\n",
       "      <td>2245580.0</td>\n",
       "      <td>3</td>\n",
       "      <td>1</td>\n",
       "      <td>5</td>\n",
       "      <td>1</td>\n",
       "      <td>1</td>\n",
       "      <td>60614.0</td>\n",
       "      <td>5</td>\n",
       "      <td>1</td>\n",
       "      <td>5</td>\n",
       "      <td>41.932632</td>\n",
       "      <td>-87.647973</td>\n",
       "      <td>5</td>\n",
       "      <td>0</td>\n",
       "    </tr>\n",
       "  </tbody>\n",
       "</table>\n",
       "</div>"
      ],
      "text/plain": [
       "   Inspection ID  DBA Name  AKA Name  License #  Facility Type  Risk  Address  \\\n",
       "0        2088270         1         1  2354911.0              1     1        1   \n",
       "1         555268         2         2  1044901.0              2     2        2   \n",
       "2        1751394         3         3    47405.0              1     1        3   \n",
       "3        1763905         4         4     6414.0              1     3        4   \n",
       "5        1725221         5         5  2245580.0              3     1        5   \n",
       "\n",
       "   City  State      Zip  Inspection Date  Inspection Type  Violations  \\\n",
       "0     1      1  60657.0                1                1           1   \n",
       "1     1      1  60636.0                2                2           2   \n",
       "2     1      1  60649.0                3                3           3   \n",
       "3     1      1  60632.0                4                1           4   \n",
       "5     1      1  60614.0                5                1           5   \n",
       "\n",
       "    Latitude  Longitude  Location  Fail  \n",
       "0  41.938007 -87.644755         1     1  \n",
       "1  41.772402 -87.683603         2     0  \n",
       "2  41.758779 -87.575054         3     0  \n",
       "3  41.812181 -87.707125         4     0  \n",
       "5  41.932632 -87.647973         5     0  "
      ]
     },
     "execution_count": 32,
     "metadata": {},
     "output_type": "execute_result"
    }
   ],
   "source": [
    "train_transformed.head()"
   ]
  },
  {
   "cell_type": "code",
   "execution_count": 33,
   "metadata": {},
   "outputs": [
    {
     "data": {
      "text/plain": [
       "Canvass                                   0.549286\n",
       "License                                   0.117197\n",
       "Complaint                                 0.114509\n",
       "Canvass Re-Inspection                     0.104284\n",
       "Complaint Re-Inspection                   0.036025\n",
       "Short Form Complaint                      0.035233\n",
       "License Re-Inspection                     0.025945\n",
       "Suspected Food Poisoning                  0.004800\n",
       "Tag Removal                               0.002712\n",
       "Consultation                              0.002472\n",
       "License-Task Force                        0.002328\n",
       "Recent Inspection                         0.001056\n",
       "Complaint-Fire                            0.001008\n",
       "Suspected Food Poisoning Re-inspection    0.000912\n",
       "Task Force Liquor 1475                    0.000768\n",
       "Short Form Fire-Complaint                 0.000528\n",
       "Special Events (Festivals)                0.000312\n",
       "Complaint-Fire Re-inspection              0.000216\n",
       "Package Liquor 1474                       0.000096\n",
       "TAVERN 1470                               0.000024\n",
       "CANVASS SPECIAL EVENTS                    0.000024\n",
       "SFP/COMPLAINT                             0.000024\n",
       "LICENSE DAYCARE 1586                      0.000024\n",
       "POSSIBLE FBI                              0.000024\n",
       "KIDS CAFE                                 0.000024\n",
       "TWO PEOPLE ATE AND GOT SICK.              0.000024\n",
       "REINSPECTION OF 48 HOUR NOTICE            0.000024\n",
       "CANVASS/SPECIAL EVENT                     0.000024\n",
       "SPECIAL TASK FORCE                        0.000024\n",
       "LICENSE RENEWAL FOR DAYCARE               0.000024\n",
       "SMOKING COMPLAINT                         0.000024\n",
       "Pre-License Consultation                  0.000024\n",
       "Name: Inspection Type, dtype: float64"
      ]
     },
     "execution_count": 33,
     "metadata": {},
     "output_type": "execute_result"
    }
   ],
   "source": [
    "train['Inspection Type'].value_counts(normalize=True)"
   ]
  },
  {
   "cell_type": "code",
   "execution_count": 34,
   "metadata": {},
   "outputs": [
    {
     "data": {
      "text/plain": [
       "1     0.549286\n",
       "4     0.117197\n",
       "5     0.114509\n",
       "3     0.104284\n",
       "2     0.036025\n",
       "7     0.035233\n",
       "6     0.025945\n",
       "15    0.004800\n",
       "10    0.002712\n",
       "9     0.002472\n",
       "14    0.002328\n",
       "16    0.001056\n",
       "11    0.001008\n",
       "17    0.000912\n",
       "12    0.000768\n",
       "18    0.000528\n",
       "8     0.000312\n",
       "13    0.000216\n",
       "24    0.000096\n",
       "31    0.000024\n",
       "30    0.000024\n",
       "19    0.000024\n",
       "20    0.000024\n",
       "21    0.000024\n",
       "22    0.000024\n",
       "23    0.000024\n",
       "25    0.000024\n",
       "26    0.000024\n",
       "27    0.000024\n",
       "28    0.000024\n",
       "29    0.000024\n",
       "32    0.000024\n",
       "Name: Inspection Type, dtype: float64"
      ]
     },
     "execution_count": 34,
     "metadata": {},
     "output_type": "execute_result"
    }
   ],
   "source": [
    "train_transformed['Inspection Type'].value_counts(normalize=True)"
   ]
  },
  {
   "cell_type": "code",
   "execution_count": 37,
   "metadata": {},
   "outputs": [
    {
     "data": {
      "text/plain": [
       "0    0.515871\n",
       "1    0.484129\n",
       "Name: Fail, dtype: float64"
      ]
     },
     "execution_count": 37,
     "metadata": {},
     "output_type": "execute_result"
    }
   ],
   "source": [
    "inspection_type_license = train[train['Inspection Type'] == 'License']\n",
    "\n",
    "inspection_type_license['Fail'].value_counts(normalize=True)"
   ]
  },
  {
   "cell_type": "code",
   "execution_count": 39,
   "metadata": {},
   "outputs": [
    {
     "data": {
      "text/plain": [
       "0    0.5655\n",
       "1    0.4345\n",
       "Name: Fail, dtype: float64"
      ]
     },
     "execution_count": 39,
     "metadata": {},
     "output_type": "execute_result"
    }
   ],
   "source": [
    "inspection_type_complaint = train[train['Inspection Type'] == 'Complaint']\n",
    "\n",
    "inspection_type_complaint['Fail'].value_counts(normalize=True)"
   ]
  },
  {
   "cell_type": "code",
   "execution_count": 40,
   "metadata": {},
   "outputs": [
    {
     "data": {
      "text/plain": [
       "0    0.70954\n",
       "1    0.29046\n",
       "Name: Fail, dtype: float64"
      ]
     },
     "execution_count": 40,
     "metadata": {},
     "output_type": "execute_result"
    }
   ],
   "source": [
    "train['Fail'].value_counts(normalize=True)"
   ]
  },
  {
   "cell_type": "markdown",
   "metadata": {},
   "source": [
    "### The Partial Dependence Plot shows 'Inspection Type' of License and Complaint shows the highest values.  And sure enough when we examine the Fail rates for those Inspection Types above they're much higher than that for the whole training set."
   ]
  },
  {
   "cell_type": "markdown",
   "metadata": {},
   "source": [
    "### Part 1: Preprocessing\n",
    "\n",
    "You may choose which features you want to use, and whether/how you will preprocess them. You may use any tools and techniques for categorical encoding. (Pandas, category_encoders, sklearn.preprocessing, or any other library.)\n",
    "\n",
    "_To earn a score of 3 for this part, engineer new features, and use any alternative categorical encoding instead of One-Hot or Ordinal/Label encoding._\n",
    "\n",
    "### Part 2: Modeling\n",
    "\n",
    "Fit a Random Forest or Gradient Boosting model with the train set. (You may use scikit-learn, xgboost, or any other library.) Use cross-validation to estimate an ROC AUC validation score.\n",
    "\n",
    "Use your model to predict probabilities for the test set. Get an ROC AUC test score >= 0.60.\n",
    "\n",
    "_To earn a score of 3 for this part, get an ROC AUC test score >= 0.70._\n",
    "\n",
    "\n",
    "### Part 3: Visualization\n",
    "\n",
    "Make one visualization for model interpretation. (You may use any libraries.) Choose one of these types:\n",
    "- Feature Importances\n",
    "- Permutation Importances\n",
    "- Partial Dependence Plot\n",
    "\n",
    "_To earn a score of 3 for this part, make at least two of these visualization types._"
   ]
  }
 ],
 "metadata": {
  "kernelspec": {
   "display_name": "Python 3",
   "language": "python",
   "name": "python3"
  },
  "language_info": {
   "codemirror_mode": {
    "name": "ipython",
    "version": 3
   },
   "file_extension": ".py",
   "mimetype": "text/x-python",
   "name": "python",
   "nbconvert_exporter": "python",
   "pygments_lexer": "ipython3",
   "version": "3.6.7"
  }
 },
 "nbformat": 4,
 "nbformat_minor": 2
}

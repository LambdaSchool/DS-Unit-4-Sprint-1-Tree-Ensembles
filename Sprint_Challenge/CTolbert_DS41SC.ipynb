{
  "nbformat": 4,
  "nbformat_minor": 0,
  "metadata": {
    "colab": {
      "name": "CTolbert DS41SC.ipynb",
      "version": "0.3.2",
      "provenance": [],
      "collapsed_sections": [],
      "include_colab_link": true
    },
    "kernelspec": {
      "name": "python3",
      "display_name": "Python 3"
    },
    "accelerator": "GPU"
  },
  "cells": [
    {
      "cell_type": "markdown",
      "metadata": {
        "id": "view-in-github",
        "colab_type": "text"
      },
      "source": [
        "<a href=\"https://colab.research.google.com/github/hughjafro/DS-Unit-4-Sprint-1-Tree-Ensembles/blob/master/Sprint_Challenge/CTolbert_DS41SC.ipynb\" target=\"_parent\"><img src=\"https://colab.research.google.com/assets/colab-badge.svg\" alt=\"Open In Colab\"/></a>"
      ]
    },
    {
      "metadata": {
        "id": "oJLVv79FBNfl",
        "colab_type": "text"
      },
      "cell_type": "markdown",
      "source": [
        "# Data Science Unit 4 Sprint Challenge 1 — Tree Ensembles"
      ]
    },
    {
      "metadata": {
        "id": "FMRxY8olBNfn",
        "colab_type": "text"
      },
      "cell_type": "markdown",
      "source": [
        "### Chicago Food Inspections\n",
        "\n",
        "For this Sprint Challenge, you'll use a dataset with information from inspections of restaurants and other food establishments in Chicago from January 1, 2010 to the present. \n",
        "\n",
        "[See this PDF](https://data.cityofchicago.org/api/assets/BAD5301B-681A-4202-9D25-51B2CAE672FF) for descriptions of the data elements included in this dataset.\n",
        "\n",
        "According to [Chicago Department of Public Health — Food Protection Services](https://www.chicago.gov/city/en/depts/cdph/provdrs/healthy_restaurants/svcs/food-protection-services.html), \"Chicago is home to 16,000 food establishments like restaurants, grocery stores, bakeries, wholesalers, lunchrooms, mobile food vendors and more. Our business is food safety and sanitation with one goal, to prevent the spread of food-borne disease. We do this by inspecting food businesses, responding to complaints and food recalls.\" "
      ]
    },
    {
      "metadata": {
        "id": "Z5Vk0VrSBNfo",
        "colab_type": "text"
      },
      "cell_type": "markdown",
      "source": [
        "#### Your challenge: Predict whether inspections failed\n",
        "\n",
        "The target is the `Fail` column.\n",
        "\n",
        "- When the food establishment failed the inspection, the target is `1`.\n",
        "- When the establishment passed, the target is `0`."
      ]
    },
    {
      "metadata": {
        "id": "v5tbNyylBNfo",
        "colab_type": "text"
      },
      "cell_type": "markdown",
      "source": [
        "#### Run this cell to load the data:"
      ]
    },
    {
      "metadata": {
        "id": "Z6nkFdCvOFVi",
        "colab_type": "code",
        "colab": {
          "base_uri": "https://localhost:8080/",
          "height": 279
        },
        "outputId": "5707e4ce-d661-46bf-ac75-856d87f105b6"
      },
      "cell_type": "code",
      "source": [
        "!pip install category_encoders"
      ],
      "execution_count": 3,
      "outputs": [
        {
          "output_type": "stream",
          "text": [
            "Collecting category_encoders\n",
            "\u001b[?25l  Downloading https://files.pythonhosted.org/packages/f7/d3/82a4b85a87ece114f6d0139d643580c726efa45fa4db3b81aed38c0156c5/category_encoders-1.3.0-py2.py3-none-any.whl (61kB)\n",
            "\u001b[K    100% |████████████████████████████████| 61kB 2.9MB/s \n",
            "\u001b[?25hRequirement already satisfied: statsmodels>=0.6.1 in /usr/local/lib/python3.6/dist-packages (from category_encoders) (0.8.0)\n",
            "Requirement already satisfied: pandas>=0.20.1 in /usr/local/lib/python3.6/dist-packages (from category_encoders) (0.22.0)\n",
            "Requirement already satisfied: patsy>=0.4.1 in /usr/local/lib/python3.6/dist-packages (from category_encoders) (0.5.1)\n",
            "Requirement already satisfied: numpy>=1.11.1 in /usr/local/lib/python3.6/dist-packages (from category_encoders) (1.14.6)\n",
            "Requirement already satisfied: scikit-learn>=0.17.1 in /usr/local/lib/python3.6/dist-packages (from category_encoders) (0.20.3)\n",
            "Requirement already satisfied: scipy>=0.17.0 in /usr/local/lib/python3.6/dist-packages (from category_encoders) (1.1.0)\n",
            "Requirement already satisfied: python-dateutil>=2 in /usr/local/lib/python3.6/dist-packages (from pandas>=0.20.1->category_encoders) (2.5.3)\n",
            "Requirement already satisfied: pytz>=2011k in /usr/local/lib/python3.6/dist-packages (from pandas>=0.20.1->category_encoders) (2018.9)\n",
            "Requirement already satisfied: six in /usr/local/lib/python3.6/dist-packages (from patsy>=0.4.1->category_encoders) (1.11.0)\n",
            "Installing collected packages: category-encoders\n",
            "Successfully installed category-encoders-1.3.0\n"
          ],
          "name": "stdout"
        }
      ]
    },
    {
      "metadata": {
        "id": "0zQqP69fOlh9",
        "colab_type": "code",
        "colab": {}
      },
      "cell_type": "code",
      "source": [
        "!pip install dtreeviz"
      ],
      "execution_count": 0,
      "outputs": []
    },
    {
      "metadata": {
        "id": "dIGqgAKgBNfp",
        "colab_type": "code",
        "colab": {}
      },
      "cell_type": "code",
      "source": [
        "import pandas as pd\n",
        "\n",
        "train_url = 'https://drive.google.com/uc?export=download&id=13_tP9JpLcZHSPVpWcua4t2rY44K_s4H5'\n",
        "test_url  = 'https://drive.google.com/uc?export=download&id=1GkDHjsiGrzOXoF_xcYjdzBTSjOIi3g5a'\n",
        "\n",
        "train = pd.read_csv(train_url)\n",
        "test  = pd.read_csv(test_url)\n",
        "\n",
        "assert train.shape == (51916, 17)\n",
        "assert test.shape  == (17306, 17)"
      ],
      "execution_count": 0,
      "outputs": []
    },
    {
      "metadata": {
        "id": "32h7IZ3wHJV-",
        "colab_type": "code",
        "colab": {}
      },
      "cell_type": "code",
      "source": [
        "# Import packages\n",
        "import matplotlib.pyplot as plt\n",
        "import numpy as np\n",
        "import category_encoders as ce\n",
        "import pandas as pd\n",
        "from sklearn.model_selection import cross_val_score\n",
        "from sklearn.model_selection import train_test_split\n",
        "from sklearn.pipeline import make_pipeline\n",
        "from sklearn.tree import DecisionTreeClassifier"
      ],
      "execution_count": 0,
      "outputs": []
    },
    {
      "metadata": {
        "id": "NqVUPB9qBNfu",
        "colab_type": "text"
      },
      "cell_type": "markdown",
      "source": [
        "### Part 1: Preprocessing\n",
        "\n",
        "You may choose which features you want to use, and whether/how you will preprocess them. You may use any tools and techniques for categorical encoding. (Pandas, category_encoders, sklearn.preprocessing, or any other library.)\n",
        "\n",
        "_To earn a score of 3 for this part, engineer new features, and use any alternative categorical encoding instead of One-Hot or Ordinal/Label encoding._\n",
        "\n",
        "\n",
        "\n"
      ]
    },
    {
      "metadata": {
        "id": "0KU3uHNnUfPF",
        "colab_type": "code",
        "colab": {
          "base_uri": "https://localhost:8080/",
          "height": 52
        },
        "outputId": "a4bf6b8e-2326-45b5-e4a4-12c7fa827e2b"
      },
      "cell_type": "code",
      "source": [
        "# Check shape\n",
        "print(train.shape)\n",
        "print(test.shape)"
      ],
      "execution_count": 6,
      "outputs": [
        {
          "output_type": "stream",
          "text": [
            "(51916, 17)\n",
            "(17306, 17)\n"
          ],
          "name": "stdout"
        }
      ]
    },
    {
      "metadata": {
        "id": "1P_2UWAdQMdr",
        "colab_type": "code",
        "colab": {
          "base_uri": "https://localhost:8080/",
          "height": 581
        },
        "outputId": "c36226bd-496f-4e78-a939-52fecf705aba"
      },
      "cell_type": "code",
      "source": [
        "train.head()"
      ],
      "execution_count": 7,
      "outputs": [
        {
          "output_type": "execute_result",
          "data": {
            "text/html": [
              "<div>\n",
              "<style scoped>\n",
              "    .dataframe tbody tr th:only-of-type {\n",
              "        vertical-align: middle;\n",
              "    }\n",
              "\n",
              "    .dataframe tbody tr th {\n",
              "        vertical-align: top;\n",
              "    }\n",
              "\n",
              "    .dataframe thead th {\n",
              "        text-align: right;\n",
              "    }\n",
              "</style>\n",
              "<table border=\"1\" class=\"dataframe\">\n",
              "  <thead>\n",
              "    <tr style=\"text-align: right;\">\n",
              "      <th></th>\n",
              "      <th>Inspection ID</th>\n",
              "      <th>DBA Name</th>\n",
              "      <th>AKA Name</th>\n",
              "      <th>License #</th>\n",
              "      <th>Facility Type</th>\n",
              "      <th>Risk</th>\n",
              "      <th>Address</th>\n",
              "      <th>City</th>\n",
              "      <th>State</th>\n",
              "      <th>Zip</th>\n",
              "      <th>Inspection Date</th>\n",
              "      <th>Inspection Type</th>\n",
              "      <th>Violations</th>\n",
              "      <th>Latitude</th>\n",
              "      <th>Longitude</th>\n",
              "      <th>Location</th>\n",
              "      <th>Fail</th>\n",
              "    </tr>\n",
              "  </thead>\n",
              "  <tbody>\n",
              "    <tr>\n",
              "      <th>0</th>\n",
              "      <td>2088270</td>\n",
              "      <td>TOM YUM RICE &amp; NOODLE, INC.</td>\n",
              "      <td>TOM YUM CAFE</td>\n",
              "      <td>2354911.0</td>\n",
              "      <td>Restaurant</td>\n",
              "      <td>Risk 1 (High)</td>\n",
              "      <td>608 W BARRY</td>\n",
              "      <td>CHICAGO</td>\n",
              "      <td>IL</td>\n",
              "      <td>60657.0</td>\n",
              "      <td>2017-09-15T00:00:00</td>\n",
              "      <td>Canvass</td>\n",
              "      <td>3. POTENTIALLY HAZARDOUS FOOD MEETS TEMPERATUR...</td>\n",
              "      <td>41.938007</td>\n",
              "      <td>-87.644755</td>\n",
              "      <td>{'longitude': '-87.6447545707008', 'latitude':...</td>\n",
              "      <td>1</td>\n",
              "    </tr>\n",
              "    <tr>\n",
              "      <th>1</th>\n",
              "      <td>555268</td>\n",
              "      <td>FILLING STATION  &amp; CONVENIENCE  STORE</td>\n",
              "      <td>FILLING STATION  &amp; CONVENIENCE  STORE</td>\n",
              "      <td>1044901.0</td>\n",
              "      <td>Grocery Store</td>\n",
              "      <td>Risk 3 (Low)</td>\n",
              "      <td>6646-6658 S WESTERN AVE</td>\n",
              "      <td>CHICAGO</td>\n",
              "      <td>IL</td>\n",
              "      <td>60636.0</td>\n",
              "      <td>2011-10-20T00:00:00</td>\n",
              "      <td>Complaint Re-Inspection</td>\n",
              "      <td>32. FOOD AND NON-FOOD CONTACT SURFACES PROPERL...</td>\n",
              "      <td>41.772402</td>\n",
              "      <td>-87.683603</td>\n",
              "      <td>{'longitude': '-87.68360273081268', 'latitude'...</td>\n",
              "      <td>0</td>\n",
              "    </tr>\n",
              "    <tr>\n",
              "      <th>2</th>\n",
              "      <td>1751394</td>\n",
              "      <td>A P DELI</td>\n",
              "      <td>A P DELI</td>\n",
              "      <td>47405.0</td>\n",
              "      <td>Restaurant</td>\n",
              "      <td>Risk 1 (High)</td>\n",
              "      <td>2025 E 75TH ST</td>\n",
              "      <td>CHICAGO</td>\n",
              "      <td>IL</td>\n",
              "      <td>60649.0</td>\n",
              "      <td>2016-04-05T00:00:00</td>\n",
              "      <td>Canvass Re-Inspection</td>\n",
              "      <td>35. WALLS, CEILINGS, ATTACHED EQUIPMENT CONSTR...</td>\n",
              "      <td>41.758779</td>\n",
              "      <td>-87.575054</td>\n",
              "      <td>{'longitude': '-87.57505446746121', 'latitude'...</td>\n",
              "      <td>0</td>\n",
              "    </tr>\n",
              "    <tr>\n",
              "      <th>3</th>\n",
              "      <td>1763905</td>\n",
              "      <td>FRANK'S CHICAGO SHRIMP HOUSE</td>\n",
              "      <td>FRANK'S CHICAGO SHRIMP HOUSE</td>\n",
              "      <td>6414.0</td>\n",
              "      <td>Restaurant</td>\n",
              "      <td>Risk 2 (Medium)</td>\n",
              "      <td>4459 S ARCHER AVE</td>\n",
              "      <td>CHICAGO</td>\n",
              "      <td>IL</td>\n",
              "      <td>60632.0</td>\n",
              "      <td>2016-04-29T00:00:00</td>\n",
              "      <td>Canvass</td>\n",
              "      <td>38. VENTILATION: ROOMS AND EQUIPMENT VENTED AS...</td>\n",
              "      <td>41.812181</td>\n",
              "      <td>-87.707125</td>\n",
              "      <td>{'longitude': '-87.70712481334274', 'latitude'...</td>\n",
              "      <td>0</td>\n",
              "    </tr>\n",
              "    <tr>\n",
              "      <th>4</th>\n",
              "      <td>453326</td>\n",
              "      <td>MORRILL</td>\n",
              "      <td>MORRILL</td>\n",
              "      <td>24571.0</td>\n",
              "      <td>School</td>\n",
              "      <td>Risk 1 (High)</td>\n",
              "      <td>6011 S Rockwell (2600W) AVE</td>\n",
              "      <td>CHICAGO</td>\n",
              "      <td>IL</td>\n",
              "      <td>60629.0</td>\n",
              "      <td>2011-01-10T00:00:00</td>\n",
              "      <td>Canvass</td>\n",
              "      <td>34. FLOORS: CONSTRUCTED PER CODE, CLEANED, GOO...</td>\n",
              "      <td>NaN</td>\n",
              "      <td>NaN</td>\n",
              "      <td>NaN</td>\n",
              "      <td>0</td>\n",
              "    </tr>\n",
              "  </tbody>\n",
              "</table>\n",
              "</div>"
            ],
            "text/plain": [
              "   Inspection ID                               DBA Name  \\\n",
              "0        2088270            TOM YUM RICE & NOODLE, INC.   \n",
              "1         555268  FILLING STATION  & CONVENIENCE  STORE   \n",
              "2        1751394                               A P DELI   \n",
              "3        1763905           FRANK'S CHICAGO SHRIMP HOUSE   \n",
              "4         453326                                MORRILL   \n",
              "\n",
              "                                AKA Name  License #  Facility Type  \\\n",
              "0                           TOM YUM CAFE  2354911.0     Restaurant   \n",
              "1  FILLING STATION  & CONVENIENCE  STORE  1044901.0  Grocery Store   \n",
              "2                               A P DELI    47405.0     Restaurant   \n",
              "3           FRANK'S CHICAGO SHRIMP HOUSE     6414.0     Restaurant   \n",
              "4                                MORRILL    24571.0         School   \n",
              "\n",
              "              Risk                       Address     City State      Zip  \\\n",
              "0    Risk 1 (High)                  608 W BARRY   CHICAGO    IL  60657.0   \n",
              "1     Risk 3 (Low)      6646-6658 S WESTERN AVE   CHICAGO    IL  60636.0   \n",
              "2    Risk 1 (High)               2025 E 75TH ST   CHICAGO    IL  60649.0   \n",
              "3  Risk 2 (Medium)            4459 S ARCHER AVE   CHICAGO    IL  60632.0   \n",
              "4    Risk 1 (High)  6011 S Rockwell (2600W) AVE   CHICAGO    IL  60629.0   \n",
              "\n",
              "       Inspection Date          Inspection Type  \\\n",
              "0  2017-09-15T00:00:00                  Canvass   \n",
              "1  2011-10-20T00:00:00  Complaint Re-Inspection   \n",
              "2  2016-04-05T00:00:00    Canvass Re-Inspection   \n",
              "3  2016-04-29T00:00:00                  Canvass   \n",
              "4  2011-01-10T00:00:00                  Canvass   \n",
              "\n",
              "                                          Violations   Latitude  Longitude  \\\n",
              "0  3. POTENTIALLY HAZARDOUS FOOD MEETS TEMPERATUR...  41.938007 -87.644755   \n",
              "1  32. FOOD AND NON-FOOD CONTACT SURFACES PROPERL...  41.772402 -87.683603   \n",
              "2  35. WALLS, CEILINGS, ATTACHED EQUIPMENT CONSTR...  41.758779 -87.575054   \n",
              "3  38. VENTILATION: ROOMS AND EQUIPMENT VENTED AS...  41.812181 -87.707125   \n",
              "4  34. FLOORS: CONSTRUCTED PER CODE, CLEANED, GOO...        NaN        NaN   \n",
              "\n",
              "                                            Location  Fail  \n",
              "0  {'longitude': '-87.6447545707008', 'latitude':...     1  \n",
              "1  {'longitude': '-87.68360273081268', 'latitude'...     0  \n",
              "2  {'longitude': '-87.57505446746121', 'latitude'...     0  \n",
              "3  {'longitude': '-87.70712481334274', 'latitude'...     0  \n",
              "4                                                NaN     0  "
            ]
          },
          "metadata": {
            "tags": []
          },
          "execution_count": 7
        }
      ]
    },
    {
      "metadata": {
        "id": "jR3WXJsQQMXT",
        "colab_type": "code",
        "colab": {
          "base_uri": "https://localhost:8080/",
          "height": 104
        },
        "outputId": "aca7085c-5bf7-4d6b-819d-eaa4bd64c133"
      },
      "cell_type": "code",
      "source": [
        "# Check column headings\n",
        "test.columns"
      ],
      "execution_count": 8,
      "outputs": [
        {
          "output_type": "execute_result",
          "data": {
            "text/plain": [
              "Index(['Inspection ID', 'DBA Name', 'AKA Name', 'License #', 'Facility Type',\n",
              "       'Risk', 'Address', 'City', 'State', 'Zip', 'Inspection Date',\n",
              "       'Inspection Type', 'Violations', 'Latitude', 'Longitude', 'Location',\n",
              "       'Fail'],\n",
              "      dtype='object')"
            ]
          },
          "metadata": {
            "tags": []
          },
          "execution_count": 8
        }
      ]
    },
    {
      "metadata": {
        "id": "SsHxHpSXS5mW",
        "colab_type": "code",
        "colab": {
          "base_uri": "https://localhost:8080/",
          "height": 328
        },
        "outputId": "b6d360fe-1028-4937-9d03-9b40de27576b"
      },
      "cell_type": "code",
      "source": [
        "# Check for Nans\n",
        "train.isna().sum()"
      ],
      "execution_count": 9,
      "outputs": [
        {
          "output_type": "execute_result",
          "data": {
            "text/plain": [
              "Inspection ID         0\n",
              "DBA Name              0\n",
              "AKA Name            623\n",
              "License #             5\n",
              "Facility Type       224\n",
              "Risk                 12\n",
              "Address               0\n",
              "City                 53\n",
              "State                10\n",
              "Zip                  26\n",
              "Inspection Date       0\n",
              "Inspection Type       1\n",
              "Violations         9655\n",
              "Latitude            198\n",
              "Longitude           198\n",
              "Location            198\n",
              "Fail                  0\n",
              "dtype: int64"
            ]
          },
          "metadata": {
            "tags": []
          },
          "execution_count": 9
        }
      ]
    },
    {
      "metadata": {
        "id": "lPyjjJ1CQpIv",
        "colab_type": "code",
        "colab": {
          "base_uri": "https://localhost:8080/",
          "height": 228
        },
        "outputId": "973755e6-4631-40ae-c84b-de50ab8c32fc"
      },
      "cell_type": "code",
      "source": [
        "# Quick look at the corr matrix\n",
        "train.corr()"
      ],
      "execution_count": 10,
      "outputs": [
        {
          "output_type": "execute_result",
          "data": {
            "text/html": [
              "<div>\n",
              "<style scoped>\n",
              "    .dataframe tbody tr th:only-of-type {\n",
              "        vertical-align: middle;\n",
              "    }\n",
              "\n",
              "    .dataframe tbody tr th {\n",
              "        vertical-align: top;\n",
              "    }\n",
              "\n",
              "    .dataframe thead th {\n",
              "        text-align: right;\n",
              "    }\n",
              "</style>\n",
              "<table border=\"1\" class=\"dataframe\">\n",
              "  <thead>\n",
              "    <tr style=\"text-align: right;\">\n",
              "      <th></th>\n",
              "      <th>Inspection ID</th>\n",
              "      <th>License #</th>\n",
              "      <th>Zip</th>\n",
              "      <th>Latitude</th>\n",
              "      <th>Longitude</th>\n",
              "      <th>Fail</th>\n",
              "    </tr>\n",
              "  </thead>\n",
              "  <tbody>\n",
              "    <tr>\n",
              "      <th>Inspection ID</th>\n",
              "      <td>1.000000</td>\n",
              "      <td>0.194781</td>\n",
              "      <td>0.000944</td>\n",
              "      <td>0.053912</td>\n",
              "      <td>-0.008544</td>\n",
              "      <td>0.004624</td>\n",
              "    </tr>\n",
              "    <tr>\n",
              "      <th>License #</th>\n",
              "      <td>0.194781</td>\n",
              "      <td>1.000000</td>\n",
              "      <td>-0.016444</td>\n",
              "      <td>0.006098</td>\n",
              "      <td>0.035326</td>\n",
              "      <td>0.043235</td>\n",
              "    </tr>\n",
              "    <tr>\n",
              "      <th>Zip</th>\n",
              "      <td>0.000944</td>\n",
              "      <td>-0.016444</td>\n",
              "      <td>1.000000</td>\n",
              "      <td>0.185379</td>\n",
              "      <td>-0.399629</td>\n",
              "      <td>0.014190</td>\n",
              "    </tr>\n",
              "    <tr>\n",
              "      <th>Latitude</th>\n",
              "      <td>0.053912</td>\n",
              "      <td>0.006098</td>\n",
              "      <td>0.185379</td>\n",
              "      <td>1.000000</td>\n",
              "      <td>-0.430789</td>\n",
              "      <td>-0.014143</td>\n",
              "    </tr>\n",
              "    <tr>\n",
              "      <th>Longitude</th>\n",
              "      <td>-0.008544</td>\n",
              "      <td>0.035326</td>\n",
              "      <td>-0.399629</td>\n",
              "      <td>-0.430789</td>\n",
              "      <td>1.000000</td>\n",
              "      <td>0.015747</td>\n",
              "    </tr>\n",
              "    <tr>\n",
              "      <th>Fail</th>\n",
              "      <td>0.004624</td>\n",
              "      <td>0.043235</td>\n",
              "      <td>0.014190</td>\n",
              "      <td>-0.014143</td>\n",
              "      <td>0.015747</td>\n",
              "      <td>1.000000</td>\n",
              "    </tr>\n",
              "  </tbody>\n",
              "</table>\n",
              "</div>"
            ],
            "text/plain": [
              "               Inspection ID  License #       Zip  Latitude  Longitude  \\\n",
              "Inspection ID       1.000000   0.194781  0.000944  0.053912  -0.008544   \n",
              "License #           0.194781   1.000000 -0.016444  0.006098   0.035326   \n",
              "Zip                 0.000944  -0.016444  1.000000  0.185379  -0.399629   \n",
              "Latitude            0.053912   0.006098  0.185379  1.000000  -0.430789   \n",
              "Longitude          -0.008544   0.035326 -0.399629 -0.430789   1.000000   \n",
              "Fail                0.004624   0.043235  0.014190 -0.014143   0.015747   \n",
              "\n",
              "                   Fail  \n",
              "Inspection ID  0.004624  \n",
              "License #      0.043235  \n",
              "Zip            0.014190  \n",
              "Latitude      -0.014143  \n",
              "Longitude      0.015747  \n",
              "Fail           1.000000  "
            ]
          },
          "metadata": {
            "tags": []
          },
          "execution_count": 10
        }
      ]
    },
    {
      "metadata": {
        "id": "nCR4X_g6Q-94",
        "colab_type": "code",
        "colab": {
          "base_uri": "https://localhost:8080/",
          "height": 69
        },
        "outputId": "d8883c65-3659-4bdd-b95b-44f31866bfa1"
      },
      "cell_type": "code",
      "source": [
        "# Review value counts for fail vs not fail\n",
        "train.Fail.value_counts()"
      ],
      "execution_count": 11,
      "outputs": [
        {
          "output_type": "execute_result",
          "data": {
            "text/plain": [
              "0    38490\n",
              "1    13426\n",
              "Name: Fail, dtype: int64"
            ]
          },
          "metadata": {
            "tags": []
          },
          "execution_count": 11
        }
      ]
    },
    {
      "metadata": {
        "id": "c1wssszdQ-yt",
        "colab_type": "code",
        "colab": {
          "base_uri": "https://localhost:8080/",
          "height": 361
        },
        "outputId": "c4d8f8f6-9e00-4fe0-c7f4-06ba50aebb2c"
      },
      "cell_type": "code",
      "source": [
        "train.Fail.value_counts().plot.bar()"
      ],
      "execution_count": 12,
      "outputs": [
        {
          "output_type": "execute_result",
          "data": {
            "text/plain": [
              "<matplotlib.axes._subplots.AxesSubplot at 0x7f3d9d21a630>"
            ]
          },
          "metadata": {
            "tags": []
          },
          "execution_count": 12
        },
        {
          "output_type": "display_data",
          "data": {
            "image/png": "[encoded data removed]",
            "text/plain": [
              "<Figure size 576x396 with 1 Axes>"
            ]
          },
          "metadata": {
            "tags": []
          }
        }
      ]
    },
    {
      "metadata": {
        "id": "V64mtlqjX8Tz",
        "colab_type": "code",
        "colab": {}
      },
      "cell_type": "code",
      "source": [
        "# Define X and y\n",
        "X_train = train.drop('Fail', axis=1)\n",
        "X_test = test.drop('Fail', axis=1)\n",
        "\n",
        "# Target\n",
        "y_train = train['Fail']\n",
        "y_test = test['Fail']"
      ],
      "execution_count": 0,
      "outputs": []
    },
    {
      "metadata": {
        "id": "9xDbCOjZaUUb",
        "colab_type": "code",
        "colab": {}
      },
      "cell_type": "code",
      "source": [
        "# Wrangle X_train and y_train the same way\n",
        "\n",
        "def wrangle(X):\n",
        "    X = X.copy()\n",
        "    \n",
        "    # Drop columns\n",
        "    X = X.drop(columns = ['License #','City', 'State', 'Latitude', 'Longitude', 'Location']) \n",
        "    \n",
        "    # Change NaN in facility type to ot defined\n",
        "    X['Facility Type'] = X['Facility Type'].fillna('Not Defined')\n",
        "    \n",
        "    # Change Nan in violations to Incomplete\n",
        "    X['Violations'] = X['Violations'].fillna('Incomplete')\n",
        "   \n",
        "    # Remaining nans are filled with Unknown\n",
        "    X = X.fillna('Unknown')\n",
        "            \n",
        "    # return wrangled data frame\n",
        "    return X\n",
        "  \n",
        "X_train = wrangle(X_train)\n",
        "X_test = wrangle(X_test)"
      ],
      "execution_count": 0,
      "outputs": []
    },
    {
      "metadata": {
        "id": "cflwqgtEaLI4",
        "colab_type": "code",
        "colab": {
          "base_uri": "https://localhost:8080/",
          "height": 52
        },
        "outputId": "18754a4c-6228-4ecf-da29-04c82319d72d"
      },
      "cell_type": "code",
      "source": [
        "print(X_train.shape)\n",
        "print(X_test.shape)"
      ],
      "execution_count": 15,
      "outputs": [
        {
          "output_type": "stream",
          "text": [
            "(51916, 10)\n",
            "(17306, 10)\n"
          ],
          "name": "stdout"
        }
      ]
    },
    {
      "metadata": {
        "id": "3Q5lJGKnhHAG",
        "colab_type": "code",
        "colab": {}
      },
      "cell_type": "code",
      "source": [
        "encoder = ce.OrdinalEncoder()\n",
        "X_train = encoder.fit_transform(X_train)\n",
        "X_test = encoder.transform(X_test)"
      ],
      "execution_count": 0,
      "outputs": []
    },
    {
      "metadata": {
        "id": "b-mW6suobZdr",
        "colab_type": "code",
        "colab": {}
      },
      "cell_type": "code",
      "source": [
        ""
      ],
      "execution_count": 0,
      "outputs": []
    },
    {
      "metadata": {
        "id": "5fxTagvXU83H",
        "colab_type": "text"
      },
      "cell_type": "markdown",
      "source": [
        "#### Random Forest Improves ROC AUC compared to decion tree"
      ]
    },
    {
      "metadata": {
        "id": "HD3z-aGAQK_D",
        "colab_type": "text"
      },
      "cell_type": "markdown",
      "source": [
        "### Part 2: Modeling\n",
        "\n",
        "Fit a Random Forest or Gradient Boosting model with the train set. (You may use scikit-learn, xgboost, or any other library.) Use cross-validation to estimate an ROC AUC validation score.\n",
        "\n",
        "Use your model to predict probabilities for the test set. Get an ROC AUC test score >= 0.60.\n",
        "\n",
        "_To earn a score of 3 for this part, get an ROC AUC test score >= 0.70._\n"
      ]
    },
    {
      "metadata": {
        "id": "rYiERvIsSDuF",
        "colab_type": "code",
        "colab": {
          "base_uri": "https://localhost:8080/",
          "height": 328
        },
        "outputId": "9cf88872-851f-450a-d0dc-00851cf08ccf"
      },
      "cell_type": "code",
      "source": [
        "from sklearn.ensemble import RandomForestClassifier\n",
        "\n",
        "pipe = make_pipeline(\n",
        "       ce.OrdinalEncoder(), \n",
        "       RandomForestClassifier(\n",
        "       n_estimators=100, \n",
        "       class_weight='balanced', \n",
        "       min_samples_leaf=0.005, \n",
        "       oob_score=True, \n",
        "       n_jobs=-1)\n",
        ")\n",
        "\n",
        "cross_val_score(pipe, X_train, y_train, cv=5, scoring='roc_auc', verbose=10)"
      ],
      "execution_count": 17,
      "outputs": [
        {
          "output_type": "stream",
          "text": [
            "[CV]  ................................................................\n"
          ],
          "name": "stdout"
        },
        {
          "output_type": "stream",
          "text": [
            "[Parallel(n_jobs=1)]: Using backend SequentialBackend with 1 concurrent workers.\n"
          ],
          "name": "stderr"
        },
        {
          "output_type": "stream",
          "text": [
            "[CV] ........................ , score=0.642552740681501, total=   8.4s\n",
            "[CV]  ................................................................\n"
          ],
          "name": "stdout"
        },
        {
          "output_type": "stream",
          "text": [
            "[Parallel(n_jobs=1)]: Done   1 out of   1 | elapsed:    8.4s remaining:    0.0s\n"
          ],
          "name": "stderr"
        },
        {
          "output_type": "stream",
          "text": [
            "[CV] ....................... , score=0.7130617979566629, total=   6.0s\n",
            "[CV]  ................................................................\n"
          ],
          "name": "stdout"
        },
        {
          "output_type": "stream",
          "text": [
            "[Parallel(n_jobs=1)]: Done   2 out of   2 | elapsed:   14.4s remaining:    0.0s\n"
          ],
          "name": "stderr"
        },
        {
          "output_type": "stream",
          "text": [
            "[CV] ....................... , score=0.7304225915652957, total=   6.2s\n",
            "[CV]  ................................................................\n"
          ],
          "name": "stdout"
        },
        {
          "output_type": "stream",
          "text": [
            "[Parallel(n_jobs=1)]: Done   3 out of   3 | elapsed:   20.7s remaining:    0.0s\n"
          ],
          "name": "stderr"
        },
        {
          "output_type": "stream",
          "text": [
            "[CV] ....................... , score=0.7313423690305301, total=   5.9s\n",
            "[CV]  ................................................................\n"
          ],
          "name": "stdout"
        },
        {
          "output_type": "stream",
          "text": [
            "[Parallel(n_jobs=1)]: Done   4 out of   4 | elapsed:   26.6s remaining:    0.0s\n"
          ],
          "name": "stderr"
        },
        {
          "output_type": "stream",
          "text": [
            "[CV] ....................... , score=0.7262873667154834, total=   5.8s\n"
          ],
          "name": "stdout"
        },
        {
          "output_type": "stream",
          "text": [
            "[Parallel(n_jobs=1)]: Done   5 out of   5 | elapsed:   32.4s remaining:    0.0s\n",
            "[Parallel(n_jobs=1)]: Done   5 out of   5 | elapsed:   32.4s finished\n"
          ],
          "name": "stderr"
        },
        {
          "output_type": "execute_result",
          "data": {
            "text/plain": [
              "array([0.64255274, 0.7130618 , 0.73042259, 0.73134237, 0.72628737])"
            ]
          },
          "metadata": {
            "tags": []
          },
          "execution_count": 17
        }
      ]
    },
    {
      "metadata": {
        "id": "6lOn8XWDiY7v",
        "colab_type": "code",
        "colab": {}
      },
      "cell_type": "code",
      "source": [
        "# Check Out of Bag\n",
        "from sklearn.metrics import roc_auc_score"
      ],
      "execution_count": 0,
      "outputs": []
    },
    {
      "metadata": {
        "id": "p-W_LCOyiikv",
        "colab_type": "code",
        "colab": {
          "base_uri": "https://localhost:8080/",
          "height": 69
        },
        "outputId": "5cbb8622-fd1f-4cff-b6c4-2888e5bdcd1e"
      },
      "cell_type": "code",
      "source": [
        "%%time\n",
        "pipe.fit(X_train, y_train)\n",
        "y_pred_proba = pipe.named_steps['randomforestclassifier'].oob_decision_function_[:, 1]\n",
        "print('ROC AUC, Out-of-Bag estimate:', roc_auc_score(y_train, y_pred_proba))"
      ],
      "execution_count": 19,
      "outputs": [
        {
          "output_type": "stream",
          "text": [
            "ROC AUC, Out-of-Bag estimate: 0.7232336372886536\n",
            "CPU times: user 12.5 s, sys: 48.6 ms, total: 12.6 s\n",
            "Wall time: 6.68 s\n"
          ],
          "name": "stdout"
        }
      ]
    },
    {
      "metadata": {
        "id": "uzQ74jjdQM3F",
        "colab_type": "code",
        "colab": {}
      },
      "cell_type": "code",
      "source": [
        ""
      ],
      "execution_count": 0,
      "outputs": []
    },
    {
      "metadata": {
        "id": "F3k3f2MxQBWn",
        "colab_type": "text"
      },
      "cell_type": "markdown",
      "source": [
        "### Part 3: Visualization\n",
        "\n",
        "Make one visualization for model interpretation. (You may use any libraries.) Choose one of these types:\n",
        "- Feature Importances\n",
        "- Permutation Importances\n",
        "- Partial Dependence Plot\n",
        "\n",
        "_To earn a score of 3 for this part, make at least two of these visualization types._"
      ]
    },
    {
      "metadata": {
        "id": "1hvnSM_AkNsF",
        "colab_type": "text"
      },
      "cell_type": "markdown",
      "source": [
        "#### Feature Importance Viz"
      ]
    },
    {
      "metadata": {
        "id": "AwKhpXArQIIz",
        "colab_type": "code",
        "colab": {
          "base_uri": "https://localhost:8080/",
          "height": 484
        },
        "outputId": "afeb5857-a980-4aec-a211-1895121f4c64"
      },
      "cell_type": "code",
      "source": [
        "def show_feature_importances(\n",
        "    pipe, X, y, estimator_name='randomforestclassifier', \n",
        "    n=20, figsize=(8, 8)):\n",
        "    \n",
        "    # pipe must not change dimensions of X dataframe\n",
        "    pipe.fit(X, y)\n",
        "    \n",
        "    importances = pd.Series(\n",
        "        pipe.named_steps[estimator_name].feature_importances_, \n",
        "        X.columns)\n",
        "\n",
        "    top_n = importances.sort_values(ascending=False)[:n]\n",
        "    \n",
        "    plt.figure(figsize=figsize)\n",
        "    top_n.sort_values().plot.barh(color='grey')\n",
        "\n",
        "    \n",
        "show_feature_importances(pipe, X_train, y_train)"
      ],
      "execution_count": 20,
      "outputs": [
        {
          "output_type": "display_data",
          "data": {
            "image/png": "[encoded data removed]",
            "text/plain": [
              "<Figure size 576x576 with 1 Axes>"
            ]
          },
          "metadata": {
            "tags": []
          }
        }
      ]
    },
    {
      "metadata": {
        "id": "-CDuA2u1kZmH",
        "colab_type": "code",
        "colab": {
          "base_uri": "https://localhost:8080/",
          "height": 296
        },
        "outputId": "cd89d111-85d4-47f4-aa2b-07e9c2d1bcda"
      },
      "cell_type": "code",
      "source": [
        "!pip install eli5"
      ],
      "execution_count": 22,
      "outputs": [
        {
          "output_type": "stream",
          "text": [
            "Collecting eli5\n",
            "\u001b[?25l  Downloading https://files.pythonhosted.org/packages/8d/c8/04bed18dcce1d927b0dd5fc3425777354b714d2e62d60ae301928b5a5bf8/eli5-0.8.1-py2.py3-none-any.whl (98kB)\n",
            "\u001b[K    100% |████████████████████████████████| 102kB 3.4MB/s \n",
            "\u001b[?25hRequirement already satisfied: attrs>16.0.0 in /usr/local/lib/python3.6/dist-packages (from eli5) (19.1.0)\n",
            "Requirement already satisfied: graphviz in /usr/local/lib/python3.6/dist-packages (from eli5) (0.10.1)\n",
            "Requirement already satisfied: scipy in /usr/local/lib/python3.6/dist-packages (from eli5) (1.1.0)\n",
            "Requirement already satisfied: typing in /usr/local/lib/python3.6/dist-packages (from eli5) (3.6.6)\n",
            "Requirement already satisfied: tabulate>=0.7.7 in /usr/local/lib/python3.6/dist-packages (from eli5) (0.8.3)\n",
            "Requirement already satisfied: scikit-learn>=0.18 in /usr/local/lib/python3.6/dist-packages (from eli5) (0.20.3)\n",
            "Requirement already satisfied: six in /usr/local/lib/python3.6/dist-packages (from eli5) (1.11.0)\n",
            "Requirement already satisfied: jinja2 in /usr/local/lib/python3.6/dist-packages (from eli5) (2.10)\n",
            "Requirement already satisfied: numpy>=1.9.0 in /usr/local/lib/python3.6/dist-packages (from eli5) (1.14.6)\n",
            "Requirement already satisfied: MarkupSafe>=0.23 in /usr/local/lib/python3.6/dist-packages (from jinja2->eli5) (1.1.1)\n",
            "Installing collected packages: eli5\n",
            "Successfully installed eli5-0.8.1\n"
          ],
          "name": "stdout"
        }
      ]
    },
    {
      "metadata": {
        "id": "NMATHCqNQPET",
        "colab_type": "code",
        "colab": {
          "base_uri": "https://localhost:8080/",
          "height": 52
        },
        "outputId": "f7cdefae-7ba2-44f2-ba66-9f517dbf5271"
      },
      "cell_type": "code",
      "source": [
        "%%time\n",
        "import eli5\n",
        "from eli5.sklearn import PermutationImportance\n",
        "\n",
        "encoder = ce.OrdinalEncoder()\n",
        "X_train_transformed = encoder.fit_transform(X_train)\n",
        "\n",
        "model = RandomForestClassifier(\n",
        "    n_estimators=100, \n",
        "    class_weight='balanced', \n",
        "    min_samples_leaf=0.005, \n",
        "    n_jobs=-1)\n",
        "\n",
        "model.fit(X_train_transformed, y_train)\n",
        "permuter = PermutationImportance(model, scoring='roc_auc', n_iter=1, cv='prefit')\n",
        "permuter.fit(X_train_transformed, y_train)"
      ],
      "execution_count": 23,
      "outputs": [
        {
          "output_type": "stream",
          "text": [
            "CPU times: user 20.8 s, sys: 267 ms, total: 21.1 s\n",
            "Wall time: 11.5 s\n"
          ],
          "name": "stdout"
        }
      ]
    },
    {
      "metadata": {
        "id": "OC2XOG2lkXNe",
        "colab_type": "code",
        "colab": {
          "base_uri": "https://localhost:8080/",
          "height": 207
        },
        "outputId": "b14a1461-3050-4803-ce6d-ecf405853cab"
      },
      "cell_type": "code",
      "source": [
        "eli5.show_weights(permuter, top=None, feature_names=X_train_transformed.columns.tolist())"
      ],
      "execution_count": 24,
      "outputs": [
        {
          "output_type": "execute_result",
          "data": {
            "text/html": [
              "\n",
              "    <style>\n",
              "    table.eli5-weights tr:hover {\n",
              "        filter: brightness(85%);\n",
              "    }\n",
              "</style>\n",
              "\n",
              "\n",
              "\n",
              "    \n",
              "\n",
              "    \n",
              "\n",
              "    \n",
              "\n",
              "    \n",
              "\n",
              "    \n",
              "\n",
              "    \n",
              "\n",
              "\n",
              "    \n",
              "\n",
              "    \n",
              "\n",
              "    \n",
              "\n",
              "    \n",
              "\n",
              "    \n",
              "\n",
              "    \n",
              "\n",
              "\n",
              "    \n",
              "\n",
              "    \n",
              "\n",
              "    \n",
              "\n",
              "    \n",
              "\n",
              "    \n",
              "        <table class=\"eli5-weights eli5-feature-importances\" style=\"border-collapse: collapse; border: none; margin-top: 0em; table-layout: auto;\">\n",
              "    <thead>\n",
              "    <tr style=\"border: none;\">\n",
              "        <th style=\"padding: 0 1em 0 0.5em; text-align: right; border: none;\">Weight</th>\n",
              "        <th style=\"padding: 0 0.5em 0 0.5em; text-align: left; border: none;\">Feature</th>\n",
              "    </tr>\n",
              "    </thead>\n",
              "    <tbody>\n",
              "    \n",
              "        <tr style=\"background-color: hsl(120, 100.00%, 80.00%); border: none;\">\n",
              "            <td style=\"padding: 0 1em 0 0.5em; text-align: right; border: none;\">\n",
              "                0.1466\n",
              "                \n",
              "                    &plusmn; 0.0000\n",
              "                \n",
              "            </td>\n",
              "            <td style=\"padding: 0 0.5em 0 0.5em; text-align: left; border: none;\">\n",
              "                Inspection Type\n",
              "            </td>\n",
              "        </tr>\n",
              "    \n",
              "        <tr style=\"background-color: hsl(120, 100.00%, 87.69%); border: none;\">\n",
              "            <td style=\"padding: 0 1em 0 0.5em; text-align: right; border: none;\">\n",
              "                0.0733\n",
              "                \n",
              "                    &plusmn; 0.0000\n",
              "                \n",
              "            </td>\n",
              "            <td style=\"padding: 0 0.5em 0 0.5em; text-align: left; border: none;\">\n",
              "                Violations\n",
              "            </td>\n",
              "        </tr>\n",
              "    \n",
              "        <tr style=\"background-color: hsl(120, 100.00%, 90.35%); border: none;\">\n",
              "            <td style=\"padding: 0 1em 0 0.5em; text-align: right; border: none;\">\n",
              "                0.0518\n",
              "                \n",
              "                    &plusmn; 0.0000\n",
              "                \n",
              "            </td>\n",
              "            <td style=\"padding: 0 0.5em 0 0.5em; text-align: left; border: none;\">\n",
              "                Inspection ID\n",
              "            </td>\n",
              "        </tr>\n",
              "    \n",
              "        <tr style=\"background-color: hsl(120, 100.00%, 97.47%); border: none;\">\n",
              "            <td style=\"padding: 0 1em 0 0.5em; text-align: right; border: none;\">\n",
              "                0.0077\n",
              "                \n",
              "                    &plusmn; 0.0000\n",
              "                \n",
              "            </td>\n",
              "            <td style=\"padding: 0 0.5em 0 0.5em; text-align: left; border: none;\">\n",
              "                Address\n",
              "            </td>\n",
              "        </tr>\n",
              "    \n",
              "        <tr style=\"background-color: hsl(120, 100.00%, 97.59%); border: none;\">\n",
              "            <td style=\"padding: 0 1em 0 0.5em; text-align: right; border: none;\">\n",
              "                0.0071\n",
              "                \n",
              "                    &plusmn; 0.0000\n",
              "                \n",
              "            </td>\n",
              "            <td style=\"padding: 0 0.5em 0 0.5em; text-align: left; border: none;\">\n",
              "                Facility Type\n",
              "            </td>\n",
              "        </tr>\n",
              "    \n",
              "        <tr style=\"background-color: hsl(120, 100.00%, 97.67%); border: none;\">\n",
              "            <td style=\"padding: 0 1em 0 0.5em; text-align: right; border: none;\">\n",
              "                0.0068\n",
              "                \n",
              "                    &plusmn; 0.0000\n",
              "                \n",
              "            </td>\n",
              "            <td style=\"padding: 0 0.5em 0 0.5em; text-align: left; border: none;\">\n",
              "                Zip\n",
              "            </td>\n",
              "        </tr>\n",
              "    \n",
              "        <tr style=\"background-color: hsl(120, 100.00%, 97.77%); border: none;\">\n",
              "            <td style=\"padding: 0 1em 0 0.5em; text-align: right; border: none;\">\n",
              "                0.0064\n",
              "                \n",
              "                    &plusmn; 0.0000\n",
              "                \n",
              "            </td>\n",
              "            <td style=\"padding: 0 0.5em 0 0.5em; text-align: left; border: none;\">\n",
              "                AKA Name\n",
              "            </td>\n",
              "        </tr>\n",
              "    \n",
              "        <tr style=\"background-color: hsl(120, 100.00%, 97.91%); border: none;\">\n",
              "            <td style=\"padding: 0 1em 0 0.5em; text-align: right; border: none;\">\n",
              "                0.0058\n",
              "                \n",
              "                    &plusmn; 0.0000\n",
              "                \n",
              "            </td>\n",
              "            <td style=\"padding: 0 0.5em 0 0.5em; text-align: left; border: none;\">\n",
              "                Risk\n",
              "            </td>\n",
              "        </tr>\n",
              "    \n",
              "        <tr style=\"background-color: hsl(120, 100.00%, 98.00%); border: none;\">\n",
              "            <td style=\"padding: 0 1em 0 0.5em; text-align: right; border: none;\">\n",
              "                0.0055\n",
              "                \n",
              "                    &plusmn; 0.0000\n",
              "                \n",
              "            </td>\n",
              "            <td style=\"padding: 0 0.5em 0 0.5em; text-align: left; border: none;\">\n",
              "                DBA Name\n",
              "            </td>\n",
              "        </tr>\n",
              "    \n",
              "        <tr style=\"background-color: hsl(120, 100.00%, 98.57%); border: none;\">\n",
              "            <td style=\"padding: 0 1em 0 0.5em; text-align: right; border: none;\">\n",
              "                0.0034\n",
              "                \n",
              "                    &plusmn; 0.0000\n",
              "                \n",
              "            </td>\n",
              "            <td style=\"padding: 0 0.5em 0 0.5em; text-align: left; border: none;\">\n",
              "                Inspection Date\n",
              "            </td>\n",
              "        </tr>\n",
              "    \n",
              "    \n",
              "    </tbody>\n",
              "</table>\n",
              "    \n",
              "\n",
              "    \n",
              "\n",
              "\n",
              "    \n",
              "\n",
              "    \n",
              "\n",
              "    \n",
              "\n",
              "    \n",
              "\n",
              "    \n",
              "\n",
              "    \n",
              "\n",
              "\n",
              "\n"
            ],
            "text/plain": [
              "<IPython.core.display.HTML object>"
            ]
          },
          "metadata": {
            "tags": []
          },
          "execution_count": 24
        }
      ]
    },
    {
      "metadata": {
        "id": "y1xUNEiVkgTk",
        "colab_type": "code",
        "colab": {}
      },
      "cell_type": "code",
      "source": [
        ""
      ],
      "execution_count": 0,
      "outputs": []
    }
  ]
}
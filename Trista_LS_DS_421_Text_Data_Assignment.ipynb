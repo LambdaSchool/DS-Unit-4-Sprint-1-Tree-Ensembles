{
  "nbformat": 4,
  "nbformat_minor": 0,
  "metadata": {
    "colab": {
      "name": "Trista LS_DS_421_Text_Data_Assignment.ipynb",
      "version": "0.3.2",
      "provenance": [],
      "collapsed_sections": [],
      "include_colab_link": true
    },
    "language_info": {
      "codemirror_mode": {
        "name": "ipython",
        "version": 3
      },
      "file_extension": ".py",
      "mimetype": "text/x-python",
      "name": "python",
      "nbconvert_exporter": "python",
      "pygments_lexer": "ipython3",
      "version": "3.7.3"
    },
    "kernelspec": {
      "display_name": "Python 3",
      "language": "python",
      "name": "python3"
    }
  },
  "cells": [
    {
      "cell_type": "markdown",
      "metadata": {
        "id": "view-in-github",
        "colab_type": "text"
      },
      "source": [
        "<a href=\"https://colab.research.google.com/github/trista-paul/DS-Unit-4-Sprint-1-Tree-Ensembles/blob/master/Trista_LS_DS_421_Text_Data_Assignment.ipynb\" target=\"_parent\"><img src=\"https://colab.research.google.com/assets/colab-badge.svg\" alt=\"Open In Colab\"/></a>"
      ]
    },
    {
      "metadata": {
        "id": "mJU7lkVq0yUs",
        "colab_type": "text"
      },
      "cell_type": "markdown",
      "source": [
        "<img align=\"left\" src=\"https://lever-client-logos.s3.amazonaws.com/864372b1-534c-480e-acd5-9711f850815c-1524247202159.png\" width=200>\n",
        "<br></br>\n",
        "<br></br>\n",
        "\n",
        "## *Data Science Unit 4 Sprint 2 Assignment 1*\n",
        "\n",
        "# Natural Language Processing (NLP)"
      ]
    },
    {
      "metadata": {
        "colab_type": "text",
        "id": "qGUBe2FXilzx"
      },
      "cell_type": "markdown",
      "source": [
        "# 1. String Basics"
      ]
    },
    {
      "metadata": {
        "colab_type": "text",
        "id": "UwLjaXPCqACb"
      },
      "cell_type": "markdown",
      "source": [
        "## 1.1 Count Characters\n",
        "\n",
        "Write a function to count the character frequency of any string, and return the counts as a dictionary.\n",
        "\n",
        "\"google.com\" -> {'o': 3, 'g': 2, '.': 1, 'e': 1, 'l': 1, 'm': 1, 'c': 1}"
      ]
    },
    {
      "metadata": {
        "colab_type": "code",
        "id": "9Kk5bS5ujbwH",
        "outputId": "57975b86-3615-47f1-f0d8-aa593f211362",
        "colab": {
          "base_uri": "https://localhost:8080/",
          "height": 34
        }
      },
      "cell_type": "code",
      "source": [
        "def character_count(string):\n",
        "  counts = {}\n",
        "  for character in string:\n",
        "    if character in counts:\n",
        "      counts[character] = counts[character] + 1\n",
        "    else:\n",
        "      counts[character] = 1\n",
        "  return counts\n",
        "\n",
        "character_count('google.com')"
      ],
      "execution_count": 4,
      "outputs": [
        {
          "output_type": "execute_result",
          "data": {
            "text/plain": [
              "{'.': 1, 'c': 1, 'e': 1, 'g': 2, 'l': 1, 'm': 1, 'o': 3}"
            ]
          },
          "metadata": {
            "tags": []
          },
          "execution_count": 4
        }
      ]
    },
    {
      "metadata": {
        "colab_type": "text",
        "id": "mq2yhAciqH6w"
      },
      "cell_type": "markdown",
      "source": [
        "## 1.2 Replace Characters\n",
        "\n",
        "Write a function that takes in two parameters: 1) a string of text and 2) individual character. This function should return a new string of text where any of the specified character has been replaced with dollar signs: `$` "
      ]
    },
    {
      "metadata": {
        "id": "80VLafg40yU9",
        "colab_type": "code",
        "colab": {
          "base_uri": "https://localhost:8080/",
          "height": 34
        },
        "outputId": "74b950c6-c808-4511-b2e9-847304bb80bc"
      },
      "cell_type": "code",
      "source": [
        "def redact(string, to_redact, redaction_char=\"$\"):\n",
        "    string = string.replace(to_redact, redaction_char)\n",
        "    return string\n",
        "  \n",
        "redact('assiduous', 's')"
      ],
      "execution_count": 5,
      "outputs": [
        {
          "output_type": "execute_result",
          "data": {
            "text/plain": [
              "'a$$iduou$'"
            ]
          },
          "metadata": {
            "tags": []
          },
          "execution_count": 5
        }
      ]
    },
    {
      "metadata": {
        "colab_type": "text",
        "id": "v8iy3BKuq--f"
      },
      "cell_type": "markdown",
      "source": [
        "## 1.3 Slice Suffixes\n",
        "\n",
        "Write a function that removes common suffixes from the ends of words. As a minimum this function should remove the suffixes: \"ed\",  \"ing\", \"es\", \"tion\", \"ly\"\n",
        "\n",
        "\"The daring fox leaped through the air gracefully, his eyes fixated on the capitulation of his prey.\" -> \n",
        "\n",
        "\"The dar fox leap through the air graceful, his ey fixat on the capitula of his prey.\""
      ]
    },
    {
      "metadata": {
        "id": "yFoXNdfS0yVC",
        "colab_type": "code",
        "colab": {
          "base_uri": "https://localhost:8080/",
          "height": 54
        },
        "outputId": "9a0be0f1-7e46-44cd-f0be-6fbb8ab22b23"
      },
      "cell_type": "code",
      "source": [
        "def remove_suffix(string, stopwords=['ed', 'ing', 'es', 'tion', 'ly']):\n",
        "    words = string.split(\" \")\n",
        "    for suffix in stopwords:\n",
        "        index = 0\n",
        "        for word in words:\n",
        "            if suffix in word:\n",
        "                partition = word.partition(suffix)\n",
        "                words[index] = partition[0]\n",
        "                index = index + 1\n",
        "            else:\n",
        "                index = index+1\n",
        "    return \" \".join(words)\n",
        "  \n",
        "string = \"The daring fox leaped through the air gracefully, his eyes fixated on the capitulation of his prey.\"\n",
        "remove_suffix(string)"
      ],
      "execution_count": 6,
      "outputs": [
        {
          "output_type": "execute_result",
          "data": {
            "text/plain": [
              "'The dar fox leap through the air graceful his ey fixat on the capitula of his prey.'"
            ]
          },
          "metadata": {
            "tags": []
          },
          "execution_count": 6
        }
      ]
    },
    {
      "metadata": {
        "colab_type": "text",
        "id": "hAAJTIN_trH3"
      },
      "cell_type": "markdown",
      "source": [
        "## 1.4 Remove Stopwords\n",
        "\n",
        "Write a function that removes common \"stopwords\" from text. "
      ]
    },
    {
      "metadata": {
        "colab_type": "code",
        "id": "QbHQkte9t_gK",
        "colab": {}
      },
      "cell_type": "code",
      "source": [
        "stopwords = ['i','me','my','myself','we','our','ours','ourselves',\n",
        "'you','your','yours','yourself','yourselves','he','him','his','himself',\n",
        "'she','her','hers','herself','it','its','itself','they','them','their',\n",
        "'theirs','themselves','what','which','who','whom','this','that','these',\n",
        "'those','am','is','are','was','were','be','been','being','have','has',\n",
        "'had','having','do','does','did','doing','a','an','the','and','but',\n",
        "'if','or','because','as','until','while','of','at','by','for','with',\n",
        "'about','against','between','into','through','during','before','after',\n",
        "'above','below','to','from','up','down','in','out','on','off','over',\n",
        "'under','again','further','then','once','here','there','when','where',\n",
        "'why','how','all','any','both','each','few','more','most','other','some',\n",
        "'such','no','nor','not','only','own','same','so','than','too','very',\n",
        "'s','t','can','will','just','don','should','now']"
      ],
      "execution_count": 0,
      "outputs": []
    },
    {
      "metadata": {
        "id": "g6fryHuX0yVM",
        "colab_type": "code",
        "colab": {
          "base_uri": "https://localhost:8080/",
          "height": 34
        },
        "outputId": "2224390e-2f4a-4ffb-c84a-c958be63890f"
      },
      "cell_type": "code",
      "source": [
        "def remove_stopwords(string, stopwords):\n",
        "  \n",
        "  #formatting\n",
        "  string = string.lower()\n",
        "  string = string.strip(\"\\n\")\n",
        "\n",
        "  words = string.split(\" \")\n",
        "  for stopword in stopwords:\n",
        "    index = 0\n",
        "    for word in words:\n",
        "      if word == stopword:\n",
        "        word = word.replace(stopword, \"\")\n",
        "        words[index] = word\n",
        "        index = index + 1\n",
        "      else:\n",
        "        index = index + 1\n",
        "  #we replaced with None rather than delete to preserve index\n",
        "  #so all stopwords could be looped for all words\n",
        "  #we now remove the placeholders\n",
        "  words = filter(None, words)\n",
        "  return \" \".join(words)\n",
        "\n",
        "remove_stopwords(string, stopwords)"
      ],
      "execution_count": 28,
      "outputs": [
        {
          "output_type": "execute_result",
          "data": {
            "text/plain": [
              "'daring fox leaped air gracefully, eyes fixated capitulation prey.'"
            ]
          },
          "metadata": {
            "tags": []
          },
          "execution_count": 28
        }
      ]
    },
    {
      "metadata": {
        "colab_type": "text",
        "id": "EKEER1R3vyDM"
      },
      "cell_type": "markdown",
      "source": [
        "## 1.5 Vectorize Words\n",
        "\n",
        "Below is a list of three strings. Each string is a job listing with the job title of \"data scientist\" from indeed.com. Write a function that does two things:\n",
        "\n",
        "1) Removes stopwords from each listing (uses above function)\n",
        "\n",
        "2) Creates a dataframe where the header of each column is a particular word and each cell of the dataframe should be a 1 or 0 denoting whether that word is present or not in the job listing a body of text. The final dataframe should only have 3 rows, one for each of the three job listings.\n",
        "\n",
        "Your final dataframe should not include any of the stopwords."
      ]
    },
    {
      "metadata": {
        "colab_type": "code",
        "id": "BmEykH6byT5n",
        "colab": {}
      },
      "cell_type": "code",
      "source": [
        "job_listings = ['Part-time, Contract, Internship\\nSr. Machine Learning/Data Scientist\\n\\ndata245, Bannockburn, IL seeks data scientists.\\n\\nWe are open to all levels of experience (down to an intern) as we are building a team around new initiatives.\\n\\nYou will be developing state of the art algorithms to power various aspects of highly complex business models\\nYou can articulate and understand a business problem, identify challenges, formulate the machine learning problem or NLP problems and provide/prototype solutions\\nYou will provide technical leadership, identify and understand key business challenges and opportunities, and develop end-to-end software solutions using machine learning/NLP and optimization methods.\\n\\nYou will collaborate extensively with internal and external partners, program management, and, at a senior level, the engineering team to ensure that solution meet business needs, permit valid inferences and have functional feasibility\\nYou will collect and manipulate large volumes of data; build new and improved techniques and/or solutions for data collection, management, and usage\\nYou will communicate results in a comprehensible manner to all levels of the company (field teams up to Snr. Management) - this will require client facing in the future - but not initially\\nYou will brainstorm with other team members and leadership - who has 30 plus years experience in the industry that requires the solution.\\nRequirements:\\n\\nPHD or MS in Statistics, Machine Learning, or Computer Science (or technical degree with commensurate industry experience)\\nIdeally the Senior position will possess at least 3 years of relevant work - or academic academic experience, as a Data Scientist / Machine Learning professional.\\nExpertise in NLP a bonus\\nStrong algorithmic design skills\\nOther positions require less tenure, but the same relevant ML understanding.\\nPrevious hands on experience, or thesis dedicated to the same\\nDeep understanding of classic machine learning and deep learning theory, and extensive hands-on experience putting it into practice\\nExcellent understanding of machine learning algorithms, processes, tools and platforms including CNN, RNN, NLP, tensorflow, keras, etc.\\nPython proficiency is must\\nApplied experience with machine learning on large datasets\\\\sparse data with structured and unstructured data.\\nExperience with deep learning, and their optimizations for efficient implementation.\\nGreat communication skills, ability to explain predictive analytics to non-technical audience (not client facing yet, and no sales)\\nExperienced in predictive modelling.\\nExecute analytical experiments methodically while outputting reproducible research.\\nExcited to change an industry struggling to control costs.\\nGood to have – Familiar with one or more programming languages e.g. C++ / Java / Android / iOS\".\\nJob Types: Full-time, Part-time, Internship, Contract\\n\\nSalary: $75,000.00 to $125,000.00 /year\\n\\nEducation:\\n\\nMaster\\'s (Preferred)\\nWork authorization:\\n\\nUnited States (Preferred)\\nHours per week:\\n\\n30-39\\nOvertime often available:\\n\\nNo\\nContract Length:\\n\\nMore than 1 year\\nTypical end time:\\n\\n5PM', \"$96,970 - $148,967 a year\\nThe professionals at the National Security Agency (NSA) have one common goal: to protect our nation. The mission requires a strong offense and a steadfast defense. The offense collects, processes, and disseminates intelligence information derived from foreign signals for intelligence and counterintelligence purposes. The defense prevents adversaries from gaining access to sensitive classified national security information. NSA is the nation's leader in providing foreign signals intelligence while also protecting U.S. government information systems, forging the frontier of communications, and data analysis. We serve the American people by applying technical skills to meaningful work, keeping our friends and families safe for generations to come. You will make a lasting impact serving your country as a Data Scientist at the National Security Agency, using your curiosity to analyze large data sets to inform decision-making against foreign threats. We are looking for critical thinkers, problem solvers, and motivated individuals who are enthusiastic about data and believe that answers to hard questions lie in the yet-to-be-told story of diverse, complicated data sets. You will employ your mathematical science, computer science, and quantitative analysis skills to ensure solutions to complex data problems and take full advantage of the NSA's software and hardware capabilities in all areas of our enterprise, including analytic capabilities, research, and foreign intelligence operations. Data Scientists are hired into positions directly supporting a technical mission office or the Data Scientist Development Program (DSDP). The NSA/CSS Data Scientist Development Program is a three-year opportunity to build your data science talent, experience the breadth of data science at NSA through six- to nine-month assignments in a variety of diverse organizations, and collaborate with NSA's experts in the field of data science. You will have opportunities to attend technical conferences with experts from industry and academia. You will routinely discuss and share NSA's challenges and successes at weekly technical roundtables. We foster an environment where you will develop your data science skills, allowing you to quickly contribute to NSA's mission. As a member of a technical mission office or the DSDP, Data Scientists tackle challenging real-world problems leveraging big data, high-performance computing, machine learning, and a breadth of other methodologies. As a Data Scientist at NSA, responsibilities may include: - Collecting and combining data from multiple sources - Uncovering and exploring anomalous data (including metadata) - Applying the scientific process to data evaluation, performing statistical inference, and data mining - Developing analytic plans, engineer supporting algorithms, and design and implement solutions which execute analytic plans. - Designing and developing tools and techniques for analysis - Analyzing data using mathematical/statistical methods - Evaluating, documenting, and communicating research processes, analyses, and results to customers, peers, and leadership - Creating interpretable visualizations\\n\\nSkills\\n\\nThe ideal candidate is someone with a desire for continual learning and strong problem-solving, analytic and interpersonal skills. You might be a great fit for our team if any of the following describe you: - Completed a degree program in the fields of mathematics, statistics, computer science, computational sciences, or a passion for rigorous analysis of data - Tenacity, integrity, persistence, and willingness to learn - Ability to solve complex problems - Use critical thinking and reasoning to make analytic determinations - Works effectively in a collaborative environment - Strong communications skills to both technical and non-technical audiences - The desire to serve over 300 million fellow Americans and make a difference in world events\\n\\nPay, Benefits, & Work Schedule\\n\\nOn the job training, internal NSA courses, and external training will be made available based on the need and experience of the selectee. Monday - Friday, with basic 8 hr/day requirements between 0800 to 1800 (flexible)\\n\\nPosition Summary\\n\\nNSA is in search of Computer Science professionals to solve complex problems, test innovative approaches and research new solutions to storing, manipulating, and presenting information. We are looking for you to apply your computer science expertise to projects that seek to create new standards for the transformation of information. If you want to develop technologies and tools and be a part of cutting edge innovations ' join our team of experts! Help protect national security interests as part of the world's most advanced team of computer science professionals!\\n\\nMandatory Qualification Reqs\\n\\nCandidates for the NSA's Data Scientist roles are asked to complete a data science examination evaluating their knowledge of statistics, mathematics, and computer science topics that pertain to data science work. Passing this examination is a requirement in order to be considered for selection into a data scientist position. Salary Range: $69,545 - $86,659 (Entry Level/Developmental) *The qualifications listed are the minimum acceptable to be considered for the position. Salary offers are based on candidates' education level and years of experience relevant to the position and also take into account information provided by the hiring manager/organization regarding the work level for the position. Entry is with a Bachelor's degree and no experience. An Associate's degree plus 2 years of relevant experience may be considered for individuals with in-depth experience that is clearly related to the position. Degree must be in Mathematics, Applied Mathematics, Statistics, Applied Statistics, Machine Learning, Data Science, Operations Research, or Computer Science. A degree in a related field (e.g., Computer Information Systems, Engineering), a degree in the physical/hard sciences (e.g. physics, chemistry, biology, astronomy), or other science disciplines (i.e., behavioral, social, and life) may be considered if it includes a concentration of coursework (typically 5 or more courses) in advanced mathematics (typically 200 level or higher; such as calculus, differential equations, discrete mathematics) and/or computer science (e.g., algorithms, programming, data structures, data mining, artificial intelligence). College-level Algebra or other math courses intended to meet a basic college level requirement, or upper level math courses designated as elementary or basic do not count. Note: A broader range of degrees will be considered if accompanied by a Certificate in Data Science from an accredited college/university.\\n\\nRelevant experience must be in designing/implementing machine learning, data mining, advanced analytical algorithms, programming, data science, advanced statistical analysis, artificial intelligence, and/or software engineering. Experience in more than one area is strongly preferred. Salary Range: $80,445 - $107,140 (Full Performance) *The qualifications listed are the minimum acceptable to be considered for the position. Salary offers are based on candidates' education level and years of experience relevant to the position and also take into account information provided by the hiring manager/organization regarding the work level for the position. Entry is with a Bachelor's degree plus 3 years of relevant experience or a Master's degree plus 1 year of relevant experience or a Doctoral degree and no experience. An Associate's degree plus 5 years of relevant experience may be considered for individuals with in-depth experience that is clearly related to the position.\\nDegree must be in Mathematics, Applied Mathematics, Statistics, Applied Statistics, Machine Learning, Data Science, Operations Research, or Computer Science. A degree in a related field (e.g., Computer Information Systems, Engineering), a degree in the physical/hard sciences (e.g. physics, chemistry, biology, astronomy), or other science disciplines (i.e., behavioral, social, and life) may be considered if it includes a concentration of coursework (typically 5 or more courses) in advanced mathematics (typically 200 level or higher; such as calculus, differential equations, discrete mathematics) and/or computer science (e.g., algorithms, programming, data structures, data mining, artificial intelligence). College-level Algebra or other math courses intended to meet a basic college level requirement, or upper level math courses designated as elementary or basic do not count. Note: A broader range of degrees will be considered if accompanied by a Certificate in Data Science from an accredited college/university. Relevant experience must be in two or more of the following: designing/implementing machine learning, data mining, advanced analytical algorithms, programming, data science, advanced statistical analysis, artificial intelligence, or software engineering. Salary Range: $96,970 - $148,967 (Senior) *The qualifications listed are the minimum acceptable to be considered for the position. Salary offers are based on candidates' education level and years of experience relevant to the position and also take into account information provided by the hiring manager/organization regarding the work level for the position. Entry is with a Bachelor's degree plus 6 years of relevant experience or a Master's degree plus 4 years of relevant experience or a Doctoral degree plus 2 years of relevant experience. An Associate's degree plus 8 years of relevant experience may be considered for individuals with in-depth experience that is clearly related to the position. Degree must be in Mathematics, Applied Mathematics, Statistics, Applied Statistics, Machine Learning, Data Science, Operations Research, or Computer Science. A degree in a related field (e.g., Computer Information Systems, Engineering), a degree in the physical/hard sciences (e.g., physics, chemistry, biology, astronomy), or other science disciplines (i.e., behavioral, social, life) may be considered if it includes a concentration of coursework (typically 5 or more courses) in advanced mathematics (typically 200 level or higher; such as calculus, differential equations, discrete mathematics) and/or computer science (e.g., algorithms, programming, data structures, data mining, artificial intelligence). College-level Algebra or other math courses intended to meet a basic college level requirement, or upper level math courses designated as elementary or basic do not count. Note: A broader range of degrees will be considered if accompanied by a Certificate in Data Science from an accredited college/university. Relevant experience must be in two or more of the following: designing/implementing machine learning, data mining, advanced analytical algorithms, programming, data science, advanced statistical analysis, artificial intelligence, or software engineering. Salary Range: $134,789- $164,200 (Expert) *The qualifications listed are the minimum acceptable to be considered for the position. Salary offers are based on candidates' education level and years of experience relevant to the position and also take into account information provided by the hiring manager/organization regarding the work level for the position. Entry is with a Bachelor's degree plus 9 years of relevant experience or a Master's degree plus 7 years of relevant experience or a Doctoral degree plus 5 years of relevant experience. An Associate's degree plus 11 years of relevant experience may be considered for individuals with in-depth experience that is clearly related to the position. Degree must be in Mathematics, Applied Mathematics, Statistics, Applied Statistics, Machine Learning, Data Science, Operations Research, or Computer Science. A degree in a related field (e.g., Computer Information Systems, Engineering), a degree in the physical/hard sciences (e.g., physics, chemistry, biology, astronomy), or other science disciplines (i.e., behavioral, social, life) may be considered if it includes a concentration of coursework (typically 5 or more courses) in advanced mathematics (typically 200 level or higher; such as calculus, differential equations, discrete mathematics) and/or computer science (e.g., algorithms, programming, data structures, data mining, artificial intelligence). College-level Algebra or other math courses intended to meet a basic college level requirement, or upper level math courses designated as elementary or basic do not count. Note: A broader range of degrees will be considered if accompanied by a Certificate in Data Science from an accredited college/university. Relevant experience must be in two or more of the following: designing/implementing machine learning, data mining, advanced analytical algorithms, programming, data science, advanced statistical analysis, artificial intelligence, or software engineering.\\n\\nHow To Apply - External\\n\\nTo apply for this position, please click the 'Apply' button located at the top right of this posting. After completing the application for the first time, or reviewing previously entered information, and clicking the 'Submit' button, you will receive a confirmation email. Please ensure your spam filters are configured to accept emails from noreply@intelligencecareers.gov. ***PLEASE NOTE: U.S. Citizenship is required for all applicants. Reasonable accommodations provided to applicants with disabilities during the application and hiring process where appropriate. NSA is an equal opportunity employer and abides by applicable employment laws and regulations. All applicants and employees are subject to random drug testing in accordance with Executive Order 12564. Employment is contingent upon successful completion of a security background investigation and polygraph. This position is a Defense Civilian Intelligence Personnel System (DCIPS) position in the Excepted Service under 10 U.S.C. 1601. DoD Components with DCIPS positions apply Veterans' Preference to eligible candidates as defined by Section 2108 of Title 5 USC, in accordance with the procedures provided in DoD Instruction 1400.25, Volume 2005, DCIPS Employment and Placement. If you are a veteran claiming veterans' preference, as defined by Section 2108 of Title 5 U.S.C., you may be asked to submit documents verifying your eligibility. Please note that you may be asked a series of questions depending on the position you apply for. Your responses will be used as part of the screening process of your application and will assist in determining your eligibility for the position. Be sure to elaborate on experiences in your resume. Failure to provide the required information or providing inaccurate information will result in your application not being considered for this position. Only those applicants who meet the qualifications for the position will be contacted to begin employment processing. Please Note: Job Posting could close earlier than the closing date due to sufficient number of applicants or position no longer available. We encourage you to apply as soon as possible.\\n\\nDCIPS Disclaimer\\n\\nThe National Security Agency (NSA) is part of the DoD Intelligence Community Defense Civilian Intelligence Personnel System (DCIPS). All positions in the NSA are in the Excepted Services under 10 United States Codes (USC) 1601 appointment authority.\",\n",
        "                '\\nMinneapolis, Providence or Framingham\\n\\nWho is Virgin Pulse?\\nVirgin Pulse, founded as part of Sir Richard Branson’s famed Virgin Group, helps organizations build employee health and wellbeing into the DNA of their corporate cultures. As the only company to deliver a powerful, mobile-first digital platform infused with live services, including coaching and biometric screenings, Virgin Pulse’s takes a high-tech-meets-high-touch-approach to engage employees in improving across all aspects of their health and wellbeing, every day – from prevention and building a healthy lifestyle to condition and disease management to condition reversal, all while engaging users daily in building and sustaining healthy habits and behaviors. A global leader in health and wellbeing, Virgin Pulse is committed to helping change lives and businesses around the world for good so that people and organizations can thrive, together. Today, more than 3100 organizations across the globe are using Virgin Pulse’s solutions to improve health, employee wellbeing and engagement, reduce costs and create strong workplace cultures.\\n\\nWho are our employees?\\nAt Virgin Pulse we’re passionate about changing lives for good. We want to make a difference in the world by helping people be healthy so they can perform at their best, every day, at work and home. Our award-winning solutions support leading employers in improving and simplifying the employee health and wellbeing journey and engaging people in all aspects of their health. But our world-class products and programs are nothing without our people – the employees who design, build, promote, sell, test and perfect the latest innovations in workplace health and wellbeing. Our people are our top priority and we invest in their health and happiness. At Virgin Pulse, we have so much more than a strong, supportive company culture – have a shared vision for a healthier, happier world.\\nWho you are.\\nYou are an experienced Data Scientist who is capable of providing support to our organization’s efforts to maintain an innovative leadership position in the employee engagement SaaS industry. The Data Scientist accesses datasets from various sources, conducts analysis, and presents the findings of each analytic and reporting project. The incumbent will be able to interpret the findings and clearly communicate results and recommendations to internal and external customers. Moreover, you are a professional who is self-directed and thrives working in a fast-paced, collaborative environment, in which expectations are high both for the quality and speed of work.\\nIn the role of a Data Scientist you will wear many hats and your skills will be crucial in the following:\\nWrite SQL, R, Python programs to access, clean, and transform required data prior to analysis and reporting\\nConsult to and collaborate with analytics and client reporting team members to ensure appropriate data is analyzed and that results are provided in a format consistent with standard and customized client reporting services\\nTroubleshoot and perform data audits to ensure and improve data integrity; investigate and resolve data discrepancies\\nPlan and manage data analytic and reporting process to ensure the projects remain on schedule\\nConduct ad hoc analysis as required using varied analytical tools and techniques\\nSupport Client Success, sales and Marketing staff with direct communication with Virgin Pulse clients and prospects regarding the results of the analysis\\nAchieve annual Key Performance Indicator objectives, which can include report volumes and scope, internal and external client satisfaction, introducing new areas of data and analysis, and influencing company product and process decisions\\n\\nWhat you bring to the team.\\nIn order to represent the best of what we have to offer, you come to us with a multitude of positive attributes including:\\nA bachelor’s degree in statistics, computer science, economics, or related field; Master’s degree is a plus\\nA minimum of four years of work experience in a similar position\\nExperience with data and analytic programming languages such as SQL, R, Python\\nExperience with data visualization tools and techniques preferred\\nExperience with producing and delivering results using varied media (i.e., multiple MS office formats, dashboards/visualization tools, and potentially other formats)\\nExperience in employee health management/health engagement industry preferred\\n\\nIn addition, you possess the following additional competencies and characteristics:\\nStrong analytical skills, with an emphasis on quantitative analysis, descriptive and inferential statistics\\nExpertise in statistical analytical software, or the ability to learn through prior experience tools such as SAS, Stata, R, SPSS or similar statistical software\\nStrong consulting, communication and presentation skills\\nAdvanced R, SQL and database programming skills, experience with MS SQL Server, RedShift, Postgres, and Cassandra/NOSQL databases\\nExperience working with large-scale datasets and multiple projects simultaneously\\nCreative energy, self-starter, works equally well independently and collaboratively']"
      ],
      "execution_count": 0,
      "outputs": []
    },
    {
      "metadata": {
        "id": "d_XgEDrlMasj",
        "colab_type": "code",
        "colab": {}
      },
      "cell_type": "code",
      "source": [
        "import pandas as pd\n",
        "import numpy as np\n",
        "import re"
      ],
      "execution_count": 0,
      "outputs": []
    },
    {
      "metadata": {
        "id": "ugZBJoIe0yVU",
        "colab_type": "code",
        "outputId": "995b6fc7-f61a-4164-a55c-cdd6b0f216e4",
        "colab": {
          "base_uri": "https://localhost:8080/",
          "height": 185
        }
      },
      "cell_type": "code",
      "source": [
        "def make_df(list_of_strings, stopwords):\n",
        "  #remove stopwords:\n",
        "  index = 0\n",
        "  for string in list_of_strings:\n",
        "      string = remove_stopwords(string, stopwords)\n",
        "      list_of_strings[index] = string\n",
        "      index = index + 1\n",
        "  #make dataframe with columns = stopwords that evaluates each row for stopwords\n",
        "  #evaluate each string for stopwords and add as row\n",
        "  data = []\n",
        "  for string in list_of_strings:\n",
        "      row = []\n",
        "      for stopword in stopwords:\n",
        "          if re.search(\"\\s\"+str(stopword)+\"\\s\", string) != None:\n",
        "              row.append(1)\n",
        "          else:\n",
        "              row.append(0)\n",
        "      data.append(row)\n",
        "  df = pd.DataFrame(data, columns=stopwords)\n",
        "  return df\n",
        "\n",
        "make_df(job_listings, stopwords)"
      ],
      "execution_count": 29,
      "outputs": [
        {
          "output_type": "execute_result",
          "data": {
            "text/html": [
              "<div>\n",
              "<style scoped>\n",
              "    .dataframe tbody tr th:only-of-type {\n",
              "        vertical-align: middle;\n",
              "    }\n",
              "\n",
              "    .dataframe tbody tr th {\n",
              "        vertical-align: top;\n",
              "    }\n",
              "\n",
              "    .dataframe thead th {\n",
              "        text-align: right;\n",
              "    }\n",
              "</style>\n",
              "<table border=\"1\" class=\"dataframe\">\n",
              "  <thead>\n",
              "    <tr style=\"text-align: right;\">\n",
              "      <th></th>\n",
              "      <th>i</th>\n",
              "      <th>me</th>\n",
              "      <th>my</th>\n",
              "      <th>myself</th>\n",
              "      <th>we</th>\n",
              "      <th>our</th>\n",
              "      <th>ours</th>\n",
              "      <th>ourselves</th>\n",
              "      <th>you</th>\n",
              "      <th>your</th>\n",
              "      <th>...</th>\n",
              "      <th>too</th>\n",
              "      <th>very</th>\n",
              "      <th>s</th>\n",
              "      <th>t</th>\n",
              "      <th>can</th>\n",
              "      <th>will</th>\n",
              "      <th>just</th>\n",
              "      <th>don</th>\n",
              "      <th>should</th>\n",
              "      <th>now</th>\n",
              "    </tr>\n",
              "  </thead>\n",
              "  <tbody>\n",
              "    <tr>\n",
              "      <th>0</th>\n",
              "      <td>0</td>\n",
              "      <td>0</td>\n",
              "      <td>0</td>\n",
              "      <td>0</td>\n",
              "      <td>1</td>\n",
              "      <td>0</td>\n",
              "      <td>0</td>\n",
              "      <td>0</td>\n",
              "      <td>1</td>\n",
              "      <td>0</td>\n",
              "      <td>...</td>\n",
              "      <td>0</td>\n",
              "      <td>0</td>\n",
              "      <td>0</td>\n",
              "      <td>0</td>\n",
              "      <td>0</td>\n",
              "      <td>0</td>\n",
              "      <td>0</td>\n",
              "      <td>0</td>\n",
              "      <td>0</td>\n",
              "      <td>0</td>\n",
              "    </tr>\n",
              "    <tr>\n",
              "      <th>1</th>\n",
              "      <td>0</td>\n",
              "      <td>0</td>\n",
              "      <td>0</td>\n",
              "      <td>0</td>\n",
              "      <td>0</td>\n",
              "      <td>0</td>\n",
              "      <td>0</td>\n",
              "      <td>0</td>\n",
              "      <td>0</td>\n",
              "      <td>0</td>\n",
              "      <td>...</td>\n",
              "      <td>0</td>\n",
              "      <td>0</td>\n",
              "      <td>0</td>\n",
              "      <td>0</td>\n",
              "      <td>0</td>\n",
              "      <td>0</td>\n",
              "      <td>0</td>\n",
              "      <td>0</td>\n",
              "      <td>0</td>\n",
              "      <td>0</td>\n",
              "    </tr>\n",
              "    <tr>\n",
              "      <th>2</th>\n",
              "      <td>0</td>\n",
              "      <td>0</td>\n",
              "      <td>0</td>\n",
              "      <td>0</td>\n",
              "      <td>0</td>\n",
              "      <td>0</td>\n",
              "      <td>0</td>\n",
              "      <td>0</td>\n",
              "      <td>1</td>\n",
              "      <td>0</td>\n",
              "      <td>...</td>\n",
              "      <td>0</td>\n",
              "      <td>0</td>\n",
              "      <td>0</td>\n",
              "      <td>0</td>\n",
              "      <td>0</td>\n",
              "      <td>0</td>\n",
              "      <td>0</td>\n",
              "      <td>0</td>\n",
              "      <td>0</td>\n",
              "      <td>0</td>\n",
              "    </tr>\n",
              "  </tbody>\n",
              "</table>\n",
              "<p>3 rows × 127 columns</p>\n",
              "</div>"
            ],
            "text/plain": [
              "   i  me  my  myself  we  our  ours  ourselves  you  your  ...  too  very  s  \\\n",
              "0  0   0   0       0   1    0     0          0    1     0  ...    0     0  0   \n",
              "1  0   0   0       0   0    0     0          0    0     0  ...    0     0  0   \n",
              "2  0   0   0       0   0    0     0          0    1     0  ...    0     0  0   \n",
              "\n",
              "   t  can  will  just  don  should  now  \n",
              "0  0    0     0     0    0       0    0  \n",
              "1  0    0     0     0    0       0    0  \n",
              "2  0    0     0     0    0       0    0  \n",
              "\n",
              "[3 rows x 127 columns]"
            ]
          },
          "metadata": {
            "tags": []
          },
          "execution_count": 29
        }
      ]
    },
    {
      "metadata": {
        "colab_type": "text",
        "id": "Ij27L9cPizzB"
      },
      "cell_type": "markdown",
      "source": [
        "# 2. Regex + Pandas Practice\n",
        "\n",
        "Load the contents of the following text file into your notebook:\n",
        "<https://raw.githubusercontent.com/CoreyMSchafer/code_snippets/master/Python-Regular-Expressions/data.txt>\n",
        "\n",
        "If you're using Google Colab then you will have to download the raw file from github and either upload to your google drive or upload it to the notebook like we have done with CSVs in the past."
      ]
    },
    {
      "metadata": {
        "colab_type": "text",
        "id": "F1CALmvAl0pQ"
      },
      "cell_type": "markdown",
      "source": [
        "## 2.1 Make sure your notebook has access to the .txt file"
      ]
    },
    {
      "metadata": {
        "colab_type": "code",
        "id": "EdByRNWgjcPx",
        "outputId": "917d8e1c-28f0-4601-b5ad-673956bb24c0",
        "colab": {
          "resources": {
            "http://localhost:8080/nbextensions/google.colab/files.js": {
              "data": "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",
              "ok": true,
              "headers": [
                [
                  "content-type",
                  "application/javascript"
                ]
              ],
              "status": 200,
              "status_text": ""
            }
          },
          "base_uri": "https://localhost:8080/",
          "height": 74
        }
      },
      "cell_type": "code",
      "source": [
        "from google.colab import files\n",
        "uploaded = files.upload()"
      ],
      "execution_count": 31,
      "outputs": [
        {
          "output_type": "display_data",
          "data": {
            "text/html": [
              "\n",
              "     <input type=\"file\" id=\"files-d7d97810-f6d9-44bf-93da-6115efbfcd85\" name=\"files[]\" multiple disabled />\n",
              "     <output id=\"result-d7d97810-f6d9-44bf-93da-6115efbfcd85\">\n",
              "      Upload widget is only available when the cell has been executed in the\n",
              "      current browser session. Please rerun this cell to enable.\n",
              "      </output>\n",
              "      <script src=\"/nbextensions/google.colab/files.js\"></script> "
            ],
            "text/plain": [
              "<IPython.core.display.HTML object>"
            ]
          },
          "metadata": {
            "tags": []
          }
        },
        {
          "output_type": "stream",
          "text": [
            "Saving data.txt to data.txt\n"
          ],
          "name": "stdout"
        }
      ]
    },
    {
      "metadata": {
        "colab_type": "text",
        "id": "TAR7mbJsl4hK",
        "toc-hr-collapsed": true
      },
      "cell_type": "markdown",
      "source": [
        "## 2.2 Read in the contents of the file"
      ]
    },
    {
      "metadata": {
        "colab_type": "code",
        "id": "3zutl-6Dkk0f",
        "outputId": "b5229e5c-4017-4091-a92d-0d74e59adfe4",
        "colab": {
          "base_uri": "https://localhost:8080/",
          "height": 54
        }
      },
      "cell_type": "code",
      "source": [
        "with open('data.txt', 'r', encoding='utf-8') as f:\n",
        "  contents = f.read()\n",
        "  \n",
        "contents"
      ],
      "execution_count": 56,
      "outputs": [
        {
          "output_type": "execute_result",
          "data": {
            "text/plain": [
              "\"Dave Martin\\n615-555-7164\\n173 Main St., Springfield RI 55924\\ndavemartin@bogusemail.com\\n\\nCharles Harris\\n800-555-5669\\n969 High St., Atlantis VA 34075\\ncharlesharris@bogusemail.com\\n\\nEric Williams\\n560-555-5153\\n806 1st St., Faketown AK 86847\\nlaurawilliams@bogusemail.com\\n\\nCorey Jefferson\\n900-555-9340\\n826 Elm St., Epicburg NE 10671\\ncoreyjefferson@bogusemail.com\\n\\nJennifer Martin-White\\n714-555-7405\\n212 Cedar St., Sunnydale CT 74983\\njenniferwhite@bogusemail.com\\n\\nErick Davis\\n800-555-6771\\n519 Washington St., Olympus TN 32425\\ntomdavis@bogusemail.com\\n\\nNeil Patterson\\n783-555-4799\\n625 Oak St., Dawnstar IL 61914\\nneilpatterson@bogusemail.com\\n\\nLaura Jefferson\\n516-555-4615\\n890 Main St., Pythonville LA 29947\\nlaurajefferson@bogusemail.com\\n\\nMaria Johnson\\n127-555-1867\\n884 High St., Braavos\\u200e ME 43597\\nmariajohnson@bogusemail.com\\n\\nMichael Arnold\\n608-555-4938\\n249 Elm St., Quahog OR 90938\\nmichaelarnold@bogusemail.com\\n\\nMichael Smith\\n568-555-6051\\n619 Park St., Winterfell VA 99000\\nmichaelsmith@bogusemail.com\\n\\nErik Stuart\\n292-555-1875\\n220 Cedar St., Lakeview NY 87282\\nrobertstuart@bogusemail.com\\n\\nLaura Martin\\n900-555-3205\\n391 High St., Smalltown WY 28362\\nlauramartin@bogusemail.com\\n\\nBarbara Martin\\n614-555-1166\\n121 Hill St., Braavos\\u200e UT 92474\\nbarbaramartin@bogusemail.com\\n\\nLinda Jackson\\n530-555-2676\\n433 Elm St., Westworld TX 61967\\nlindajackson@bogusemail.com\\n\\nEric Miller\\n470-555-2750\\n838 Main St., Balmora MT 56526\\nstevemiller@bogusemail.com\\n\\nDave Arnold\\n800-555-6089\\n732 High St., Valyria KY 97152\\ndavearnold@bogusemail.com\\n\\nJennifer Jacobs\\n880-555-8319\\n217 High St., Old-town IA 82767\\njenniferjacobs@bogusemail.com\\n\\nNeil Wilson\\n777-555-8378\\n191 Main St., Mordor IL 72160\\nneilwilson@bogusemail.com\\n\\nKurt Jackson\\n998-555-7385\\n607 Washington St., Blackwater NH 97183\\nkurtjackson@bogusemail.com\\n\\nMary Jacobs\\n800-555-7100\\n478 Oak St., Bedrock IA 58176\\nmaryjacobs@bogusemail.com\\n\\nMichael White\\n903-555-8277\\n906 Elm St., Mordor TX 89212\\nmichaelwhite@bogusemail.com\\n\\nJennifer Jenkins\\n196-555-5674\\n949 Main St., Smalltown SC 96962\\njenniferjenkins@bogusemail.com\\n\\nSam Wright\\n900-555-5118\\n835 Pearl St., Smalltown ND 77737\\nsamwright@bogusemail.com\\n\\nJohn Davis\\n905-555-1630\\n451 Lake St., Bedrock GA 34615\\njohndavis@bogusemail.com\\n\\nEric Davis\\n203-555-3475\\n419 Lake St., Balmora OR 30826\\nneildavis@bogusemail.com\\n\\nLaura Jackson\\n884-555-8444\\n443 Maple St., Quahog MS 29348\\nlaurajackson@bogusemail.com\\n\\nJohn Williams\\n904-555-8559\\n756 Hill St., Valyria KY 94854\\njohnwilliams@bogusemail.com\\n\\nMichael Martin\\n889-555-7393\\n216 High St., Olympus NV 21888\\nmichaelmartin@bogusemail.com\\n\\nMaggie Brown\\n195-555-2405\\n806 Lake St., Lakeview MD 59348\\nmaggiebrown@bogusemail.com\\n\\nErik Wilson\\n321-555-9053\\n354 Hill St., Mordor FL 74122\\nkurtwilson@bogusemail.com\\n\\nElizabeth Arnold\\n133-555-1711\\n805 Maple St., Winterfell NV 99431\\nelizabetharnold@bogusemail.com\\n\\nJane Martin\\n900-555-5428\\n418 Park St., Metropolis ID 16576\\njanemartin@bogusemail.com\\n\\nTravis Johnson\\n760-555-7147\\n749 Washington St., Braavos\\u200e SD 25668\\ntravisjohnson@bogusemail.com\\n\\nLaura Jefferson\\n391-555-6621\\n122 High St., Metropolis ME 29540\\nlaurajefferson@bogusemail.com\\n\\nTom Williams\\n932-555-7724\\n610 High St., Old-town FL 60758\\ntomwilliams@bogusemail.com\\n\\nJennifer Taylor\\n609-555-7908\\n332 Main St., Pythonville OH 78172\\njennifertaylor@bogusemail.com\\n\\nErick Wright\\n800-555-8810\\n858 Hill St., Blackwater NC 79714\\njenniferwright@bogusemail.com\\n\\nSteve Doe\\n149-555-7657\\n441 Elm St., Atlantis MS 87195\\nstevedoe@bogusemail.com\\n\\nKurt Davis\\n130-555-9709\\n404 Oak St., Atlantis ND 85386\\nkurtdavis@bogusemail.com\\n\\nCorey Harris\\n143-555-9295\\n286 Pearl St., Vice City TX 57112\\ncoreyharris@bogusemail.com\\n\\nNicole Taylor\\n903-555-9878\\n465 Hill St., Old-town LA 64102\\nnicoletaylor@bogusemail.com\\n\\nElizabeth Davis\\n574-555-3194\\n151 Lake St., Eerie SD 17880\\nelizabethdavis@bogusemail.com\\n\\nMaggie Jenkins\\n496-555-7533\\n504 Lake St., Gotham PA 46692\\nmaggiejenkins@bogusemail.com\\n\\nLinda Davis\\n210-555-3757\\n201 Pine St., Vice City AR 78455\\nlindadavis@bogusemail.com\\n\\nDave Moore\\n900-555-9598\\n251 Pine St., Old-town OK 29087\\ndavemoore@bogusemail.com\\n\\nLinda Jenkins\\n866-555-9844\\n117 High St., Bedrock NE 11899\\nlindajenkins@bogusemail.com\\n\\nEric White\\n669-555-7159\\n650 Oak St., Smalltown TN 43281\\nsamwhite@bogusemail.com\\n\\nLaura Robinson\\n152-555-7417\\n377 Pine St., Valyria NC 78036\\nlaurarobinson@bogusemail.com\\n\\nCharles Patterson\\n893-555-9832\\n416 Pearl St., Valyria AK 62260\\ncharlespatterson@bogusemail.com\\n\\nJoe Jackson\\n217-555-7123\\n683 Cedar St., South Park KS 66724\\njoejackson@bogusemail.com\\n\\nMichael Johnson\\n786-555-6544\\n288 Hill St., Smalltown AZ 18586\\nmichaeljohnson@bogusemail.com\\n\\nCorey Miller\\n780-555-2574\\n286 High St., Springfield IA 16272\\ncoreymiller@bogusemail.com\\n\\nJames Moore\\n926-555-8735\\n278 Main St., Gotham KY 89569\\njamesmoore@bogusemail.com\\n\\nJennifer Stuart\\n895-555-3539\\n766 Hill St., King's Landing GA 54999\\njenniferstuart@bogusemail.com\\n\\nCharles Martin\\n874-555-3949\\n775 High St., Faketown PA 89260\\ncharlesmartin@bogusemail.com\\n\\nEric Wilks\\n800-555-2420\\n885 Main St., Blackwater OH 61275\\njoewilks@bogusemail.com\\n\\nElizabeth Arnold\\n936-555-6340\\n528 Hill St., Atlantis NH 88289\\nelizabetharnold@bogusemail.com\\n\\nJohn Miller\\n372-555-9809\\n117 Cedar St., Thundera NM 75205\\njohnmiller@bogusemail.com\\n\\nCorey Jackson\\n890-555-5618\\n115 Oak St., Gotham UT 36433\\ncoreyjackson@bogusemail.com\\n\\nSam Thomas\\n670-555-3005\\n743 Lake St., Springfield MS 25473\\nsamthomas@bogusemail.com\\n\\nPatricia Thomas\\n509-555-5997\\n381 Hill St., Blackwater CT 30958\\npatriciathomas@bogusemail.com\\n\\nJennifer Davis\\n721-555-5632\\n125 Main St., Smalltown MT 62155\\njenniferdavis@bogusemail.com\\n\\nPatricia Brown\\n900-555-3567\\n292 Hill St., Gotham WV 57680\\npatriciabrown@bogusemail.com\\n\\nBarbara Williams\\n147-555-6830\\n514 Park St., Balmora NV 55462\\nbarbarawilliams@bogusemail.com\\n\\nJames Taylor\\n582-555-3426\\n776 Hill St., Dawnstar MA 51312\\njamestaylor@bogusemail.com\\n\\nEric Harris\\n400-555-1706\\n421 Elm St., Smalltown NV 72025\\nbarbaraharris@bogusemail.com\\n\\nTravis Anderson\\n525-555-1793\\n937 Cedar St., Thundera WA 78862\\ntravisanderson@bogusemail.com\\n\\nSam Robinson\\n317-555-6700\\n417 Pine St., Lakeview MD 13147\\nsamrobinson@bogusemail.com\\n\\nSteve Robinson\\n974-555-8301\\n478 Park St., Springfield NM 92369\\nsteverobinson@bogusemail.com\\n\\nMary Wilson\\n800-555-3216\\n708 Maple St., Braavos\\u200e UT 29551\\nmarywilson@bogusemail.com\\n\\nSam Wilson\\n746-555-4094\\n557 Pearl St., Westworld KS 23225\\nsamwilson@bogusemail.com\\n\\nCharles Jones\\n922-555-1773\\n855 Hill St., Olympus HI 81427\\ncharlesjones@bogusemail.com\\n\\nLaura Brown\\n711-555-4427\\n980 Maple St., Smalltown MO 96421\\nlaurabrown@bogusemail.com\\n\\nTom Harris\\n355-555-1872\\n676 Hill St., Blackwater AR 96698\\ntomharris@bogusemail.com\\n\\nPatricia Taylor\\n852-555-6521\\n588 Pine St., Olympus FL 98412\\npatriciataylor@bogusemail.com\\n\\nBarbara Williams\\n691-555-5773\\n351 Elm St., Sunnydale GA 26245\\nbarbarawilliams@bogusemail.com\\n\\nMaggie Johnson\\n332-555-5441\\n948 Cedar St., Quahog DE 56449\\nmaggiejohnson@bogusemail.com\\n\\nKurt Miller\\n900-555-7755\\n381 Hill St., Quahog AL 97503\\nkurtmiller@bogusemail.com\\n\\nNeil Stuart\\n379-555-3685\\n496 Cedar St., Sunnydale RI 49113\\nneilstuart@bogusemail.com\\n\\nLinda Patterson\\n127-555-9682\\n736 Cedar St., Lakeview KY 47472\\nlindapatterson@bogusemail.com\\n\\nCharles Davis\\n789-555-7032\\n678 Lake St., Mordor MN 11845\\ncharlesdavis@bogusemail.com\\n\\nJennifer Jefferson\\n783-555-5135\\n289 Park St., Sunnydale WA 74526\\njenniferjefferson@bogusemail.com\\n\\nErick Taylor\\n315-555-6507\\n245 Washington St., Bedrock IL 26941\\ncoreytaylor@bogusemail.com\\n\\nRobert Wilks\\n481-555-5835\\n573 Elm St., Sunnydale IL 47182\\nrobertwilks@bogusemail.com\\n\\nTravis Jackson\\n365-555-8287\\n851 Lake St., Metropolis PA 22772\\ntravisjackson@bogusemail.com\\n\\nTravis Jackson\\n911-555-7535\\n489 Oak St., Atlantis HI 73725\\ntravisjackson@bogusemail.com\\n\\nLaura Wilks\\n681-555-2460\\n371 Pearl St., Smalltown SC 47466\\nlaurawilks@bogusemail.com\\n\\nNeil Arnold\\n274-555-9800\\n504 Oak St., Faketown PA 73860\\nneilarnold@bogusemail.com\\n\\nLinda Johnson\\n800-555-1372\\n667 High St., Balmora IN 82473\\nlindajohnson@bogusemail.com\\n\\nJennifer Wilson\\n300-555-7821\\n266 Pine St., Westworld DC 58720\\njenniferwilson@bogusemail.com\\n\\nNicole White\\n133-555-3889\\n276 High St., Braavos\\u200e IL 57764\\nnicolewhite@bogusemail.com\\n\\nMaria Arnold\\n705-555-6863\\n491 Elm St., Metropolis PA 31836\\nmariaarnold@bogusemail.com\\n\\nJennifer Davis\\n215-555-9449\\n859 Cedar St., Old-town MT 31169\\njenniferdavis@bogusemail.com\\n\\nMary Patterson\\n988-555-6112\\n956 Park St., Valyria CT 81541\\nmarypatterson@bogusemail.com\\n\\nJane Stuart\\n623-555-3006\\n983 Oak St., Old-town RI 15445\\njanestuart@bogusemail.com\\n\\nRobert Davis\\n192-555-4977\\n789 Maple St., Mordor IN 22215\\nrobertdavis@bogusemail.com\\n\\nJames Taylor\\n178-555-4899\\n439 Hill St., Olympus NV 39308\\njamestaylor@bogusemail.com\\n\\nEric Stuart\\n952-555-3089\\n777 High St., King's Landing AZ 16547\\njohnstuart@bogusemail.com\\n\\nCharles Miller\\n900-555-6426\\n207 Washington St., Blackwater MA 24886\\ncharlesmiller@bogusemail.com\\n\""
            ]
          },
          "metadata": {
            "tags": []
          },
          "execution_count": 56
        }
      ]
    },
    {
      "metadata": {
        "id": "bHzYnSSm0S3S",
        "colab_type": "code",
        "colab": {
          "base_uri": "https://localhost:8080/",
          "height": 34
        },
        "outputId": "a0642ec8-ef49-4872-83c9-b7153b29885c"
      },
      "cell_type": "code",
      "source": [
        "type(contents)"
      ],
      "execution_count": 57,
      "outputs": [
        {
          "output_type": "execute_result",
          "data": {
            "text/plain": [
              "str"
            ]
          },
          "metadata": {
            "tags": []
          },
          "execution_count": 57
        }
      ]
    },
    {
      "metadata": {
        "colab_type": "text",
        "id": "Oxxpx8l0k-wP"
      },
      "cell_type": "markdown",
      "source": [
        "## 2.3 Turn the \"unstructured\" .txt file into a \"structured\" dataframe\n",
        "Once you have read in the file's contents your task is to get this unstructured text data into a dataframe with the following headers:\n",
        "\n",
        "- First Name\n",
        "- Last Name\n",
        "- Email\n",
        "- Phone Number\n",
        "- Street Address\n",
        "- City\n",
        "- State\n",
        "- Zipcode"
      ]
    },
    {
      "metadata": {
        "colab_type": "code",
        "id": "9Xqo-GPdk-OM",
        "outputId": "9d324a14-238f-4e55-ca4b-ed8a836990b1",
        "colab": {
          "base_uri": "https://localhost:8080/",
          "height": 34
        }
      },
      "cell_type": "code",
      "source": [
        "contents = contents.split('\\n') #seperate into strings by newline\n",
        "contents = np.array(contents)\n",
        "contents.shape"
      ],
      "execution_count": 58,
      "outputs": [
        {
          "output_type": "execute_result",
          "data": {
            "text/plain": [
              "(500,)"
            ]
          },
          "metadata": {
            "tags": []
          },
          "execution_count": 58
        }
      ]
    },
    {
      "metadata": {
        "id": "5IVoHsjR_BMT",
        "colab_type": "code",
        "colab": {
          "base_uri": "https://localhost:8080/",
          "height": 34
        },
        "outputId": "870fb6f8-0111-4a1f-8158-a8592ce1bbe7"
      },
      "cell_type": "code",
      "source": [
        "contents = contents.reshape(int(contents.shape[0]/5), 5)\n",
        "contents.shape\n",
        "#five columns: name, phone number, address+state+city+zip, email, blank\n",
        "#each has 100 rows\n",
        "#makes a list out of every five instances"
      ],
      "execution_count": 59,
      "outputs": [
        {
          "output_type": "execute_result",
          "data": {
            "text/plain": [
              "(100, 5)"
            ]
          },
          "metadata": {
            "tags": []
          },
          "execution_count": 59
        }
      ]
    },
    {
      "metadata": {
        "id": "l5bxUoOtBXKi",
        "colab_type": "code",
        "colab": {
          "base_uri": "https://localhost:8080/",
          "height": 279
        },
        "outputId": "579b537a-ce03-4825-9d90-96a904018aed"
      },
      "cell_type": "code",
      "source": [
        "df = pd.DataFrame(contents)\n",
        "df.head()"
      ],
      "execution_count": 60,
      "outputs": [
        {
          "output_type": "execute_result",
          "data": {
            "text/html": [
              "<div>\n",
              "<style scoped>\n",
              "    .dataframe tbody tr th:only-of-type {\n",
              "        vertical-align: middle;\n",
              "    }\n",
              "\n",
              "    .dataframe tbody tr th {\n",
              "        vertical-align: top;\n",
              "    }\n",
              "\n",
              "    .dataframe thead th {\n",
              "        text-align: right;\n",
              "    }\n",
              "</style>\n",
              "<table border=\"1\" class=\"dataframe\">\n",
              "  <thead>\n",
              "    <tr style=\"text-align: right;\">\n",
              "      <th></th>\n",
              "      <th>0</th>\n",
              "      <th>1</th>\n",
              "      <th>2</th>\n",
              "      <th>3</th>\n",
              "      <th>4</th>\n",
              "    </tr>\n",
              "  </thead>\n",
              "  <tbody>\n",
              "    <tr>\n",
              "      <th>0</th>\n",
              "      <td>Dave Martin</td>\n",
              "      <td>615-555-7164</td>\n",
              "      <td>173 Main St., Springfield RI 55924</td>\n",
              "      <td>davemartin@bogusemail.com</td>\n",
              "      <td></td>\n",
              "    </tr>\n",
              "    <tr>\n",
              "      <th>1</th>\n",
              "      <td>Charles Harris</td>\n",
              "      <td>800-555-5669</td>\n",
              "      <td>969 High St., Atlantis VA 34075</td>\n",
              "      <td>charlesharris@bogusemail.com</td>\n",
              "      <td></td>\n",
              "    </tr>\n",
              "    <tr>\n",
              "      <th>2</th>\n",
              "      <td>Eric Williams</td>\n",
              "      <td>560-555-5153</td>\n",
              "      <td>806 1st St., Faketown AK 86847</td>\n",
              "      <td>laurawilliams@bogusemail.com</td>\n",
              "      <td></td>\n",
              "    </tr>\n",
              "    <tr>\n",
              "      <th>3</th>\n",
              "      <td>Corey Jefferson</td>\n",
              "      <td>900-555-9340</td>\n",
              "      <td>826 Elm St., Epicburg NE 10671</td>\n",
              "      <td>coreyjefferson@bogusemail.com</td>\n",
              "      <td></td>\n",
              "    </tr>\n",
              "    <tr>\n",
              "      <th>4</th>\n",
              "      <td>Jennifer Martin-White</td>\n",
              "      <td>714-555-7405</td>\n",
              "      <td>212 Cedar St., Sunnydale CT 74983</td>\n",
              "      <td>jenniferwhite@bogusemail.com</td>\n",
              "      <td></td>\n",
              "    </tr>\n",
              "  </tbody>\n",
              "</table>\n",
              "</div>"
            ],
            "text/plain": [
              "                       0             1                                   2  \\\n",
              "0            Dave Martin  615-555-7164  173 Main St., Springfield RI 55924   \n",
              "1         Charles Harris  800-555-5669     969 High St., Atlantis VA 34075   \n",
              "2          Eric Williams  560-555-5153      806 1st St., Faketown AK 86847   \n",
              "3        Corey Jefferson  900-555-9340      826 Elm St., Epicburg NE 10671   \n",
              "4  Jennifer Martin-White  714-555-7405   212 Cedar St., Sunnydale CT 74983   \n",
              "\n",
              "                               3 4  \n",
              "0      davemartin@bogusemail.com    \n",
              "1   charlesharris@bogusemail.com    \n",
              "2   laurawilliams@bogusemail.com    \n",
              "3  coreyjefferson@bogusemail.com    \n",
              "4   jenniferwhite@bogusemail.com    "
            ]
          },
          "metadata": {
            "tags": []
          },
          "execution_count": 60
        }
      ]
    },
    {
      "metadata": {
        "id": "SMIEKomZOGJm",
        "colab_type": "code",
        "colab": {
          "base_uri": "https://localhost:8080/",
          "height": 383
        },
        "outputId": "0e314943-5071-4e9c-ac8d-00443ebfaa34"
      },
      "cell_type": "code",
      "source": [
        "df['First_Name'] = df[0].str.extract('(^\\w+)', expand=True)\n",
        "df['Last_Name'] = df[0].str.extract('(\\w+$)', expand = True)\n",
        "df['Email'] = df[3]\n",
        "df['Phone'] = df[1]\n",
        "df['Address'] = df[2].str.extract('(^\\w+\\s\\w+\\s\\w+\\.)', expand = True)\n",
        "df['City'] = df[2].str.extract('(\\s\\D\\D\\s)', expand=True)\n",
        "df['State'] = df[2].str.extract('(,\\s\\w+)', expand=True)\n",
        "df['State'] = df['State'].str.strip(', ')\n",
        "df['Zip'] = df[2].str.extract('(\\w+$)', expand = True)\n",
        "\n",
        "df = df.drop(columns=[0,1,2,3,4])\n",
        "df.head()"
      ],
      "execution_count": 61,
      "outputs": [
        {
          "output_type": "execute_result",
          "data": {
            "text/html": [
              "<div>\n",
              "<style scoped>\n",
              "    .dataframe tbody tr th:only-of-type {\n",
              "        vertical-align: middle;\n",
              "    }\n",
              "\n",
              "    .dataframe tbody tr th {\n",
              "        vertical-align: top;\n",
              "    }\n",
              "\n",
              "    .dataframe thead th {\n",
              "        text-align: right;\n",
              "    }\n",
              "</style>\n",
              "<table border=\"1\" class=\"dataframe\">\n",
              "  <thead>\n",
              "    <tr style=\"text-align: right;\">\n",
              "      <th></th>\n",
              "      <th>First_Name</th>\n",
              "      <th>Last_Name</th>\n",
              "      <th>Email</th>\n",
              "      <th>Phone</th>\n",
              "      <th>Address</th>\n",
              "      <th>City</th>\n",
              "      <th>State</th>\n",
              "      <th>Zip</th>\n",
              "    </tr>\n",
              "  </thead>\n",
              "  <tbody>\n",
              "    <tr>\n",
              "      <th>0</th>\n",
              "      <td>Dave</td>\n",
              "      <td>Martin</td>\n",
              "      <td>davemartin@bogusemail.com</td>\n",
              "      <td>615-555-7164</td>\n",
              "      <td>173 Main St.</td>\n",
              "      <td>RI</td>\n",
              "      <td>Springfield</td>\n",
              "      <td>55924</td>\n",
              "    </tr>\n",
              "    <tr>\n",
              "      <th>1</th>\n",
              "      <td>Charles</td>\n",
              "      <td>Harris</td>\n",
              "      <td>charlesharris@bogusemail.com</td>\n",
              "      <td>800-555-5669</td>\n",
              "      <td>969 High St.</td>\n",
              "      <td>VA</td>\n",
              "      <td>Atlantis</td>\n",
              "      <td>34075</td>\n",
              "    </tr>\n",
              "    <tr>\n",
              "      <th>2</th>\n",
              "      <td>Eric</td>\n",
              "      <td>Williams</td>\n",
              "      <td>laurawilliams@bogusemail.com</td>\n",
              "      <td>560-555-5153</td>\n",
              "      <td>806 1st St.</td>\n",
              "      <td>AK</td>\n",
              "      <td>Faketown</td>\n",
              "      <td>86847</td>\n",
              "    </tr>\n",
              "    <tr>\n",
              "      <th>3</th>\n",
              "      <td>Corey</td>\n",
              "      <td>Jefferson</td>\n",
              "      <td>coreyjefferson@bogusemail.com</td>\n",
              "      <td>900-555-9340</td>\n",
              "      <td>826 Elm St.</td>\n",
              "      <td>NE</td>\n",
              "      <td>Epicburg</td>\n",
              "      <td>10671</td>\n",
              "    </tr>\n",
              "    <tr>\n",
              "      <th>4</th>\n",
              "      <td>Jennifer</td>\n",
              "      <td>White</td>\n",
              "      <td>jenniferwhite@bogusemail.com</td>\n",
              "      <td>714-555-7405</td>\n",
              "      <td>212 Cedar St.</td>\n",
              "      <td>CT</td>\n",
              "      <td>Sunnydale</td>\n",
              "      <td>74983</td>\n",
              "    </tr>\n",
              "  </tbody>\n",
              "</table>\n",
              "</div>"
            ],
            "text/plain": [
              "  First_Name  Last_Name                          Email         Phone  \\\n",
              "0       Dave     Martin      davemartin@bogusemail.com  615-555-7164   \n",
              "1    Charles     Harris   charlesharris@bogusemail.com  800-555-5669   \n",
              "2       Eric   Williams   laurawilliams@bogusemail.com  560-555-5153   \n",
              "3      Corey  Jefferson  coreyjefferson@bogusemail.com  900-555-9340   \n",
              "4   Jennifer      White   jenniferwhite@bogusemail.com  714-555-7405   \n",
              "\n",
              "         Address  City        State    Zip  \n",
              "0   173 Main St.   RI   Springfield  55924  \n",
              "1   969 High St.   VA      Atlantis  34075  \n",
              "2    806 1st St.   AK      Faketown  86847  \n",
              "3    826 Elm St.   NE      Epicburg  10671  \n",
              "4  212 Cedar St.   CT     Sunnydale  74983  "
            ]
          },
          "metadata": {
            "tags": []
          },
          "execution_count": 61
        }
      ]
    },
    {
      "metadata": {
        "colab_type": "text",
        "id": "udWbMfZdimhT"
      },
      "cell_type": "markdown",
      "source": [
        "# 3. Web Scraping + Pandas\n",
        "\n",
        "Scrape the unordered list of information about Ohio University President's salaries from this article: \n",
        "[Ohio Private University President's Salaries](https://www.cleveland.com/metro/2017/12/case_western_reserve_university_president_barbara_snyders_base_salary_and_bonus_pay_tops_among_private_colleges_in_ohio.html)\n",
        "\n",
        "Get the data from this webpage into a dataframe with the following headers:\n",
        "\n",
        "- First Name\n",
        "- Last Name\n",
        "- School\n",
        "- Salary\n",
        "\n",
        "Salary information should be stored as an integer and not have \"$\" or commas \",\"\n"
      ]
    },
    {
      "metadata": {
        "colab_type": "code",
        "id": "cRq2bzEfjdLY",
        "outputId": "6519d6fe-be9a-4bb9-cc37-6f365c90dbd8",
        "colab": {}
      },
      "cell_type": "code",
      "source": [
        "##### Your Code Here #####\n",
        "raise Exception(\"\\nThis task is not complete. \\nReplace this line with your code for the task.\")"
      ],
      "execution_count": 0,
      "outputs": [
        {
          "output_type": "error",
          "ename": "Exception",
          "evalue": "\nThis task is not complete. \nReplace this line with your code for the task.",
          "traceback": [
            "\u001b[0;31m---------------------------------------------------------------------------\u001b[0m",
            "\u001b[0;31mException\u001b[0m                                 Traceback (most recent call last)",
            "\u001b[0;32m<ipython-input-18-06e77bc621dd>\u001b[0m in \u001b[0;36m<module>\u001b[0;34m\u001b[0m\n\u001b[1;32m      1\u001b[0m \u001b[0;31m##### Your Code Here #####\u001b[0m\u001b[0;34m\u001b[0m\u001b[0;34m\u001b[0m\u001b[0;34m\u001b[0m\u001b[0m\n\u001b[0;32m----> 2\u001b[0;31m \u001b[0;32mraise\u001b[0m \u001b[0mException\u001b[0m\u001b[0;34m(\u001b[0m\u001b[0;34m\"\\nThis task is not complete. \\nReplace this line with your code for the task.\"\u001b[0m\u001b[0;34m)\u001b[0m\u001b[0;34m\u001b[0m\u001b[0;34m\u001b[0m\u001b[0m\n\u001b[0m",
            "\u001b[0;31mException\u001b[0m: \nThis task is not complete. \nReplace this line with your code for the task."
          ]
        }
      ]
    },
    {
      "metadata": {
        "colab_type": "text",
        "id": "1dCb1q8XphcP",
        "toc-hr-collapsed": true
      },
      "cell_type": "markdown",
      "source": [
        "# 4. Stretch Goals\n",
        "\n",
        "* Write a web scraper that can scrape \"Data Scientist\" job listings from indeed.com.\n",
        "* Look ahead to some of the topics from later this week:\n",
        " - Tokenization\n",
        " - Stemming\n",
        " - Lemmatization\n",
        " - Chunking\n",
        " - Part of Speech Tagging\n",
        " - Named Entity Recognition\n",
        " - Document Classification"
      ]
    }
  ]
}